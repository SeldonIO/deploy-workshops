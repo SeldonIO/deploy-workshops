{
 "cells": [
  {
   "cell_type": "markdown",
   "metadata": {},
   "source": [
    "# Hands-on Workshop - *Predicting product ratings from reviews*"
   ]
  },
  {
   "cell_type": "markdown",
   "metadata": {},
   "source": [
    "This workshop is focused on the creation, deployment, monitoring and management of a machine learning model for predicting product ratings from reviews.\n",
    "\n",
    "### Tom - this isn't completely relevant anymore, will change it before workshop to talk about pretrained model being used etc, so just ignore for now\n",
    "\n",
    "In this notebook we will be exploring the data, and training the machine learning model itself; in the form of a Tensorflow Keras model. We will then deploy a second Tensorflow model with differing architecture as a Canary model to demonstrate the A/B testing functionality Seldon provides. Then we will begin to add the advanced monitoring and explainability that Seldon Alibi is famed for. \n",
    "\n",
    "-----------------------------------\n",
    "Firstly, we will install and import the relevant packages which we will use throughout the exploration, training, and deployment process. "
   ]
  },
  {
   "cell_type": "code",
   "execution_count": 1,
   "metadata": {
    "collapsed": true
   },
   "outputs": [
    {
     "name": "stdout",
     "output_type": "stream",
     "text": [
      "Requirement already satisfied: transformers in /home/seldon/PycharmProjects/deploy-workshops/venv/nlp-ratings/lib/python3.8/site-packages (4.20.0)\n",
      "Requirement already satisfied: requests in /home/seldon/PycharmProjects/deploy-workshops/venv/nlp-ratings/lib/python3.8/site-packages (from transformers) (2.28.0)\n",
      "Requirement already satisfied: tokenizers!=0.11.3,<0.13,>=0.11.1 in /home/seldon/PycharmProjects/deploy-workshops/venv/nlp-ratings/lib/python3.8/site-packages (from transformers) (0.12.1)\n",
      "Requirement already satisfied: tqdm>=4.27 in /home/seldon/PycharmProjects/deploy-workshops/venv/nlp-ratings/lib/python3.8/site-packages (from transformers) (4.64.0)\n",
      "Requirement already satisfied: pyyaml>=5.1 in /home/seldon/PycharmProjects/deploy-workshops/venv/nlp-ratings/lib/python3.8/site-packages (from transformers) (5.4.1)\n",
      "Requirement already satisfied: filelock in /home/seldon/PycharmProjects/deploy-workshops/venv/nlp-ratings/lib/python3.8/site-packages (from transformers) (3.7.1)\n",
      "Requirement already satisfied: numpy>=1.17 in /home/seldon/PycharmProjects/deploy-workshops/venv/nlp-ratings/lib/python3.8/site-packages (from transformers) (1.22.4)\n",
      "Requirement already satisfied: huggingface-hub<1.0,>=0.1.0 in /home/seldon/PycharmProjects/deploy-workshops/venv/nlp-ratings/lib/python3.8/site-packages (from transformers) (0.7.0)\n",
      "Requirement already satisfied: packaging>=20.0 in /home/seldon/PycharmProjects/deploy-workshops/venv/nlp-ratings/lib/python3.8/site-packages (from transformers) (21.3)\n",
      "Requirement already satisfied: regex!=2019.12.17 in /home/seldon/PycharmProjects/deploy-workshops/venv/nlp-ratings/lib/python3.8/site-packages (from transformers) (2022.6.2)\n",
      "Requirement already satisfied: typing-extensions>=3.7.4.3 in /home/seldon/PycharmProjects/deploy-workshops/venv/nlp-ratings/lib/python3.8/site-packages (from huggingface-hub<1.0,>=0.1.0->transformers) (4.2.0)\n",
      "Requirement already satisfied: pyparsing!=3.0.5,>=2.0.2 in /home/seldon/PycharmProjects/deploy-workshops/venv/nlp-ratings/lib/python3.8/site-packages (from packaging>=20.0->transformers) (3.0.9)\n",
      "Requirement already satisfied: urllib3<1.27,>=1.21.1 in /home/seldon/PycharmProjects/deploy-workshops/venv/nlp-ratings/lib/python3.8/site-packages (from requests->transformers) (1.26.5)\n",
      "Requirement already satisfied: charset-normalizer~=2.0.0 in /home/seldon/PycharmProjects/deploy-workshops/venv/nlp-ratings/lib/python3.8/site-packages (from requests->transformers) (2.0.12)\n",
      "Requirement already satisfied: idna<4,>=2.5 in /home/seldon/PycharmProjects/deploy-workshops/venv/nlp-ratings/lib/python3.8/site-packages (from requests->transformers) (3.3)\n",
      "Requirement already satisfied: certifi>=2017.4.17 in /home/seldon/PycharmProjects/deploy-workshops/venv/nlp-ratings/lib/python3.8/site-packages (from requests->transformers) (2022.6.15)\n",
      "\u001b[33mWARNING: You are using pip version 21.3.1; however, version 22.1.2 is available.\n",
      "You should consider upgrading via the '/home/seldon/PycharmProjects/deploy-workshops/venv/nlp-ratings/bin/python -m pip install --upgrade pip' command.\u001b[0m\n",
      "Collecting seldon_deploy_sdk\n",
      "  Using cached seldon_deploy_sdk-1.5.0-py3-none-any.whl (807 kB)\n",
      "Requirement already satisfied: python-dateutil>=2.1 in /home/seldon/PycharmProjects/deploy-workshops/venv/nlp-ratings/lib/python3.8/site-packages (from seldon_deploy_sdk) (2.8.2)\n",
      "Requirement already satisfied: urllib3>=1.23 in /home/seldon/PycharmProjects/deploy-workshops/venv/nlp-ratings/lib/python3.8/site-packages (from seldon_deploy_sdk) (1.26.5)\n",
      "Requirement already satisfied: certifi>=2017.4.17 in /home/seldon/PycharmProjects/deploy-workshops/venv/nlp-ratings/lib/python3.8/site-packages (from seldon_deploy_sdk) (2022.6.15)\n",
      "Requirement already satisfied: six>=1.10 in /home/seldon/PycharmProjects/deploy-workshops/venv/nlp-ratings/lib/python3.8/site-packages (from seldon_deploy_sdk) (1.16.0)\n",
      "Collecting Authlib<=0.16.0\n",
      "  Using cached Authlib-0.15.5-py2.py3-none-any.whl (203 kB)\n",
      "Requirement already satisfied: cryptography in /home/seldon/PycharmProjects/deploy-workshops/venv/nlp-ratings/lib/python3.8/site-packages (from Authlib<=0.16.0->seldon_deploy_sdk) (3.4.8)\n",
      "Requirement already satisfied: cffi>=1.12 in /home/seldon/PycharmProjects/deploy-workshops/venv/nlp-ratings/lib/python3.8/site-packages (from cryptography->Authlib<=0.16.0->seldon_deploy_sdk) (1.15.0)\n",
      "Requirement already satisfied: pycparser in /home/seldon/PycharmProjects/deploy-workshops/venv/nlp-ratings/lib/python3.8/site-packages (from cffi>=1.12->cryptography->Authlib<=0.16.0->seldon_deploy_sdk) (2.21)\n",
      "Installing collected packages: Authlib, seldon-deploy-sdk\n",
      "Successfully installed Authlib-0.15.5 seldon-deploy-sdk-1.5.0\n",
      "\u001b[33mWARNING: You are using pip version 21.3.1; however, version 22.1.2 is available.\n",
      "You should consider upgrading via the '/home/seldon/PycharmProjects/deploy-workshops/venv/nlp-ratings/bin/python -m pip install --upgrade pip' command.\u001b[0m\n",
      "Collecting alibi==0.6.4\n",
      "  Using cached alibi-0.6.4-py3-none-any.whl (397 kB)\n",
      "Collecting Pillow<10.0,>=5.4.1\n",
      "  Downloading Pillow-9.1.1-cp38-cp38-manylinux_2_17_x86_64.manylinux2014_x86_64.whl (3.1 MB)\n",
      "     |████████████████████████████████| 3.1 MB 3.3 MB/s            \n",
      "\u001b[?25hCollecting scikit-image!=0.17.1,<0.20,>=0.14.2\n",
      "  Downloading scikit_image-0.19.3-cp38-cp38-manylinux_2_17_x86_64.manylinux2014_x86_64.whl (14.0 MB)\n",
      "     |████████████████████████████████| 14.0 MB 12.3 MB/s            \n",
      "\u001b[?25hCollecting scikit-learn<1.1.0,>=0.20.2\n",
      "  Downloading scikit_learn-1.0.2-cp38-cp38-manylinux_2_17_x86_64.manylinux2014_x86_64.whl (26.7 MB)\n",
      "     |████████████████████████████████| 26.7 MB 15.9 MB/s            \n",
      "\u001b[?25hRequirement already satisfied: requests<3.0.0,>=2.21.0 in /home/seldon/PycharmProjects/deploy-workshops/venv/nlp-ratings/lib/python3.8/site-packages (from alibi==0.6.4) (2.28.0)\n",
      "Requirement already satisfied: attrs<22.0.0,>=19.2.0 in /home/seldon/PycharmProjects/deploy-workshops/venv/nlp-ratings/lib/python3.8/site-packages (from alibi==0.6.4) (21.4.0)\n",
      "Requirement already satisfied: pandas<2.0.0,>=0.23.3 in /home/seldon/PycharmProjects/deploy-workshops/venv/nlp-ratings/lib/python3.8/site-packages (from alibi==0.6.4) (1.4.2)\n",
      "Requirement already satisfied: scipy<2.0.0,>=1.1.0 in /home/seldon/PycharmProjects/deploy-workshops/venv/nlp-ratings/lib/python3.8/site-packages (from alibi==0.6.4) (1.8.1)\n",
      "Collecting spacy[lookups]<4.0.0,>=2.0.0\n",
      "  Downloading spacy-3.3.1-cp38-cp38-manylinux_2_17_x86_64.manylinux2014_x86_64.whl (6.5 MB)\n",
      "     |████████████████████████████████| 6.5 MB 10.5 MB/s            \n",
      "\u001b[?25hRequirement already satisfied: tqdm<5.0.0,>=4.28.1 in /home/seldon/PycharmProjects/deploy-workshops/venv/nlp-ratings/lib/python3.8/site-packages (from alibi==0.6.4) (4.64.0)\n",
      "Requirement already satisfied: transformers<5.0.0,>=4.7.0 in /home/seldon/PycharmProjects/deploy-workshops/venv/nlp-ratings/lib/python3.8/site-packages (from alibi==0.6.4) (4.20.0)\n",
      "Requirement already satisfied: tensorflow!=2.6.0,!=2.6.1,<2.8.0,>=2.0.0 in /home/seldon/PycharmProjects/deploy-workshops/venv/nlp-ratings/lib/python3.8/site-packages (from alibi==0.6.4) (2.7.3)\n",
      "Requirement already satisfied: dill<0.4.0,>=0.3.0 in /home/seldon/PycharmProjects/deploy-workshops/venv/nlp-ratings/lib/python3.8/site-packages (from alibi==0.6.4) (0.3.5.1)\n",
      "Requirement already satisfied: numpy<2.0.0,>=1.16.2 in /home/seldon/PycharmProjects/deploy-workshops/venv/nlp-ratings/lib/python3.8/site-packages (from alibi==0.6.4) (1.22.4)\n",
      "Collecting matplotlib<4.0.0,>=3.0.0\n",
      "  Downloading matplotlib-3.5.2-cp38-cp38-manylinux_2_5_x86_64.manylinux1_x86_64.whl (11.3 MB)\n",
      "     |████████████████████████████████| 11.3 MB 7.6 MB/s            \n",
      "\u001b[?25hCollecting cycler>=0.10\n",
      "  Using cached cycler-0.11.0-py3-none-any.whl (6.4 kB)\n",
      "Requirement already satisfied: python-dateutil>=2.7 in /home/seldon/PycharmProjects/deploy-workshops/venv/nlp-ratings/lib/python3.8/site-packages (from matplotlib<4.0.0,>=3.0.0->alibi==0.6.4) (2.8.2)\n",
      "Collecting fonttools>=4.22.0\n",
      "  Using cached fonttools-4.33.3-py3-none-any.whl (930 kB)\n",
      "Requirement already satisfied: pyparsing>=2.2.1 in /home/seldon/PycharmProjects/deploy-workshops/venv/nlp-ratings/lib/python3.8/site-packages (from matplotlib<4.0.0,>=3.0.0->alibi==0.6.4) (3.0.9)\n"
     ]
    },
    {
     "name": "stdout",
     "output_type": "stream",
     "text": [
      "Collecting kiwisolver>=1.0.1\n",
      "  Downloading kiwisolver-1.4.3-cp38-cp38-manylinux_2_5_x86_64.manylinux1_x86_64.whl (1.2 MB)\n",
      "     |████████████████████████████████| 1.2 MB 16.7 MB/s            \n",
      "\u001b[?25hRequirement already satisfied: packaging>=20.0 in /home/seldon/PycharmProjects/deploy-workshops/venv/nlp-ratings/lib/python3.8/site-packages (from matplotlib<4.0.0,>=3.0.0->alibi==0.6.4) (21.3)\n",
      "Requirement already satisfied: pytz>=2020.1 in /home/seldon/PycharmProjects/deploy-workshops/venv/nlp-ratings/lib/python3.8/site-packages (from pandas<2.0.0,>=0.23.3->alibi==0.6.4) (2022.1)\n",
      "Requirement already satisfied: certifi>=2017.4.17 in /home/seldon/PycharmProjects/deploy-workshops/venv/nlp-ratings/lib/python3.8/site-packages (from requests<3.0.0,>=2.21.0->alibi==0.6.4) (2022.6.15)\n",
      "Requirement already satisfied: idna<4,>=2.5 in /home/seldon/PycharmProjects/deploy-workshops/venv/nlp-ratings/lib/python3.8/site-packages (from requests<3.0.0,>=2.21.0->alibi==0.6.4) (3.3)\n",
      "Requirement already satisfied: charset-normalizer~=2.0.0 in /home/seldon/PycharmProjects/deploy-workshops/venv/nlp-ratings/lib/python3.8/site-packages (from requests<3.0.0,>=2.21.0->alibi==0.6.4) (2.0.12)\n",
      "Requirement already satisfied: urllib3<1.27,>=1.21.1 in /home/seldon/PycharmProjects/deploy-workshops/venv/nlp-ratings/lib/python3.8/site-packages (from requests<3.0.0,>=2.21.0->alibi==0.6.4) (1.26.5)\n",
      "Collecting tifffile>=2019.7.26\n",
      "  Downloading tifffile-2022.5.4-py3-none-any.whl (195 kB)\n",
      "     |████████████████████████████████| 195 kB 15.8 MB/s            \n",
      "\u001b[?25hCollecting PyWavelets>=1.1.1\n",
      "  Downloading PyWavelets-1.3.0-cp38-cp38-manylinux_2_17_x86_64.manylinux2014_x86_64.whl (6.9 MB)\n",
      "     |████████████████████████████████| 6.9 MB 12.2 MB/s            \n",
      "\u001b[?25hCollecting networkx>=2.2\n",
      "  Downloading networkx-2.8.4-py3-none-any.whl (2.0 MB)\n",
      "     |████████████████████████████████| 2.0 MB 13.5 MB/s            \n",
      "\u001b[?25hCollecting imageio>=2.4.1\n",
      "  Using cached imageio-2.19.3-py3-none-any.whl (3.4 MB)\n",
      "Requirement already satisfied: threadpoolctl>=2.0.0 in /home/seldon/PycharmProjects/deploy-workshops/venv/nlp-ratings/lib/python3.8/site-packages (from scikit-learn<1.1.0,>=0.20.2->alibi==0.6.4) (3.1.0)\n",
      "Requirement already satisfied: joblib>=0.11 in /home/seldon/PycharmProjects/deploy-workshops/venv/nlp-ratings/lib/python3.8/site-packages (from scikit-learn<1.1.0,>=0.20.2->alibi==0.6.4) (1.1.0)\n",
      "Collecting srsly<3.0.0,>=2.4.3\n",
      "  Downloading srsly-2.4.3-cp38-cp38-manylinux_2_17_x86_64.manylinux2014_x86_64.whl (459 kB)\n",
      "     |████████████████████████████████| 459 kB 12.3 MB/s            \n",
      "\u001b[?25hCollecting pydantic!=1.8,!=1.8.1,<1.9.0,>=1.7.4\n",
      "  Downloading pydantic-1.8.2-cp38-cp38-manylinux2014_x86_64.whl (13.7 MB)\n",
      "     |████████████████████████████████| 13.7 MB 392 kB/s             \n",
      "\u001b[?25hCollecting blis<0.8.0,>=0.4.0\n",
      "  Downloading blis-0.7.8-cp38-cp38-manylinux_2_17_x86_64.manylinux2014_x86_64.whl (10.2 MB)\n",
      "     |████████████████████████████████| 10.2 MB 13.8 MB/s            \n",
      "\u001b[?25hCollecting wasabi<1.1.0,>=0.9.1\n",
      "  Using cached wasabi-0.9.1-py3-none-any.whl (26 kB)\n",
      "Collecting thinc<8.1.0,>=8.0.14\n",
      "  Downloading thinc-8.0.17-cp38-cp38-manylinux_2_17_x86_64.manylinux2014_x86_64.whl (671 kB)\n",
      "     |████████████████████████████████| 671 kB 11.6 MB/s            \n",
      "\u001b[?25hCollecting spacy-legacy<3.1.0,>=3.0.9\n",
      "  Using cached spacy_legacy-3.0.9-py2.py3-none-any.whl (20 kB)\n",
      "Requirement already satisfied: setuptools in /home/seldon/PycharmProjects/deploy-workshops/venv/nlp-ratings/lib/python3.8/site-packages (from spacy[lookups]<4.0.0,>=2.0.0->alibi==0.6.4) (60.2.0)\n",
      "Collecting cymem<2.1.0,>=2.0.2\n",
      "  Downloading cymem-2.0.6-cp38-cp38-manylinux_2_17_x86_64.manylinux2014_x86_64.whl (36 kB)\n",
      "Requirement already satisfied: jinja2 in /home/seldon/PycharmProjects/deploy-workshops/venv/nlp-ratings/lib/python3.8/site-packages (from spacy[lookups]<4.0.0,>=2.0.0->alibi==0.6.4) (2.11.3)\n",
      "Collecting typer<0.5.0,>=0.3.0\n",
      "  Using cached typer-0.4.1-py3-none-any.whl (27 kB)\n",
      "Collecting murmurhash<1.1.0,>=0.28.0\n",
      "  Downloading murmurhash-1.0.7-cp38-cp38-manylinux_2_5_x86_64.manylinux1_x86_64.manylinux_2_17_x86_64.manylinux2014_x86_64.whl (21 kB)\n",
      "Collecting preshed<3.1.0,>=3.0.2\n",
      "  Downloading preshed-3.0.6-cp38-cp38-manylinux_2_5_x86_64.manylinux1_x86_64.manylinux_2_17_x86_64.manylinux2014_x86_64.whl (130 kB)\n",
      "     |████████████████████████████████| 130 kB 3.4 MB/s            \n",
      "\u001b[?25hCollecting spacy-loggers<2.0.0,>=1.0.0\n",
      "  Using cached spacy_loggers-1.0.2-py3-none-any.whl (7.2 kB)\n",
      "Collecting catalogue<2.1.0,>=2.0.6\n",
      "  Using cached catalogue-2.0.7-py3-none-any.whl (17 kB)\n",
      "Collecting pathy>=0.3.5\n",
      "  Using cached pathy-0.6.1-py3-none-any.whl (42 kB)\n",
      "Collecting langcodes<4.0.0,>=3.2.0\n",
      "  Using cached langcodes-3.3.0-py3-none-any.whl (181 kB)\n",
      "Collecting spacy-lookups-data<1.1.0,>=1.0.3\n",
      "  Using cached spacy_lookups_data-1.0.3-py2.py3-none-any.whl (98.5 MB)\n",
      "Requirement already satisfied: astunparse>=1.6.0 in /home/seldon/PycharmProjects/deploy-workshops/venv/nlp-ratings/lib/python3.8/site-packages (from tensorflow!=2.6.0,!=2.6.1,<2.8.0,>=2.0.0->alibi==0.6.4) (1.6.3)\n",
      "Requirement already satisfied: h5py>=2.9.0 in /home/seldon/PycharmProjects/deploy-workshops/venv/nlp-ratings/lib/python3.8/site-packages (from tensorflow!=2.6.0,!=2.6.1,<2.8.0,>=2.0.0->alibi==0.6.4) (3.7.0)\n",
      "Requirement already satisfied: keras-preprocessing>=1.1.1 in /home/seldon/PycharmProjects/deploy-workshops/venv/nlp-ratings/lib/python3.8/site-packages (from tensorflow!=2.6.0,!=2.6.1,<2.8.0,>=2.0.0->alibi==0.6.4) (1.1.2)\n",
      "Requirement already satisfied: wrapt>=1.11.0 in /home/seldon/PycharmProjects/deploy-workshops/venv/nlp-ratings/lib/python3.8/site-packages (from tensorflow!=2.6.0,!=2.6.1,<2.8.0,>=2.0.0->alibi==0.6.4) (1.14.1)\n",
      "Requirement already satisfied: tensorboard~=2.6 in /home/seldon/PycharmProjects/deploy-workshops/venv/nlp-ratings/lib/python3.8/site-packages (from tensorflow!=2.6.0,!=2.6.1,<2.8.0,>=2.0.0->alibi==0.6.4) (2.9.1)\n",
      "Requirement already satisfied: opt-einsum>=2.3.2 in /home/seldon/PycharmProjects/deploy-workshops/venv/nlp-ratings/lib/python3.8/site-packages (from tensorflow!=2.6.0,!=2.6.1,<2.8.0,>=2.0.0->alibi==0.6.4) (3.3.0)\n",
      "Requirement already satisfied: grpcio<2.0,>=1.24.3 in /home/seldon/PycharmProjects/deploy-workshops/venv/nlp-ratings/lib/python3.8/site-packages (from tensorflow!=2.6.0,!=2.6.1,<2.8.0,>=2.0.0->alibi==0.6.4) (1.46.3)\n",
      "Requirement already satisfied: keras<2.8,>=2.7.0rc0 in /home/seldon/PycharmProjects/deploy-workshops/venv/nlp-ratings/lib/python3.8/site-packages (from tensorflow!=2.6.0,!=2.6.1,<2.8.0,>=2.0.0->alibi==0.6.4) (2.7.0)\n",
      "Requirement already satisfied: protobuf<3.20,>=3.9.2 in /home/seldon/PycharmProjects/deploy-workshops/venv/nlp-ratings/lib/python3.8/site-packages (from tensorflow!=2.6.0,!=2.6.1,<2.8.0,>=2.0.0->alibi==0.6.4) (3.19.4)\n",
      "Requirement already satisfied: tensorflow-estimator<2.8,~=2.7.0rc0 in /home/seldon/PycharmProjects/deploy-workshops/venv/nlp-ratings/lib/python3.8/site-packages (from tensorflow!=2.6.0,!=2.6.1,<2.8.0,>=2.0.0->alibi==0.6.4) (2.7.0)\n",
      "Requirement already satisfied: wheel<1.0,>=0.32.0 in /home/seldon/PycharmProjects/deploy-workshops/venv/nlp-ratings/lib/python3.8/site-packages (from tensorflow!=2.6.0,!=2.6.1,<2.8.0,>=2.0.0->alibi==0.6.4) (0.37.1)\n",
      "Requirement already satisfied: flatbuffers<3.0,>=1.12 in /home/seldon/PycharmProjects/deploy-workshops/venv/nlp-ratings/lib/python3.8/site-packages (from tensorflow!=2.6.0,!=2.6.1,<2.8.0,>=2.0.0->alibi==0.6.4) (1.12)\n",
      "Requirement already satisfied: google-pasta>=0.1.1 in /home/seldon/PycharmProjects/deploy-workshops/venv/nlp-ratings/lib/python3.8/site-packages (from tensorflow!=2.6.0,!=2.6.1,<2.8.0,>=2.0.0->alibi==0.6.4) (0.2.0)\n",
      "Requirement already satisfied: typing-extensions>=3.6.6 in /home/seldon/PycharmProjects/deploy-workshops/venv/nlp-ratings/lib/python3.8/site-packages (from tensorflow!=2.6.0,!=2.6.1,<2.8.0,>=2.0.0->alibi==0.6.4) (4.2.0)\n",
      "Requirement already satisfied: tensorflow-io-gcs-filesystem>=0.21.0 in /home/seldon/PycharmProjects/deploy-workshops/venv/nlp-ratings/lib/python3.8/site-packages (from tensorflow!=2.6.0,!=2.6.1,<2.8.0,>=2.0.0->alibi==0.6.4) (0.26.0)\n",
      "Requirement already satisfied: absl-py>=0.4.0 in /home/seldon/PycharmProjects/deploy-workshops/venv/nlp-ratings/lib/python3.8/site-packages (from tensorflow!=2.6.0,!=2.6.1,<2.8.0,>=2.0.0->alibi==0.6.4) (1.1.0)\n",
      "Requirement already satisfied: libclang>=9.0.1 in /home/seldon/PycharmProjects/deploy-workshops/venv/nlp-ratings/lib/python3.8/site-packages (from tensorflow!=2.6.0,!=2.6.1,<2.8.0,>=2.0.0->alibi==0.6.4) (14.0.1)\n",
      "Requirement already satisfied: gast<0.5.0,>=0.2.1 in /home/seldon/PycharmProjects/deploy-workshops/venv/nlp-ratings/lib/python3.8/site-packages (from tensorflow!=2.6.0,!=2.6.1,<2.8.0,>=2.0.0->alibi==0.6.4) (0.4.0)\n",
      "Requirement already satisfied: six>=1.12.0 in /home/seldon/PycharmProjects/deploy-workshops/venv/nlp-ratings/lib/python3.8/site-packages (from tensorflow!=2.6.0,!=2.6.1,<2.8.0,>=2.0.0->alibi==0.6.4) (1.16.0)\n",
      "Requirement already satisfied: termcolor>=1.1.0 in /home/seldon/PycharmProjects/deploy-workshops/venv/nlp-ratings/lib/python3.8/site-packages (from tensorflow!=2.6.0,!=2.6.1,<2.8.0,>=2.0.0->alibi==0.6.4) (1.1.0)\n"
     ]
    },
    {
     "name": "stdout",
     "output_type": "stream",
     "text": [
      "Requirement already satisfied: pyyaml>=5.1 in /home/seldon/PycharmProjects/deploy-workshops/venv/nlp-ratings/lib/python3.8/site-packages (from transformers<5.0.0,>=4.7.0->alibi==0.6.4) (5.4.1)\n",
      "Requirement already satisfied: tokenizers!=0.11.3,<0.13,>=0.11.1 in /home/seldon/PycharmProjects/deploy-workshops/venv/nlp-ratings/lib/python3.8/site-packages (from transformers<5.0.0,>=4.7.0->alibi==0.6.4) (0.12.1)\n",
      "Requirement already satisfied: regex!=2019.12.17 in /home/seldon/PycharmProjects/deploy-workshops/venv/nlp-ratings/lib/python3.8/site-packages (from transformers<5.0.0,>=4.7.0->alibi==0.6.4) (2022.6.2)\n",
      "Requirement already satisfied: filelock in /home/seldon/PycharmProjects/deploy-workshops/venv/nlp-ratings/lib/python3.8/site-packages (from transformers<5.0.0,>=4.7.0->alibi==0.6.4) (3.7.1)\n",
      "Requirement already satisfied: huggingface-hub<1.0,>=0.1.0 in /home/seldon/PycharmProjects/deploy-workshops/venv/nlp-ratings/lib/python3.8/site-packages (from transformers<5.0.0,>=4.7.0->alibi==0.6.4) (0.7.0)\n",
      "Collecting smart-open<6.0.0,>=5.0.0\n",
      "  Using cached smart_open-5.2.1-py3-none-any.whl (58 kB)\n",
      "Requirement already satisfied: werkzeug>=1.0.1 in /home/seldon/PycharmProjects/deploy-workshops/venv/nlp-ratings/lib/python3.8/site-packages (from tensorboard~=2.6->tensorflow!=2.6.0,!=2.6.1,<2.8.0,>=2.0.0->alibi==0.6.4) (2.0.3)\n",
      "Requirement already satisfied: tensorboard-data-server<0.7.0,>=0.6.0 in /home/seldon/PycharmProjects/deploy-workshops/venv/nlp-ratings/lib/python3.8/site-packages (from tensorboard~=2.6->tensorflow!=2.6.0,!=2.6.1,<2.8.0,>=2.0.0->alibi==0.6.4) (0.6.1)\n",
      "Requirement already satisfied: google-auth<3,>=1.6.3 in /home/seldon/PycharmProjects/deploy-workshops/venv/nlp-ratings/lib/python3.8/site-packages (from tensorboard~=2.6->tensorflow!=2.6.0,!=2.6.1,<2.8.0,>=2.0.0->alibi==0.6.4) (2.8.0)\n",
      "Requirement already satisfied: tensorboard-plugin-wit>=1.6.0 in /home/seldon/PycharmProjects/deploy-workshops/venv/nlp-ratings/lib/python3.8/site-packages (from tensorboard~=2.6->tensorflow!=2.6.0,!=2.6.1,<2.8.0,>=2.0.0->alibi==0.6.4) (1.8.1)\n",
      "Requirement already satisfied: google-auth-oauthlib<0.5,>=0.4.1 in /home/seldon/PycharmProjects/deploy-workshops/venv/nlp-ratings/lib/python3.8/site-packages (from tensorboard~=2.6->tensorflow!=2.6.0,!=2.6.1,<2.8.0,>=2.0.0->alibi==0.6.4) (0.4.6)\n",
      "Requirement already satisfied: markdown>=2.6.8 in /home/seldon/PycharmProjects/deploy-workshops/venv/nlp-ratings/lib/python3.8/site-packages (from tensorboard~=2.6->tensorflow!=2.6.0,!=2.6.1,<2.8.0,>=2.0.0->alibi==0.6.4) (3.3.7)\n",
      "Requirement already satisfied: click<9.0.0,>=7.1.1 in /home/seldon/PycharmProjects/deploy-workshops/venv/nlp-ratings/lib/python3.8/site-packages (from typer<0.5.0,>=0.3.0->spacy[lookups]<4.0.0,>=2.0.0->alibi==0.6.4) (8.0.4)\n",
      "Requirement already satisfied: MarkupSafe>=0.23 in /home/seldon/PycharmProjects/deploy-workshops/venv/nlp-ratings/lib/python3.8/site-packages (from jinja2->spacy[lookups]<4.0.0,>=2.0.0->alibi==0.6.4) (1.1.1)\n",
      "Requirement already satisfied: pyasn1-modules>=0.2.1 in /home/seldon/PycharmProjects/deploy-workshops/venv/nlp-ratings/lib/python3.8/site-packages (from google-auth<3,>=1.6.3->tensorboard~=2.6->tensorflow!=2.6.0,!=2.6.1,<2.8.0,>=2.0.0->alibi==0.6.4) (0.2.8)\n",
      "Requirement already satisfied: cachetools<6.0,>=2.0.0 in /home/seldon/PycharmProjects/deploy-workshops/venv/nlp-ratings/lib/python3.8/site-packages (from google-auth<3,>=1.6.3->tensorboard~=2.6->tensorflow!=2.6.0,!=2.6.1,<2.8.0,>=2.0.0->alibi==0.6.4) (5.2.0)\n",
      "Requirement already satisfied: rsa<5,>=3.1.4 in /home/seldon/PycharmProjects/deploy-workshops/venv/nlp-ratings/lib/python3.8/site-packages (from google-auth<3,>=1.6.3->tensorboard~=2.6->tensorflow!=2.6.0,!=2.6.1,<2.8.0,>=2.0.0->alibi==0.6.4) (4.8)\n",
      "Requirement already satisfied: requests-oauthlib>=0.7.0 in /home/seldon/PycharmProjects/deploy-workshops/venv/nlp-ratings/lib/python3.8/site-packages (from google-auth-oauthlib<0.5,>=0.4.1->tensorboard~=2.6->tensorflow!=2.6.0,!=2.6.1,<2.8.0,>=2.0.0->alibi==0.6.4) (1.3.1)\n",
      "Requirement already satisfied: importlib-metadata>=4.4 in /home/seldon/PycharmProjects/deploy-workshops/venv/nlp-ratings/lib/python3.8/site-packages (from markdown>=2.6.8->tensorboard~=2.6->tensorflow!=2.6.0,!=2.6.1,<2.8.0,>=2.0.0->alibi==0.6.4) (4.11.4)\n",
      "Requirement already satisfied: zipp>=0.5 in /home/seldon/PycharmProjects/deploy-workshops/venv/nlp-ratings/lib/python3.8/site-packages (from importlib-metadata>=4.4->markdown>=2.6.8->tensorboard~=2.6->tensorflow!=2.6.0,!=2.6.1,<2.8.0,>=2.0.0->alibi==0.6.4) (3.8.0)\n",
      "Requirement already satisfied: pyasn1<0.5.0,>=0.4.6 in /home/seldon/PycharmProjects/deploy-workshops/venv/nlp-ratings/lib/python3.8/site-packages (from pyasn1-modules>=0.2.1->google-auth<3,>=1.6.3->tensorboard~=2.6->tensorflow!=2.6.0,!=2.6.1,<2.8.0,>=2.0.0->alibi==0.6.4) (0.4.8)\n",
      "Requirement already satisfied: oauthlib>=3.0.0 in /home/seldon/PycharmProjects/deploy-workshops/venv/nlp-ratings/lib/python3.8/site-packages (from requests-oauthlib>=0.7.0->google-auth-oauthlib<0.5,>=0.4.1->tensorboard~=2.6->tensorflow!=2.6.0,!=2.6.1,<2.8.0,>=2.0.0->alibi==0.6.4) (3.2.0)\n",
      "Installing collected packages: murmurhash, cymem, catalogue, wasabi, typer, srsly, smart-open, pydantic, preshed, blis, thinc, spacy-loggers, spacy-legacy, Pillow, pathy, langcodes, tifffile, spacy-lookups-data, spacy, PyWavelets, networkx, kiwisolver, imageio, fonttools, cycler, scikit-learn, scikit-image, matplotlib, alibi\n",
      "  Attempting uninstall: scikit-learn\n",
      "    Found existing installation: scikit-learn 1.1.1\n",
      "    Uninstalling scikit-learn-1.1.1:\n",
      "      Successfully uninstalled scikit-learn-1.1.1\n",
      "Successfully installed Pillow-9.1.1 PyWavelets-1.3.0 alibi-0.6.4 blis-0.7.8 catalogue-2.0.7 cycler-0.11.0 cymem-2.0.6 fonttools-4.33.3 imageio-2.19.3 kiwisolver-1.4.3 langcodes-3.3.0 matplotlib-3.5.2 murmurhash-1.0.7 networkx-2.8.4 pathy-0.6.1 preshed-3.0.6 pydantic-1.8.2 scikit-image-0.19.3 scikit-learn-1.0.2 smart-open-5.2.1 spacy-3.3.1 spacy-legacy-3.0.9 spacy-loggers-1.0.2 spacy-lookups-data-1.0.3 srsly-2.4.3 thinc-8.0.17 tifffile-2022.5.4 typer-0.4.1 wasabi-0.9.1\n",
      "\u001b[33mWARNING: You are using pip version 21.3.1; however, version 22.1.2 is available.\n",
      "You should consider upgrading via the '/home/seldon/PycharmProjects/deploy-workshops/venv/nlp-ratings/bin/python -m pip install --upgrade pip' command.\u001b[0m\n",
      "Collecting alibi_detect==0.8.1\n",
      "  Using cached alibi_detect-0.8.1-py3-none-any.whl (311 kB)\n",
      "Requirement already satisfied: dill<0.4.0,>=0.3.0 in /home/seldon/PycharmProjects/deploy-workshops/venv/nlp-ratings/lib/python3.8/site-packages (from alibi_detect==0.8.1) (0.3.5.1)\n",
      "Requirement already satisfied: transformers<5.0.0,>=4.0.0 in /home/seldon/PycharmProjects/deploy-workshops/venv/nlp-ratings/lib/python3.8/site-packages (from alibi_detect==0.8.1) (4.20.0)\n",
      "Requirement already satisfied: tqdm<5.0.0,>=4.28.1 in /home/seldon/PycharmProjects/deploy-workshops/venv/nlp-ratings/lib/python3.8/site-packages (from alibi_detect==0.8.1) (4.64.0)\n",
      "Requirement already satisfied: requests<3.0.0,>=2.21.0 in /home/seldon/PycharmProjects/deploy-workshops/venv/nlp-ratings/lib/python3.8/site-packages (from alibi_detect==0.8.1) (2.28.0)\n",
      "Collecting Pillow<9.0.0,>=5.4.1\n",
      "  Downloading Pillow-8.4.0-cp38-cp38-manylinux_2_17_x86_64.manylinux2014_x86_64.whl (3.1 MB)\n",
      "     |████████████████████████████████| 3.1 MB 4.0 MB/s            \n",
      "\u001b[?25hRequirement already satisfied: scipy<2.0.0,>=1.3.0 in /home/seldon/PycharmProjects/deploy-workshops/venv/nlp-ratings/lib/python3.8/site-packages (from alibi_detect==0.8.1) (1.8.1)\n",
      "Requirement already satisfied: matplotlib<4.0.0,>=3.0.0 in /home/seldon/PycharmProjects/deploy-workshops/venv/nlp-ratings/lib/python3.8/site-packages (from alibi_detect==0.8.1) (3.5.2)\n",
      "Requirement already satisfied: scikit-learn<1.1.0,>=0.20.2 in /home/seldon/PycharmProjects/deploy-workshops/venv/nlp-ratings/lib/python3.8/site-packages (from alibi_detect==0.8.1) (1.0.2)\n",
      "Collecting numba!=0.54.0,<0.56.0,>=0.50.0\n",
      "  Downloading numba-0.55.2-cp38-cp38-manylinux2014_x86_64.manylinux_2_17_x86_64.whl (3.4 MB)\n",
      "     |████████████████████████████████| 3.4 MB 12.6 MB/s            \n",
      "\u001b[?25hRequirement already satisfied: pandas<2.0.0,>=0.23.3 in /home/seldon/PycharmProjects/deploy-workshops/venv/nlp-ratings/lib/python3.8/site-packages (from alibi_detect==0.8.1) (1.4.2)\n",
      "Requirement already satisfied: numpy<2.0.0,>=1.16.2 in /home/seldon/PycharmProjects/deploy-workshops/venv/nlp-ratings/lib/python3.8/site-packages (from alibi_detect==0.8.1) (1.22.4)\n"
     ]
    },
    {
     "name": "stdout",
     "output_type": "stream",
     "text": [
      "Collecting tensorflow-probability<0.13.0,>=0.8.0\n",
      "  Using cached tensorflow_probability-0.12.2-py2.py3-none-any.whl (4.8 MB)\n",
      "Requirement already satisfied: tensorflow!=2.6.0,!=2.6.1,<2.8.0,>=2.2.0 in /home/seldon/PycharmProjects/deploy-workshops/venv/nlp-ratings/lib/python3.8/site-packages (from alibi_detect==0.8.1) (2.7.3)\n",
      "Collecting scikit-image!=0.17.1,<0.19,>=0.14.2\n",
      "  Downloading scikit_image-0.18.3-cp38-cp38-manylinux_2_5_x86_64.manylinux1_x86_64.whl (30.2 MB)\n",
      "     |████████████████████████████████| 30.2 MB 14.5 MB/s            \n",
      "\u001b[?25hCollecting opencv-python<5.0.0,>=3.2.0\n",
      "  Using cached opencv_python-4.6.0.66-cp36-abi3-manylinux_2_17_x86_64.manylinux2014_x86_64.whl (60.9 MB)\n",
      "Requirement already satisfied: pyparsing>=2.2.1 in /home/seldon/PycharmProjects/deploy-workshops/venv/nlp-ratings/lib/python3.8/site-packages (from matplotlib<4.0.0,>=3.0.0->alibi_detect==0.8.1) (3.0.9)\n",
      "Requirement already satisfied: fonttools>=4.22.0 in /home/seldon/PycharmProjects/deploy-workshops/venv/nlp-ratings/lib/python3.8/site-packages (from matplotlib<4.0.0,>=3.0.0->alibi_detect==0.8.1) (4.33.3)\n",
      "Requirement already satisfied: python-dateutil>=2.7 in /home/seldon/PycharmProjects/deploy-workshops/venv/nlp-ratings/lib/python3.8/site-packages (from matplotlib<4.0.0,>=3.0.0->alibi_detect==0.8.1) (2.8.2)\n",
      "Requirement already satisfied: packaging>=20.0 in /home/seldon/PycharmProjects/deploy-workshops/venv/nlp-ratings/lib/python3.8/site-packages (from matplotlib<4.0.0,>=3.0.0->alibi_detect==0.8.1) (21.3)\n",
      "Requirement already satisfied: kiwisolver>=1.0.1 in /home/seldon/PycharmProjects/deploy-workshops/venv/nlp-ratings/lib/python3.8/site-packages (from matplotlib<4.0.0,>=3.0.0->alibi_detect==0.8.1) (1.4.3)\n",
      "Requirement already satisfied: cycler>=0.10 in /home/seldon/PycharmProjects/deploy-workshops/venv/nlp-ratings/lib/python3.8/site-packages (from matplotlib<4.0.0,>=3.0.0->alibi_detect==0.8.1) (0.11.0)\n",
      "Collecting llvmlite<0.39,>=0.38.0rc1\n",
      "  Downloading llvmlite-0.38.1-cp38-cp38-manylinux_2_17_x86_64.manylinux2014_x86_64.whl (34.5 MB)\n",
      "     |████████████████████████████████| 34.5 MB 11.9 MB/s            \n",
      "\u001b[?25hRequirement already satisfied: setuptools in /home/seldon/PycharmProjects/deploy-workshops/venv/nlp-ratings/lib/python3.8/site-packages (from numba!=0.54.0,<0.56.0,>=0.50.0->alibi_detect==0.8.1) (60.2.0)\n",
      "Requirement already satisfied: pytz>=2020.1 in /home/seldon/PycharmProjects/deploy-workshops/venv/nlp-ratings/lib/python3.8/site-packages (from pandas<2.0.0,>=0.23.3->alibi_detect==0.8.1) (2022.1)\n",
      "Requirement already satisfied: certifi>=2017.4.17 in /home/seldon/PycharmProjects/deploy-workshops/venv/nlp-ratings/lib/python3.8/site-packages (from requests<3.0.0,>=2.21.0->alibi_detect==0.8.1) (2022.6.15)\n",
      "Requirement already satisfied: charset-normalizer~=2.0.0 in /home/seldon/PycharmProjects/deploy-workshops/venv/nlp-ratings/lib/python3.8/site-packages (from requests<3.0.0,>=2.21.0->alibi_detect==0.8.1) (2.0.12)\n",
      "Requirement already satisfied: urllib3<1.27,>=1.21.1 in /home/seldon/PycharmProjects/deploy-workshops/venv/nlp-ratings/lib/python3.8/site-packages (from requests<3.0.0,>=2.21.0->alibi_detect==0.8.1) (1.26.5)\n",
      "Requirement already satisfied: idna<4,>=2.5 in /home/seldon/PycharmProjects/deploy-workshops/venv/nlp-ratings/lib/python3.8/site-packages (from requests<3.0.0,>=2.21.0->alibi_detect==0.8.1) (3.3)\n",
      "Requirement already satisfied: imageio>=2.3.0 in /home/seldon/PycharmProjects/deploy-workshops/venv/nlp-ratings/lib/python3.8/site-packages (from scikit-image!=0.17.1,<0.19,>=0.14.2->alibi_detect==0.8.1) (2.19.3)\n",
      "Requirement already satisfied: tifffile>=2019.7.26 in /home/seldon/PycharmProjects/deploy-workshops/venv/nlp-ratings/lib/python3.8/site-packages (from scikit-image!=0.17.1,<0.19,>=0.14.2->alibi_detect==0.8.1) (2022.5.4)\n",
      "Requirement already satisfied: networkx>=2.0 in /home/seldon/PycharmProjects/deploy-workshops/venv/nlp-ratings/lib/python3.8/site-packages (from scikit-image!=0.17.1,<0.19,>=0.14.2->alibi_detect==0.8.1) (2.8.4)\n",
      "Requirement already satisfied: PyWavelets>=1.1.1 in /home/seldon/PycharmProjects/deploy-workshops/venv/nlp-ratings/lib/python3.8/site-packages (from scikit-image!=0.17.1,<0.19,>=0.14.2->alibi_detect==0.8.1) (1.3.0)\n",
      "Requirement already satisfied: threadpoolctl>=2.0.0 in /home/seldon/PycharmProjects/deploy-workshops/venv/nlp-ratings/lib/python3.8/site-packages (from scikit-learn<1.1.0,>=0.20.2->alibi_detect==0.8.1) (3.1.0)\n",
      "Requirement already satisfied: joblib>=0.11 in /home/seldon/PycharmProjects/deploy-workshops/venv/nlp-ratings/lib/python3.8/site-packages (from scikit-learn<1.1.0,>=0.20.2->alibi_detect==0.8.1) (1.1.0)\n",
      "Requirement already satisfied: grpcio<2.0,>=1.24.3 in /home/seldon/PycharmProjects/deploy-workshops/venv/nlp-ratings/lib/python3.8/site-packages (from tensorflow!=2.6.0,!=2.6.1,<2.8.0,>=2.2.0->alibi_detect==0.8.1) (1.46.3)\n",
      "Requirement already satisfied: termcolor>=1.1.0 in /home/seldon/PycharmProjects/deploy-workshops/venv/nlp-ratings/lib/python3.8/site-packages (from tensorflow!=2.6.0,!=2.6.1,<2.8.0,>=2.2.0->alibi_detect==0.8.1) (1.1.0)\n",
      "Requirement already satisfied: tensorboard~=2.6 in /home/seldon/PycharmProjects/deploy-workshops/venv/nlp-ratings/lib/python3.8/site-packages (from tensorflow!=2.6.0,!=2.6.1,<2.8.0,>=2.2.0->alibi_detect==0.8.1) (2.9.1)\n",
      "Requirement already satisfied: gast<0.5.0,>=0.2.1 in /home/seldon/PycharmProjects/deploy-workshops/venv/nlp-ratings/lib/python3.8/site-packages (from tensorflow!=2.6.0,!=2.6.1,<2.8.0,>=2.2.0->alibi_detect==0.8.1) (0.4.0)\n",
      "Requirement already satisfied: opt-einsum>=2.3.2 in /home/seldon/PycharmProjects/deploy-workshops/venv/nlp-ratings/lib/python3.8/site-packages (from tensorflow!=2.6.0,!=2.6.1,<2.8.0,>=2.2.0->alibi_detect==0.8.1) (3.3.0)\n",
      "Requirement already satisfied: flatbuffers<3.0,>=1.12 in /home/seldon/PycharmProjects/deploy-workshops/venv/nlp-ratings/lib/python3.8/site-packages (from tensorflow!=2.6.0,!=2.6.1,<2.8.0,>=2.2.0->alibi_detect==0.8.1) (1.12)\n",
      "Requirement already satisfied: tensorflow-io-gcs-filesystem>=0.21.0 in /home/seldon/PycharmProjects/deploy-workshops/venv/nlp-ratings/lib/python3.8/site-packages (from tensorflow!=2.6.0,!=2.6.1,<2.8.0,>=2.2.0->alibi_detect==0.8.1) (0.26.0)\n",
      "Requirement already satisfied: protobuf<3.20,>=3.9.2 in /home/seldon/PycharmProjects/deploy-workshops/venv/nlp-ratings/lib/python3.8/site-packages (from tensorflow!=2.6.0,!=2.6.1,<2.8.0,>=2.2.0->alibi_detect==0.8.1) (3.19.4)\n",
      "Requirement already satisfied: wheel<1.0,>=0.32.0 in /home/seldon/PycharmProjects/deploy-workshops/venv/nlp-ratings/lib/python3.8/site-packages (from tensorflow!=2.6.0,!=2.6.1,<2.8.0,>=2.2.0->alibi_detect==0.8.1) (0.37.1)\n",
      "Requirement already satisfied: astunparse>=1.6.0 in /home/seldon/PycharmProjects/deploy-workshops/venv/nlp-ratings/lib/python3.8/site-packages (from tensorflow!=2.6.0,!=2.6.1,<2.8.0,>=2.2.0->alibi_detect==0.8.1) (1.6.3)\n",
      "Requirement already satisfied: typing-extensions>=3.6.6 in /home/seldon/PycharmProjects/deploy-workshops/venv/nlp-ratings/lib/python3.8/site-packages (from tensorflow!=2.6.0,!=2.6.1,<2.8.0,>=2.2.0->alibi_detect==0.8.1) (4.2.0)\n",
      "Requirement already satisfied: six>=1.12.0 in /home/seldon/PycharmProjects/deploy-workshops/venv/nlp-ratings/lib/python3.8/site-packages (from tensorflow!=2.6.0,!=2.6.1,<2.8.0,>=2.2.0->alibi_detect==0.8.1) (1.16.0)\n",
      "Requirement already satisfied: libclang>=9.0.1 in /home/seldon/PycharmProjects/deploy-workshops/venv/nlp-ratings/lib/python3.8/site-packages (from tensorflow!=2.6.0,!=2.6.1,<2.8.0,>=2.2.0->alibi_detect==0.8.1) (14.0.1)\n",
      "Requirement already satisfied: tensorflow-estimator<2.8,~=2.7.0rc0 in /home/seldon/PycharmProjects/deploy-workshops/venv/nlp-ratings/lib/python3.8/site-packages (from tensorflow!=2.6.0,!=2.6.1,<2.8.0,>=2.2.0->alibi_detect==0.8.1) (2.7.0)\n",
      "Requirement already satisfied: absl-py>=0.4.0 in /home/seldon/PycharmProjects/deploy-workshops/venv/nlp-ratings/lib/python3.8/site-packages (from tensorflow!=2.6.0,!=2.6.1,<2.8.0,>=2.2.0->alibi_detect==0.8.1) (1.1.0)\n",
      "Requirement already satisfied: google-pasta>=0.1.1 in /home/seldon/PycharmProjects/deploy-workshops/venv/nlp-ratings/lib/python3.8/site-packages (from tensorflow!=2.6.0,!=2.6.1,<2.8.0,>=2.2.0->alibi_detect==0.8.1) (0.2.0)\n",
      "Requirement already satisfied: keras-preprocessing>=1.1.1 in /home/seldon/PycharmProjects/deploy-workshops/venv/nlp-ratings/lib/python3.8/site-packages (from tensorflow!=2.6.0,!=2.6.1,<2.8.0,>=2.2.0->alibi_detect==0.8.1) (1.1.2)\n",
      "Requirement already satisfied: keras<2.8,>=2.7.0rc0 in /home/seldon/PycharmProjects/deploy-workshops/venv/nlp-ratings/lib/python3.8/site-packages (from tensorflow!=2.6.0,!=2.6.1,<2.8.0,>=2.2.0->alibi_detect==0.8.1) (2.7.0)\n",
      "Requirement already satisfied: wrapt>=1.11.0 in /home/seldon/PycharmProjects/deploy-workshops/venv/nlp-ratings/lib/python3.8/site-packages (from tensorflow!=2.6.0,!=2.6.1,<2.8.0,>=2.2.0->alibi_detect==0.8.1) (1.14.1)\n",
      "Requirement already satisfied: h5py>=2.9.0 in /home/seldon/PycharmProjects/deploy-workshops/venv/nlp-ratings/lib/python3.8/site-packages (from tensorflow!=2.6.0,!=2.6.1,<2.8.0,>=2.2.0->alibi_detect==0.8.1) (3.7.0)\n"
     ]
    },
    {
     "name": "stdout",
     "output_type": "stream",
     "text": [
      "Collecting decorator\n",
      "  Using cached decorator-5.1.1-py3-none-any.whl (9.1 kB)\n",
      "Collecting dm-tree\n",
      "  Downloading dm_tree-0.1.7-cp38-cp38-manylinux_2_12_x86_64.manylinux2010_x86_64.whl (142 kB)\n",
      "     |████████████████████████████████| 142 kB 16.1 MB/s            \n",
      "\u001b[?25hCollecting cloudpickle>=1.3\n",
      "  Using cached cloudpickle-2.1.0-py3-none-any.whl (25 kB)\n",
      "Requirement already satisfied: pyyaml>=5.1 in /home/seldon/PycharmProjects/deploy-workshops/venv/nlp-ratings/lib/python3.8/site-packages (from transformers<5.0.0,>=4.0.0->alibi_detect==0.8.1) (5.4.1)\n",
      "Requirement already satisfied: huggingface-hub<1.0,>=0.1.0 in /home/seldon/PycharmProjects/deploy-workshops/venv/nlp-ratings/lib/python3.8/site-packages (from transformers<5.0.0,>=4.0.0->alibi_detect==0.8.1) (0.7.0)\n",
      "Requirement already satisfied: filelock in /home/seldon/PycharmProjects/deploy-workshops/venv/nlp-ratings/lib/python3.8/site-packages (from transformers<5.0.0,>=4.0.0->alibi_detect==0.8.1) (3.7.1)\n",
      "Requirement already satisfied: tokenizers!=0.11.3,<0.13,>=0.11.1 in /home/seldon/PycharmProjects/deploy-workshops/venv/nlp-ratings/lib/python3.8/site-packages (from transformers<5.0.0,>=4.0.0->alibi_detect==0.8.1) (0.12.1)\n",
      "Requirement already satisfied: regex!=2019.12.17 in /home/seldon/PycharmProjects/deploy-workshops/venv/nlp-ratings/lib/python3.8/site-packages (from transformers<5.0.0,>=4.0.0->alibi_detect==0.8.1) (2022.6.2)\n",
      "Requirement already satisfied: google-auth-oauthlib<0.5,>=0.4.1 in /home/seldon/PycharmProjects/deploy-workshops/venv/nlp-ratings/lib/python3.8/site-packages (from tensorboard~=2.6->tensorflow!=2.6.0,!=2.6.1,<2.8.0,>=2.2.0->alibi_detect==0.8.1) (0.4.6)\n",
      "Requirement already satisfied: werkzeug>=1.0.1 in /home/seldon/PycharmProjects/deploy-workshops/venv/nlp-ratings/lib/python3.8/site-packages (from tensorboard~=2.6->tensorflow!=2.6.0,!=2.6.1,<2.8.0,>=2.2.0->alibi_detect==0.8.1) (2.0.3)\n",
      "Requirement already satisfied: markdown>=2.6.8 in /home/seldon/PycharmProjects/deploy-workshops/venv/nlp-ratings/lib/python3.8/site-packages (from tensorboard~=2.6->tensorflow!=2.6.0,!=2.6.1,<2.8.0,>=2.2.0->alibi_detect==0.8.1) (3.3.7)\n",
      "Requirement already satisfied: google-auth<3,>=1.6.3 in /home/seldon/PycharmProjects/deploy-workshops/venv/nlp-ratings/lib/python3.8/site-packages (from tensorboard~=2.6->tensorflow!=2.6.0,!=2.6.1,<2.8.0,>=2.2.0->alibi_detect==0.8.1) (2.8.0)\n",
      "Requirement already satisfied: tensorboard-plugin-wit>=1.6.0 in /home/seldon/PycharmProjects/deploy-workshops/venv/nlp-ratings/lib/python3.8/site-packages (from tensorboard~=2.6->tensorflow!=2.6.0,!=2.6.1,<2.8.0,>=2.2.0->alibi_detect==0.8.1) (1.8.1)\n",
      "Requirement already satisfied: tensorboard-data-server<0.7.0,>=0.6.0 in /home/seldon/PycharmProjects/deploy-workshops/venv/nlp-ratings/lib/python3.8/site-packages (from tensorboard~=2.6->tensorflow!=2.6.0,!=2.6.1,<2.8.0,>=2.2.0->alibi_detect==0.8.1) (0.6.1)\n",
      "Requirement already satisfied: rsa<5,>=3.1.4 in /home/seldon/PycharmProjects/deploy-workshops/venv/nlp-ratings/lib/python3.8/site-packages (from google-auth<3,>=1.6.3->tensorboard~=2.6->tensorflow!=2.6.0,!=2.6.1,<2.8.0,>=2.2.0->alibi_detect==0.8.1) (4.8)\n",
      "Requirement already satisfied: pyasn1-modules>=0.2.1 in /home/seldon/PycharmProjects/deploy-workshops/venv/nlp-ratings/lib/python3.8/site-packages (from google-auth<3,>=1.6.3->tensorboard~=2.6->tensorflow!=2.6.0,!=2.6.1,<2.8.0,>=2.2.0->alibi_detect==0.8.1) (0.2.8)\n",
      "Requirement already satisfied: cachetools<6.0,>=2.0.0 in /home/seldon/PycharmProjects/deploy-workshops/venv/nlp-ratings/lib/python3.8/site-packages (from google-auth<3,>=1.6.3->tensorboard~=2.6->tensorflow!=2.6.0,!=2.6.1,<2.8.0,>=2.2.0->alibi_detect==0.8.1) (5.2.0)\n",
      "Requirement already satisfied: requests-oauthlib>=0.7.0 in /home/seldon/PycharmProjects/deploy-workshops/venv/nlp-ratings/lib/python3.8/site-packages (from google-auth-oauthlib<0.5,>=0.4.1->tensorboard~=2.6->tensorflow!=2.6.0,!=2.6.1,<2.8.0,>=2.2.0->alibi_detect==0.8.1) (1.3.1)\n",
      "Requirement already satisfied: importlib-metadata>=4.4 in /home/seldon/PycharmProjects/deploy-workshops/venv/nlp-ratings/lib/python3.8/site-packages (from markdown>=2.6.8->tensorboard~=2.6->tensorflow!=2.6.0,!=2.6.1,<2.8.0,>=2.2.0->alibi_detect==0.8.1) (4.11.4)\n",
      "Requirement already satisfied: zipp>=0.5 in /home/seldon/PycharmProjects/deploy-workshops/venv/nlp-ratings/lib/python3.8/site-packages (from importlib-metadata>=4.4->markdown>=2.6.8->tensorboard~=2.6->tensorflow!=2.6.0,!=2.6.1,<2.8.0,>=2.2.0->alibi_detect==0.8.1) (3.8.0)\n",
      "Requirement already satisfied: pyasn1<0.5.0,>=0.4.6 in /home/seldon/PycharmProjects/deploy-workshops/venv/nlp-ratings/lib/python3.8/site-packages (from pyasn1-modules>=0.2.1->google-auth<3,>=1.6.3->tensorboard~=2.6->tensorflow!=2.6.0,!=2.6.1,<2.8.0,>=2.2.0->alibi_detect==0.8.1) (0.4.8)\n",
      "Requirement already satisfied: oauthlib>=3.0.0 in /home/seldon/PycharmProjects/deploy-workshops/venv/nlp-ratings/lib/python3.8/site-packages (from requests-oauthlib>=0.7.0->google-auth-oauthlib<0.5,>=0.4.1->tensorboard~=2.6->tensorflow!=2.6.0,!=2.6.1,<2.8.0,>=2.2.0->alibi_detect==0.8.1) (3.2.0)\n",
      "Installing collected packages: Pillow, llvmlite, dm-tree, decorator, cloudpickle, tensorflow-probability, scikit-image, opencv-python, numba, alibi-detect\n",
      "  Attempting uninstall: Pillow\n",
      "    Found existing installation: Pillow 9.1.1\n",
      "    Uninstalling Pillow-9.1.1:\n",
      "      Successfully uninstalled Pillow-9.1.1\n",
      "  Attempting uninstall: scikit-image\n",
      "    Found existing installation: scikit-image 0.19.3\n",
      "    Uninstalling scikit-image-0.19.3:\n",
      "      Successfully uninstalled scikit-image-0.19.3\n",
      "Successfully installed Pillow-8.4.0 alibi-detect-0.8.1 cloudpickle-2.1.0 decorator-5.1.1 dm-tree-0.1.7 llvmlite-0.38.1 numba-0.55.2 opencv-python-4.6.0.66 scikit-image-0.18.3 tensorflow-probability-0.12.2\n",
      "\u001b[33mWARNING: You are using pip version 21.3.1; however, version 22.1.2 is available.\n",
      "You should consider upgrading via the '/home/seldon/PycharmProjects/deploy-workshops/venv/nlp-ratings/bin/python -m pip install --upgrade pip' command.\u001b[0m\n",
      "Requirement already satisfied: datasets in /home/seldon/PycharmProjects/deploy-workshops/venv/nlp-ratings/lib/python3.8/site-packages (2.3.2)\n",
      "Requirement already satisfied: requests>=2.19.0 in /home/seldon/PycharmProjects/deploy-workshops/venv/nlp-ratings/lib/python3.8/site-packages (from datasets) (2.28.0)\n",
      "Requirement already satisfied: packaging in /home/seldon/PycharmProjects/deploy-workshops/venv/nlp-ratings/lib/python3.8/site-packages (from datasets) (21.3)\n",
      "Requirement already satisfied: dill<0.3.6 in /home/seldon/PycharmProjects/deploy-workshops/venv/nlp-ratings/lib/python3.8/site-packages (from datasets) (0.3.5.1)\n",
      "Requirement already satisfied: fsspec[http]>=2021.05.0 in /home/seldon/PycharmProjects/deploy-workshops/venv/nlp-ratings/lib/python3.8/site-packages (from datasets) (2022.5.0)\n",
      "Requirement already satisfied: aiohttp in /home/seldon/PycharmProjects/deploy-workshops/venv/nlp-ratings/lib/python3.8/site-packages (from datasets) (3.8.1)\n",
      "Requirement already satisfied: huggingface-hub<1.0.0,>=0.1.0 in /home/seldon/PycharmProjects/deploy-workshops/venv/nlp-ratings/lib/python3.8/site-packages (from datasets) (0.7.0)\n",
      "Requirement already satisfied: xxhash in /home/seldon/PycharmProjects/deploy-workshops/venv/nlp-ratings/lib/python3.8/site-packages (from datasets) (3.0.0)\n",
      "Requirement already satisfied: numpy>=1.17 in /home/seldon/PycharmProjects/deploy-workshops/venv/nlp-ratings/lib/python3.8/site-packages (from datasets) (1.22.4)\n",
      "Requirement already satisfied: tqdm>=4.62.1 in /home/seldon/PycharmProjects/deploy-workshops/venv/nlp-ratings/lib/python3.8/site-packages (from datasets) (4.64.0)\n",
      "Requirement already satisfied: responses<0.19 in /home/seldon/PycharmProjects/deploy-workshops/venv/nlp-ratings/lib/python3.8/site-packages (from datasets) (0.18.0)\n",
      "Requirement already satisfied: pyarrow>=6.0.0 in /home/seldon/PycharmProjects/deploy-workshops/venv/nlp-ratings/lib/python3.8/site-packages (from datasets) (8.0.0)\n",
      "Requirement already satisfied: multiprocess in /home/seldon/PycharmProjects/deploy-workshops/venv/nlp-ratings/lib/python3.8/site-packages (from datasets) (0.70.13)\n",
      "Requirement already satisfied: pandas in /home/seldon/PycharmProjects/deploy-workshops/venv/nlp-ratings/lib/python3.8/site-packages (from datasets) (1.4.2)\n"
     ]
    },
    {
     "name": "stdout",
     "output_type": "stream",
     "text": [
      "Requirement already satisfied: typing-extensions>=3.7.4.3 in /home/seldon/PycharmProjects/deploy-workshops/venv/nlp-ratings/lib/python3.8/site-packages (from huggingface-hub<1.0.0,>=0.1.0->datasets) (4.2.0)\n",
      "Requirement already satisfied: pyyaml>=5.1 in /home/seldon/PycharmProjects/deploy-workshops/venv/nlp-ratings/lib/python3.8/site-packages (from huggingface-hub<1.0.0,>=0.1.0->datasets) (5.4.1)\n",
      "Requirement already satisfied: filelock in /home/seldon/PycharmProjects/deploy-workshops/venv/nlp-ratings/lib/python3.8/site-packages (from huggingface-hub<1.0.0,>=0.1.0->datasets) (3.7.1)\n",
      "Requirement already satisfied: pyparsing!=3.0.5,>=2.0.2 in /home/seldon/PycharmProjects/deploy-workshops/venv/nlp-ratings/lib/python3.8/site-packages (from packaging->datasets) (3.0.9)\n",
      "Requirement already satisfied: certifi>=2017.4.17 in /home/seldon/PycharmProjects/deploy-workshops/venv/nlp-ratings/lib/python3.8/site-packages (from requests>=2.19.0->datasets) (2022.6.15)\n",
      "Requirement already satisfied: urllib3<1.27,>=1.21.1 in /home/seldon/PycharmProjects/deploy-workshops/venv/nlp-ratings/lib/python3.8/site-packages (from requests>=2.19.0->datasets) (1.26.5)\n",
      "Requirement already satisfied: idna<4,>=2.5 in /home/seldon/PycharmProjects/deploy-workshops/venv/nlp-ratings/lib/python3.8/site-packages (from requests>=2.19.0->datasets) (3.3)\n",
      "Requirement already satisfied: charset-normalizer~=2.0.0 in /home/seldon/PycharmProjects/deploy-workshops/venv/nlp-ratings/lib/python3.8/site-packages (from requests>=2.19.0->datasets) (2.0.12)\n",
      "Requirement already satisfied: aiosignal>=1.1.2 in /home/seldon/PycharmProjects/deploy-workshops/venv/nlp-ratings/lib/python3.8/site-packages (from aiohttp->datasets) (1.2.0)\n",
      "Requirement already satisfied: frozenlist>=1.1.1 in /home/seldon/PycharmProjects/deploy-workshops/venv/nlp-ratings/lib/python3.8/site-packages (from aiohttp->datasets) (1.3.0)\n",
      "Requirement already satisfied: multidict<7.0,>=4.5 in /home/seldon/PycharmProjects/deploy-workshops/venv/nlp-ratings/lib/python3.8/site-packages (from aiohttp->datasets) (6.0.2)\n",
      "Requirement already satisfied: async-timeout<5.0,>=4.0.0a3 in /home/seldon/PycharmProjects/deploy-workshops/venv/nlp-ratings/lib/python3.8/site-packages (from aiohttp->datasets) (4.0.2)\n",
      "Requirement already satisfied: yarl<2.0,>=1.0 in /home/seldon/PycharmProjects/deploy-workshops/venv/nlp-ratings/lib/python3.8/site-packages (from aiohttp->datasets) (1.7.2)\n",
      "Requirement already satisfied: attrs>=17.3.0 in /home/seldon/PycharmProjects/deploy-workshops/venv/nlp-ratings/lib/python3.8/site-packages (from aiohttp->datasets) (21.4.0)\n",
      "Requirement already satisfied: pytz>=2020.1 in /home/seldon/PycharmProjects/deploy-workshops/venv/nlp-ratings/lib/python3.8/site-packages (from pandas->datasets) (2022.1)\n",
      "Requirement already satisfied: python-dateutil>=2.8.1 in /home/seldon/PycharmProjects/deploy-workshops/venv/nlp-ratings/lib/python3.8/site-packages (from pandas->datasets) (2.8.2)\n",
      "Requirement already satisfied: six>=1.5 in /home/seldon/PycharmProjects/deploy-workshops/venv/nlp-ratings/lib/python3.8/site-packages (from python-dateutil>=2.8.1->pandas->datasets) (1.16.0)\n",
      "\u001b[33mWARNING: You are using pip version 21.3.1; however, version 22.1.2 is available.\n",
      "You should consider upgrading via the '/home/seldon/PycharmProjects/deploy-workshops/venv/nlp-ratings/bin/python -m pip install --upgrade pip' command.\u001b[0m\n"
     ]
    }
   ],
   "source": [
    "!pip install transformers\n",
    "!pip install seldon_deploy_sdk\n",
    "!pip install alibi==0.6.4\n",
    "!pip install alibi_detect==0.8.1\n",
    "!pip install datasets"
   ]
  },
  {
   "cell_type": "code",
   "execution_count": 7,
   "metadata": {},
   "outputs": [],
   "source": [
    "import numpy as np\n",
    "import pandas as pd \n",
    "import datasets\n",
    "\n",
    "import tensorflow as tf\n",
    "from transformers import AutoTokenizer, create_optimizer, DefaultDataCollator, TFAutoModelForSequenceClassification\n",
    "\n",
    "from sklearn.model_selection import train_test_split\n",
    "\n",
    "from seldon_deploy_sdk import Configuration, ApiClient, SeldonDeploymentsApi, ModelMetadataServiceApi, DriftDetectorApi, BatchJobsApi, BatchJobDefinition\n",
    "from seldon_deploy_sdk.auth import OIDCAuthenticator"
   ]
  },
  {
   "cell_type": "code",
   "execution_count": 3,
   "metadata": {},
   "outputs": [
    {
     "name": "stdout",
     "output_type": "stream",
     "text": [
      "Num GPUs Available:  0\n"
     ]
    }
   ],
   "source": [
    "# Check available GPUs\n",
    "\n",
    "print(\"Num GPUs Available: \", len(tf.config.list_physical_devices('GPU')))"
   ]
  },
  {
   "cell_type": "markdown",
   "metadata": {},
   "source": [
    "## Get Data"
   ]
  },
  {
   "cell_type": "code",
   "execution_count": 4,
   "metadata": {},
   "outputs": [
    {
     "name": "stdout",
     "output_type": "stream",
     "text": [
      "Copying gs://kelly-seldon/nlp-ratings/review_data.csv...\n",
      "\\ [1 files][ 11.3 MiB/ 11.3 MiB]                                                \n",
      "Operation completed over 1 objects/11.3 MiB.                                     \n"
     ]
    }
   ],
   "source": [
    "!gsutil cp gs://kelly-seldon/nlp-ratings/review_data.csv review_data.csv"
   ]
  },
  {
   "cell_type": "code",
   "execution_count": 12,
   "metadata": {},
   "outputs": [
    {
     "data": {
      "text/html": [
       "<div>\n",
       "<style scoped>\n",
       "    .dataframe tbody tr th:only-of-type {\n",
       "        vertical-align: middle;\n",
       "    }\n",
       "\n",
       "    .dataframe tbody tr th {\n",
       "        vertical-align: top;\n",
       "    }\n",
       "\n",
       "    .dataframe thead th {\n",
       "        text-align: right;\n",
       "    }\n",
       "</style>\n",
       "<table border=\"1\" class=\"dataframe\">\n",
       "  <thead>\n",
       "    <tr style=\"text-align: right;\">\n",
       "      <th></th>\n",
       "      <th>product</th>\n",
       "      <th>user_id</th>\n",
       "      <th>rating</th>\n",
       "      <th>review</th>\n",
       "      <th>date_created</th>\n",
       "    </tr>\n",
       "  </thead>\n",
       "  <tbody>\n",
       "    <tr>\n",
       "      <th>0</th>\n",
       "      <td>Product 65359</td>\n",
       "      <td>27604</td>\n",
       "      <td>5.0</td>\n",
       "      <td>_product_ provided me with a pretty good, sec...</td>\n",
       "      <td>2020-04-05 15:51:09</td>\n",
       "    </tr>\n",
       "    <tr>\n",
       "      <th>1</th>\n",
       "      <td>Product 34804</td>\n",
       "      <td>152368</td>\n",
       "      <td>4.0</td>\n",
       "      <td>it protects our files and computer and very si...</td>\n",
       "      <td>2019-06-24 00:40:54</td>\n",
       "    </tr>\n",
       "    <tr>\n",
       "      <th>2</th>\n",
       "      <td>Product 18042</td>\n",
       "      <td>1212264</td>\n",
       "      <td>5.0</td>\n",
       "      <td>like most businesses, we are always looking fo...</td>\n",
       "      <td>2016-11-24 13:29:07</td>\n",
       "    </tr>\n",
       "    <tr>\n",
       "      <th>3</th>\n",
       "      <td>Product 2179</td>\n",
       "      <td>1383</td>\n",
       "      <td>3.0</td>\n",
       "      <td>we believed _product_ was a great solution for...</td>\n",
       "      <td>2019-09-21 14:02:50</td>\n",
       "    </tr>\n",
       "    <tr>\n",
       "      <th>4</th>\n",
       "      <td>Product 90712</td>\n",
       "      <td>92494</td>\n",
       "      <td>4.0</td>\n",
       "      <td>i formerly used _product_ and was relieved to ...</td>\n",
       "      <td>2018-11-28 05:37:54</td>\n",
       "    </tr>\n",
       "  </tbody>\n",
       "</table>\n",
       "</div>"
      ],
      "text/plain": [
       "         product  user_id  rating  \\\n",
       "0  Product 65359    27604     5.0   \n",
       "1  Product 34804   152368     4.0   \n",
       "2  Product 18042  1212264     5.0   \n",
       "3   Product 2179     1383     3.0   \n",
       "4  Product 90712    92494     4.0   \n",
       "\n",
       "                                              review         date_created  \n",
       "0   _product_ provided me with a pretty good, sec...  2020-04-05 15:51:09  \n",
       "1  it protects our files and computer and very si...  2019-06-24 00:40:54  \n",
       "2  like most businesses, we are always looking fo...  2016-11-24 13:29:07  \n",
       "3  we believed _product_ was a great solution for...  2019-09-21 14:02:50  \n",
       "4  i formerly used _product_ and was relieved to ...  2018-11-28 05:37:54  "
      ]
     },
     "execution_count": 12,
     "metadata": {},
     "output_type": "execute_result"
    }
   ],
   "source": [
    "df = pd.read_csv(\"review_data.csv\", delimiter=\";\")\n",
    "df.head()"
   ]
  },
  {
   "cell_type": "markdown",
   "metadata": {},
   "source": [
    "## Preprocess Data\n",
    "\n",
    "Can we do more here? Remove punctuation etc? What does the pretrained tokenizer do?"
   ]
  },
  {
   "cell_type": "code",
   "execution_count": 13,
   "metadata": {},
   "outputs": [
    {
     "data": {
      "text/html": [
       "<div>\n",
       "<style scoped>\n",
       "    .dataframe tbody tr th:only-of-type {\n",
       "        vertical-align: middle;\n",
       "    }\n",
       "\n",
       "    .dataframe tbody tr th {\n",
       "        vertical-align: top;\n",
       "    }\n",
       "\n",
       "    .dataframe thead th {\n",
       "        text-align: right;\n",
       "    }\n",
       "</style>\n",
       "<table border=\"1\" class=\"dataframe\">\n",
       "  <thead>\n",
       "    <tr style=\"text-align: right;\">\n",
       "      <th></th>\n",
       "      <th>review</th>\n",
       "      <th>label</th>\n",
       "    </tr>\n",
       "  </thead>\n",
       "  <tbody>\n",
       "    <tr>\n",
       "      <th>0</th>\n",
       "      <td>_product_ provided me with a pretty good, sec...</td>\n",
       "      <td>8</td>\n",
       "    </tr>\n",
       "    <tr>\n",
       "      <th>1</th>\n",
       "      <td>it protects our files and computer and very si...</td>\n",
       "      <td>6</td>\n",
       "    </tr>\n",
       "    <tr>\n",
       "      <th>2</th>\n",
       "      <td>like most businesses, we are always looking fo...</td>\n",
       "      <td>8</td>\n",
       "    </tr>\n",
       "    <tr>\n",
       "      <th>3</th>\n",
       "      <td>we believed _product_ was a great solution for...</td>\n",
       "      <td>4</td>\n",
       "    </tr>\n",
       "    <tr>\n",
       "      <th>4</th>\n",
       "      <td>i formerly used _product_ and was relieved to ...</td>\n",
       "      <td>6</td>\n",
       "    </tr>\n",
       "  </tbody>\n",
       "</table>\n",
       "</div>"
      ],
      "text/plain": [
       "                                              review  label\n",
       "0   _product_ provided me with a pretty good, sec...      8\n",
       "1  it protects our files and computer and very si...      6\n",
       "2  like most businesses, we are always looking fo...      8\n",
       "3  we believed _product_ was a great solution for...      4\n",
       "4  i formerly used _product_ and was relieved to ...      6"
      ]
     },
     "execution_count": 13,
     "metadata": {},
     "output_type": "execute_result"
    }
   ],
   "source": [
    "df['review'] = df['review'].astype(str)\n",
    "df['rating'] = df['rating'].astype(str)\n",
    "\n",
    "rating_mapping = {\n",
    "    '1.0': 0,\n",
    "    '1.5': 1,\n",
    "    '2.0': 2,\n",
    "    '2.5': 3,\n",
    "    '3.0': 4,\n",
    "    '3.5': 5,\n",
    "    '4.0': 6, \n",
    "    '4.5': 7,\n",
    "    '5.0': 8\n",
    "}\n",
    "\n",
    "df['label'] = df['rating'].apply(lambda x: rating_mapping[x])\n",
    "df.drop(columns=['product', 'user_id', 'date_created', 'rating'], axis=1, inplace=True)\n",
    "\n",
    "df.head()"
   ]
  },
  {
   "cell_type": "code",
   "execution_count": 14,
   "metadata": {},
   "outputs": [
    {
     "data": {
      "text/plain": [
       "8    31721\n",
       "6    14017\n",
       "4     2645\n",
       "0      763\n",
       "2      625\n",
       "7      150\n",
       "5       27\n",
       "3       27\n",
       "1       25\n",
       "Name: label, dtype: int64"
      ]
     },
     "execution_count": 14,
     "metadata": {},
     "output_type": "execute_result"
    }
   ],
   "source": [
    "df[\"label\"].value_counts()"
   ]
  },
  {
   "cell_type": "code",
   "execution_count": 17,
   "metadata": {},
   "outputs": [],
   "source": [
    "# Split data into train and test sets\n",
    "train, test = train_test_split(df, test_size=0.3, random_state=42)"
   ]
  },
  {
   "cell_type": "code",
   "execution_count": 18,
   "metadata": {},
   "outputs": [],
   "source": [
    "# Convert data into Dataset type\n",
    "train_ds = datasets.Dataset.from_pandas(train, preserve_index=False)\n",
    "test_ds = datasets.Dataset.from_pandas(test, preserve_index=False)\n",
    "comp_ds = datasets.DatasetDict({\"train\":train_ds,\"test\":test_ds})"
   ]
  },
  {
   "cell_type": "code",
   "execution_count": 19,
   "metadata": {},
   "outputs": [],
   "source": [
    "tokenizer = AutoTokenizer.from_pretrained(\"distilbert-base-uncased\")"
   ]
  },
  {
   "cell_type": "code",
   "execution_count": 24,
   "metadata": {},
   "outputs": [],
   "source": [
    "def preprocess_function(df):\n",
    "    return tokenizer(df[\"review\"], padding=\"max_length\", truncation=True)"
   ]
  },
  {
   "cell_type": "code",
   "execution_count": 27,
   "metadata": {},
   "outputs": [
    {
     "data": {
      "application/vnd.jupyter.widget-view+json": {
       "model_id": "d2a6b584b8dd419fb1b2e6995eecb8a1",
       "version_major": 2,
       "version_minor": 0
      },
      "text/plain": [
       "  0%|          | 0/35 [00:00<?, ?ba/s]"
      ]
     },
     "metadata": {},
     "output_type": "display_data"
    },
    {
     "data": {
      "application/vnd.jupyter.widget-view+json": {
       "model_id": "fc7d65854e5147d4aea3df64163ea104",
       "version_major": 2,
       "version_minor": 0
      },
      "text/plain": [
       "  0%|          | 0/15 [00:00<?, ?ba/s]"
      ]
     },
     "metadata": {},
     "output_type": "display_data"
    }
   ],
   "source": [
    "tokenized_revs = comp_ds.map(preprocess_function, batched=True)"
   ]
  },
  {
   "cell_type": "code",
   "execution_count": 28,
   "metadata": {},
   "outputs": [],
   "source": [
    "data_collator = DefaultDataCollator(return_tensors=\"tf\")"
   ]
  },
  {
   "cell_type": "code",
   "execution_count": 29,
   "metadata": {},
   "outputs": [],
   "source": [
    "tf_train_set = tokenized_revs[\"train\"].to_tf_dataset(\n",
    "    columns=[\"attention_mask\", \"input_ids\"],\n",
    "    label_cols=[\"labels\"],\n",
    "    shuffle=True,\n",
    "    batch_size=16,\n",
    "    collate_fn=data_collator\n",
    ")\n",
    "\n",
    "tf_test_set = tokenized_revs[\"test\"].to_tf_dataset(\n",
    "    columns=[\"attention_mask\", \"input_ids\"],\n",
    "    label_cols=[\"labels\"],\n",
    "    shuffle=False,\n",
    "    batch_size=16,\n",
    "    collate_fn=data_collator\n",
    ")"
   ]
  },
  {
   "cell_type": "code",
   "execution_count": 30,
   "metadata": {},
   "outputs": [
    {
     "name": "stderr",
     "output_type": "stream",
     "text": [
      "Some layers from the model checkpoint at distilbert-base-uncased were not used when initializing TFDistilBertForSequenceClassification: ['vocab_projector', 'vocab_layer_norm', 'vocab_transform', 'activation_13']\n",
      "- This IS expected if you are initializing TFDistilBertForSequenceClassification from the checkpoint of a model trained on another task or with another architecture (e.g. initializing a BertForSequenceClassification model from a BertForPreTraining model).\n",
      "- This IS NOT expected if you are initializing TFDistilBertForSequenceClassification from the checkpoint of a model that you expect to be exactly identical (initializing a BertForSequenceClassification model from a BertForSequenceClassification model).\n",
      "Some layers of TFDistilBertForSequenceClassification were not initialized from the model checkpoint at distilbert-base-uncased and are newly initialized: ['pre_classifier', 'classifier', 'dropout_19']\n",
      "You should probably TRAIN this model on a down-stream task to be able to use it for predictions and inference.\n"
     ]
    }
   ],
   "source": [
    "model = TFAutoModelForSequenceClassification.from_pretrained(\"distilbert-base-uncased\", num_labels=9)"
   ]
  },
  {
   "cell_type": "code",
   "execution_count": 31,
   "metadata": {
    "collapsed": true
   },
   "outputs": [
    {
     "name": "stdout",
     "output_type": "stream",
     "text": [
      "Epoch 1/5\n",
      "   2/2187 [..............................] - ETA: 3:03:32 - loss: 2.1506 - sparse_categorical_accuracy: 0.2812"
     ]
    },
    {
     "ename": "KeyboardInterrupt",
     "evalue": "",
     "output_type": "error",
     "traceback": [
      "\u001b[0;31m---------------------------------------------------------------------------\u001b[0m",
      "\u001b[0;31mKeyboardInterrupt\u001b[0m                         Traceback (most recent call last)",
      "\u001b[0;32m<ipython-input-31-6358a763dae4>\u001b[0m in \u001b[0;36m<module>\u001b[0;34m\u001b[0m\n\u001b[1;32m      7\u001b[0m )\n\u001b[1;32m      8\u001b[0m \u001b[0;34m\u001b[0m\u001b[0m\n\u001b[0;32m----> 9\u001b[0;31m \u001b[0mmodel\u001b[0m\u001b[0;34m.\u001b[0m\u001b[0mfit\u001b[0m\u001b[0;34m(\u001b[0m\u001b[0mtf_train_set\u001b[0m\u001b[0;34m,\u001b[0m \u001b[0mvalidation_data\u001b[0m\u001b[0;34m=\u001b[0m\u001b[0mtf_test_set\u001b[0m\u001b[0;34m,\u001b[0m \u001b[0mepochs\u001b[0m\u001b[0;34m=\u001b[0m\u001b[0;36m5\u001b[0m\u001b[0;34m)\u001b[0m\u001b[0;34m\u001b[0m\u001b[0;34m\u001b[0m\u001b[0m\n\u001b[0m",
      "\u001b[0;32m~/anaconda3/lib/python3.7/site-packages/keras/utils/traceback_utils.py\u001b[0m in \u001b[0;36merror_handler\u001b[0;34m(*args, **kwargs)\u001b[0m\n\u001b[1;32m     62\u001b[0m     \u001b[0mfiltered_tb\u001b[0m \u001b[0;34m=\u001b[0m \u001b[0;32mNone\u001b[0m\u001b[0;34m\u001b[0m\u001b[0;34m\u001b[0m\u001b[0m\n\u001b[1;32m     63\u001b[0m     \u001b[0;32mtry\u001b[0m\u001b[0;34m:\u001b[0m\u001b[0;34m\u001b[0m\u001b[0;34m\u001b[0m\u001b[0m\n\u001b[0;32m---> 64\u001b[0;31m       \u001b[0;32mreturn\u001b[0m \u001b[0mfn\u001b[0m\u001b[0;34m(\u001b[0m\u001b[0;34m*\u001b[0m\u001b[0margs\u001b[0m\u001b[0;34m,\u001b[0m \u001b[0;34m**\u001b[0m\u001b[0mkwargs\u001b[0m\u001b[0;34m)\u001b[0m\u001b[0;34m\u001b[0m\u001b[0;34m\u001b[0m\u001b[0m\n\u001b[0m\u001b[1;32m     65\u001b[0m     \u001b[0;32mexcept\u001b[0m \u001b[0mException\u001b[0m \u001b[0;32mas\u001b[0m \u001b[0me\u001b[0m\u001b[0;34m:\u001b[0m  \u001b[0;31m# pylint: disable=broad-except\u001b[0m\u001b[0;34m\u001b[0m\u001b[0;34m\u001b[0m\u001b[0m\n\u001b[1;32m     66\u001b[0m       \u001b[0mfiltered_tb\u001b[0m \u001b[0;34m=\u001b[0m \u001b[0m_process_traceback_frames\u001b[0m\u001b[0;34m(\u001b[0m\u001b[0me\u001b[0m\u001b[0;34m.\u001b[0m\u001b[0m__traceback__\u001b[0m\u001b[0;34m)\u001b[0m\u001b[0;34m\u001b[0m\u001b[0;34m\u001b[0m\u001b[0m\n",
      "\u001b[0;32m~/anaconda3/lib/python3.7/site-packages/keras/engine/training.py\u001b[0m in \u001b[0;36mfit\u001b[0;34m(self, x, y, batch_size, epochs, verbose, callbacks, validation_split, validation_data, shuffle, class_weight, sample_weight, initial_epoch, steps_per_epoch, validation_steps, validation_batch_size, validation_freq, max_queue_size, workers, use_multiprocessing)\u001b[0m\n\u001b[1;32m   1214\u001b[0m                 _r=1):\n\u001b[1;32m   1215\u001b[0m               \u001b[0mcallbacks\u001b[0m\u001b[0;34m.\u001b[0m\u001b[0mon_train_batch_begin\u001b[0m\u001b[0;34m(\u001b[0m\u001b[0mstep\u001b[0m\u001b[0;34m)\u001b[0m\u001b[0;34m\u001b[0m\u001b[0;34m\u001b[0m\u001b[0m\n\u001b[0;32m-> 1216\u001b[0;31m               \u001b[0mtmp_logs\u001b[0m \u001b[0;34m=\u001b[0m \u001b[0mself\u001b[0m\u001b[0;34m.\u001b[0m\u001b[0mtrain_function\u001b[0m\u001b[0;34m(\u001b[0m\u001b[0miterator\u001b[0m\u001b[0;34m)\u001b[0m\u001b[0;34m\u001b[0m\u001b[0;34m\u001b[0m\u001b[0m\n\u001b[0m\u001b[1;32m   1217\u001b[0m               \u001b[0;32mif\u001b[0m \u001b[0mdata_handler\u001b[0m\u001b[0;34m.\u001b[0m\u001b[0mshould_sync\u001b[0m\u001b[0;34m:\u001b[0m\u001b[0;34m\u001b[0m\u001b[0;34m\u001b[0m\u001b[0m\n\u001b[1;32m   1218\u001b[0m                 \u001b[0mcontext\u001b[0m\u001b[0;34m.\u001b[0m\u001b[0masync_wait\u001b[0m\u001b[0;34m(\u001b[0m\u001b[0;34m)\u001b[0m\u001b[0;34m\u001b[0m\u001b[0;34m\u001b[0m\u001b[0m\n",
      "\u001b[0;32m~/anaconda3/lib/python3.7/site-packages/tensorflow/python/util/traceback_utils.py\u001b[0m in \u001b[0;36merror_handler\u001b[0;34m(*args, **kwargs)\u001b[0m\n\u001b[1;32m    148\u001b[0m     \u001b[0mfiltered_tb\u001b[0m \u001b[0;34m=\u001b[0m \u001b[0;32mNone\u001b[0m\u001b[0;34m\u001b[0m\u001b[0;34m\u001b[0m\u001b[0m\n\u001b[1;32m    149\u001b[0m     \u001b[0;32mtry\u001b[0m\u001b[0;34m:\u001b[0m\u001b[0;34m\u001b[0m\u001b[0;34m\u001b[0m\u001b[0m\n\u001b[0;32m--> 150\u001b[0;31m       \u001b[0;32mreturn\u001b[0m \u001b[0mfn\u001b[0m\u001b[0;34m(\u001b[0m\u001b[0;34m*\u001b[0m\u001b[0margs\u001b[0m\u001b[0;34m,\u001b[0m \u001b[0;34m**\u001b[0m\u001b[0mkwargs\u001b[0m\u001b[0;34m)\u001b[0m\u001b[0;34m\u001b[0m\u001b[0;34m\u001b[0m\u001b[0m\n\u001b[0m\u001b[1;32m    151\u001b[0m     \u001b[0;32mexcept\u001b[0m \u001b[0mException\u001b[0m \u001b[0;32mas\u001b[0m \u001b[0me\u001b[0m\u001b[0;34m:\u001b[0m\u001b[0;34m\u001b[0m\u001b[0;34m\u001b[0m\u001b[0m\n\u001b[1;32m    152\u001b[0m       \u001b[0mfiltered_tb\u001b[0m \u001b[0;34m=\u001b[0m \u001b[0m_process_traceback_frames\u001b[0m\u001b[0;34m(\u001b[0m\u001b[0me\u001b[0m\u001b[0;34m.\u001b[0m\u001b[0m__traceback__\u001b[0m\u001b[0;34m)\u001b[0m\u001b[0;34m\u001b[0m\u001b[0;34m\u001b[0m\u001b[0m\n",
      "\u001b[0;32m~/anaconda3/lib/python3.7/site-packages/tensorflow/python/eager/def_function.py\u001b[0m in \u001b[0;36m__call__\u001b[0;34m(self, *args, **kwds)\u001b[0m\n\u001b[1;32m    908\u001b[0m \u001b[0;34m\u001b[0m\u001b[0m\n\u001b[1;32m    909\u001b[0m       \u001b[0;32mwith\u001b[0m \u001b[0mOptionalXlaContext\u001b[0m\u001b[0;34m(\u001b[0m\u001b[0mself\u001b[0m\u001b[0;34m.\u001b[0m\u001b[0m_jit_compile\u001b[0m\u001b[0;34m)\u001b[0m\u001b[0;34m:\u001b[0m\u001b[0;34m\u001b[0m\u001b[0;34m\u001b[0m\u001b[0m\n\u001b[0;32m--> 910\u001b[0;31m         \u001b[0mresult\u001b[0m \u001b[0;34m=\u001b[0m \u001b[0mself\u001b[0m\u001b[0;34m.\u001b[0m\u001b[0m_call\u001b[0m\u001b[0;34m(\u001b[0m\u001b[0;34m*\u001b[0m\u001b[0margs\u001b[0m\u001b[0;34m,\u001b[0m \u001b[0;34m**\u001b[0m\u001b[0mkwds\u001b[0m\u001b[0;34m)\u001b[0m\u001b[0;34m\u001b[0m\u001b[0;34m\u001b[0m\u001b[0m\n\u001b[0m\u001b[1;32m    911\u001b[0m \u001b[0;34m\u001b[0m\u001b[0m\n\u001b[1;32m    912\u001b[0m       \u001b[0mnew_tracing_count\u001b[0m \u001b[0;34m=\u001b[0m \u001b[0mself\u001b[0m\u001b[0;34m.\u001b[0m\u001b[0mexperimental_get_tracing_count\u001b[0m\u001b[0;34m(\u001b[0m\u001b[0;34m)\u001b[0m\u001b[0;34m\u001b[0m\u001b[0;34m\u001b[0m\u001b[0m\n",
      "\u001b[0;32m~/anaconda3/lib/python3.7/site-packages/tensorflow/python/eager/def_function.py\u001b[0m in \u001b[0;36m_call\u001b[0;34m(self, *args, **kwds)\u001b[0m\n\u001b[1;32m    940\u001b[0m       \u001b[0;31m# In this case we have created variables on the first call, so we run the\u001b[0m\u001b[0;34m\u001b[0m\u001b[0;34m\u001b[0m\u001b[0;34m\u001b[0m\u001b[0m\n\u001b[1;32m    941\u001b[0m       \u001b[0;31m# defunned version which is guaranteed to never create variables.\u001b[0m\u001b[0;34m\u001b[0m\u001b[0;34m\u001b[0m\u001b[0;34m\u001b[0m\u001b[0m\n\u001b[0;32m--> 942\u001b[0;31m       \u001b[0;32mreturn\u001b[0m \u001b[0mself\u001b[0m\u001b[0;34m.\u001b[0m\u001b[0m_stateless_fn\u001b[0m\u001b[0;34m(\u001b[0m\u001b[0;34m*\u001b[0m\u001b[0margs\u001b[0m\u001b[0;34m,\u001b[0m \u001b[0;34m**\u001b[0m\u001b[0mkwds\u001b[0m\u001b[0;34m)\u001b[0m  \u001b[0;31m# pylint: disable=not-callable\u001b[0m\u001b[0;34m\u001b[0m\u001b[0;34m\u001b[0m\u001b[0m\n\u001b[0m\u001b[1;32m    943\u001b[0m     \u001b[0;32melif\u001b[0m \u001b[0mself\u001b[0m\u001b[0;34m.\u001b[0m\u001b[0m_stateful_fn\u001b[0m \u001b[0;32mis\u001b[0m \u001b[0;32mnot\u001b[0m \u001b[0;32mNone\u001b[0m\u001b[0;34m:\u001b[0m\u001b[0;34m\u001b[0m\u001b[0;34m\u001b[0m\u001b[0m\n\u001b[1;32m    944\u001b[0m       \u001b[0;31m# Release the lock early so that multiple threads can perform the call\u001b[0m\u001b[0;34m\u001b[0m\u001b[0;34m\u001b[0m\u001b[0;34m\u001b[0m\u001b[0m\n",
      "\u001b[0;32m~/anaconda3/lib/python3.7/site-packages/tensorflow/python/eager/function.py\u001b[0m in \u001b[0;36m__call__\u001b[0;34m(self, *args, **kwargs)\u001b[0m\n\u001b[1;32m   3129\u001b[0m        filtered_flat_args) = self._maybe_define_function(args, kwargs)\n\u001b[1;32m   3130\u001b[0m     return graph_function._call_flat(\n\u001b[0;32m-> 3131\u001b[0;31m         filtered_flat_args, captured_inputs=graph_function.captured_inputs)  # pylint: disable=protected-access\n\u001b[0m\u001b[1;32m   3132\u001b[0m \u001b[0;34m\u001b[0m\u001b[0m\n\u001b[1;32m   3133\u001b[0m   \u001b[0;34m@\u001b[0m\u001b[0mproperty\u001b[0m\u001b[0;34m\u001b[0m\u001b[0;34m\u001b[0m\u001b[0m\n",
      "\u001b[0;32m~/anaconda3/lib/python3.7/site-packages/tensorflow/python/eager/function.py\u001b[0m in \u001b[0;36m_call_flat\u001b[0;34m(self, args, captured_inputs, cancellation_manager)\u001b[0m\n\u001b[1;32m   1958\u001b[0m       \u001b[0;31m# No tape is watching; skip to running the function.\u001b[0m\u001b[0;34m\u001b[0m\u001b[0;34m\u001b[0m\u001b[0;34m\u001b[0m\u001b[0m\n\u001b[1;32m   1959\u001b[0m       return self._build_call_outputs(self._inference_function.call(\n\u001b[0;32m-> 1960\u001b[0;31m           ctx, args, cancellation_manager=cancellation_manager))\n\u001b[0m\u001b[1;32m   1961\u001b[0m     forward_backward = self._select_forward_and_backward_functions(\n\u001b[1;32m   1962\u001b[0m         \u001b[0margs\u001b[0m\u001b[0;34m,\u001b[0m\u001b[0;34m\u001b[0m\u001b[0;34m\u001b[0m\u001b[0m\n",
      "\u001b[0;32m~/anaconda3/lib/python3.7/site-packages/tensorflow/python/eager/function.py\u001b[0m in \u001b[0;36mcall\u001b[0;34m(self, ctx, args, cancellation_manager)\u001b[0m\n\u001b[1;32m    601\u001b[0m               \u001b[0minputs\u001b[0m\u001b[0;34m=\u001b[0m\u001b[0margs\u001b[0m\u001b[0;34m,\u001b[0m\u001b[0;34m\u001b[0m\u001b[0;34m\u001b[0m\u001b[0m\n\u001b[1;32m    602\u001b[0m               \u001b[0mattrs\u001b[0m\u001b[0;34m=\u001b[0m\u001b[0mattrs\u001b[0m\u001b[0;34m,\u001b[0m\u001b[0;34m\u001b[0m\u001b[0;34m\u001b[0m\u001b[0m\n\u001b[0;32m--> 603\u001b[0;31m               ctx=ctx)\n\u001b[0m\u001b[1;32m    604\u001b[0m         \u001b[0;32melse\u001b[0m\u001b[0;34m:\u001b[0m\u001b[0;34m\u001b[0m\u001b[0;34m\u001b[0m\u001b[0m\n\u001b[1;32m    605\u001b[0m           outputs = execute.execute_with_cancellation(\n",
      "\u001b[0;32m~/anaconda3/lib/python3.7/site-packages/tensorflow/python/eager/execute.py\u001b[0m in \u001b[0;36mquick_execute\u001b[0;34m(op_name, num_outputs, inputs, attrs, ctx, name)\u001b[0m\n\u001b[1;32m     57\u001b[0m     \u001b[0mctx\u001b[0m\u001b[0;34m.\u001b[0m\u001b[0mensure_initialized\u001b[0m\u001b[0;34m(\u001b[0m\u001b[0;34m)\u001b[0m\u001b[0;34m\u001b[0m\u001b[0;34m\u001b[0m\u001b[0m\n\u001b[1;32m     58\u001b[0m     tensors = pywrap_tfe.TFE_Py_Execute(ctx._handle, device_name, op_name,\n\u001b[0;32m---> 59\u001b[0;31m                                         inputs, attrs, num_outputs)\n\u001b[0m\u001b[1;32m     60\u001b[0m   \u001b[0;32mexcept\u001b[0m \u001b[0mcore\u001b[0m\u001b[0;34m.\u001b[0m\u001b[0m_NotOkStatusException\u001b[0m \u001b[0;32mas\u001b[0m \u001b[0me\u001b[0m\u001b[0;34m:\u001b[0m\u001b[0;34m\u001b[0m\u001b[0;34m\u001b[0m\u001b[0m\n\u001b[1;32m     61\u001b[0m     \u001b[0;32mif\u001b[0m \u001b[0mname\u001b[0m \u001b[0;32mis\u001b[0m \u001b[0;32mnot\u001b[0m \u001b[0;32mNone\u001b[0m\u001b[0;34m:\u001b[0m\u001b[0;34m\u001b[0m\u001b[0;34m\u001b[0m\u001b[0m\n",
      "\u001b[0;31mKeyboardInterrupt\u001b[0m: "
     ]
    }
   ],
   "source": [
    "model.layers[0].trainable = False\n",
    "\n",
    "model.compile(\n",
    "    optimizer=tf.keras.optimizers.Adam(learning_rate=5e-5),\n",
    "    loss=tf.keras.losses.SparseCategoricalCrossentropy(from_logits=True),\n",
    "    metrics=tf.metrics.SparseCategoricalAccuracy(),\n",
    ")\n",
    "\n",
    "model.fit(tf_train_set, validation_data=tf_test_set, epochs=5)"
   ]
  },
  {
   "cell_type": "code",
   "execution_count": 3,
   "metadata": {},
   "outputs": [
    {
     "name": "stdout",
     "output_type": "stream",
     "text": [
      "50000\n",
      "50000\n"
     ]
    }
   ],
   "source": [
    "# reviews = []\n",
    "# labels = []\n",
    "\n",
    "# for row in df.iterrows():\n",
    "#     labels.append(row[1]['label'])\n",
    "#     review = row[1]['review']\n",
    "#     for word in STOPWORDS:\n",
    "#         token = ' ' + word + ' '\n",
    "#         review = review.replace(token, ' ')\n",
    "#         review = review.replace(' ', ' ')\n",
    "#     reviews.append(review)\n",
    "# print(len(labels))\n",
    "# print(len(reviews))"
   ]
  },
  {
   "cell_type": "markdown",
   "metadata": {},
   "source": [
    "## Evaluation"
   ]
  },
  {
   "cell_type": "code",
   "execution_count": 275,
   "metadata": {},
   "outputs": [],
   "source": [
    "# colors = plt.rcParams['axes.prop_cycle'].by_key()['color']\n",
    "# mpl.rcParams['figure.figsize'] = (12, 10)"
   ]
  },
  {
   "cell_type": "code",
   "execution_count": 276,
   "metadata": {},
   "outputs": [],
   "source": [
    "# def plot_metrics(history):\n",
    "#     metrics = ['loss', 'accuracy']\n",
    "#     for n, metric in enumerate(metrics):\n",
    "#         name = metric.replace(\"_\",\" \").capitalize()\n",
    "#         plt.subplot(2,2,n+1)\n",
    "#         plt.plot(history.epoch, history.history[metric], color=colors[0], label='Train')\n",
    "#         plt.plot(history.epoch, history.history['val_'+metric],\n",
    "#                  color=colors[0], linestyle=\"--\", label='Val')\n",
    "#         plt.xlabel('Epoch')\n",
    "#         plt.ylabel(name)\n",
    "#         if metric == 'loss':\n",
    "#             plt.ylim([0, plt.ylim()[1]])\n",
    "#         elif metric == 'auc':\n",
    "#             plt.ylim([0.8,1])\n",
    "#         else:\n",
    "#             plt.ylim([0,1])\n",
    "\n",
    "#         plt.legend();"
   ]
  },
  {
   "cell_type": "code",
   "execution_count": 286,
   "metadata": {},
   "outputs": [
    {
     "data": {
      "image/png": "[encoded data removed]",
      "text/plain": [
       "<Figure size 864x720 with 2 Axes>"
      ]
     },
     "metadata": {
      "needs_background": "light"
     },
     "output_type": "display_data"
    }
   ],
   "source": [
    "# plot_metrics(history)"
   ]
  },
  {
   "cell_type": "code",
   "execution_count": 287,
   "metadata": {},
   "outputs": [
    {
     "name": "stdout",
     "output_type": "stream",
     "text": [
      "157/157 [==============================] - 0s 1ms/step - loss: 1.5388 - accuracy: 0.5240\n",
      "Int model accuracy: 52.40%\n"
     ]
    }
   ],
   "source": [
    "# int_loss, int_accuracy = int_model.evaluate(int_test_ds[0], int_test_ds[1])\n",
    "\n",
    "# print(\"Int model accuracy: {:2.2%}\".format(int_accuracy))"
   ]
  },
  {
   "cell_type": "code",
   "execution_count": 288,
   "metadata": {},
   "outputs": [
    {
     "name": "stdout",
     "output_type": "stream",
     "text": [
      "[[-12.551326   -14.205595   -10.307593    -6.996902    -6.236613\n",
      "  -11.317929    14.247541     0.38065982  15.718541  ]]\n"
     ]
    }
   ],
   "source": [
    "# predictions = int_model.predict(int_test_ds[0])\n",
    "# print(predictions[:1])"
   ]
  },
  {
   "cell_type": "code",
   "execution_count": 289,
   "metadata": {},
   "outputs": [
    {
     "name": "stdout",
     "output_type": "stream",
     "text": [
      "[[-12.551326   -14.205595   -10.307593   ...  14.247541     0.38065982\n",
      "   15.718541  ]\n",
      " [ -2.5539522  -11.087661     2.168796   ...   0.59642243  -8.97046\n",
      "    5.491527  ]\n",
      " [-14.290668   -13.789915    -4.7460256  ...  11.998764     1.4773175\n",
      "   13.5251255 ]\n",
      " ...\n",
      " [-16.912428   -18.866726   -10.535642   ...   7.2865367   -3.2117934\n",
      "   10.618746  ]\n",
      " [ -7.1668673  -10.601623    -6.650805   ...  -4.0072656   -5.804961\n",
      "   -0.5142288 ]\n",
      " [ -3.5702062   -6.9096284   -2.2240076  ...  -1.6571041   -4.138695\n",
      "    0.28596228]]\n"
     ]
    }
   ],
   "source": [
    "# print(predictions)"
   ]
  },
  {
   "cell_type": "code",
   "execution_count": 290,
   "metadata": {},
   "outputs": [],
   "source": [
    "# test_re = int_test_ds[1].reset_index(drop=True)"
   ]
  },
  {
   "cell_type": "code",
   "execution_count": 291,
   "metadata": {},
   "outputs": [],
   "source": [
    "# test_val_list = []\n",
    "# pred_val_list = []\n",
    "\n",
    "# for i in range(0,len(test_re)):\n",
    "#     test_val = test_re[i]\n",
    "#     test_val_list.append(test_val)\n",
    "#     pred_val = list(predictions[i]).index(predictions[i].max())\n",
    "#     pred_val_list.append(pred_val)"
   ]
  },
  {
   "cell_type": "code",
   "execution_count": 292,
   "metadata": {},
   "outputs": [],
   "source": [
    "# df_results = pd.DataFrame(\n",
    "#         {'Test_val':test_val_list,\n",
    "#             'Pred_val':pred_val_list}\n",
    "\n",
    "# )"
   ]
  },
  {
   "cell_type": "code",
   "execution_count": 293,
   "metadata": {},
   "outputs": [
    {
     "data": {
      "text/html": [
       "<div>\n",
       "<style scoped>\n",
       "    .dataframe tbody tr th:only-of-type {\n",
       "        vertical-align: middle;\n",
       "    }\n",
       "\n",
       "    .dataframe tbody tr th {\n",
       "        vertical-align: top;\n",
       "    }\n",
       "\n",
       "    .dataframe thead th {\n",
       "        text-align: right;\n",
       "    }\n",
       "</style>\n",
       "<table border=\"1\" class=\"dataframe\">\n",
       "  <thead>\n",
       "    <tr style=\"text-align: right;\">\n",
       "      <th></th>\n",
       "      <th>Test_val</th>\n",
       "      <th>Pred_val</th>\n",
       "    </tr>\n",
       "  </thead>\n",
       "  <tbody>\n",
       "    <tr>\n",
       "      <th>0</th>\n",
       "      <td>2</td>\n",
       "      <td>8</td>\n",
       "    </tr>\n",
       "    <tr>\n",
       "      <th>1</th>\n",
       "      <td>6</td>\n",
       "      <td>8</td>\n",
       "    </tr>\n",
       "    <tr>\n",
       "      <th>2</th>\n",
       "      <td>8</td>\n",
       "      <td>8</td>\n",
       "    </tr>\n",
       "    <tr>\n",
       "      <th>3</th>\n",
       "      <td>8</td>\n",
       "      <td>8</td>\n",
       "    </tr>\n",
       "    <tr>\n",
       "      <th>4</th>\n",
       "      <td>8</td>\n",
       "      <td>6</td>\n",
       "    </tr>\n",
       "    <tr>\n",
       "      <th>...</th>\n",
       "      <td>...</td>\n",
       "      <td>...</td>\n",
       "    </tr>\n",
       "    <tr>\n",
       "      <th>4995</th>\n",
       "      <td>8</td>\n",
       "      <td>8</td>\n",
       "    </tr>\n",
       "    <tr>\n",
       "      <th>4996</th>\n",
       "      <td>8</td>\n",
       "      <td>6</td>\n",
       "    </tr>\n",
       "    <tr>\n",
       "      <th>4997</th>\n",
       "      <td>8</td>\n",
       "      <td>8</td>\n",
       "    </tr>\n",
       "    <tr>\n",
       "      <th>4998</th>\n",
       "      <td>6</td>\n",
       "      <td>8</td>\n",
       "    </tr>\n",
       "    <tr>\n",
       "      <th>4999</th>\n",
       "      <td>4</td>\n",
       "      <td>8</td>\n",
       "    </tr>\n",
       "  </tbody>\n",
       "</table>\n",
       "<p>5000 rows × 2 columns</p>\n",
       "</div>"
      ],
      "text/plain": [
       "      Test_val  Pred_val\n",
       "0            2         8\n",
       "1            6         8\n",
       "2            8         8\n",
       "3            8         8\n",
       "4            8         6\n",
       "...        ...       ...\n",
       "4995         8         8\n",
       "4996         8         6\n",
       "4997         8         8\n",
       "4998         6         8\n",
       "4999         4         8\n",
       "\n",
       "[5000 rows x 2 columns]"
      ]
     },
     "execution_count": 293,
     "metadata": {},
     "output_type": "execute_result"
    }
   ],
   "source": [
    "# df_results"
   ]
  },
  {
   "cell_type": "code",
   "execution_count": 294,
   "metadata": {},
   "outputs": [],
   "source": [
    "# df_results['match']='False'\n",
    "# df_results.loc[df_results['Test_val']==df_results['Pred_val'],'match'] = 'True'"
   ]
  },
  {
   "cell_type": "code",
   "execution_count": 295,
   "metadata": {},
   "outputs": [],
   "source": [
    "# df_group = df_results.groupby(['Test_val','match']).count()"
   ]
  },
  {
   "cell_type": "code",
   "execution_count": 296,
   "metadata": {},
   "outputs": [
    {
     "data": {
      "text/plain": [
       "8    0.6066\n",
       "6    0.3024\n",
       "4    0.0510\n",
       "0    0.0196\n",
       "2    0.0166\n",
       "7    0.0024\n",
       "3    0.0008\n",
       "5    0.0004\n",
       "1    0.0002\n",
       "Name: Pred_val, dtype: float64"
      ]
     },
     "execution_count": 296,
     "metadata": {},
     "output_type": "execute_result"
    }
   ],
   "source": [
    "# df_results['Pred_val'].value_counts(normalize=True)"
   ]
  },
  {
   "cell_type": "code",
   "execution_count": 298,
   "metadata": {},
   "outputs": [
    {
     "data": {
      "text/html": [
       "<div>\n",
       "<style scoped>\n",
       "    .dataframe tbody tr th:only-of-type {\n",
       "        vertical-align: middle;\n",
       "    }\n",
       "\n",
       "    .dataframe tbody tr th {\n",
       "        vertical-align: top;\n",
       "    }\n",
       "\n",
       "    .dataframe thead th {\n",
       "        text-align: right;\n",
       "    }\n",
       "</style>\n",
       "<table border=\"1\" class=\"dataframe\">\n",
       "  <thead>\n",
       "    <tr style=\"text-align: right;\">\n",
       "      <th></th>\n",
       "      <th></th>\n",
       "      <th>Pred_val</th>\n",
       "    </tr>\n",
       "    <tr>\n",
       "      <th>Test_val</th>\n",
       "      <th>match</th>\n",
       "      <th></th>\n",
       "    </tr>\n",
       "  </thead>\n",
       "  <tbody>\n",
       "    <tr>\n",
       "      <th rowspan=\"2\" valign=\"top\">0</th>\n",
       "      <th>False</th>\n",
       "      <td>55</td>\n",
       "    </tr>\n",
       "    <tr>\n",
       "      <th>True</th>\n",
       "      <td>26</td>\n",
       "    </tr>\n",
       "    <tr>\n",
       "      <th>1</th>\n",
       "      <th>False</th>\n",
       "      <td>1</td>\n",
       "    </tr>\n",
       "    <tr>\n",
       "      <th rowspan=\"2\" valign=\"top\">2</th>\n",
       "      <th>False</th>\n",
       "      <td>46</td>\n",
       "    </tr>\n",
       "    <tr>\n",
       "      <th>True</th>\n",
       "      <td>5</td>\n",
       "    </tr>\n",
       "    <tr>\n",
       "      <th rowspan=\"2\" valign=\"top\">4</th>\n",
       "      <th>False</th>\n",
       "      <td>246</td>\n",
       "    </tr>\n",
       "    <tr>\n",
       "      <th>True</th>\n",
       "      <td>37</td>\n",
       "    </tr>\n",
       "    <tr>\n",
       "      <th rowspan=\"2\" valign=\"top\">5</th>\n",
       "      <th>False</th>\n",
       "      <td>1</td>\n",
       "    </tr>\n",
       "    <tr>\n",
       "      <th>True</th>\n",
       "      <td>1</td>\n",
       "    </tr>\n",
       "    <tr>\n",
       "      <th rowspan=\"2\" valign=\"top\">6</th>\n",
       "      <th>False</th>\n",
       "      <td>901</td>\n",
       "    </tr>\n",
       "    <tr>\n",
       "      <th>True</th>\n",
       "      <td>472</td>\n",
       "    </tr>\n",
       "    <tr>\n",
       "      <th rowspan=\"2\" valign=\"top\">7</th>\n",
       "      <th>False</th>\n",
       "      <td>14</td>\n",
       "    </tr>\n",
       "    <tr>\n",
       "      <th>True</th>\n",
       "      <td>1</td>\n",
       "    </tr>\n",
       "    <tr>\n",
       "      <th rowspan=\"2\" valign=\"top\">8</th>\n",
       "      <th>False</th>\n",
       "      <td>1116</td>\n",
       "    </tr>\n",
       "    <tr>\n",
       "      <th>True</th>\n",
       "      <td>2078</td>\n",
       "    </tr>\n",
       "  </tbody>\n",
       "</table>\n",
       "</div>"
      ],
      "text/plain": [
       "                Pred_val\n",
       "Test_val match          \n",
       "0        False        55\n",
       "         True         26\n",
       "1        False         1\n",
       "2        False        46\n",
       "         True          5\n",
       "4        False       246\n",
       "         True         37\n",
       "5        False         1\n",
       "         True          1\n",
       "6        False       901\n",
       "         True        472\n",
       "7        False        14\n",
       "         True          1\n",
       "8        False      1116\n",
       "         True       2078"
      ]
     },
     "execution_count": 298,
     "metadata": {},
     "output_type": "execute_result"
    }
   ],
   "source": [
    "# df_group"
   ]
  },
  {
   "cell_type": "markdown",
   "metadata": {},
   "source": [
    "## Evaluation if accuracy not provided as metric when training"
   ]
  },
  {
   "cell_type": "code",
   "execution_count": null,
   "metadata": {},
   "outputs": [],
   "source": [
    "y_preds = model.predict(tf_train_set)"
   ]
  },
  {
   "cell_type": "code",
   "execution_count": null,
   "metadata": {},
   "outputs": [],
   "source": [
    "y_preds[\"logits\"][3000]"
   ]
  },
  {
   "cell_type": "code",
   "execution_count": null,
   "metadata": {},
   "outputs": [],
   "source": [
    "rating_preds = []\n",
    "for i in y_preds[\"logits\"]:\n",
    "    rating_preds.append(np.argmax(i, axis=0))"
   ]
  },
  {
   "cell_type": "code",
   "execution_count": null,
   "metadata": {},
   "outputs": [],
   "source": [
    "print('accuracy %s' % accuracy_score(rating_preds, test[\"label\"]))"
   ]
  },
  {
   "cell_type": "markdown",
   "metadata": {},
   "source": [
    "## Model Deployment"
   ]
  },
  {
   "cell_type": "markdown",
   "metadata": {},
   "source": [
    "You can now deploy your model to the dedicated Seldon Deploy cluster which we have configured for this workshop. To do so you will interact with the Seldon Deploy SDK and deploy your model using that.\n",
    "\n",
    "First, setting up the configuration and authentication required to access the cluster. Make sure to fill in the `SD_IP` variable to be the same as the cluster you are using."
   ]
  },
  {
   "cell_type": "code",
   "execution_count": 8,
   "metadata": {},
   "outputs": [],
   "source": [
    "SD_IP = \"34.141.146.222\"\n",
    "\n",
    "config = Configuration()\n",
    "config.host = f\"http://{SD_IP}/seldon-deploy/api/v1alpha1\"\n",
    "config.oidc_client_id = \"sd-api\"\n",
    "config.oidc_server = f\"http://{SD_IP}/auth/realms/deploy-realm\"\n",
    "config.oidc_client_secret = \"sd-api-secret\"\n",
    "config.auth_method = \"client_credentials\"\n",
    "\n",
    "def auth():\n",
    "    auth = OIDCAuthenticator(config)\n",
    "    config.id_token = auth.authenticate()\n",
    "    api_client = ApiClient(configuration=config, authenticator=auth)\n",
    "    return api_client"
   ]
  },
  {
   "cell_type": "markdown",
   "metadata": {},
   "source": [
    "Now you have configured the IP correctly as well as setup your authentication function you can describe the deployment you would like to create. \n",
    "\n",
    "You will need to fill in the `YOUR_NAME` variable. This MUST be lower case as it will be used for the `DEPLOYMENT_NAME` variable later on.\n",
    "\n",
    "The `MODEL_NAME` and `MODEL_PATH` variables have been prefilled for you as we are using a pretrained model and a pre-built container image for the sake of saving time in the workshop. \n",
    "\n",
    "The rest of the `mldeployment` description has been completed for you.\n"
   ]
  },
  {
   "cell_type": "code",
   "execution_count": 10,
   "metadata": {},
   "outputs": [],
   "source": [
    "YOUR_NAME = \"kellyspry\"\n",
    "MODEL_NAME = \"review-ratings\"\n",
    "\n",
    "DEPLOYMENT_NAME = f\"{YOUR_NAME}-{MODEL_NAME}\"\n",
    "CONTAINER_NAME = f\"kellyspry0316/{MODEL_NAME}:0.6\"\n",
    "\n",
    "NAMESPACE = \"seldon-gitops\"\n",
    "\n",
    "CPU_REQUESTS = \"0.1\"\n",
    "MEMORY_REQUESTS = \"1Gi\"\n",
    "\n",
    "CPU_LIMITS = \"0.1\"\n",
    "MEMORY_LIMITS = \"1Gi\"\n",
    "\n",
    "MODEL_PATH = \"nlp-ratings/1/\""
   ]
  },
  {
   "cell_type": "code",
   "execution_count": 11,
   "metadata": {},
   "outputs": [],
   "source": [
    "mldeployment = {\n",
    "    \"kind\": \"SeldonDeployment\",\n",
    "    \"metadata\": {\n",
    "        \"name\": DEPLOYMENT_NAME,\n",
    "        \"namespace\": NAMESPACE,\n",
    "        \"labels\": {\n",
    "            \"fluentd\": \"true\"\n",
    "        }\n",
    "    },\n",
    "    \"apiVersion\": \"machinelearning.seldon.io/v1alpha2\",\n",
    "    \"spec\": {\n",
    "        \"name\": DEPLOYMENT_NAME,\n",
    "        \"annotations\": {\n",
    "            \"seldon.io/engine-seldon-log-messages-externally\": \"true\"\n",
    "        },\n",
    "        \"protocol\": \"seldon\",\n",
    "        \"predictors\": [\n",
    "            {\n",
    "                \"componentSpecs\": [\n",
    "                    {\n",
    "                        \"spec\": {\n",
    "                            \"containers\": [\n",
    "                                {\n",
    "                                    \"name\": f\"{DEPLOYMENT_NAME}-container\",\n",
    "                                    \"image\": CONTAINER_NAME,\n",
    "                                    \"resources\": {\n",
    "                                        \"requests\": {\n",
    "                                            \"cpu\": CPU_REQUESTS,\n",
    "                                            \"memory\": MEMORY_REQUESTS\n",
    "                                        },\n",
    "                                        \"limits\": {\n",
    "                                            \"cpu\": CPU_LIMITS,\n",
    "                                            \"memory\": MEMORY_LIMITS\n",
    "                                        }\n",
    "                                    }\n",
    "                                }\n",
    "                            ]\n",
    "                        }\n",
    "                    }\n",
    "                ],\n",
    "                \"name\": \"default\",\n",
    "                \"replicas\": 1,\n",
    "                \"traffic\": 100,\n",
    "                \"graph\": {\n",
    "                    \"name\": f\"{DEPLOYMENT_NAME}-container\",\n",
    "                    \"parameters\": [\n",
    "                        {\n",
    "                            \"name\":\"model_path\",\n",
    "                            \"value\":MODEL_PATH,\n",
    "                            \"type\":\"STRING\"\n",
    "                        }\n",
    "                    ],\n",
    "                    \"children\": [],\n",
    "                    \"logger\": {\n",
    "                        \"mode\": \"all\"\n",
    "                    }\n",
    "                }\n",
    "            }\n",
    "        ]\n",
    "    },\n",
    "    \"status\": {}\n",
    "}\n",
    "      "
   ]
  },
  {
   "cell_type": "markdown",
   "metadata": {},
   "source": [
    "You can now invoke the SeldonDeploymentsApi and create a new Seldon Deployment.\n",
    "\n",
    "Time for you to get your hands dirty. You will use the Seldon Deploy SDK to create a new Seldon deployment. You can find the reference documentation [here](https://github.com/SeldonIO/seldon-deploy-sdk/blob/master/python/README.md)."
   ]
  },
  {
   "cell_type": "code",
   "execution_count": 12,
   "metadata": {},
   "outputs": [
    {
     "data": {
      "text/plain": [
       "{'api_version': 'machinelearning.seldon.io/v1alpha2',\n",
       " 'kind': 'SeldonDeployment',\n",
       " 'metadata': {'annotations': None,\n",
       "              'cluster_name': None,\n",
       "              'creation_timestamp': None,\n",
       "              'deletion_grace_period_seconds': None,\n",
       "              'deletion_timestamp': None,\n",
       "              'finalizers': None,\n",
       "              'generate_name': None,\n",
       "              'generation': None,\n",
       "              'labels': {'fluentd': 'true'},\n",
       "              'managed_fields': None,\n",
       "              'name': 'kellyspry-review-ratings',\n",
       "              'namespace': 'seldon-gitops',\n",
       "              'owner_references': None,\n",
       "              'resource_version': None,\n",
       "              'self_link': None,\n",
       "              'uid': None},\n",
       " 'spec': {'annotations': {'seldon.io/engine-seldon-log-messages-externally': 'true'},\n",
       "          'name': 'kellyspry-review-ratings',\n",
       "          'oauth_key': None,\n",
       "          'oauth_secret': None,\n",
       "          'predictors': [{'annotations': None,\n",
       "                          'component_specs': [{'hpa_spec': None,\n",
       "                                               'keda_spec': None,\n",
       "                                               'metadata': {'annotations': None,\n",
       "                                                            'cluster_name': None,\n",
       "                                                            'creation_timestamp': '2022-06-24T17:17:54Z',\n",
       "                                                            'deletion_grace_period_seconds': None,\n",
       "                                                            'deletion_timestamp': None,\n",
       "                                                            'finalizers': None,\n",
       "                                                            'generate_name': None,\n",
       "                                                            'generation': None,\n",
       "                                                            'labels': None,\n",
       "                                                            'managed_fields': None,\n",
       "                                                            'name': None,\n",
       "                                                            'namespace': None,\n",
       "                                                            'owner_references': None,\n",
       "                                                            'resource_version': None,\n",
       "                                                            'self_link': None,\n",
       "                                                            'uid': None},\n",
       "                                               'pdb_spec': None,\n",
       "                                               'replicas': None,\n",
       "                                               'spec': {'active_deadline_seconds': None,\n",
       "                                                        'affinity': None,\n",
       "                                                        'automount_service_account_token': None,\n",
       "                                                        'containers': [{'args': None,\n",
       "                                                                        'command': None,\n",
       "                                                                        'env': None,\n",
       "                                                                        'env_from': None,\n",
       "                                                                        'image': 'kellyspry0316/review-ratings:0.6',\n",
       "                                                                        'image_pull_policy': None,\n",
       "                                                                        'lifecycle': None,\n",
       "                                                                        'liveness_probe': None,\n",
       "                                                                        'name': 'kellyspry-review-ratings-container',\n",
       "                                                                        'ports': None,\n",
       "                                                                        'readiness_probe': None,\n",
       "                                                                        'resources': {'limits': {'cpu': '100m',\n",
       "                                                                                                 'memory': '1Gi'},\n",
       "                                                                                      'requests': {'cpu': '100m',\n",
       "                                                                                                   'memory': '1Gi'}},\n",
       "                                                                        'security_context': None,\n",
       "                                                                        'startup_probe': None,\n",
       "                                                                        'stdin': None,\n",
       "                                                                        'stdin_once': None,\n",
       "                                                                        'termination_message_path': None,\n",
       "                                                                        'termination_message_policy': None,\n",
       "                                                                        'tty': None,\n",
       "                                                                        'volume_devices': None,\n",
       "                                                                        'volume_mounts': None,\n",
       "                                                                        'working_dir': None}],\n",
       "                                                        'dns_config': None,\n",
       "                                                        'dns_policy': None,\n",
       "                                                        'enable_service_links': None,\n",
       "                                                        'ephemeral_containers': None,\n",
       "                                                        'host_aliases': None,\n",
       "                                                        'host_ipc': None,\n",
       "                                                        'host_network': None,\n",
       "                                                        'host_pid': None,\n",
       "                                                        'hostname': None,\n",
       "                                                        'image_pull_secrets': None,\n",
       "                                                        'init_containers': None,\n",
       "                                                        'node_name': None,\n",
       "                                                        'node_selector': None,\n",
       "                                                        'overhead': None,\n",
       "                                                        'preemption_policy': None,\n",
       "                                                        'priority': None,\n",
       "                                                        'priority_class_name': None,\n",
       "                                                        'readiness_gates': None,\n",
       "                                                        'restart_policy': None,\n",
       "                                                        'runtime_class_name': None,\n",
       "                                                        'scheduler_name': None,\n",
       "                                                        'security_context': None,\n",
       "                                                        'service_account': None,\n",
       "                                                        'service_account_name': None,\n",
       "                                                        'set_hostname_as_fqdn': None,\n",
       "                                                        'share_process_namespace': None,\n",
       "                                                        'subdomain': None,\n",
       "                                                        'termination_grace_period_seconds': None,\n",
       "                                                        'tolerations': None,\n",
       "                                                        'topology_spread_constraints': None,\n",
       "                                                        'volumes': None}}],\n",
       "                          'engine_resources': {'limits': None,\n",
       "                                               'requests': None},\n",
       "                          'explainer': None,\n",
       "                          'graph': {'children': None,\n",
       "                                    'endpoint': None,\n",
       "                                    'env_secret_ref_name': None,\n",
       "                                    'implementation': None,\n",
       "                                    'logger': {'mode': 'all', 'url': None},\n",
       "                                    'methods': None,\n",
       "                                    'model_uri': None,\n",
       "                                    'name': 'kellyspry-review-ratings-container',\n",
       "                                    'parameters': [{'name': 'model_path',\n",
       "                                                    'type': 'STRING',\n",
       "                                                    'value': 'nlp-ratings/1/'}],\n",
       "                                    'service_account_name': None,\n",
       "                                    'storage_initializer_image': None,\n",
       "                                    'type': None},\n",
       "                          'labels': None,\n",
       "                          'name': 'default',\n",
       "                          'replicas': 1,\n",
       "                          'shadow': None,\n",
       "                          'ssl': None,\n",
       "                          'svc_orch_spec': {'env': None,\n",
       "                                            'replicas': None,\n",
       "                                            'resources': None},\n",
       "                          'traffic': 100}],\n",
       "          'protocol': 'seldon',\n",
       "          'replicas': None,\n",
       "          'server_type': None,\n",
       "          'transport': None},\n",
       " 'status': {'address': None,\n",
       "            'annotations': None,\n",
       "            'conditions': None,\n",
       "            'deployment_status': None,\n",
       "            'description': None,\n",
       "            'observed_generation': None,\n",
       "            'replicas': None,\n",
       "            'service_status': None,\n",
       "            'state': None}}"
      ]
     },
     "execution_count": 12,
     "metadata": {},
     "output_type": "execute_result"
    }
   ],
   "source": [
    "deployment_api = SeldonDeploymentsApi(auth())\n",
    "deployment_api.create_seldon_deployment(namespace=NAMESPACE, mldeployment=mldeployment)"
   ]
  },
  {
   "cell_type": "markdown",
   "metadata": {},
   "source": [
    "Example of a good review:\n",
    "\n",
    "```\n",
    "{\n",
    "    \"data\": {\n",
    "                \"ndarray\": [\n",
    "                    [\n",
    "                    \"This product is the best, it is so amazing. Incredible!\"\n",
    "                    ]\n",
    "                 ]\n",
    "           }\n",
    "}\n",
    "                        \n",
    "```\n",
    "\n",
    "\n",
    "Example of a bad review:\n",
    "\n",
    "```\n",
    "{\n",
    "    \"data\": {\n",
    "                \"ndarray\": [\n",
    "                    [\n",
    "                    \"This product is the worst, it is absolutely terrible. Awful!\"\n",
    "                    ]\n",
    "                 ]\n",
    "           }\n",
    "}\n",
    "                        \n",
    "```"
   ]
  },
  {
   "cell_type": "markdown",
   "metadata": {},
   "source": [
    "You can access the Seldon Deploy cluster and view your freshly created deployment here:\n",
    "\n",
    "### To do - add cluster IP in here when cluster is decided on\n",
    "\n",
    "* URL: http://34.141.146.222/seldon-deploy/\n",
    "* Username: admin@seldon.io\n",
    "* Password: 12341234"
   ]
  },
  {
   "cell_type": "markdown",
   "metadata": {},
   "source": [
    "## Adding a Prediction Schema and Metadata"
   ]
  },
  {
   "cell_type": "markdown",
   "metadata": {},
   "source": [
    "Seldon Deploy has a model catalog where all deployed models are automatically registered. The model catalog can store custom metadata as well as prediction schemas for your models.\n",
    "\n",
    "Metadata promotes lineage from across different machine learning systems, aids knowledge transfer between teams, and allows for faster deployment. Meanwhile, prediction schemas allow Seldon Deploy to automatically profile tabular data into histograms, allowing for filtering on features to explore trends.\n",
    "\n",
    "In order to effectively construct a prediction schema Seldon has the ML Prediction Schema project. "
   ]
  },
  {
   "cell_type": "code",
   "execution_count": 1,
   "metadata": {},
   "outputs": [],
   "source": [
    "prediction_schema = {\n",
    "    \"requests\": [\n",
    "        {\n",
    "            \"name\": \"Product Review\",\n",
    "            \"type\": \"TEXT\",\n",
    "        }\n",
    "    ],\n",
    "    \"responses\": [\n",
    "        {\n",
    "            \"name\": \"Rating\",\n",
    "            \"type\": \"CATEGORICAL\",\n",
    "            \"data_type\": \"INT\",\n",
    "            \"n_categories\": 9,\n",
    "            \"category_map\": {\n",
    "            \"0\": \"1.0\",\n",
    "            \"1\": \"1.5\",\n",
    "            \"2\": \"2.0\",\n",
    "            \"3\": \"2.5\",\n",
    "            \"4\": \"3.0\",\n",
    "            \"5\": \"3.5\",\n",
    "            \"6\": \"4.0\",\n",
    "            \"7\": \"4.5\",\n",
    "            \"8\": \"5.0\"\n",
    "        }\n",
    "        }\n",
    "    ]\n",
    "}"
   ]
  },
  {
   "cell_type": "markdown",
   "metadata": {},
   "source": [
    "You then add the prediction schema to the wider model catalog metadata. This includes information such as the model storage location, the name, who authored the model etc. The metadata tags and metrics which can be associated with a model are freeform and can therefore be determined based upon the use case which is being developed. "
   ]
  },
  {
   "cell_type": "code",
   "execution_count": 112,
   "metadata": {
    "collapsed": true
   },
   "outputs": [
    {
     "ename": "NameError",
     "evalue": "name 'MODEL_LOCATION' is not defined",
     "output_type": "error",
     "traceback": [
      "\u001b[0;31m---------------------------------------------------------------------------\u001b[0m",
      "\u001b[0;31mNameError\u001b[0m                                 Traceback (most recent call last)",
      "\u001b[0;32m<ipython-input-112-a7984e728f36>\u001b[0m in \u001b[0;36m<module>\u001b[0;34m\u001b[0m\n\u001b[1;32m      2\u001b[0m \u001b[0;34m\u001b[0m\u001b[0m\n\u001b[1;32m      3\u001b[0m model_catalog_metadata = {\n\u001b[0;32m----> 4\u001b[0;31m       \u001b[0;34m\"URI\"\u001b[0m\u001b[0;34m:\u001b[0m \u001b[0mMODEL_LOCATION\u001b[0m\u001b[0;34m,\u001b[0m\u001b[0;34m\u001b[0m\u001b[0;34m\u001b[0m\u001b[0m\n\u001b[0m\u001b[1;32m      5\u001b[0m       \u001b[0;34m\"name\"\u001b[0m\u001b[0;34m:\u001b[0m \u001b[0;34mf\"{DEPLOYMENT_NAME}-model\"\u001b[0m\u001b[0;34m,\u001b[0m\u001b[0;34m\u001b[0m\u001b[0;34m\u001b[0m\u001b[0m\n\u001b[1;32m      6\u001b[0m       \u001b[0;34m\"version\"\u001b[0m\u001b[0;34m:\u001b[0m \u001b[0;34m\"v1.0\"\u001b[0m\u001b[0;34m,\u001b[0m\u001b[0;34m\u001b[0m\u001b[0;34m\u001b[0m\u001b[0m\n",
      "\u001b[0;31mNameError\u001b[0m: name 'MODEL_LOCATION' is not defined"
     ]
    }
   ],
   "source": [
    "# To do if time - add accuracy as a metric in here once have a working model\n",
    "\n",
    "model_catalog_metadata = {\n",
    "      \"URI\": MODEL_LOCATION,\n",
    "      \"name\": f\"{DEPLOYMENT_NAME}-model\",\n",
    "      \"version\": \"v1.0\",\n",
    "      \"artifactType\": \"Tensorflow\",\n",
    "      \"taskType\": \"Product review rating classification\",\n",
    "      \"tags\": {\n",
    "        \"auto_created\": \"true\",\n",
    "        \"author\": f\"{YOUR_NAME}\"\n",
    "      },\n",
    "      \"metrics\": {\n",
    "          \"accuracy\": 0,\n",
    "      },\n",
    "      \"project\": \"default\",\n",
    "      \"prediction_schema\": prediction_schema\n",
    "    }\n",
    "\n",
    "model_catalog_metadata"
   ]
  },
  {
   "cell_type": "markdown",
   "metadata": {},
   "source": [
    "Next, using the metadata API you can add this to the model which you have just created in Seldon."
   ]
  },
  {
   "cell_type": "code",
   "execution_count": null,
   "metadata": {},
   "outputs": [],
   "source": [
    "metadata_api = ModelMetadataServiceApi(auth())\n",
    "metadata_api.model_metadata_service_update_model_metadata(model_catalog_metadata)"
   ]
  },
  {
   "cell_type": "markdown",
   "metadata": {},
   "source": [
    "You can then list the metadata via the API, or view it in the UI, to confirm that it has been successfully added to the model. "
   ]
  },
  {
   "cell_type": "code",
   "execution_count": null,
   "metadata": {},
   "outputs": [],
   "source": [
    "metadata_response = metadata_api.model_metadata_service_list_model_metadata(uri=MODEL_LOCATION)\n",
    "metadata_response"
   ]
  },
  {
   "cell_type": "markdown",
   "metadata": {},
   "source": [
    "## Make Predictions"
   ]
  },
  {
   "cell_type": "markdown",
   "metadata": {},
   "source": [
    "Now you can have a go at sending some requests to your model using the 'Predict' tab in the UI. \n",
    "\n",
    "An example of a good review that we would expect to correspond to a higher rating.\n",
    "\n",
    "```\n",
    "{\n",
    "    \"data\": {\n",
    "        \"names\": [\"Review\"],\n",
    "        \"ndarray\": [\"_product_ is excellent! I love it, it's great!\"]\n",
    "    }\n",
    "}\n",
    "```\n",
    "\n",
    "And an example of a negative review that we would expect to correspond to a lower rating.\n",
    "\n",
    "```\n",
    "{\n",
    "    \"data\": {\n",
    "        \"names\": [\"Review\"],\n",
    "        \"ndarray\": [\"_product_ was terrible, I would not use it again, it was awful!\"]\n",
    "    }\n",
    "}\n",
    "```"
   ]
  },
  {
   "cell_type": "markdown",
   "metadata": {},
   "source": [
    "## Drift Detection"
   ]
  },
  {
   "cell_type": "markdown",
   "metadata": {},
   "source": [
    "Although powerful, modern machine learning models can be sensitive. Seemingly subtle changes in a data distribution can destroy the performance of otherwise state-of-the art models, which can be especially problematic when ML models are deployed in production. Typically, ML models are tested on held out data in order to estimate their future performance. Crucially, this assumes that the process underlying the input data `X` and output data `Y` remains constant.\n",
    "\n",
    "Drift can be classified into the following types:\n",
    "* **Covariate drift**: Also referred to as input drift, this occurs when the distribution of the input data has shifted `P(X) != Pref(X)`, whilst `P(Y|X) = Pref(Y|X)`. This may result in the model giving unreliable predictions.\n",
    "\n",
    "* **Prior drift**: Also referred to as label drift, this occurs when the distribution of the outputs has shifted `P(Y) != Pref(Y)`, whilst `P(X|Y) = Pref(X|Y)`. This can affect the model’s decision boundary, as well as the model’s performance metrics.\n",
    "\n",
    "* **Concept drift**: This occurs when the process generating `Y` from `X` has changed, such that `P(Y|X) != Pref(Y|X)`. It is possible that the model might no longer give a suitable approximation of the true process.\n",
    "\n",
    "-----------------\n",
    "\n",
    "In this instance we will train a Kolmgorov-Smirnov drift detector to pick up on covariate drift. The KS Drift detector applies a two-sample KS test to compare the distance between the new probability distribution and the reference distribution. \n",
    "\n",
    "This is done on a feature by feature basis and the results are then aggregated using a correction, i.e. Bonferroni, to determine whether drift has occurred overall within the sample. \n",
    "\n",
    "We will use the training set as our reference distribution. Creating our drift detector is then as simple as writing a single line of code:"
   ]
  },
  {
   "cell_type": "code",
   "execution_count": 78,
   "metadata": {},
   "outputs": [],
   "source": [
    "dd_array = np.asarray(encoded_dataset['train']['input_ids'][:5000])"
   ]
  },
  {
   "cell_type": "code",
   "execution_count": 82,
   "metadata": {},
   "outputs": [],
   "source": [
    "dd = KSDrift(dd_array, p_val=.05, correction='bonferroni')"
   ]
  },
  {
   "cell_type": "code",
   "execution_count": 88,
   "metadata": {},
   "outputs": [
    {
     "name": "stdout",
     "output_type": "stream",
     "text": [
      "Drift? No\n"
     ]
    }
   ],
   "source": [
    "preds = dd.predict(dd_array)\n",
    "labels = [\"No\", \"Yes\"]\n",
    "\n",
    "print(f'Drift? {labels[preds[\"data\"][\"is_drift\"]]}')"
   ]
  },
  {
   "cell_type": "code",
   "execution_count": 89,
   "metadata": {},
   "outputs": [
    {
     "data": {
      "text/plain": [
       "{'data': {'is_drift': 0,\n",
       "  'distance': array([0.    , 0.0736, 0.0778, 0.0618, 0.078 , 0.0686, 0.1028, 0.061 ,\n",
       "         0.1342, 0.128 , 0.0932, 0.1122, 0.1264, 0.1026, 0.0536, 0.0752,\n",
       "         0.1442, 0.1262, 0.104 , 0.0808, 0.0604, 0.101 , 0.0792, 0.1144,\n",
       "         0.0878, 0.093 , 0.0936, 0.1054, 0.1232, 0.1152, 0.1056, 0.158 ,\n",
       "         0.1144, 0.1206, 0.1206, 0.0956, 0.0736, 0.0842, 0.0758, 0.0686,\n",
       "         0.078 , 0.069 , 0.082 , 0.0672, 0.0502, 0.0584, 0.085 , 0.0592,\n",
       "         0.0702, 0.067 , 0.069 , 0.0512, 0.0548, 0.059 , 0.0584, 0.0746,\n",
       "         0.054 , 0.059 , 0.0678, 0.058 , 0.0454, 0.0544, 0.0496, 0.055 ,\n",
       "         0.046 , 0.0322, 0.0328, 0.044 , 0.0352, 0.0224, 0.0334, 0.027 ,\n",
       "         0.028 , 0.0508, 0.0172, 0.0264, 0.0436, 0.0216, 0.0338, 0.0144,\n",
       "         0.0254, 0.0364, 0.064 , 0.0314, 0.0406, 0.0226, 0.0318, 0.014 ,\n",
       "         0.0244, 0.0322, 0.0404, 0.0238, 0.0384, 0.0358, 0.036 , 0.022 ,\n",
       "         0.0344, 0.031 , 0.0192, 0.032 , 0.0296, 0.02  , 0.0214, 0.0172,\n",
       "         0.0134, 0.0208, 0.0266, 0.0174, 0.0148, 0.0176, 0.0104, 0.0086,\n",
       "         0.0176, 0.0236, 0.012 , 0.021 , 0.0284, 0.0186, 0.0144, 0.0102,\n",
       "         0.018 , 0.0182, 0.019 , 0.012 , 0.0194, 0.0104, 0.0152, 0.009 ],\n",
       "        dtype=float32),\n",
       "  'p_val': array([1.        , 0.6361109 , 0.5664959 , 0.82572395, 0.56322813,\n",
       "         0.7193911 , 0.23491362, 0.83718324, 0.05324746, 0.07366122,\n",
       "         0.34100214, 0.15707447, 0.07989575, 0.23683992, 0.9265221 ,\n",
       "         0.6094172 , 0.03053895, 0.08070546, 0.22360176, 0.51816106,\n",
       "         0.8455835 , 0.25267687, 0.54374874, 0.14221026, 0.41297403,\n",
       "         0.34351197, 0.33601907, 0.21093121, 0.09370344, 0.13709456,\n",
       "         0.20916684, 0.01327207, 0.14221026, 0.10633895, 0.10633895,\n",
       "         0.31183937, 0.6361109 , 0.46555644, 0.59945047, 0.7193911 ,\n",
       "         0.56322813, 0.71280104, 0.4993004 , 0.7422566 , 0.9553735 ,\n",
       "         0.8722614 , 0.4535764 , 0.86184597, 0.692916  , 0.7454935 ,\n",
       "         0.71280104, 0.9477553 , 0.91437614, 0.8644829 , 0.8722614 ,\n",
       "         0.61941093, 0.9225844 , 0.8644829 , 0.73249894, 0.8773338 ,\n",
       "         0.98212445, 0.91853535, 0.9595969 , 0.9122557 , 0.9796251 ,\n",
       "         0.9998847 , 0.99983335, 0.9871125 , 0.9993933 , 1.        ,\n",
       "         0.99976367, 0.9999984 , 0.99999565, 0.95088965, 1.        ,\n",
       "         0.99999917, 0.9883331 , 1.        , 0.9997047 , 1.        ,\n",
       "         0.99999976, 0.99894613, 0.79285365, 0.9999318 , 0.99498856,\n",
       "         1.        , 0.9999109 , 1.        , 0.99999994, 0.9998847 ,\n",
       "         0.9952958 , 1.        , 0.9976379 , 0.99919474, 0.99911785,\n",
       "         1.        , 0.9995936 , 0.9999483 , 1.        , 0.99989855,\n",
       "         0.9999821 , 1.        , 1.        , 1.        , 1.        ,\n",
       "         1.        , 0.999999  , 1.        , 1.        , 1.        ,\n",
       "         1.        , 1.        , 1.        , 1.        , 1.        ,\n",
       "         1.        , 0.9999936 , 1.        , 1.        , 1.        ,\n",
       "         1.        , 1.        , 1.        , 1.        , 1.        ,\n",
       "         1.        , 1.        , 1.        ], dtype=float32),\n",
       "  'threshold': 0.000390625},\n",
       " 'meta': {'name': 'KSDrift',\n",
       "  'detector_type': 'offline',\n",
       "  'data_type': None,\n",
       "  'version': '0.8.1'}}"
      ]
     },
     "execution_count": 89,
     "metadata": {},
     "output_type": "execute_result"
    }
   ],
   "source": [
    "preds = dd.predict(\n",
    "    np.asarray(encoded_dataset['test']['input_ids'][6700:6800]), \n",
    "    return_p_val=True, \n",
    "    return_distance=True)\n",
    "preds"
   ]
  },
  {
   "cell_type": "code",
   "execution_count": 113,
   "metadata": {},
   "outputs": [],
   "source": [
    "# Do we need something here to decode before using for explanations?"
   ]
  },
  {
   "cell_type": "code",
   "execution_count": 84,
   "metadata": {},
   "outputs": [],
   "source": [
    "save_detector(dd, \"reviews-drift-detector\")"
   ]
  },
  {
   "cell_type": "code",
   "execution_count": 114,
   "metadata": {},
   "outputs": [],
   "source": [
    "## Will add this earlier when saving the model\n",
    "\n",
    "YOUR_NAME = \"kelly-spry\""
   ]
  },
  {
   "cell_type": "code",
   "execution_count": 86,
   "metadata": {},
   "outputs": [
    {
     "name": "stdout",
     "output_type": "stream",
     "text": [
      "Copying file://reviews-drift-detector/KSDrift.dill [Content-Type=application/octet-stream]...\n",
      "Copying file://reviews-drift-detector/meta.dill [Content-Type=application/octet-stream]...\n",
      "| [2 files][  4.9 MiB/  4.9 MiB]                                                \n",
      "Operation completed over 2 objects/4.9 MiB.                                      \n"
     ]
    }
   ],
   "source": [
    "!gsutil cp -r reviews-drift-detector gs://kelly-seldon/nlp-ratings/models/{YOUR_NAME}/reviews-drift-detector"
   ]
  },
  {
   "cell_type": "markdown",
   "metadata": {},
   "source": [
    "To deploy the drift detector you will use Seldon Deploy's user interface. Simply navigate to your deployment, and select the \"Create\" button for your drift detector.\n",
    "\n",
    "This will bring up a form. Add your detector name, the URI which will be gs://kelly-seldon/nlp-ratings/models/{YOUR_NAME}/reviews-drift-detector, and set a batch size of 10.\n",
    "\n",
    "The batch size configuration sets how many data points have to be sent to the endpoint before drift is calculated."
   ]
  },
  {
   "cell_type": "markdown",
   "metadata": {},
   "source": [
    "## Run a Batch Job\n",
    "\n",
    "The simplest way to test that your drift detector and prediction schema are behaving correctly is to kick off a batch job. \n",
    "\n",
    "There is already a pre-prepared batch of data stored in a Minio bucket which Seldon can access, therefore all you have to do is provide the configuration which is outlined below. This shows all of the available parameters which can be changed, but not all are required and are shown for educational purposes. "
   ]
  },
  {
   "cell_type": "code",
   "execution_count": 115,
   "metadata": {},
   "outputs": [],
   "source": [
    "# Ask Tom about batch_gateway_endpoint - is this the name of the cluster? is this arbituary? \n",
    "# Should this be hard coded or changed to match peoples model names in the workshop\n",
    "\n",
    "workflow = BatchJobDefinition(\n",
    "    batch_data_type='data',\n",
    "    batch_gateway_type='seldon',\n",
    "    batch_interval=0.0,\n",
    "    batch_method='predict',\n",
    "    batch_payload_type='ndarray',\n",
    "    batch_retries='3',\n",
    "    batch_size=0,\n",
    "    batch_transport_protocol='rest',\n",
    "    batch_workers='1',\n",
    "    input_data='minio://batch/reviews-batch.txt',\n",
    "    object_store_secret_name='minio-bucket',\n",
    "    output_data='minio://batch/reviews-batch-output.txt',\n",
    "    pvc_size='1Gi'\n",
    ")"
   ]
  },
  {
   "cell_type": "markdown",
   "metadata": {},
   "source": [
    "You can then pass the above configuration to the batch job API and kick it off. "
   ]
  },
  {
   "cell_type": "code",
   "execution_count": null,
   "metadata": {},
   "outputs": [],
   "source": [
    "batch_api = BatchJobsApi(auth())\n",
    "batch_api.create_seldon_deployment_batch_job(DEPLOYMENT_NAME, NAMESPACE, workflow)"
   ]
  },
  {
   "cell_type": "code",
   "execution_count": null,
   "metadata": {},
   "outputs": [],
   "source": []
  },
  {
   "cell_type": "markdown",
   "metadata": {},
   "source": [
    "## Explainability"
   ]
  },
  {
   "cell_type": "markdown",
   "metadata": {},
   "source": [
    "Next, you will train an explainer to glean deeper insights into the decisions being made by your model. \n",
    "\n",
    "You will make use of the Anchors algorithm, which has a [production grade implementation available](https://docs.seldon.io/projects/alibi/en/stable/methods/Anchors.html) using the Seldon Alibi Explain library. \n",
    "\n",
    "The first step will be to write a simple prediction function which the explainer can call in order to query your Tensorflow model. "
   ]
  },
  {
   "cell_type": "code",
   "execution_count": null,
   "metadata": {},
   "outputs": [],
   "source": [
    "def predict_fn(x):\n",
    "    return clf.predict_proba(x)"
   ]
  },
  {
   "cell_type": "markdown",
   "metadata": {},
   "source": [
    "You then initialise your Anchor explainer, using the AnchorText flavour provided by Alibi due to your data modality. \n",
    "\n",
    "### This text might need changing based on what we use as the language model for this. One to discuss with Tom.\n",
    "\n",
    "The AnchorText class expects the prediction function which you defined above, as well as a sampling strategy and nlp/language model. You can find a sample notebook in the Alibi docs [here]https://docs.seldon.io/projects/alibi/en/stable/examples/anchor_text_movie.html). "
   ]
  },
  {
   "cell_type": "markdown",
   "metadata": {},
   "source": [
    "Load spacy model"
   ]
  },
  {
   "cell_type": "code",
   "execution_count": 107,
   "metadata": {},
   "outputs": [
    {
     "name": "stdout",
     "output_type": "stream",
     "text": [
      "\u001b[38;5;2m✔ Download and installation successful\u001b[0m\n",
      "You can now load the package via spacy.load('en_core_web_md')\n",
      "\u001b[38;5;3m⚠ As of spaCy v3.0, model symlinks are not supported anymore. You can\n",
      "load trained pipeline packages using their full names or from a directory\n",
      "path.\u001b[0m\n"
     ]
    }
   ],
   "source": [
    "model = 'en_core_web_md'\n",
    "spacy_model(model=model)\n",
    "nlp = spacy.load(model)"
   ]
  },
  {
   "cell_type": "code",
   "execution_count": null,
   "metadata": {},
   "outputs": [],
   "source": [
    "explainer = AnchorText(\n",
    "    predictor=predict_fn,\n",
    "    sampling_strategy='similarity',   # Replace masked words by simialar words\n",
    "    nlp=nlp,                          # Spacy object\n",
    "    sample_proba=0.5,                 # Probability of a word to be masked and replace by as similar word\n",
    ")"
   ]
  },
  {
   "cell_type": "markdown",
   "metadata": {},
   "source": [
    "You can then run an explanation for a given review locally."
   ]
  },
  {
   "cell_type": "code",
   "execution_count": null,
   "metadata": {},
   "outputs": [],
   "source": [
    "explanation = explainer.explain(text, threshold=0.9)"
   ]
  },
  {
   "cell_type": "markdown",
   "metadata": {},
   "source": [
    "You now save your explainer, and upload it to the GS bucket. You can use the explainer's built-in save method to do this easily and reproducibly. "
   ]
  },
  {
   "cell_type": "code",
   "execution_count": null,
   "metadata": {},
   "outputs": [],
   "source": [
    "explainer.save(\"review-explainer\")"
   ]
  },
  {
   "cell_type": "code",
   "execution_count": null,
   "metadata": {},
   "outputs": [],
   "source": [
    "!gsutil cp -r reviews-explainer gs://kelly-seldon/nlp-ratings/models/{YOUR_NAME}/reviews-explainer"
   ]
  },
  {
   "cell_type": "markdown",
   "metadata": {},
   "source": [
    "## Deploying the Explainer"
   ]
  },
  {
   "cell_type": "markdown",
   "metadata": {},
   "source": [
    "You can now deploy our explainer alongside our model. First you define the explainer configuration. "
   ]
  },
  {
   "cell_type": "code",
   "execution_count": null,
   "metadata": {},
   "outputs": [],
   "source": [
    "EXPLAINER_TYPE = \"AnchorText\"\n",
    "EXPLAINER_URI = f\"gs://kelly-seldon/nlp-ratings/models/{YOUR_NAME}/reviews-explainer\"\n",
    "\n",
    "explainer_spec = {\n",
    "                    \"type\": EXPLAINER_TYPE,\n",
    "                    \"modelUri\": EXPLAINER_URI,\n",
    "                    \"containerSpec\": {\n",
    "                        \"name\": \"\",\n",
    "                        \"resources\": {}\n",
    "                    }\n",
    "                }"
   ]
  },
  {
   "cell_type": "markdown",
   "metadata": {},
   "source": [
    "You can then insert this additional configuration into your original `mldeployment` specification which you defined earlier. "
   ]
  },
  {
   "cell_type": "code",
   "execution_count": null,
   "metadata": {},
   "outputs": [],
   "source": [
    "mldeployment['spec']['predictors'][0]['explainer'] = explainer_spec\n",
    "mldeployment"
   ]
  },
  {
   "cell_type": "markdown",
   "metadata": {},
   "source": [
    "You can then deploy the explainer to the Seldon Deploy cluster!"
   ]
  },
  {
   "cell_type": "code",
   "execution_count": null,
   "metadata": {},
   "outputs": [],
   "source": [
    "deployment_api = SeldonDeploymentsApi(auth())\n",
    "deployment_api.create_seldon_deployment(namespace=NAMESPACE, mldeployment=mldeployment)"
   ]
  },
  {
   "cell_type": "markdown",
   "metadata": {},
   "source": [
    "You can then run the same predictions through your model as above and generate explanations on them:\n",
    "\n",
    "An example of a good review that we would expect to correspond to a higher rating.\n",
    "\n",
    "```\n",
    "{\n",
    "    \"data\": {\n",
    "        \"names\": [\"Review\"],\n",
    "        \"ndarray\": [\"_product_ is excellent! I love it, it's great!\"]\n",
    "    }\n",
    "}\n",
    "```\n",
    "\n",
    "And an example of a negative review that we would expect to correspond to a lower rating.\n",
    "\n",
    "```\n",
    "{\n",
    "    \"data\": {\n",
    "        \"names\": [\"Review\"],\n",
    "        \"ndarray\": [\"_product_ was terrible, I would not use it again, it was awful!\"]\n",
    "    }\n",
    "}\n",
    "```"
   ]
  },
  {
   "cell_type": "code",
   "execution_count": null,
   "metadata": {},
   "outputs": [],
   "source": []
  }
 ],
 "metadata": {
  "kernelspec": {
   "display_name": "Python 3",
   "language": "python",
   "name": "python3"
  },
  "language_info": {
   "codemirror_mode": {
    "name": "ipython",
    "version": 3
   },
   "file_extension": ".py",
   "mimetype": "text/x-python",
   "name": "python",
   "nbconvert_exporter": "python",
   "pygments_lexer": "ipython3",
   "version": "3.7.6"
  }
 },
 "nbformat": 4,
 "nbformat_minor": 4
}
