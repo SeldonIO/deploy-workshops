{
 "cells": [
  {
   "cell_type": "markdown",
   "metadata": {},
   "source": [
    "# Hands-on Workshop - *Predicting product ratings from reviews*"
   ]
  },
  {
   "cell_type": "markdown",
   "metadata": {},
   "source": [
    "This workshop is focused on the creation, deployment, monitoring and management of a machine learning model for predicting product ratings from reviews.\n",
    "\n",
    "In this notebook we will be exploring the data, and going through the steps to train the machine learning model itself. We will use a fine tuned DistilBERT hugging face transformer model (https://huggingface.co/docs/transformers/main/en/model_doc/distilbert), which is a \"is a small, fast, cheap and light Transformer model trained by distilling BERT base\". For the sake of time, we will use a pretrained model rather than training the model in the workshop. \n",
    "\n",
    "We will then deploy our trained model using the Seldon Deploy SDK and view our running deployments in the Seldon Deploy UI. \n",
    "\n",
    "We will deploy a second Tensorflow model with slightly differing architecture as a Canary model to demonstrate the A/B testing functionality Seldon Deploy provides. This time we will deploy direct from the UI. \n",
    "\n",
    "Then we will begin to add the advanced monitoring that Seldon Alibi is famed for. \n",
    "\n",
    "-----------------------------------\n",
    "\n",
    "Firstly, we will install and import the relevant packages which we will use throughout the exploration, training, and deployment process. Google Colab comes with a number of packages pre-installed, so we only need to install any additional packages we may need."
   ]
  },
  {
   "cell_type": "code",
   "execution_count": null,
   "metadata": {},
   "outputs": [],
   "source": [
    "!pip install transformers\n",
    "!pip install seldon_deploy_sdk\n",
    "!pip install alibi==0.6.4\n",
    "!pip install alibi_detect==0.8.1\n",
    "!pip install datasets\n",
    "!pip install nltk"
   ]
  },
  {
   "cell_type": "code",
   "execution_count": 323,
   "metadata": {},
   "outputs": [],
   "source": [
    "import warnings\n",
    "warnings.filterwarnings('ignore')\n",
    "\n",
    "import numpy as np\n",
    "import pandas as pd \n",
    "import datasets\n",
    "import nltk\n",
    "\n",
    "import tensorflow as tf\n",
    "tf.get_logger().setLevel('INFO')\n",
    "\n",
    "from transformers import AutoTokenizer, DefaultDataCollator, TFAutoModelForSequenceClassification\n",
    "\n",
    "from sklearn.model_selection import train_test_split\n",
    "\n",
    "from seldon_deploy_sdk import Configuration, ApiClient, SeldonDeploymentsApi, ModelMetadataServiceApi, DriftDetectorApi, BatchJobsApi, BatchJobDefinition\n",
    "from seldon_deploy_sdk.auth import OIDCAuthenticator\n",
    "\n",
    "import spacy\n",
    "from alibi.utils.download import spacy_model\n",
    "from alibi.explainers import AnchorText\n",
    "from alibi_detect.cd import KSDrift\n",
    "from alibi_detect.utils.saving import save_detector, load_detector\n",
    "\n",
    "from google.cloud import storage"
   ]
  },
  {
   "cell_type": "markdown",
   "metadata": {},
   "source": [
    "## Get the data\n",
    "\n",
    "The reviews data is held in a Google Storage bucket. We can download the data using the gsutil tool, which enables us to access Google Cloud storage from the command line. We then load the data into a Pandas DataFrame."
   ]
  },
  {
   "cell_type": "code",
   "execution_count": 324,
   "metadata": {},
   "outputs": [
    {
     "name": "stdout",
     "output_type": "stream",
     "text": [
      "huggingface/tokenizers: The current process just got forked, after parallelism has already been used. Disabling parallelism to avoid deadlocks...\n",
      "To disable this warning, you can either:\n",
      "\t- Avoid using `tokenizers` before the fork if possible\n",
      "\t- Explicitly set the environment variable TOKENIZERS_PARALLELISM=(true | false)\n",
      "Copying gs://kelly-seldon/nlp-ratings/review_data.csv...\n",
      "\\ [1 files][ 11.3 MiB/ 11.3 MiB]                                                \n",
      "Operation completed over 1 objects/11.3 MiB.                                     \n"
     ]
    }
   ],
   "source": [
    "!gsutil cp gs://kelly-seldon/nlp-ratings/review_data.csv review_data.csv"
   ]
  },
  {
   "cell_type": "code",
   "execution_count": 325,
   "metadata": {},
   "outputs": [
    {
     "data": {
      "text/html": [
       "<div>\n",
       "<style scoped>\n",
       "    .dataframe tbody tr th:only-of-type {\n",
       "        vertical-align: middle;\n",
       "    }\n",
       "\n",
       "    .dataframe tbody tr th {\n",
       "        vertical-align: top;\n",
       "    }\n",
       "\n",
       "    .dataframe thead th {\n",
       "        text-align: right;\n",
       "    }\n",
       "</style>\n",
       "<table border=\"1\" class=\"dataframe\">\n",
       "  <thead>\n",
       "    <tr style=\"text-align: right;\">\n",
       "      <th></th>\n",
       "      <th>product</th>\n",
       "      <th>user_id</th>\n",
       "      <th>rating</th>\n",
       "      <th>review</th>\n",
       "      <th>date_created</th>\n",
       "    </tr>\n",
       "  </thead>\n",
       "  <tbody>\n",
       "    <tr>\n",
       "      <th>0</th>\n",
       "      <td>Product 65359</td>\n",
       "      <td>27604</td>\n",
       "      <td>5.0</td>\n",
       "      <td>_product_ provided me with a pretty good, secure log-on experience. as i listed in the cons, i found the chrome extension to be the best feature it offered. it allowed me to logon to my most used sites with ease.</td>\n",
       "      <td>2020-04-05 15:51:09</td>\n",
       "    </tr>\n",
       "    <tr>\n",
       "      <th>1</th>\n",
       "      <td>Product 34804</td>\n",
       "      <td>152368</td>\n",
       "      <td>4.0</td>\n",
       "      <td>it protects our files and computer and very simple to use. what i can have more than these needs.</td>\n",
       "      <td>2019-06-24 00:40:54</td>\n",
       "    </tr>\n",
       "    <tr>\n",
       "      <th>2</th>\n",
       "      <td>Product 18042</td>\n",
       "      <td>1212264</td>\n",
       "      <td>5.0</td>\n",
       "      <td>like most businesses, we are always looking for ways to do more with less. after using two different marketing email services in 2010, we began evaluating more robust marketing automation systems. we tested three options and decided that _product_ offered the best value. their support and implementation services were better than i was expecting. _product_ was extremely proactive in their handholding. we implemented in early 2012 and were benefitting from the system almost immediately. i couldn't be happier.</td>\n",
       "      <td>2016-11-24 13:29:07</td>\n",
       "    </tr>\n",
       "    <tr>\n",
       "      <th>3</th>\n",
       "      <td>Product 2179</td>\n",
       "      <td>1383</td>\n",
       "      <td>3.0</td>\n",
       "      <td>we believed _product_ was a great solution for scalable animation, but its workarounds for animation became a drawback, making us go back to blender. it's still a great software to get started with interactive media and game-development -- however, due to its performance issues, i still think we would prefer going with unreal engine or even godot for game-development. though this may change in the future.</td>\n",
       "      <td>2019-09-21 14:02:50</td>\n",
       "    </tr>\n",
       "    <tr>\n",
       "      <th>4</th>\n",
       "      <td>Product 90712</td>\n",
       "      <td>92494</td>\n",
       "      <td>4.0</td>\n",
       "      <td>i formerly used _product_ and was relieved to have a powerful _product_ with excellent reporting capabilities. every _product_ has it's strengths and reporting is the best part of _product_ . i trusted my data and was glad to set up reporting as i needed and not have to depend upon canned reports.</td>\n",
       "      <td>2018-11-28 05:37:54</td>\n",
       "    </tr>\n",
       "  </tbody>\n",
       "</table>\n",
       "</div>"
      ],
      "text/plain": [
       "         product  user_id  rating  \\\n",
       "0  Product 65359    27604     5.0   \n",
       "1  Product 34804   152368     4.0   \n",
       "2  Product 18042  1212264     5.0   \n",
       "3   Product 2179     1383     3.0   \n",
       "4  Product 90712    92494     4.0   \n",
       "\n",
       "                                                                                                                                                                                                                                                                                                                                                                                                                                                                                                                             review  \\\n",
       "0                                                                                                                                                                                                                                                                                                              _product_ provided me with a pretty good, secure log-on experience. as i listed in the cons, i found the chrome extension to be the best feature it offered. it allowed me to logon to my most used sites with ease.   \n",
       "1                                                                                                                                                                                                                                                                                                                                                                                                                                 it protects our files and computer and very simple to use. what i can have more than these needs.   \n",
       "2  like most businesses, we are always looking for ways to do more with less. after using two different marketing email services in 2010, we began evaluating more robust marketing automation systems. we tested three options and decided that _product_ offered the best value. their support and implementation services were better than i was expecting. _product_ was extremely proactive in their handholding. we implemented in early 2012 and were benefitting from the system almost immediately. i couldn't be happier.   \n",
       "3                                                                                                         we believed _product_ was a great solution for scalable animation, but its workarounds for animation became a drawback, making us go back to blender. it's still a great software to get started with interactive media and game-development -- however, due to its performance issues, i still think we would prefer going with unreal engine or even godot for game-development. though this may change in the future.    \n",
       "4                                                                                                                                                                                                                        i formerly used _product_ and was relieved to have a powerful _product_ with excellent reporting capabilities. every _product_ has it's strengths and reporting is the best part of _product_ . i trusted my data and was glad to set up reporting as i needed and not have to depend upon canned reports.   \n",
       "\n",
       "          date_created  \n",
       "0  2020-04-05 15:51:09  \n",
       "1  2019-06-24 00:40:54  \n",
       "2  2016-11-24 13:29:07  \n",
       "3  2019-09-21 14:02:50  \n",
       "4  2018-11-28 05:37:54  "
      ]
     },
     "execution_count": 325,
     "metadata": {},
     "output_type": "execute_result"
    }
   ],
   "source": [
    "df = pd.read_csv(\"review_data.csv\", delimiter=\";\")\n",
    "df.head()"
   ]
  },
  {
   "cell_type": "markdown",
   "metadata": {},
   "source": [
    "## Preprocess Data"
   ]
  },
  {
   "cell_type": "markdown",
   "metadata": {},
   "source": [
    "First, we can drop all columns that we don't need to just leave us with ```rating``` and ```review```."
   ]
  },
  {
   "cell_type": "code",
   "execution_count": 326,
   "metadata": {},
   "outputs": [
    {
     "data": {
      "text/html": [
       "<div>\n",
       "<style scoped>\n",
       "    .dataframe tbody tr th:only-of-type {\n",
       "        vertical-align: middle;\n",
       "    }\n",
       "\n",
       "    .dataframe tbody tr th {\n",
       "        vertical-align: top;\n",
       "    }\n",
       "\n",
       "    .dataframe thead th {\n",
       "        text-align: right;\n",
       "    }\n",
       "</style>\n",
       "<table border=\"1\" class=\"dataframe\">\n",
       "  <thead>\n",
       "    <tr style=\"text-align: right;\">\n",
       "      <th></th>\n",
       "      <th>rating</th>\n",
       "      <th>review</th>\n",
       "    </tr>\n",
       "  </thead>\n",
       "  <tbody>\n",
       "    <tr>\n",
       "      <th>0</th>\n",
       "      <td>5.0</td>\n",
       "      <td>_product_ provided me with a pretty good, secure log-on experience. as i listed in the cons, i found the chrome extension to be the best feature it offered. it allowed me to logon to my most used sites with ease.</td>\n",
       "    </tr>\n",
       "    <tr>\n",
       "      <th>1</th>\n",
       "      <td>4.0</td>\n",
       "      <td>it protects our files and computer and very simple to use. what i can have more than these needs.</td>\n",
       "    </tr>\n",
       "    <tr>\n",
       "      <th>2</th>\n",
       "      <td>5.0</td>\n",
       "      <td>like most businesses, we are always looking for ways to do more with less. after using two different marketing email services in 2010, we began evaluating more robust marketing automation systems. we tested three options and decided that _product_ offered the best value. their support and implementation services were better than i was expecting. _product_ was extremely proactive in their handholding. we implemented in early 2012 and were benefitting from the system almost immediately. i couldn't be happier.</td>\n",
       "    </tr>\n",
       "    <tr>\n",
       "      <th>3</th>\n",
       "      <td>3.0</td>\n",
       "      <td>we believed _product_ was a great solution for scalable animation, but its workarounds for animation became a drawback, making us go back to blender. it's still a great software to get started with interactive media and game-development -- however, due to its performance issues, i still think we would prefer going with unreal engine or even godot for game-development. though this may change in the future.</td>\n",
       "    </tr>\n",
       "    <tr>\n",
       "      <th>4</th>\n",
       "      <td>4.0</td>\n",
       "      <td>i formerly used _product_ and was relieved to have a powerful _product_ with excellent reporting capabilities. every _product_ has it's strengths and reporting is the best part of _product_ . i trusted my data and was glad to set up reporting as i needed and not have to depend upon canned reports.</td>\n",
       "    </tr>\n",
       "  </tbody>\n",
       "</table>\n",
       "</div>"
      ],
      "text/plain": [
       "   rating  \\\n",
       "0     5.0   \n",
       "1     4.0   \n",
       "2     5.0   \n",
       "3     3.0   \n",
       "4     4.0   \n",
       "\n",
       "                                                                                                                                                                                                                                                                                                                                                                                                                                                                                                                             review  \n",
       "0                                                                                                                                                                                                                                                                                                              _product_ provided me with a pretty good, secure log-on experience. as i listed in the cons, i found the chrome extension to be the best feature it offered. it allowed me to logon to my most used sites with ease.  \n",
       "1                                                                                                                                                                                                                                                                                                                                                                                                                                 it protects our files and computer and very simple to use. what i can have more than these needs.  \n",
       "2  like most businesses, we are always looking for ways to do more with less. after using two different marketing email services in 2010, we began evaluating more robust marketing automation systems. we tested three options and decided that _product_ offered the best value. their support and implementation services were better than i was expecting. _product_ was extremely proactive in their handholding. we implemented in early 2012 and were benefitting from the system almost immediately. i couldn't be happier.  \n",
       "3                                                                                                         we believed _product_ was a great solution for scalable animation, but its workarounds for animation became a drawback, making us go back to blender. it's still a great software to get started with interactive media and game-development -- however, due to its performance issues, i still think we would prefer going with unreal engine or even godot for game-development. though this may change in the future.   \n",
       "4                                                                                                                                                                                                                        i formerly used _product_ and was relieved to have a powerful _product_ with excellent reporting capabilities. every _product_ has it's strengths and reporting is the best part of _product_ . i trusted my data and was glad to set up reporting as i needed and not have to depend upon canned reports.  "
      ]
     },
     "execution_count": 326,
     "metadata": {},
     "output_type": "execute_result"
    }
   ],
   "source": [
    "df.drop(columns=['product', 'user_id', 'date_created'], axis=1, inplace=True)\n",
    "df.head()"
   ]
  },
  {
   "cell_type": "markdown",
   "metadata": {},
   "source": [
    "Next, let's check for any missing data in our DataFrame and drop rows where the review is missing. "
   ]
  },
  {
   "cell_type": "code",
   "execution_count": 327,
   "metadata": {},
   "outputs": [
    {
     "name": "stdout",
     "output_type": "stream",
     "text": [
      "      rating review\n",
      "1804     5.0    NaN\n",
      "5781     4.0    NaN\n",
      "6334     5.0    NaN\n",
      "6339     5.0    NaN\n",
      "6363     4.0    NaN \n",
      "\n",
      " Number of rows with missing values: 21\n"
     ]
    }
   ],
   "source": [
    "is_NaN = df.isnull()\n",
    "row_has_NaN = is_NaN.any(axis=1)\n",
    "rows_with_NaN = df[row_has_NaN]\n",
    "print(rows_with_NaN.head(), \"\\n\\n\", \"Number of rows with missing values:\", len(rows_with_NaN))"
   ]
  },
  {
   "cell_type": "code",
   "execution_count": 328,
   "metadata": {},
   "outputs": [
    {
     "data": {
      "text/html": [
       "<div>\n",
       "<style scoped>\n",
       "    .dataframe tbody tr th:only-of-type {\n",
       "        vertical-align: middle;\n",
       "    }\n",
       "\n",
       "    .dataframe tbody tr th {\n",
       "        vertical-align: top;\n",
       "    }\n",
       "\n",
       "    .dataframe thead th {\n",
       "        text-align: right;\n",
       "    }\n",
       "</style>\n",
       "<table border=\"1\" class=\"dataframe\">\n",
       "  <thead>\n",
       "    <tr style=\"text-align: right;\">\n",
       "      <th></th>\n",
       "      <th>rating</th>\n",
       "      <th>review</th>\n",
       "    </tr>\n",
       "  </thead>\n",
       "  <tbody>\n",
       "    <tr>\n",
       "      <th>0</th>\n",
       "      <td>5.0</td>\n",
       "      <td>_product_ provided me with a pretty good, secure log-on experience. as i listed in the cons, i found the chrome extension to be the best feature it offered. it allowed me to logon to my most used sites with ease.</td>\n",
       "    </tr>\n",
       "    <tr>\n",
       "      <th>1</th>\n",
       "      <td>4.0</td>\n",
       "      <td>it protects our files and computer and very simple to use. what i can have more than these needs.</td>\n",
       "    </tr>\n",
       "    <tr>\n",
       "      <th>2</th>\n",
       "      <td>5.0</td>\n",
       "      <td>like most businesses, we are always looking for ways to do more with less. after using two different marketing email services in 2010, we began evaluating more robust marketing automation systems. we tested three options and decided that _product_ offered the best value. their support and implementation services were better than i was expecting. _product_ was extremely proactive in their handholding. we implemented in early 2012 and were benefitting from the system almost immediately. i couldn't be happier.</td>\n",
       "    </tr>\n",
       "    <tr>\n",
       "      <th>3</th>\n",
       "      <td>3.0</td>\n",
       "      <td>we believed _product_ was a great solution for scalable animation, but its workarounds for animation became a drawback, making us go back to blender. it's still a great software to get started with interactive media and game-development -- however, due to its performance issues, i still think we would prefer going with unreal engine or even godot for game-development. though this may change in the future.</td>\n",
       "    </tr>\n",
       "    <tr>\n",
       "      <th>4</th>\n",
       "      <td>4.0</td>\n",
       "      <td>i formerly used _product_ and was relieved to have a powerful _product_ with excellent reporting capabilities. every _product_ has it's strengths and reporting is the best part of _product_ . i trusted my data and was glad to set up reporting as i needed and not have to depend upon canned reports.</td>\n",
       "    </tr>\n",
       "  </tbody>\n",
       "</table>\n",
       "</div>"
      ],
      "text/plain": [
       "   rating  \\\n",
       "0     5.0   \n",
       "1     4.0   \n",
       "2     5.0   \n",
       "3     3.0   \n",
       "4     4.0   \n",
       "\n",
       "                                                                                                                                                                                                                                                                                                                                                                                                                                                                                                                             review  \n",
       "0                                                                                                                                                                                                                                                                                                              _product_ provided me with a pretty good, secure log-on experience. as i listed in the cons, i found the chrome extension to be the best feature it offered. it allowed me to logon to my most used sites with ease.  \n",
       "1                                                                                                                                                                                                                                                                                                                                                                                                                                 it protects our files and computer and very simple to use. what i can have more than these needs.  \n",
       "2  like most businesses, we are always looking for ways to do more with less. after using two different marketing email services in 2010, we began evaluating more robust marketing automation systems. we tested three options and decided that _product_ offered the best value. their support and implementation services were better than i was expecting. _product_ was extremely proactive in their handholding. we implemented in early 2012 and were benefitting from the system almost immediately. i couldn't be happier.  \n",
       "3                                                                                                         we believed _product_ was a great solution for scalable animation, but its workarounds for animation became a drawback, making us go back to blender. it's still a great software to get started with interactive media and game-development -- however, due to its performance issues, i still think we would prefer going with unreal engine or even godot for game-development. though this may change in the future.   \n",
       "4                                                                                                                                                                                                                        i formerly used _product_ and was relieved to have a powerful _product_ with excellent reporting capabilities. every _product_ has it's strengths and reporting is the best part of _product_ . i trusted my data and was glad to set up reporting as i needed and not have to depend upon canned reports.  "
      ]
     },
     "execution_count": 328,
     "metadata": {},
     "output_type": "execute_result"
    }
   ],
   "source": [
    "df = df.drop(rows_with_NaN.index)\n",
    "df.reset_index(inplace=True, drop=True)\n",
    "df.head()"
   ]
  },
  {
   "cell_type": "markdown",
   "metadata": {},
   "source": [
    "We can then ensure that our reviews and ratings columns are strings."
   ]
  },
  {
   "cell_type": "code",
   "execution_count": 329,
   "metadata": {},
   "outputs": [],
   "source": [
    "df['review'] = df['review'].astype(str)\n",
    "df['rating'] = df['rating'].astype(str)"
   ]
  },
  {
   "cell_type": "markdown",
   "metadata": {},
   "source": [
    "Then we can map our string rating categories to integers, which will be the output labels for the model. "
   ]
  },
  {
   "cell_type": "code",
   "execution_count": 330,
   "metadata": {},
   "outputs": [],
   "source": [
    "rating_mapping = {\n",
    "    '1.0': 0,\n",
    "    '1.5': 1,\n",
    "    '2.0': 2,\n",
    "    '2.5': 3,\n",
    "    '3.0': 4,\n",
    "    '3.5': 5,\n",
    "    '4.0': 6, \n",
    "    '4.5': 7,\n",
    "    '5.0': 8\n",
    "}\n",
    "\n",
    "df['label'] = df['rating'].apply(lambda x: rating_mapping[x])"
   ]
  },
  {
   "cell_type": "markdown",
   "metadata": {},
   "source": [
    "We can then drop the rating column to leave us with ```review``` and ```label```."
   ]
  },
  {
   "cell_type": "code",
   "execution_count": 331,
   "metadata": {},
   "outputs": [
    {
     "data": {
      "text/html": [
       "<div>\n",
       "<style scoped>\n",
       "    .dataframe tbody tr th:only-of-type {\n",
       "        vertical-align: middle;\n",
       "    }\n",
       "\n",
       "    .dataframe tbody tr th {\n",
       "        vertical-align: top;\n",
       "    }\n",
       "\n",
       "    .dataframe thead th {\n",
       "        text-align: right;\n",
       "    }\n",
       "</style>\n",
       "<table border=\"1\" class=\"dataframe\">\n",
       "  <thead>\n",
       "    <tr style=\"text-align: right;\">\n",
       "      <th></th>\n",
       "      <th>review</th>\n",
       "      <th>label</th>\n",
       "    </tr>\n",
       "  </thead>\n",
       "  <tbody>\n",
       "    <tr>\n",
       "      <th>0</th>\n",
       "      <td>_product_ provided me with a pretty good, secure log-on experience. as i listed in the cons, i found the chrome extension to be the best feature it offered. it allowed me to logon to my most used sites with ease.</td>\n",
       "      <td>8</td>\n",
       "    </tr>\n",
       "    <tr>\n",
       "      <th>1</th>\n",
       "      <td>it protects our files and computer and very simple to use. what i can have more than these needs.</td>\n",
       "      <td>6</td>\n",
       "    </tr>\n",
       "    <tr>\n",
       "      <th>2</th>\n",
       "      <td>like most businesses, we are always looking for ways to do more with less. after using two different marketing email services in 2010, we began evaluating more robust marketing automation systems. we tested three options and decided that _product_ offered the best value. their support and implementation services were better than i was expecting. _product_ was extremely proactive in their handholding. we implemented in early 2012 and were benefitting from the system almost immediately. i couldn't be happier.</td>\n",
       "      <td>8</td>\n",
       "    </tr>\n",
       "    <tr>\n",
       "      <th>3</th>\n",
       "      <td>we believed _product_ was a great solution for scalable animation, but its workarounds for animation became a drawback, making us go back to blender. it's still a great software to get started with interactive media and game-development -- however, due to its performance issues, i still think we would prefer going with unreal engine or even godot for game-development. though this may change in the future.</td>\n",
       "      <td>4</td>\n",
       "    </tr>\n",
       "    <tr>\n",
       "      <th>4</th>\n",
       "      <td>i formerly used _product_ and was relieved to have a powerful _product_ with excellent reporting capabilities. every _product_ has it's strengths and reporting is the best part of _product_ . i trusted my data and was glad to set up reporting as i needed and not have to depend upon canned reports.</td>\n",
       "      <td>6</td>\n",
       "    </tr>\n",
       "  </tbody>\n",
       "</table>\n",
       "</div>"
      ],
      "text/plain": [
       "                                                                                                                                                                                                                                                                                                                                                                                                                                                                                                                             review  \\\n",
       "0                                                                                                                                                                                                                                                                                                              _product_ provided me with a pretty good, secure log-on experience. as i listed in the cons, i found the chrome extension to be the best feature it offered. it allowed me to logon to my most used sites with ease.   \n",
       "1                                                                                                                                                                                                                                                                                                                                                                                                                                 it protects our files and computer and very simple to use. what i can have more than these needs.   \n",
       "2  like most businesses, we are always looking for ways to do more with less. after using two different marketing email services in 2010, we began evaluating more robust marketing automation systems. we tested three options and decided that _product_ offered the best value. their support and implementation services were better than i was expecting. _product_ was extremely proactive in their handholding. we implemented in early 2012 and were benefitting from the system almost immediately. i couldn't be happier.   \n",
       "3                                                                                                         we believed _product_ was a great solution for scalable animation, but its workarounds for animation became a drawback, making us go back to blender. it's still a great software to get started with interactive media and game-development -- however, due to its performance issues, i still think we would prefer going with unreal engine or even godot for game-development. though this may change in the future.    \n",
       "4                                                                                                                                                                                                                        i formerly used _product_ and was relieved to have a powerful _product_ with excellent reporting capabilities. every _product_ has it's strengths and reporting is the best part of _product_ . i trusted my data and was glad to set up reporting as i needed and not have to depend upon canned reports.   \n",
       "\n",
       "   label  \n",
       "0      8  \n",
       "1      6  \n",
       "2      8  \n",
       "3      4  \n",
       "4      6  "
      ]
     },
     "execution_count": 331,
     "metadata": {},
     "output_type": "execute_result"
    }
   ],
   "source": [
    "df.drop(columns=\"rating\", axis=1, inplace=True)\n",
    "df.head()"
   ]
  },
  {
   "cell_type": "markdown",
   "metadata": {},
   "source": [
    "Now we can take a look at some of the reviews."
   ]
  },
  {
   "cell_type": "code",
   "execution_count": 297,
   "metadata": {},
   "outputs": [
    {
     "data": {
      "text/plain": [
       "\"i used act! for years until that became slow and clunky (e-mail was useless unless you used outlook & even then that had linking problems), so i moved over to _product_ , then upgraded to gmpe.\\r\\n\\r\\ngm has constant upgrades where they resolve 15 issues and break another 10, so in my experience, they really never fix the thing properly. i'm always scared to update, as i simply don't know what they are going to tamper with and ruin. when i finally get used to new menu layouts or something, they change it again in the next 'update'. really?\\r\\n\\r\\nnow looking to move back, as frontrange simply doesn't have much ongoing support for this product in terms of updates anymore. it's very old and outdated for a product that we use all day every day. there is no office 2010 support even though it's a crm program where we need to print letter.\\r\\n\\r\\nthe final straw was the demand for an annual fee of 5 users. i'm a single user; i'm not paying for four additional licenses for a product that's poorly supported, so i havn't upgraded since version 9.2.0.59\\r\\n\\r\\nso i'm trawling the web looking for alternatives and just thought i would give some advice from a gmpe user and why i'm looking to move away.\""
      ]
     },
     "execution_count": 297,
     "metadata": {},
     "output_type": "execute_result"
    }
   ],
   "source": [
    "df.review[49977]"
   ]
  },
  {
   "cell_type": "code",
   "execution_count": 298,
   "metadata": {},
   "outputs": [
    {
     "data": {
      "text/plain": [
       "\"i'm using _product_ for more than 3 years now, and it is the main tool in my company, i edit view and share _product_ pages daily, where all our procedures and documentation are stored. \""
      ]
     },
     "execution_count": 298,
     "metadata": {},
     "output_type": "execute_result"
    }
   ],
   "source": [
    "df.review[29]"
   ]
  },
  {
   "cell_type": "markdown",
   "metadata": {},
   "source": [
    "Here we can see a clear need for some text preprocessing of the reviews. \n",
    "\n",
    "We will carry out the following preprocessing steps:\n",
    "\n",
    "- Removing punctuation\n",
    "- Lowercasing\n",
    "- Removing stopwords\n",
    "- Lemmatisation"
   ]
  },
  {
   "cell_type": "markdown",
   "metadata": {},
   "source": [
    "First we can remove all punctuation, using the string python library, which contains punctuation."
   ]
  },
  {
   "cell_type": "code",
   "execution_count": 299,
   "metadata": {},
   "outputs": [
    {
     "data": {
      "text/plain": [
       "'!\"#$%&\\'()*+,-./:;<=>?@[\\\\]^_`{|}~'"
      ]
     },
     "execution_count": 299,
     "metadata": {},
     "output_type": "execute_result"
    }
   ],
   "source": [
    "import string\n",
    "string.punctuation"
   ]
  },
  {
   "cell_type": "code",
   "execution_count": 347,
   "metadata": {},
   "outputs": [],
   "source": [
    "df_proc = df.copy()"
   ]
  },
  {
   "cell_type": "code",
   "execution_count": 351,
   "metadata": {},
   "outputs": [
    {
     "data": {
      "text/html": [
       "<div>\n",
       "<style scoped>\n",
       "    .dataframe tbody tr th:only-of-type {\n",
       "        vertical-align: middle;\n",
       "    }\n",
       "\n",
       "    .dataframe tbody tr th {\n",
       "        vertical-align: top;\n",
       "    }\n",
       "\n",
       "    .dataframe thead th {\n",
       "        text-align: right;\n",
       "    }\n",
       "</style>\n",
       "<table border=\"1\" class=\"dataframe\">\n",
       "  <thead>\n",
       "    <tr style=\"text-align: right;\">\n",
       "      <th></th>\n",
       "      <th>review</th>\n",
       "      <th>label</th>\n",
       "      <th>processed_review</th>\n",
       "    </tr>\n",
       "  </thead>\n",
       "  <tbody>\n",
       "    <tr>\n",
       "      <th>0</th>\n",
       "      <td>_product_ provided me with a pretty good, secure log-on experience. as i listed in the cons, i found the chrome extension to be the best feature it offered. it allowed me to logon to my most used sites with ease.</td>\n",
       "      <td>8</td>\n",
       "      <td>product provided me with a pretty good secure logon experience as i listed in the cons i found the chrome extension to be the best feature it offered it allowed me to logon to my most used sites with ease</td>\n",
       "    </tr>\n",
       "    <tr>\n",
       "      <th>1</th>\n",
       "      <td>it protects our files and computer and very simple to use. what i can have more than these needs.</td>\n",
       "      <td>6</td>\n",
       "      <td>it protects our files and computer and very simple to use what i can have more than these needs</td>\n",
       "    </tr>\n",
       "    <tr>\n",
       "      <th>2</th>\n",
       "      <td>like most businesses, we are always looking for ways to do more with less. after using two different marketing email services in 2010, we began evaluating more robust marketing automation systems. we tested three options and decided that _product_ offered the best value. their support and implementation services were better than i was expecting. _product_ was extremely proactive in their handholding. we implemented in early 2012 and were benefitting from the system almost immediately. i couldn't be happier.</td>\n",
       "      <td>8</td>\n",
       "      <td>like most businesses we are always looking for ways to do more with less after using two different marketing email services in 2010 we began evaluating more robust marketing automation systems we tested three options and decided that product offered the best value their support and implementation services were better than i was expecting product was extremely proactive in their handholding we implemented in early 2012 and were benefitting from the system almost immediately i couldnt be happier</td>\n",
       "    </tr>\n",
       "    <tr>\n",
       "      <th>3</th>\n",
       "      <td>we believed _product_ was a great solution for scalable animation, but its workarounds for animation became a drawback, making us go back to blender. it's still a great software to get started with interactive media and game-development -- however, due to its performance issues, i still think we would prefer going with unreal engine or even godot for game-development. though this may change in the future.</td>\n",
       "      <td>4</td>\n",
       "      <td>we believed product was a great solution for scalable animation but its workarounds for animation became a drawback making us go back to blender its still a great software to get started with interactive media and gamedevelopment  however due to its performance issues i still think we would prefer going with unreal engine or even godot for gamedevelopment though this may change in the future</td>\n",
       "    </tr>\n",
       "    <tr>\n",
       "      <th>4</th>\n",
       "      <td>i formerly used _product_ and was relieved to have a powerful _product_ with excellent reporting capabilities. every _product_ has it's strengths and reporting is the best part of _product_ . i trusted my data and was glad to set up reporting as i needed and not have to depend upon canned reports.</td>\n",
       "      <td>6</td>\n",
       "      <td>i formerly used product and was relieved to have a powerful product with excellent reporting capabilities every product has its strengths and reporting is the best part of product  i trusted my data and was glad to set up reporting as i needed and not have to depend upon canned reports</td>\n",
       "    </tr>\n",
       "  </tbody>\n",
       "</table>\n",
       "</div>"
      ],
      "text/plain": [
       "                                                                                                                                                                                                                                                                                                                                                                                                                                                                                                                             review  \\\n",
       "0                                                                                                                                                                                                                                                                                                              _product_ provided me with a pretty good, secure log-on experience. as i listed in the cons, i found the chrome extension to be the best feature it offered. it allowed me to logon to my most used sites with ease.   \n",
       "1                                                                                                                                                                                                                                                                                                                                                                                                                                 it protects our files and computer and very simple to use. what i can have more than these needs.   \n",
       "2  like most businesses, we are always looking for ways to do more with less. after using two different marketing email services in 2010, we began evaluating more robust marketing automation systems. we tested three options and decided that _product_ offered the best value. their support and implementation services were better than i was expecting. _product_ was extremely proactive in their handholding. we implemented in early 2012 and were benefitting from the system almost immediately. i couldn't be happier.   \n",
       "3                                                                                                         we believed _product_ was a great solution for scalable animation, but its workarounds for animation became a drawback, making us go back to blender. it's still a great software to get started with interactive media and game-development -- however, due to its performance issues, i still think we would prefer going with unreal engine or even godot for game-development. though this may change in the future.    \n",
       "4                                                                                                                                                                                                                        i formerly used _product_ and was relieved to have a powerful _product_ with excellent reporting capabilities. every _product_ has it's strengths and reporting is the best part of _product_ . i trusted my data and was glad to set up reporting as i needed and not have to depend upon canned reports.   \n",
       "\n",
       "   label  \\\n",
       "0      8   \n",
       "1      6   \n",
       "2      8   \n",
       "3      4   \n",
       "4      6   \n",
       "\n",
       "                                                                                                                                                                                                                                                                                                                                                                                                                                                                                                     processed_review  \n",
       "0                                                                                                                                                                                                                                                                                                        product provided me with a pretty good secure logon experience as i listed in the cons i found the chrome extension to be the best feature it offered it allowed me to logon to my most used sites with ease  \n",
       "1                                                                                                                                                                                                                                                                                                                                                                                                                     it protects our files and computer and very simple to use what i can have more than these needs  \n",
       "2  like most businesses we are always looking for ways to do more with less after using two different marketing email services in 2010 we began evaluating more robust marketing automation systems we tested three options and decided that product offered the best value their support and implementation services were better than i was expecting product was extremely proactive in their handholding we implemented in early 2012 and were benefitting from the system almost immediately i couldnt be happier  \n",
       "3                                                                                                         we believed product was a great solution for scalable animation but its workarounds for animation became a drawback making us go back to blender its still a great software to get started with interactive media and gamedevelopment  however due to its performance issues i still think we would prefer going with unreal engine or even godot for gamedevelopment though this may change in the future   \n",
       "4                                                                                                                                                                                                                      i formerly used product and was relieved to have a powerful product with excellent reporting capabilities every product has its strengths and reporting is the best part of product  i trusted my data and was glad to set up reporting as i needed and not have to depend upon canned reports  "
      ]
     },
     "execution_count": 351,
     "metadata": {},
     "output_type": "execute_result"
    }
   ],
   "source": [
    "def remove_punctuation(text):\n",
    "    punctuationfree = \"\".join([i for i in text if i not in string.punctuation])\n",
    "    return punctuationfree\n",
    "\n",
    "#storing the puntuation free text\n",
    "df_proc['processed_review']= df_proc['review'].apply(lambda x:remove_punctuation(x))\n",
    "df_proc.head()"
   ]
  },
  {
   "cell_type": "markdown",
   "metadata": {},
   "source": [
    "Then we can ensure all text is lowercase."
   ]
  },
  {
   "cell_type": "code",
   "execution_count": 350,
   "metadata": {},
   "outputs": [
    {
     "data": {
      "text/html": [
       "<div>\n",
       "<style scoped>\n",
       "    .dataframe tbody tr th:only-of-type {\n",
       "        vertical-align: middle;\n",
       "    }\n",
       "\n",
       "    .dataframe tbody tr th {\n",
       "        vertical-align: top;\n",
       "    }\n",
       "\n",
       "    .dataframe thead th {\n",
       "        text-align: right;\n",
       "    }\n",
       "</style>\n",
       "<table border=\"1\" class=\"dataframe\">\n",
       "  <thead>\n",
       "    <tr style=\"text-align: right;\">\n",
       "      <th></th>\n",
       "      <th>review</th>\n",
       "      <th>label</th>\n",
       "      <th>processed_review</th>\n",
       "    </tr>\n",
       "  </thead>\n",
       "  <tbody>\n",
       "    <tr>\n",
       "      <th>0</th>\n",
       "      <td>_product_ provided me with a pretty good, secure log-on experience. as i listed in the cons, i found the chrome extension to be the best feature it offered. it allowed me to logon to my most used sites with ease.</td>\n",
       "      <td>8</td>\n",
       "      <td>product provided me with a pretty good secure logon experience as i listed in the cons i found the chrome extension to be the best feature it offered it allowed me to logon to my most used sites with ease</td>\n",
       "    </tr>\n",
       "    <tr>\n",
       "      <th>1</th>\n",
       "      <td>it protects our files and computer and very simple to use. what i can have more than these needs.</td>\n",
       "      <td>6</td>\n",
       "      <td>it protects our files and computer and very simple to use what i can have more than these needs</td>\n",
       "    </tr>\n",
       "    <tr>\n",
       "      <th>2</th>\n",
       "      <td>like most businesses, we are always looking for ways to do more with less. after using two different marketing email services in 2010, we began evaluating more robust marketing automation systems. we tested three options and decided that _product_ offered the best value. their support and implementation services were better than i was expecting. _product_ was extremely proactive in their handholding. we implemented in early 2012 and were benefitting from the system almost immediately. i couldn't be happier.</td>\n",
       "      <td>8</td>\n",
       "      <td>like most businesses we are always looking for ways to do more with less after using two different marketing email services in 2010 we began evaluating more robust marketing automation systems we tested three options and decided that product offered the best value their support and implementation services were better than i was expecting product was extremely proactive in their handholding we implemented in early 2012 and were benefitting from the system almost immediately i couldnt be happier</td>\n",
       "    </tr>\n",
       "    <tr>\n",
       "      <th>3</th>\n",
       "      <td>we believed _product_ was a great solution for scalable animation, but its workarounds for animation became a drawback, making us go back to blender. it's still a great software to get started with interactive media and game-development -- however, due to its performance issues, i still think we would prefer going with unreal engine or even godot for game-development. though this may change in the future.</td>\n",
       "      <td>4</td>\n",
       "      <td>we believed product was a great solution for scalable animation but its workarounds for animation became a drawback making us go back to blender its still a great software to get started with interactive media and gamedevelopment  however due to its performance issues i still think we would prefer going with unreal engine or even godot for gamedevelopment though this may change in the future</td>\n",
       "    </tr>\n",
       "    <tr>\n",
       "      <th>4</th>\n",
       "      <td>i formerly used _product_ and was relieved to have a powerful _product_ with excellent reporting capabilities. every _product_ has it's strengths and reporting is the best part of _product_ . i trusted my data and was glad to set up reporting as i needed and not have to depend upon canned reports.</td>\n",
       "      <td>6</td>\n",
       "      <td>i formerly used product and was relieved to have a powerful product with excellent reporting capabilities every product has its strengths and reporting is the best part of product  i trusted my data and was glad to set up reporting as i needed and not have to depend upon canned reports</td>\n",
       "    </tr>\n",
       "  </tbody>\n",
       "</table>\n",
       "</div>"
      ],
      "text/plain": [
       "                                                                                                                                                                                                                                                                                                                                                                                                                                                                                                                             review  \\\n",
       "0                                                                                                                                                                                                                                                                                                              _product_ provided me with a pretty good, secure log-on experience. as i listed in the cons, i found the chrome extension to be the best feature it offered. it allowed me to logon to my most used sites with ease.   \n",
       "1                                                                                                                                                                                                                                                                                                                                                                                                                                 it protects our files and computer and very simple to use. what i can have more than these needs.   \n",
       "2  like most businesses, we are always looking for ways to do more with less. after using two different marketing email services in 2010, we began evaluating more robust marketing automation systems. we tested three options and decided that _product_ offered the best value. their support and implementation services were better than i was expecting. _product_ was extremely proactive in their handholding. we implemented in early 2012 and were benefitting from the system almost immediately. i couldn't be happier.   \n",
       "3                                                                                                         we believed _product_ was a great solution for scalable animation, but its workarounds for animation became a drawback, making us go back to blender. it's still a great software to get started with interactive media and game-development -- however, due to its performance issues, i still think we would prefer going with unreal engine or even godot for game-development. though this may change in the future.    \n",
       "4                                                                                                                                                                                                                        i formerly used _product_ and was relieved to have a powerful _product_ with excellent reporting capabilities. every _product_ has it's strengths and reporting is the best part of _product_ . i trusted my data and was glad to set up reporting as i needed and not have to depend upon canned reports.   \n",
       "\n",
       "   label  \\\n",
       "0      8   \n",
       "1      6   \n",
       "2      8   \n",
       "3      4   \n",
       "4      6   \n",
       "\n",
       "                                                                                                                                                                                                                                                                                                                                                                                                                                                                                                     processed_review  \n",
       "0                                                                                                                                                                                                                                                                                                        product provided me with a pretty good secure logon experience as i listed in the cons i found the chrome extension to be the best feature it offered it allowed me to logon to my most used sites with ease  \n",
       "1                                                                                                                                                                                                                                                                                                                                                                                                                     it protects our files and computer and very simple to use what i can have more than these needs  \n",
       "2  like most businesses we are always looking for ways to do more with less after using two different marketing email services in 2010 we began evaluating more robust marketing automation systems we tested three options and decided that product offered the best value their support and implementation services were better than i was expecting product was extremely proactive in their handholding we implemented in early 2012 and were benefitting from the system almost immediately i couldnt be happier  \n",
       "3                                                                                                         we believed product was a great solution for scalable animation but its workarounds for animation became a drawback making us go back to blender its still a great software to get started with interactive media and gamedevelopment  however due to its performance issues i still think we would prefer going with unreal engine or even godot for gamedevelopment though this may change in the future   \n",
       "4                                                                                                                                                                                                                      i formerly used product and was relieved to have a powerful product with excellent reporting capabilities every product has its strengths and reporting is the best part of product  i trusted my data and was glad to set up reporting as i needed and not have to depend upon canned reports  "
      ]
     },
     "execution_count": 350,
     "metadata": {},
     "output_type": "execute_result"
    }
   ],
   "source": [
    "df_proc['processed_review']= df_proc['processed_review'].apply(lambda x: x.lower())\n",
    "df_proc.head()"
   ]
  },
  {
   "cell_type": "markdown",
   "metadata": {},
   "source": [
    "Then we can remove stopwords that don't add any predictive power. The NLTK library consists of a list of words that are considered stopwords for the English language."
   ]
  },
  {
   "cell_type": "code",
   "execution_count": 352,
   "metadata": {},
   "outputs": [
    {
     "name": "stderr",
     "output_type": "stream",
     "text": [
      "[nltk_data] Downloading package stopwords to /home/seldon/nltk_data...\n",
      "[nltk_data]   Package stopwords is already up-to-date!\n"
     ]
    }
   ],
   "source": [
    "nltk.download('stopwords')\n",
    "#Stop words present in the library\n",
    "stopwords = nltk.corpus.stopwords.words('english')"
   ]
  },
  {
   "cell_type": "code",
   "execution_count": 353,
   "metadata": {},
   "outputs": [],
   "source": [
    "def remove_stopwords(text):\n",
    "    text = ' '.join([word for word in text.split() if word not in (stopwords)])\n",
    "    return text"
   ]
  },
  {
   "cell_type": "code",
   "execution_count": 354,
   "metadata": {},
   "outputs": [
    {
     "data": {
      "text/html": [
       "<div>\n",
       "<style scoped>\n",
       "    .dataframe tbody tr th:only-of-type {\n",
       "        vertical-align: middle;\n",
       "    }\n",
       "\n",
       "    .dataframe tbody tr th {\n",
       "        vertical-align: top;\n",
       "    }\n",
       "\n",
       "    .dataframe thead th {\n",
       "        text-align: right;\n",
       "    }\n",
       "</style>\n",
       "<table border=\"1\" class=\"dataframe\">\n",
       "  <thead>\n",
       "    <tr style=\"text-align: right;\">\n",
       "      <th></th>\n",
       "      <th>review</th>\n",
       "      <th>label</th>\n",
       "      <th>processed_review</th>\n",
       "    </tr>\n",
       "  </thead>\n",
       "  <tbody>\n",
       "    <tr>\n",
       "      <th>0</th>\n",
       "      <td>_product_ provided me with a pretty good, secure log-on experience. as i listed in the cons, i found the chrome extension to be the best feature it offered. it allowed me to logon to my most used sites with ease.</td>\n",
       "      <td>8</td>\n",
       "      <td>product provided pretty good secure logon experience listed cons found chrome extension best feature offered allowed logon used sites ease</td>\n",
       "    </tr>\n",
       "    <tr>\n",
       "      <th>1</th>\n",
       "      <td>it protects our files and computer and very simple to use. what i can have more than these needs.</td>\n",
       "      <td>6</td>\n",
       "      <td>protects files computer simple use needs</td>\n",
       "    </tr>\n",
       "    <tr>\n",
       "      <th>2</th>\n",
       "      <td>like most businesses, we are always looking for ways to do more with less. after using two different marketing email services in 2010, we began evaluating more robust marketing automation systems. we tested three options and decided that _product_ offered the best value. their support and implementation services were better than i was expecting. _product_ was extremely proactive in their handholding. we implemented in early 2012 and were benefitting from the system almost immediately. i couldn't be happier.</td>\n",
       "      <td>8</td>\n",
       "      <td>like businesses always looking ways less using two different marketing email services 2010 began evaluating robust marketing automation systems tested three options decided product offered best value support implementation services better expecting product extremely proactive handholding implemented early 2012 benefitting system almost immediately couldnt happier</td>\n",
       "    </tr>\n",
       "    <tr>\n",
       "      <th>3</th>\n",
       "      <td>we believed _product_ was a great solution for scalable animation, but its workarounds for animation became a drawback, making us go back to blender. it's still a great software to get started with interactive media and game-development -- however, due to its performance issues, i still think we would prefer going with unreal engine or even godot for game-development. though this may change in the future.</td>\n",
       "      <td>4</td>\n",
       "      <td>believed product great solution scalable animation workarounds animation became drawback making us go back blender still great software get started interactive media gamedevelopment however due performance issues still think would prefer going unreal engine even godot gamedevelopment though may change future</td>\n",
       "    </tr>\n",
       "    <tr>\n",
       "      <th>4</th>\n",
       "      <td>i formerly used _product_ and was relieved to have a powerful _product_ with excellent reporting capabilities. every _product_ has it's strengths and reporting is the best part of _product_ . i trusted my data and was glad to set up reporting as i needed and not have to depend upon canned reports.</td>\n",
       "      <td>6</td>\n",
       "      <td>formerly used product relieved powerful product excellent reporting capabilities every product strengths reporting best part product trusted data glad set reporting needed depend upon canned reports</td>\n",
       "    </tr>\n",
       "  </tbody>\n",
       "</table>\n",
       "</div>"
      ],
      "text/plain": [
       "                                                                                                                                                                                                                                                                                                                                                                                                                                                                                                                             review  \\\n",
       "0                                                                                                                                                                                                                                                                                                              _product_ provided me with a pretty good, secure log-on experience. as i listed in the cons, i found the chrome extension to be the best feature it offered. it allowed me to logon to my most used sites with ease.   \n",
       "1                                                                                                                                                                                                                                                                                                                                                                                                                                 it protects our files and computer and very simple to use. what i can have more than these needs.   \n",
       "2  like most businesses, we are always looking for ways to do more with less. after using two different marketing email services in 2010, we began evaluating more robust marketing automation systems. we tested three options and decided that _product_ offered the best value. their support and implementation services were better than i was expecting. _product_ was extremely proactive in their handholding. we implemented in early 2012 and were benefitting from the system almost immediately. i couldn't be happier.   \n",
       "3                                                                                                         we believed _product_ was a great solution for scalable animation, but its workarounds for animation became a drawback, making us go back to blender. it's still a great software to get started with interactive media and game-development -- however, due to its performance issues, i still think we would prefer going with unreal engine or even godot for game-development. though this may change in the future.    \n",
       "4                                                                                                                                                                                                                        i formerly used _product_ and was relieved to have a powerful _product_ with excellent reporting capabilities. every _product_ has it's strengths and reporting is the best part of _product_ . i trusted my data and was glad to set up reporting as i needed and not have to depend upon canned reports.   \n",
       "\n",
       "   label  \\\n",
       "0      8   \n",
       "1      6   \n",
       "2      8   \n",
       "3      4   \n",
       "4      6   \n",
       "\n",
       "                                                                                                                                                                                                                                                                                                                                                                processed_review  \n",
       "0                                                                                                                                                                                                                                     product provided pretty good secure logon experience listed cons found chrome extension best feature offered allowed logon used sites ease  \n",
       "1                                                                                                                                                                                                                                                                                                                                       protects files computer simple use needs  \n",
       "2  like businesses always looking ways less using two different marketing email services 2010 began evaluating robust marketing automation systems tested three options decided product offered best value support implementation services better expecting product extremely proactive handholding implemented early 2012 benefitting system almost immediately couldnt happier  \n",
       "3                                                          believed product great solution scalable animation workarounds animation became drawback making us go back blender still great software get started interactive media gamedevelopment however due performance issues still think would prefer going unreal engine even godot gamedevelopment though may change future  \n",
       "4                                                                                                                                                                         formerly used product relieved powerful product excellent reporting capabilities every product strengths reporting best part product trusted data glad set reporting needed depend upon canned reports  "
      ]
     },
     "execution_count": 354,
     "metadata": {},
     "output_type": "execute_result"
    }
   ],
   "source": [
    "df_proc['processed_review']= df_proc['processed_review'].apply(lambda x:remove_stopwords(x))\n",
    "df_proc.head()"
   ]
  },
  {
   "cell_type": "markdown",
   "metadata": {},
   "source": [
    "And finally we can carry out Lemmatisation to stem the words but ensure they maintain their meaning."
   ]
  },
  {
   "cell_type": "code",
   "execution_count": 305,
   "metadata": {},
   "outputs": [
    {
     "name": "stderr",
     "output_type": "stream",
     "text": [
      "[nltk_data] Downloading package wordnet to /home/seldon/nltk_data...\n",
      "[nltk_data]   Package wordnet is already up-to-date!\n",
      "[nltk_data] Downloading package omw-1.4 to /home/seldon/nltk_data...\n",
      "[nltk_data]   Package omw-1.4 is already up-to-date!\n"
     ]
    }
   ],
   "source": [
    "nltk.download('wordnet')\n",
    "nltk.download('omw-1.4')\n",
    "from nltk.stem import WordNetLemmatizer\n",
    "# Defining the object for Lemmatisation\n",
    "wordnet_lemmatizer = WordNetLemmatizer()"
   ]
  },
  {
   "cell_type": "code",
   "execution_count": 355,
   "metadata": {
    "scrolled": true
   },
   "outputs": [
    {
     "data": {
      "text/html": [
       "<div>\n",
       "<style scoped>\n",
       "    .dataframe tbody tr th:only-of-type {\n",
       "        vertical-align: middle;\n",
       "    }\n",
       "\n",
       "    .dataframe tbody tr th {\n",
       "        vertical-align: top;\n",
       "    }\n",
       "\n",
       "    .dataframe thead th {\n",
       "        text-align: right;\n",
       "    }\n",
       "</style>\n",
       "<table border=\"1\" class=\"dataframe\">\n",
       "  <thead>\n",
       "    <tr style=\"text-align: right;\">\n",
       "      <th></th>\n",
       "      <th>review</th>\n",
       "      <th>label</th>\n",
       "      <th>processed_review</th>\n",
       "    </tr>\n",
       "  </thead>\n",
       "  <tbody>\n",
       "    <tr>\n",
       "      <th>0</th>\n",
       "      <td>_product_ provided me with a pretty good, secure log-on experience. as i listed in the cons, i found the chrome extension to be the best feature it offered. it allowed me to logon to my most used sites with ease.</td>\n",
       "      <td>8</td>\n",
       "      <td>product provided pretty good secure logon experience listed con found chrome extension best feature offered allowed logon used site ease</td>\n",
       "    </tr>\n",
       "    <tr>\n",
       "      <th>1</th>\n",
       "      <td>it protects our files and computer and very simple to use. what i can have more than these needs.</td>\n",
       "      <td>6</td>\n",
       "      <td>protects file computer simple use need</td>\n",
       "    </tr>\n",
       "    <tr>\n",
       "      <th>2</th>\n",
       "      <td>like most businesses, we are always looking for ways to do more with less. after using two different marketing email services in 2010, we began evaluating more robust marketing automation systems. we tested three options and decided that _product_ offered the best value. their support and implementation services were better than i was expecting. _product_ was extremely proactive in their handholding. we implemented in early 2012 and were benefitting from the system almost immediately. i couldn't be happier.</td>\n",
       "      <td>8</td>\n",
       "      <td>like business always looking way le using two different marketing email service 2010 began evaluating robust marketing automation system tested three option decided product offered best value support implementation service better expecting product extremely proactive handholding implemented early 2012 benefitting system almost immediately couldnt happier</td>\n",
       "    </tr>\n",
       "    <tr>\n",
       "      <th>3</th>\n",
       "      <td>we believed _product_ was a great solution for scalable animation, but its workarounds for animation became a drawback, making us go back to blender. it's still a great software to get started with interactive media and game-development -- however, due to its performance issues, i still think we would prefer going with unreal engine or even godot for game-development. though this may change in the future.</td>\n",
       "      <td>4</td>\n",
       "      <td>believed product great solution scalable animation workarounds animation became drawback making u go back blender still great software get started interactive medium gamedevelopment however due performance issue still think would prefer going unreal engine even godot gamedevelopment though may change future</td>\n",
       "    </tr>\n",
       "    <tr>\n",
       "      <th>4</th>\n",
       "      <td>i formerly used _product_ and was relieved to have a powerful _product_ with excellent reporting capabilities. every _product_ has it's strengths and reporting is the best part of _product_ . i trusted my data and was glad to set up reporting as i needed and not have to depend upon canned reports.</td>\n",
       "      <td>6</td>\n",
       "      <td>formerly used product relieved powerful product excellent reporting capability every product strength reporting best part product trusted data glad set reporting needed depend upon canned report</td>\n",
       "    </tr>\n",
       "  </tbody>\n",
       "</table>\n",
       "</div>"
      ],
      "text/plain": [
       "                                                                                                                                                                                                                                                                                                                                                                                                                                                                                                                             review  \\\n",
       "0                                                                                                                                                                                                                                                                                                              _product_ provided me with a pretty good, secure log-on experience. as i listed in the cons, i found the chrome extension to be the best feature it offered. it allowed me to logon to my most used sites with ease.   \n",
       "1                                                                                                                                                                                                                                                                                                                                                                                                                                 it protects our files and computer and very simple to use. what i can have more than these needs.   \n",
       "2  like most businesses, we are always looking for ways to do more with less. after using two different marketing email services in 2010, we began evaluating more robust marketing automation systems. we tested three options and decided that _product_ offered the best value. their support and implementation services were better than i was expecting. _product_ was extremely proactive in their handholding. we implemented in early 2012 and were benefitting from the system almost immediately. i couldn't be happier.   \n",
       "3                                                                                                         we believed _product_ was a great solution for scalable animation, but its workarounds for animation became a drawback, making us go back to blender. it's still a great software to get started with interactive media and game-development -- however, due to its performance issues, i still think we would prefer going with unreal engine or even godot for game-development. though this may change in the future.    \n",
       "4                                                                                                                                                                                                                        i formerly used _product_ and was relieved to have a powerful _product_ with excellent reporting capabilities. every _product_ has it's strengths and reporting is the best part of _product_ . i trusted my data and was glad to set up reporting as i needed and not have to depend upon canned reports.   \n",
       "\n",
       "   label  \\\n",
       "0      8   \n",
       "1      6   \n",
       "2      8   \n",
       "3      4   \n",
       "4      6   \n",
       "\n",
       "                                                                                                                                                                                                                                                                                                                                                       processed_review  \n",
       "0                                                                                                                                                                                                                              product provided pretty good secure logon experience listed con found chrome extension best feature offered allowed logon used site ease  \n",
       "1                                                                                                                                                                                                                                                                                                                                protects file computer simple use need  \n",
       "2  like business always looking way le using two different marketing email service 2010 began evaluating robust marketing automation system tested three option decided product offered best value support implementation service better expecting product extremely proactive handholding implemented early 2012 benefitting system almost immediately couldnt happier  \n",
       "3                                                  believed product great solution scalable animation workarounds animation became drawback making u go back blender still great software get started interactive medium gamedevelopment however due performance issue still think would prefer going unreal engine even godot gamedevelopment though may change future  \n",
       "4                                                                                                                                                                    formerly used product relieved powerful product excellent reporting capability every product strength reporting best part product trusted data glad set reporting needed depend upon canned report  "
      ]
     },
     "execution_count": 355,
     "metadata": {},
     "output_type": "execute_result"
    }
   ],
   "source": [
    "def lemmatizer(text):\n",
    "    lemm_text = ' '. join([wordnet_lemmatizer.lemmatize(word) for word in text.split()])\n",
    "    return lemm_text\n",
    "\n",
    "df_proc['processed_review']=df_proc['processed_review'].apply(lambda x:lemmatizer(x))\n",
    "df_proc.head()"
   ]
  },
  {
   "cell_type": "code",
   "execution_count": 356,
   "metadata": {},
   "outputs": [
    {
     "data": {
      "text/html": [
       "<div>\n",
       "<style scoped>\n",
       "    .dataframe tbody tr th:only-of-type {\n",
       "        vertical-align: middle;\n",
       "    }\n",
       "\n",
       "    .dataframe tbody tr th {\n",
       "        vertical-align: top;\n",
       "    }\n",
       "\n",
       "    .dataframe thead th {\n",
       "        text-align: right;\n",
       "    }\n",
       "</style>\n",
       "<table border=\"1\" class=\"dataframe\">\n",
       "  <thead>\n",
       "    <tr style=\"text-align: right;\">\n",
       "      <th></th>\n",
       "      <th>label</th>\n",
       "      <th>processed_review</th>\n",
       "    </tr>\n",
       "  </thead>\n",
       "  <tbody>\n",
       "    <tr>\n",
       "      <th>0</th>\n",
       "      <td>8</td>\n",
       "      <td>product provided pretty good secure logon experience listed con found chrome extension best feature offered allowed logon used site ease</td>\n",
       "    </tr>\n",
       "    <tr>\n",
       "      <th>1</th>\n",
       "      <td>6</td>\n",
       "      <td>protects file computer simple use need</td>\n",
       "    </tr>\n",
       "    <tr>\n",
       "      <th>2</th>\n",
       "      <td>8</td>\n",
       "      <td>like business always looking way le using two different marketing email service 2010 began evaluating robust marketing automation system tested three option decided product offered best value support implementation service better expecting product extremely proactive handholding implemented early 2012 benefitting system almost immediately couldnt happier</td>\n",
       "    </tr>\n",
       "    <tr>\n",
       "      <th>3</th>\n",
       "      <td>4</td>\n",
       "      <td>believed product great solution scalable animation workarounds animation became drawback making u go back blender still great software get started interactive medium gamedevelopment however due performance issue still think would prefer going unreal engine even godot gamedevelopment though may change future</td>\n",
       "    </tr>\n",
       "    <tr>\n",
       "      <th>4</th>\n",
       "      <td>6</td>\n",
       "      <td>formerly used product relieved powerful product excellent reporting capability every product strength reporting best part product trusted data glad set reporting needed depend upon canned report</td>\n",
       "    </tr>\n",
       "  </tbody>\n",
       "</table>\n",
       "</div>"
      ],
      "text/plain": [
       "   label  \\\n",
       "0      8   \n",
       "1      6   \n",
       "2      8   \n",
       "3      4   \n",
       "4      6   \n",
       "\n",
       "                                                                                                                                                                                                                                                                                                                                                       processed_review  \n",
       "0                                                                                                                                                                                                                              product provided pretty good secure logon experience listed con found chrome extension best feature offered allowed logon used site ease  \n",
       "1                                                                                                                                                                                                                                                                                                                                protects file computer simple use need  \n",
       "2  like business always looking way le using two different marketing email service 2010 began evaluating robust marketing automation system tested three option decided product offered best value support implementation service better expecting product extremely proactive handholding implemented early 2012 benefitting system almost immediately couldnt happier  \n",
       "3                                                  believed product great solution scalable animation workarounds animation became drawback making u go back blender still great software get started interactive medium gamedevelopment however due performance issue still think would prefer going unreal engine even godot gamedevelopment though may change future  \n",
       "4                                                                                                                                                                    formerly used product relieved powerful product excellent reporting capability every product strength reporting best part product trusted data glad set reporting needed depend upon canned report  "
      ]
     },
     "execution_count": 356,
     "metadata": {},
     "output_type": "execute_result"
    }
   ],
   "source": [
    "df_proc.drop(columns=\"review\", inplace=True, axis=1)\n",
    "df_proc.head()"
   ]
  },
  {
   "cell_type": "markdown",
   "metadata": {},
   "source": [
    "## Training the transformer model"
   ]
  },
  {
   "cell_type": "markdown",
   "metadata": {},
   "source": [
    "Not using preprocessed data at the moment - to change before workshop if have time to add preprocessing to custom model"
   ]
  },
  {
   "cell_type": "code",
   "execution_count": 363,
   "metadata": {},
   "outputs": [],
   "source": [
    "# Split data into train and test sets\n",
    "train, test = train_test_split(df, test_size=0.3, random_state=42)"
   ]
  },
  {
   "cell_type": "code",
   "execution_count": 276,
   "metadata": {},
   "outputs": [],
   "source": [
    "# Convert data into Dataset type\n",
    "train_ds = datasets.Dataset.from_pandas(train, preserve_index=False)\n",
    "test_ds = datasets.Dataset.from_pandas(test, preserve_index=False)\n",
    "comp_ds = datasets.DatasetDict({\"train\":train_ds,\"test\":test_ds})"
   ]
  },
  {
   "cell_type": "code",
   "execution_count": 277,
   "metadata": {},
   "outputs": [],
   "source": [
    "tokenizer = AutoTokenizer.from_pretrained(\"distilbert-base-uncased\")"
   ]
  },
  {
   "cell_type": "code",
   "execution_count": 280,
   "metadata": {},
   "outputs": [],
   "source": [
    "def preprocess_function(df):\n",
    "    return tokenizer(df[\"processed_review\"], padding=\"max_length\", truncation=True)"
   ]
  },
  {
   "cell_type": "code",
   "execution_count": 281,
   "metadata": {},
   "outputs": [
    {
     "name": "stderr",
     "output_type": "stream",
     "text": [
      "100%|█████████████████████████████████████████████████████████████████████████████████████████████████████████████████████████████████| 35/35 [00:04<00:00,  8.00ba/s]\n",
      "100%|█████████████████████████████████████████████████████████████████████████████████████████████████████████████████████████████████| 15/15 [00:01<00:00,  7.94ba/s]\n"
     ]
    }
   ],
   "source": [
    "tokenized_revs = comp_ds.map(preprocess_function, batched=True)"
   ]
  },
  {
   "cell_type": "code",
   "execution_count": 284,
   "metadata": {},
   "outputs": [],
   "source": [
    "data_collator = DefaultDataCollator(return_tensors=\"tf\")"
   ]
  },
  {
   "cell_type": "code",
   "execution_count": 285,
   "metadata": {},
   "outputs": [],
   "source": [
    "tf_train_set = tokenized_revs[\"train\"].to_tf_dataset(\n",
    "    columns=[\"attention_mask\", \"input_ids\"],\n",
    "    label_cols=[\"labels\"],\n",
    "    shuffle=True,\n",
    "    batch_size=16,\n",
    "    collate_fn=data_collator\n",
    ")\n",
    "\n",
    "tf_test_set = tokenized_revs[\"test\"].to_tf_dataset(\n",
    "    columns=[\"attention_mask\", \"input_ids\"],\n",
    "    label_cols=[\"labels\"],\n",
    "    shuffle=False,\n",
    "    batch_size=16,\n",
    "    collate_fn=data_collator\n",
    ")"
   ]
  },
  {
   "cell_type": "code",
   "execution_count": 286,
   "metadata": {},
   "outputs": [
    {
     "name": "stderr",
     "output_type": "stream",
     "text": [
      "Some layers from the model checkpoint at distilbert-base-uncased were not used when initializing TFDistilBertForSequenceClassification: ['vocab_projector', 'vocab_layer_norm', 'vocab_transform', 'activation_13']\n",
      "- This IS expected if you are initializing TFDistilBertForSequenceClassification from the checkpoint of a model trained on another task or with another architecture (e.g. initializing a BertForSequenceClassification model from a BertForPreTraining model).\n",
      "- This IS NOT expected if you are initializing TFDistilBertForSequenceClassification from the checkpoint of a model that you expect to be exactly identical (initializing a BertForSequenceClassification model from a BertForSequenceClassification model).\n",
      "Some layers of TFDistilBertForSequenceClassification were not initialized from the model checkpoint at distilbert-base-uncased and are newly initialized: ['classifier', 'pre_classifier', 'dropout_58']\n",
      "You should probably TRAIN this model on a down-stream task to be able to use it for predictions and inference.\n"
     ]
    }
   ],
   "source": [
    "model = TFAutoModelForSequenceClassification.from_pretrained(\"distilbert-base-uncased\", num_labels=9)"
   ]
  },
  {
   "cell_type": "code",
   "execution_count": 287,
   "metadata": {
    "collapsed": true
   },
   "outputs": [
    {
     "name": "stdout",
     "output_type": "stream",
     "text": [
      "Epoch 1/5\n",
      "   4/2187 [..............................] - ETA: 3:04:33 - loss: 2.1370 - sparse_categorical_accuracy: 0.2969"
     ]
    },
    {
     "ename": "KeyboardInterrupt",
     "evalue": "",
     "output_type": "error",
     "traceback": [
      "\u001b[0;31m---------------------------------------------------------------------------\u001b[0m",
      "\u001b[0;31mKeyboardInterrupt\u001b[0m                         Traceback (most recent call last)",
      "Input \u001b[0;32mIn [287]\u001b[0m, in \u001b[0;36m<cell line: 9>\u001b[0;34m()\u001b[0m\n\u001b[1;32m      1\u001b[0m model\u001b[38;5;241m.\u001b[39mlayers[\u001b[38;5;241m0\u001b[39m]\u001b[38;5;241m.\u001b[39mtrainable \u001b[38;5;241m=\u001b[39m \u001b[38;5;28;01mFalse\u001b[39;00m\n\u001b[1;32m      3\u001b[0m model\u001b[38;5;241m.\u001b[39mcompile(\n\u001b[1;32m      4\u001b[0m     optimizer\u001b[38;5;241m=\u001b[39mtf\u001b[38;5;241m.\u001b[39mkeras\u001b[38;5;241m.\u001b[39moptimizers\u001b[38;5;241m.\u001b[39mAdam(learning_rate\u001b[38;5;241m=\u001b[39m\u001b[38;5;241m5e-5\u001b[39m),\n\u001b[1;32m      5\u001b[0m     loss\u001b[38;5;241m=\u001b[39mtf\u001b[38;5;241m.\u001b[39mkeras\u001b[38;5;241m.\u001b[39mlosses\u001b[38;5;241m.\u001b[39mSparseCategoricalCrossentropy(from_logits\u001b[38;5;241m=\u001b[39m\u001b[38;5;28;01mTrue\u001b[39;00m),\n\u001b[1;32m      6\u001b[0m     metrics\u001b[38;5;241m=\u001b[39mtf\u001b[38;5;241m.\u001b[39mmetrics\u001b[38;5;241m.\u001b[39mSparseCategoricalAccuracy(),\n\u001b[1;32m      7\u001b[0m )\n\u001b[0;32m----> 9\u001b[0m \u001b[43mmodel\u001b[49m\u001b[38;5;241;43m.\u001b[39;49m\u001b[43mfit\u001b[49m\u001b[43m(\u001b[49m\u001b[43mtf_train_set\u001b[49m\u001b[43m,\u001b[49m\u001b[43m \u001b[49m\u001b[43mvalidation_data\u001b[49m\u001b[38;5;241;43m=\u001b[39;49m\u001b[43mtf_test_set\u001b[49m\u001b[43m,\u001b[49m\u001b[43m \u001b[49m\u001b[43mepochs\u001b[49m\u001b[38;5;241;43m=\u001b[39;49m\u001b[38;5;241;43m5\u001b[39;49m\u001b[43m)\u001b[49m\n",
      "File \u001b[0;32m~/anaconda3/envs/deploy-workshops/nlp-ratings-new/lib/python3.8/site-packages/keras/utils/traceback_utils.py:64\u001b[0m, in \u001b[0;36mfilter_traceback.<locals>.error_handler\u001b[0;34m(*args, **kwargs)\u001b[0m\n\u001b[1;32m     62\u001b[0m filtered_tb \u001b[38;5;241m=\u001b[39m \u001b[38;5;28;01mNone\u001b[39;00m\n\u001b[1;32m     63\u001b[0m \u001b[38;5;28;01mtry\u001b[39;00m:\n\u001b[0;32m---> 64\u001b[0m   \u001b[38;5;28;01mreturn\u001b[39;00m \u001b[43mfn\u001b[49m\u001b[43m(\u001b[49m\u001b[38;5;241;43m*\u001b[39;49m\u001b[43margs\u001b[49m\u001b[43m,\u001b[49m\u001b[43m \u001b[49m\u001b[38;5;241;43m*\u001b[39;49m\u001b[38;5;241;43m*\u001b[39;49m\u001b[43mkwargs\u001b[49m\u001b[43m)\u001b[49m\n\u001b[1;32m     65\u001b[0m \u001b[38;5;28;01mexcept\u001b[39;00m \u001b[38;5;167;01mException\u001b[39;00m \u001b[38;5;28;01mas\u001b[39;00m e:  \u001b[38;5;66;03m# pylint: disable=broad-except\u001b[39;00m\n\u001b[1;32m     66\u001b[0m   filtered_tb \u001b[38;5;241m=\u001b[39m _process_traceback_frames(e\u001b[38;5;241m.\u001b[39m__traceback__)\n",
      "File \u001b[0;32m~/anaconda3/envs/deploy-workshops/nlp-ratings-new/lib/python3.8/site-packages/keras/engine/training.py:1216\u001b[0m, in \u001b[0;36mModel.fit\u001b[0;34m(self, x, y, batch_size, epochs, verbose, callbacks, validation_split, validation_data, shuffle, class_weight, sample_weight, initial_epoch, steps_per_epoch, validation_steps, validation_batch_size, validation_freq, max_queue_size, workers, use_multiprocessing)\u001b[0m\n\u001b[1;32m   1209\u001b[0m \u001b[38;5;28;01mwith\u001b[39;00m tf\u001b[38;5;241m.\u001b[39mprofiler\u001b[38;5;241m.\u001b[39mexperimental\u001b[38;5;241m.\u001b[39mTrace(\n\u001b[1;32m   1210\u001b[0m     \u001b[38;5;124m'\u001b[39m\u001b[38;5;124mtrain\u001b[39m\u001b[38;5;124m'\u001b[39m,\n\u001b[1;32m   1211\u001b[0m     epoch_num\u001b[38;5;241m=\u001b[39mepoch,\n\u001b[1;32m   1212\u001b[0m     step_num\u001b[38;5;241m=\u001b[39mstep,\n\u001b[1;32m   1213\u001b[0m     batch_size\u001b[38;5;241m=\u001b[39mbatch_size,\n\u001b[1;32m   1214\u001b[0m     _r\u001b[38;5;241m=\u001b[39m\u001b[38;5;241m1\u001b[39m):\n\u001b[1;32m   1215\u001b[0m   callbacks\u001b[38;5;241m.\u001b[39mon_train_batch_begin(step)\n\u001b[0;32m-> 1216\u001b[0m   tmp_logs \u001b[38;5;241m=\u001b[39m \u001b[38;5;28;43mself\u001b[39;49m\u001b[38;5;241;43m.\u001b[39;49m\u001b[43mtrain_function\u001b[49m\u001b[43m(\u001b[49m\u001b[43miterator\u001b[49m\u001b[43m)\u001b[49m\n\u001b[1;32m   1217\u001b[0m   \u001b[38;5;28;01mif\u001b[39;00m data_handler\u001b[38;5;241m.\u001b[39mshould_sync:\n\u001b[1;32m   1218\u001b[0m     context\u001b[38;5;241m.\u001b[39masync_wait()\n",
      "File \u001b[0;32m~/anaconda3/envs/deploy-workshops/nlp-ratings-new/lib/python3.8/site-packages/tensorflow/python/util/traceback_utils.py:150\u001b[0m, in \u001b[0;36mfilter_traceback.<locals>.error_handler\u001b[0;34m(*args, **kwargs)\u001b[0m\n\u001b[1;32m    148\u001b[0m filtered_tb \u001b[38;5;241m=\u001b[39m \u001b[38;5;28;01mNone\u001b[39;00m\n\u001b[1;32m    149\u001b[0m \u001b[38;5;28;01mtry\u001b[39;00m:\n\u001b[0;32m--> 150\u001b[0m   \u001b[38;5;28;01mreturn\u001b[39;00m \u001b[43mfn\u001b[49m\u001b[43m(\u001b[49m\u001b[38;5;241;43m*\u001b[39;49m\u001b[43margs\u001b[49m\u001b[43m,\u001b[49m\u001b[43m \u001b[49m\u001b[38;5;241;43m*\u001b[39;49m\u001b[38;5;241;43m*\u001b[39;49m\u001b[43mkwargs\u001b[49m\u001b[43m)\u001b[49m\n\u001b[1;32m    151\u001b[0m \u001b[38;5;28;01mexcept\u001b[39;00m \u001b[38;5;167;01mException\u001b[39;00m \u001b[38;5;28;01mas\u001b[39;00m e:\n\u001b[1;32m    152\u001b[0m   filtered_tb \u001b[38;5;241m=\u001b[39m _process_traceback_frames(e\u001b[38;5;241m.\u001b[39m__traceback__)\n",
      "File \u001b[0;32m~/anaconda3/envs/deploy-workshops/nlp-ratings-new/lib/python3.8/site-packages/tensorflow/python/eager/def_function.py:910\u001b[0m, in \u001b[0;36mFunction.__call__\u001b[0;34m(self, *args, **kwds)\u001b[0m\n\u001b[1;32m    907\u001b[0m compiler \u001b[38;5;241m=\u001b[39m \u001b[38;5;124m\"\u001b[39m\u001b[38;5;124mxla\u001b[39m\u001b[38;5;124m\"\u001b[39m \u001b[38;5;28;01mif\u001b[39;00m \u001b[38;5;28mself\u001b[39m\u001b[38;5;241m.\u001b[39m_jit_compile \u001b[38;5;28;01melse\u001b[39;00m \u001b[38;5;124m\"\u001b[39m\u001b[38;5;124mnonXla\u001b[39m\u001b[38;5;124m\"\u001b[39m\n\u001b[1;32m    909\u001b[0m \u001b[38;5;28;01mwith\u001b[39;00m OptionalXlaContext(\u001b[38;5;28mself\u001b[39m\u001b[38;5;241m.\u001b[39m_jit_compile):\n\u001b[0;32m--> 910\u001b[0m   result \u001b[38;5;241m=\u001b[39m \u001b[38;5;28;43mself\u001b[39;49m\u001b[38;5;241;43m.\u001b[39;49m\u001b[43m_call\u001b[49m\u001b[43m(\u001b[49m\u001b[38;5;241;43m*\u001b[39;49m\u001b[43margs\u001b[49m\u001b[43m,\u001b[49m\u001b[43m \u001b[49m\u001b[38;5;241;43m*\u001b[39;49m\u001b[38;5;241;43m*\u001b[39;49m\u001b[43mkwds\u001b[49m\u001b[43m)\u001b[49m\n\u001b[1;32m    912\u001b[0m new_tracing_count \u001b[38;5;241m=\u001b[39m \u001b[38;5;28mself\u001b[39m\u001b[38;5;241m.\u001b[39mexperimental_get_tracing_count()\n\u001b[1;32m    913\u001b[0m without_tracing \u001b[38;5;241m=\u001b[39m (tracing_count \u001b[38;5;241m==\u001b[39m new_tracing_count)\n",
      "File \u001b[0;32m~/anaconda3/envs/deploy-workshops/nlp-ratings-new/lib/python3.8/site-packages/tensorflow/python/eager/def_function.py:942\u001b[0m, in \u001b[0;36mFunction._call\u001b[0;34m(self, *args, **kwds)\u001b[0m\n\u001b[1;32m    939\u001b[0m   \u001b[38;5;28mself\u001b[39m\u001b[38;5;241m.\u001b[39m_lock\u001b[38;5;241m.\u001b[39mrelease()\n\u001b[1;32m    940\u001b[0m   \u001b[38;5;66;03m# In this case we have created variables on the first call, so we run the\u001b[39;00m\n\u001b[1;32m    941\u001b[0m   \u001b[38;5;66;03m# defunned version which is guaranteed to never create variables.\u001b[39;00m\n\u001b[0;32m--> 942\u001b[0m   \u001b[38;5;28;01mreturn\u001b[39;00m \u001b[38;5;28;43mself\u001b[39;49m\u001b[38;5;241;43m.\u001b[39;49m\u001b[43m_stateless_fn\u001b[49m\u001b[43m(\u001b[49m\u001b[38;5;241;43m*\u001b[39;49m\u001b[43margs\u001b[49m\u001b[43m,\u001b[49m\u001b[43m \u001b[49m\u001b[38;5;241;43m*\u001b[39;49m\u001b[38;5;241;43m*\u001b[39;49m\u001b[43mkwds\u001b[49m\u001b[43m)\u001b[49m  \u001b[38;5;66;03m# pylint: disable=not-callable\u001b[39;00m\n\u001b[1;32m    943\u001b[0m \u001b[38;5;28;01melif\u001b[39;00m \u001b[38;5;28mself\u001b[39m\u001b[38;5;241m.\u001b[39m_stateful_fn \u001b[38;5;129;01mis\u001b[39;00m \u001b[38;5;129;01mnot\u001b[39;00m \u001b[38;5;28;01mNone\u001b[39;00m:\n\u001b[1;32m    944\u001b[0m   \u001b[38;5;66;03m# Release the lock early so that multiple threads can perform the call\u001b[39;00m\n\u001b[1;32m    945\u001b[0m   \u001b[38;5;66;03m# in parallel.\u001b[39;00m\n\u001b[1;32m    946\u001b[0m   \u001b[38;5;28mself\u001b[39m\u001b[38;5;241m.\u001b[39m_lock\u001b[38;5;241m.\u001b[39mrelease()\n",
      "File \u001b[0;32m~/anaconda3/envs/deploy-workshops/nlp-ratings-new/lib/python3.8/site-packages/tensorflow/python/eager/function.py:3130\u001b[0m, in \u001b[0;36mFunction.__call__\u001b[0;34m(self, *args, **kwargs)\u001b[0m\n\u001b[1;32m   3127\u001b[0m \u001b[38;5;28;01mwith\u001b[39;00m \u001b[38;5;28mself\u001b[39m\u001b[38;5;241m.\u001b[39m_lock:\n\u001b[1;32m   3128\u001b[0m   (graph_function,\n\u001b[1;32m   3129\u001b[0m    filtered_flat_args) \u001b[38;5;241m=\u001b[39m \u001b[38;5;28mself\u001b[39m\u001b[38;5;241m.\u001b[39m_maybe_define_function(args, kwargs)\n\u001b[0;32m-> 3130\u001b[0m \u001b[38;5;28;01mreturn\u001b[39;00m \u001b[43mgraph_function\u001b[49m\u001b[38;5;241;43m.\u001b[39;49m\u001b[43m_call_flat\u001b[49m\u001b[43m(\u001b[49m\n\u001b[1;32m   3131\u001b[0m \u001b[43m    \u001b[49m\u001b[43mfiltered_flat_args\u001b[49m\u001b[43m,\u001b[49m\u001b[43m \u001b[49m\u001b[43mcaptured_inputs\u001b[49m\u001b[38;5;241;43m=\u001b[39;49m\u001b[43mgraph_function\u001b[49m\u001b[38;5;241;43m.\u001b[39;49m\u001b[43mcaptured_inputs\u001b[49m\u001b[43m)\u001b[49m\n",
      "File \u001b[0;32m~/anaconda3/envs/deploy-workshops/nlp-ratings-new/lib/python3.8/site-packages/tensorflow/python/eager/function.py:1959\u001b[0m, in \u001b[0;36mConcreteFunction._call_flat\u001b[0;34m(self, args, captured_inputs, cancellation_manager)\u001b[0m\n\u001b[1;32m   1955\u001b[0m possible_gradient_type \u001b[38;5;241m=\u001b[39m gradients_util\u001b[38;5;241m.\u001b[39mPossibleTapeGradientTypes(args)\n\u001b[1;32m   1956\u001b[0m \u001b[38;5;28;01mif\u001b[39;00m (possible_gradient_type \u001b[38;5;241m==\u001b[39m gradients_util\u001b[38;5;241m.\u001b[39mPOSSIBLE_GRADIENT_TYPES_NONE\n\u001b[1;32m   1957\u001b[0m     \u001b[38;5;129;01mand\u001b[39;00m executing_eagerly):\n\u001b[1;32m   1958\u001b[0m   \u001b[38;5;66;03m# No tape is watching; skip to running the function.\u001b[39;00m\n\u001b[0;32m-> 1959\u001b[0m   \u001b[38;5;28;01mreturn\u001b[39;00m \u001b[38;5;28mself\u001b[39m\u001b[38;5;241m.\u001b[39m_build_call_outputs(\u001b[38;5;28;43mself\u001b[39;49m\u001b[38;5;241;43m.\u001b[39;49m\u001b[43m_inference_function\u001b[49m\u001b[38;5;241;43m.\u001b[39;49m\u001b[43mcall\u001b[49m\u001b[43m(\u001b[49m\n\u001b[1;32m   1960\u001b[0m \u001b[43m      \u001b[49m\u001b[43mctx\u001b[49m\u001b[43m,\u001b[49m\u001b[43m \u001b[49m\u001b[43margs\u001b[49m\u001b[43m,\u001b[49m\u001b[43m \u001b[49m\u001b[43mcancellation_manager\u001b[49m\u001b[38;5;241;43m=\u001b[39;49m\u001b[43mcancellation_manager\u001b[49m\u001b[43m)\u001b[49m)\n\u001b[1;32m   1961\u001b[0m forward_backward \u001b[38;5;241m=\u001b[39m \u001b[38;5;28mself\u001b[39m\u001b[38;5;241m.\u001b[39m_select_forward_and_backward_functions(\n\u001b[1;32m   1962\u001b[0m     args,\n\u001b[1;32m   1963\u001b[0m     possible_gradient_type,\n\u001b[1;32m   1964\u001b[0m     executing_eagerly)\n\u001b[1;32m   1965\u001b[0m forward_function, args_with_tangents \u001b[38;5;241m=\u001b[39m forward_backward\u001b[38;5;241m.\u001b[39mforward()\n",
      "File \u001b[0;32m~/anaconda3/envs/deploy-workshops/nlp-ratings-new/lib/python3.8/site-packages/tensorflow/python/eager/function.py:598\u001b[0m, in \u001b[0;36m_EagerDefinedFunction.call\u001b[0;34m(self, ctx, args, cancellation_manager)\u001b[0m\n\u001b[1;32m    596\u001b[0m \u001b[38;5;28;01mwith\u001b[39;00m _InterpolateFunctionError(\u001b[38;5;28mself\u001b[39m):\n\u001b[1;32m    597\u001b[0m   \u001b[38;5;28;01mif\u001b[39;00m cancellation_manager \u001b[38;5;129;01mis\u001b[39;00m \u001b[38;5;28;01mNone\u001b[39;00m:\n\u001b[0;32m--> 598\u001b[0m     outputs \u001b[38;5;241m=\u001b[39m \u001b[43mexecute\u001b[49m\u001b[38;5;241;43m.\u001b[39;49m\u001b[43mexecute\u001b[49m\u001b[43m(\u001b[49m\n\u001b[1;32m    599\u001b[0m \u001b[43m        \u001b[49m\u001b[38;5;28;43mstr\u001b[39;49m\u001b[43m(\u001b[49m\u001b[38;5;28;43mself\u001b[39;49m\u001b[38;5;241;43m.\u001b[39;49m\u001b[43msignature\u001b[49m\u001b[38;5;241;43m.\u001b[39;49m\u001b[43mname\u001b[49m\u001b[43m)\u001b[49m\u001b[43m,\u001b[49m\n\u001b[1;32m    600\u001b[0m \u001b[43m        \u001b[49m\u001b[43mnum_outputs\u001b[49m\u001b[38;5;241;43m=\u001b[39;49m\u001b[38;5;28;43mself\u001b[39;49m\u001b[38;5;241;43m.\u001b[39;49m\u001b[43m_num_outputs\u001b[49m\u001b[43m,\u001b[49m\n\u001b[1;32m    601\u001b[0m \u001b[43m        \u001b[49m\u001b[43minputs\u001b[49m\u001b[38;5;241;43m=\u001b[39;49m\u001b[43margs\u001b[49m\u001b[43m,\u001b[49m\n\u001b[1;32m    602\u001b[0m \u001b[43m        \u001b[49m\u001b[43mattrs\u001b[49m\u001b[38;5;241;43m=\u001b[39;49m\u001b[43mattrs\u001b[49m\u001b[43m,\u001b[49m\n\u001b[1;32m    603\u001b[0m \u001b[43m        \u001b[49m\u001b[43mctx\u001b[49m\u001b[38;5;241;43m=\u001b[39;49m\u001b[43mctx\u001b[49m\u001b[43m)\u001b[49m\n\u001b[1;32m    604\u001b[0m   \u001b[38;5;28;01melse\u001b[39;00m:\n\u001b[1;32m    605\u001b[0m     outputs \u001b[38;5;241m=\u001b[39m execute\u001b[38;5;241m.\u001b[39mexecute_with_cancellation(\n\u001b[1;32m    606\u001b[0m         \u001b[38;5;28mstr\u001b[39m(\u001b[38;5;28mself\u001b[39m\u001b[38;5;241m.\u001b[39msignature\u001b[38;5;241m.\u001b[39mname),\n\u001b[1;32m    607\u001b[0m         num_outputs\u001b[38;5;241m=\u001b[39m\u001b[38;5;28mself\u001b[39m\u001b[38;5;241m.\u001b[39m_num_outputs,\n\u001b[0;32m   (...)\u001b[0m\n\u001b[1;32m    610\u001b[0m         ctx\u001b[38;5;241m=\u001b[39mctx,\n\u001b[1;32m    611\u001b[0m         cancellation_manager\u001b[38;5;241m=\u001b[39mcancellation_manager)\n",
      "File \u001b[0;32m~/anaconda3/envs/deploy-workshops/nlp-ratings-new/lib/python3.8/site-packages/tensorflow/python/eager/execute.py:58\u001b[0m, in \u001b[0;36mquick_execute\u001b[0;34m(op_name, num_outputs, inputs, attrs, ctx, name)\u001b[0m\n\u001b[1;32m     56\u001b[0m \u001b[38;5;28;01mtry\u001b[39;00m:\n\u001b[1;32m     57\u001b[0m   ctx\u001b[38;5;241m.\u001b[39mensure_initialized()\n\u001b[0;32m---> 58\u001b[0m   tensors \u001b[38;5;241m=\u001b[39m \u001b[43mpywrap_tfe\u001b[49m\u001b[38;5;241;43m.\u001b[39;49m\u001b[43mTFE_Py_Execute\u001b[49m\u001b[43m(\u001b[49m\u001b[43mctx\u001b[49m\u001b[38;5;241;43m.\u001b[39;49m\u001b[43m_handle\u001b[49m\u001b[43m,\u001b[49m\u001b[43m \u001b[49m\u001b[43mdevice_name\u001b[49m\u001b[43m,\u001b[49m\u001b[43m \u001b[49m\u001b[43mop_name\u001b[49m\u001b[43m,\u001b[49m\n\u001b[1;32m     59\u001b[0m \u001b[43m                                      \u001b[49m\u001b[43minputs\u001b[49m\u001b[43m,\u001b[49m\u001b[43m \u001b[49m\u001b[43mattrs\u001b[49m\u001b[43m,\u001b[49m\u001b[43m \u001b[49m\u001b[43mnum_outputs\u001b[49m\u001b[43m)\u001b[49m\n\u001b[1;32m     60\u001b[0m \u001b[38;5;28;01mexcept\u001b[39;00m core\u001b[38;5;241m.\u001b[39m_NotOkStatusException \u001b[38;5;28;01mas\u001b[39;00m e:\n\u001b[1;32m     61\u001b[0m   \u001b[38;5;28;01mif\u001b[39;00m name \u001b[38;5;129;01mis\u001b[39;00m \u001b[38;5;129;01mnot\u001b[39;00m \u001b[38;5;28;01mNone\u001b[39;00m:\n",
      "\u001b[0;31mKeyboardInterrupt\u001b[0m: "
     ]
    }
   ],
   "source": [
    "model.layers[0].trainable = False\n",
    "\n",
    "model.compile(\n",
    "    optimizer=tf.keras.optimizers.Adam(learning_rate=5e-5),\n",
    "    loss=tf.keras.losses.SparseCategoricalCrossentropy(from_logits=True),\n",
    "    metrics=tf.metrics.SparseCategoricalAccuracy(),\n",
    ")\n",
    "\n",
    "model.fit(tf_train_set, validation_data=tf_test_set, epochs=5)"
   ]
  },
  {
   "cell_type": "markdown",
   "metadata": {},
   "source": [
    "## Evaluation"
   ]
  },
  {
   "cell_type": "code",
   "execution_count": null,
   "metadata": {},
   "outputs": [],
   "source": [
    "# colors = plt.rcParams['axes.prop_cycle'].by_key()['color']\n",
    "# mpl.rcParams['figure.figsize'] = (12, 10)"
   ]
  },
  {
   "cell_type": "code",
   "execution_count": null,
   "metadata": {},
   "outputs": [],
   "source": [
    "# def plot_metrics(history):\n",
    "#     metrics = ['loss', 'accuracy']\n",
    "#     for n, metric in enumerate(metrics):\n",
    "#         name = metric.replace(\"_\",\" \").capitalize()\n",
    "#         plt.subplot(2,2,n+1)\n",
    "#         plt.plot(history.epoch, history.history[metric], color=colors[0], label='Train')\n",
    "#         plt.plot(history.epoch, history.history['val_'+metric],\n",
    "#                  color=colors[0], linestyle=\"--\", label='Val')\n",
    "#         plt.xlabel('Epoch')\n",
    "#         plt.ylabel(name)\n",
    "#         if metric == 'loss':\n",
    "#             plt.ylim([0, plt.ylim()[1]])\n",
    "#         elif metric == 'auc':\n",
    "#             plt.ylim([0.8,1])\n",
    "#         else:\n",
    "#             plt.ylim([0,1])\n",
    "\n",
    "#         plt.legend();"
   ]
  },
  {
   "cell_type": "code",
   "execution_count": null,
   "metadata": {},
   "outputs": [],
   "source": [
    "# plot_metrics(history)"
   ]
  },
  {
   "cell_type": "code",
   "execution_count": null,
   "metadata": {},
   "outputs": [],
   "source": [
    "# int_loss, int_accuracy = int_model.evaluate(int_test_ds[0], int_test_ds[1])\n",
    "\n",
    "# print(\"Int model accuracy: {:2.2%}\".format(int_accuracy))"
   ]
  },
  {
   "cell_type": "code",
   "execution_count": null,
   "metadata": {},
   "outputs": [],
   "source": [
    "# predictions = int_model.predict(int_test_ds[0])\n",
    "# print(predictions[:1])"
   ]
  },
  {
   "cell_type": "code",
   "execution_count": null,
   "metadata": {},
   "outputs": [],
   "source": [
    "# print(predictions)"
   ]
  },
  {
   "cell_type": "code",
   "execution_count": null,
   "metadata": {},
   "outputs": [],
   "source": [
    "# test_re = int_test_ds[1].reset_index(drop=True)"
   ]
  },
  {
   "cell_type": "code",
   "execution_count": null,
   "metadata": {},
   "outputs": [],
   "source": [
    "# test_val_list = []\n",
    "# pred_val_list = []\n",
    "\n",
    "# for i in range(0,len(test_re)):\n",
    "#     test_val = test_re[i]\n",
    "#     test_val_list.append(test_val)\n",
    "#     pred_val = list(predictions[i]).index(predictions[i].max())\n",
    "#     pred_val_list.append(pred_val)"
   ]
  },
  {
   "cell_type": "code",
   "execution_count": null,
   "metadata": {},
   "outputs": [],
   "source": [
    "# df_results = pd.DataFrame(\n",
    "#         {'Test_val':test_val_list,\n",
    "#             'Pred_val':pred_val_list}\n",
    "\n",
    "# )"
   ]
  },
  {
   "cell_type": "code",
   "execution_count": null,
   "metadata": {},
   "outputs": [],
   "source": [
    "# df_results"
   ]
  },
  {
   "cell_type": "code",
   "execution_count": null,
   "metadata": {},
   "outputs": [],
   "source": [
    "# df_results['match']='False'\n",
    "# df_results.loc[df_results['Test_val']==df_results['Pred_val'],'match'] = 'True'"
   ]
  },
  {
   "cell_type": "code",
   "execution_count": null,
   "metadata": {},
   "outputs": [],
   "source": [
    "# df_group = df_results.groupby(['Test_val','match']).count()"
   ]
  },
  {
   "cell_type": "code",
   "execution_count": null,
   "metadata": {},
   "outputs": [],
   "source": [
    "# df_results['Pred_val'].value_counts(normalize=True)"
   ]
  },
  {
   "cell_type": "code",
   "execution_count": null,
   "metadata": {},
   "outputs": [],
   "source": [
    "# df_group"
   ]
  },
  {
   "cell_type": "markdown",
   "metadata": {},
   "source": [
    "## Evaluation if accuracy not provided as metric when training"
   ]
  },
  {
   "cell_type": "code",
   "execution_count": null,
   "metadata": {},
   "outputs": [],
   "source": [
    "y_preds = model.predict(tf_train_set)"
   ]
  },
  {
   "cell_type": "code",
   "execution_count": null,
   "metadata": {},
   "outputs": [],
   "source": [
    "y_preds[\"logits\"][3000]"
   ]
  },
  {
   "cell_type": "code",
   "execution_count": null,
   "metadata": {},
   "outputs": [],
   "source": [
    "rating_preds = []\n",
    "for i in y_preds[\"logits\"]:\n",
    "    rating_preds.append(np.argmax(i, axis=0))"
   ]
  },
  {
   "cell_type": "code",
   "execution_count": null,
   "metadata": {},
   "outputs": [],
   "source": [
    "print('accuracy %s' % accuracy_score(rating_preds, test[\"label\"]))"
   ]
  },
  {
   "cell_type": "markdown",
   "metadata": {},
   "source": [
    "## Deploying the Model"
   ]
  },
  {
   "cell_type": "markdown",
   "metadata": {},
   "source": [
    "As we have seen in the previous sections the tweets are pre-processed using a variety of techniques. In order to account for this we have 2 options for how to account for the pre-processing logic in production:\n",
    "\n",
    "Custom Model: Incorporate the pre-processing directly in the predict method of a custom model. This provides simplicity when creating the deployment as there is only a single code base to worry about and a single component to be deployed.\n",
    "Input Transformer: Make use of a separate container to perform all of the input transformation and then pass the vectors to the model for prediction. The schematic below outlines how this would work.\n",
    "\n",
    "         ________________________________________\n",
    "         |            SeldonDeployment          |\n",
    "         |                                      |\n",
    "Request -->  Input transformer   -->     Model --> Response\n",
    "         |  (Pre-processing)          (SKLearn) |\n",
    "         |\n",
    "         __________________________________________\n",
    "    \n",
    "         \n",
    "The use of an input transformer allows us to separate the pre-processing logic from the prediction logic. This means we can leverage the pre-packaged SKLearn server provided by Seldon to serve our model, and each of the components can be upgraded independently of one another. However, it does introduce additional complexity in the deployment which is generated, and how that then interacts with advanced monitoring components such as outlier and drift detectors.\n",
    "This workshop will focus on the generation of a custom model for this case, therefore we need to define an __init__ and predict method which shall load and perform inference respectively in our new deployment.\n",
    "\n"
   ]
  },
  {
   "cell_type": "markdown",
   "metadata": {},
   "source": [
    "## Set up \n",
    "\n",
    "We then define our Seldon custom model. The component parts required to build the custom model are outlined below. Each of the files play a key part in building the eventual Seldon docker container.\n",
    "\n",
    "---\n",
    "\n",
    "### ReviewRatings.py\n",
    "\n",
    "\n",
    "This is the critical file as it contains the logic associated with the deployment wrapped as part of a class by the same name as the Python file.\n",
    "\n",
    "A key thing to note about the way this has been structured is that we have focused on making this deployment reusable. The ```__init__``` method accepts a custom predictor parameter - the path to the saved model (```model_path```).\n",
    "\n",
    "The advantage of this is that it allows us to upgrade the model without having to re-build the container image. Additionally, if the logic was more general it could be used to accept a wider variety of objects for greater reusability.\n",
    "\n"
   ]
  },
  {
   "cell_type": "markdown",
   "metadata": {},
   "source": [
    "```\n",
    "import pandas as pd\n",
    "import numpy as np\n",
    "import datasets\n",
    "from transformers import AutoTokenizer, DefaultDataCollator, TFAutoModelForSequenceClassification\n",
    "from google.cloud import storage\n",
    "import logging\n",
    "\n",
    "from pathlib import Path\n",
    "Path(\"1\").mkdir(parents=True, exist_ok=True)\n",
    "\n",
    "logger = logging.getLogger(__name__)\n",
    "\n",
    "\n",
    "class ReviewRatings(object):\n",
    "    def __init__(self, model_path):\n",
    "        logger.info(\"Connecting to GCS\")\n",
    "        self.client = storage.Client.create_anonymous_client()\n",
    "        self.bucket = self.client.bucket('kelly-seldon')\n",
    "\n",
    "        logger.info(f\"Model name: {model_path}\")\n",
    "        self.model = None\n",
    "        self.prefix = model_path\n",
    "        self.local_dir = \"1/\"\n",
    "\n",
    "        logger.info(\"Loading tokenizer and data collator\")\n",
    "        self.tokenizer = AutoTokenizer.from_pretrained(\"distilbert-base-uncased\")\n",
    "        self.data_collator = DefaultDataCollator(return_tensors=\"tf\")\n",
    "\n",
    "        self.ready = False\n",
    "\n",
    "    def load_model(self):\n",
    "        logger.info(\"Getting model artifact from GCS\")\n",
    "        blobs = self.bucket.list_blobs(prefix=self.prefix)\n",
    "        for blob in blobs:\n",
    "            filename = blob.name.split('/')[-1]\n",
    "            blob.download_to_filename(self.local_dir + filename)\n",
    "        logger.info(\"Loading model\")\n",
    "        self.model = TFAutoModelForSequenceClassification.from_pretrained(\"1\", num_labels=9)\n",
    "\n",
    "    def preprocess_text(self, text, feature_names):\n",
    "        logger.info(\"Preprocessing text\")\n",
    "        logger.info(f\"Incoming text: {text}\")\n",
    "        dict_text = {\"review\": text}\n",
    "        df = pd.DataFrame(data=dict_text)\n",
    "        logger.info(f\"Dataframe created: {df}\")\n",
    "\n",
    "        dataset = datasets.Dataset.from_pandas(df, preserve_index=False)\n",
    "        logger.info(f\"Dataset created: {dataset}\")\n",
    "\n",
    "        tokenized_revs = dataset.map(self.tokenize, batched=True)\n",
    "        logger.info(f\"Tokenized reviews: {tokenized_revs}\")\n",
    "\n",
    "        logger.info(\"Converting tokenized reviews to tf dataset\")\n",
    "        tf_inf = tokenized_revs.to_tf_dataset(\n",
    "            columns=[\"attention_mask\", \"input_ids\"],\n",
    "            label_cols=[\"labels\"],\n",
    "            shuffle=True,\n",
    "            batch_size=16,\n",
    "            collate_fn=self.data_collator\n",
    "        )\n",
    "        logger.info(f\"TF dataset created: {tf_inf}\")\n",
    "\n",
    "        return tf_inf\n",
    "\n",
    "    def tokenize(self, ds):\n",
    "    \n",
    "        return self.tokenizer(ds[\"review\"], padding=\"max_length\", truncation=True)\n",
    "\n",
    "    def process_output(self, preds):\n",
    "        logger.info(\"Processing model predictions\")\n",
    "        rating_preds = []\n",
    "        for i in preds[\"logits\"]:\n",
    "            rating_preds.append(np.argmax(i, axis=0))\n",
    "\n",
    "        logger.info(\"Create output array for predictions\")\n",
    "        rating_preds = np.array(rating_preds)\n",
    "\n",
    "        return rating_preds\n",
    "\n",
    "    def process_whole(self, text):\n",
    "        tf_inf = self.preprocess_text(text, feature_names=None)\n",
    "        logger.info(\"Predictions ready to be made\")\n",
    "        preds = self.model.predict(tf_inf)\n",
    "        logger.info(f\"Prediction type: {type(preds)}\")\n",
    "        logger.info(f\"Predictions: {preds}\")\n",
    "        preds_proc = self.process_output(preds)\n",
    "        logger.info(f\"Processed predictions: {preds_proc}, Processed predictions type: {type(preds_proc)}\")\n",
    "\n",
    "        return preds_proc\n",
    "\n",
    "    def predict(self, text, names=[], meta=[]):\n",
    "        try:\n",
    "            if not self.ready:\n",
    "                self.load_model()\n",
    "                logger.info(\"Model successfully loaded\")\n",
    "                self.ready = True\n",
    "                logger.info(f\"{self.model.summary}\")\n",
    "                pred_proc = self.process_whole(text)\n",
    "            else:\n",
    "                pred_proc = self.process_whole(text)\n",
    "\n",
    "            return pred_proc\n",
    "\n",
    "        except Exception as ex:\n",
    "            logging.exception(f\"Failed during predict: {ex}\")\n",
    "```"
   ]
  },
  {
   "cell_type": "markdown",
   "metadata": {},
   "source": [
    "## Model Deployment"
   ]
  },
  {
   "cell_type": "markdown",
   "metadata": {},
   "source": [
    "You can now deploy your model to the dedicated Seldon Deploy cluster which we have configured for this workshop. To do so you will interact with the Seldon Deploy SDK and deploy your model using that.\n",
    "\n",
    "First, setting up the configuration and authentication required to access the cluster. Make sure to fill in the `SD_IP` variable to be the same as the cluster you are using."
   ]
  },
  {
   "cell_type": "code",
   "execution_count": null,
   "metadata": {},
   "outputs": [],
   "source": [
    "SD_IP = \"34.141.146.222\"\n",
    "\n",
    "config = Configuration()\n",
    "config.host = f\"http://{SD_IP}/seldon-deploy/api/v1alpha1\"\n",
    "config.oidc_client_id = \"sd-api\"\n",
    "config.oidc_server = f\"http://{SD_IP}/auth/realms/deploy-realm\"\n",
    "config.oidc_client_secret = \"sd-api-secret\"\n",
    "config.auth_method = \"client_credentials\"\n",
    "\n",
    "def auth():\n",
    "    auth = OIDCAuthenticator(config)\n",
    "    config.id_token = auth.authenticate()\n",
    "    api_client = ApiClient(configuration=config, authenticator=auth)\n",
    "    return api_client"
   ]
  },
  {
   "cell_type": "markdown",
   "metadata": {},
   "source": [
    "Now you have configured the IP correctly as well as setup your authentication function you can describe the deployment you would like to create. \n",
    "\n",
    "You will need to fill in the `YOUR_NAME` variable. This MUST be lower case as it will be used for the `DEPLOYMENT_NAME` variable later on.\n",
    "\n",
    "The `MODEL_NAME` and `MODEL_PATH` variables have been prefilled for you as we are using a pretrained model and a pre-built container image for the sake of saving time in the workshop. \n",
    "\n",
    "The rest of the `mldeployment` description has been completed for you.\n"
   ]
  },
  {
   "cell_type": "code",
   "execution_count": null,
   "metadata": {},
   "outputs": [],
   "source": [
    "YOUR_NAME = \"kellyspry\"\n",
    "MODEL_NAME = \"review-ratings\"\n",
    "\n",
    "DEPLOYMENT_NAME = f\"{YOUR_NAME}-{MODEL_NAME}-test\"\n",
    "CONTAINER_NAME = f\"kellyspry0316/{MODEL_NAME}:0.9\"\n",
    "\n",
    "NAMESPACE = \"seldon-gitops\"\n",
    "\n",
    "CPU_REQUESTS = \"1\"\n",
    "MEMORY_REQUESTS = \"2Gi\"\n",
    "\n",
    "CPU_LIMITS = \"1\"\n",
    "MEMORY_LIMITS = \"2Gi\"\n",
    "\n",
    "MODEL_PATH = \"nlp-ratings/1/\""
   ]
  },
  {
   "cell_type": "code",
   "execution_count": null,
   "metadata": {},
   "outputs": [],
   "source": [
    "mldeployment = {\n",
    "    \"kind\": \"SeldonDeployment\",\n",
    "    \"metadata\": {\n",
    "        \"name\": DEPLOYMENT_NAME,\n",
    "        \"namespace\": NAMESPACE,\n",
    "        \"labels\": {\n",
    "            \"fluentd\": \"true\"\n",
    "        }\n",
    "    },\n",
    "    \"apiVersion\": \"machinelearning.seldon.io/v1alpha2\",\n",
    "    \"spec\": {\n",
    "        \"name\": DEPLOYMENT_NAME,\n",
    "        \"annotations\": {\n",
    "            \"seldon.io/engine-seldon-log-messages-externally\": \"true\"\n",
    "        },\n",
    "        \"protocol\": \"seldon\",\n",
    "        \"predictors\": [\n",
    "            {\n",
    "                \"componentSpecs\": [\n",
    "                    {\n",
    "                        \"spec\": {\n",
    "                            \"containers\": [\n",
    "                                {\n",
    "                                    \"name\": f\"{DEPLOYMENT_NAME}-container\",\n",
    "                                    \"image\": CONTAINER_NAME,\n",
    "                                    \"resources\": {\n",
    "                                        \"requests\": {\n",
    "                                            \"cpu\": CPU_REQUESTS,\n",
    "                                            \"memory\": MEMORY_REQUESTS\n",
    "                                        },\n",
    "                                        \"limits\": {\n",
    "                                            \"cpu\": CPU_LIMITS,\n",
    "                                            \"memory\": MEMORY_LIMITS\n",
    "                                        }\n",
    "                                    }\n",
    "                                }\n",
    "                            ]\n",
    "                        }\n",
    "                    }\n",
    "                ],\n",
    "                \"name\": \"default\",\n",
    "                \"replicas\": 1,\n",
    "                \"traffic\": 100,\n",
    "                \"graph\": {\n",
    "                    \"name\": f\"{DEPLOYMENT_NAME}-container\",\n",
    "                    \"parameters\": [\n",
    "                        {\n",
    "                            \"name\":\"model_path\",\n",
    "                            \"value\":MODEL_PATH,\n",
    "                            \"type\":\"STRING\"\n",
    "                        }\n",
    "                    ],\n",
    "                    \"children\": [],\n",
    "                    \"logger\": {\n",
    "                        \"mode\": \"all\"\n",
    "                    }\n",
    "                }\n",
    "            }\n",
    "        ]\n",
    "    },\n",
    "    \"status\": {}\n",
    "}\n",
    "      "
   ]
  },
  {
   "cell_type": "markdown",
   "metadata": {},
   "source": [
    "You can now invoke the SeldonDeploymentsApi and create a new Seldon Deployment.\n",
    "\n",
    "Time for you to get your hands dirty. You will use the Seldon Deploy SDK to create a new Seldon deployment. You can find the reference documentation [here](https://github.com/SeldonIO/seldon-deploy-sdk/blob/master/python/README.md)."
   ]
  },
  {
   "cell_type": "code",
   "execution_count": null,
   "metadata": {},
   "outputs": [],
   "source": [
    "deployment_api = SeldonDeploymentsApi(auth())\n",
    "deployment_api.create_seldon_deployment(namespace=NAMESPACE, mldeployment=mldeployment)"
   ]
  },
  {
   "cell_type": "markdown",
   "metadata": {},
   "source": [
    "Example of a good review:\n",
    "\n",
    "```\n",
    "{\n",
    "    \"data\": {\n",
    "                \"ndarray\": [\n",
    "                    [\n",
    "                    \"This product is the best, it is so amazing. Incredible!\"\n",
    "                    ]\n",
    "                 ]\n",
    "           }\n",
    "}\n",
    "                        \n",
    "```\n",
    "\n",
    "\n",
    "Example of a bad review:\n",
    "\n",
    "```\n",
    "{\n",
    "    \"data\": {\n",
    "                \"ndarray\": [\n",
    "                    [\n",
    "                    \"This product is the worst, it is absolutely terrible. Awful!\"\n",
    "                    ]\n",
    "                 ]\n",
    "           }\n",
    "}\n",
    "                        \n",
    "```"
   ]
  },
  {
   "cell_type": "markdown",
   "metadata": {},
   "source": [
    "You can access the Seldon Deploy cluster and view your freshly created deployment here:\n",
    "\n",
    "### To do - add cluster IP in here when cluster is decided on\n",
    "\n",
    "* URL: http://34.141.146.222/seldon-deploy/\n",
    "* Username: admin@seldon.io\n",
    "* Password: 12341234"
   ]
  },
  {
   "cell_type": "markdown",
   "metadata": {},
   "source": [
    "## Adding a Prediction Schema and Metadata"
   ]
  },
  {
   "cell_type": "markdown",
   "metadata": {},
   "source": [
    "Seldon Deploy has a model catalog where all deployed models are automatically registered. The model catalog can store custom metadata as well as prediction schemas for your models.\n",
    "\n",
    "Metadata promotes lineage from across different machine learning systems, aids knowledge transfer between teams, and allows for faster deployment. Meanwhile, prediction schemas allow Seldon Deploy to automatically profile tabular data into histograms, allowing for filtering on features to explore trends.\n",
    "\n",
    "In order to effectively construct a prediction schema Seldon has the ML Prediction Schema project. "
   ]
  },
  {
   "cell_type": "code",
   "execution_count": null,
   "metadata": {},
   "outputs": [],
   "source": [
    "prediction_schema = {\n",
    "    \"requests\": [\n",
    "        {\n",
    "            \"name\": \"Product Review\",\n",
    "            \"type\": \"TEXT\",\n",
    "        }\n",
    "    ],\n",
    "    \"responses\": [\n",
    "        {\n",
    "            \"name\": \"Rating\",\n",
    "            \"type\": \"CATEGORICAL\",\n",
    "            \"data_type\": \"INT\",\n",
    "            \"n_categories\": 9,\n",
    "            \"category_map\": {\n",
    "            \"0\": \"1.0\",\n",
    "            \"1\": \"1.5\",\n",
    "            \"2\": \"2.0\",\n",
    "            \"3\": \"2.5\",\n",
    "            \"4\": \"3.0\",\n",
    "            \"5\": \"3.5\",\n",
    "            \"6\": \"4.0\",\n",
    "            \"7\": \"4.5\",\n",
    "            \"8\": \"5.0\"\n",
    "        }\n",
    "        }\n",
    "    ]\n",
    "}"
   ]
  },
  {
   "cell_type": "markdown",
   "metadata": {},
   "source": [
    "You then add the prediction schema to the wider model catalog metadata. This includes information such as the model storage location, the name, who authored the model etc. The metadata tags and metrics which can be associated with a model are freeform and can therefore be determined based upon the use case which is being developed. "
   ]
  },
  {
   "cell_type": "code",
   "execution_count": null,
   "metadata": {},
   "outputs": [],
   "source": [
    "In order to test your components you are able to send the requests directly using CURL/grpCURL or a similar utility, as well as by using our Python SeldonClient SDK.\n",
    "\n",
    "Testing options¶\n",
    "There are several options for testing your# To do if time - add accuracy as a metric in here once have a working model\n",
    "\n",
    "model_catalog_metadata = {\n",
    "      \"URI\": MODEL_LOCATION,\n",
    "      \"name\": f\"{DEPLOYMENT_NAME}-model\",\n",
    "      \"version\": \"v1.0\",\n",
    "      \"artifactType\": \"Tensorflow\",\n",
    "      \"taskType\": \"Product review rating classification\",\n",
    "      \"tags\": {\n",
    "        \"auto_created\": \"true\",\n",
    "        \"author\": f\"{YOUR_NAME}\"\n",
    "      },\n",
    "      \"metrics\": {\n",
    "          \"accuracy\": 0,\n",
    "      },\n",
    "      \"project\": \"default\",\n",
    "      \"prediction_schema\": prediction_schema\n",
    "    }\n",
    "\n",
    "model_catalog_metadata"
   ]
  },
  {
   "cell_type": "markdown",
   "metadata": {},
   "source": [
    "Next, using the metadata API you can add this to the model which you have just created in Seldon."
   ]
  },
  {
   "cell_type": "code",
   "execution_count": null,
   "metadata": {},
   "outputs": [],
   "source": [
    "metadata_api = ModelMetadataServiceApi(auth())\n",
    "metadata_api.model_metadata_service_update_model_metadata(model_catalog_metadata)"
   ]
  },
  {
   "cell_type": "markdown",
   "metadata": {},
   "source": [
    "You can then list the metadata via the API, or view it in the UI, to confirm that it has been successfully added to the model. "
   ]
  },
  {
   "cell_type": "code",
   "execution_count": null,
   "metadata": {},
   "outputs": [],
   "source": [
    "metadata_response = metadata_api.model_metadata_service_list_model_metadata(uri=MODEL_LOCATION)\n",
    "metadata_response"
   ]
  },
  {
   "cell_type": "markdown",
   "metadata": {},
   "source": [
    "## Make Predictions"
   ]
  },
  {
   "cell_type": "markdown",
   "metadata": {},
   "source": [
    "Now you can have a go at sending some requests to your model using the 'Predict' tab in the UI. \n",
    "\n",
    "An example of a good review that we would expect to correspond to a higher rating.\n",
    "\n",
    "```\n",
    "{\n",
    "    \"data\": {\n",
    "        \"names\": [\"Review\"],\n",
    "        \"ndarray\": [\"_product_ is excellent! I love it, it's great!\"]\n",
    "    }\n",
    "}\n",
    "```\n",
    "\n",
    "And an example of a negative review that we would expect to correspond to a lower rating.\n",
    "\n",
    "```\n",
    "{\n",
    "    \"data\": {\n",
    "        \"names\": [\"Review\"],\n",
    "        \"ndarray\": [\"_product_ was terrible, I would not use it again, it was awful!\"]\n",
    "    }\n",
    "}\n",
    "```"
   ]
  },
  {
   "cell_type": "markdown",
   "metadata": {},
   "source": [
    "## Drift Detection"
   ]
  },
  {
   "cell_type": "markdown",
   "metadata": {},
   "source": [
    "Although powerful, modern machine learning models can be sensitive. Seemingly subtle changes in a data distribution can destroy the performance of otherwise state-of-the art models, which can be especially problematic when ML models are deployed in production. Typically, ML models are tested on held out data in order to estimate their future performance. Crucially, this assumes that the process underlying the input data `X` and output data `Y` remains constant.\n",
    "\n",
    "Drift can be classified into the following types:\n",
    "* **Covariate drift**: Also referred to as input drift, this occurs when the distribution of the input data has shifted `P(X) != Pref(X)`, whilst `P(Y|X) = Pref(Y|X)`. This may result in the model giving unreliable predictions.\n",
    "\n",
    "* **Prior drift**: Also referred to as label drift, this occurs when the distribution of the outputs has shifted `P(Y) != Pref(Y)`, whilst `P(X|Y) = Pref(X|Y)`. This can affect the model’s decision boundary, as well as the model’s performance metrics.\n",
    "\n",
    "* **Concept drift**: This occurs when the process generating `Y` from `X` has changed, such that `P(Y|X) != Pref(Y|X)`. It is possible that the model might no longer give a suitable approximation of the true process.\n",
    "\n",
    "-----------------\n",
    "\n",
    "In this instance we will train a Kolmgorov-Smirnov drift detector to pick up on covariate drift. The KS Drift detector applies a two-sample KS test to compare the distance between the new probability distribution and the reference distribution. \n",
    "\n",
    "This is done on a feature by feature basis and the results are then aggregated using a correction, i.e. Bonferroni, to determine whether drift has occurred overall within the sample. \n",
    "\n",
    "We will use the training set as our reference distribution. Creating our drift detector is then as simple as writing a single line of code:"
   ]
  },
  {
   "cell_type": "code",
   "execution_count": 364,
   "metadata": {
    "scrolled": true
   },
   "outputs": [],
   "source": [
    "x_ref = train[\"review\"][:3000].to_list()"
   ]
  },
  {
   "cell_type": "code",
   "execution_count": 365,
   "metadata": {
    "collapsed": true
   },
   "outputs": [
    {
     "name": "stderr",
     "output_type": "stream",
     "text": [
      "Some layers from the model checkpoint at distilbert-base-uncased were not used when initializing TFDistilBertModel: ['vocab_projector', 'vocab_layer_norm', 'vocab_transform', 'activation_13']\n",
      "- This IS expected if you are initializing TFDistilBertModel from the checkpoint of a model trained on another task or with another architecture (e.g. initializing a BertForSequenceClassification model from a BertForPreTraining model).\n",
      "- This IS NOT expected if you are initializing TFDistilBertModel from the checkpoint of a model that you expect to be exactly identical (initializing a BertForSequenceClassification model from a BertForSequenceClassification model).\n",
      "All the layers of TFDistilBertModel were initialized from the model checkpoint at distilbert-base-uncased.\n",
      "If your task is similar to the task the model of the checkpoint was trained on, you can already use TFDistilBertModel for predictions without further training.\n"
     ]
    }
   ],
   "source": [
    "from alibi_detect.models.tensorflow import TransformerEmbedding\n",
    "\n",
    "emb_type = 'hidden_state'\n",
    "n_layers = 1\n",
    "layers = [-_ for _ in range(1, n_layers + 1)]\n",
    "\n",
    "embedding = TransformerEmbedding(\"distilbert-base-uncased\", emb_type, layers)"
   ]
  },
  {
   "cell_type": "code",
   "execution_count": 366,
   "metadata": {},
   "outputs": [
    {
     "name": "stdout",
     "output_type": "stream",
     "text": [
      "(5, 768)\n"
     ]
    }
   ],
   "source": [
    "tokens = tokenizer(list(x_ref[:5]), padding=\"max_length\", return_tensors='tf')\n",
    "x_emb = embedding(tokens)\n",
    "print(x_emb.shape)"
   ]
  },
  {
   "cell_type": "code",
   "execution_count": 367,
   "metadata": {},
   "outputs": [],
   "source": [
    "from alibi_detect.cd.tensorflow import UAE\n",
    "\n",
    "enc_dim = 32\n",
    "shape = (x_emb.shape[1],)\n",
    "\n",
    "uae = UAE(input_layer=embedding, shape=shape, enc_dim=enc_dim)"
   ]
  },
  {
   "cell_type": "code",
   "execution_count": 368,
   "metadata": {},
   "outputs": [],
   "source": [
    "from functools import partial\n",
    "from alibi_detect.cd.tensorflow import preprocess_drift\n",
    "\n",
    "# define preprocessing function\n",
    "preprocess_fn = partial(preprocess_drift, model=uae, tokenizer=tokenizer, max_len=512, batch_size=32)"
   ]
  },
  {
   "cell_type": "code",
   "execution_count": 371,
   "metadata": {},
   "outputs": [],
   "source": [
    "cd = KSDrift(x_ref, p_val=.05, preprocess_fn=preprocess_fn, input_shape=(512,))"
   ]
  },
  {
   "cell_type": "code",
   "execution_count": null,
   "metadata": {},
   "outputs": [],
   "source": [
    "batch_0 = x_ref[:600]\n",
    "batch_1 = [x_ref[0]] * 600"
   ]
  },
  {
   "cell_type": "code",
   "execution_count": 372,
   "metadata": {},
   "outputs": [
    {
     "name": "stdout",
     "output_type": "stream",
     "text": [
      "Drift? No!\n",
      "p-value: [0.9124214  0.9309119  0.9636228  0.50343865 0.9541034  0.8106477\n",
      " 0.547502   0.98874444 0.34019005 0.6620561  0.615801   0.80372566\n",
      " 0.7384138  0.34019005 0.79672533 0.5928193  0.20816089 0.09789219\n",
      " 0.67747325 0.79672533 0.3014408  0.57003164 0.05846959 0.9541034\n",
      " 0.9717821  0.88043904 0.4010334  0.4610097  0.7533181  0.60046166\n",
      " 0.547502   0.8374696 ]\n",
      "Drift Distance: [0.04       0.03866667 0.03566667 0.05933333 0.03666667 0.04566666\n",
      " 0.05733333 0.03166667 0.06766666 0.05233333 0.05433333 0.046\n",
      " 0.049      0.06766666 0.04633333 0.05533333 0.07666667 0.08866667\n",
      " 0.05166667 0.04633333 0.07       0.05633333 0.096      0.03666667\n",
      " 0.03466666 0.042      0.06433333 0.06133333 0.04833333 0.055\n",
      " 0.05733333 0.04433334]\n"
     ]
    }
   ],
   "source": [
    "preds_cd = cd.predict(batch_0[:200])\n",
    "labels = ['No!', 'Yes!']\n",
    "print('Drift? {}'.format(labels[preds_cd['data']['is_drift']]))\n",
    "print('p-value: {}'.format(preds_cd['data']['p_val']))\n",
    "print('Drift Distance: {}'.format(preds_cd['data']['distance']))"
   ]
  },
  {
   "cell_type": "code",
   "execution_count": 373,
   "metadata": {},
   "outputs": [
    {
     "name": "stdout",
     "output_type": "stream",
     "text": [
      "Drift? Yes!\n",
      "p-value: [0. 0. 0. 0. 0. 0. 0. 0. 0. 0. 0. 0. 0. 0. 0. 0. 0. 0. 0. 0. 0. 0. 0. 0.\n",
      " 0. 0. 0. 0. 0. 0. 0. 0.]\n",
      "Drift Distance: [0.9826667  0.818      0.73433334 0.9996667  0.9166667  0.878\n",
      " 0.9996667  0.942      0.98466665 0.6896667  0.699      0.86333334\n",
      " 0.89566666 0.96433336 0.77033335 0.99733335 0.95666665 0.91533333\n",
      " 0.99633336 0.7733333  0.8796667  0.9866667  0.9533333  0.974\n",
      " 0.99866664 0.7556667  0.958      0.607      0.99833333 0.9993333\n",
      " 0.911      0.989     ]\n"
     ]
    }
   ],
   "source": [
    "preds_cd = cd.predict(batch_1[:200])\n",
    "labels = ['No!', 'Yes!']\n",
    "print('Drift? {}'.format(labels[preds_cd['data']['is_drift']]))\n",
    "print('p-value: {}'.format(preds_cd['data']['p_val']))\n",
    "print('Drift Distance: {}'.format(preds_cd['data']['distance']))"
   ]
  },
  {
   "cell_type": "code",
   "execution_count": null,
   "metadata": {},
   "outputs": [],
   "source": [
    "preds_cd = cd.predict(train[\"review\"][:3000])\n",
    "labels = ['No!', 'Yes!']\n",
    "print('Drift? {}'.format(labels[preds_cd['data']['is_drift']]))\n",
    "print('p-value: {}'.format(preds_cd['data']['p_val']))\n",
    "print('Drift Distance: {}'.format(preds_cd['data']['distance']))"
   ]
  },
  {
   "cell_type": "code",
   "execution_count": null,
   "metadata": {},
   "outputs": [],
   "source": [
    "preds_cd = cd.predict(train[\"review\"][:1000])\n",
    "labels = ['No!', 'Yes!']\n",
    "print('Drift? {}'.format(labels[preds_cd['data']['is_drift']]))\n",
    "print('p-value: {}'.format(preds_cd['data']['p_val']))\n",
    "print('Drift Distance: {}'.format(preds_cd['data']['distance']))"
   ]
  },
  {
   "cell_type": "code",
   "execution_count": null,
   "metadata": {},
   "outputs": [],
   "source": [
    "preds_cd = cd.predict(x_ref[5])\n",
    "labels = ['No!', 'Yes!']\n",
    "print('Drift? {}'.format(labels[preds_cd['data']['is_drift']]))\n",
    "print('p-value: {}'.format(preds_cd['data']['p_val']))\n",
    "print('Drift Distance: {}'.format(preds_cd['data']['distance']))"
   ]
  },
  {
   "cell_type": "code",
   "execution_count": 374,
   "metadata": {},
   "outputs": [
    {
     "name": "stdout",
     "output_type": "stream",
     "text": [
      "WARNING:tensorflow:Compiled the loaded model, but the compiled metrics have yet to be built. `model.compile_metrics` will be empty until you train or evaluate the model.\n"
     ]
    }
   ],
   "source": [
    "save_detector(cd, \"reviews-ks-dd\")"
   ]
  },
  {
   "cell_type": "code",
   "execution_count": 375,
   "metadata": {
    "scrolled": true
   },
   "outputs": [
    {
     "name": "stdout",
     "output_type": "stream",
     "text": [
      "huggingface/tokenizers: The current process just got forked, after parallelism has already been used. Disabling parallelism to avoid deadlocks...\n",
      "To disable this warning, you can either:\n",
      "\t- Avoid using `tokenizers` before the fork if possible\n",
      "\t- Explicitly set the environment variable TOKENIZERS_PARALLELISM=(true | false)\n",
      "Copying file://reviews-ks-dd/KSDrift.dill [Content-Type=application/octet-stream]...\n",
      "Copying file://reviews-ks-dd/meta.dill [Content-Type=application/octet-stream]...\n",
      "Copying file://reviews-ks-dd/model/embedding.dill [Content-Type=application/octet-stream]...\n",
      "Copying file://reviews-ks-dd/model/tokenizer_config.json [Content-Type=application/json]...\n",
      "\\ [4 files][376.1 KiB/376.1 KiB]                                                \n",
      "==> NOTE: You are performing a sequence of gsutil operations that may\n",
      "run significantly faster if you instead use gsutil -m cp ... Please\n",
      "see the -m section under \"gsutil help options\" for further information\n",
      "about when gsutil -m can be advantageous.\n",
      "\n",
      "Copying file://reviews-ks-dd/model/tf_model.h5 [Content-Type=application/x-hdf5]...\n",
      "==> NOTE: You are uploading one or more large file(s), which would run          \n",
      "significantly faster if you enable parallel composite uploads. This\n",
      "feature can be enabled by editing the\n",
      "\"parallel_composite_upload_threshold\" value in your .boto\n",
      "configuration file. However, note that if you do this large files will\n",
      "be uploaded as `composite objects\n",
      "<https://cloud.google.com/storage/docs/composite-objects>`_,which\n",
      "means that any user who downloads such objects will need to have a\n",
      "compiled crcmod installed (see \"gsutil help crcmod\"). This is because\n",
      "without a compiled crcmod, computing checksums on composite objects is\n",
      "so slow that gsutil disables downloads of composite objects.\n",
      "\n",
      "Copying file://reviews-ks-dd/model/encoder.h5 [Content-Type=application/x-hdf5]...\n",
      "Copying file://reviews-ks-dd/model/tokenizer.json [Content-Type=application/json]...\n",
      "Copying file://reviews-ks-dd/model/special_tokens_map.json [Content-Type=application/json]...\n",
      "Copying file://reviews-ks-dd/model/vocab.txt [Content-Type=text/plain]...       \n",
      "Copying file://reviews-ks-dd/model/config.json [Content-Type=application/json]...\n",
      "- [10 files][256.7 MiB/256.7 MiB]  654.0 KiB/s                                  \n",
      "Operation completed over 10 objects/256.7 MiB.                                   \n"
     ]
    }
   ],
   "source": [
    "!gsutil cp -r reviews-ks-dd gs://kelly-seldon/nlp-ratings/dd/kellyspry/reviews-drift-detector"
   ]
  },
  {
   "cell_type": "markdown",
   "metadata": {},
   "source": [
    "## Deploy the Drift Detector"
   ]
  },
  {
   "cell_type": "markdown",
   "metadata": {},
   "source": [
    "To deploy the drift detector you will use Seldon Deploy's user interface. Simply navigate to your deployment, and select the \"Create\" button for your drift detector.\n",
    "\n",
    "This will bring up a form. Add your ```Detector Name```, the ```Storage URI```:\n",
    "\n",
    "\n",
    "* ```gs://kelly-seldon/nlp-ratings/dd/{YOUR_NAME}/reviews-drift-detector/```\n",
    "\n",
    "\n",
    "and the ```Batch Size```:\n",
    "\n",
    "* ```200```\n",
    "\n",
    "The batch size configuration sets how many data points have to be sent to the endpoint before drift is calculated."
   ]
  },
  {
   "cell_type": "markdown",
   "metadata": {},
   "source": [
    "## Run a Batch Job\n",
    "\n",
    "The simplest way to test that your drift detector and prediction schema are behaving correctly is to kick off a batch job. \n",
    "\n",
    "There is already a pre-prepared batch of data stored in a Minio bucket which Seldon can access, therefore all you have to do is provide the configuration which is outlined below. This shows all of the available parameters which can be changed, but not all are required and are shown for educational purposes. "
   ]
  },
  {
   "cell_type": "code",
   "execution_count": 341,
   "metadata": {},
   "outputs": [],
   "source": [
    "batch_0 = x_ref[:2000]\n",
    "batch_1 = [x_ref[0]] * 2000\n",
    "\n",
    "# batch_final = batch_0 + batch_1\n",
    "\n",
    "# textfile = open(\"small_batch.txt\", \"w\")\n",
    "# for element in batch_final:\n",
    "#     textfile.write(f'[[\"{element}\"]]' + \"\\n\")\n",
    "# textfile.close()"
   ]
  },
  {
   "cell_type": "code",
   "execution_count": null,
   "metadata": {},
   "outputs": [],
   "source": [
    "# Ask Tom about batch_gateway_endpoint - is this the name of the cluster? is this arbituary? \n",
    "# Should this be hard coded or changed to match peoples model names in the workshop\n",
    "\n",
    "workflow = BatchJobDefinition(\n",
    "    batch_data_type='data',\n",
    "    batch_gateway_type='seldon',\n",
    "    batch_interval=0.0,\n",
    "    batch_method='predict',\n",
    "    batch_payload_type='ndarray',\n",
    "    batch_retries='3',\n",
    "    batch_size=0,\n",
    "    batch_transport_protocol='rest',\n",
    "    batch_workers='1',\n",
    "    input_data='minio://gartner-workshop/batch_data.txt',\n",
    "    object_store_secret_name='minio-bucket',\n",
    "    output_data='minio://gartner-workshop/batch_data_output.txt',\n",
    "    pvc_size='1Gi'\n",
    ")"
   ]
  },
  {
   "cell_type": "markdown",
   "metadata": {},
   "source": [
    "You can then pass the above configuration to the batch job API and kick it off. "
   ]
  },
  {
   "cell_type": "code",
   "execution_count": null,
   "metadata": {},
   "outputs": [],
   "source": [
    "batch_api = BatchJobsApi(auth())\n",
    "batch_api.create_seldon_deployment_batch_job(DEPLOYMENT_NAME, NAMESPACE, workflow)"
   ]
  },
  {
   "cell_type": "markdown",
   "metadata": {},
   "source": [
    "## Explainability"
   ]
  },
  {
   "cell_type": "markdown",
   "metadata": {},
   "source": [
    "Next, you will train an explainer to glean deeper insights into the decisions being made by your model. \n",
    "\n",
    "You will make use of the Anchors algorithm, which has a [production grade implementation available](https://docs.seldon.io/projects/alibi/en/stable/methods/Anchors.html) using the Seldon Alibi Explain library. \n",
    "\n",
    "The first step will be to write a simple prediction function which the explainer can call in order to query your Tensorflow model. "
   ]
  },
  {
   "cell_type": "code",
   "execution_count": null,
   "metadata": {},
   "outputs": [],
   "source": [
    "tokenizer = AutoTokenizer.from_pretrained(\"distilbert-base-uncased\")\n",
    "data_collator = DefaultDataCollator(return_tensors=\"tf\")"
   ]
  },
  {
   "cell_type": "code",
   "execution_count": null,
   "metadata": {},
   "outputs": [],
   "source": [
    "def tokenize(ds):\n",
    "    return tokenizer(ds[\"review\"], padding=\"max_length\", truncation=True)"
   ]
  },
  {
   "cell_type": "code",
   "execution_count": null,
   "metadata": {},
   "outputs": [],
   "source": [
    "def predict_fn(x):\n",
    "    \n",
    "    dict_text = {\"review\": x}\n",
    "    df = pd.DataFrame(data=dict_text)\n",
    "    len_df = len(df)\n",
    "    dataset = datasets.Dataset.from_pandas(df, preserve_index=False)\n",
    "    tokenized_revs = dataset.map(tokenize, batched=True)\n",
    "    tf_inf = tokenized_revs.to_tf_dataset(\n",
    "        columns=[\"attention_mask\", \"input_ids\"],\n",
    "        label_cols=[\"labels\"],\n",
    "        shuffle=True,\n",
    "        batch_size=len_df,\n",
    "        collate_fn=data_collator\n",
    "    )\n",
    "    preds = model.predict(tf_inf)\n",
    "        \n",
    "    rating_preds = []\n",
    "    for i in preds[\"logits\"]:\n",
    "        rating_preds.append(np.argmax(i, axis=0))\n",
    "        \n",
    "    rating_preds = np.array(rating_preds)\n",
    "    \n",
    "    return rating_preds"
   ]
  },
  {
   "cell_type": "markdown",
   "metadata": {},
   "source": [
    "You then initialise your Anchor explainer, using the AnchorText flavour provided by Alibi due to your data modality. \n",
    "\n",
    "### This text might need changing based on what we use as the language model for this. One to discuss with Tom.\n",
    "\n",
    "The AnchorText class expects the prediction function which you defined above, as well as a sampling strategy and nlp/language model. You can find a sample notebook in the Alibi docs [here]https://docs.seldon.io/projects/alibi/en/stable/examples/anchor_text_movie.html). "
   ]
  },
  {
   "cell_type": "markdown",
   "metadata": {},
   "source": [
    "Load transformer - this may take a couple of minutes"
   ]
  },
  {
   "cell_type": "code",
   "execution_count": null,
   "metadata": {},
   "outputs": [],
   "source": [
    "from pathlib import Path\n",
    "Path(\"1\").mkdir(parents=True, exist_ok=True)\n",
    "\n",
    "client = storage.Client.create_anonymous_client()\n",
    "bucket = client.bucket('kelly-seldon')\n",
    "local_dir = \"1/\"\n",
    "\n",
    "blobs = bucket.list_blobs(prefix=\"nlp-ratings/1/\")\n",
    "for blob in blobs:\n",
    "    filename = blob.name.split('/')[-1]\n",
    "    blob.download_to_filename(local_dir + filename)\n",
    "    \n",
    "model = TFAutoModelForSequenceClassification.from_pretrained(\"1\", num_labels=9)"
   ]
  },
  {
   "cell_type": "markdown",
   "metadata": {},
   "source": [
    "Load spacy model"
   ]
  },
  {
   "cell_type": "code",
   "execution_count": null,
   "metadata": {},
   "outputs": [],
   "source": [
    "nlp_model = 'en_core_web_md'\n",
    "spacy_model(model=nlp_model)\n",
    "nlp = spacy.load(nlp_model)"
   ]
  },
  {
   "cell_type": "code",
   "execution_count": null,
   "metadata": {},
   "outputs": [],
   "source": [
    "explainer = AnchorText(\n",
    "    predictor=predict_fn,\n",
    "    sampling_strategy='similarity',   # Replace masked words by similar words\n",
    "    nlp=nlp,                          # Spacy object\n",
    ")"
   ]
  },
  {
   "cell_type": "markdown",
   "metadata": {},
   "source": [
    "You can then run an explanation for a given review locally."
   ]
  },
  {
   "cell_type": "code",
   "execution_count": null,
   "metadata": {},
   "outputs": [],
   "source": [
    "text = \"This product is great, I love it!\"\n",
    "\n",
    "explanation = explainer.explain(text, threshold=0.1)"
   ]
  },
  {
   "cell_type": "code",
   "execution_count": null,
   "metadata": {},
   "outputs": [],
   "source": [
    "print('Anchor: %s' % (' AND '.join(explanation.anchor)))\n",
    "print('Precision: %.2f' % explanation.precision)\n",
    "print('Coverage: %.2f' % explanation.coverage)"
   ]
  },
  {
   "cell_type": "markdown",
   "metadata": {},
   "source": [
    "You now save your explainer, and upload it to the GS bucket. You can use the explainer's built-in save method to do this easily and reproducibly. "
   ]
  },
  {
   "cell_type": "code",
   "execution_count": null,
   "metadata": {},
   "outputs": [],
   "source": [
    "explainer.save(\"review-explainer\")"
   ]
  },
  {
   "cell_type": "code",
   "execution_count": null,
   "metadata": {},
   "outputs": [],
   "source": [
    "!gsutil cp -r reviews-explainer gs://kelly-seldon/nlp-ratings/models/{YOUR_NAME}/reviews-explainer"
   ]
  },
  {
   "cell_type": "markdown",
   "metadata": {},
   "source": [
    "## Deploying the Explainer"
   ]
  },
  {
   "cell_type": "markdown",
   "metadata": {},
   "source": [
    "You can now deploy our explainer alongside our model. First you define the explainer configuration. "
   ]
  },
  {
   "cell_type": "code",
   "execution_count": null,
   "metadata": {},
   "outputs": [],
   "source": [
    "EXPLAINER_TYPE = \"AnchorText\"\n",
    "EXPLAINER_URI = f\"gs://kelly-seldon/nlp-ratings/models/{YOUR_NAME}/reviews-explainer\"\n",
    "\n",
    "explainer_spec = {\n",
    "                    \"type\": EXPLAINER_TYPE,\n",
    "                    \"modelUri\": EXPLAINER_URI,\n",
    "                    \"containerSpec\": {\n",
    "                        \"name\": \"\",\n",
    "                        \"resources\": {}\n",
    "                    }\n",
    "                }"
   ]
  },
  {
   "cell_type": "markdown",
   "metadata": {},
   "source": [
    "You can then insert this additional configuration into your original `mldeployment` specification which you defined earlier. "
   ]
  },
  {
   "cell_type": "code",
   "execution_count": null,
   "metadata": {},
   "outputs": [],
   "source": [
    "mldeployment['spec']['predictors'][0]['explainer'] = explainer_spec\n",
    "mldeployment"
   ]
  },
  {
   "cell_type": "markdown",
   "metadata": {},
   "source": [
    "You can then deploy the explainer to the Seldon Deploy cluster!"
   ]
  },
  {
   "cell_type": "code",
   "execution_count": null,
   "metadata": {},
   "outputs": [],
   "source": [
    "deployment_api = SeldonDeploymentsApi(auth())\n",
    "deployment_api.create_seldon_deployment(namespace=NAMESPACE, mldeployment=mldeployment)"
   ]
  },
  {
   "cell_type": "markdown",
   "metadata": {},
   "source": [
    "You can then run the same predictions through your model as above and generate explanations on them:\n",
    "\n",
    "An example of a good review that we would expect to correspond to a higher rating.\n",
    "\n",
    "```\n",
    "{\n",
    "    \"data\": {\n",
    "        \"names\": [\"Review\"],\n",
    "        \"ndarray\": [\"_product_ is excellent! I love it, it's great!\"]\n",
    "    }\n",
    "}\n",
    "```\n",
    "\n",
    "And an example of a negative review that we would expect to correspond to a lower rating.\n",
    "\n",
    "```\n",
    "{\n",
    "    \"data\": {\n",
    "        \"names\": [\"Review\"],\n",
    "        \"ndarray\": [\"_product_ was terrible, I would not use it again, it was awful!\"]\n",
    "    }\n",
    "}\n",
    "```"
   ]
  },
  {
   "cell_type": "code",
   "execution_count": null,
   "metadata": {},
   "outputs": [],
   "source": []
  }
 ],
 "metadata": {
  "kernelspec": {
   "display_name": "Python [conda env:nlp-ratings-new] *",
   "language": "python",
   "name": "conda-env-nlp-ratings-new-py"
  },
  "language_info": {
   "codemirror_mode": {
    "name": "ipython",
    "version": 3
   },
   "file_extension": ".py",
   "mimetype": "text/x-python",
   "name": "python",
   "nbconvert_exporter": "python",
   "pygments_lexer": "ipython3",
   "version": "3.8.13"
  }
 },
 "nbformat": 4,
 "nbformat_minor": 4
}
