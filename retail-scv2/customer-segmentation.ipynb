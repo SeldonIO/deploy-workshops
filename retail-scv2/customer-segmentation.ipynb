{
 "cells": [
  {
   "cell_type": "markdown",
   "metadata": {
    "id": "BqU0bqjtRKwu"
   },
   "source": [
    "# MLOps in Retail: A Practical Guide to Customer Segmentation\n",
    "\n",
    "This session will focus on the creation, deployment, \n",
    "monitoring and management of a machine learning model for performing \n",
    "customer segmentation based on purchases made across a year. \n",
    "\n",
    "We will be using an e-commerce dataset detailing actual purchases made by  ∼ 4000 customers over a period of one year (from 01/12/2010 to 09/12/2011). \n",
    "\n",
    "In this notebook we will: \n",
    "\n",
    "- Explore a subset of the dataset\n",
    "- Train a simple sklearn Logistic Regression customer segmentation model on the dataset\n",
    "- Deploy the trained model to Seldon Deploy Advanced using the Seldon Core V2 runtime (Pipeline)\n",
    "- Initialise and fit an Anchor Tabular explainer and deploy this on Seldon Deploy Advanced\n",
    "- Initialise and fit an outlier detector (Variational Autoencoder (VAE)) and deploy this on Seldon Deploy Advanced"
   ]
  },
  {
   "cell_type": "markdown",
   "metadata": {
    "id": "JCnrhNBSkOZW"
   },
   "source": [
    "### Prerequisites\n",
    "Initially, we will install the relevant packages that are not preinstalled in Google Colab"
   ]
  },
  {
   "cell_type": "code",
   "execution_count": 2,
   "metadata": {
    "id": "hNI8xSiiBd24",
    "scrolled": true
   },
   "outputs": [],
   "source": [
    "%pip install seldon-deploy-sdk\n",
    "%pip install alibi==0.9.1\n",
    "%pip install alibi-detect==0.11.1\n",
    "%pip install seaborn\n",
    "# %pip install tensorflow\n",
    "# %pip install sklearn\n",
    "# %pip install matplotlib"
   ]
  },
  {
   "cell_type": "code",
   "execution_count": 49,
   "metadata": {
    "id": "D9RurRkiZljs"
   },
   "outputs": [],
   "source": [
    "import numpy as np\n",
    "import pandas as pd\n",
    "import joblib\n",
    "import os \n",
    "import yaml\n",
    "\n",
    "import matplotlib.pyplot as plt\n",
    "import seaborn as sns\n",
    "\n",
    "import tensorflow as tf\n",
    "from tensorflow.keras.layers import Dense, InputLayer\n",
    "\n",
    "from sklearn.linear_model import LogisticRegression\n",
    "from sklearn.ensemble import GradientBoostingClassifier\n",
    "from sklearn.metrics import confusion_matrix, f1_score\n",
    "from sklearn.metrics import accuracy_score\n",
    "\n",
    "from alibi.explainers import AnchorTabular\n",
    "from alibi_detect.models.tensorflow.losses import elbo\n",
    "from alibi_detect.od import OutlierVAE\n",
    "from alibi_detect.utils.data import create_outlier_batch\n",
    "from alibi_detect.utils.saving import save_detector\n",
    "from alibi_detect.utils.visualize import plot_instance_score, plot_roc\n",
    "\n",
    "from seldon_deploy_sdk import Configuration, ApiClient, ModelsApi, PipelinesApi\n",
    "from seldon_deploy_sdk.auth import OIDCAuthenticator\n",
    "\n",
    "import warnings\n",
    "warnings.simplefilter(action='ignore', category=FutureWarning)"
   ]
  },
  {
   "cell_type": "markdown",
   "metadata": {
    "id": "Cr6yO693qzfH"
   },
   "source": [
    "We then download our pre-processed dataset to save time in getting to the exciting parts. This is stored in a GCP Storage Bucket:"
   ]
  },
  {
   "cell_type": "code",
   "execution_count": 2,
   "metadata": {
    "id": "QBYt8NSjqxTl"
   },
   "outputs": [
    {
     "name": "stdout",
     "output_type": "stream",
     "text": [
      "Copying gs://tom-seldon-examples/retail-workshop/data/X_test.npy...\n",
      "Copying gs://tom-seldon-examples/retail-workshop/data/X_train.npy...            \n",
      "Copying gs://tom-seldon-examples/retail-workshop/data/Y_test.npy...             \n",
      "Copying gs://tom-seldon-examples/retail-workshop/data/Y_train.npy...            \n",
      "Copying gs://tom-seldon-examples/retail-workshop/data/data.csv...               \n",
      "- [5/5 files][ 43.1 MiB/ 43.1 MiB] 100% Done                                    \n",
      "Operation completed over 5 objects/43.1 MiB.                                     \n"
     ]
    }
   ],
   "source": [
    "!gsutil -m cp -r gs://tom-seldon-examples/retail-workshop/data ."
   ]
  },
  {
   "cell_type": "markdown",
   "metadata": {
    "id": "aX6yZr4FRc3t"
   },
   "source": [
    "### Data Exploration\n",
    "\n",
    "Typically e-commerce datasets are proprietary and consequently hard to find among publicly available data. However, The UCI Machine Learning Repository has curated a retail dataset containing actual transactions from 2010 and 2011. The dataset is maintained on their site, where it can be found by the title \"Online Retail\". The following description is provided via Kaggle: \n",
    "\n",
    "\"This is a transnational data set which contains all the transactions occurring between 01/12/2010 and 09/12/2011 for a UK-based and registered non-store online retail. The company mainly sells unique all-occasion gifts. Many customers of the company are wholesalers.\"\n",
    "\n",
    "We will first explore the dataset and then train models on a pre-processed version of the dataset that was transformed through following the fantastic work of Fabien Daniel whose methods are detailed in [this notebook](https://www.kaggle.com/fabiendaniel/customer-segmentation).\n",
    "\n",
    "Lets dive in and explore a subset of the dataset:"
   ]
  },
  {
   "cell_type": "code",
   "execution_count": 3,
   "metadata": {
    "id": "gOYDKkTIcej4"
   },
   "outputs": [
    {
     "name": "stdout",
     "output_type": "stream",
     "text": [
      "Dataframe dimensions: (3000, 8)\n"
     ]
    }
   ],
   "source": [
    "df_initial = pd.read_csv('data/data.csv', encoding=\"ISO-8859-1\", nrows=3000,\n",
    "                         dtype={'CustomerID': str,'InvoiceID': str})\n",
    "\n",
    "print('Dataframe dimensions:', df_initial.shape)"
   ]
  },
  {
   "cell_type": "code",
   "execution_count": 4,
   "metadata": {},
   "outputs": [
    {
     "data": {
      "text/html": [
       "<div>\n",
       "<style scoped>\n",
       "    .dataframe tbody tr th:only-of-type {\n",
       "        vertical-align: middle;\n",
       "    }\n",
       "\n",
       "    .dataframe tbody tr th {\n",
       "        vertical-align: top;\n",
       "    }\n",
       "\n",
       "    .dataframe thead th {\n",
       "        text-align: right;\n",
       "    }\n",
       "</style>\n",
       "<table border=\"1\" class=\"dataframe\">\n",
       "  <thead>\n",
       "    <tr style=\"text-align: right;\">\n",
       "      <th></th>\n",
       "      <th>InvoiceNo</th>\n",
       "      <th>StockCode</th>\n",
       "      <th>Description</th>\n",
       "      <th>Quantity</th>\n",
       "      <th>InvoiceDate</th>\n",
       "      <th>UnitPrice</th>\n",
       "      <th>CustomerID</th>\n",
       "      <th>Country</th>\n",
       "    </tr>\n",
       "  </thead>\n",
       "  <tbody>\n",
       "    <tr>\n",
       "      <th>0</th>\n",
       "      <td>536365</td>\n",
       "      <td>85123A</td>\n",
       "      <td>WHITE HANGING HEART T-LIGHT HOLDER</td>\n",
       "      <td>6</td>\n",
       "      <td>12/1/2010 8:26</td>\n",
       "      <td>2.55</td>\n",
       "      <td>17850</td>\n",
       "      <td>United Kingdom</td>\n",
       "    </tr>\n",
       "    <tr>\n",
       "      <th>1</th>\n",
       "      <td>536365</td>\n",
       "      <td>71053</td>\n",
       "      <td>WHITE METAL LANTERN</td>\n",
       "      <td>6</td>\n",
       "      <td>12/1/2010 8:26</td>\n",
       "      <td>3.39</td>\n",
       "      <td>17850</td>\n",
       "      <td>United Kingdom</td>\n",
       "    </tr>\n",
       "    <tr>\n",
       "      <th>2</th>\n",
       "      <td>536365</td>\n",
       "      <td>84406B</td>\n",
       "      <td>CREAM CUPID HEARTS COAT HANGER</td>\n",
       "      <td>8</td>\n",
       "      <td>12/1/2010 8:26</td>\n",
       "      <td>2.75</td>\n",
       "      <td>17850</td>\n",
       "      <td>United Kingdom</td>\n",
       "    </tr>\n",
       "    <tr>\n",
       "      <th>3</th>\n",
       "      <td>536365</td>\n",
       "      <td>84029G</td>\n",
       "      <td>KNITTED UNION FLAG HOT WATER BOTTLE</td>\n",
       "      <td>6</td>\n",
       "      <td>12/1/2010 8:26</td>\n",
       "      <td>3.39</td>\n",
       "      <td>17850</td>\n",
       "      <td>United Kingdom</td>\n",
       "    </tr>\n",
       "    <tr>\n",
       "      <th>4</th>\n",
       "      <td>536365</td>\n",
       "      <td>84029E</td>\n",
       "      <td>RED WOOLLY HOTTIE WHITE HEART.</td>\n",
       "      <td>6</td>\n",
       "      <td>12/1/2010 8:26</td>\n",
       "      <td>3.39</td>\n",
       "      <td>17850</td>\n",
       "      <td>United Kingdom</td>\n",
       "    </tr>\n",
       "  </tbody>\n",
       "</table>\n",
       "</div>"
      ],
      "text/plain": [
       "  InvoiceNo StockCode  ... CustomerID         Country\n",
       "0    536365    85123A  ...      17850  United Kingdom\n",
       "1    536365     71053  ...      17850  United Kingdom\n",
       "2    536365    84406B  ...      17850  United Kingdom\n",
       "3    536365    84029G  ...      17850  United Kingdom\n",
       "4    536365    84029E  ...      17850  United Kingdom\n",
       "\n",
       "[5 rows x 8 columns]"
      ]
     },
     "execution_count": 4,
     "metadata": {},
     "output_type": "execute_result"
    }
   ],
   "source": [
    "df_initial.head()"
   ]
  },
  {
   "cell_type": "code",
   "execution_count": 9,
   "metadata": {
    "id": "aI8vVdPwSY0C"
   },
   "outputs": [
    {
     "data": {
      "text/html": [
       "<div>\n",
       "<style scoped>\n",
       "    .dataframe tbody tr th:only-of-type {\n",
       "        vertical-align: middle;\n",
       "    }\n",
       "\n",
       "    .dataframe tbody tr th {\n",
       "        vertical-align: top;\n",
       "    }\n",
       "\n",
       "    .dataframe thead th {\n",
       "        text-align: right;\n",
       "    }\n",
       "</style>\n",
       "<table border=\"1\" class=\"dataframe\">\n",
       "  <thead>\n",
       "    <tr style=\"text-align: right;\">\n",
       "      <th></th>\n",
       "      <th>InvoiceNo</th>\n",
       "      <th>StockCode</th>\n",
       "      <th>Description</th>\n",
       "      <th>Quantity</th>\n",
       "      <th>InvoiceDate</th>\n",
       "      <th>UnitPrice</th>\n",
       "      <th>CustomerID</th>\n",
       "      <th>Country</th>\n",
       "    </tr>\n",
       "  </thead>\n",
       "  <tbody>\n",
       "    <tr>\n",
       "      <th>column type</th>\n",
       "      <td>object</td>\n",
       "      <td>object</td>\n",
       "      <td>object</td>\n",
       "      <td>int64</td>\n",
       "      <td>datetime64[ns]</td>\n",
       "      <td>float64</td>\n",
       "      <td>object</td>\n",
       "      <td>object</td>\n",
       "    </tr>\n",
       "    <tr>\n",
       "      <th>null values (nb)</th>\n",
       "      <td>0</td>\n",
       "      <td>0</td>\n",
       "      <td>10</td>\n",
       "      <td>0</td>\n",
       "      <td>0</td>\n",
       "      <td>0</td>\n",
       "      <td>1081</td>\n",
       "      <td>0</td>\n",
       "    </tr>\n",
       "    <tr>\n",
       "      <th>null values (%)</th>\n",
       "      <td>0.0</td>\n",
       "      <td>0.0</td>\n",
       "      <td>0.333333</td>\n",
       "      <td>0.0</td>\n",
       "      <td>0.0</td>\n",
       "      <td>0.0</td>\n",
       "      <td>36.033333</td>\n",
       "      <td>0.0</td>\n",
       "    </tr>\n",
       "  </tbody>\n",
       "</table>\n",
       "</div>"
      ],
      "text/plain": [
       "                 InvoiceNo StockCode Description  ... UnitPrice CustomerID Country\n",
       "column type         object    object      object  ...   float64     object  object\n",
       "null values (nb)         0         0          10  ...         0       1081       0\n",
       "null values (%)        0.0       0.0    0.333333  ...       0.0  36.033333     0.0\n",
       "\n",
       "[3 rows x 8 columns]"
      ]
     },
     "metadata": {},
     "output_type": "display_data"
    },
    {
     "data": {
      "text/html": [
       "<div>\n",
       "<style scoped>\n",
       "    .dataframe tbody tr th:only-of-type {\n",
       "        vertical-align: middle;\n",
       "    }\n",
       "\n",
       "    .dataframe tbody tr th {\n",
       "        vertical-align: top;\n",
       "    }\n",
       "\n",
       "    .dataframe thead th {\n",
       "        text-align: right;\n",
       "    }\n",
       "</style>\n",
       "<table border=\"1\" class=\"dataframe\">\n",
       "  <thead>\n",
       "    <tr style=\"text-align: right;\">\n",
       "      <th></th>\n",
       "      <th>InvoiceNo</th>\n",
       "      <th>StockCode</th>\n",
       "      <th>Description</th>\n",
       "      <th>Quantity</th>\n",
       "      <th>InvoiceDate</th>\n",
       "      <th>UnitPrice</th>\n",
       "      <th>CustomerID</th>\n",
       "      <th>Country</th>\n",
       "    </tr>\n",
       "  </thead>\n",
       "  <tbody>\n",
       "    <tr>\n",
       "      <th>0</th>\n",
       "      <td>536365</td>\n",
       "      <td>85123A</td>\n",
       "      <td>WHITE HANGING HEART T-LIGHT HOLDER</td>\n",
       "      <td>6</td>\n",
       "      <td>2010-12-01 08:26:00</td>\n",
       "      <td>2.55</td>\n",
       "      <td>17850</td>\n",
       "      <td>United Kingdom</td>\n",
       "    </tr>\n",
       "    <tr>\n",
       "      <th>1</th>\n",
       "      <td>536365</td>\n",
       "      <td>71053</td>\n",
       "      <td>WHITE METAL LANTERN</td>\n",
       "      <td>6</td>\n",
       "      <td>2010-12-01 08:26:00</td>\n",
       "      <td>3.39</td>\n",
       "      <td>17850</td>\n",
       "      <td>United Kingdom</td>\n",
       "    </tr>\n",
       "    <tr>\n",
       "      <th>2</th>\n",
       "      <td>536365</td>\n",
       "      <td>84406B</td>\n",
       "      <td>CREAM CUPID HEARTS COAT HANGER</td>\n",
       "      <td>8</td>\n",
       "      <td>2010-12-01 08:26:00</td>\n",
       "      <td>2.75</td>\n",
       "      <td>17850</td>\n",
       "      <td>United Kingdom</td>\n",
       "    </tr>\n",
       "    <tr>\n",
       "      <th>3</th>\n",
       "      <td>536365</td>\n",
       "      <td>84029G</td>\n",
       "      <td>KNITTED UNION FLAG HOT WATER BOTTLE</td>\n",
       "      <td>6</td>\n",
       "      <td>2010-12-01 08:26:00</td>\n",
       "      <td>3.39</td>\n",
       "      <td>17850</td>\n",
       "      <td>United Kingdom</td>\n",
       "    </tr>\n",
       "    <tr>\n",
       "      <th>4</th>\n",
       "      <td>536365</td>\n",
       "      <td>84029E</td>\n",
       "      <td>RED WOOLLY HOTTIE WHITE HEART.</td>\n",
       "      <td>6</td>\n",
       "      <td>2010-12-01 08:26:00</td>\n",
       "      <td>3.39</td>\n",
       "      <td>17850</td>\n",
       "      <td>United Kingdom</td>\n",
       "    </tr>\n",
       "  </tbody>\n",
       "</table>\n",
       "</div>"
      ],
      "text/plain": [
       "  InvoiceNo StockCode  ... CustomerID         Country\n",
       "0    536365    85123A  ...      17850  United Kingdom\n",
       "1    536365     71053  ...      17850  United Kingdom\n",
       "2    536365    84406B  ...      17850  United Kingdom\n",
       "3    536365    84029G  ...      17850  United Kingdom\n",
       "4    536365    84029E  ...      17850  United Kingdom\n",
       "\n",
       "[5 rows x 8 columns]"
      ]
     },
     "metadata": {},
     "output_type": "display_data"
    }
   ],
   "source": [
    "df_initial['InvoiceDate'] = pd.to_datetime(df_initial['InvoiceDate'])\n",
    "\n",
    "# Gather some information on columns types and number of null values\n",
    "tab_info=pd.DataFrame(df_initial.dtypes).T.rename(index={0:'column type'})\n",
    "tab_info=tab_info.append(pd.DataFrame(df_initial.isnull().sum()).T.rename(index={0:'null values (nb)'}))\n",
    "tab_info=tab_info.append(pd.DataFrame(df_initial.isnull().sum()/df_initial.shape[0]*100).T.\n",
    "                         rename(index={0:'null values (%)'}))\n",
    "display(tab_info)\n",
    "\n",
    "# Show first lines\n",
    "display(df_initial[:5])"
   ]
  },
  {
   "cell_type": "markdown",
   "metadata": {
    "id": "2lD7KaiT0SBx"
   },
   "source": [
    "The dataset contains the following features: \n",
    "\n",
    "**InvoiceNo**: Invoice number. Nominal, a 6-digit integral number uniquely assigned to each transaction. If this code starts with letter 'c', it indicates a cancellation.\n",
    "\n",
    "**StockCode**: Product (item) code. Nominal, a 5-digit integral number uniquely assigned to each distinct product.\n",
    "\n",
    "**Description**: Product (item) name. Nominal.\n",
    "\n",
    "**Quantity**: The quantities of each product (item) per transaction. Numeric.\n",
    "\n",
    "**InvoiceDate**: Invoice Date and time. Numeric, the date and time when each transaction was generated.\n",
    "\n",
    "**UnitPrice**: Unit price. Numeric, Product price per unit in sterling.\n",
    "\n",
    "**CustomerID**: Customer number. Nominal, a 5-digit integral number uniquely assigned to each customer.\n",
    "\n",
    "**Country**: Country name. Nominal, the name of the country where each customer resides."
   ]
  },
  {
   "cell_type": "markdown",
   "metadata": {},
   "source": [
    "As you can see, there are all kinds of weird and wonderful products being purchased:"
   ]
  },
  {
   "cell_type": "markdown",
   "metadata": {},
   "source": [
    "![](https://raw.githubusercontent.com/ribenamaplesyrup/seldon-retail-workshop/main/assets/tacky_waterbottle.jpg \"KNITTED UNION FLAG HOT WATER BOTTLE\")\n"
   ]
  },
  {
   "cell_type": "markdown",
   "metadata": {
    "id": "k2nAnRGxkOZZ"
   },
   "source": [
    "We will be training a model using a transformed version of this dataset. Rather than detailing each individual item bought, the transformed dataset details the spending behaviour of each individual customer across different categories of products. We don't have any product categories in the original dataset so we create this feature through analysing keywords used within product descriptions and applying k-means clustering to create a finite number of product clusters. We find in our analysis that 5 clusters is a suitable number to seperate products without creating clusters containing too few products (calculated using silhouette score). The following wordclouds demonstrate the splits we generate:"
   ]
  },
  {
   "cell_type": "markdown",
   "metadata": {
    "id": "EXd0w4jAkOZa"
   },
   "source": [
    "<img src=\"https://raw.githubusercontent.com/ribenamaplesyrup/seldon-retail-workshop/main/assets/download.png\">"
   ]
  },
  {
   "cell_type": "markdown",
   "metadata": {
    "id": "B7HQJpFekOZa"
   },
   "source": [
    "We see that cluster no1 contains words we might associate more with gifts ('christmas', 'card', 'wrap', 'decoration') and no3 more with luxury goods ('lace', 'necklace'), although some of the other clusters are less differentiated.\n",
    "\n",
    "Based on customer spending across each of these categories of product, we can similarly use k-means to cluster customers into different segments. Performing similar analysis to how we clustered product categories, we find 11 clusters is the most suitable for segmenting customers within this dataset."
   ]
  },
  {
   "cell_type": "code",
   "execution_count": 11,
   "metadata": {
    "id": "-pOElOiWkOZa"
   },
   "outputs": [],
   "source": [
    "columns = ['mean', 'categ_0', 'categ_1', 'categ_2', 'categ_3', 'categ_4' ]\n",
    "class_names = ['0','1','2','3','4','5','6','7','8','9','10']\n",
    "X_train = np.load('data/X_train.npy')\n",
    "Y_train = np.load('data/Y_train.npy')\n",
    "X_test = np.load('data/X_test.npy')\n",
    "Y_test = np.load('data/Y_test.npy')"
   ]
  },
  {
   "cell_type": "markdown",
   "metadata": {
    "id": "yXrmKzJq0SB2"
   },
   "source": [
    "The transformed dataset contains the following features specific to each unique customer:\n",
    "\n",
    "**mean**: mean spend across all transactions\n",
    "\n",
    "**categ_0**: percentage of total spend on products within category 0\n",
    "\n",
    "**categ_1**: percentage of total spend on products within category 1\n",
    "\n",
    "**categ_2**: percentage of total spend on products within category 2\n",
    "\n",
    "**categ_3**: percentage of total spend on products within category 3\n",
    "\n",
    "**categ_4**: percentage of total spend on products within category 4\n",
    "\n",
    "**customer_category**: integer signifying which of the 11 categories the customer aligns most with"
   ]
  },
  {
   "cell_type": "code",
   "execution_count": 12,
   "metadata": {
    "id": "RoczMYGIkOZb"
   },
   "outputs": [
    {
     "data": {
      "text/html": [
       "<div>\n",
       "<style scoped>\n",
       "    .dataframe tbody tr th:only-of-type {\n",
       "        vertical-align: middle;\n",
       "    }\n",
       "\n",
       "    .dataframe tbody tr th {\n",
       "        vertical-align: top;\n",
       "    }\n",
       "\n",
       "    .dataframe thead th {\n",
       "        text-align: right;\n",
       "    }\n",
       "</style>\n",
       "<table border=\"1\" class=\"dataframe\">\n",
       "  <thead>\n",
       "    <tr style=\"text-align: right;\">\n",
       "      <th></th>\n",
       "      <th>mean</th>\n",
       "      <th>categ_0</th>\n",
       "      <th>categ_1</th>\n",
       "      <th>categ_2</th>\n",
       "      <th>categ_3</th>\n",
       "      <th>categ_4</th>\n",
       "      <th>customer_category</th>\n",
       "    </tr>\n",
       "  </thead>\n",
       "  <tbody>\n",
       "    <tr>\n",
       "      <th>0</th>\n",
       "      <td>200.565000</td>\n",
       "      <td>43.015980</td>\n",
       "      <td>11.816618</td>\n",
       "      <td>34.352953</td>\n",
       "      <td>3.814225</td>\n",
       "      <td>7.000224</td>\n",
       "      <td>9</td>\n",
       "    </tr>\n",
       "    <tr>\n",
       "      <th>1</th>\n",
       "      <td>220.310000</td>\n",
       "      <td>5.617085</td>\n",
       "      <td>23.864101</td>\n",
       "      <td>10.576007</td>\n",
       "      <td>6.944760</td>\n",
       "      <td>52.998048</td>\n",
       "      <td>2</td>\n",
       "    </tr>\n",
       "    <tr>\n",
       "      <th>2</th>\n",
       "      <td>166.711667</td>\n",
       "      <td>24.618353</td>\n",
       "      <td>20.467474</td>\n",
       "      <td>20.624431</td>\n",
       "      <td>31.508493</td>\n",
       "      <td>2.781249</td>\n",
       "      <td>6</td>\n",
       "    </tr>\n",
       "    <tr>\n",
       "      <th>3</th>\n",
       "      <td>232.295000</td>\n",
       "      <td>13.323576</td>\n",
       "      <td>39.856648</td>\n",
       "      <td>11.989066</td>\n",
       "      <td>23.009535</td>\n",
       "      <td>11.821176</td>\n",
       "      <td>6</td>\n",
       "    </tr>\n",
       "    <tr>\n",
       "      <th>4</th>\n",
       "      <td>139.870000</td>\n",
       "      <td>32.735755</td>\n",
       "      <td>17.559162</td>\n",
       "      <td>29.033209</td>\n",
       "      <td>16.398263</td>\n",
       "      <td>4.273611</td>\n",
       "      <td>6</td>\n",
       "    </tr>\n",
       "  </tbody>\n",
       "</table>\n",
       "</div>"
      ],
      "text/plain": [
       "         mean    categ_0    categ_1  ...    categ_3    categ_4  customer_category\n",
       "0  200.565000  43.015980  11.816618  ...   3.814225   7.000224                  9\n",
       "1  220.310000   5.617085  23.864101  ...   6.944760  52.998048                  2\n",
       "2  166.711667  24.618353  20.467474  ...  31.508493   2.781249                  6\n",
       "3  232.295000  13.323576  39.856648  ...  23.009535  11.821176                  6\n",
       "4  139.870000  32.735755  17.559162  ...  16.398263   4.273611                  6\n",
       "\n",
       "[5 rows x 7 columns]"
      ]
     },
     "execution_count": 12,
     "metadata": {},
     "output_type": "execute_result"
    }
   ],
   "source": [
    "customers = pd.DataFrame(Y_train, columns=['customer_category']).astype(dtype=int)\n",
    "spending = pd.DataFrame(X_train, columns = columns)\n",
    "transformed_dataset = pd.concat([spending, customers], axis=1)\n",
    "transformed_dataset.head()"
   ]
  },
  {
   "cell_type": "code",
   "execution_count": 44,
   "metadata": {
    "id": "93o62rkE0SB3"
   },
   "outputs": [
    {
     "data": {
      "text/plain": [
       "mean                 12425.45\n",
       "categ_0                100.00\n",
       "categ_1                100.00\n",
       "categ_2                100.00\n",
       "categ_3                100.00\n",
       "categ_4                100.00\n",
       "customer_category       10.00\n",
       "dtype: float64"
      ]
     },
     "execution_count": 44,
     "metadata": {},
     "output_type": "execute_result"
    }
   ],
   "source": [
    "transformed_dataset.max(axis=0)"
   ]
  },
  {
   "cell_type": "code",
   "execution_count": 45,
   "metadata": {
    "id": "tXPspr0X0SB4"
   },
   "outputs": [
    {
     "data": {
      "text/plain": [
       "mean                 2.9\n",
       "categ_0              0.0\n",
       "categ_1              0.0\n",
       "categ_2              0.0\n",
       "categ_3              0.0\n",
       "categ_4              0.0\n",
       "customer_category    0.0\n",
       "dtype: float64"
      ]
     },
     "execution_count": 45,
     "metadata": {},
     "output_type": "execute_result"
    }
   ],
   "source": [
    "transformed_dataset.min(axis=0)"
   ]
  },
  {
   "cell_type": "markdown",
   "metadata": {
    "id": "ei4WoQXTZtjq"
   },
   "source": [
    "## Model Training\n",
    "\n",
    "In the next section, we will train a classifier that will classify consumers into the different customer categories based on their spending patterns. \n",
    "\n",
    "Firstly, we will scale the dataset using Standardisation:"
   ]
  },
  {
   "cell_type": "code",
   "execution_count": 13,
   "metadata": {
    "id": "KrM0vFLtJBnn"
   },
   "outputs": [],
   "source": [
    "# Standardise the dataset\n",
    "mean, stdev = X_train.mean(axis=0), X_train.std(axis=0)\n",
    "X_train = (X_train - mean) / stdev\n",
    "X_test = (X_test - mean) / stdev"
   ]
  },
  {
   "cell_type": "markdown",
   "metadata": {
    "id": "kZXr3-bfcrZr"
   },
   "source": [
    "Then we will train a scikit-learn Logistic Regression model:"
   ]
  },
  {
   "cell_type": "code",
   "execution_count": 14,
   "metadata": {
    "id": "se7kBpFlcUm1"
   },
   "outputs": [
    {
     "data": {
      "text/html": [
       "<style>#sk-container-id-1 {color: black;background-color: white;}#sk-container-id-1 pre{padding: 0;}#sk-container-id-1 div.sk-toggleable {background-color: white;}#sk-container-id-1 label.sk-toggleable__label {cursor: pointer;display: block;width: 100%;margin-bottom: 0;padding: 0.3em;box-sizing: border-box;text-align: center;}#sk-container-id-1 label.sk-toggleable__label-arrow:before {content: \"▸\";float: left;margin-right: 0.25em;color: #696969;}#sk-container-id-1 label.sk-toggleable__label-arrow:hover:before {color: black;}#sk-container-id-1 div.sk-estimator:hover label.sk-toggleable__label-arrow:before {color: black;}#sk-container-id-1 div.sk-toggleable__content {max-height: 0;max-width: 0;overflow: hidden;text-align: left;background-color: #f0f8ff;}#sk-container-id-1 div.sk-toggleable__content pre {margin: 0.2em;color: black;border-radius: 0.25em;background-color: #f0f8ff;}#sk-container-id-1 input.sk-toggleable__control:checked~div.sk-toggleable__content {max-height: 200px;max-width: 100%;overflow: auto;}#sk-container-id-1 input.sk-toggleable__control:checked~label.sk-toggleable__label-arrow:before {content: \"▾\";}#sk-container-id-1 div.sk-estimator input.sk-toggleable__control:checked~label.sk-toggleable__label {background-color: #d4ebff;}#sk-container-id-1 div.sk-label input.sk-toggleable__control:checked~label.sk-toggleable__label {background-color: #d4ebff;}#sk-container-id-1 input.sk-hidden--visually {border: 0;clip: rect(1px 1px 1px 1px);clip: rect(1px, 1px, 1px, 1px);height: 1px;margin: -1px;overflow: hidden;padding: 0;position: absolute;width: 1px;}#sk-container-id-1 div.sk-estimator {font-family: monospace;background-color: #f0f8ff;border: 1px dotted black;border-radius: 0.25em;box-sizing: border-box;margin-bottom: 0.5em;}#sk-container-id-1 div.sk-estimator:hover {background-color: #d4ebff;}#sk-container-id-1 div.sk-parallel-item::after {content: \"\";width: 100%;border-bottom: 1px solid gray;flex-grow: 1;}#sk-container-id-1 div.sk-label:hover label.sk-toggleable__label {background-color: #d4ebff;}#sk-container-id-1 div.sk-serial::before {content: \"\";position: absolute;border-left: 1px solid gray;box-sizing: border-box;top: 0;bottom: 0;left: 50%;z-index: 0;}#sk-container-id-1 div.sk-serial {display: flex;flex-direction: column;align-items: center;background-color: white;padding-right: 0.2em;padding-left: 0.2em;position: relative;}#sk-container-id-1 div.sk-item {position: relative;z-index: 1;}#sk-container-id-1 div.sk-parallel {display: flex;align-items: stretch;justify-content: center;background-color: white;position: relative;}#sk-container-id-1 div.sk-item::before, #sk-container-id-1 div.sk-parallel-item::before {content: \"\";position: absolute;border-left: 1px solid gray;box-sizing: border-box;top: 0;bottom: 0;left: 50%;z-index: -1;}#sk-container-id-1 div.sk-parallel-item {display: flex;flex-direction: column;z-index: 1;position: relative;background-color: white;}#sk-container-id-1 div.sk-parallel-item:first-child::after {align-self: flex-end;width: 50%;}#sk-container-id-1 div.sk-parallel-item:last-child::after {align-self: flex-start;width: 50%;}#sk-container-id-1 div.sk-parallel-item:only-child::after {width: 0;}#sk-container-id-1 div.sk-dashed-wrapped {border: 1px dashed gray;margin: 0 0.4em 0.5em 0.4em;box-sizing: border-box;padding-bottom: 0.4em;background-color: white;}#sk-container-id-1 div.sk-label label {font-family: monospace;font-weight: bold;display: inline-block;line-height: 1.2em;}#sk-container-id-1 div.sk-label-container {text-align: center;}#sk-container-id-1 div.sk-container {/* jupyter's `normalize.less` sets `[hidden] { display: none; }` but bootstrap.min.css set `[hidden] { display: none !important; }` so we also need the `!important` here to be able to override the default hidden behavior on the sphinx rendered scikit-learn.org. See: https://github.com/scikit-learn/scikit-learn/issues/21755 */display: inline-block !important;position: relative;}#sk-container-id-1 div.sk-text-repr-fallback {display: none;}</style><div id=\"sk-container-id-1\" class=\"sk-top-container\"><div class=\"sk-text-repr-fallback\"><pre>LogisticRegression(max_iter=4000)</pre><b>In a Jupyter environment, please rerun this cell to show the HTML representation or trust the notebook. <br />On GitHub, the HTML representation is unable to render, please try loading this page with nbviewer.org.</b></div><div class=\"sk-container\" hidden><div class=\"sk-item\"><div class=\"sk-estimator sk-toggleable\"><input class=\"sk-toggleable__control sk-hidden--visually\" id=\"sk-estimator-id-1\" type=\"checkbox\" checked><label for=\"sk-estimator-id-1\" class=\"sk-toggleable__label sk-toggleable__label-arrow\">LogisticRegression</label><div class=\"sk-toggleable__content\"><pre>LogisticRegression(max_iter=4000)</pre></div></div></div></div></div>"
      ],
      "text/plain": [
       "LogisticRegression(max_iter=4000)"
      ]
     },
     "execution_count": 14,
     "metadata": {},
     "output_type": "execute_result"
    }
   ],
   "source": [
    "lr = LogisticRegression(max_iter=4000)\n",
    "lr.fit(X_train, Y_train)"
   ]
  },
  {
   "cell_type": "markdown",
   "metadata": {},
   "source": [
    "And evaluate our model simply by looking at the accuracy score in this case:"
   ]
  },
  {
   "cell_type": "code",
   "execution_count": 16,
   "metadata": {
    "id": "r4mLxfzSvvAd"
   },
   "outputs": [
    {
     "data": {
      "text/plain": [
       "0.9182825484764543"
      ]
     },
     "execution_count": 16,
     "metadata": {},
     "output_type": "execute_result"
    }
   ],
   "source": [
    "accuracy_score(Y_test, lr.predict(X_test))"
   ]
  },
  {
   "cell_type": "markdown",
   "metadata": {},
   "source": [
    "Then we will save our trained model locally:"
   ]
  },
  {
   "cell_type": "code",
   "execution_count": 18,
   "metadata": {
    "id": "IvFuSdmp28xt"
   },
   "outputs": [
    {
     "data": {
      "text/plain": [
       "['models/lr/model.joblib']"
      ]
     },
     "execution_count": 18,
     "metadata": {},
     "output_type": "execute_result"
    }
   ],
   "source": [
    "os.makedirs('models/' + 'lr', exist_ok=True)\n",
    "filename = 'models/lr/model.joblib'\n",
    "joblib.dump(lr, filename)"
   ]
  },
  {
   "cell_type": "markdown",
   "metadata": {
    "id": "0zZjwLAlAoXg"
   },
   "source": [
    "We will finally push our trained models to a GCP Storage Bucket ready for Deployment with Seldon:"
   ]
  },
  {
   "cell_type": "code",
   "execution_count": 19,
   "metadata": {
    "id": "JlU3AfYG_BtN"
   },
   "outputs": [
    {
     "name": "stdout",
     "output_type": "stream",
     "text": [
      "Copying file://models/lr/model.joblib [Content-Type=application/octet-stream]...\n",
      "/ [1 files][  1.4 KiB/  1.4 KiB]                                                \n",
      "Operation completed over 1 objects/1.4 KiB.                                      \n"
     ]
    }
   ],
   "source": [
    "!gsutil cp models/lr/model.joblib gs://kelly-seldon/retail-workshop/models/kelly/lr/model.joblib"
   ]
  },
  {
   "cell_type": "markdown",
   "metadata": {
    "id": "DlrAixGMA_Hs"
   },
   "source": [
    "### Model Deployment with Seldon Deploy Advanced "
   ]
  },
  {
   "cell_type": "markdown",
   "metadata": {
    "id": "bS8XO97eBMGF"
   },
   "source": [
    "We can now deploy our model to the dedicated Seldon Deploy cluster which we have configured for this webinar. To do so we will interact with the Seldon Deploy SDK."
   ]
  },
  {
   "cell_type": "markdown",
   "metadata": {},
   "source": [
    "MLServer is the open source inference server that will be used for this machine learning model. This aims to provide an easy way to start serving your ML models through a REST and gRPC interface, fully compliant with the Open Inference Protocol. \n",
    "\n",
    "In MLServer, each loaded model can be configured separately. This configuration will include model information (e.g. metadata about the accepted inputs), but also model-specific settings (e.g. number of parallel workers to run inference).\n",
    "\n",
    "This configuration will usually be provided through a **`model-settings.json`** file which sits next to the model artefacts. However, it’s also possible to provide this through environment variables prefixed with `MLSERVER_MODEL_` (e.g. `MLSERVER_MODEL_IMPLEMENTATION`). Note that, in the latter case, this environment variables will be shared across all loaded models (unless they get overriden by a `model-settings.json` file). Additionally, if no `model-settings.json` file is found, MLServer will also try to load a “default” model from these environment variables."
   ]
  },
  {
   "cell_type": "markdown",
   "metadata": {},
   "source": [
    "We will write our `model-settings.json` file locally, before uploading it to a GCP Storage Bucket to sit next to our trained model artefact:"
   ]
  },
  {
   "cell_type": "code",
   "execution_count": 20,
   "metadata": {},
   "outputs": [
    {
     "name": "stdout",
     "output_type": "stream",
     "text": [
      "Overwriting model-settings.json\n"
     ]
    }
   ],
   "source": [
    "%%writefile model-settings.json\n",
    "{\n",
    "    \"implementation\": \"mlserver_sklearn.SKLearnModel\"\n",
    "}"
   ]
  },
  {
   "cell_type": "code",
   "execution_count": 22,
   "metadata": {},
   "outputs": [
    {
     "name": "stdout",
     "output_type": "stream",
     "text": [
      "Copying file://model-settings.json [Content-Type=application/json]...\n",
      "/ [1 files][   58.0 B/   58.0 B]                                                \n",
      "Operation completed over 1 objects/58.0 B.                                       \n"
     ]
    }
   ],
   "source": [
    "!gsutil cp model-settings.json gs://kelly-seldon/retail-workshop/models/kelly/lr/model-settings.json"
   ]
  },
  {
   "cell_type": "markdown",
   "metadata": {},
   "source": [
    "All requests to the Seldon Deploy API must be authenticated and therefore before using the API, we must obtain an authentication token. Out of the box, the Python SDK supports a set of common authentication workflows, each of these can be found under the `seldon_deploy_sdk.auth` package. `OIDCAuthenticator` allows you to authenticate against an OIDC-compatible provider. We will use the `client_credentials` authentication flow, which is a single-phase process suitable for automated clients in trusted environments and requires a Client ID and a Client secret."
   ]
  },
  {
   "cell_type": "code",
   "execution_count": 23,
   "metadata": {
    "id": "FOCjkhaIBtVF"
   },
   "outputs": [],
   "source": [
    "SD_IP = \"34.147.73.223\"\n",
    "\n",
    "config = Configuration()\n",
    "config.host = f\"http://{SD_IP}/seldon-deploy/api/v1alpha1\"\n",
    "config.oidc_client_id = \"sd-api\"\n",
    "config.oidc_server = f\"http://{SD_IP}/auth/realms/deploy-realm\"\n",
    "config.oidc_client_secret = \"sd-api-secret\"\n",
    "config.auth_method = \"client_credentials\"\n",
    "\n",
    "def auth():\n",
    "    auth = OIDCAuthenticator(config)\n",
    "    config.id_token = auth.authenticate()\n",
    "    api_client = ApiClient(configuration=config, authenticator=auth)\n",
    "    return api_client"
   ]
  },
  {
   "cell_type": "markdown",
   "metadata": {
    "id": "V37sraULkOZf"
   },
   "source": [
    "Now we can define the resources that we would like to create. We are going to use the Seldon Core V2 runtime, so we will create a `Model` resource and and then reference this `Model` from within a `Pipeline` resource."
   ]
  },
  {
   "cell_type": "code",
   "execution_count": 25,
   "metadata": {
    "id": "ktWrWseb0SB8"
   },
   "outputs": [],
   "source": [
    "MODEL_NAME = \"lr\"\n",
    "PIPELINE_NAME = \"customer-segmentation\"\n",
    "NAMESPACE = \"seldon\"\n",
    "MODEL_LOCATION = f\"gs://kelly-seldon/retail-workshop/models/kelly/lr\""
   ]
  },
  {
   "cell_type": "code",
   "execution_count": 26,
   "metadata": {},
   "outputs": [],
   "source": [
    "simple_lr_model = f\"\"\"\n",
    "apiVersion: mlops.seldon.io/v1alpha1\n",
    "kind: Model\n",
    "metadata:\n",
    "  name: {MODEL_NAME}\n",
    "  namespace: {NAMESPACE}\n",
    "spec:\n",
    "  storageUri: {MODEL_LOCATION}\n",
    "  requirements:\n",
    "  - sklearn\n",
    "  memory: 100Ki\n",
    "\"\"\"\n",
    "\n",
    "simple_lr_model = yaml.safe_load(simple_lr_model)"
   ]
  },
  {
   "cell_type": "code",
   "execution_count": null,
   "metadata": {
    "id": "EeKpuObJCHA3"
   },
   "outputs": [],
   "source": [
    "deployment_api = ModelsApi(auth())\n",
    "deployment_api.create_model(namespace=NAMESPACE, model=simple_lr_model)"
   ]
  },
  {
   "cell_type": "code",
   "execution_count": 28,
   "metadata": {},
   "outputs": [],
   "source": [
    "pipeline = {\n",
    "    \"apiVersion\": \"mlops.seldon.io/v1alpha1\",\n",
    "    \"kind\": \"Pipeline\",\n",
    "    \"metadata\": {\n",
    "        \"name\": PIPELINE_NAME,\n",
    "        \"namespace\": NAMESPACE\n",
    "    },\n",
    "  \"spec\": {\n",
    "    \"steps\": [\n",
    "      {\n",
    "        \"name\": \"lr\"\n",
    "      }\n",
    "    ],\n",
    "    \"output\": {\n",
    "      \"steps\": [\n",
    "        \"lr\"\n",
    "      ]\n",
    "    }\n",
    "  }\n",
    "}"
   ]
  },
  {
   "cell_type": "code",
   "execution_count": 29,
   "metadata": {},
   "outputs": [
    {
     "data": {
      "text/plain": [
       "{'api_version': None,\n",
       " 'kind': None,\n",
       " 'metadata': {'annotations': None,\n",
       "              'cluster_name': None,\n",
       "              'creation_timestamp': '2023-04-18T10:17:14Z',\n",
       "              'deletion_grace_period_seconds': None,\n",
       "              'deletion_timestamp': None,\n",
       "              'finalizers': None,\n",
       "              'generate_name': None,\n",
       "              'generation': 1,\n",
       "              'labels': None,\n",
       "              'managed_fields': [{'api_version': 'mlops.seldon.io/v1alpha1',\n",
       "                                  'fields_type': 'FieldsV1',\n",
       "                                  'fields_v1': {'f:spec': {'.': {},\n",
       "                                                           'f:output': {'.': {},\n",
       "                                                                        'f:steps': {}},\n",
       "                                                           'f:steps': {}}},\n",
       "                                  'manager': 'deployserver',\n",
       "                                  'operation': 'Update',\n",
       "                                  'time': '2023-04-18T10:17:14Z'}],\n",
       "              'name': 'customer-segmentation',\n",
       "              'namespace': 'seldon',\n",
       "              'owner_references': None,\n",
       "              'resource_version': '10671770',\n",
       "              'self_link': None,\n",
       "              'uid': '30ec6061-1742-4b2d-9eed-d2a0ca45da91'},\n",
       " 'spec': {'output': {'join_window_ms': None,\n",
       "                     'steps': ['lr'],\n",
       "                     'steps_join': None,\n",
       "                     'tensor_map': None},\n",
       "          'steps': [{'batch': None,\n",
       "                     'inputs': None,\n",
       "                     'inputs_join_type': None,\n",
       "                     'join_window_ms': None,\n",
       "                     'name': 'lr',\n",
       "                     'tensor_map': None,\n",
       "                     'triggers': None,\n",
       "                     'triggers_join_type': None}]},\n",
       " 'status': {'annotations': None,\n",
       "            'conditions': None,\n",
       "            'observed_generation': None}}"
      ]
     },
     "execution_count": 29,
     "metadata": {},
     "output_type": "execute_result"
    }
   ],
   "source": [
    "deployment_api = PipelinesApi(auth())\n",
    "deployment_api.create_pipeline(namespace=NAMESPACE, mldeployment=pipeline)"
   ]
  },
  {
   "cell_type": "markdown",
   "metadata": {
    "id": "JOmBKqU_0SB9"
   },
   "source": [
    "Our Pipeline should now be running on Seldon Deploy Advanced. Let's log in to our cluster and check it out!"
   ]
  },
  {
   "cell_type": "markdown",
   "metadata": {},
   "source": [
    "We can then test our Pipeline by sending a request through the \"Predict\" screen in the Seldon Deploy Advanced UI: \n",
    "\n",
    "```\n",
    "{\n",
    "    \"parameters\": {\n",
    "        \"content_type\": \"pd\"\n",
    "    },\n",
    "    \"inputs\": [\n",
    "        {   \n",
    "            \"name\": \"mean\",\n",
    "            \"shape\": [1,1],\n",
    "            \"datatype\": \"FP32\",\n",
    "            \"data\": [-0.43831067]\n",
    "        },\n",
    "        {   \n",
    "            \"name\": \"cat_0\",\n",
    "            \"shape\": [1,1],\n",
    "            \"datatype\": \"FP32\",\n",
    "            \"data\": [0.23457404]\n",
    "        },\n",
    "        {   \n",
    "            \"name\": \"cat_1\",\n",
    "            \"shape\": [1,1],\n",
    "            \"datatype\": \"FP32\",\n",
    "            \"data\": [-0.17366155]\n",
    "        },\n",
    "        {   \n",
    "            \"name\": \"cat_2\",\n",
    "            \"shape\": [1,1],\n",
    "            \"datatype\": \"FP32\",\n",
    "            \"data\": [0.26935668]\n",
    "        },\n",
    "        {   \n",
    "            \"name\": \"cat_3\",\n",
    "            \"shape\": [1,1],\n",
    "            \"datatype\": \"FP32\",\n",
    "            \"data\": [0.13463672]\n",
    "        },\n",
    "        {   \n",
    "            \"name\": \"cat_4\",\n",
    "            \"shape\": [1,1],\n",
    "            \"datatype\": \"FP32\",\n",
    "            \"data\": [-0.55234561]\n",
    "        }\n",
    "    ]\n",
    "}\n",
    "```"
   ]
  },
  {
   "cell_type": "markdown",
   "metadata": {},
   "source": [
    "We can then check out our Request logged in the \"Requests\" tab in the Seldon Deploy Advanced UI. "
   ]
  },
  {
   "cell_type": "markdown",
   "metadata": {
    "id": "rjspFW0AFlHS"
   },
   "source": [
    "## Explainer\n",
    "\n",
    "Next, we will initialise and fit an explainer to glean deeper insights into the decisions being made by our model. We will make use of the Anchors algorithm, which has a [production grade implementation available](https://docs.seldon.io/projects/alibi/en/stable/methods/Anchors.html) using the Seldon Alibi Explain library. \n",
    "\n",
    "The algorithm provides model-agnostic (black box) and human interpretable explanations suitable for classification models applied to images, text and tabular data. The idea behind anchors is to explain the behaviour of complex models with high-precision rules called anchors. These anchors are locally sufficient conditions to ensure a certain prediction with a high degree of confidence. Anchors algorithms incorporate coverage, which is the region the explanation applies within and are optimised to maximize coverage.\n",
    "\n",
    "As an example of Anchors for tabular data, if we want to predict whether a person makes less or more than £50,000 per year based on the person’s characteristics including age (continuous variable) and marital status (categorical variable), then the following would be a potential anchor: *Hugo makes more than £50,000 because he has a Master's degree and his age is between 35 and 45 years*.\n",
    "\n",
    "The first step will be to write a simple predict function which the explainer can call in order to query our logistic regression model."
   ]
  },
  {
   "cell_type": "code",
   "execution_count": 30,
   "metadata": {
    "id": "BMowappmHKz1"
   },
   "outputs": [],
   "source": [
    "predict_fn = lambda x: lr.predict(x)"
   ]
  },
  {
   "cell_type": "markdown",
   "metadata": {
    "id": "5NcaGOy50SB-"
   },
   "source": [
    "We then initialise our Anchors Explainer, using the `AnchorTabular` flavour provided by Alibi due to our data modality:"
   ]
  },
  {
   "cell_type": "code",
   "execution_count": 32,
   "metadata": {
    "id": "zNLvR53vG7Yb"
   },
   "outputs": [],
   "source": [
    "explainer = AnchorTabular(predict_fn, columns)"
   ]
  },
  {
   "cell_type": "markdown",
   "metadata": {
    "id": "xZsZQIRlaHtc"
   },
   "source": [
    "We will now fit our explainer. We need to specify percentages that our model will use to discretize the ordinal features into quartiles. Generally we observe that if we choose smaller percentages (finer discretization), this will lead to longer runtime and potentially higher precision. "
   ]
  },
  {
   "cell_type": "code",
   "execution_count": 33,
   "metadata": {
    "id": "RQc3nvlIHofS"
   },
   "outputs": [
    {
     "data": {
      "text/plain": [
       "AnchorTabular(meta={\n",
       "  'name': 'AnchorTabular',\n",
       "  'type': ['blackbox'],\n",
       "  'explanations': ['local'],\n",
       "  'params': {'seed': None, 'disc_perc': (25, 50, 75)},\n",
       "  'version': '0.9.1'}\n",
       ")"
      ]
     },
     "execution_count": 33,
     "metadata": {},
     "output_type": "execute_result"
    }
   ],
   "source": [
    "explainer.fit(X_train, disc_perc=(25, 50, 75))"
   ]
  },
  {
   "cell_type": "markdown",
   "metadata": {
    "id": "t-rTSwPD0SB_"
   },
   "source": [
    "We can now test our explainer by generating a prediction."
   ]
  },
  {
   "cell_type": "code",
   "execution_count": 34,
   "metadata": {},
   "outputs": [],
   "source": [
    "test_req = np.array([-0.4383, 0.2346, -0.1737, 0.2694, 0.1346,-0.5523])"
   ]
  },
  {
   "cell_type": "code",
   "execution_count": 36,
   "metadata": {},
   "outputs": [
    {
     "name": "stdout",
     "output_type": "stream",
     "text": [
      "Prediction:  6\n"
     ]
    }
   ],
   "source": [
    "print('Prediction: ', class_names[explainer.predictor(test_req.reshape(1, -1))[0]])"
   ]
  },
  {
   "cell_type": "code",
   "execution_count": 38,
   "metadata": {
    "id": "_FD98jlOI15c"
   },
   "outputs": [
    {
     "name": "stdout",
     "output_type": "stream",
     "text": [
      "Anchor: categ_2 <= 0.45 AND -0.17 < categ_0 <= 0.44 AND categ_1 <= 0.47 AND mean <= 0.09 AND categ_3 <= 0.44\n",
      "Precision: 0.96\n",
      "Coverage: 0.06\n"
     ]
    }
   ],
   "source": [
    "explanation = explainer.explain(test_req, threshold=0.9)\n",
    "print('Anchor: %s' % (' AND '.join(explanation.anchor)))\n",
    "print('Precision: %.2f' % explanation.precision)\n",
    "print('Coverage: %.2f' % explanation.coverage)"
   ]
  },
  {
   "cell_type": "markdown",
   "metadata": {},
   "source": [
    "And we can then save our explainer locally: "
   ]
  },
  {
   "cell_type": "code",
   "execution_count": 39,
   "metadata": {},
   "outputs": [],
   "source": [
    "explainer.save(\"customer-segmentation-explainer\")"
   ]
  },
  {
   "cell_type": "markdown",
   "metadata": {},
   "source": [
    "Then we will create our `model-settings.json` configuration file for the explainer and push both the explainer artefact and the `model-settings.json` file to our GCS Storage bucket:"
   ]
  },
  {
   "cell_type": "code",
   "execution_count": 42,
   "metadata": {},
   "outputs": [
    {
     "name": "stdout",
     "output_type": "stream",
     "text": [
      "Overwriting customer-segmentation-explainer/model-settings.json\n"
     ]
    }
   ],
   "source": [
    "%%writefile customer-segmentation-explainer/model-settings.json\n",
    "{\n",
    "    \"implementation\": \"mlserver_alibi_explain.AlibiExplainRuntime\"\n",
    "}"
   ]
  },
  {
   "cell_type": "code",
   "execution_count": 43,
   "metadata": {},
   "outputs": [
    {
     "name": "stdout",
     "output_type": "stream",
     "text": [
      "Copying file://customer-segmentation-explainer/model-settings.json [Content-Type=application/json]...\n",
      "Copying file://customer-segmentation-explainer/explainer.dill [Content-Type=application/octet-stream]...\n",
      "==> NOTE: You are uploading one or more large file(s), which would run          \n",
      "significantly faster if you enable parallel composite uploads. This\n",
      "feature can be enabled by editing the\n",
      "\"parallel_composite_upload_threshold\" value in your .boto\n",
      "configuration file. However, note that if you do this large files will\n",
      "be uploaded as `composite objects\n",
      "<https://cloud.google.com/storage/docs/composite-objects>`_,which\n",
      "means that any user who downloads such objects will need to have a\n",
      "compiled crcmod installed (see \"gsutil help crcmod\"). This is because\n",
      "without a compiled crcmod, computing checksums on composite objects is\n",
      "so slow that gsutil disables downloads of composite objects.\n",
      "\n",
      "Copying file://customer-segmentation-explainer/meta.dill [Content-Type=application/octet-stream]...\n",
      "| [3 files][151.9 MiB/151.9 MiB]                                                \n",
      "Operation completed over 3 objects/151.9 MiB.                                    \n"
     ]
    }
   ],
   "source": [
    "!gsutil cp -r customer-segmentation-explainer gs://kelly-seldon/retail-workshop/models/kelly/lr/customer-segmentation-explainer"
   ]
  },
  {
   "cell_type": "markdown",
   "metadata": {
    "id": "ZG6kWCMDOHsR"
   },
   "source": [
    "Finally we can deploy our explainer alongside the model in our pipeline. We will jump over and do this through the Seldon Deploy Advanced UI. "
   ]
  },
  {
   "cell_type": "markdown",
   "metadata": {
    "id": "hmI8brYLieU-"
   },
   "source": [
    "## Outlier Detection\n",
    "\n",
    "We will now set up an outlier detector. This will pick up anomalous data points in an automated fashion. We will use the Seldon Alibi Detect library to configure a Variational Auto Encoder (VAE) outlier detector.\n",
    "\n",
    "In this case we are going to assume that any instance which is labelled as customer segmentation cluster 1 is an outlier. Clearly, this is a trivial example, as we are using our model to predict the customer segment. However it demonstrates the flow of outlier detector creation nicely, and provides a set of easy to identify outliers. \n",
    "\n",
    "You now generate a dataset of inliers (all other clusters) and outliers (customer cluster 1). "
   ]
  },
  {
   "cell_type": "code",
   "execution_count": 44,
   "metadata": {
    "id": "90njHc1nDaf1"
   },
   "outputs": [
    {
     "name": "stderr",
     "output_type": "stream",
     "text": [
      "/tmp/ipykernel_544875/1203279854.py:4: SettingWithCopyWarning: \n",
      "A value is trying to be set on a copy of a slice from a DataFrame\n",
      "\n",
      "See the caveats in the documentation: https://pandas.pydata.org/pandas-docs/stable/user_guide/indexing.html#returning-a-view-versus-a-copy\n",
      "  inliers.drop(labels=6, axis=1, inplace=True)\n",
      "/tmp/ipykernel_544875/1203279854.py:8: SettingWithCopyWarning: \n",
      "A value is trying to be set on a copy of a slice from a DataFrame\n",
      "\n",
      "See the caveats in the documentation: https://pandas.pydata.org/pandas-docs/stable/user_guide/indexing.html#returning-a-view-versus-a-copy\n",
      "  outliers.drop(labels=6, axis=1, inplace=True)\n"
     ]
    }
   ],
   "source": [
    "df_total = pd.concat([pd.DataFrame(X_train), pd.DataFrame(Y_train, columns=[6])], axis=1)\n",
    "\n",
    "inliers = df_total[(df_total[6] != 1)]\n",
    "inliers.drop(labels=6, axis=1, inplace=True)\n",
    "inliers_np = inliers.to_numpy()\n",
    "\n",
    "outliers = df_total[df_total[6] == 1]\n",
    "outliers.drop(labels=6, axis=1, inplace=True)\n",
    "outliers_np = outliers.to_numpy()"
   ]
  },
  {
   "cell_type": "markdown",
   "metadata": {
    "id": "VNiXwKDK0SCC"
   },
   "source": [
    "You will then define the architecture of your VAE. The VAE works by attempting to reconstruct the input data which it receives. The VAE first encodes the data in some latent space (in our case a 2 dimensional vector), and then uses a decoder to reconstruct the original input data from the encoding. This forces the VAE to learn a mapping of input data to the latent space, and vice versa. If input data maps poorly to the latent space, and/or maps poorly from latent space to output then it is likely out of the distribution which the VAE was trained upon. Therefore, we can classify it as an outlier.  \n",
    "\n",
    "![](https://raw.githubusercontent.com/ribenamaplesyrup/seldon-retail-workshop/main/assets/vae_architecture.png \"VAE Architecture\")\n",
    "\n",
    "The first step is to define the VAE architecture. We will use TensorFlow Keras to setup the architecture for our encoder and decoder. "
   ]
  },
  {
   "cell_type": "code",
   "execution_count": 50,
   "metadata": {
    "id": "UZewHIB-EBkz"
   },
   "outputs": [],
   "source": [
    "n_features = X_train.shape[1]\n",
    "latent_dim = 2\n",
    "    \n",
    "encoder_net = tf.keras.Sequential(\n",
    "    [\n",
    "     InputLayer(input_shape=(n_features,)),\n",
    "     Dense(20, activation=tf.nn.relu),\n",
    "     Dense(15, activation=tf.nn.relu),\n",
    "     Dense(7, activation=tf.nn.relu)\n",
    "     ])\n",
    "\n",
    "decoder_net = tf.keras.Sequential(\n",
    "    [\n",
    "     InputLayer(input_shape=(latent_dim,)),\n",
    "     Dense(7, activation=tf.nn.relu),\n",
    "     Dense(15, activation=tf.nn.relu),\n",
    "     Dense(20, activation=tf.nn.relu),\n",
    "     Dense(n_features, activation=None)\n",
    "     ])"
   ]
  },
  {
   "cell_type": "markdown",
   "metadata": {
    "id": "uza6yh-x0SCC"
   },
   "source": [
    "Next we will make use of Alibi Detect's OutlierVAE class and instantiate it using the encoder and decoder architecture we defined above. \n",
    "\n",
    "We will then call the `fit` method on our outlier detector. To learn how to correctly reconstruct normal data the VAE is fit on only inlier examples initially. In this case we will use our `inliers` set as this does not contain any outlying data points. "
   ]
  },
  {
   "cell_type": "code",
   "execution_count": 51,
   "metadata": {
    "id": "LR7tSi920SCC",
    "scrolled": true
   },
   "outputs": [
    {
     "name": "stderr",
     "output_type": "stream",
     "text": [
      "No threshold level set. Need to infer threshold using `infer_threshold`.\n",
      "2023-04-18 12:23:13.335882: I tensorflow/core/common_runtime/executor.cc:1197] [/device:CPU:0] (DEBUG INFO) Executor start aborting (this does not indicate an error and you can ignore this message): INVALID_ARGUMENT: You must feed a value for placeholder tensor 'Placeholder/_0' with dtype double and shape [2645,6]\n",
      "\t [[{{node Placeholder/_0}}]]\n",
      "2023-04-18 12:23:13.336434: I tensorflow/core/common_runtime/executor.cc:1197] [/device:CPU:0] (DEBUG INFO) Executor start aborting (this does not indicate an error and you can ignore this message): INVALID_ARGUMENT: You must feed a value for placeholder tensor 'Placeholder/_0' with dtype double and shape [2645,6]\n",
      "\t [[{{node Placeholder/_0}}]]\n"
     ]
    },
    {
     "name": "stdout",
     "output_type": "stream",
     "text": [
      "42/42 [=] - 3s 74ms/step - loss_ma: 26448.8620\n",
      "42/42 [=] - 3s 74ms/step - loss_ma: 25308.0763\n",
      "42/42 [=] - 3s 76ms/step - loss_ma: 20431.7690\n",
      "42/42 [=] - 4s 84ms/step - loss_ma: 18067.7979\n",
      "42/42 [=] - 3s 75ms/step - loss_ma: 14188.1254\n",
      "42/42 [=] - 3s 77ms/step - loss_ma: 10435.3204\n",
      "42/42 [=] - 3s 77ms/step - loss_ma: 8758.9937\n",
      "42/42 [=] - 3s 74ms/step - loss_ma: 7161.0986\n",
      "42/42 [=] - 3s 77ms/step - loss_ma: 6739.0542\n",
      "42/42 [=] - 3s 74ms/step - loss_ma: 6377.7376\n",
      "42/42 [=] - 3s 75ms/step - loss_ma: 6375.7480\n",
      "42/42 [=] - 3s 75ms/step - loss_ma: 5987.5821\n",
      "42/42 [=] - 3s 76ms/step - loss_ma: 5741.0578\n",
      "42/42 [=] - 3s 77ms/step - loss_ma: 5498.3990\n",
      "42/42 [=] - 3s 81ms/step - loss_ma: 5355.5625\n",
      "42/42 [=] - 4s 86ms/step - loss_ma: 5287.2732\n",
      "42/42 [=] - 4s 91ms/step - loss_ma: 5154.5049\n",
      "42/42 [=] - 4s 90ms/step - loss_ma: 5042.1680\n",
      "42/42 [=] - 3s 79ms/step - loss_ma: 4865.2052\n",
      "42/42 [=] - 4s 98ms/step - loss_ma: 4718.0797\n",
      "42/42 [=] - 4s 91ms/step - loss_ma: 5013.4226\n",
      "42/42 [=] - 3s 77ms/step - loss_ma: 4724.6700\n",
      "42/42 [=] - 3s 81ms/step - loss_ma: 4833.8782\n",
      "42/42 [=] - 3s 77ms/step - loss_ma: 4856.0851\n",
      "42/42 [=] - 3s 75ms/step - loss_ma: 4712.9370\n",
      "42/42 [=] - 3s 74ms/step - loss_ma: 4823.7132\n",
      "42/42 [=] - 3s 77ms/step - loss_ma: 4815.2416\n",
      "42/42 [=] - 3s 76ms/step - loss_ma: 4773.1188\n",
      "42/42 [=] - 3s 75ms/step - loss_ma: 4842.6901\n",
      "42/42 [=] - 3s 77ms/step - loss_ma: 4549.5492\n",
      "42/42 [=] - 3s 81ms/step - loss_ma: 4750.4127\n",
      "42/42 [=] - 3s 83ms/step - loss_ma: 4532.8967\n",
      "42/42 [=] - 3s 79ms/step - loss_ma: 4692.0484\n",
      "42/42 [=] - 3s 75ms/step - loss_ma: 4447.4679\n",
      "42/42 [=] - 3s 74ms/step - loss_ma: 4487.6538\n",
      "42/42 [=] - 3s 79ms/step - loss_ma: 4543.5975\n",
      "42/42 [=] - 3s 83ms/step - loss_ma: 4463.7034\n",
      "42/42 [=] - 3s 76ms/step - loss_ma: 4292.2118\n",
      "42/42 [=] - 3s 77ms/step - loss_ma: 4415.3004\n",
      "42/42 [=] - 3s 83ms/step - loss_ma: 4535.2580\n",
      "42/42 [=] - 3s 75ms/step - loss_ma: 4502.8196\n",
      "42/42 [=] - 3s 79ms/step - loss_ma: 4351.0551\n",
      "42/42 [=] - 3s 75ms/step - loss_ma: 4417.6599\n",
      "42/42 [=] - 3s 76ms/step - loss_ma: 4408.5354\n",
      "42/42 [=] - 3s 78ms/step - loss_ma: 4254.8759\n",
      "42/42 [=] - 3s 76ms/step - loss_ma: 4379.1484\n",
      "42/42 [=] - 3s 82ms/step - loss_ma: 4250.9494\n",
      "42/42 [=] - 3s 77ms/step - loss_ma: 4472.3612\n",
      "42/42 [=] - 3s 75ms/step - loss_ma: 4357.6040\n",
      "42/42 [=] - 3s 74ms/step - loss_ma: 4388.2807\n"
     ]
    }
   ],
   "source": [
    "od = OutlierVAE(threshold=None,  # Threshold for outlier score\n",
    "                score_type='mse',  # Use MSE of reconstruction error for outlier detection\n",
    "                encoder_net=encoder_net,  # Can also pass VAE model instead\n",
    "                decoder_net=decoder_net,  # of separate encoder and decoder\n",
    "                latent_dim=latent_dim,\n",
    "                samples=5) # Number of samples drawn during detection for each instance to detect\n",
    "\n",
    "od.fit(inliers,\n",
    "       loss_fn=elbo, # Loss function used for training\n",
    "       cov_elbo=dict(sim=.01), # If using the elbo loss, this is the covariance matrix\n",
    "       epochs=50,\n",
    "       verbose=True)"
   ]
  },
  {
   "cell_type": "markdown",
   "metadata": {
    "id": "EGL9gc6UGMXo"
   },
   "source": [
    "We now need to set the threshold for your outlier detector. This is the score above which any instance will be considered an outlier. \n",
    "\n",
    "To do this we can make use of the `infer_threshold` function which Alibi provides. This will take a batch of data with a specified percentage of outliers, you therefore create a function to generate a dataset with a specified percentage of outliers.\n",
    "\n",
    "Alibi has a comparable function for generating batches of outlier data called `create_outlier_batch`. "
   ]
  },
  {
   "cell_type": "code",
   "execution_count": 52,
   "metadata": {
    "id": "L8GbfajFGCZV"
   },
   "outputs": [],
   "source": [
    "def generate_outlier_batch(perc_outlier=5, inliers=inliers, outliers=outliers, n_samples=1000):\n",
    "    outlier_idx = int(np.round(n_samples * (perc_outlier / 100), 0))\n",
    "    inlier_idx = int(np.round(n_samples * (1 - perc_outlier / 100), 0))\n",
    "\n",
    "    outlier_batch = outliers[:outlier_idx]\n",
    "    inlier_batch = inliers[:inlier_idx]\n",
    "\n",
    "    y_combined = np.concatenate([np.ones(len(outlier_batch)), np.zeros(len(inlier_batch))]).astype('int32')\n",
    "\n",
    "    X_combined = np.concatenate((outlier_batch, inlier_batch))\n",
    "    return X_combined, y_combined\n",
    "\n",
    "X_threshold, y_threshold = generate_outlier_batch()"
   ]
  },
  {
   "cell_type": "markdown",
   "metadata": {
    "id": "pr6dIm1h0SCD"
   },
   "source": [
    "Now we will infer the threshold:"
   ]
  },
  {
   "cell_type": "code",
   "execution_count": 53,
   "metadata": {
    "id": "CWKoCcojGaEI"
   },
   "outputs": [
    {
     "name": "stdout",
     "output_type": "stream",
     "text": [
      "New threshold: 0.613064253230152\n"
     ]
    }
   ],
   "source": [
    "perc_outlier = 5\n",
    "od.infer_threshold(X_threshold, threshold_perc=100-perc_outlier)\n",
    "print('New threshold: {}'.format(od.threshold))"
   ]
  },
  {
   "cell_type": "markdown",
   "metadata": {
    "id": "rsnoR0DZ0SCD"
   },
   "source": [
    "We can now test our threshold by generating a second batch of outlying data, this time with a higher proportion of outliers:"
   ]
  },
  {
   "cell_type": "code",
   "execution_count": 54,
   "metadata": {
    "id": "-MtuBEz8Ggqp"
   },
   "outputs": [
    {
     "name": "stdout",
     "output_type": "stream",
     "text": [
      "(1000, 6) (1000,)\n",
      "10.0% outliers\n"
     ]
    }
   ],
   "source": [
    "X_outlier, y_outlier = generate_outlier_batch(perc_outlier=10)\n",
    "print(X_outlier.shape, y_outlier.shape)\n",
    "print('{}% outliers'.format(100 * y_outlier.mean()))"
   ]
  },
  {
   "cell_type": "markdown",
   "metadata": {
    "id": "B6CeSGaf0SCE"
   },
   "source": [
    "Then we can generate outlier predictions from the new detector using the freshly created outlier batch: "
   ]
  },
  {
   "cell_type": "code",
   "execution_count": 55,
   "metadata": {
    "id": "05ss0fUU0SCE"
   },
   "outputs": [],
   "source": [
    "od_preds = od.predict(X_outlier, return_instance_score=True)"
   ]
  },
  {
   "cell_type": "markdown",
   "metadata": {
    "id": "LVACx0nm0SCE"
   },
   "source": [
    "And visualise the effectiveness of our outlier detector using a confusion matrix:"
   ]
  },
  {
   "cell_type": "code",
   "execution_count": 56,
   "metadata": {
    "id": "tOzm_Z0u0SCE"
   },
   "outputs": [
    {
     "name": "stdout",
     "output_type": "stream",
     "text": [
      "F1 score: 0.6171428571428572\n"
     ]
    },
    {
     "data": {
      "image/png": "[encoded data removed]",
      "text/plain": [
       "<Figure size 640x480 with 2 Axes>"
      ]
     },
     "metadata": {},
     "output_type": "display_data"
    }
   ],
   "source": [
    "labels = ['normal', 'outlier']\n",
    "\n",
    "y_pred = od_preds['data']['is_outlier']\n",
    "f1 = f1_score(y_outlier, y_pred)\n",
    "print('F1 score: {}'.format(f1))\n",
    "\n",
    "cm = confusion_matrix(y_outlier, y_pred)\n",
    "df_cm = pd.DataFrame(cm, index=labels, columns=labels)\n",
    "sns.heatmap(df_cm, annot=True, cbar=True, linewidths=.5)\n",
    "plt.show()"
   ]
  },
  {
   "cell_type": "markdown",
   "metadata": {
    "id": "m3JyDLsD0SCF"
   },
   "source": [
    "And then using a scatter plot and ROC curve:"
   ]
  },
  {
   "cell_type": "code",
   "execution_count": 20,
   "metadata": {
    "id": "gKHtqIwL0SCF"
   },
   "outputs": [
    {
     "data": {
      "image/png": "[encoded data removed]",
      "text/plain": [
       "<Figure size 640x480 with 1 Axes>"
      ]
     },
     "metadata": {},
     "output_type": "display_data"
    }
   ],
   "source": [
    "plot_instance_score(od_preds, y_outlier, labels, od.threshold)"
   ]
  },
  {
   "cell_type": "code",
   "execution_count": 21,
   "metadata": {
    "id": "8ik3N2BLDaf4"
   },
   "outputs": [
    {
     "data": {
      "image/png": "[encoded data removed]",
      "text/plain": [
       "<Figure size 1000x500 with 1 Axes>"
      ]
     },
     "metadata": {},
     "output_type": "display_data"
    }
   ],
   "source": [
    "roc_data = {'VAE': {'scores': od_preds['data']['instance_score'], 'labels': y_outlier}}\n",
    "plot_roc(roc_data)"
   ]
  },
  {
   "cell_type": "markdown",
   "metadata": {
    "id": "LYRFODPA0SCF"
   },
   "source": [
    "We can now save our outlier detector locally, create the `model-settings.json` file for the Outlier Detector and subsequently push the artefacts to our GCS Storage Bucket. "
   ]
  },
  {
   "cell_type": "code",
   "execution_count": 58,
   "metadata": {
    "id": "iw60AftDGcih"
   },
   "outputs": [
    {
     "name": "stdout",
     "output_type": "stream",
     "text": [
      "WARNING:tensorflow:Compiled the loaded model, but the compiled metrics have yet to be built. `model.compile_metrics` will be empty until you train or evaluate the model.\n",
      "WARNING:tensorflow:Compiled the loaded model, but the compiled metrics have yet to be built. `model.compile_metrics` will be empty until you train or evaluate the model.\n"
     ]
    }
   ],
   "source": [
    "save_detector(od, \"outlier_detector\")"
   ]
  },
  {
   "cell_type": "code",
   "execution_count": 59,
   "metadata": {},
   "outputs": [
    {
     "name": "stdout",
     "output_type": "stream",
     "text": [
      "Overwriting outlier_detector/model-settings.json\n"
     ]
    }
   ],
   "source": [
    "%%writefile outlier_detector/model-settings.json\n",
    "{\n",
    "    \"implementation\": \"mlserver_alibi_detect.AlibiDetectRuntime\"\n",
    "}"
   ]
  },
  {
   "cell_type": "code",
   "execution_count": 60,
   "metadata": {
    "id": "MDC-ziyr0SCF"
   },
   "outputs": [
    {
     "name": "stdout",
     "output_type": "stream",
     "text": [
      "Copying file://outlier_detector/OutlierVAE.dill [Content-Type=application/octet-stream]...\n",
      "Copying file://outlier_detector/model-settings.json [Content-Type=application/json]...\n",
      "Copying file://outlier_detector/meta.dill [Content-Type=application/octet-stream]...\n",
      "Copying file://outlier_detector/model/vae.ckpt.data-00000-of-00001 [Content-Type=application/octet-stream]...\n",
      "- [4 files][  7.6 KiB/  7.6 KiB]                                                \n",
      "==> NOTE: You are performing a sequence of gsutil operations that may\n",
      "run significantly faster if you instead use gsutil -m cp ... Please\n",
      "see the -m section under \"gsutil help options\" for further information\n",
      "about when gsutil -m can be advantageous.\n",
      "\n",
      "Copying file://outlier_detector/model/decoder_net.h5 [Content-Type=application/x-hdf5]...\n",
      "Copying file://outlier_detector/model/checkpoint [Content-Type=application/octet-stream]...\n",
      "Copying file://outlier_detector/model/vae.ckpt.index [Content-Type=application/octet-stream]...\n",
      "Copying file://outlier_detector/model/encoder_net.h5 [Content-Type=application/x-hdf5]...\n",
      "| [8 files][ 50.7 KiB/ 50.7 KiB]                                                \n",
      "Operation completed over 8 objects/50.7 KiB.                                     \n"
     ]
    }
   ],
   "source": [
    "!gsutil cp -r outlier_detector gs://kelly-seldon/retail-workshop/models/kelly/lr/outlier-detector"
   ]
  },
  {
   "cell_type": "markdown",
   "metadata": {
    "id": "FJEzSqxcDaf6"
   },
   "source": [
    "We can then deploy this Outlier Detector alongside our model through the Seldon Deploy Advanced UI. "
   ]
  },
  {
   "cell_type": "markdown",
   "metadata": {
    "id": "aS9Df_3MDaf6"
   },
   "source": [
    "Finally, we can test the Outlier Detector with the following inlier request:"
   ]
  },
  {
   "cell_type": "markdown",
   "metadata": {
    "id": "pLcQK3IhDaf7"
   },
   "source": [
    "```\n",
    "{\n",
    "    \"parameters\": {\n",
    "        \"content_type\": \"pd\"\n",
    "    },\n",
    "    \"inputs\": [\n",
    "        {   \n",
    "            \"name\": \"mean\",\n",
    "            \"shape\": [1,1],\n",
    "            \"datatype\": \"FP32\",\n",
    "            \"data\": [-0.43831067]\n",
    "        },\n",
    "        {   \n",
    "            \"name\": \"cat_0\",\n",
    "            \"shape\": [1,1],\n",
    "            \"datatype\": \"FP32\",\n",
    "            \"data\": [0.23457404]\n",
    "        },\n",
    "        {   \n",
    "            \"name\": \"cat_1\",\n",
    "            \"shape\": [1,1],\n",
    "            \"datatype\": \"FP32\",\n",
    "            \"data\": [-0.17366155]\n",
    "        },\n",
    "        {   \n",
    "            \"name\": \"cat_2\",\n",
    "            \"shape\": [1,1],\n",
    "            \"datatype\": \"FP32\",\n",
    "            \"data\": [0.26935668]\n",
    "        },\n",
    "        {   \n",
    "            \"name\": \"cat_3\",\n",
    "            \"shape\": [1,1],\n",
    "            \"datatype\": \"FP32\",\n",
    "            \"data\": [0.13463672]\n",
    "        },\n",
    "        {   \n",
    "            \"name\": \"cat_4\",\n",
    "            \"shape\": [1,1],\n",
    "            \"datatype\": \"FP32\",\n",
    "            \"data\": [-0.55234561]\n",
    "        }\n",
    "    ]\n",
    "}\n",
    "```"
   ]
  },
  {
   "cell_type": "markdown",
   "metadata": {
    "id": "kbBUl4IcDaf7"
   },
   "source": [
    "And then with a massive outlier:"
   ]
  },
  {
   "cell_type": "markdown",
   "metadata": {
    "id": "ODxMCudDDaf8"
   },
   "source": [
    "```\n",
    "{\n",
    "    \"parameters\": {\n",
    "        \"content_type\": \"pd\"\n",
    "    },\n",
    "    \"inputs\": [\n",
    "        {   \n",
    "            \"name\": \"mean\",\n",
    "            \"shape\": [1,1],\n",
    "            \"datatype\": \"FP32\",\n",
    "            \"data\": [10]\n",
    "        },\n",
    "        {   \n",
    "            \"name\": \"cat_0\",\n",
    "            \"shape\": [1,1],\n",
    "            \"datatype\": \"FP32\",\n",
    "            \"data\": [10]\n",
    "        },\n",
    "        {   \n",
    "            \"name\": \"cat_1\",\n",
    "            \"shape\": [1,1],\n",
    "            \"datatype\": \"FP32\",\n",
    "            \"data\": [10]\n",
    "        },\n",
    "        {   \n",
    "            \"name\": \"cat_2\",\n",
    "            \"shape\": [1,1],\n",
    "            \"datatype\": \"FP32\",\n",
    "            \"data\": [10]\n",
    "        },\n",
    "        {   \n",
    "            \"name\": \"cat_3\",\n",
    "            \"shape\": [1,1],\n",
    "            \"datatype\": \"FP32\",\n",
    "            \"data\": [10]\n",
    "        },\n",
    "        {   \n",
    "            \"name\": \"cat_4\",\n",
    "            \"shape\": [1,1],\n",
    "            \"datatype\": \"FP32\",\n",
    "            \"data\": [10]\n",
    "        }\n",
    "    ]\n",
    "}\n",
    "```"
   ]
  }
 ],
 "metadata": {
  "colab": {
   "collapsed_sections": [
    "hmI8brYLieU-"
   ],
   "name": "retail_workshop_notebook.ipynb",
   "provenance": [],
   "toc_visible": true
  },
  "kernelspec": {
   "display_name": "Python 3.8.16 ('retail-scv2')",
   "language": "python",
   "name": "python3"
  },
  "language_info": {
   "codemirror_mode": {
    "name": "ipython",
    "version": 3
   },
   "file_extension": ".py",
   "mimetype": "text/x-python",
   "name": "python",
   "nbconvert_exporter": "python",
   "pygments_lexer": "ipython3",
   "version": "3.8.16"
  },
  "vscode": {
   "interpreter": {
    "hash": "9afabfd9bb7c321bba18d7a1a382bc219782014f491116c326dabd02ecaa333e"
   }
  }
 },
 "nbformat": 4,
 "nbformat_minor": 1
}
