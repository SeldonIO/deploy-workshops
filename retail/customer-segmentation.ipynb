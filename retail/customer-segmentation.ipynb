{
 "cells": [
  {
   "cell_type": "markdown",
   "metadata": {
    "id": "BqU0bqjtRKwu"
   },
   "source": [
    "# Customer Segmentation \n",
    "\n",
    "This notebook will focus on the creation, deployment, \n",
    "monitoring and management of a machine learning model for performing \n",
    "customer segmentation. \n",
    "\n",
    "We will be using an e-commerce dataset detailing actual purchases made by  ∼ 4000 customers over a period of one year (from 2010/12/01 to 2011/12/09). \n",
    "\n",
    "In this notebook we will: \n",
    "\n",
    "- Explore a subset of the dataset\n",
    "- Train several models on the pre-processed dataset\n",
    "- Deploy trained models to Seldon \n",
    "- Train an anchor tabular explainer and update Seldon deployment with explainer\n",
    "- Train an outlier detector (variational autoencoder) and update deployment "
   ]
  },
  {
   "cell_type": "markdown",
   "metadata": {
    "id": "JCnrhNBSkOZW"
   },
   "source": [
    "### Prerequisites\n",
    "Initially, we install some additional packages which do not come out of the box with our Colab environment, and then import all of the relevant packages. "
   ]
  },
  {
   "cell_type": "code",
   "execution_count": 12,
   "metadata": {
    "id": "hNI8xSiiBd24",
    "scrolled": true
   },
   "outputs": [
    {
     "name": "stdout",
     "output_type": "stream",
     "text": [
      "Collecting seldon-deploy-sdk==1.5.0\n",
      "  Using cached seldon_deploy_sdk-1.5.0-py3-none-any.whl (807 kB)\n",
      "Requirement already satisfied: urllib3>=1.23 in /Users/josh/opt/anaconda3/envs/data-science/lib/python3.9/site-packages (from seldon-deploy-sdk==1.5.0) (1.26.5)\n",
      "Requirement already satisfied: certifi>=2017.4.17 in /Users/josh/opt/anaconda3/envs/data-science/lib/python3.9/site-packages (from seldon-deploy-sdk==1.5.0) (2021.10.8)\n",
      "Requirement already satisfied: Authlib<=0.16.0 in /Users/josh/opt/anaconda3/envs/data-science/lib/python3.9/site-packages (from seldon-deploy-sdk==1.5.0) (0.15.5)\n",
      "Requirement already satisfied: six>=1.10 in /Users/josh/opt/anaconda3/envs/data-science/lib/python3.9/site-packages (from seldon-deploy-sdk==1.5.0) (1.16.0)\n",
      "Requirement already satisfied: python-dateutil>=2.1 in /Users/josh/opt/anaconda3/envs/data-science/lib/python3.9/site-packages (from seldon-deploy-sdk==1.5.0) (2.8.2)\n",
      "Requirement already satisfied: cryptography in /Users/josh/opt/anaconda3/envs/data-science/lib/python3.9/site-packages (from Authlib<=0.16.0->seldon-deploy-sdk==1.5.0) (3.4.8)\n",
      "Requirement already satisfied: cffi>=1.12 in /Users/josh/opt/anaconda3/envs/data-science/lib/python3.9/site-packages (from cryptography->Authlib<=0.16.0->seldon-deploy-sdk==1.5.0) (1.15.0)\n",
      "Requirement already satisfied: pycparser in /Users/josh/opt/anaconda3/envs/data-science/lib/python3.9/site-packages (from cffi>=1.12->cryptography->Authlib<=0.16.0->seldon-deploy-sdk==1.5.0) (2.21)\n",
      "Installing collected packages: seldon-deploy-sdk\n",
      "  Attempting uninstall: seldon-deploy-sdk\n",
      "    Found existing installation: seldon-deploy-sdk 1.4.1.2\n",
      "    Uninstalling seldon-deploy-sdk-1.4.1.2:\n",
      "      Successfully uninstalled seldon-deploy-sdk-1.4.1.2\n",
      "Successfully installed seldon-deploy-sdk-1.5.0\n",
      "Collecting alibi==0.6.0\n",
      "  Downloading alibi-0.6.0-py3-none-any.whl (327 kB)\n",
      "\u001b[K     |████████████████████████████████| 327 kB 3.6 MB/s eta 0:00:01\n",
      "\u001b[?25hRequirement already satisfied: numpy<2.0.0,>=1.16.2 in /Users/josh/opt/anaconda3/envs/data-science/lib/python3.9/site-packages (from alibi==0.6.0) (1.21.0)\n",
      "Requirement already satisfied: spacy[lookups]<4.0.0,>=2.0.0 in /Users/josh/opt/anaconda3/envs/data-science/lib/python3.9/site-packages (from alibi==0.6.0) (3.2.1)\n",
      "Requirement already satisfied: attrs<22.0.0,>=19.2.0 in /Users/josh/opt/anaconda3/envs/data-science/lib/python3.9/site-packages (from alibi==0.6.0) (21.4.0)\n",
      "Collecting tensorflow<2.6.0,>=2.0.0\n",
      "  Downloading tensorflow-2.5.3-cp39-cp39-macosx_10_11_x86_64.whl (201.4 MB)\n",
      "\u001b[K     |████████████████████████████████| 201.4 MB 5.5 MB/s eta 0:00:011    |███████████████████████████▍    | 172.1 MB 1.3 MB/s eta 0:00:22     |███████████████████████████▍    | 172.6 MB 5.2 MB/s eta 0:00:06\n",
      "\u001b[?25hRequirement already satisfied: transformers<5.0.0,>=4.7.0 in /Users/josh/opt/anaconda3/envs/data-science/lib/python3.9/site-packages (from alibi==0.6.0) (4.16.2)\n",
      "Requirement already satisfied: dill<0.4.0,>=0.3.0 in /Users/josh/opt/anaconda3/envs/data-science/lib/python3.9/site-packages (from alibi==0.6.0) (0.3.4)\n",
      "Requirement already satisfied: requests<3.0.0,>=2.21.0 in /Users/josh/opt/anaconda3/envs/data-science/lib/python3.9/site-packages (from alibi==0.6.0) (2.27.1)\n",
      "Requirement already satisfied: pandas<2.0.0,>=0.23.3 in /Users/josh/opt/anaconda3/envs/data-science/lib/python3.9/site-packages (from alibi==0.6.0) (1.4.0)\n",
      "Requirement already satisfied: matplotlib<4.0.0,>=3.0.0 in /Users/josh/opt/anaconda3/envs/data-science/lib/python3.9/site-packages (from alibi==0.6.0) (3.5.1)\n",
      "Requirement already satisfied: Pillow<9.0,>=5.4.1 in /Users/josh/opt/anaconda3/envs/data-science/lib/python3.9/site-packages (from alibi==0.6.0) (8.4.0)\n",
      "Requirement already satisfied: scipy<2.0.0,>=1.1.0 in /Users/josh/opt/anaconda3/envs/data-science/lib/python3.9/site-packages (from alibi==0.6.0) (1.7.3)\n",
      "Collecting scikit-learn<0.25.0,>=0.20.2\n",
      "  Downloading scikit_learn-0.24.2-cp39-cp39-macosx_10_13_x86_64.whl (7.3 MB)\n",
      "\u001b[K     |████████████████████████████████| 7.3 MB 7.4 MB/s eta 0:00:01\n",
      "\u001b[?25hRequirement already satisfied: scikit-image!=0.17.1,<0.19,>=0.14.2 in /Users/josh/opt/anaconda3/envs/data-science/lib/python3.9/site-packages (from alibi==0.6.0) (0.18.3)\n",
      "Requirement already satisfied: python-dateutil>=2.7 in /Users/josh/opt/anaconda3/envs/data-science/lib/python3.9/site-packages (from matplotlib<4.0.0,>=3.0.0->alibi==0.6.0) (2.8.2)\n",
      "Requirement already satisfied: fonttools>=4.22.0 in /Users/josh/opt/anaconda3/envs/data-science/lib/python3.9/site-packages (from matplotlib<4.0.0,>=3.0.0->alibi==0.6.0) (4.29.1)\n",
      "Requirement already satisfied: kiwisolver>=1.0.1 in /Users/josh/opt/anaconda3/envs/data-science/lib/python3.9/site-packages (from matplotlib<4.0.0,>=3.0.0->alibi==0.6.0) (1.3.2)\n",
      "Requirement already satisfied: pyparsing>=2.2.1 in /Users/josh/opt/anaconda3/envs/data-science/lib/python3.9/site-packages (from matplotlib<4.0.0,>=3.0.0->alibi==0.6.0) (3.0.7)\n",
      "Requirement already satisfied: packaging>=20.0 in /Users/josh/opt/anaconda3/envs/data-science/lib/python3.9/site-packages (from matplotlib<4.0.0,>=3.0.0->alibi==0.6.0) (21.3)\n",
      "Requirement already satisfied: cycler>=0.10 in /Users/josh/opt/anaconda3/envs/data-science/lib/python3.9/site-packages (from matplotlib<4.0.0,>=3.0.0->alibi==0.6.0) (0.11.0)\n",
      "Requirement already satisfied: pytz>=2020.1 in /Users/josh/opt/anaconda3/envs/data-science/lib/python3.9/site-packages (from pandas<2.0.0,>=0.23.3->alibi==0.6.0) (2021.3)\n",
      "Requirement already satisfied: six>=1.5 in /Users/josh/opt/anaconda3/envs/data-science/lib/python3.9/site-packages (from python-dateutil>=2.7->matplotlib<4.0.0,>=3.0.0->alibi==0.6.0) (1.16.0)\n",
      "Requirement already satisfied: certifi>=2017.4.17 in /Users/josh/opt/anaconda3/envs/data-science/lib/python3.9/site-packages (from requests<3.0.0,>=2.21.0->alibi==0.6.0) (2021.10.8)\n",
      "Requirement already satisfied: urllib3<1.27,>=1.21.1 in /Users/josh/opt/anaconda3/envs/data-science/lib/python3.9/site-packages (from requests<3.0.0,>=2.21.0->alibi==0.6.0) (1.26.5)\n",
      "Requirement already satisfied: charset-normalizer~=2.0.0 in /Users/josh/opt/anaconda3/envs/data-science/lib/python3.9/site-packages (from requests<3.0.0,>=2.21.0->alibi==0.6.0) (2.0.11)\n",
      "Requirement already satisfied: idna<4,>=2.5 in /Users/josh/opt/anaconda3/envs/data-science/lib/python3.9/site-packages (from requests<3.0.0,>=2.21.0->alibi==0.6.0) (3.3)\n",
      "Requirement already satisfied: PyWavelets>=1.1.1 in /Users/josh/opt/anaconda3/envs/data-science/lib/python3.9/site-packages (from scikit-image!=0.17.1,<0.19,>=0.14.2->alibi==0.6.0) (1.2.0)\n",
      "Requirement already satisfied: networkx>=2.0 in /Users/josh/opt/anaconda3/envs/data-science/lib/python3.9/site-packages (from scikit-image!=0.17.1,<0.19,>=0.14.2->alibi==0.6.0) (2.6.3)\n",
      "Requirement already satisfied: tifffile>=2019.7.26 in /Users/josh/opt/anaconda3/envs/data-science/lib/python3.9/site-packages (from scikit-image!=0.17.1,<0.19,>=0.14.2->alibi==0.6.0) (2021.11.2)\n",
      "Requirement already satisfied: imageio>=2.3.0 in /Users/josh/opt/anaconda3/envs/data-science/lib/python3.9/site-packages (from scikit-image!=0.17.1,<0.19,>=0.14.2->alibi==0.6.0) (2.14.1)\n",
      "Requirement already satisfied: joblib>=0.11 in /Users/josh/opt/anaconda3/envs/data-science/lib/python3.9/site-packages (from scikit-learn<0.25.0,>=0.20.2->alibi==0.6.0) (1.1.0)\n",
      "Requirement already satisfied: threadpoolctl>=2.0.0 in /Users/josh/opt/anaconda3/envs/data-science/lib/python3.9/site-packages (from scikit-learn<0.25.0,>=0.20.2->alibi==0.6.0) (3.1.0)\n",
      "Requirement already satisfied: typer<0.5.0,>=0.3.0 in /Users/josh/opt/anaconda3/envs/data-science/lib/python3.9/site-packages (from spacy[lookups]<4.0.0,>=2.0.0->alibi==0.6.0) (0.4.0)\n",
      "Requirement already satisfied: tqdm<5.0.0,>=4.38.0 in /Users/josh/opt/anaconda3/envs/data-science/lib/python3.9/site-packages (from spacy[lookups]<4.0.0,>=2.0.0->alibi==0.6.0) (4.62.3)\n",
      "Requirement already satisfied: setuptools in /Users/josh/opt/anaconda3/envs/data-science/lib/python3.9/site-packages (from spacy[lookups]<4.0.0,>=2.0.0->alibi==0.6.0) (58.0.4)\n",
      "Requirement already satisfied: pydantic!=1.8,!=1.8.1,<1.9.0,>=1.7.4 in /Users/josh/opt/anaconda3/envs/data-science/lib/python3.9/site-packages (from spacy[lookups]<4.0.0,>=2.0.0->alibi==0.6.0) (1.8.2)\n",
      "Requirement already satisfied: blis<0.8.0,>=0.4.0 in /Users/josh/opt/anaconda3/envs/data-science/lib/python3.9/site-packages (from spacy[lookups]<4.0.0,>=2.0.0->alibi==0.6.0) (0.7.5)\n",
      "Requirement already satisfied: catalogue<2.1.0,>=2.0.6 in /Users/josh/opt/anaconda3/envs/data-science/lib/python3.9/site-packages (from spacy[lookups]<4.0.0,>=2.0.0->alibi==0.6.0) (2.0.6)\n",
      "Requirement already satisfied: preshed<3.1.0,>=3.0.2 in /Users/josh/opt/anaconda3/envs/data-science/lib/python3.9/site-packages (from spacy[lookups]<4.0.0,>=2.0.0->alibi==0.6.0) (3.0.6)\n",
      "Requirement already satisfied: wasabi<1.1.0,>=0.8.1 in /Users/josh/opt/anaconda3/envs/data-science/lib/python3.9/site-packages (from spacy[lookups]<4.0.0,>=2.0.0->alibi==0.6.0) (0.9.0)\n",
      "Requirement already satisfied: spacy-loggers<2.0.0,>=1.0.0 in /Users/josh/opt/anaconda3/envs/data-science/lib/python3.9/site-packages (from spacy[lookups]<4.0.0,>=2.0.0->alibi==0.6.0) (1.0.1)\n",
      "Requirement already satisfied: thinc<8.1.0,>=8.0.12 in /Users/josh/opt/anaconda3/envs/data-science/lib/python3.9/site-packages (from spacy[lookups]<4.0.0,>=2.0.0->alibi==0.6.0) (8.0.13)\n",
      "Requirement already satisfied: spacy-legacy<3.1.0,>=3.0.8 in /Users/josh/opt/anaconda3/envs/data-science/lib/python3.9/site-packages (from spacy[lookups]<4.0.0,>=2.0.0->alibi==0.6.0) (3.0.8)\n",
      "Requirement already satisfied: jinja2 in /Users/josh/opt/anaconda3/envs/data-science/lib/python3.9/site-packages (from spacy[lookups]<4.0.0,>=2.0.0->alibi==0.6.0) (3.0.3)\n",
      "Requirement already satisfied: pathy>=0.3.5 in /Users/josh/opt/anaconda3/envs/data-science/lib/python3.9/site-packages (from spacy[lookups]<4.0.0,>=2.0.0->alibi==0.6.0) (0.6.1)\n",
      "Requirement already satisfied: srsly<3.0.0,>=2.4.1 in /Users/josh/opt/anaconda3/envs/data-science/lib/python3.9/site-packages (from spacy[lookups]<4.0.0,>=2.0.0->alibi==0.6.0) (2.4.2)\n",
      "Requirement already satisfied: langcodes<4.0.0,>=3.2.0 in /Users/josh/opt/anaconda3/envs/data-science/lib/python3.9/site-packages (from spacy[lookups]<4.0.0,>=2.0.0->alibi==0.6.0) (3.3.0)\n",
      "Requirement already satisfied: cymem<2.1.0,>=2.0.2 in /Users/josh/opt/anaconda3/envs/data-science/lib/python3.9/site-packages (from spacy[lookups]<4.0.0,>=2.0.0->alibi==0.6.0) (2.0.6)\n",
      "Requirement already satisfied: murmurhash<1.1.0,>=0.28.0 in /Users/josh/opt/anaconda3/envs/data-science/lib/python3.9/site-packages (from spacy[lookups]<4.0.0,>=2.0.0->alibi==0.6.0) (1.0.6)\n",
      "Requirement already satisfied: spacy-lookups-data<1.1.0,>=1.0.3 in /Users/josh/opt/anaconda3/envs/data-science/lib/python3.9/site-packages (from spacy[lookups]<4.0.0,>=2.0.0->alibi==0.6.0) (1.0.3)\n",
      "Requirement already satisfied: smart-open<6.0.0,>=5.0.0 in /Users/josh/opt/anaconda3/envs/data-science/lib/python3.9/site-packages (from pathy>=0.3.5->spacy[lookups]<4.0.0,>=2.0.0->alibi==0.6.0) (5.2.1)\n",
      "Requirement already satisfied: typing-extensions>=3.7.4.3 in /Users/josh/opt/anaconda3/envs/data-science/lib/python3.9/site-packages (from pydantic!=1.8,!=1.8.1,<1.9.0,>=1.7.4->spacy[lookups]<4.0.0,>=2.0.0->alibi==0.6.0) (4.0.1)\n",
      "Requirement already satisfied: flatbuffers~=1.12.0 in /Users/josh/opt/anaconda3/envs/data-science/lib/python3.9/site-packages (from tensorflow<2.6.0,>=2.0.0->alibi==0.6.0) (1.12)\n",
      "Collecting h5py~=3.1.0\n",
      "  Using cached h5py-3.1.0-cp39-cp39-macosx_10_9_x86_64.whl (2.9 MB)\n",
      "Collecting grpcio~=1.34.0\n",
      "  Downloading grpcio-1.34.1-cp39-cp39-macosx_10_10_x86_64.whl (3.7 MB)\n",
      "\u001b[K     |████████████████████████████████| 3.7 MB 4.6 MB/s eta 0:00:01\n",
      "\u001b[?25hRequirement already satisfied: protobuf>=3.9.2 in /Users/josh/opt/anaconda3/envs/data-science/lib/python3.9/site-packages (from tensorflow<2.6.0,>=2.0.0->alibi==0.6.0) (3.19.4)\n",
      "Requirement already satisfied: wheel~=0.35 in /Users/josh/opt/anaconda3/envs/data-science/lib/python3.9/site-packages (from tensorflow<2.6.0,>=2.0.0->alibi==0.6.0) (0.37.1)\n",
      "Collecting numpy<2.0.0,>=1.16.2\n",
      "  Using cached numpy-1.19.5-cp39-cp39-macosx_10_9_x86_64.whl (15.6 MB)\n",
      "Collecting wrapt~=1.12.1\n",
      "  Using cached wrapt-1.12.1-cp39-cp39-macosx_10_9_x86_64.whl\n",
      "Requirement already satisfied: keras-preprocessing~=1.1.2 in /Users/josh/opt/anaconda3/envs/data-science/lib/python3.9/site-packages (from tensorflow<2.6.0,>=2.0.0->alibi==0.6.0) (1.1.2)\n",
      "Collecting tensorflow-estimator<2.6.0,>=2.5.0\n",
      "  Using cached tensorflow_estimator-2.5.0-py2.py3-none-any.whl (462 kB)\n",
      "Requirement already satisfied: termcolor~=1.1.0 in /Users/josh/opt/anaconda3/envs/data-science/lib/python3.9/site-packages (from tensorflow<2.6.0,>=2.0.0->alibi==0.6.0) (1.1.0)\n",
      "Requirement already satisfied: astunparse~=1.6.3 in /Users/josh/opt/anaconda3/envs/data-science/lib/python3.9/site-packages (from tensorflow<2.6.0,>=2.0.0->alibi==0.6.0) (1.6.3)\n",
      "Collecting keras-nightly~=2.5.0.dev\n",
      "  Using cached keras_nightly-2.5.0.dev2021032900-py2.py3-none-any.whl (1.2 MB)\n",
      "Collecting absl-py~=0.10\n",
      "  Using cached absl_py-0.15.0-py3-none-any.whl (132 kB)\n",
      "Requirement already satisfied: opt-einsum~=3.3.0 in /Users/josh/opt/anaconda3/envs/data-science/lib/python3.9/site-packages (from tensorflow<2.6.0,>=2.0.0->alibi==0.6.0) (3.3.0)\n",
      "Collecting typing-extensions>=3.7.4.3\n",
      "  Using cached typing_extensions-3.7.4.3-py3-none-any.whl (22 kB)\n",
      "Requirement already satisfied: tensorboard~=2.5 in /Users/josh/opt/anaconda3/envs/data-science/lib/python3.9/site-packages (from tensorflow<2.6.0,>=2.0.0->alibi==0.6.0) (2.8.0)\n",
      "Requirement already satisfied: gast==0.4.0 in /Users/josh/opt/anaconda3/envs/data-science/lib/python3.9/site-packages (from tensorflow<2.6.0,>=2.0.0->alibi==0.6.0) (0.4.0)\n",
      "Requirement already satisfied: google-pasta~=0.2 in /Users/josh/opt/anaconda3/envs/data-science/lib/python3.9/site-packages (from tensorflow<2.6.0,>=2.0.0->alibi==0.6.0) (0.2.0)\n",
      "Collecting six>=1.5\n",
      "  Using cached six-1.15.0-py2.py3-none-any.whl (10 kB)\n",
      "Requirement already satisfied: google-auth<3,>=1.6.3 in /Users/josh/opt/anaconda3/envs/data-science/lib/python3.9/site-packages (from tensorboard~=2.5->tensorflow<2.6.0,>=2.0.0->alibi==0.6.0) (2.6.0)\n",
      "Requirement already satisfied: markdown>=2.6.8 in /Users/josh/opt/anaconda3/envs/data-science/lib/python3.9/site-packages (from tensorboard~=2.5->tensorflow<2.6.0,>=2.0.0->alibi==0.6.0) (3.3.6)\n",
      "Requirement already satisfied: werkzeug>=0.11.15 in /Users/josh/opt/anaconda3/envs/data-science/lib/python3.9/site-packages (from tensorboard~=2.5->tensorflow<2.6.0,>=2.0.0->alibi==0.6.0) (2.0.2)\n",
      "Requirement already satisfied: google-auth-oauthlib<0.5,>=0.4.1 in /Users/josh/opt/anaconda3/envs/data-science/lib/python3.9/site-packages (from tensorboard~=2.5->tensorflow<2.6.0,>=2.0.0->alibi==0.6.0) (0.4.6)\n",
      "Requirement already satisfied: tensorboard-plugin-wit>=1.6.0 in /Users/josh/opt/anaconda3/envs/data-science/lib/python3.9/site-packages (from tensorboard~=2.5->tensorflow<2.6.0,>=2.0.0->alibi==0.6.0) (1.8.1)\n",
      "Requirement already satisfied: tensorboard-data-server<0.7.0,>=0.6.0 in /Users/josh/opt/anaconda3/envs/data-science/lib/python3.9/site-packages (from tensorboard~=2.5->tensorflow<2.6.0,>=2.0.0->alibi==0.6.0) (0.6.1)\n",
      "Requirement already satisfied: cachetools<6.0,>=2.0.0 in /Users/josh/opt/anaconda3/envs/data-science/lib/python3.9/site-packages (from google-auth<3,>=1.6.3->tensorboard~=2.5->tensorflow<2.6.0,>=2.0.0->alibi==0.6.0) (5.0.0)\n",
      "Requirement already satisfied: rsa<5,>=3.1.4 in /Users/josh/opt/anaconda3/envs/data-science/lib/python3.9/site-packages (from google-auth<3,>=1.6.3->tensorboard~=2.5->tensorflow<2.6.0,>=2.0.0->alibi==0.6.0) (4.8)\n",
      "Requirement already satisfied: pyasn1-modules>=0.2.1 in /Users/josh/opt/anaconda3/envs/data-science/lib/python3.9/site-packages (from google-auth<3,>=1.6.3->tensorboard~=2.5->tensorflow<2.6.0,>=2.0.0->alibi==0.6.0) (0.2.8)\n",
      "Requirement already satisfied: requests-oauthlib>=0.7.0 in /Users/josh/opt/anaconda3/envs/data-science/lib/python3.9/site-packages (from google-auth-oauthlib<0.5,>=0.4.1->tensorboard~=2.5->tensorflow<2.6.0,>=2.0.0->alibi==0.6.0) (1.3.1)\n",
      "Requirement already satisfied: importlib-metadata>=4.4 in /Users/josh/opt/anaconda3/envs/data-science/lib/python3.9/site-packages (from markdown>=2.6.8->tensorboard~=2.5->tensorflow<2.6.0,>=2.0.0->alibi==0.6.0) (4.10.1)\n",
      "Requirement already satisfied: zipp>=0.5 in /Users/josh/opt/anaconda3/envs/data-science/lib/python3.9/site-packages (from importlib-metadata>=4.4->markdown>=2.6.8->tensorboard~=2.5->tensorflow<2.6.0,>=2.0.0->alibi==0.6.0) (3.7.0)\n",
      "Requirement already satisfied: pyasn1<0.5.0,>=0.4.6 in /Users/josh/opt/anaconda3/envs/data-science/lib/python3.9/site-packages (from pyasn1-modules>=0.2.1->google-auth<3,>=1.6.3->tensorboard~=2.5->tensorflow<2.6.0,>=2.0.0->alibi==0.6.0) (0.4.8)\n",
      "Requirement already satisfied: oauthlib>=3.0.0 in /Users/josh/opt/anaconda3/envs/data-science/lib/python3.9/site-packages (from requests-oauthlib>=0.7.0->google-auth-oauthlib<0.5,>=0.4.1->tensorboard~=2.5->tensorflow<2.6.0,>=2.0.0->alibi==0.6.0) (3.2.0)\n",
      "Requirement already satisfied: tokenizers!=0.11.3,>=0.10.1 in /Users/josh/opt/anaconda3/envs/data-science/lib/python3.9/site-packages (from transformers<5.0.0,>=4.7.0->alibi==0.6.0) (0.11.4)\n",
      "Requirement already satisfied: sacremoses in /Users/josh/opt/anaconda3/envs/data-science/lib/python3.9/site-packages (from transformers<5.0.0,>=4.7.0->alibi==0.6.0) (0.0.47)\n",
      "Requirement already satisfied: regex!=2019.12.17 in /Users/josh/opt/anaconda3/envs/data-science/lib/python3.9/site-packages (from transformers<5.0.0,>=4.7.0->alibi==0.6.0) (2022.1.18)\n",
      "Requirement already satisfied: huggingface-hub<1.0,>=0.1.0 in /Users/josh/opt/anaconda3/envs/data-science/lib/python3.9/site-packages (from transformers<5.0.0,>=4.7.0->alibi==0.6.0) (0.4.0)\n",
      "Requirement already satisfied: filelock in /Users/josh/opt/anaconda3/envs/data-science/lib/python3.9/site-packages (from transformers<5.0.0,>=4.7.0->alibi==0.6.0) (3.4.2)\n",
      "Requirement already satisfied: pyyaml>=5.1 in /Users/josh/opt/anaconda3/envs/data-science/lib/python3.9/site-packages (from transformers<5.0.0,>=4.7.0->alibi==0.6.0) (5.4.1)\n",
      "Requirement already satisfied: click<9.0.0,>=7.1.1 in /Users/josh/opt/anaconda3/envs/data-science/lib/python3.9/site-packages (from typer<0.5.0,>=0.3.0->spacy[lookups]<4.0.0,>=2.0.0->alibi==0.6.0) (8.0.3)\n",
      "Requirement already satisfied: MarkupSafe>=2.0 in /Users/josh/opt/anaconda3/envs/data-science/lib/python3.9/site-packages (from jinja2->spacy[lookups]<4.0.0,>=2.0.0->alibi==0.6.0) (2.0.1)\n",
      "Installing collected packages: typing-extensions, six, numpy, grpcio, absl-py, wrapt, tensorflow-estimator, keras-nightly, h5py, tensorflow, scikit-learn, alibi\n",
      "  Attempting uninstall: typing-extensions\n",
      "    Found existing installation: typing-extensions 4.0.1\n",
      "    Uninstalling typing-extensions-4.0.1:\n",
      "      Successfully uninstalled typing-extensions-4.0.1\n",
      "  Attempting uninstall: six\n",
      "    Found existing installation: six 1.16.0\n",
      "    Uninstalling six-1.16.0:\n",
      "      Successfully uninstalled six-1.16.0\n",
      "  Attempting uninstall: numpy\n",
      "    Found existing installation: numpy 1.21.0\n",
      "    Uninstalling numpy-1.21.0:\n",
      "      Successfully uninstalled numpy-1.21.0\n",
      "  Attempting uninstall: grpcio\n",
      "    Found existing installation: grpcio 1.43.0\n",
      "    Uninstalling grpcio-1.43.0:\n",
      "      Successfully uninstalled grpcio-1.43.0\n",
      "  Attempting uninstall: absl-py\n",
      "    Found existing installation: absl-py 1.0.0\n",
      "    Uninstalling absl-py-1.0.0:\n",
      "      Successfully uninstalled absl-py-1.0.0\n",
      "  Attempting uninstall: wrapt\n",
      "    Found existing installation: wrapt 1.13.3\n",
      "    Uninstalling wrapt-1.13.3:\n",
      "      Successfully uninstalled wrapt-1.13.3\n",
      "  Attempting uninstall: tensorflow-estimator\n",
      "    Found existing installation: tensorflow-estimator 2.7.0\n",
      "    Uninstalling tensorflow-estimator-2.7.0:\n",
      "      Successfully uninstalled tensorflow-estimator-2.7.0\n",
      "  Attempting uninstall: h5py\n",
      "    Found existing installation: h5py 3.6.0\n",
      "    Uninstalling h5py-3.6.0:\n",
      "      Successfully uninstalled h5py-3.6.0\n",
      "  Attempting uninstall: tensorflow\n",
      "    Found existing installation: tensorflow 2.7.1\n",
      "    Uninstalling tensorflow-2.7.1:\n",
      "      Successfully uninstalled tensorflow-2.7.1\n",
      "  Attempting uninstall: scikit-learn\n",
      "    Found existing installation: scikit-learn 1.0.2\n",
      "    Uninstalling scikit-learn-1.0.2:\n",
      "      Successfully uninstalled scikit-learn-1.0.2\n",
      "  Attempting uninstall: alibi\n",
      "    Found existing installation: alibi 0.6.4\n",
      "    Uninstalling alibi-0.6.4:\n",
      "      Successfully uninstalled alibi-0.6.4\n",
      "\u001b[31mERROR: pip's dependency resolver does not currently take into account all the packages that are installed. This behaviour is the source of the following dependency conflicts.\n",
      "black 22.1.0 requires typing-extensions>=3.10.0.0; python_version < \"3.10\", but you have typing-extensions 3.7.4.3 which is incompatible.\u001b[0m\n",
      "Successfully installed absl-py-0.15.0 alibi-0.6.0 grpcio-1.34.1 h5py-3.1.0 keras-nightly-2.5.0.dev2021032900 numpy-1.19.5 scikit-learn-0.24.2 six-1.15.0 tensorflow-2.5.3 tensorflow-estimator-2.5.0 typing-extensions-3.7.4.3 wrapt-1.12.1\n",
      "Collecting alibi-detect==0.6.1\n",
      "  Using cached alibi_detect-0.6.1-py3-none-any.whl (150 kB)\n",
      "Requirement already satisfied: scikit-learn<0.25.0,>=0.20.2 in /Users/josh/opt/anaconda3/envs/data-science/lib/python3.9/site-packages (from alibi-detect==0.6.1) (0.24.2)\n",
      "Requirement already satisfied: tensorflow-probability<0.13.0,>=0.8.0 in /Users/josh/opt/anaconda3/envs/data-science/lib/python3.9/site-packages (from alibi-detect==0.6.1) (0.12.2)\n",
      "Requirement already satisfied: pandas<2.0.0,>=0.23.3 in /Users/josh/opt/anaconda3/envs/data-science/lib/python3.9/site-packages (from alibi-detect==0.6.1) (1.4.0)\n",
      "Requirement already satisfied: numpy<2.0.0,>=1.16.2 in /Users/josh/opt/anaconda3/envs/data-science/lib/python3.9/site-packages (from alibi-detect==0.6.1) (1.19.5)\n",
      "Requirement already satisfied: Pillow<9.0.0,>=5.4.1 in /Users/josh/opt/anaconda3/envs/data-science/lib/python3.9/site-packages (from alibi-detect==0.6.1) (8.4.0)\n",
      "Requirement already satisfied: transformers<5.0.0,>=2.10.0 in /Users/josh/opt/anaconda3/envs/data-science/lib/python3.9/site-packages (from alibi-detect==0.6.1) (4.16.2)\n",
      "Requirement already satisfied: scikit-image!=0.17.1,<0.19,>=0.14.2 in /Users/josh/opt/anaconda3/envs/data-science/lib/python3.9/site-packages (from alibi-detect==0.6.1) (0.18.3)\n",
      "Requirement already satisfied: scipy<2.0.0,>=1.3.0 in /Users/josh/opt/anaconda3/envs/data-science/lib/python3.9/site-packages (from alibi-detect==0.6.1) (1.7.3)\n",
      "\u001b[31mERROR: Could not find a version that satisfies the requirement tensorflow<2.5.0,>=2.0.0 (from alibi-detect) (from versions: 2.5.0, 2.5.1, 2.5.2, 2.5.3, 2.6.0rc0, 2.6.0rc1, 2.6.0rc2, 2.6.0, 2.6.1, 2.6.2, 2.6.3, 2.6.4, 2.6.5, 2.7.0rc0, 2.7.0rc1, 2.7.0, 2.7.1, 2.7.2, 2.7.3, 2.8.0rc0, 2.8.0rc1, 2.8.0, 2.8.1, 2.8.2, 2.9.0rc0, 2.9.0rc1, 2.9.0rc2, 2.9.0, 2.9.1)\u001b[0m\n",
      "\u001b[31mERROR: No matching distribution found for tensorflow<2.5.0,>=2.0.0\u001b[0m\n",
      "Requirement already satisfied: fsspec in /Users/josh/opt/anaconda3/envs/data-science/lib/python3.9/site-packages (2022.3.0)\n",
      "Collecting gcsfs\n",
      "  Downloading gcsfs-2022.5.0-py2.py3-none-any.whl (25 kB)\n",
      "Requirement already satisfied: decorator>4.1.2 in /Users/josh/opt/anaconda3/envs/data-science/lib/python3.9/site-packages (from gcsfs) (5.1.1)\n",
      "Requirement already satisfied: requests in /Users/josh/opt/anaconda3/envs/data-science/lib/python3.9/site-packages (from gcsfs) (2.27.1)\n",
      "Collecting fsspec==2022.5.0\n",
      "  Downloading fsspec-2022.5.0-py3-none-any.whl (140 kB)\n",
      "\u001b[K     |████████████████████████████████| 140 kB 1.1 MB/s eta 0:00:01\n",
      "\u001b[?25hRequirement already satisfied: aiohttp<4 in /Users/josh/opt/anaconda3/envs/data-science/lib/python3.9/site-packages (from gcsfs) (3.8.1)\n",
      "Requirement already satisfied: google-auth-oauthlib in /Users/josh/opt/anaconda3/envs/data-science/lib/python3.9/site-packages (from gcsfs) (0.4.6)\n",
      "Collecting google-cloud-storage\n",
      "  Using cached google_cloud_storage-2.3.0-py2.py3-none-any.whl (107 kB)\n",
      "Requirement already satisfied: google-auth>=1.2 in /Users/josh/opt/anaconda3/envs/data-science/lib/python3.9/site-packages (from gcsfs) (2.6.0)\n",
      "Requirement already satisfied: frozenlist>=1.1.1 in /Users/josh/opt/anaconda3/envs/data-science/lib/python3.9/site-packages (from aiohttp<4->gcsfs) (1.3.0)\n",
      "Requirement already satisfied: aiosignal>=1.1.2 in /Users/josh/opt/anaconda3/envs/data-science/lib/python3.9/site-packages (from aiohttp<4->gcsfs) (1.2.0)\n",
      "Requirement already satisfied: attrs>=17.3.0 in /Users/josh/opt/anaconda3/envs/data-science/lib/python3.9/site-packages (from aiohttp<4->gcsfs) (21.4.0)\n",
      "Requirement already satisfied: multidict<7.0,>=4.5 in /Users/josh/opt/anaconda3/envs/data-science/lib/python3.9/site-packages (from aiohttp<4->gcsfs) (6.0.2)\n",
      "Requirement already satisfied: charset-normalizer<3.0,>=2.0 in /Users/josh/opt/anaconda3/envs/data-science/lib/python3.9/site-packages (from aiohttp<4->gcsfs) (2.0.11)\n",
      "Requirement already satisfied: yarl<2.0,>=1.0 in /Users/josh/opt/anaconda3/envs/data-science/lib/python3.9/site-packages (from aiohttp<4->gcsfs) (1.7.2)\n",
      "Requirement already satisfied: async-timeout<5.0,>=4.0.0a3 in /Users/josh/opt/anaconda3/envs/data-science/lib/python3.9/site-packages (from aiohttp<4->gcsfs) (4.0.2)\n",
      "Requirement already satisfied: six>=1.9.0 in /Users/josh/opt/anaconda3/envs/data-science/lib/python3.9/site-packages (from google-auth>=1.2->gcsfs) (1.15.0)\n",
      "Requirement already satisfied: pyasn1-modules>=0.2.1 in /Users/josh/opt/anaconda3/envs/data-science/lib/python3.9/site-packages (from google-auth>=1.2->gcsfs) (0.2.8)\n",
      "Requirement already satisfied: rsa<5,>=3.1.4 in /Users/josh/opt/anaconda3/envs/data-science/lib/python3.9/site-packages (from google-auth>=1.2->gcsfs) (4.8)\n",
      "Requirement already satisfied: cachetools<6.0,>=2.0.0 in /Users/josh/opt/anaconda3/envs/data-science/lib/python3.9/site-packages (from google-auth>=1.2->gcsfs) (5.0.0)\n",
      "Requirement already satisfied: pyasn1<0.5.0,>=0.4.6 in /Users/josh/opt/anaconda3/envs/data-science/lib/python3.9/site-packages (from pyasn1-modules>=0.2.1->google-auth>=1.2->gcsfs) (0.4.8)\n",
      "Requirement already satisfied: idna>=2.0 in /Users/josh/opt/anaconda3/envs/data-science/lib/python3.9/site-packages (from yarl<2.0,>=1.0->aiohttp<4->gcsfs) (3.3)\n",
      "Requirement already satisfied: requests-oauthlib>=0.7.0 in /Users/josh/opt/anaconda3/envs/data-science/lib/python3.9/site-packages (from google-auth-oauthlib->gcsfs) (1.3.1)\n",
      "Requirement already satisfied: oauthlib>=3.0.0 in /Users/josh/opt/anaconda3/envs/data-science/lib/python3.9/site-packages (from requests-oauthlib>=0.7.0->google-auth-oauthlib->gcsfs) (3.2.0)\n",
      "Requirement already satisfied: urllib3<1.27,>=1.21.1 in /Users/josh/opt/anaconda3/envs/data-science/lib/python3.9/site-packages (from requests->gcsfs) (1.26.5)\n",
      "Requirement already satisfied: certifi>=2017.4.17 in /Users/josh/opt/anaconda3/envs/data-science/lib/python3.9/site-packages (from requests->gcsfs) (2021.10.8)\n",
      "Collecting google-api-core!=2.0.*,!=2.1.*,!=2.2.*,!=2.3.0,<3.0.0dev,>=1.31.5\n",
      "  Downloading google_api_core-2.8.1-py3-none-any.whl (114 kB)\n",
      "\u001b[K     |████████████████████████████████| 114 kB 3.5 MB/s eta 0:00:01\n",
      "\u001b[?25hCollecting google-cloud-core<3.0dev,>=2.3.0\n",
      "  Using cached google_cloud_core-2.3.0-py2.py3-none-any.whl (29 kB)\n",
      "Requirement already satisfied: protobuf in /Users/josh/opt/anaconda3/envs/data-science/lib/python3.9/site-packages (from google-cloud-storage->gcsfs) (3.19.4)\n",
      "Collecting google-resumable-media>=2.3.2\n",
      "  Downloading google_resumable_media-2.3.3-py2.py3-none-any.whl (76 kB)\n",
      "\u001b[K     |████████████████████████████████| 76 kB 3.4 MB/s eta 0:00:01\n",
      "\u001b[?25hCollecting googleapis-common-protos<2.0dev,>=1.56.2\n",
      "  Downloading googleapis_common_protos-1.56.2-py2.py3-none-any.whl (211 kB)\n",
      "\u001b[K     |████████████████████████████████| 211 kB 1.4 MB/s eta 0:00:01\n",
      "\u001b[?25hCollecting google-crc32c<2.0dev,>=1.0\n",
      "  Downloading google_crc32c-1.3.0-cp39-cp39-macosx_10_9_x86_64.whl (30 kB)\n",
      "Installing collected packages: googleapis-common-protos, google-crc32c, google-api-core, google-resumable-media, google-cloud-core, google-cloud-storage, fsspec, gcsfs\n",
      "  Attempting uninstall: fsspec\n",
      "    Found existing installation: fsspec 2022.3.0\n",
      "    Uninstalling fsspec-2022.3.0:\n",
      "      Successfully uninstalled fsspec-2022.3.0\n",
      "Successfully installed fsspec-2022.5.0 gcsfs-2022.5.0 google-api-core-2.8.1 google-cloud-core-2.3.0 google-cloud-storage-2.3.0 google-crc32c-1.3.0 google-resumable-media-2.3.3 googleapis-common-protos-1.56.2\n",
      "Requirement already satisfied: dill in /Users/josh/opt/anaconda3/envs/data-science/lib/python3.9/site-packages (0.3.4)\n"
     ]
    }
   ],
   "source": [
    "!pip install seldon-deploy-sdk==1.5.0\n",
    "!pip install alibi==0.6.0\n",
    "!pip install alibi-detect==0.6.1\n",
    "!pip install fsspec\n",
    "!pip install gcsfs\n",
    "!pip install dill"
   ]
  },
  {
   "cell_type": "code",
   "execution_count": 1,
   "metadata": {
    "id": "D9RurRkiZljs"
   },
   "outputs": [],
   "source": [
    "from sklearn import preprocessing, model_selection, metrics, feature_selection\n",
    "from sklearn.svm import SVC\n",
    "from sklearn import neighbors, linear_model, svm, tree, ensemble\n",
    "from sklearn.ensemble import AdaBoostClassifier\n",
    "from sklearn.metrics import confusion_matrix, f1_score\n",
    "from sklearn.metrics import accuracy_score\n",
    "import numpy as np\n",
    "import pickle \n",
    "import joblib\n",
    "import dill\n",
    "import os \n",
    "import matplotlib.pyplot as plt\n",
    "import seaborn as sns\n",
    "import tensorflow as tf\n",
    "import pandas as pd\n",
    "from tensorflow.keras.layers import Dense, InputLayer\n",
    "from alibi.explainers import AnchorTabular\n",
    "from alibi_detect.datasets import fetch_kdd\n",
    "from alibi_detect.models.tensorflow.losses import elbo\n",
    "from alibi_detect.od import OutlierVAE\n",
    "from alibi_detect.cd import TabularDrift\n",
    "from alibi_detect.utils.data import create_outlier_batch\n",
    "from alibi_detect.utils.fetching import fetch_detector\n",
    "from alibi_detect.utils.saving import save_detector, load_detector\n",
    "from alibi_detect.utils.visualize import plot_instance_score, plot_feature_outlier_tabular, plot_roc\n",
    "from seldon_deploy_sdk import Configuration, ApiClient, SeldonDeploymentsApi, OutlierDetectorApi, DriftDetectorApi\n",
    "from seldon_deploy_sdk.auth import OIDCAuthenticator"
   ]
  },
  {
   "cell_type": "markdown",
   "metadata": {
    "id": "Cr6yO693qzfH"
   },
   "source": [
    "We then download our pre-processed dataset to save time in getting to the exciting parts:"
   ]
  },
  {
   "cell_type": "code",
   "execution_count": null,
   "metadata": {
    "id": "QBYt8NSjqxTl"
   },
   "outputs": [],
   "source": [
    "!gsutil -m cp -r gs://tom-seldon-examples/retail-workshop/data ."
   ]
  },
  {
   "cell_type": "markdown",
   "metadata": {
    "id": "aX6yZr4FRc3t"
   },
   "source": [
    "### Data Exploration\n",
    "\n",
    "Typically e-commerce datasets are proprietary and consequently hard to find among publicly available data. However, The UCI Machine Learning Repository has curated a retail dataset containing actual transactions from 2010 and 2011. The dataset is maintained on their site, where it can be found by the title \"Online Retail\". The following description is provided via Kaggle: \n",
    "\n",
    "\"This is a transnational data set which contains all the transactions occurring between 01/12/2010 and 09/12/2011 for a UK-based and registered non-store online retail.The company mainly sells unique all-occasion gifts. Many customers of the company are wholesalers.\"\n",
    "\n",
    "We will first explore the dataset and then train models on a pre-processed version of the dataset that was transformed through following the fantastic work of Fabien Daniel whose methods are detailed in [this notebook](https://www.kaggle.com/fabiendaniel/customer-segmentation).\n",
    "\n",
    "Lets dive in and explore a subset of the dataset:"
   ]
  },
  {
   "cell_type": "code",
   "execution_count": null,
   "metadata": {
    "id": "gOYDKkTIcej4"
   },
   "outputs": [],
   "source": [
    "df_initial = pd.read_csv('data/data.csv', encoding=\"ISO-8859-1\", nrows=3000,\n",
    "                         dtype={'CustomerID': str,'InvoiceID': str})\n",
    "\n",
    "print('Dataframe dimensions:', df_initial.shape)"
   ]
  },
  {
   "cell_type": "code",
   "execution_count": null,
   "metadata": {
    "id": "aI8vVdPwSY0C"
   },
   "outputs": [],
   "source": [
    "df_initial['InvoiceDate'] = pd.to_datetime(df_initial['InvoiceDate'])\n",
    "\n",
    "# gives some infos on columns types and numer of null values\n",
    "tab_info=pd.DataFrame(df_initial.dtypes).T.rename(index={0:'column type'})\n",
    "tab_info=tab_info.append(pd.DataFrame(df_initial.isnull().sum()).T.rename(index={0:'null values (nb)'}))\n",
    "tab_info=tab_info.append(pd.DataFrame(df_initial.isnull().sum()/df_initial.shape[0]*100).T.\n",
    "                         rename(index={0:'null values (%)'}))\n",
    "display(tab_info)\n",
    "\n",
    "# show first lines\n",
    "display(df_initial[:5])"
   ]
  },
  {
   "cell_type": "markdown",
   "metadata": {
    "id": "2lD7KaiT0SBx"
   },
   "source": [
    "The dataset contains the following features: \n",
    "\n",
    "**InvoiceNo**: Invoice number. Nominal, a 6-digit integral number uniquely assigned to each transaction. If this code starts with letter 'c', it indicates a cancellation.\n",
    "\n",
    "**StockCode**: Product (item) code. Nominal, a 5-digit integral number uniquely assigned to each distinct product.\n",
    "\n",
    "**Description**: Product (item) name. Nominal.\n",
    "\n",
    "**Quantity**: The quantities of each product (item) per transaction. Numeric.\n",
    "\n",
    "**InvoiceDate**: Invice Date and time. Numeric, the day and time when each transaction was generated.\n",
    "\n",
    "**UnitPrice**: Unit price. Numeric, Product price per unit in sterling.\n",
    "\n",
    "**CustomerID**: Customer number. Nominal, a 5-digit integral number uniquely assigned to each customer.\n",
    "\n",
    "**Country**: Country name. Nominal, the name of the country where each customer resides."
   ]
  },
  {
   "cell_type": "markdown",
   "metadata": {},
   "source": [
    "As you can see, there are all kinds of weird and wonderful products being purchased:"
   ]
  },
  {
   "cell_type": "markdown",
   "metadata": {},
   "source": [
    "![](https://raw.githubusercontent.com/ribenamaplesyrup/seldon-retail-workshop/main/assets/tacky_waterbottle.jpg \"KNITTED UNION FLAG HOT WATER BOTTLE\")\n"
   ]
  },
  {
   "cell_type": "markdown",
   "metadata": {
    "id": "k2nAnRGxkOZZ"
   },
   "source": [
    "We will be training models using a transformed version of this dataset. Rather than detailing each individual item bought, the transformed dataset details the spending behavoir of each individual customer across different categories of products. We don't have any product categories in the original dataset so we create this feature through analysing keywords used within product descriptions and applying k-means clustering to create a finite number of product clusters. We find in our analysis that 5 clusters is a suitable number to seperate products without creating clusters containing too few products (calculated using silhouette score). The following wordclouds demonstrate the splits we generate:"
   ]
  },
  {
   "cell_type": "markdown",
   "metadata": {
    "id": "EXd0w4jAkOZa"
   },
   "source": [
    "<img src=\"https://raw.githubusercontent.com/ribenamaplesyrup/seldon-retail-workshop/main/assets/download.png\">"
   ]
  },
  {
   "cell_type": "markdown",
   "metadata": {
    "id": "B7HQJpFekOZa"
   },
   "source": [
    "We see that cluster no1 contains words we might associate more with gifts ('christmas', 'card', 'wrap', 'decoration') and no3 more with luxury goods ('lace', 'necklace'), although some of the other clusters are less differentiated.\n",
    "\n",
    "Based on customer spending across each of these categories of product, we can similarly use k-means to cluster customers into different segments. Performing similar analysis to how we clustered product categories, we find 11 clusters is the most suitable for segmenting customers within this dataset."
   ]
  },
  {
   "cell_type": "code",
   "execution_count": null,
   "metadata": {
    "id": "-pOElOiWkOZa"
   },
   "outputs": [],
   "source": [
    "columns = ['mean', 'categ_0', 'categ_1', 'categ_2', 'categ_3', 'categ_4' ] # change to feature_names?\n",
    "class_names = ['0','1','2','3','4','5','6','7','8','9','10']\n",
    "X_train = np.load('data/X_train.npy')\n",
    "Y_train = np.load('data/Y_train.npy')\n",
    "X_test = np.load('data/X_test.npy')\n",
    "Y_test = np.load('data/Y_test.npy')"
   ]
  },
  {
   "cell_type": "markdown",
   "metadata": {
    "id": "yXrmKzJq0SB2"
   },
   "source": [
    "The transformed dataset contains the following features specific to each unique customer:\n",
    "\n",
    "**mean**: mean spend across all transactions\n",
    "\n",
    "**categ_0**: percentage of total spend on products within category 0\n",
    "\n",
    "**categ_1**: percentage of total spend on products within category 1\n",
    "\n",
    "**categ_2**: percentage of total spend on products within category 2\n",
    "\n",
    "**categ_3**: percentage of total spend on products within category 3\n",
    "\n",
    "**categ_4**: percentage of total spend on products within category 4\n",
    "\n",
    "**customer_category**: integer signifying which of the 11 categories the customer aligns most with"
   ]
  },
  {
   "cell_type": "code",
   "execution_count": null,
   "metadata": {
    "id": "RoczMYGIkOZb"
   },
   "outputs": [],
   "source": [
    "customers = pd.DataFrame(Y_train, columns=['customer_category']).astype(dtype=int)\n",
    "spending = pd.DataFrame(X_train, columns = columns)\n",
    "transformed_dataset = pd.concat([spending, customers], axis=1)\n",
    "transformed_dataset"
   ]
  },
  {
   "cell_type": "markdown",
   "metadata": {
    "id": "iEWdnLO80SB3"
   },
   "source": [
    "We can explore the range of values across each of the features within our dataset:"
   ]
  },
  {
   "cell_type": "code",
   "execution_count": null,
   "metadata": {
    "id": "93o62rkE0SB3"
   },
   "outputs": [],
   "source": [
    "transformed_dataset.max(axis=0)"
   ]
  },
  {
   "cell_type": "code",
   "execution_count": null,
   "metadata": {
    "id": "tXPspr0X0SB4"
   },
   "outputs": [],
   "source": [
    "transformed_dataset.min(axis=0)"
   ]
  },
  {
   "cell_type": "markdown",
   "metadata": {
    "id": "ei4WoQXTZtjq"
   },
   "source": [
    "## Model Training\n",
    "\n",
    "In this section we will adjust a classifier that will classify consumers in the different client categories. "
   ]
  },
  {
   "cell_type": "code",
   "execution_count": null,
   "metadata": {
    "id": "KrM0vFLtJBnn"
   },
   "outputs": [],
   "source": [
    "# Standardise the dataset\n",
    "mean, stdev = X_train.mean(axis=0), X_train.std(axis=0)\n",
    "X_train = (X_train - mean) / stdev\n",
    "X_test = (X_test - mean) / stdev"
   ]
  },
  {
   "cell_type": "markdown",
   "metadata": {
    "id": "kZXr3-bfcrZr"
   },
   "source": [
    "### Logistic Regression"
   ]
  },
  {
   "cell_type": "code",
   "execution_count": null,
   "metadata": {
    "id": "se7kBpFlcUm1"
   },
   "outputs": [],
   "source": [
    "lr = linear_model.LogisticRegression(max_iter=4000)\n",
    "lr.fit(X_train, Y_train)"
   ]
  },
  {
   "cell_type": "code",
   "execution_count": null,
   "metadata": {
    "id": "r4mLxfzSvvAd"
   },
   "outputs": [],
   "source": [
    "accuracy_score(Y_test, lr.predict(X_test))"
   ]
  },
  {
   "cell_type": "markdown",
   "metadata": {
    "id": "kSDZtLDJ0SB5"
   },
   "source": [
    "### Gradient Boosting Classifier "
   ]
  },
  {
   "cell_type": "code",
   "execution_count": null,
   "metadata": {
    "id": "7Ck-H1eU0SB6"
   },
   "outputs": [],
   "source": [
    "gb=ensemble.GradientBoostingClassifier()\n",
    "gb.fit(X = X_train, y = Y_train)"
   ]
  },
  {
   "cell_type": "code",
   "execution_count": null,
   "metadata": {
    "id": "oLEZabim10iX"
   },
   "outputs": [],
   "source": [
    "accuracy_score(Y_test, gb.predict(X_test))"
   ]
  },
  {
   "cell_type": "code",
   "execution_count": null,
   "metadata": {
    "id": "IvFuSdmp28xt"
   },
   "outputs": [],
   "source": [
    "models = ['lr', 'gb']\n",
    "\n",
    "for model in models:\n",
    "    if not os.path.exists('models/' + model):\n",
    "        os.makedirs('models/' + model)"
   ]
  },
  {
   "cell_type": "code",
   "execution_count": null,
   "metadata": {
    "id": "yB-Y8GEP3PND"
   },
   "outputs": [],
   "source": [
    "filename = 'models/lr/model.joblib'\n",
    "joblib.dump(lr, filename)"
   ]
  },
  {
   "cell_type": "code",
   "execution_count": null,
   "metadata": {
    "id": "W7kIM8Tz3QCU"
   },
   "outputs": [],
   "source": [
    "filename = 'models/gb/model.joblib'\n",
    "joblib.dump(gb, filename)"
   ]
  },
  {
   "cell_type": "markdown",
   "metadata": {
    "id": "0zZjwLAlAoXg"
   },
   "source": [
    "### Push model artefacts to GCP\n",
    "\n",
    "To push models to GCP you will create a unique folder with your name. Uncomment the command and replace \"YOUR NAME\" with your name."
   ]
  },
  {
   "cell_type": "code",
   "execution_count": null,
   "metadata": {
    "id": "JlU3AfYG_BtN"
   },
   "outputs": [],
   "source": [
    "!gsutil cp models/lr/model.joblib gs://tom-seldon-examples/retail-workshop/models/<YOUR NAME>/lr/model.joblib\n",
    "!gsutil cp models/gb/model.joblib gs://tom-seldon-examples/retail-workshop/models/<YOUR NAME>/gb/model.joblib"
   ]
  },
  {
   "cell_type": "markdown",
   "metadata": {
    "id": "DlrAixGMA_Hs"
   },
   "source": [
    "### Deploy models to Seldon"
   ]
  },
  {
   "cell_type": "markdown",
   "metadata": {
    "id": "bS8XO97eBMGF"
   },
   "source": [
    "We can now deploy our model to the dedicated Seldon Deploy cluster which we have configured for this workshop. To do so we will interact with the Seldon Deploy SDK.\n",
    "\n",
    "First, setting up the configuration and authentication required to access the cluster. Make sure to fill in the SD_IP variable to be the same as the cluster you are using."
   ]
  },
  {
   "cell_type": "code",
   "execution_count": 1,
   "metadata": {
    "id": "FOCjkhaIBtVF"
   },
   "outputs": [],
   "source": [
    "from seldon_deploy_sdk import Configuration, ApiClient, SeldonDeploymentsApi, OutlierDetectorApi, DriftDetectorApi\n",
    "from seldon_deploy_sdk.auth import OIDCAuthenticator\n",
    "SD_IP = \"34.73.156.155\"\n",
    "\n",
    "config = Configuration()\n",
    "config.host = f\"http://{SD_IP}/seldon-deploy/api/v1alpha1\"\n",
    "config.oidc_client_id = \"sd-api\"\n",
    "config.oidc_server = f\"http://{SD_IP}/auth/realms/deploy-realm\"\n",
    "config.oidc_client_secret = \"sd-api-secret\"\n",
    "config.auth_method = 'client_credentials'\n",
    "\n",
    "def auth():\n",
    "    auth = OIDCAuthenticator(config)\n",
    "    config.id_token = auth.authenticate()\n",
    "    api_client = ApiClient(configuration=config, authenticator=auth)\n",
    "    return api_client"
   ]
  },
  {
   "cell_type": "markdown",
   "metadata": {
    "id": "V37sraULkOZf"
   },
   "source": [
    "Now we have configured the IP correctly as well as setup our authentication function we can desrcibe the deployment we would like to create.\n",
    "\n",
    "You will need to fill in the DEPLOYMENT_NAME, NAMESPACE, and the MODEL_LOCATION, the rest of the deployment description has been templated for you.\n",
    "\n",
    "You will need to create a unique deployment name. A good example format would be \"YOUR NAME\" + \"MODEL\" so \"sgreaves-lr\" in my case (be careful not to use any upper-case letters or other characters like \"_\". "
   ]
  },
  {
   "cell_type": "code",
   "execution_count": 2,
   "metadata": {
    "id": "ktWrWseb0SB8"
   },
   "outputs": [],
   "source": [
    "YOUR_NAME = \"josh\"\n",
    "MODEL_NAME = \"lr\"\n",
    "\n",
    "DEPLOYMENT_NAME = f\"{YOUR_NAME}-{MODEL_NAME}\"\n",
    "MODEL_LOCATION = f\"gs://tom-seldon-examples/retail-workshop/pretrained/lr/\""
   ]
  },
  {
   "cell_type": "code",
   "execution_count": 3,
   "metadata": {
    "id": "E7gHzz9JBwLZ"
   },
   "outputs": [],
   "source": [
    "NAMESPACE = \"seldon-demos\"\n",
    "\n",
    "PREPACKAGED_SERVER = \"SKLEARN_SERVER\"\n",
    "\n",
    "CPU_REQUESTS = \"0.1\"\n",
    "MEMORY_REQUESTS = \"1Gi\"\n",
    "\n",
    "CPU_LIMITS = \"0.1\"\n",
    "MEMORY_LIMITS = \"1Gi\"\n",
    "\n",
    "mldeployment = {\n",
    "    \"kind\": \"SeldonDeployment\",\n",
    "    \"metadata\": {\n",
    "        \"name\": DEPLOYMENT_NAME,\n",
    "        \"namespace\": NAMESPACE,\n",
    "        \"labels\": {\n",
    "            \"fluentd\": \"true\"\n",
    "        }\n",
    "    },\n",
    "    \"apiVersion\": \"machinelearning.seldon.io/v1alpha2\",\n",
    "    \"spec\": {\n",
    "        \"name\": DEPLOYMENT_NAME,\n",
    "        \"annotations\": {\n",
    "            \"seldon.io/engine-seldon-log-messages-externally\": \"true\"\n",
    "        },\n",
    "        \"protocol\": \"seldon\",\n",
    "        \"transport\": \"rest\",\n",
    "        \"predictors\": [\n",
    "            {\n",
    "                \"componentSpecs\": [\n",
    "                    {\n",
    "                        \"spec\": {\n",
    "                            \"containers\": [\n",
    "                                {\n",
    "                                    \"name\": f\"{DEPLOYMENT_NAME}-container\",\n",
    "                                    \"resources\": {\n",
    "                                        \"requests\": {\n",
    "                                            \"cpu\": CPU_REQUESTS,\n",
    "                                            \"memory\": MEMORY_REQUESTS\n",
    "                                        },\n",
    "                                        \"limits\": {\n",
    "                                            \"cpu\": CPU_LIMITS,\n",
    "                                            \"memory\": MEMORY_LIMITS\n",
    "                                        }\n",
    "                                    }\n",
    "                                }\n",
    "                            ]\n",
    "                        }\n",
    "                    }\n",
    "                ],\n",
    "                \"name\": \"default\",\n",
    "                \"replicas\": 1,\n",
    "                \"traffic\": 100,\n",
    "                \"graph\": {\n",
    "                    \"implementation\": PREPACKAGED_SERVER,\n",
    "                    \"modelUri\": MODEL_LOCATION,\n",
    "                    \"name\": f\"{DEPLOYMENT_NAME}-container\",\n",
    "                    \"endpoint\": {\n",
    "                        \"type\": \"REST\"\n",
    "                    },\n",
    "                    \"parameters\": [],\n",
    "                    \"children\": [],\n",
    "                    \"logger\": {\n",
    "                        \"mode\": \"all\"\n",
    "                    }\n",
    "                }\n",
    "            }\n",
    "        ]\n",
    "    },\n",
    "    \"status\": {}\n",
    "}"
   ]
  },
  {
   "cell_type": "markdown",
   "metadata": {
    "id": "4SXGONbMbSFW"
   },
   "source": [
    "We can now invoke the `SeldonDeploymentsApi` and create a new Seldon Deployment. \n",
    "\n",
    "Time for you to get your hands dirty. You will use the Seldon Deploy SDK to create a new Seldon deployment. You can find the reference documentation [here](https://github.com/SeldonIO/seldon-deploy-sdk/blob/master/python/README.md). "
   ]
  },
  {
   "cell_type": "code",
   "execution_count": 4,
   "metadata": {
    "id": "EeKpuObJCHA3"
   },
   "outputs": [
    {
     "ename": "ApiException",
     "evalue": "(401)\nReason: Unauthorized\nHTTP response headers: HTTPHeaderDict({'content-type': 'text/plain; charset=utf-8', 'x-content-type-options': 'nosniff', 'date': 'Wed, 08 Jun 2022 11:52:12 GMT', 'content-length': '13', 'x-envoy-upstream-service-time': '0', 'server': 'istio-envoy'})\nHTTP response body: Unauthorized\n\n",
     "output_type": "error",
     "traceback": [
      "\u001b[0;31m---------------------------------------------------------------------------\u001b[0m",
      "\u001b[0;31mApiException\u001b[0m                              Traceback (most recent call last)",
      "File \u001b[0;32m~/opt/anaconda3/envs/data-science/lib/python3.9/site-packages/seldon_deploy_sdk/api_client.py:111\u001b[0m, in \u001b[0;36mApiClient.__call_api_with_retry\u001b[0;34m(self, resource_path, method, path_params, query_params, header_params, body, post_params, files, response_type, auth_settings, _return_http_data_only, collection_formats, _preload_content, _request_timeout)\u001b[0m\n\u001b[1;32m    <a href='file:///Users/josh/opt/anaconda3/envs/data-science/lib/python3.9/site-packages/seldon_deploy_sdk/api_client.py?line=109'>110</a>\u001b[0m \u001b[39mtry\u001b[39;00m:\n\u001b[0;32m--> <a href='file:///Users/josh/opt/anaconda3/envs/data-science/lib/python3.9/site-packages/seldon_deploy_sdk/api_client.py?line=110'>111</a>\u001b[0m     \u001b[39mreturn\u001b[39;00m \u001b[39mself\u001b[39;49m\u001b[39m.\u001b[39;49m__call_api(resource_path\u001b[39m=\u001b[39;49mresource_path,method\u001b[39m=\u001b[39;49mmethod,path_params\u001b[39m=\u001b[39;49mpath_params,query_params\u001b[39m=\u001b[39;49mquery_params,\n\u001b[1;32m    <a href='file:///Users/josh/opt/anaconda3/envs/data-science/lib/python3.9/site-packages/seldon_deploy_sdk/api_client.py?line=111'>112</a>\u001b[0m                     header_params\u001b[39m=\u001b[39;49mheader_params,body\u001b[39m=\u001b[39;49mbody,post_params\u001b[39m=\u001b[39;49mpost_params,files\u001b[39m=\u001b[39;49mfiles,\n\u001b[1;32m    <a href='file:///Users/josh/opt/anaconda3/envs/data-science/lib/python3.9/site-packages/seldon_deploy_sdk/api_client.py?line=112'>113</a>\u001b[0m                     response_type\u001b[39m=\u001b[39;49mresponse_type, auth_settings\u001b[39m=\u001b[39;49mauth_settings,\n\u001b[1;32m    <a href='file:///Users/josh/opt/anaconda3/envs/data-science/lib/python3.9/site-packages/seldon_deploy_sdk/api_client.py?line=113'>114</a>\u001b[0m                     _return_http_data_only\u001b[39m=\u001b[39;49m_return_http_data_only, collection_formats\u001b[39m=\u001b[39;49mcollection_formats,\n\u001b[1;32m    <a href='file:///Users/josh/opt/anaconda3/envs/data-science/lib/python3.9/site-packages/seldon_deploy_sdk/api_client.py?line=114'>115</a>\u001b[0m                     _preload_content\u001b[39m=\u001b[39;49m_preload_content,_request_timeout\u001b[39m=\u001b[39;49m_request_timeout)\n\u001b[1;32m    <a href='file:///Users/josh/opt/anaconda3/envs/data-science/lib/python3.9/site-packages/seldon_deploy_sdk/api_client.py?line=115'>116</a>\u001b[0m \u001b[39mexcept\u001b[39;00m seldon_deploy_sdk\u001b[39m.\u001b[39mrest\u001b[39m.\u001b[39mApiException \u001b[39mas\u001b[39;00m e:\n\u001b[1;32m    <a href='file:///Users/josh/opt/anaconda3/envs/data-science/lib/python3.9/site-packages/seldon_deploy_sdk/api_client.py?line=116'>117</a>\u001b[0m     \u001b[39m#if unauthenticated and have authenticator try refreshing in case token expired\u001b[39;00m\n",
      "File \u001b[0;32m~/opt/anaconda3/envs/data-science/lib/python3.9/site-packages/seldon_deploy_sdk/api_client.py:184\u001b[0m, in \u001b[0;36mApiClient.__call_api\u001b[0;34m(self, resource_path, method, path_params, query_params, header_params, body, post_params, files, response_type, auth_settings, _return_http_data_only, collection_formats, _preload_content, _request_timeout)\u001b[0m\n\u001b[1;32m    <a href='file:///Users/josh/opt/anaconda3/envs/data-science/lib/python3.9/site-packages/seldon_deploy_sdk/api_client.py?line=182'>183</a>\u001b[0m \u001b[39m# perform request and return response\u001b[39;00m\n\u001b[0;32m--> <a href='file:///Users/josh/opt/anaconda3/envs/data-science/lib/python3.9/site-packages/seldon_deploy_sdk/api_client.py?line=183'>184</a>\u001b[0m response_data \u001b[39m=\u001b[39m \u001b[39mself\u001b[39;49m\u001b[39m.\u001b[39;49mrequest(\n\u001b[1;32m    <a href='file:///Users/josh/opt/anaconda3/envs/data-science/lib/python3.9/site-packages/seldon_deploy_sdk/api_client.py?line=184'>185</a>\u001b[0m     method, url, query_params\u001b[39m=\u001b[39;49mquery_params, headers\u001b[39m=\u001b[39;49mheader_params,\n\u001b[1;32m    <a href='file:///Users/josh/opt/anaconda3/envs/data-science/lib/python3.9/site-packages/seldon_deploy_sdk/api_client.py?line=185'>186</a>\u001b[0m     post_params\u001b[39m=\u001b[39;49mpost_params, body\u001b[39m=\u001b[39;49mbody,\n\u001b[1;32m    <a href='file:///Users/josh/opt/anaconda3/envs/data-science/lib/python3.9/site-packages/seldon_deploy_sdk/api_client.py?line=186'>187</a>\u001b[0m     _preload_content\u001b[39m=\u001b[39;49m_preload_content,\n\u001b[1;32m    <a href='file:///Users/josh/opt/anaconda3/envs/data-science/lib/python3.9/site-packages/seldon_deploy_sdk/api_client.py?line=187'>188</a>\u001b[0m     _request_timeout\u001b[39m=\u001b[39;49m_request_timeout)\n\u001b[1;32m    <a href='file:///Users/josh/opt/anaconda3/envs/data-science/lib/python3.9/site-packages/seldon_deploy_sdk/api_client.py?line=189'>190</a>\u001b[0m \u001b[39mself\u001b[39m\u001b[39m.\u001b[39mlast_response \u001b[39m=\u001b[39m response_data\n",
      "File \u001b[0;32m~/opt/anaconda3/envs/data-science/lib/python3.9/site-packages/seldon_deploy_sdk/api_client.py:394\u001b[0m, in \u001b[0;36mApiClient.request\u001b[0;34m(self, method, url, query_params, headers, post_params, body, _preload_content, _request_timeout)\u001b[0m\n\u001b[1;32m    <a href='file:///Users/josh/opt/anaconda3/envs/data-science/lib/python3.9/site-packages/seldon_deploy_sdk/api_client.py?line=392'>393</a>\u001b[0m \u001b[39melif\u001b[39;00m method \u001b[39m==\u001b[39m \u001b[39m\"\u001b[39m\u001b[39mPOST\u001b[39m\u001b[39m\"\u001b[39m:\n\u001b[0;32m--> <a href='file:///Users/josh/opt/anaconda3/envs/data-science/lib/python3.9/site-packages/seldon_deploy_sdk/api_client.py?line=393'>394</a>\u001b[0m     \u001b[39mreturn\u001b[39;00m \u001b[39mself\u001b[39;49m\u001b[39m.\u001b[39;49mrest_client\u001b[39m.\u001b[39;49mPOST(url,\n\u001b[1;32m    <a href='file:///Users/josh/opt/anaconda3/envs/data-science/lib/python3.9/site-packages/seldon_deploy_sdk/api_client.py?line=394'>395</a>\u001b[0m                                  query_params\u001b[39m=\u001b[39;49mquery_params,\n\u001b[1;32m    <a href='file:///Users/josh/opt/anaconda3/envs/data-science/lib/python3.9/site-packages/seldon_deploy_sdk/api_client.py?line=395'>396</a>\u001b[0m                                  headers\u001b[39m=\u001b[39;49mheaders,\n\u001b[1;32m    <a href='file:///Users/josh/opt/anaconda3/envs/data-science/lib/python3.9/site-packages/seldon_deploy_sdk/api_client.py?line=396'>397</a>\u001b[0m                                  post_params\u001b[39m=\u001b[39;49mpost_params,\n\u001b[1;32m    <a href='file:///Users/josh/opt/anaconda3/envs/data-science/lib/python3.9/site-packages/seldon_deploy_sdk/api_client.py?line=397'>398</a>\u001b[0m                                  _preload_content\u001b[39m=\u001b[39;49m_preload_content,\n\u001b[1;32m    <a href='file:///Users/josh/opt/anaconda3/envs/data-science/lib/python3.9/site-packages/seldon_deploy_sdk/api_client.py?line=398'>399</a>\u001b[0m                                  _request_timeout\u001b[39m=\u001b[39;49m_request_timeout,\n\u001b[1;32m    <a href='file:///Users/josh/opt/anaconda3/envs/data-science/lib/python3.9/site-packages/seldon_deploy_sdk/api_client.py?line=399'>400</a>\u001b[0m                                  body\u001b[39m=\u001b[39;49mbody)\n\u001b[1;32m    <a href='file:///Users/josh/opt/anaconda3/envs/data-science/lib/python3.9/site-packages/seldon_deploy_sdk/api_client.py?line=400'>401</a>\u001b[0m \u001b[39melif\u001b[39;00m method \u001b[39m==\u001b[39m \u001b[39m\"\u001b[39m\u001b[39mPUT\u001b[39m\u001b[39m\"\u001b[39m:\n",
      "File \u001b[0;32m~/opt/anaconda3/envs/data-science/lib/python3.9/site-packages/seldon_deploy_sdk/rest.py:269\u001b[0m, in \u001b[0;36mRESTClientObject.POST\u001b[0;34m(self, url, headers, query_params, post_params, body, _preload_content, _request_timeout)\u001b[0m\n\u001b[1;32m    <a href='file:///Users/josh/opt/anaconda3/envs/data-science/lib/python3.9/site-packages/seldon_deploy_sdk/rest.py?line=266'>267</a>\u001b[0m \u001b[39mdef\u001b[39;00m \u001b[39mPOST\u001b[39m(\u001b[39mself\u001b[39m, url, headers\u001b[39m=\u001b[39m\u001b[39mNone\u001b[39;00m, query_params\u001b[39m=\u001b[39m\u001b[39mNone\u001b[39;00m, post_params\u001b[39m=\u001b[39m\u001b[39mNone\u001b[39;00m,\n\u001b[1;32m    <a href='file:///Users/josh/opt/anaconda3/envs/data-science/lib/python3.9/site-packages/seldon_deploy_sdk/rest.py?line=267'>268</a>\u001b[0m          body\u001b[39m=\u001b[39m\u001b[39mNone\u001b[39;00m, _preload_content\u001b[39m=\u001b[39m\u001b[39mTrue\u001b[39;00m, _request_timeout\u001b[39m=\u001b[39m\u001b[39mNone\u001b[39;00m):\n\u001b[0;32m--> <a href='file:///Users/josh/opt/anaconda3/envs/data-science/lib/python3.9/site-packages/seldon_deploy_sdk/rest.py?line=268'>269</a>\u001b[0m     \u001b[39mreturn\u001b[39;00m \u001b[39mself\u001b[39;49m\u001b[39m.\u001b[39;49mrequest(\u001b[39m\"\u001b[39;49m\u001b[39mPOST\u001b[39;49m\u001b[39m\"\u001b[39;49m, url,\n\u001b[1;32m    <a href='file:///Users/josh/opt/anaconda3/envs/data-science/lib/python3.9/site-packages/seldon_deploy_sdk/rest.py?line=269'>270</a>\u001b[0m                         headers\u001b[39m=\u001b[39;49mheaders,\n\u001b[1;32m    <a href='file:///Users/josh/opt/anaconda3/envs/data-science/lib/python3.9/site-packages/seldon_deploy_sdk/rest.py?line=270'>271</a>\u001b[0m                         query_params\u001b[39m=\u001b[39;49mquery_params,\n\u001b[1;32m    <a href='file:///Users/josh/opt/anaconda3/envs/data-science/lib/python3.9/site-packages/seldon_deploy_sdk/rest.py?line=271'>272</a>\u001b[0m                         post_params\u001b[39m=\u001b[39;49mpost_params,\n\u001b[1;32m    <a href='file:///Users/josh/opt/anaconda3/envs/data-science/lib/python3.9/site-packages/seldon_deploy_sdk/rest.py?line=272'>273</a>\u001b[0m                         _preload_content\u001b[39m=\u001b[39;49m_preload_content,\n\u001b[1;32m    <a href='file:///Users/josh/opt/anaconda3/envs/data-science/lib/python3.9/site-packages/seldon_deploy_sdk/rest.py?line=273'>274</a>\u001b[0m                         _request_timeout\u001b[39m=\u001b[39;49m_request_timeout,\n\u001b[1;32m    <a href='file:///Users/josh/opt/anaconda3/envs/data-science/lib/python3.9/site-packages/seldon_deploy_sdk/rest.py?line=274'>275</a>\u001b[0m                         body\u001b[39m=\u001b[39;49mbody)\n",
      "File \u001b[0;32m~/opt/anaconda3/envs/data-science/lib/python3.9/site-packages/seldon_deploy_sdk/rest.py:228\u001b[0m, in \u001b[0;36mRESTClientObject.request\u001b[0;34m(self, method, url, query_params, headers, body, post_params, _preload_content, _request_timeout)\u001b[0m\n\u001b[1;32m    <a href='file:///Users/josh/opt/anaconda3/envs/data-science/lib/python3.9/site-packages/seldon_deploy_sdk/rest.py?line=226'>227</a>\u001b[0m \u001b[39mif\u001b[39;00m \u001b[39mnot\u001b[39;00m \u001b[39m200\u001b[39m \u001b[39m<\u001b[39m\u001b[39m=\u001b[39m r\u001b[39m.\u001b[39mstatus \u001b[39m<\u001b[39m\u001b[39m=\u001b[39m \u001b[39m299\u001b[39m:\n\u001b[0;32m--> <a href='file:///Users/josh/opt/anaconda3/envs/data-science/lib/python3.9/site-packages/seldon_deploy_sdk/rest.py?line=227'>228</a>\u001b[0m     \u001b[39mraise\u001b[39;00m ApiException(http_resp\u001b[39m=\u001b[39mr)\n\u001b[1;32m    <a href='file:///Users/josh/opt/anaconda3/envs/data-science/lib/python3.9/site-packages/seldon_deploy_sdk/rest.py?line=229'>230</a>\u001b[0m \u001b[39mreturn\u001b[39;00m r\n",
      "\u001b[0;31mApiException\u001b[0m: (401)\nReason: Unauthorized\nHTTP response headers: HTTPHeaderDict({'content-type': 'text/plain; charset=utf-8', 'x-content-type-options': 'nosniff', 'date': 'Wed, 08 Jun 2022 11:52:12 GMT', 'content-length': '13', 'x-envoy-upstream-service-time': '1', 'server': 'istio-envoy'})\nHTTP response body: Unauthorized\n\n",
      "\nDuring handling of the above exception, another exception occurred:\n",
      "\u001b[0;31mApiException\u001b[0m                              Traceback (most recent call last)",
      "\u001b[1;32m/Users/josh/Documents/job-2021/seldon/deploy-workshops/retail/customer-segmentation.ipynb Cell 42'\u001b[0m in \u001b[0;36m<module>\u001b[0;34m\u001b[0m\n\u001b[1;32m      <a href='vscode-notebook-cell:/Users/josh/Documents/job-2021/seldon/deploy-workshops/retail/customer-segmentation.ipynb#ch0000041?line=0'>1</a>\u001b[0m deployment_api \u001b[39m=\u001b[39m SeldonDeploymentsApi(auth())\n\u001b[0;32m----> <a href='vscode-notebook-cell:/Users/josh/Documents/job-2021/seldon/deploy-workshops/retail/customer-segmentation.ipynb#ch0000041?line=1'>2</a>\u001b[0m deployment_api\u001b[39m.\u001b[39;49mcreate_seldon_deployment(namespace\u001b[39m=\u001b[39;49mNAMESPACE, mldeployment\u001b[39m=\u001b[39;49mmldeployment)\n",
      "File \u001b[0;32m~/opt/anaconda3/envs/data-science/lib/python3.9/site-packages/seldon_deploy_sdk/api/seldon_deployments_api.py:58\u001b[0m, in \u001b[0;36mSeldonDeploymentsApi.create_seldon_deployment\u001b[0;34m(self, namespace, mldeployment, **kwargs)\u001b[0m\n\u001b[1;32m     <a href='file:///Users/josh/opt/anaconda3/envs/data-science/lib/python3.9/site-packages/seldon_deploy_sdk/api/seldon_deployments_api.py?line=55'>56</a>\u001b[0m     \u001b[39mreturn\u001b[39;00m \u001b[39mself\u001b[39m\u001b[39m.\u001b[39mcreate_seldon_deployment_with_http_info(namespace, mldeployment, \u001b[39m*\u001b[39m\u001b[39m*\u001b[39mkwargs)  \u001b[39m# noqa: E501\u001b[39;00m\n\u001b[1;32m     <a href='file:///Users/josh/opt/anaconda3/envs/data-science/lib/python3.9/site-packages/seldon_deploy_sdk/api/seldon_deployments_api.py?line=56'>57</a>\u001b[0m \u001b[39melse\u001b[39;00m:\n\u001b[0;32m---> <a href='file:///Users/josh/opt/anaconda3/envs/data-science/lib/python3.9/site-packages/seldon_deploy_sdk/api/seldon_deployments_api.py?line=57'>58</a>\u001b[0m     (data) \u001b[39m=\u001b[39m \u001b[39mself\u001b[39;49m\u001b[39m.\u001b[39;49mcreate_seldon_deployment_with_http_info(namespace, mldeployment, \u001b[39m*\u001b[39;49m\u001b[39m*\u001b[39;49mkwargs)  \u001b[39m# noqa: E501\u001b[39;00m\n\u001b[1;32m     <a href='file:///Users/josh/opt/anaconda3/envs/data-science/lib/python3.9/site-packages/seldon_deploy_sdk/api/seldon_deployments_api.py?line=58'>59</a>\u001b[0m     \u001b[39mreturn\u001b[39;00m data\n",
      "File \u001b[0;32m~/opt/anaconda3/envs/data-science/lib/python3.9/site-packages/seldon_deploy_sdk/api/seldon_deployments_api.py:135\u001b[0m, in \u001b[0;36mSeldonDeploymentsApi.create_seldon_deployment_with_http_info\u001b[0;34m(self, namespace, mldeployment, **kwargs)\u001b[0m\n\u001b[1;32m    <a href='file:///Users/josh/opt/anaconda3/envs/data-science/lib/python3.9/site-packages/seldon_deploy_sdk/api/seldon_deployments_api.py?line=131'>132</a>\u001b[0m \u001b[39m# Authentication setting\u001b[39;00m\n\u001b[1;32m    <a href='file:///Users/josh/opt/anaconda3/envs/data-science/lib/python3.9/site-packages/seldon_deploy_sdk/api/seldon_deployments_api.py?line=132'>133</a>\u001b[0m auth_settings \u001b[39m=\u001b[39m [\u001b[39m'\u001b[39m\u001b[39mOAuth2\u001b[39m\u001b[39m'\u001b[39m]  \u001b[39m# noqa: E501\u001b[39;00m\n\u001b[0;32m--> <a href='file:///Users/josh/opt/anaconda3/envs/data-science/lib/python3.9/site-packages/seldon_deploy_sdk/api/seldon_deployments_api.py?line=134'>135</a>\u001b[0m \u001b[39mreturn\u001b[39;00m \u001b[39mself\u001b[39;49m\u001b[39m.\u001b[39;49mapi_client\u001b[39m.\u001b[39;49mcall_api(\n\u001b[1;32m    <a href='file:///Users/josh/opt/anaconda3/envs/data-science/lib/python3.9/site-packages/seldon_deploy_sdk/api/seldon_deployments_api.py?line=135'>136</a>\u001b[0m     \u001b[39m'\u001b[39;49m\u001b[39m/namespaces/\u001b[39;49m\u001b[39m{namespace}\u001b[39;49;00m\u001b[39m/seldondeployments\u001b[39;49m\u001b[39m'\u001b[39;49m, \u001b[39m'\u001b[39;49m\u001b[39mPOST\u001b[39;49m\u001b[39m'\u001b[39;49m,\n\u001b[1;32m    <a href='file:///Users/josh/opt/anaconda3/envs/data-science/lib/python3.9/site-packages/seldon_deploy_sdk/api/seldon_deployments_api.py?line=136'>137</a>\u001b[0m     path_params,\n\u001b[1;32m    <a href='file:///Users/josh/opt/anaconda3/envs/data-science/lib/python3.9/site-packages/seldon_deploy_sdk/api/seldon_deployments_api.py?line=137'>138</a>\u001b[0m     query_params,\n\u001b[1;32m    <a href='file:///Users/josh/opt/anaconda3/envs/data-science/lib/python3.9/site-packages/seldon_deploy_sdk/api/seldon_deployments_api.py?line=138'>139</a>\u001b[0m     header_params,\n\u001b[1;32m    <a href='file:///Users/josh/opt/anaconda3/envs/data-science/lib/python3.9/site-packages/seldon_deploy_sdk/api/seldon_deployments_api.py?line=139'>140</a>\u001b[0m     body\u001b[39m=\u001b[39;49mbody_params,\n\u001b[1;32m    <a href='file:///Users/josh/opt/anaconda3/envs/data-science/lib/python3.9/site-packages/seldon_deploy_sdk/api/seldon_deployments_api.py?line=140'>141</a>\u001b[0m     post_params\u001b[39m=\u001b[39;49mform_params,\n\u001b[1;32m    <a href='file:///Users/josh/opt/anaconda3/envs/data-science/lib/python3.9/site-packages/seldon_deploy_sdk/api/seldon_deployments_api.py?line=141'>142</a>\u001b[0m     files\u001b[39m=\u001b[39;49mlocal_var_files,\n\u001b[1;32m    <a href='file:///Users/josh/opt/anaconda3/envs/data-science/lib/python3.9/site-packages/seldon_deploy_sdk/api/seldon_deployments_api.py?line=142'>143</a>\u001b[0m     response_type\u001b[39m=\u001b[39;49m\u001b[39m'\u001b[39;49m\u001b[39mSeldonDeployment\u001b[39;49m\u001b[39m'\u001b[39;49m,  \u001b[39m# noqa: E501\u001b[39;49;00m\n\u001b[1;32m    <a href='file:///Users/josh/opt/anaconda3/envs/data-science/lib/python3.9/site-packages/seldon_deploy_sdk/api/seldon_deployments_api.py?line=143'>144</a>\u001b[0m     auth_settings\u001b[39m=\u001b[39;49mauth_settings,\n\u001b[1;32m    <a href='file:///Users/josh/opt/anaconda3/envs/data-science/lib/python3.9/site-packages/seldon_deploy_sdk/api/seldon_deployments_api.py?line=144'>145</a>\u001b[0m     async_req\u001b[39m=\u001b[39;49mparams\u001b[39m.\u001b[39;49mget(\u001b[39m'\u001b[39;49m\u001b[39masync_req\u001b[39;49m\u001b[39m'\u001b[39;49m),\n\u001b[1;32m    <a href='file:///Users/josh/opt/anaconda3/envs/data-science/lib/python3.9/site-packages/seldon_deploy_sdk/api/seldon_deployments_api.py?line=145'>146</a>\u001b[0m     _return_http_data_only\u001b[39m=\u001b[39;49mparams\u001b[39m.\u001b[39;49mget(\u001b[39m'\u001b[39;49m\u001b[39m_return_http_data_only\u001b[39;49m\u001b[39m'\u001b[39;49m),\n\u001b[1;32m    <a href='file:///Users/josh/opt/anaconda3/envs/data-science/lib/python3.9/site-packages/seldon_deploy_sdk/api/seldon_deployments_api.py?line=146'>147</a>\u001b[0m     _preload_content\u001b[39m=\u001b[39;49mparams\u001b[39m.\u001b[39;49mget(\u001b[39m'\u001b[39;49m\u001b[39m_preload_content\u001b[39;49m\u001b[39m'\u001b[39;49m, \u001b[39mTrue\u001b[39;49;00m),\n\u001b[1;32m    <a href='file:///Users/josh/opt/anaconda3/envs/data-science/lib/python3.9/site-packages/seldon_deploy_sdk/api/seldon_deployments_api.py?line=147'>148</a>\u001b[0m     _request_timeout\u001b[39m=\u001b[39;49mparams\u001b[39m.\u001b[39;49mget(\u001b[39m'\u001b[39;49m\u001b[39m_request_timeout\u001b[39;49m\u001b[39m'\u001b[39;49m),\n\u001b[1;32m    <a href='file:///Users/josh/opt/anaconda3/envs/data-science/lib/python3.9/site-packages/seldon_deploy_sdk/api/seldon_deployments_api.py?line=148'>149</a>\u001b[0m     collection_formats\u001b[39m=\u001b[39;49mcollection_formats)\n",
      "File \u001b[0;32m~/opt/anaconda3/envs/data-science/lib/python3.9/site-packages/seldon_deploy_sdk/api_client.py:352\u001b[0m, in \u001b[0;36mApiClient.call_api\u001b[0;34m(self, resource_path, method, path_params, query_params, header_params, body, post_params, files, response_type, auth_settings, async_req, _return_http_data_only, collection_formats, _preload_content, _request_timeout)\u001b[0m\n\u001b[1;32m    <a href='file:///Users/josh/opt/anaconda3/envs/data-science/lib/python3.9/site-packages/seldon_deploy_sdk/api_client.py?line=314'>315</a>\u001b[0m \u001b[39m\"\"\"Makes the HTTP request (synchronous) and returns deserialized data.\u001b[39;00m\n\u001b[1;32m    <a href='file:///Users/josh/opt/anaconda3/envs/data-science/lib/python3.9/site-packages/seldon_deploy_sdk/api_client.py?line=315'>316</a>\u001b[0m \n\u001b[1;32m    <a href='file:///Users/josh/opt/anaconda3/envs/data-science/lib/python3.9/site-packages/seldon_deploy_sdk/api_client.py?line=316'>317</a>\u001b[0m \u001b[39mTo make an async request, set the async_req parameter.\u001b[39;00m\n\u001b[0;32m   (...)\u001b[0m\n\u001b[1;32m    <a href='file:///Users/josh/opt/anaconda3/envs/data-science/lib/python3.9/site-packages/seldon_deploy_sdk/api_client.py?line=348'>349</a>\u001b[0m \u001b[39m    then the method will return the response directly.\u001b[39;00m\n\u001b[1;32m    <a href='file:///Users/josh/opt/anaconda3/envs/data-science/lib/python3.9/site-packages/seldon_deploy_sdk/api_client.py?line=349'>350</a>\u001b[0m \u001b[39m\"\"\"\u001b[39;00m\n\u001b[1;32m    <a href='file:///Users/josh/opt/anaconda3/envs/data-science/lib/python3.9/site-packages/seldon_deploy_sdk/api_client.py?line=350'>351</a>\u001b[0m \u001b[39mif\u001b[39;00m \u001b[39mnot\u001b[39;00m async_req:\n\u001b[0;32m--> <a href='file:///Users/josh/opt/anaconda3/envs/data-science/lib/python3.9/site-packages/seldon_deploy_sdk/api_client.py?line=351'>352</a>\u001b[0m     \u001b[39mreturn\u001b[39;00m \u001b[39mself\u001b[39;49m\u001b[39m.\u001b[39;49m__call_api_with_retry(resource_path, method,\n\u001b[1;32m    <a href='file:///Users/josh/opt/anaconda3/envs/data-science/lib/python3.9/site-packages/seldon_deploy_sdk/api_client.py?line=352'>353</a>\u001b[0m                            path_params, query_params, header_params,\n\u001b[1;32m    <a href='file:///Users/josh/opt/anaconda3/envs/data-science/lib/python3.9/site-packages/seldon_deploy_sdk/api_client.py?line=353'>354</a>\u001b[0m                            body, post_params, files,\n\u001b[1;32m    <a href='file:///Users/josh/opt/anaconda3/envs/data-science/lib/python3.9/site-packages/seldon_deploy_sdk/api_client.py?line=354'>355</a>\u001b[0m                            response_type, auth_settings,\n\u001b[1;32m    <a href='file:///Users/josh/opt/anaconda3/envs/data-science/lib/python3.9/site-packages/seldon_deploy_sdk/api_client.py?line=355'>356</a>\u001b[0m                            _return_http_data_only, collection_formats,\n\u001b[1;32m    <a href='file:///Users/josh/opt/anaconda3/envs/data-science/lib/python3.9/site-packages/seldon_deploy_sdk/api_client.py?line=356'>357</a>\u001b[0m                            _preload_content, _request_timeout)\n\u001b[1;32m    <a href='file:///Users/josh/opt/anaconda3/envs/data-science/lib/python3.9/site-packages/seldon_deploy_sdk/api_client.py?line=357'>358</a>\u001b[0m \u001b[39melse\u001b[39;00m:\n\u001b[1;32m    <a href='file:///Users/josh/opt/anaconda3/envs/data-science/lib/python3.9/site-packages/seldon_deploy_sdk/api_client.py?line=358'>359</a>\u001b[0m     thread \u001b[39m=\u001b[39m \u001b[39mself\u001b[39m\u001b[39m.\u001b[39mpool\u001b[39m.\u001b[39mapply_async(\u001b[39mself\u001b[39m\u001b[39m.\u001b[39m__call_api_with_retry, (resource_path,\n\u001b[1;32m    <a href='file:///Users/josh/opt/anaconda3/envs/data-science/lib/python3.9/site-packages/seldon_deploy_sdk/api_client.py?line=359'>360</a>\u001b[0m                                    method, path_params, query_params,\n\u001b[1;32m    <a href='file:///Users/josh/opt/anaconda3/envs/data-science/lib/python3.9/site-packages/seldon_deploy_sdk/api_client.py?line=360'>361</a>\u001b[0m                                    header_params, body,\n\u001b[0;32m   (...)\u001b[0m\n\u001b[1;32m    <a href='file:///Users/josh/opt/anaconda3/envs/data-science/lib/python3.9/site-packages/seldon_deploy_sdk/api_client.py?line=364'>365</a>\u001b[0m                                    collection_formats,\n\u001b[1;32m    <a href='file:///Users/josh/opt/anaconda3/envs/data-science/lib/python3.9/site-packages/seldon_deploy_sdk/api_client.py?line=365'>366</a>\u001b[0m                                    _preload_content, _request_timeout))\n",
      "File \u001b[0;32m~/opt/anaconda3/envs/data-science/lib/python3.9/site-packages/seldon_deploy_sdk/api_client.py:121\u001b[0m, in \u001b[0;36mApiClient.__call_api_with_retry\u001b[0;34m(self, resource_path, method, path_params, query_params, header_params, body, post_params, files, response_type, auth_settings, _return_http_data_only, collection_formats, _preload_content, _request_timeout)\u001b[0m\n\u001b[1;32m    <a href='file:///Users/josh/opt/anaconda3/envs/data-science/lib/python3.9/site-packages/seldon_deploy_sdk/api_client.py?line=118'>119</a>\u001b[0m     token \u001b[39m=\u001b[39m \u001b[39mself\u001b[39m\u001b[39m.\u001b[39mauthenticator\u001b[39m.\u001b[39mauthenticate()\n\u001b[1;32m    <a href='file:///Users/josh/opt/anaconda3/envs/data-science/lib/python3.9/site-packages/seldon_deploy_sdk/api_client.py?line=119'>120</a>\u001b[0m     \u001b[39mself\u001b[39m\u001b[39m.\u001b[39mconfiguration\u001b[39m.\u001b[39mid_token \u001b[39m=\u001b[39m token\n\u001b[0;32m--> <a href='file:///Users/josh/opt/anaconda3/envs/data-science/lib/python3.9/site-packages/seldon_deploy_sdk/api_client.py?line=120'>121</a>\u001b[0m     \u001b[39mreturn\u001b[39;00m \u001b[39mself\u001b[39;49m\u001b[39m.\u001b[39;49m__call_api(resource_path\u001b[39m=\u001b[39;49mresource_path,method\u001b[39m=\u001b[39;49mmethod,path_params\u001b[39m=\u001b[39;49mpath_params,query_params\u001b[39m=\u001b[39;49mquery_params,\n\u001b[1;32m    <a href='file:///Users/josh/opt/anaconda3/envs/data-science/lib/python3.9/site-packages/seldon_deploy_sdk/api_client.py?line=121'>122</a>\u001b[0m                 header_params\u001b[39m=\u001b[39;49mheader_params,body\u001b[39m=\u001b[39;49mbody,post_params\u001b[39m=\u001b[39;49mpost_params,files\u001b[39m=\u001b[39;49mfiles,\n\u001b[1;32m    <a href='file:///Users/josh/opt/anaconda3/envs/data-science/lib/python3.9/site-packages/seldon_deploy_sdk/api_client.py?line=122'>123</a>\u001b[0m                 response_type\u001b[39m=\u001b[39;49mresponse_type, auth_settings\u001b[39m=\u001b[39;49mauth_settings,\n\u001b[1;32m    <a href='file:///Users/josh/opt/anaconda3/envs/data-science/lib/python3.9/site-packages/seldon_deploy_sdk/api_client.py?line=123'>124</a>\u001b[0m                 _return_http_data_only\u001b[39m=\u001b[39;49m_return_http_data_only, collection_formats\u001b[39m=\u001b[39;49mcollection_formats,\n\u001b[1;32m    <a href='file:///Users/josh/opt/anaconda3/envs/data-science/lib/python3.9/site-packages/seldon_deploy_sdk/api_client.py?line=124'>125</a>\u001b[0m                 _preload_content\u001b[39m=\u001b[39;49m_preload_content,_request_timeout\u001b[39m=\u001b[39;49m_request_timeout)\n\u001b[1;32m    <a href='file:///Users/josh/opt/anaconda3/envs/data-science/lib/python3.9/site-packages/seldon_deploy_sdk/api_client.py?line=125'>126</a>\u001b[0m \u001b[39melse\u001b[39;00m:\n\u001b[1;32m    <a href='file:///Users/josh/opt/anaconda3/envs/data-science/lib/python3.9/site-packages/seldon_deploy_sdk/api_client.py?line=126'>127</a>\u001b[0m     \u001b[39mraise\u001b[39;00m e\n",
      "File \u001b[0;32m~/opt/anaconda3/envs/data-science/lib/python3.9/site-packages/seldon_deploy_sdk/api_client.py:184\u001b[0m, in \u001b[0;36mApiClient.__call_api\u001b[0;34m(self, resource_path, method, path_params, query_params, header_params, body, post_params, files, response_type, auth_settings, _return_http_data_only, collection_formats, _preload_content, _request_timeout)\u001b[0m\n\u001b[1;32m    <a href='file:///Users/josh/opt/anaconda3/envs/data-science/lib/python3.9/site-packages/seldon_deploy_sdk/api_client.py?line=180'>181</a>\u001b[0m url \u001b[39m=\u001b[39m \u001b[39mself\u001b[39m\u001b[39m.\u001b[39mconfiguration\u001b[39m.\u001b[39mhost \u001b[39m+\u001b[39m resource_path\n\u001b[1;32m    <a href='file:///Users/josh/opt/anaconda3/envs/data-science/lib/python3.9/site-packages/seldon_deploy_sdk/api_client.py?line=182'>183</a>\u001b[0m \u001b[39m# perform request and return response\u001b[39;00m\n\u001b[0;32m--> <a href='file:///Users/josh/opt/anaconda3/envs/data-science/lib/python3.9/site-packages/seldon_deploy_sdk/api_client.py?line=183'>184</a>\u001b[0m response_data \u001b[39m=\u001b[39m \u001b[39mself\u001b[39;49m\u001b[39m.\u001b[39;49mrequest(\n\u001b[1;32m    <a href='file:///Users/josh/opt/anaconda3/envs/data-science/lib/python3.9/site-packages/seldon_deploy_sdk/api_client.py?line=184'>185</a>\u001b[0m     method, url, query_params\u001b[39m=\u001b[39;49mquery_params, headers\u001b[39m=\u001b[39;49mheader_params,\n\u001b[1;32m    <a href='file:///Users/josh/opt/anaconda3/envs/data-science/lib/python3.9/site-packages/seldon_deploy_sdk/api_client.py?line=185'>186</a>\u001b[0m     post_params\u001b[39m=\u001b[39;49mpost_params, body\u001b[39m=\u001b[39;49mbody,\n\u001b[1;32m    <a href='file:///Users/josh/opt/anaconda3/envs/data-science/lib/python3.9/site-packages/seldon_deploy_sdk/api_client.py?line=186'>187</a>\u001b[0m     _preload_content\u001b[39m=\u001b[39;49m_preload_content,\n\u001b[1;32m    <a href='file:///Users/josh/opt/anaconda3/envs/data-science/lib/python3.9/site-packages/seldon_deploy_sdk/api_client.py?line=187'>188</a>\u001b[0m     _request_timeout\u001b[39m=\u001b[39;49m_request_timeout)\n\u001b[1;32m    <a href='file:///Users/josh/opt/anaconda3/envs/data-science/lib/python3.9/site-packages/seldon_deploy_sdk/api_client.py?line=189'>190</a>\u001b[0m \u001b[39mself\u001b[39m\u001b[39m.\u001b[39mlast_response \u001b[39m=\u001b[39m response_data\n\u001b[1;32m    <a href='file:///Users/josh/opt/anaconda3/envs/data-science/lib/python3.9/site-packages/seldon_deploy_sdk/api_client.py?line=191'>192</a>\u001b[0m return_data \u001b[39m=\u001b[39m response_data\n",
      "File \u001b[0;32m~/opt/anaconda3/envs/data-science/lib/python3.9/site-packages/seldon_deploy_sdk/api_client.py:394\u001b[0m, in \u001b[0;36mApiClient.request\u001b[0;34m(self, method, url, query_params, headers, post_params, body, _preload_content, _request_timeout)\u001b[0m\n\u001b[1;32m    <a href='file:///Users/josh/opt/anaconda3/envs/data-science/lib/python3.9/site-packages/seldon_deploy_sdk/api_client.py?line=385'>386</a>\u001b[0m     \u001b[39mreturn\u001b[39;00m \u001b[39mself\u001b[39m\u001b[39m.\u001b[39mrest_client\u001b[39m.\u001b[39mOPTIONS(url,\n\u001b[1;32m    <a href='file:///Users/josh/opt/anaconda3/envs/data-science/lib/python3.9/site-packages/seldon_deploy_sdk/api_client.py?line=386'>387</a>\u001b[0m                                     query_params\u001b[39m=\u001b[39mquery_params,\n\u001b[1;32m    <a href='file:///Users/josh/opt/anaconda3/envs/data-science/lib/python3.9/site-packages/seldon_deploy_sdk/api_client.py?line=387'>388</a>\u001b[0m                                     headers\u001b[39m=\u001b[39mheaders,\n\u001b[0;32m   (...)\u001b[0m\n\u001b[1;32m    <a href='file:///Users/josh/opt/anaconda3/envs/data-science/lib/python3.9/site-packages/seldon_deploy_sdk/api_client.py?line=390'>391</a>\u001b[0m                                     _request_timeout\u001b[39m=\u001b[39m_request_timeout,\n\u001b[1;32m    <a href='file:///Users/josh/opt/anaconda3/envs/data-science/lib/python3.9/site-packages/seldon_deploy_sdk/api_client.py?line=391'>392</a>\u001b[0m                                     body\u001b[39m=\u001b[39mbody)\n\u001b[1;32m    <a href='file:///Users/josh/opt/anaconda3/envs/data-science/lib/python3.9/site-packages/seldon_deploy_sdk/api_client.py?line=392'>393</a>\u001b[0m \u001b[39melif\u001b[39;00m method \u001b[39m==\u001b[39m \u001b[39m\"\u001b[39m\u001b[39mPOST\u001b[39m\u001b[39m\"\u001b[39m:\n\u001b[0;32m--> <a href='file:///Users/josh/opt/anaconda3/envs/data-science/lib/python3.9/site-packages/seldon_deploy_sdk/api_client.py?line=393'>394</a>\u001b[0m     \u001b[39mreturn\u001b[39;00m \u001b[39mself\u001b[39;49m\u001b[39m.\u001b[39;49mrest_client\u001b[39m.\u001b[39;49mPOST(url,\n\u001b[1;32m    <a href='file:///Users/josh/opt/anaconda3/envs/data-science/lib/python3.9/site-packages/seldon_deploy_sdk/api_client.py?line=394'>395</a>\u001b[0m                                  query_params\u001b[39m=\u001b[39;49mquery_params,\n\u001b[1;32m    <a href='file:///Users/josh/opt/anaconda3/envs/data-science/lib/python3.9/site-packages/seldon_deploy_sdk/api_client.py?line=395'>396</a>\u001b[0m                                  headers\u001b[39m=\u001b[39;49mheaders,\n\u001b[1;32m    <a href='file:///Users/josh/opt/anaconda3/envs/data-science/lib/python3.9/site-packages/seldon_deploy_sdk/api_client.py?line=396'>397</a>\u001b[0m                                  post_params\u001b[39m=\u001b[39;49mpost_params,\n\u001b[1;32m    <a href='file:///Users/josh/opt/anaconda3/envs/data-science/lib/python3.9/site-packages/seldon_deploy_sdk/api_client.py?line=397'>398</a>\u001b[0m                                  _preload_content\u001b[39m=\u001b[39;49m_preload_content,\n\u001b[1;32m    <a href='file:///Users/josh/opt/anaconda3/envs/data-science/lib/python3.9/site-packages/seldon_deploy_sdk/api_client.py?line=398'>399</a>\u001b[0m                                  _request_timeout\u001b[39m=\u001b[39;49m_request_timeout,\n\u001b[1;32m    <a href='file:///Users/josh/opt/anaconda3/envs/data-science/lib/python3.9/site-packages/seldon_deploy_sdk/api_client.py?line=399'>400</a>\u001b[0m                                  body\u001b[39m=\u001b[39;49mbody)\n\u001b[1;32m    <a href='file:///Users/josh/opt/anaconda3/envs/data-science/lib/python3.9/site-packages/seldon_deploy_sdk/api_client.py?line=400'>401</a>\u001b[0m \u001b[39melif\u001b[39;00m method \u001b[39m==\u001b[39m \u001b[39m\"\u001b[39m\u001b[39mPUT\u001b[39m\u001b[39m\"\u001b[39m:\n\u001b[1;32m    <a href='file:///Users/josh/opt/anaconda3/envs/data-science/lib/python3.9/site-packages/seldon_deploy_sdk/api_client.py?line=401'>402</a>\u001b[0m     \u001b[39mreturn\u001b[39;00m \u001b[39mself\u001b[39m\u001b[39m.\u001b[39mrest_client\u001b[39m.\u001b[39mPUT(url,\n\u001b[1;32m    <a href='file:///Users/josh/opt/anaconda3/envs/data-science/lib/python3.9/site-packages/seldon_deploy_sdk/api_client.py?line=402'>403</a>\u001b[0m                                 query_params\u001b[39m=\u001b[39mquery_params,\n\u001b[1;32m    <a href='file:///Users/josh/opt/anaconda3/envs/data-science/lib/python3.9/site-packages/seldon_deploy_sdk/api_client.py?line=403'>404</a>\u001b[0m                                 headers\u001b[39m=\u001b[39mheaders,\n\u001b[0;32m   (...)\u001b[0m\n\u001b[1;32m    <a href='file:///Users/josh/opt/anaconda3/envs/data-science/lib/python3.9/site-packages/seldon_deploy_sdk/api_client.py?line=406'>407</a>\u001b[0m                                 _request_timeout\u001b[39m=\u001b[39m_request_timeout,\n\u001b[1;32m    <a href='file:///Users/josh/opt/anaconda3/envs/data-science/lib/python3.9/site-packages/seldon_deploy_sdk/api_client.py?line=407'>408</a>\u001b[0m                                 body\u001b[39m=\u001b[39mbody)\n",
      "File \u001b[0;32m~/opt/anaconda3/envs/data-science/lib/python3.9/site-packages/seldon_deploy_sdk/rest.py:269\u001b[0m, in \u001b[0;36mRESTClientObject.POST\u001b[0;34m(self, url, headers, query_params, post_params, body, _preload_content, _request_timeout)\u001b[0m\n\u001b[1;32m    <a href='file:///Users/josh/opt/anaconda3/envs/data-science/lib/python3.9/site-packages/seldon_deploy_sdk/rest.py?line=266'>267</a>\u001b[0m \u001b[39mdef\u001b[39;00m \u001b[39mPOST\u001b[39m(\u001b[39mself\u001b[39m, url, headers\u001b[39m=\u001b[39m\u001b[39mNone\u001b[39;00m, query_params\u001b[39m=\u001b[39m\u001b[39mNone\u001b[39;00m, post_params\u001b[39m=\u001b[39m\u001b[39mNone\u001b[39;00m,\n\u001b[1;32m    <a href='file:///Users/josh/opt/anaconda3/envs/data-science/lib/python3.9/site-packages/seldon_deploy_sdk/rest.py?line=267'>268</a>\u001b[0m          body\u001b[39m=\u001b[39m\u001b[39mNone\u001b[39;00m, _preload_content\u001b[39m=\u001b[39m\u001b[39mTrue\u001b[39;00m, _request_timeout\u001b[39m=\u001b[39m\u001b[39mNone\u001b[39;00m):\n\u001b[0;32m--> <a href='file:///Users/josh/opt/anaconda3/envs/data-science/lib/python3.9/site-packages/seldon_deploy_sdk/rest.py?line=268'>269</a>\u001b[0m     \u001b[39mreturn\u001b[39;00m \u001b[39mself\u001b[39;49m\u001b[39m.\u001b[39;49mrequest(\u001b[39m\"\u001b[39;49m\u001b[39mPOST\u001b[39;49m\u001b[39m\"\u001b[39;49m, url,\n\u001b[1;32m    <a href='file:///Users/josh/opt/anaconda3/envs/data-science/lib/python3.9/site-packages/seldon_deploy_sdk/rest.py?line=269'>270</a>\u001b[0m                         headers\u001b[39m=\u001b[39;49mheaders,\n\u001b[1;32m    <a href='file:///Users/josh/opt/anaconda3/envs/data-science/lib/python3.9/site-packages/seldon_deploy_sdk/rest.py?line=270'>271</a>\u001b[0m                         query_params\u001b[39m=\u001b[39;49mquery_params,\n\u001b[1;32m    <a href='file:///Users/josh/opt/anaconda3/envs/data-science/lib/python3.9/site-packages/seldon_deploy_sdk/rest.py?line=271'>272</a>\u001b[0m                         post_params\u001b[39m=\u001b[39;49mpost_params,\n\u001b[1;32m    <a href='file:///Users/josh/opt/anaconda3/envs/data-science/lib/python3.9/site-packages/seldon_deploy_sdk/rest.py?line=272'>273</a>\u001b[0m                         _preload_content\u001b[39m=\u001b[39;49m_preload_content,\n\u001b[1;32m    <a href='file:///Users/josh/opt/anaconda3/envs/data-science/lib/python3.9/site-packages/seldon_deploy_sdk/rest.py?line=273'>274</a>\u001b[0m                         _request_timeout\u001b[39m=\u001b[39;49m_request_timeout,\n\u001b[1;32m    <a href='file:///Users/josh/opt/anaconda3/envs/data-science/lib/python3.9/site-packages/seldon_deploy_sdk/rest.py?line=274'>275</a>\u001b[0m                         body\u001b[39m=\u001b[39;49mbody)\n",
      "File \u001b[0;32m~/opt/anaconda3/envs/data-science/lib/python3.9/site-packages/seldon_deploy_sdk/rest.py:228\u001b[0m, in \u001b[0;36mRESTClientObject.request\u001b[0;34m(self, method, url, query_params, headers, body, post_params, _preload_content, _request_timeout)\u001b[0m\n\u001b[1;32m    <a href='file:///Users/josh/opt/anaconda3/envs/data-science/lib/python3.9/site-packages/seldon_deploy_sdk/rest.py?line=224'>225</a>\u001b[0m     logger\u001b[39m.\u001b[39mdebug(\u001b[39m\"\u001b[39m\u001b[39mresponse body: \u001b[39m\u001b[39m%s\u001b[39;00m\u001b[39m\"\u001b[39m, r\u001b[39m.\u001b[39mdata)\n\u001b[1;32m    <a href='file:///Users/josh/opt/anaconda3/envs/data-science/lib/python3.9/site-packages/seldon_deploy_sdk/rest.py?line=226'>227</a>\u001b[0m \u001b[39mif\u001b[39;00m \u001b[39mnot\u001b[39;00m \u001b[39m200\u001b[39m \u001b[39m<\u001b[39m\u001b[39m=\u001b[39m r\u001b[39m.\u001b[39mstatus \u001b[39m<\u001b[39m\u001b[39m=\u001b[39m \u001b[39m299\u001b[39m:\n\u001b[0;32m--> <a href='file:///Users/josh/opt/anaconda3/envs/data-science/lib/python3.9/site-packages/seldon_deploy_sdk/rest.py?line=227'>228</a>\u001b[0m     \u001b[39mraise\u001b[39;00m ApiException(http_resp\u001b[39m=\u001b[39mr)\n\u001b[1;32m    <a href='file:///Users/josh/opt/anaconda3/envs/data-science/lib/python3.9/site-packages/seldon_deploy_sdk/rest.py?line=229'>230</a>\u001b[0m \u001b[39mreturn\u001b[39;00m r\n",
      "\u001b[0;31mApiException\u001b[0m: (401)\nReason: Unauthorized\nHTTP response headers: HTTPHeaderDict({'content-type': 'text/plain; charset=utf-8', 'x-content-type-options': 'nosniff', 'date': 'Wed, 08 Jun 2022 11:52:12 GMT', 'content-length': '13', 'x-envoy-upstream-service-time': '0', 'server': 'istio-envoy'})\nHTTP response body: Unauthorized\n\n"
     ]
    }
   ],
   "source": [
    "deployment_api = SeldonDeploymentsApi(auth())\n",
    "deployment_api.create_seldon_deployment(namespace=NAMESPACE, mldeployment=mldeployment)"
   ]
  },
  {
   "cell_type": "markdown",
   "metadata": {
    "id": "JOmBKqU_0SB9"
   },
   "source": [
    "Our model should now be running as a fully fledged microservice. We can now log into Seldon Deploy and test our deployment: \n",
    "\n",
    "* URL: http://34.147.53.165/seldon-deploy/\n"
   ]
  },
  {
   "cell_type": "code",
   "execution_count": null,
   "metadata": {
    "id": "P4wwbCTT0SB9"
   },
   "outputs": [],
   "source": [
    "# test model with this request: \n",
    "{\"data\": {\"ndarray\": [[-0.43831067,  0.23457404, -0.17366155,  0.26935668,  0.13463672, -0.55234561]]}}"
   ]
  },
  {
   "cell_type": "markdown",
   "metadata": {},
   "source": [
    "### Model wrapping (aside)"
   ]
  },
  {
   "cell_type": "markdown",
   "metadata": {},
   "source": [
    "To deploy our models we didn't need to build a server as there already exists containers for serving scikit-learn and xgboost models that we could use when defining `implementation` within our inference graph. This will not always be the case and we will often need to build our own server. Seldon Core can be used to server models based in Python, Java, R, Node and Go. We can use Seldon Core to build two kinds of server, reusable and non-reusable: "
   ]
  },
  {
   "cell_type": "markdown",
   "metadata": {},
   "source": [
    "![](https://raw.githubusercontent.com/ribenamaplesyrup/seldon-retail-workshop/main/assets/servers.png \"Reusable and non-reusable servers\")"
   ]
  },
  {
   "cell_type": "markdown",
   "metadata": {},
   "source": [
    "Reusable servers allow us to provide a `model uri` parameter so we can serve different models every time we deploy without needing to build a new server. Non-reusable servers wrap models within the container and so if we want to deploy a new model, we need to build a new server.\n",
    "\n",
    "The process for wrapping python models in a non-reusable server is covered within the [Seldon Core documentation](https://docs.seldon.io/projects/seldon-core/en/latest/python/index.html) and within this [simple guide](https://docs.google.com/presentation/d/1wzs_Xfw0iGXYvPkas9VWO4cvW6xvtwHeNclw0m9ej0M/edit?usp=sharing) for wrapping a scikit-learn model trained on the iris dataset. Included within the `wrapper` directory in this repo are the files required to wrap an example model: \n",
    "\n",
    "- model class (CustomSegmenter.py)\n",
    "- model artefact (models/lr/model.joblib)\n",
    "- dependencies (requirements.txt)\n",
    "- environment (.s2i/environment)\n",
    "- optional testing scripts (test.py & container_test.py)\n",
    "\n",
    "You can have a go at wrapping the model stored within the `wrapper` directory by installing the [Source-2-Image tool](https://github.com/openshift/source-to-image) and running the following command within the wrapper directory to build a container: \n",
    "\n",
    "`s2i build . seldonio/seldon-core-s2i-python3:1.12.0-dev customer-segmenter:0.1`"
   ]
  },
  {
   "cell_type": "markdown",
   "metadata": {
    "id": "rjspFW0AFlHS"
   },
   "source": [
    "## Explainer\n",
    "\n",
    "Next, we shall train an explainer to glean deeper insights into the decisions being made by our model. We will make use of the Anchors algorithm, which has a [production grade implementation available](https://docs.seldon.io/projects/alibi/en/stable/methods/Anchors.html) using the Seldon Alibi Explain library. \n",
    "\n",
    "The algorithm provides model-agnostic (black box) and human interpretable explanations suitable for classification models applied to images, text and tabular data. The idea behind anchors is to explain the behaviour of complex models with high-precision rules called anchors. These anchors are locally sufficient conditions to ensure a certain prediction with a high degree of confidence. Anchor algorithms incorporate coverage, which is the region the explanation applies within and are optimised to maximize coverage.\n",
    "\n",
    "As an example of anchors for tabular data, if we want to predict whether a person makes less or more than £50,000 per year based on the person’s characteristics including age (continuous variable) and marital status (categorical variable), then the following would be a potential anchor: Hugo makes more than £50,000 because he is married and his age is between 35 and 45 years.\n",
    "\n",
    "The first step will be to write a simple prediction function which the explainer can call in order to query our logistic regression model."
   ]
  },
  {
   "cell_type": "code",
   "execution_count": null,
   "metadata": {
    "id": "BMowappmHKz1"
   },
   "outputs": [],
   "source": [
    "predict_fn = lambda x: lr.predict(x)"
   ]
  },
  {
   "cell_type": "markdown",
   "metadata": {
    "id": "5NcaGOy50SB-"
   },
   "source": [
    "We then initialise our Anchor explainer, using the AnchorTabular flavour provided by Alibi due to our data modality."
   ]
  },
  {
   "cell_type": "code",
   "execution_count": null,
   "metadata": {
    "id": "zNLvR53vG7Yb"
   },
   "outputs": [],
   "source": [
    "explainer = AnchorTabular(predict_fn, columns)"
   ]
  },
  {
   "cell_type": "markdown",
   "metadata": {
    "id": "xZsZQIRlaHtc"
   },
   "source": [
    "We will now train our explainer. We need to specify percentages that our model will use to discretize continuous numerical data into intervals. Generally we observe that if we choose smaller percentages (finer discretization), this will lead to longer runtime and potentially higher precision. "
   ]
  },
  {
   "cell_type": "code",
   "execution_count": null,
   "metadata": {
    "id": "RQc3nvlIHofS"
   },
   "outputs": [],
   "source": [
    "explainer.fit(X_train, disc_perc=(25, 50, 75))"
   ]
  },
  {
   "cell_type": "markdown",
   "metadata": {
    "id": "t-rTSwPD0SB_"
   },
   "source": [
    "We can now test our explainer by generating a prediction."
   ]
  },
  {
   "cell_type": "code",
   "execution_count": null,
   "metadata": {
    "id": "8AgHZXu3Hr52"
   },
   "outputs": [],
   "source": [
    "idx = 0\n",
    "print('Prediction: ', class_names[explainer.predictor(X_test[idx].reshape(1, -1))[0]])"
   ]
  },
  {
   "cell_type": "code",
   "execution_count": null,
   "metadata": {
    "id": "_FD98jlOI15c"
   },
   "outputs": [],
   "source": [
    "explanation = explainer.explain(X_test[idx], threshold=0.9)\n",
    "print('Anchor: %s' % (' AND '.join(explanation.anchor)))\n",
    "print('Precision: %.2f' % explanation.precision)\n",
    "print('Coverage: %.2f' % explanation.coverage)"
   ]
  },
  {
   "cell_type": "markdown",
   "metadata": {
    "id": "--T6Hu96_W6A"
   },
   "source": [
    "We use dill to serialise our explainer:"
   ]
  },
  {
   "cell_type": "code",
   "execution_count": null,
   "metadata": {
    "id": "G6LUjpMSI-BP"
   },
   "outputs": [],
   "source": [
    "with open(\"models/lr/explainer.dill\", \"wb\") as model_f:\n",
    "        dill.dump(explainer, model_f)"
   ]
  },
  {
   "cell_type": "markdown",
   "metadata": {
    "id": "uFX97ejagbyO"
   },
   "source": [
    "We will not push our explainer to GCP as explainer files can be quite large (100MB+) so instead we will deploy a pretrained explainer!\n"
   ]
  },
  {
   "cell_type": "markdown",
   "metadata": {
    "id": "ZG6kWCMDOHsR"
   },
   "source": [
    "## Deployment\n",
    "\n",
    "We can now deploy an explainer alongside our model:"
   ]
  },
  {
   "cell_type": "code",
   "execution_count": null,
   "metadata": {
    "id": "wTq-3i5XMZDh"
   },
   "outputs": [],
   "source": [
    "EXPLAINER_TYPE = \"AnchorTabular\"\n",
    "EXPLAINER_URI = \"gs://tom-seldon-examples/retail-workshop/models/tom-farrand/lr\"\n",
    "\n",
    "explainer_spec = {\n",
    "                    \"type\": EXPLAINER_TYPE,\n",
    "                    \"modelUri\": EXPLAINER_URI,\n",
    "                    \"containerSpec\": {\n",
    "                        \"name\": \"\",\n",
    "                        \"resources\": {}\n",
    "                    }\n",
    "                }"
   ]
  },
  {
   "cell_type": "code",
   "execution_count": null,
   "metadata": {
    "id": "Gr7cIsDPOZ0T"
   },
   "outputs": [],
   "source": [
    "mldeployment['spec']['predictors'][0]['explainer'] = explainer_spec\n",
    "mldeployment"
   ]
  },
  {
   "cell_type": "code",
   "execution_count": null,
   "metadata": {
    "id": "ZEE1Ng-IOeR_"
   },
   "outputs": [],
   "source": [
    "deployment_api = SeldonDeploymentsApi(auth())\n",
    "deployment_api.create_seldon_deployment(namespace=NAMESPACE, mldeployment=mldeployment)"
   ]
  },
  {
   "cell_type": "markdown",
   "metadata": {
    "id": "hmI8brYLieU-"
   },
   "source": [
    "## Outlier Detection\n",
    "You will now setup your outlier detector. This will pick up anomalous data points in an automated fashion. You will use the Seldon Alibi Detect library to configure a Variational Auto Encoder (VAE) outlier detector.\n",
    "\n",
    "In this case you are going to assume that any instance which is labelled as customer segmentation cluster 1 is an outlier. Clearly, this is a trivial example, as we are using our model to predict the customer segmen. However it demonstrates the flow of outlier detector creation nicely, and provides a set of easy to identify outliers. \n",
    "\n",
    "You now generate a dataset of inliers (all other clusters) and outliers (customer cluster 1). "
   ]
  },
  {
   "cell_type": "code",
   "execution_count": null,
   "metadata": {
    "id": "90njHc1nDaf1"
   },
   "outputs": [],
   "source": [
    "df_total = pd.concat([pd.DataFrame(X_train), pd.DataFrame(Y_train, columns=[6])], axis=1)\n",
    "\n",
    "inliers = df_total[(df_total[6] != 1)]\n",
    "inliers.drop(labels=6, axis=1, inplace=True)\n",
    "inliers_np = inliers.to_numpy()\n",
    "\n",
    "outliers = df_total[df_total[6] == 1]\n",
    "outliers.drop(labels=6, axis=1, inplace=True)\n",
    "outliers_np = outliers.to_numpy()"
   ]
  },
  {
   "cell_type": "markdown",
   "metadata": {
    "id": "VNiXwKDK0SCC"
   },
   "source": [
    "You will then define the architecture of your VAE. The VAE works by attempting to reconstruct the input data which it receives. The VAE first encodes the data in some latent space (in our case a 2 dimensional vector), and then uses a decoder to reconstruct the original input data from the encoding. This forces the VAE to learn a mapping of input data to the latent space, and vice versa. If input data maps poorly to the latent space, and/or maps poorly from latent space to output then it is likely out of the distribution which the VAE was trained upon. Therefore, we can classify it as an outlier.  \n",
    "\n",
    "![](https://raw.githubusercontent.com/ribenamaplesyrup/seldon-retail-workshop/main/assets/vae_architecture.png \"VAE Architecture\")\n",
    "\n",
    "The first step is to define our VAE architecture. You will use TensorFlow Keras to setup the architecture for your encoder and decoder. "
   ]
  },
  {
   "cell_type": "code",
   "execution_count": null,
   "metadata": {
    "id": "UZewHIB-EBkz"
   },
   "outputs": [],
   "source": [
    "# define model, initialize, train and save outlier detector\n",
    "    \n",
    "n_features = X_train.shape[1]\n",
    "latent_dim = 2\n",
    "    \n",
    "encoder_net = tf.keras.Sequential(\n",
    "    [\n",
    "     InputLayer(input_shape=(n_features,)),\n",
    "     Dense(20, activation=tf.nn.relu),\n",
    "     Dense(15, activation=tf.nn.relu),\n",
    "     Dense(7, activation=tf.nn.relu)\n",
    "     ])\n",
    "\n",
    "decoder_net = tf.keras.Sequential(\n",
    "    [\n",
    "     InputLayer(input_shape=(latent_dim,)),\n",
    "     Dense(7, activation=tf.nn.relu),\n",
    "     Dense(15, activation=tf.nn.relu),\n",
    "     Dense(20, activation=tf.nn.relu),\n",
    "     Dense(n_features, activation=None)\n",
    "     ])"
   ]
  },
  {
   "cell_type": "markdown",
   "metadata": {
    "id": "uza6yh-x0SCC"
   },
   "source": [
    "Next you will make use of Alibi Detect's OutlierVAE class and instantiate it using the encoder and decoder architecture you defined above. \n",
    "\n",
    "You will then call the `fit` method on your outlier detector. To learn how to correctly reconstruct normal data the VAE is fit on only inlier examples initially. In this case you will use your `inliers` set as this does not contain any outlying data points. "
   ]
  },
  {
   "cell_type": "code",
   "execution_count": null,
   "metadata": {
    "id": "LR7tSi920SCC",
    "scrolled": true
   },
   "outputs": [],
   "source": [
    "# initialize outlier detector\n",
    "od = OutlierVAE(threshold=None,  # threshold for outlier score\n",
    "                score_type='mse',  # use MSE of reconstruction error for outlier detection\n",
    "                encoder_net=encoder_net,  # can also pass VAE model instead\n",
    "                decoder_net=decoder_net,  # of separate encoder and decoder\n",
    "                latent_dim=latent_dim,\n",
    "                samples=5) # number of samples drawn during detection for each instance to detect\n",
    "# train\n",
    "od.fit(inliers,\n",
    "       loss_fn=elbo, # Loss function used for training\n",
    "       cov_elbo=dict(sim=.01), # If using the elbo loss, this is the covariance matrix\n",
    "       epochs=50,\n",
    "       verbose=True)"
   ]
  },
  {
   "cell_type": "markdown",
   "metadata": {
    "id": "EGL9gc6UGMXo"
   },
   "source": [
    "You now need to set the threshold for your outlier detector. This is the score above which any instance will be considered an outlier. \n",
    "\n",
    "To do this you can make use of the `infer_threshold` function which Alibi provides. This will take a batch of data with a specified percentage of outliers, you therefore create a function to generate a dataset with a specified percentage of outliers*.\n",
    "\n",
    "\\*Alibi has a comparable function for generating batches of outlier data called `create_outlier_batch` "
   ]
  },
  {
   "cell_type": "code",
   "execution_count": null,
   "metadata": {
    "id": "L8GbfajFGCZV"
   },
   "outputs": [],
   "source": [
    "def generate_outlier_batch(perc_outlier=5, inliers=inliers, outliers=outliers, n_samples=1000):\n",
    "    outlier_idx = int(np.round(n_samples * (perc_outlier / 100), 0))\n",
    "    inlier_idx = int(np.round(n_samples * (1 - perc_outlier / 100), 0))\n",
    "\n",
    "    outlier_batch = outliers[:outlier_idx]\n",
    "    inlier_batch = inliers[:inlier_idx]\n",
    "\n",
    "    y_combined = np.concatenate([np.ones(len(outlier_batch)), np.zeros(len(inlier_batch))]).astype('int32')\n",
    "\n",
    "    X_combined = np.concatenate((outlier_batch, inlier_batch))\n",
    "    return X_combined, y_combined\n",
    "\n",
    "X_threshold, y_threshold = generate_outlier_batch()"
   ]
  },
  {
   "cell_type": "markdown",
   "metadata": {
    "id": "pr6dIm1h0SCD"
   },
   "source": [
    "Now inferring the threshold. "
   ]
  },
  {
   "cell_type": "code",
   "execution_count": null,
   "metadata": {
    "id": "CWKoCcojGaEI"
   },
   "outputs": [],
   "source": [
    "perc_outlier = 5\n",
    "od.infer_threshold(X_threshold, threshold_perc=100-perc_outlier)\n",
    "print('New threshold: {}'.format(od.threshold))"
   ]
  },
  {
   "cell_type": "markdown",
   "metadata": {
    "id": "rsnoR0DZ0SCD"
   },
   "source": [
    "You can now test your threshold by generating a second batch of outlying data, this time with a higher proportion of outliers. "
   ]
  },
  {
   "cell_type": "code",
   "execution_count": null,
   "metadata": {
    "id": "-MtuBEz8Ggqp"
   },
   "outputs": [],
   "source": [
    "X_outlier, y_outlier = generate_outlier_batch(perc_outlier=10)\n",
    "print(X_outlier.shape, y_outlier.shape)\n",
    "print('{}% outliers'.format(100 * y_outlier.mean()))"
   ]
  },
  {
   "cell_type": "markdown",
   "metadata": {
    "id": "B6CeSGaf0SCE"
   },
   "source": [
    "Generating outlier predictions from the new detector using the freshly created outlier batch. "
   ]
  },
  {
   "cell_type": "code",
   "execution_count": null,
   "metadata": {
    "id": "05ss0fUU0SCE"
   },
   "outputs": [],
   "source": [
    "od_preds = od.predict(X_outlier, return_instance_score=True)"
   ]
  },
  {
   "cell_type": "markdown",
   "metadata": {
    "id": "LVACx0nm0SCE"
   },
   "source": [
    "Visualising the effectiveness of our outlier detector using a confusion matrix. "
   ]
  },
  {
   "cell_type": "code",
   "execution_count": null,
   "metadata": {
    "id": "tOzm_Z0u0SCE"
   },
   "outputs": [],
   "source": [
    "labels = ['normal', 'outlier']\n",
    "\n",
    "y_pred = od_preds['data']['is_outlier']\n",
    "f1 = f1_score(y_outlier, y_pred)\n",
    "print('F1 score: {}'.format(f1))\n",
    "\n",
    "cm = confusion_matrix(y_outlier, y_pred)\n",
    "df_cm = pd.DataFrame(cm, index=labels, columns=labels)\n",
    "sns.heatmap(df_cm, annot=True, cbar=True, linewidths=.5)\n",
    "plt.show()"
   ]
  },
  {
   "cell_type": "markdown",
   "metadata": {
    "id": "m3JyDLsD0SCF"
   },
   "source": [
    "And then using a scatter plot and ROC curve. "
   ]
  },
  {
   "cell_type": "code",
   "execution_count": null,
   "metadata": {
    "id": "gKHtqIwL0SCF"
   },
   "outputs": [],
   "source": [
    "plot_instance_score(od_preds, y_outlier, labels, od.threshold)"
   ]
  },
  {
   "cell_type": "code",
   "execution_count": null,
   "metadata": {
    "id": "8ik3N2BLDaf4"
   },
   "outputs": [],
   "source": [
    "roc_data = {'VAE': {'scores': od_preds['data']['instance_score'], 'labels': y_outlier}}\n",
    "plot_roc(roc_data)"
   ]
  },
  {
   "cell_type": "markdown",
   "metadata": {
    "id": "LYRFODPA0SCF"
   },
   "source": [
    "You can now save your outlier detector locally, and subsequently push to remote storage. "
   ]
  },
  {
   "cell_type": "code",
   "execution_count": null,
   "metadata": {
    "id": "iw60AftDGcih"
   },
   "outputs": [],
   "source": [
    "save_detector(od, \"outlier_detector\")"
   ]
  },
  {
   "cell_type": "markdown",
   "metadata": {
    "id": "VnO8tWSrDaf5"
   },
   "source": [
    "NOTE: To push models to GCP you will create a unique folder with your name. Uncomment the command and replace \"YOUR NAME\" with your name."
   ]
  },
  {
   "cell_type": "code",
   "execution_count": null,
   "metadata": {
    "id": "MDC-ziyr0SCF"
   },
   "outputs": [],
   "source": [
    "# Recursive copy this time as the OD is saved as a directory containing all the relevant binaries and parameters. \n",
    "!gsutil cp -r outlier_detector gs://tom-seldon-examples/retail-workshop/models/<YOUR NAME>/"
   ]
  },
  {
   "cell_type": "markdown",
   "metadata": {
    "id": "FJEzSqxcDaf6"
   },
   "source": [
    "Using your freshly uploaded outlier detector you can deploy this alongside your model into Seldon Deploy. Once again you will need to replace 'YOUR NAME' so we're saving our file to correct place:"
   ]
  },
  {
   "cell_type": "code",
   "execution_count": null,
   "metadata": {
    "id": "rwvrL2k8iQxt"
   },
   "outputs": [],
   "source": [
    "OD_URI = f'gs://tom-seldon-examples/retail-workshop/models/{YOUR_NAME}/outlier_detector/'\n",
    "OD_URI"
   ]
  },
  {
   "cell_type": "markdown",
   "metadata": {
    "id": "aS9Df_3MDaf6"
   },
   "source": [
    "You can now test the outlier detector with the following inlier request:"
   ]
  },
  {
   "cell_type": "code",
   "execution_count": null,
   "metadata": {
    "id": "pLcQK3IhDaf7"
   },
   "outputs": [],
   "source": [
    "{\"data\": {\"ndarray\": [[-0.43831067,  0.23457404, -0.17366155,  0.26935668,  0.13463672, -0.55234561]]}}"
   ]
  },
  {
   "cell_type": "markdown",
   "metadata": {
    "id": "kbBUl4IcDaf7"
   },
   "source": [
    "And then with a massive outlier:"
   ]
  },
  {
   "cell_type": "code",
   "execution_count": null,
   "metadata": {
    "id": "ODxMCudDDaf8"
   },
   "outputs": [],
   "source": [
    "{\"data\": {\"ndarray\": [[10,  10, 10,  10,  10, 10]]}}"
   ]
  }
 ],
 "metadata": {
  "colab": {
   "collapsed_sections": [
    "hmI8brYLieU-"
   ],
   "name": "retail_workshop_notebook.ipynb",
   "provenance": [],
   "toc_visible": true
  },
  "interpreter": {
   "hash": "a64daf48265175ab4f9e3b4f218504d1fb45289ba63ff66be172e6ba46f72957"
  },
  "kernelspec": {
   "display_name": "Python 3.9.7 ('data-science')",
   "language": "python",
   "name": "python3"
  },
  "language_info": {
   "codemirror_mode": {
    "name": "ipython",
    "version": 3
   },
   "file_extension": ".py",
   "mimetype": "text/x-python",
   "name": "python",
   "nbconvert_exporter": "python",
   "pygments_lexer": "ipython3",
   "version": "3.9.7"
  }
 },
 "nbformat": 4,
 "nbformat_minor": 1
}
