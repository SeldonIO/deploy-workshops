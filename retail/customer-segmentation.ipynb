{
 "cells": [
  {
   "cell_type": "markdown",
   "metadata": {
    "id": "BqU0bqjtRKwu"
   },
   "source": [
    "# Customer Segmentation \n",
    "\n",
    "This notebook will focus on the creation, deployment, \n",
    "monitoring and management of a machine learning model for performing \n",
    "customer segmentation. \n",
    "\n",
    "We will be using an e-commerce dataset detailing actual purchases made by  ∼ 4000 customers over a period of one year (from 2010/12/01 to 2011/12/09). \n",
    "\n",
    "In this notebook we will: \n",
    "\n",
    "- Explore a subset of the dataset\n",
    "- Train several models on the pre-processed dataset\n",
    "- Deploy trained models to Seldon \n",
    "- Train an anchor tabular explainer and update Seldon deployment with explainer\n",
    "- Train an outlier detector (variational autoencoder) and update deployment "
   ]
  },
  {
   "cell_type": "markdown",
   "metadata": {
    "id": "JCnrhNBSkOZW"
   },
   "source": [
    "### Prerequisites\n",
    "Initially, we install some additional packages which do not come out of the box with our Colab environment, and then import all of the relevant packages. "
   ]
  },
  {
   "cell_type": "code",
   "execution_count": 51,
   "metadata": {
    "id": "hNI8xSiiBd24",
    "scrolled": true
   },
   "outputs": [
    {
     "name": "stdout",
     "output_type": "stream",
     "text": [
      "Requirement already satisfied: seldon-deploy-sdk==1.5.0 in /Users/josh/opt/anaconda3/envs/data-science/lib/python3.9/site-packages (1.5.0)\n",
      "Requirement already satisfied: python-dateutil>=2.1 in /Users/josh/opt/anaconda3/envs/data-science/lib/python3.9/site-packages (from seldon-deploy-sdk==1.5.0) (2.8.2)\n",
      "Requirement already satisfied: Authlib<=0.16.0 in /Users/josh/opt/anaconda3/envs/data-science/lib/python3.9/site-packages (from seldon-deploy-sdk==1.5.0) (0.15.5)\n",
      "Requirement already satisfied: urllib3>=1.23 in /Users/josh/opt/anaconda3/envs/data-science/lib/python3.9/site-packages (from seldon-deploy-sdk==1.5.0) (1.26.5)\n",
      "Requirement already satisfied: six>=1.10 in /Users/josh/opt/anaconda3/envs/data-science/lib/python3.9/site-packages (from seldon-deploy-sdk==1.5.0) (1.15.0)\n",
      "Requirement already satisfied: certifi>=2017.4.17 in /Users/josh/opt/anaconda3/envs/data-science/lib/python3.9/site-packages (from seldon-deploy-sdk==1.5.0) (2021.10.8)\n",
      "Requirement already satisfied: cryptography in /Users/josh/opt/anaconda3/envs/data-science/lib/python3.9/site-packages (from Authlib<=0.16.0->seldon-deploy-sdk==1.5.0) (3.4.8)\n",
      "Requirement already satisfied: cffi>=1.12 in /Users/josh/opt/anaconda3/envs/data-science/lib/python3.9/site-packages (from cryptography->Authlib<=0.16.0->seldon-deploy-sdk==1.5.0) (1.15.0)\n",
      "Requirement already satisfied: pycparser in /Users/josh/opt/anaconda3/envs/data-science/lib/python3.9/site-packages (from cffi>=1.12->cryptography->Authlib<=0.16.0->seldon-deploy-sdk==1.5.0) (2.21)\n",
      "Collecting alibi==0.6.4\n",
      "  Using cached alibi-0.6.4-py3-none-any.whl (397 kB)\n",
      "Requirement already satisfied: spacy[lookups]<4.0.0,>=2.0.0 in /Users/josh/opt/anaconda3/envs/data-science/lib/python3.9/site-packages (from alibi==0.6.4) (3.2.1)\n",
      "Requirement already satisfied: tqdm<5.0.0,>=4.28.1 in /Users/josh/opt/anaconda3/envs/data-science/lib/python3.9/site-packages (from alibi==0.6.4) (4.62.3)\n",
      "Requirement already satisfied: numpy<2.0.0,>=1.16.2 in /Users/josh/opt/anaconda3/envs/data-science/lib/python3.9/site-packages (from alibi==0.6.4) (1.19.5)\n",
      "Requirement already satisfied: scikit-image!=0.17.1,<0.20,>=0.14.2 in /Users/josh/opt/anaconda3/envs/data-science/lib/python3.9/site-packages (from alibi==0.6.4) (0.18.3)\n",
      "Requirement already satisfied: matplotlib<4.0.0,>=3.0.0 in /Users/josh/opt/anaconda3/envs/data-science/lib/python3.9/site-packages (from alibi==0.6.4) (3.5.1)\n",
      "Requirement already satisfied: transformers<5.0.0,>=4.7.0 in /Users/josh/opt/anaconda3/envs/data-science/lib/python3.9/site-packages (from alibi==0.6.4) (4.16.2)\n",
      "Requirement already satisfied: scikit-learn<1.1.0,>=0.20.2 in /Users/josh/opt/anaconda3/envs/data-science/lib/python3.9/site-packages (from alibi==0.6.4) (0.24.2)\n",
      "Requirement already satisfied: tensorflow!=2.6.0,!=2.6.1,<2.8.0,>=2.0.0 in /Users/josh/opt/anaconda3/envs/data-science/lib/python3.9/site-packages (from alibi==0.6.4) (2.5.3)\n",
      "Requirement already satisfied: attrs<22.0.0,>=19.2.0 in /Users/josh/opt/anaconda3/envs/data-science/lib/python3.9/site-packages (from alibi==0.6.4) (21.4.0)\n",
      "Requirement already satisfied: dill<0.4.0,>=0.3.0 in /Users/josh/opt/anaconda3/envs/data-science/lib/python3.9/site-packages (from alibi==0.6.4) (0.3.4)\n",
      "Requirement already satisfied: requests<3.0.0,>=2.21.0 in /Users/josh/opt/anaconda3/envs/data-science/lib/python3.9/site-packages (from alibi==0.6.4) (2.27.1)\n",
      "Requirement already satisfied: scipy<2.0.0,>=1.1.0 in /Users/josh/opt/anaconda3/envs/data-science/lib/python3.9/site-packages (from alibi==0.6.4) (1.7.3)\n",
      "Requirement already satisfied: pandas<2.0.0,>=0.23.3 in /Users/josh/opt/anaconda3/envs/data-science/lib/python3.9/site-packages (from alibi==0.6.4) (1.4.0)\n",
      "Requirement already satisfied: Pillow<10.0,>=5.4.1 in /Users/josh/opt/anaconda3/envs/data-science/lib/python3.9/site-packages (from alibi==0.6.4) (8.4.0)\n",
      "Requirement already satisfied: pyparsing>=2.2.1 in /Users/josh/opt/anaconda3/envs/data-science/lib/python3.9/site-packages (from matplotlib<4.0.0,>=3.0.0->alibi==0.6.4) (3.0.7)\n",
      "Requirement already satisfied: python-dateutil>=2.7 in /Users/josh/opt/anaconda3/envs/data-science/lib/python3.9/site-packages (from matplotlib<4.0.0,>=3.0.0->alibi==0.6.4) (2.8.2)\n",
      "Requirement already satisfied: packaging>=20.0 in /Users/josh/opt/anaconda3/envs/data-science/lib/python3.9/site-packages (from matplotlib<4.0.0,>=3.0.0->alibi==0.6.4) (21.3)\n",
      "Requirement already satisfied: cycler>=0.10 in /Users/josh/opt/anaconda3/envs/data-science/lib/python3.9/site-packages (from matplotlib<4.0.0,>=3.0.0->alibi==0.6.4) (0.11.0)\n",
      "Requirement already satisfied: kiwisolver>=1.0.1 in /Users/josh/opt/anaconda3/envs/data-science/lib/python3.9/site-packages (from matplotlib<4.0.0,>=3.0.0->alibi==0.6.4) (1.3.2)\n",
      "Requirement already satisfied: fonttools>=4.22.0 in /Users/josh/opt/anaconda3/envs/data-science/lib/python3.9/site-packages (from matplotlib<4.0.0,>=3.0.0->alibi==0.6.4) (4.29.1)\n",
      "Requirement already satisfied: pytz>=2020.1 in /Users/josh/opt/anaconda3/envs/data-science/lib/python3.9/site-packages (from pandas<2.0.0,>=0.23.3->alibi==0.6.4) (2021.3)\n",
      "Requirement already satisfied: six>=1.5 in /Users/josh/opt/anaconda3/envs/data-science/lib/python3.9/site-packages (from python-dateutil>=2.7->matplotlib<4.0.0,>=3.0.0->alibi==0.6.4) (1.15.0)\n",
      "Requirement already satisfied: certifi>=2017.4.17 in /Users/josh/opt/anaconda3/envs/data-science/lib/python3.9/site-packages (from requests<3.0.0,>=2.21.0->alibi==0.6.4) (2021.10.8)\n",
      "Requirement already satisfied: charset-normalizer~=2.0.0 in /Users/josh/opt/anaconda3/envs/data-science/lib/python3.9/site-packages (from requests<3.0.0,>=2.21.0->alibi==0.6.4) (2.0.11)\n",
      "Requirement already satisfied: urllib3<1.27,>=1.21.1 in /Users/josh/opt/anaconda3/envs/data-science/lib/python3.9/site-packages (from requests<3.0.0,>=2.21.0->alibi==0.6.4) (1.26.5)\n",
      "Requirement already satisfied: idna<4,>=2.5 in /Users/josh/opt/anaconda3/envs/data-science/lib/python3.9/site-packages (from requests<3.0.0,>=2.21.0->alibi==0.6.4) (3.3)\n",
      "Requirement already satisfied: networkx>=2.0 in /Users/josh/opt/anaconda3/envs/data-science/lib/python3.9/site-packages (from scikit-image!=0.17.1,<0.20,>=0.14.2->alibi==0.6.4) (2.6.3)\n",
      "Requirement already satisfied: tifffile>=2019.7.26 in /Users/josh/opt/anaconda3/envs/data-science/lib/python3.9/site-packages (from scikit-image!=0.17.1,<0.20,>=0.14.2->alibi==0.6.4) (2021.11.2)\n",
      "Requirement already satisfied: imageio>=2.3.0 in /Users/josh/opt/anaconda3/envs/data-science/lib/python3.9/site-packages (from scikit-image!=0.17.1,<0.20,>=0.14.2->alibi==0.6.4) (2.14.1)\n",
      "Requirement already satisfied: PyWavelets>=1.1.1 in /Users/josh/opt/anaconda3/envs/data-science/lib/python3.9/site-packages (from scikit-image!=0.17.1,<0.20,>=0.14.2->alibi==0.6.4) (1.2.0)\n",
      "Requirement already satisfied: joblib>=0.11 in /Users/josh/opt/anaconda3/envs/data-science/lib/python3.9/site-packages (from scikit-learn<1.1.0,>=0.20.2->alibi==0.6.4) (1.1.0)\n",
      "Requirement already satisfied: threadpoolctl>=2.0.0 in /Users/josh/opt/anaconda3/envs/data-science/lib/python3.9/site-packages (from scikit-learn<1.1.0,>=0.20.2->alibi==0.6.4) (3.1.0)\n",
      "Requirement already satisfied: wasabi<1.1.0,>=0.8.1 in /Users/josh/opt/anaconda3/envs/data-science/lib/python3.9/site-packages (from spacy[lookups]<4.0.0,>=2.0.0->alibi==0.6.4) (0.9.0)\n",
      "Requirement already satisfied: pydantic!=1.8,!=1.8.1,<1.9.0,>=1.7.4 in /Users/josh/opt/anaconda3/envs/data-science/lib/python3.9/site-packages (from spacy[lookups]<4.0.0,>=2.0.0->alibi==0.6.4) (1.8.2)\n",
      "Requirement already satisfied: spacy-loggers<2.0.0,>=1.0.0 in /Users/josh/opt/anaconda3/envs/data-science/lib/python3.9/site-packages (from spacy[lookups]<4.0.0,>=2.0.0->alibi==0.6.4) (1.0.1)\n",
      "Requirement already satisfied: cymem<2.1.0,>=2.0.2 in /Users/josh/opt/anaconda3/envs/data-science/lib/python3.9/site-packages (from spacy[lookups]<4.0.0,>=2.0.0->alibi==0.6.4) (2.0.6)\n",
      "Requirement already satisfied: catalogue<2.1.0,>=2.0.6 in /Users/josh/opt/anaconda3/envs/data-science/lib/python3.9/site-packages (from spacy[lookups]<4.0.0,>=2.0.0->alibi==0.6.4) (2.0.6)\n",
      "Requirement already satisfied: srsly<3.0.0,>=2.4.1 in /Users/josh/opt/anaconda3/envs/data-science/lib/python3.9/site-packages (from spacy[lookups]<4.0.0,>=2.0.0->alibi==0.6.4) (2.4.2)\n",
      "Requirement already satisfied: spacy-legacy<3.1.0,>=3.0.8 in /Users/josh/opt/anaconda3/envs/data-science/lib/python3.9/site-packages (from spacy[lookups]<4.0.0,>=2.0.0->alibi==0.6.4) (3.0.8)\n",
      "Requirement already satisfied: thinc<8.1.0,>=8.0.12 in /Users/josh/opt/anaconda3/envs/data-science/lib/python3.9/site-packages (from spacy[lookups]<4.0.0,>=2.0.0->alibi==0.6.4) (8.0.13)\n",
      "Requirement already satisfied: setuptools in /Users/josh/opt/anaconda3/envs/data-science/lib/python3.9/site-packages (from spacy[lookups]<4.0.0,>=2.0.0->alibi==0.6.4) (58.0.4)\n",
      "Requirement already satisfied: blis<0.8.0,>=0.4.0 in /Users/josh/opt/anaconda3/envs/data-science/lib/python3.9/site-packages (from spacy[lookups]<4.0.0,>=2.0.0->alibi==0.6.4) (0.7.5)\n",
      "Requirement already satisfied: jinja2 in /Users/josh/opt/anaconda3/envs/data-science/lib/python3.9/site-packages (from spacy[lookups]<4.0.0,>=2.0.0->alibi==0.6.4) (3.0.3)\n",
      "Requirement already satisfied: typer<0.5.0,>=0.3.0 in /Users/josh/opt/anaconda3/envs/data-science/lib/python3.9/site-packages (from spacy[lookups]<4.0.0,>=2.0.0->alibi==0.6.4) (0.4.0)\n",
      "Requirement already satisfied: langcodes<4.0.0,>=3.2.0 in /Users/josh/opt/anaconda3/envs/data-science/lib/python3.9/site-packages (from spacy[lookups]<4.0.0,>=2.0.0->alibi==0.6.4) (3.3.0)\n",
      "Requirement already satisfied: murmurhash<1.1.0,>=0.28.0 in /Users/josh/opt/anaconda3/envs/data-science/lib/python3.9/site-packages (from spacy[lookups]<4.0.0,>=2.0.0->alibi==0.6.4) (1.0.6)\n",
      "Requirement already satisfied: preshed<3.1.0,>=3.0.2 in /Users/josh/opt/anaconda3/envs/data-science/lib/python3.9/site-packages (from spacy[lookups]<4.0.0,>=2.0.0->alibi==0.6.4) (3.0.6)\n",
      "Requirement already satisfied: pathy>=0.3.5 in /Users/josh/opt/anaconda3/envs/data-science/lib/python3.9/site-packages (from spacy[lookups]<4.0.0,>=2.0.0->alibi==0.6.4) (0.6.1)\n",
      "Requirement already satisfied: spacy-lookups-data<1.1.0,>=1.0.3 in /Users/josh/opt/anaconda3/envs/data-science/lib/python3.9/site-packages (from spacy[lookups]<4.0.0,>=2.0.0->alibi==0.6.4) (1.0.3)\n",
      "Requirement already satisfied: smart-open<6.0.0,>=5.0.0 in /Users/josh/opt/anaconda3/envs/data-science/lib/python3.9/site-packages (from pathy>=0.3.5->spacy[lookups]<4.0.0,>=2.0.0->alibi==0.6.4) (5.2.1)\n",
      "Requirement already satisfied: typing-extensions>=3.7.4.3 in /Users/josh/opt/anaconda3/envs/data-science/lib/python3.9/site-packages (from pydantic!=1.8,!=1.8.1,<1.9.0,>=1.7.4->spacy[lookups]<4.0.0,>=2.0.0->alibi==0.6.4) (3.7.4.3)\n",
      "Requirement already satisfied: grpcio~=1.34.0 in /Users/josh/opt/anaconda3/envs/data-science/lib/python3.9/site-packages (from tensorflow!=2.6.0,!=2.6.1,<2.8.0,>=2.0.0->alibi==0.6.4) (1.34.1)\n",
      "Requirement already satisfied: protobuf>=3.9.2 in /Users/josh/opt/anaconda3/envs/data-science/lib/python3.9/site-packages (from tensorflow!=2.6.0,!=2.6.1,<2.8.0,>=2.0.0->alibi==0.6.4) (3.19.4)\n",
      "Requirement already satisfied: h5py~=3.1.0 in /Users/josh/opt/anaconda3/envs/data-science/lib/python3.9/site-packages (from tensorflow!=2.6.0,!=2.6.1,<2.8.0,>=2.0.0->alibi==0.6.4) (3.1.0)\n",
      "Requirement already satisfied: flatbuffers~=1.12.0 in /Users/josh/opt/anaconda3/envs/data-science/lib/python3.9/site-packages (from tensorflow!=2.6.0,!=2.6.1,<2.8.0,>=2.0.0->alibi==0.6.4) (1.12)\n",
      "Requirement already satisfied: tensorboard~=2.5 in /Users/josh/opt/anaconda3/envs/data-science/lib/python3.9/site-packages (from tensorflow!=2.6.0,!=2.6.1,<2.8.0,>=2.0.0->alibi==0.6.4) (2.8.0)\n",
      "Requirement already satisfied: astunparse~=1.6.3 in /Users/josh/opt/anaconda3/envs/data-science/lib/python3.9/site-packages (from tensorflow!=2.6.0,!=2.6.1,<2.8.0,>=2.0.0->alibi==0.6.4) (1.6.3)\n",
      "Requirement already satisfied: keras-nightly~=2.5.0.dev in /Users/josh/opt/anaconda3/envs/data-science/lib/python3.9/site-packages (from tensorflow!=2.6.0,!=2.6.1,<2.8.0,>=2.0.0->alibi==0.6.4) (2.5.0.dev2021032900)\n",
      "Requirement already satisfied: wheel~=0.35 in /Users/josh/opt/anaconda3/envs/data-science/lib/python3.9/site-packages (from tensorflow!=2.6.0,!=2.6.1,<2.8.0,>=2.0.0->alibi==0.6.4) (0.37.1)\n",
      "Requirement already satisfied: google-pasta~=0.2 in /Users/josh/opt/anaconda3/envs/data-science/lib/python3.9/site-packages (from tensorflow!=2.6.0,!=2.6.1,<2.8.0,>=2.0.0->alibi==0.6.4) (0.2.0)\n",
      "Requirement already satisfied: wrapt~=1.12.1 in /Users/josh/opt/anaconda3/envs/data-science/lib/python3.9/site-packages (from tensorflow!=2.6.0,!=2.6.1,<2.8.0,>=2.0.0->alibi==0.6.4) (1.12.1)\n",
      "Requirement already satisfied: absl-py~=0.10 in /Users/josh/opt/anaconda3/envs/data-science/lib/python3.9/site-packages (from tensorflow!=2.6.0,!=2.6.1,<2.8.0,>=2.0.0->alibi==0.6.4) (0.15.0)\n",
      "Requirement already satisfied: keras-preprocessing~=1.1.2 in /Users/josh/opt/anaconda3/envs/data-science/lib/python3.9/site-packages (from tensorflow!=2.6.0,!=2.6.1,<2.8.0,>=2.0.0->alibi==0.6.4) (1.1.2)\n",
      "Requirement already satisfied: tensorflow-estimator<2.6.0,>=2.5.0 in /Users/josh/opt/anaconda3/envs/data-science/lib/python3.9/site-packages (from tensorflow!=2.6.0,!=2.6.1,<2.8.0,>=2.0.0->alibi==0.6.4) (2.5.0)\n",
      "Requirement already satisfied: gast==0.4.0 in /Users/josh/opt/anaconda3/envs/data-science/lib/python3.9/site-packages (from tensorflow!=2.6.0,!=2.6.1,<2.8.0,>=2.0.0->alibi==0.6.4) (0.4.0)\n",
      "Requirement already satisfied: opt-einsum~=3.3.0 in /Users/josh/opt/anaconda3/envs/data-science/lib/python3.9/site-packages (from tensorflow!=2.6.0,!=2.6.1,<2.8.0,>=2.0.0->alibi==0.6.4) (3.3.0)\n",
      "Requirement already satisfied: termcolor~=1.1.0 in /Users/josh/opt/anaconda3/envs/data-science/lib/python3.9/site-packages (from tensorflow!=2.6.0,!=2.6.1,<2.8.0,>=2.0.0->alibi==0.6.4) (1.1.0)\n",
      "Requirement already satisfied: google-auth-oauthlib<0.5,>=0.4.1 in /Users/josh/opt/anaconda3/envs/data-science/lib/python3.9/site-packages (from tensorboard~=2.5->tensorflow!=2.6.0,!=2.6.1,<2.8.0,>=2.0.0->alibi==0.6.4) (0.4.6)\n",
      "Requirement already satisfied: google-auth<3,>=1.6.3 in /Users/josh/opt/anaconda3/envs/data-science/lib/python3.9/site-packages (from tensorboard~=2.5->tensorflow!=2.6.0,!=2.6.1,<2.8.0,>=2.0.0->alibi==0.6.4) (2.6.0)\n",
      "Requirement already satisfied: markdown>=2.6.8 in /Users/josh/opt/anaconda3/envs/data-science/lib/python3.9/site-packages (from tensorboard~=2.5->tensorflow!=2.6.0,!=2.6.1,<2.8.0,>=2.0.0->alibi==0.6.4) (3.3.6)\n",
      "Requirement already satisfied: werkzeug>=0.11.15 in /Users/josh/opt/anaconda3/envs/data-science/lib/python3.9/site-packages (from tensorboard~=2.5->tensorflow!=2.6.0,!=2.6.1,<2.8.0,>=2.0.0->alibi==0.6.4) (2.0.2)\n",
      "Requirement already satisfied: tensorboard-plugin-wit>=1.6.0 in /Users/josh/opt/anaconda3/envs/data-science/lib/python3.9/site-packages (from tensorboard~=2.5->tensorflow!=2.6.0,!=2.6.1,<2.8.0,>=2.0.0->alibi==0.6.4) (1.8.1)\n",
      "Requirement already satisfied: tensorboard-data-server<0.7.0,>=0.6.0 in /Users/josh/opt/anaconda3/envs/data-science/lib/python3.9/site-packages (from tensorboard~=2.5->tensorflow!=2.6.0,!=2.6.1,<2.8.0,>=2.0.0->alibi==0.6.4) (0.6.1)\n",
      "Requirement already satisfied: cachetools<6.0,>=2.0.0 in /Users/josh/opt/anaconda3/envs/data-science/lib/python3.9/site-packages (from google-auth<3,>=1.6.3->tensorboard~=2.5->tensorflow!=2.6.0,!=2.6.1,<2.8.0,>=2.0.0->alibi==0.6.4) (5.0.0)\n",
      "Requirement already satisfied: pyasn1-modules>=0.2.1 in /Users/josh/opt/anaconda3/envs/data-science/lib/python3.9/site-packages (from google-auth<3,>=1.6.3->tensorboard~=2.5->tensorflow!=2.6.0,!=2.6.1,<2.8.0,>=2.0.0->alibi==0.6.4) (0.2.8)\n",
      "Requirement already satisfied: rsa<5,>=3.1.4 in /Users/josh/opt/anaconda3/envs/data-science/lib/python3.9/site-packages (from google-auth<3,>=1.6.3->tensorboard~=2.5->tensorflow!=2.6.0,!=2.6.1,<2.8.0,>=2.0.0->alibi==0.6.4) (4.8)\n",
      "Requirement already satisfied: requests-oauthlib>=0.7.0 in /Users/josh/opt/anaconda3/envs/data-science/lib/python3.9/site-packages (from google-auth-oauthlib<0.5,>=0.4.1->tensorboard~=2.5->tensorflow!=2.6.0,!=2.6.1,<2.8.0,>=2.0.0->alibi==0.6.4) (1.3.1)\n",
      "Requirement already satisfied: importlib-metadata>=4.4 in /Users/josh/opt/anaconda3/envs/data-science/lib/python3.9/site-packages (from markdown>=2.6.8->tensorboard~=2.5->tensorflow!=2.6.0,!=2.6.1,<2.8.0,>=2.0.0->alibi==0.6.4) (4.10.1)\n",
      "Requirement already satisfied: zipp>=0.5 in /Users/josh/opt/anaconda3/envs/data-science/lib/python3.9/site-packages (from importlib-metadata>=4.4->markdown>=2.6.8->tensorboard~=2.5->tensorflow!=2.6.0,!=2.6.1,<2.8.0,>=2.0.0->alibi==0.6.4) (3.7.0)\n",
      "Requirement already satisfied: pyasn1<0.5.0,>=0.4.6 in /Users/josh/opt/anaconda3/envs/data-science/lib/python3.9/site-packages (from pyasn1-modules>=0.2.1->google-auth<3,>=1.6.3->tensorboard~=2.5->tensorflow!=2.6.0,!=2.6.1,<2.8.0,>=2.0.0->alibi==0.6.4) (0.4.8)\n",
      "Requirement already satisfied: oauthlib>=3.0.0 in /Users/josh/opt/anaconda3/envs/data-science/lib/python3.9/site-packages (from requests-oauthlib>=0.7.0->google-auth-oauthlib<0.5,>=0.4.1->tensorboard~=2.5->tensorflow!=2.6.0,!=2.6.1,<2.8.0,>=2.0.0->alibi==0.6.4) (3.2.0)\n",
      "Requirement already satisfied: pyyaml>=5.1 in /Users/josh/opt/anaconda3/envs/data-science/lib/python3.9/site-packages (from transformers<5.0.0,>=4.7.0->alibi==0.6.4) (5.4.1)\n",
      "Requirement already satisfied: filelock in /Users/josh/opt/anaconda3/envs/data-science/lib/python3.9/site-packages (from transformers<5.0.0,>=4.7.0->alibi==0.6.4) (3.4.2)\n",
      "Requirement already satisfied: regex!=2019.12.17 in /Users/josh/opt/anaconda3/envs/data-science/lib/python3.9/site-packages (from transformers<5.0.0,>=4.7.0->alibi==0.6.4) (2022.1.18)\n",
      "Requirement already satisfied: huggingface-hub<1.0,>=0.1.0 in /Users/josh/opt/anaconda3/envs/data-science/lib/python3.9/site-packages (from transformers<5.0.0,>=4.7.0->alibi==0.6.4) (0.4.0)\n",
      "Requirement already satisfied: tokenizers!=0.11.3,>=0.10.1 in /Users/josh/opt/anaconda3/envs/data-science/lib/python3.9/site-packages (from transformers<5.0.0,>=4.7.0->alibi==0.6.4) (0.11.4)\n",
      "Requirement already satisfied: sacremoses in /Users/josh/opt/anaconda3/envs/data-science/lib/python3.9/site-packages (from transformers<5.0.0,>=4.7.0->alibi==0.6.4) (0.0.47)\n",
      "Requirement already satisfied: click<9.0.0,>=7.1.1 in /Users/josh/opt/anaconda3/envs/data-science/lib/python3.9/site-packages (from typer<0.5.0,>=0.3.0->spacy[lookups]<4.0.0,>=2.0.0->alibi==0.6.4) (8.0.3)\n",
      "Requirement already satisfied: MarkupSafe>=2.0 in /Users/josh/opt/anaconda3/envs/data-science/lib/python3.9/site-packages (from jinja2->spacy[lookups]<4.0.0,>=2.0.0->alibi==0.6.4) (2.0.1)\n",
      "Installing collected packages: alibi\n",
      "  Attempting uninstall: alibi\n",
      "    Found existing installation: alibi 0.6.0\n",
      "    Uninstalling alibi-0.6.0:\n",
      "      Successfully uninstalled alibi-0.6.0\n",
      "Successfully installed alibi-0.6.4\n",
      "Collecting alibi-detect==0.8.1\n",
      "  Using cached alibi_detect-0.8.1-py3-none-any.whl (311 kB)\n",
      "Requirement already satisfied: scipy<2.0.0,>=1.3.0 in /Users/josh/opt/anaconda3/envs/data-science/lib/python3.9/site-packages (from alibi-detect==0.8.1) (1.7.3)\n",
      "Requirement already satisfied: Pillow<9.0.0,>=5.4.1 in /Users/josh/opt/anaconda3/envs/data-science/lib/python3.9/site-packages (from alibi-detect==0.8.1) (8.4.0)\n",
      "Requirement already satisfied: numpy<2.0.0,>=1.16.2 in /Users/josh/opt/anaconda3/envs/data-science/lib/python3.9/site-packages (from alibi-detect==0.8.1) (1.19.5)\n",
      "Requirement already satisfied: numba!=0.54.0,<0.56.0,>=0.50.0 in /Users/josh/opt/anaconda3/envs/data-science/lib/python3.9/site-packages (from alibi-detect==0.8.1) (0.55.1)\n",
      "Requirement already satisfied: scikit-image!=0.17.1,<0.19,>=0.14.2 in /Users/josh/opt/anaconda3/envs/data-science/lib/python3.9/site-packages (from alibi-detect==0.8.1) (0.18.3)\n",
      "Requirement already satisfied: pandas<2.0.0,>=0.23.3 in /Users/josh/opt/anaconda3/envs/data-science/lib/python3.9/site-packages (from alibi-detect==0.8.1) (1.4.0)\n",
      "Requirement already satisfied: tensorflow-probability<0.13.0,>=0.8.0 in /Users/josh/opt/anaconda3/envs/data-science/lib/python3.9/site-packages (from alibi-detect==0.8.1) (0.12.2)\n",
      "Requirement already satisfied: tqdm<5.0.0,>=4.28.1 in /Users/josh/opt/anaconda3/envs/data-science/lib/python3.9/site-packages (from alibi-detect==0.8.1) (4.62.3)\n",
      "Requirement already satisfied: scikit-learn<1.1.0,>=0.20.2 in /Users/josh/opt/anaconda3/envs/data-science/lib/python3.9/site-packages (from alibi-detect==0.8.1) (0.24.2)\n",
      "Requirement already satisfied: matplotlib<4.0.0,>=3.0.0 in /Users/josh/opt/anaconda3/envs/data-science/lib/python3.9/site-packages (from alibi-detect==0.8.1) (3.5.1)\n",
      "Requirement already satisfied: opencv-python<5.0.0,>=3.2.0 in /Users/josh/opt/anaconda3/envs/data-science/lib/python3.9/site-packages (from alibi-detect==0.8.1) (4.5.5.62)\n",
      "Requirement already satisfied: tensorflow!=2.6.0,!=2.6.1,<2.8.0,>=2.2.0 in /Users/josh/opt/anaconda3/envs/data-science/lib/python3.9/site-packages (from alibi-detect==0.8.1) (2.5.3)\n",
      "Requirement already satisfied: transformers<5.0.0,>=4.0.0 in /Users/josh/opt/anaconda3/envs/data-science/lib/python3.9/site-packages (from alibi-detect==0.8.1) (4.16.2)\n",
      "Requirement already satisfied: requests<3.0.0,>=2.21.0 in /Users/josh/opt/anaconda3/envs/data-science/lib/python3.9/site-packages (from alibi-detect==0.8.1) (2.27.1)\n",
      "Requirement already satisfied: dill<0.4.0,>=0.3.0 in /Users/josh/opt/anaconda3/envs/data-science/lib/python3.9/site-packages (from alibi-detect==0.8.1) (0.3.4)\n",
      "Requirement already satisfied: pyparsing>=2.2.1 in /Users/josh/opt/anaconda3/envs/data-science/lib/python3.9/site-packages (from matplotlib<4.0.0,>=3.0.0->alibi-detect==0.8.1) (3.0.7)\n",
      "Requirement already satisfied: fonttools>=4.22.0 in /Users/josh/opt/anaconda3/envs/data-science/lib/python3.9/site-packages (from matplotlib<4.0.0,>=3.0.0->alibi-detect==0.8.1) (4.29.1)\n",
      "Requirement already satisfied: python-dateutil>=2.7 in /Users/josh/opt/anaconda3/envs/data-science/lib/python3.9/site-packages (from matplotlib<4.0.0,>=3.0.0->alibi-detect==0.8.1) (2.8.2)\n",
      "Requirement already satisfied: packaging>=20.0 in /Users/josh/opt/anaconda3/envs/data-science/lib/python3.9/site-packages (from matplotlib<4.0.0,>=3.0.0->alibi-detect==0.8.1) (21.3)\n",
      "Requirement already satisfied: cycler>=0.10 in /Users/josh/opt/anaconda3/envs/data-science/lib/python3.9/site-packages (from matplotlib<4.0.0,>=3.0.0->alibi-detect==0.8.1) (0.11.0)\n",
      "Requirement already satisfied: kiwisolver>=1.0.1 in /Users/josh/opt/anaconda3/envs/data-science/lib/python3.9/site-packages (from matplotlib<4.0.0,>=3.0.0->alibi-detect==0.8.1) (1.3.2)\n",
      "Requirement already satisfied: setuptools in /Users/josh/opt/anaconda3/envs/data-science/lib/python3.9/site-packages (from numba!=0.54.0,<0.56.0,>=0.50.0->alibi-detect==0.8.1) (58.0.4)\n",
      "Requirement already satisfied: llvmlite<0.39,>=0.38.0rc1 in /Users/josh/opt/anaconda3/envs/data-science/lib/python3.9/site-packages (from numba!=0.54.0,<0.56.0,>=0.50.0->alibi-detect==0.8.1) (0.38.0)\n",
      "Requirement already satisfied: pytz>=2020.1 in /Users/josh/opt/anaconda3/envs/data-science/lib/python3.9/site-packages (from pandas<2.0.0,>=0.23.3->alibi-detect==0.8.1) (2021.3)\n",
      "Requirement already satisfied: six>=1.5 in /Users/josh/opt/anaconda3/envs/data-science/lib/python3.9/site-packages (from python-dateutil>=2.7->matplotlib<4.0.0,>=3.0.0->alibi-detect==0.8.1) (1.15.0)\n",
      "Requirement already satisfied: certifi>=2017.4.17 in /Users/josh/opt/anaconda3/envs/data-science/lib/python3.9/site-packages (from requests<3.0.0,>=2.21.0->alibi-detect==0.8.1) (2021.10.8)\n",
      "Requirement already satisfied: charset-normalizer~=2.0.0 in /Users/josh/opt/anaconda3/envs/data-science/lib/python3.9/site-packages (from requests<3.0.0,>=2.21.0->alibi-detect==0.8.1) (2.0.11)\n",
      "Requirement already satisfied: idna<4,>=2.5 in /Users/josh/opt/anaconda3/envs/data-science/lib/python3.9/site-packages (from requests<3.0.0,>=2.21.0->alibi-detect==0.8.1) (3.3)\n",
      "Requirement already satisfied: urllib3<1.27,>=1.21.1 in /Users/josh/opt/anaconda3/envs/data-science/lib/python3.9/site-packages (from requests<3.0.0,>=2.21.0->alibi-detect==0.8.1) (1.26.5)\n",
      "Requirement already satisfied: networkx>=2.0 in /Users/josh/opt/anaconda3/envs/data-science/lib/python3.9/site-packages (from scikit-image!=0.17.1,<0.19,>=0.14.2->alibi-detect==0.8.1) (2.6.3)\n",
      "Requirement already satisfied: tifffile>=2019.7.26 in /Users/josh/opt/anaconda3/envs/data-science/lib/python3.9/site-packages (from scikit-image!=0.17.1,<0.19,>=0.14.2->alibi-detect==0.8.1) (2021.11.2)\n",
      "Requirement already satisfied: imageio>=2.3.0 in /Users/josh/opt/anaconda3/envs/data-science/lib/python3.9/site-packages (from scikit-image!=0.17.1,<0.19,>=0.14.2->alibi-detect==0.8.1) (2.14.1)\n",
      "Requirement already satisfied: PyWavelets>=1.1.1 in /Users/josh/opt/anaconda3/envs/data-science/lib/python3.9/site-packages (from scikit-image!=0.17.1,<0.19,>=0.14.2->alibi-detect==0.8.1) (1.2.0)\n",
      "Requirement already satisfied: joblib>=0.11 in /Users/josh/opt/anaconda3/envs/data-science/lib/python3.9/site-packages (from scikit-learn<1.1.0,>=0.20.2->alibi-detect==0.8.1) (1.1.0)\n",
      "Requirement already satisfied: threadpoolctl>=2.0.0 in /Users/josh/opt/anaconda3/envs/data-science/lib/python3.9/site-packages (from scikit-learn<1.1.0,>=0.20.2->alibi-detect==0.8.1) (3.1.0)\n",
      "Requirement already satisfied: protobuf>=3.9.2 in /Users/josh/opt/anaconda3/envs/data-science/lib/python3.9/site-packages (from tensorflow!=2.6.0,!=2.6.1,<2.8.0,>=2.2.0->alibi-detect==0.8.1) (3.19.4)\n",
      "Requirement already satisfied: keras-preprocessing~=1.1.2 in /Users/josh/opt/anaconda3/envs/data-science/lib/python3.9/site-packages (from tensorflow!=2.6.0,!=2.6.1,<2.8.0,>=2.2.0->alibi-detect==0.8.1) (1.1.2)\n",
      "Requirement already satisfied: google-pasta~=0.2 in /Users/josh/opt/anaconda3/envs/data-science/lib/python3.9/site-packages (from tensorflow!=2.6.0,!=2.6.1,<2.8.0,>=2.2.0->alibi-detect==0.8.1) (0.2.0)\n",
      "Requirement already satisfied: h5py~=3.1.0 in /Users/josh/opt/anaconda3/envs/data-science/lib/python3.9/site-packages (from tensorflow!=2.6.0,!=2.6.1,<2.8.0,>=2.2.0->alibi-detect==0.8.1) (3.1.0)\n",
      "Requirement already satisfied: grpcio~=1.34.0 in /Users/josh/opt/anaconda3/envs/data-science/lib/python3.9/site-packages (from tensorflow!=2.6.0,!=2.6.1,<2.8.0,>=2.2.0->alibi-detect==0.8.1) (1.34.1)\n",
      "Requirement already satisfied: flatbuffers~=1.12.0 in /Users/josh/opt/anaconda3/envs/data-science/lib/python3.9/site-packages (from tensorflow!=2.6.0,!=2.6.1,<2.8.0,>=2.2.0->alibi-detect==0.8.1) (1.12)\n",
      "Requirement already satisfied: astunparse~=1.6.3 in /Users/josh/opt/anaconda3/envs/data-science/lib/python3.9/site-packages (from tensorflow!=2.6.0,!=2.6.1,<2.8.0,>=2.2.0->alibi-detect==0.8.1) (1.6.3)\n",
      "Requirement already satisfied: wheel~=0.35 in /Users/josh/opt/anaconda3/envs/data-science/lib/python3.9/site-packages (from tensorflow!=2.6.0,!=2.6.1,<2.8.0,>=2.2.0->alibi-detect==0.8.1) (0.37.1)\n",
      "Requirement already satisfied: keras-nightly~=2.5.0.dev in /Users/josh/opt/anaconda3/envs/data-science/lib/python3.9/site-packages (from tensorflow!=2.6.0,!=2.6.1,<2.8.0,>=2.2.0->alibi-detect==0.8.1) (2.5.0.dev2021032900)\n",
      "Requirement already satisfied: typing-extensions~=3.7.4 in /Users/josh/opt/anaconda3/envs/data-science/lib/python3.9/site-packages (from tensorflow!=2.6.0,!=2.6.1,<2.8.0,>=2.2.0->alibi-detect==0.8.1) (3.7.4.3)\n",
      "Requirement already satisfied: tensorflow-estimator<2.6.0,>=2.5.0 in /Users/josh/opt/anaconda3/envs/data-science/lib/python3.9/site-packages (from tensorflow!=2.6.0,!=2.6.1,<2.8.0,>=2.2.0->alibi-detect==0.8.1) (2.5.0)\n",
      "Requirement already satisfied: tensorboard~=2.5 in /Users/josh/opt/anaconda3/envs/data-science/lib/python3.9/site-packages (from tensorflow!=2.6.0,!=2.6.1,<2.8.0,>=2.2.0->alibi-detect==0.8.1) (2.8.0)\n",
      "Requirement already satisfied: gast==0.4.0 in /Users/josh/opt/anaconda3/envs/data-science/lib/python3.9/site-packages (from tensorflow!=2.6.0,!=2.6.1,<2.8.0,>=2.2.0->alibi-detect==0.8.1) (0.4.0)\n",
      "Requirement already satisfied: opt-einsum~=3.3.0 in /Users/josh/opt/anaconda3/envs/data-science/lib/python3.9/site-packages (from tensorflow!=2.6.0,!=2.6.1,<2.8.0,>=2.2.0->alibi-detect==0.8.1) (3.3.0)\n",
      "Requirement already satisfied: wrapt~=1.12.1 in /Users/josh/opt/anaconda3/envs/data-science/lib/python3.9/site-packages (from tensorflow!=2.6.0,!=2.6.1,<2.8.0,>=2.2.0->alibi-detect==0.8.1) (1.12.1)\n",
      "Requirement already satisfied: termcolor~=1.1.0 in /Users/josh/opt/anaconda3/envs/data-science/lib/python3.9/site-packages (from tensorflow!=2.6.0,!=2.6.1,<2.8.0,>=2.2.0->alibi-detect==0.8.1) (1.1.0)\n",
      "Requirement already satisfied: absl-py~=0.10 in /Users/josh/opt/anaconda3/envs/data-science/lib/python3.9/site-packages (from tensorflow!=2.6.0,!=2.6.1,<2.8.0,>=2.2.0->alibi-detect==0.8.1) (0.15.0)\n",
      "Requirement already satisfied: tensorboard-plugin-wit>=1.6.0 in /Users/josh/opt/anaconda3/envs/data-science/lib/python3.9/site-packages (from tensorboard~=2.5->tensorflow!=2.6.0,!=2.6.1,<2.8.0,>=2.2.0->alibi-detect==0.8.1) (1.8.1)\n",
      "Requirement already satisfied: markdown>=2.6.8 in /Users/josh/opt/anaconda3/envs/data-science/lib/python3.9/site-packages (from tensorboard~=2.5->tensorflow!=2.6.0,!=2.6.1,<2.8.0,>=2.2.0->alibi-detect==0.8.1) (3.3.6)\n",
      "Requirement already satisfied: tensorboard-data-server<0.7.0,>=0.6.0 in /Users/josh/opt/anaconda3/envs/data-science/lib/python3.9/site-packages (from tensorboard~=2.5->tensorflow!=2.6.0,!=2.6.1,<2.8.0,>=2.2.0->alibi-detect==0.8.1) (0.6.1)\n",
      "Requirement already satisfied: google-auth-oauthlib<0.5,>=0.4.1 in /Users/josh/opt/anaconda3/envs/data-science/lib/python3.9/site-packages (from tensorboard~=2.5->tensorflow!=2.6.0,!=2.6.1,<2.8.0,>=2.2.0->alibi-detect==0.8.1) (0.4.6)\n",
      "Requirement already satisfied: werkzeug>=0.11.15 in /Users/josh/opt/anaconda3/envs/data-science/lib/python3.9/site-packages (from tensorboard~=2.5->tensorflow!=2.6.0,!=2.6.1,<2.8.0,>=2.2.0->alibi-detect==0.8.1) (2.0.2)\n",
      "Requirement already satisfied: google-auth<3,>=1.6.3 in /Users/josh/opt/anaconda3/envs/data-science/lib/python3.9/site-packages (from tensorboard~=2.5->tensorflow!=2.6.0,!=2.6.1,<2.8.0,>=2.2.0->alibi-detect==0.8.1) (2.6.0)\n",
      "Requirement already satisfied: pyasn1-modules>=0.2.1 in /Users/josh/opt/anaconda3/envs/data-science/lib/python3.9/site-packages (from google-auth<3,>=1.6.3->tensorboard~=2.5->tensorflow!=2.6.0,!=2.6.1,<2.8.0,>=2.2.0->alibi-detect==0.8.1) (0.2.8)\n",
      "Requirement already satisfied: cachetools<6.0,>=2.0.0 in /Users/josh/opt/anaconda3/envs/data-science/lib/python3.9/site-packages (from google-auth<3,>=1.6.3->tensorboard~=2.5->tensorflow!=2.6.0,!=2.6.1,<2.8.0,>=2.2.0->alibi-detect==0.8.1) (5.0.0)\n",
      "Requirement already satisfied: rsa<5,>=3.1.4 in /Users/josh/opt/anaconda3/envs/data-science/lib/python3.9/site-packages (from google-auth<3,>=1.6.3->tensorboard~=2.5->tensorflow!=2.6.0,!=2.6.1,<2.8.0,>=2.2.0->alibi-detect==0.8.1) (4.8)\n",
      "Requirement already satisfied: requests-oauthlib>=0.7.0 in /Users/josh/opt/anaconda3/envs/data-science/lib/python3.9/site-packages (from google-auth-oauthlib<0.5,>=0.4.1->tensorboard~=2.5->tensorflow!=2.6.0,!=2.6.1,<2.8.0,>=2.2.0->alibi-detect==0.8.1) (1.3.1)\n",
      "Requirement already satisfied: importlib-metadata>=4.4 in /Users/josh/opt/anaconda3/envs/data-science/lib/python3.9/site-packages (from markdown>=2.6.8->tensorboard~=2.5->tensorflow!=2.6.0,!=2.6.1,<2.8.0,>=2.2.0->alibi-detect==0.8.1) (4.10.1)\n",
      "Requirement already satisfied: zipp>=0.5 in /Users/josh/opt/anaconda3/envs/data-science/lib/python3.9/site-packages (from importlib-metadata>=4.4->markdown>=2.6.8->tensorboard~=2.5->tensorflow!=2.6.0,!=2.6.1,<2.8.0,>=2.2.0->alibi-detect==0.8.1) (3.7.0)\n",
      "Requirement already satisfied: pyasn1<0.5.0,>=0.4.6 in /Users/josh/opt/anaconda3/envs/data-science/lib/python3.9/site-packages (from pyasn1-modules>=0.2.1->google-auth<3,>=1.6.3->tensorboard~=2.5->tensorflow!=2.6.0,!=2.6.1,<2.8.0,>=2.2.0->alibi-detect==0.8.1) (0.4.8)\n",
      "Requirement already satisfied: oauthlib>=3.0.0 in /Users/josh/opt/anaconda3/envs/data-science/lib/python3.9/site-packages (from requests-oauthlib>=0.7.0->google-auth-oauthlib<0.5,>=0.4.1->tensorboard~=2.5->tensorflow!=2.6.0,!=2.6.1,<2.8.0,>=2.2.0->alibi-detect==0.8.1) (3.2.0)\n",
      "Requirement already satisfied: cloudpickle>=1.3 in /Users/josh/opt/anaconda3/envs/data-science/lib/python3.9/site-packages (from tensorflow-probability<0.13.0,>=0.8.0->alibi-detect==0.8.1) (2.0.0)\n",
      "Requirement already satisfied: dm-tree in /Users/josh/opt/anaconda3/envs/data-science/lib/python3.9/site-packages (from tensorflow-probability<0.13.0,>=0.8.0->alibi-detect==0.8.1) (0.1.6)\n",
      "Requirement already satisfied: decorator in /Users/josh/opt/anaconda3/envs/data-science/lib/python3.9/site-packages (from tensorflow-probability<0.13.0,>=0.8.0->alibi-detect==0.8.1) (5.1.1)\n",
      "Requirement already satisfied: tokenizers!=0.11.3,>=0.10.1 in /Users/josh/opt/anaconda3/envs/data-science/lib/python3.9/site-packages (from transformers<5.0.0,>=4.0.0->alibi-detect==0.8.1) (0.11.4)\n",
      "Requirement already satisfied: filelock in /Users/josh/opt/anaconda3/envs/data-science/lib/python3.9/site-packages (from transformers<5.0.0,>=4.0.0->alibi-detect==0.8.1) (3.4.2)\n",
      "Requirement already satisfied: pyyaml>=5.1 in /Users/josh/opt/anaconda3/envs/data-science/lib/python3.9/site-packages (from transformers<5.0.0,>=4.0.0->alibi-detect==0.8.1) (5.4.1)\n",
      "Requirement already satisfied: sacremoses in /Users/josh/opt/anaconda3/envs/data-science/lib/python3.9/site-packages (from transformers<5.0.0,>=4.0.0->alibi-detect==0.8.1) (0.0.47)\n",
      "Requirement already satisfied: huggingface-hub<1.0,>=0.1.0 in /Users/josh/opt/anaconda3/envs/data-science/lib/python3.9/site-packages (from transformers<5.0.0,>=4.0.0->alibi-detect==0.8.1) (0.4.0)\n",
      "Requirement already satisfied: regex!=2019.12.17 in /Users/josh/opt/anaconda3/envs/data-science/lib/python3.9/site-packages (from transformers<5.0.0,>=4.0.0->alibi-detect==0.8.1) (2022.1.18)\n",
      "Requirement already satisfied: click in /Users/josh/opt/anaconda3/envs/data-science/lib/python3.9/site-packages (from sacremoses->transformers<5.0.0,>=4.0.0->alibi-detect==0.8.1) (8.0.3)\n",
      "Installing collected packages: alibi-detect\n",
      "  Attempting uninstall: alibi-detect\n",
      "    Found existing installation: alibi-detect 0.9.1\n",
      "    Uninstalling alibi-detect-0.9.1:\n",
      "      Successfully uninstalled alibi-detect-0.9.1\n",
      "Successfully installed alibi-detect-0.8.1\n",
      "Requirement already satisfied: fsspec in /Users/josh/opt/anaconda3/envs/data-science/lib/python3.9/site-packages (2022.5.0)\n",
      "Requirement already satisfied: gcsfs in /Users/josh/opt/anaconda3/envs/data-science/lib/python3.9/site-packages (2022.5.0)\n",
      "Requirement already satisfied: google-auth>=1.2 in /Users/josh/opt/anaconda3/envs/data-science/lib/python3.9/site-packages (from gcsfs) (2.6.0)\n",
      "Requirement already satisfied: google-cloud-storage in /Users/josh/opt/anaconda3/envs/data-science/lib/python3.9/site-packages (from gcsfs) (2.3.0)\n",
      "Requirement already satisfied: decorator>4.1.2 in /Users/josh/opt/anaconda3/envs/data-science/lib/python3.9/site-packages (from gcsfs) (5.1.1)\n",
      "Requirement already satisfied: fsspec==2022.5.0 in /Users/josh/opt/anaconda3/envs/data-science/lib/python3.9/site-packages (from gcsfs) (2022.5.0)\n",
      "Requirement already satisfied: requests in /Users/josh/opt/anaconda3/envs/data-science/lib/python3.9/site-packages (from gcsfs) (2.27.1)\n",
      "Requirement already satisfied: aiohttp<4 in /Users/josh/opt/anaconda3/envs/data-science/lib/python3.9/site-packages (from gcsfs) (3.8.1)\n",
      "Requirement already satisfied: google-auth-oauthlib in /Users/josh/opt/anaconda3/envs/data-science/lib/python3.9/site-packages (from gcsfs) (0.4.6)\n",
      "Requirement already satisfied: attrs>=17.3.0 in /Users/josh/opt/anaconda3/envs/data-science/lib/python3.9/site-packages (from aiohttp<4->gcsfs) (21.4.0)\n",
      "Requirement already satisfied: charset-normalizer<3.0,>=2.0 in /Users/josh/opt/anaconda3/envs/data-science/lib/python3.9/site-packages (from aiohttp<4->gcsfs) (2.0.11)\n",
      "Requirement already satisfied: async-timeout<5.0,>=4.0.0a3 in /Users/josh/opt/anaconda3/envs/data-science/lib/python3.9/site-packages (from aiohttp<4->gcsfs) (4.0.2)\n",
      "Requirement already satisfied: multidict<7.0,>=4.5 in /Users/josh/opt/anaconda3/envs/data-science/lib/python3.9/site-packages (from aiohttp<4->gcsfs) (6.0.2)\n",
      "Requirement already satisfied: yarl<2.0,>=1.0 in /Users/josh/opt/anaconda3/envs/data-science/lib/python3.9/site-packages (from aiohttp<4->gcsfs) (1.7.2)\n",
      "Requirement already satisfied: aiosignal>=1.1.2 in /Users/josh/opt/anaconda3/envs/data-science/lib/python3.9/site-packages (from aiohttp<4->gcsfs) (1.2.0)\n",
      "Requirement already satisfied: frozenlist>=1.1.1 in /Users/josh/opt/anaconda3/envs/data-science/lib/python3.9/site-packages (from aiohttp<4->gcsfs) (1.3.0)\n",
      "Requirement already satisfied: six>=1.9.0 in /Users/josh/opt/anaconda3/envs/data-science/lib/python3.9/site-packages (from google-auth>=1.2->gcsfs) (1.15.0)\n",
      "Requirement already satisfied: rsa<5,>=3.1.4 in /Users/josh/opt/anaconda3/envs/data-science/lib/python3.9/site-packages (from google-auth>=1.2->gcsfs) (4.8)\n",
      "Requirement already satisfied: cachetools<6.0,>=2.0.0 in /Users/josh/opt/anaconda3/envs/data-science/lib/python3.9/site-packages (from google-auth>=1.2->gcsfs) (5.0.0)\n",
      "Requirement already satisfied: pyasn1-modules>=0.2.1 in /Users/josh/opt/anaconda3/envs/data-science/lib/python3.9/site-packages (from google-auth>=1.2->gcsfs) (0.2.8)\n",
      "Requirement already satisfied: pyasn1<0.5.0,>=0.4.6 in /Users/josh/opt/anaconda3/envs/data-science/lib/python3.9/site-packages (from pyasn1-modules>=0.2.1->google-auth>=1.2->gcsfs) (0.4.8)\n",
      "Requirement already satisfied: idna>=2.0 in /Users/josh/opt/anaconda3/envs/data-science/lib/python3.9/site-packages (from yarl<2.0,>=1.0->aiohttp<4->gcsfs) (3.3)\n",
      "Requirement already satisfied: requests-oauthlib>=0.7.0 in /Users/josh/opt/anaconda3/envs/data-science/lib/python3.9/site-packages (from google-auth-oauthlib->gcsfs) (1.3.1)\n",
      "Requirement already satisfied: oauthlib>=3.0.0 in /Users/josh/opt/anaconda3/envs/data-science/lib/python3.9/site-packages (from requests-oauthlib>=0.7.0->google-auth-oauthlib->gcsfs) (3.2.0)\n",
      "Requirement already satisfied: certifi>=2017.4.17 in /Users/josh/opt/anaconda3/envs/data-science/lib/python3.9/site-packages (from requests->gcsfs) (2021.10.8)\n",
      "Requirement already satisfied: urllib3<1.27,>=1.21.1 in /Users/josh/opt/anaconda3/envs/data-science/lib/python3.9/site-packages (from requests->gcsfs) (1.26.5)\n",
      "Requirement already satisfied: google-api-core!=2.0.*,!=2.1.*,!=2.2.*,!=2.3.0,<3.0.0dev,>=1.31.5 in /Users/josh/opt/anaconda3/envs/data-science/lib/python3.9/site-packages (from google-cloud-storage->gcsfs) (2.8.1)\n",
      "Requirement already satisfied: protobuf in /Users/josh/opt/anaconda3/envs/data-science/lib/python3.9/site-packages (from google-cloud-storage->gcsfs) (3.19.4)\n",
      "Requirement already satisfied: google-cloud-core<3.0dev,>=2.3.0 in /Users/josh/opt/anaconda3/envs/data-science/lib/python3.9/site-packages (from google-cloud-storage->gcsfs) (2.3.0)\n",
      "Requirement already satisfied: google-resumable-media>=2.3.2 in /Users/josh/opt/anaconda3/envs/data-science/lib/python3.9/site-packages (from google-cloud-storage->gcsfs) (2.3.3)\n",
      "Requirement already satisfied: googleapis-common-protos<2.0dev,>=1.56.2 in /Users/josh/opt/anaconda3/envs/data-science/lib/python3.9/site-packages (from google-api-core!=2.0.*,!=2.1.*,!=2.2.*,!=2.3.0,<3.0.0dev,>=1.31.5->google-cloud-storage->gcsfs) (1.56.2)\n",
      "Requirement already satisfied: google-crc32c<2.0dev,>=1.0 in /Users/josh/opt/anaconda3/envs/data-science/lib/python3.9/site-packages (from google-resumable-media>=2.3.2->google-cloud-storage->gcsfs) (1.3.0)\n",
      "Requirement already satisfied: dill in /Users/josh/opt/anaconda3/envs/data-science/lib/python3.9/site-packages (0.3.4)\n"
     ]
    }
   ],
   "source": [
    "!pip install seldon-deploy-sdk==1.5.0\n",
    "!pip install alibi==0.6.4\n",
    "!pip install alibi-detect==0.8.1\n",
    "!pip install fsspec\n",
    "!pip install gcsfs\n",
    "!pip install dill"
   ]
  },
  {
   "cell_type": "code",
   "execution_count": 26,
   "metadata": {
    "id": "D9RurRkiZljs"
   },
   "outputs": [],
   "source": [
    "import json\n",
    "import pprint\n",
    "from sklearn import preprocessing, model_selection, metrics, feature_selection\n",
    "from sklearn.svm import SVC\n",
    "from sklearn import neighbors, linear_model, svm, tree, ensemble\n",
    "from sklearn.ensemble import AdaBoostClassifier\n",
    "from sklearn.metrics import confusion_matrix, f1_score\n",
    "from sklearn.metrics import accuracy_score\n",
    "import numpy as np\n",
    "import pickle \n",
    "import joblib\n",
    "import dill\n",
    "import os \n",
    "import matplotlib.pyplot as plt\n",
    "import seaborn as sns\n",
    "import tensorflow as tf\n",
    "import pandas as pd\n",
    "from tensorflow.keras.layers import Dense, InputLayer\n",
    "from alibi.explainers import AnchorTabular\n",
    "from alibi_detect.datasets import fetch_kdd\n",
    "from alibi_detect.models.tensorflow.losses import elbo\n",
    "from alibi_detect.od import OutlierVAE\n",
    "from alibi_detect.cd import TabularDrift\n",
    "from alibi_detect.utils.data import create_outlier_batch\n",
    "from alibi_detect.utils.fetching import fetch_detector\n",
    "from alibi_detect.utils.saving import save_detector, load_detector\n",
    "from alibi_detect.utils.visualize import plot_instance_score, plot_feature_outlier_tabular, plot_roc\n",
    "from seldon_deploy_sdk import Configuration, ApiClient, SeldonDeploymentsApi, OutlierDetectorApi, DriftDetectorApi, PredictApi\n",
    "from seldon_deploy_sdk.auth import OIDCAuthenticator\n",
    "from seldon_deploy_sdk.rest import ApiException\n",
    "\n"
   ]
  },
  {
   "cell_type": "markdown",
   "metadata": {
    "id": "Cr6yO693qzfH"
   },
   "source": [
    "We then download our pre-processed dataset to save time in getting to the exciting parts:"
   ]
  },
  {
   "cell_type": "code",
   "execution_count": 2,
   "metadata": {
    "id": "QBYt8NSjqxTl"
   },
   "outputs": [
    {
     "name": "stdout",
     "output_type": "stream",
     "text": [
      "\n",
      "\n",
      "Updates are available for some Google Cloud CLI components.  To install them,\n",
      "please run:\n",
      "  $ gcloud components update\n",
      "\n",
      "If you experience problems with multiprocessing on MacOS, they might be related to https://bugs.python.org/issue33725. You can disable multiprocessing by editing your .boto config or by adding the following flag to your command: `-o \"GSUtil:parallel_process_count=1\"`. Note that multithreading is still available even if you disable multiprocessing.\n",
      "\n",
      "Copying gs://tom-seldon-examples/retail-workshop/data/X_test.npy...\n",
      "Copying gs://tom-seldon-examples/retail-workshop/data/Y_test.npy...             \n",
      "Copying gs://tom-seldon-examples/retail-workshop/data/X_train.npy...\n",
      "Copying gs://tom-seldon-examples/retail-workshop/data/Y_train.npy...\n",
      "Copying gs://tom-seldon-examples/retail-workshop/data/data.csv...               \n",
      "\\ [5/5 files][ 43.1 MiB/ 43.1 MiB] 100% Done                                    \n",
      "Operation completed over 5 objects/43.1 MiB.                                     \n"
     ]
    }
   ],
   "source": [
    "!gsutil -m cp -r gs://tom-seldon-examples/retail-workshop/data ."
   ]
  },
  {
   "cell_type": "markdown",
   "metadata": {
    "id": "aX6yZr4FRc3t"
   },
   "source": [
    "### Data Exploration\n",
    "\n",
    "Typically e-commerce datasets are proprietary and consequently hard to find among publicly available data. However, The UCI Machine Learning Repository has curated a retail dataset containing actual transactions from 2010 and 2011. The dataset is maintained on their site, where it can be found by the title \"Online Retail\". The following description is provided via Kaggle: \n",
    "\n",
    "\"This is a transnational data set which contains all the transactions occurring between 01/12/2010 and 09/12/2011 for a UK-based and registered non-store online retail.The company mainly sells unique all-occasion gifts. Many customers of the company are wholesalers.\"\n",
    "\n",
    "We will first explore the dataset and then train models on a pre-processed version of the dataset that was transformed through following the fantastic work of Fabien Daniel whose methods are detailed in [this notebook](https://www.kaggle.com/fabiendaniel/customer-segmentation).\n",
    "\n",
    "Lets dive in and explore a subset of the dataset:"
   ]
  },
  {
   "cell_type": "code",
   "execution_count": 3,
   "metadata": {
    "id": "gOYDKkTIcej4"
   },
   "outputs": [
    {
     "name": "stdout",
     "output_type": "stream",
     "text": [
      "Dataframe dimensions: (3000, 8)\n"
     ]
    }
   ],
   "source": [
    "df_initial = pd.read_csv('data/data.csv', encoding=\"ISO-8859-1\", nrows=3000,\n",
    "                         dtype={'CustomerID': str,'InvoiceID': str})\n",
    "\n",
    "print('Dataframe dimensions:', df_initial.shape)"
   ]
  },
  {
   "cell_type": "code",
   "execution_count": 4,
   "metadata": {
    "id": "aI8vVdPwSY0C"
   },
   "outputs": [
    {
     "name": "stderr",
     "output_type": "stream",
     "text": [
      "/var/folders/xv/n51qjph14_52lj9y4706w6sc0000gn/T/ipykernel_10149/1852387864.py:5: FutureWarning: The frame.append method is deprecated and will be removed from pandas in a future version. Use pandas.concat instead.\n",
      "  tab_info=tab_info.append(pd.DataFrame(df_initial.isnull().sum()).T.rename(index={0:'null values (nb)'}))\n",
      "/var/folders/xv/n51qjph14_52lj9y4706w6sc0000gn/T/ipykernel_10149/1852387864.py:6: FutureWarning: The frame.append method is deprecated and will be removed from pandas in a future version. Use pandas.concat instead.\n",
      "  tab_info=tab_info.append(pd.DataFrame(df_initial.isnull().sum()/df_initial.shape[0]*100).T.\n"
     ]
    },
    {
     "data": {
      "text/html": [
       "<div>\n",
       "<style scoped>\n",
       "    .dataframe tbody tr th:only-of-type {\n",
       "        vertical-align: middle;\n",
       "    }\n",
       "\n",
       "    .dataframe tbody tr th {\n",
       "        vertical-align: top;\n",
       "    }\n",
       "\n",
       "    .dataframe thead th {\n",
       "        text-align: right;\n",
       "    }\n",
       "</style>\n",
       "<table border=\"1\" class=\"dataframe\">\n",
       "  <thead>\n",
       "    <tr style=\"text-align: right;\">\n",
       "      <th></th>\n",
       "      <th>InvoiceNo</th>\n",
       "      <th>StockCode</th>\n",
       "      <th>Description</th>\n",
       "      <th>Quantity</th>\n",
       "      <th>InvoiceDate</th>\n",
       "      <th>UnitPrice</th>\n",
       "      <th>CustomerID</th>\n",
       "      <th>Country</th>\n",
       "    </tr>\n",
       "  </thead>\n",
       "  <tbody>\n",
       "    <tr>\n",
       "      <th>column type</th>\n",
       "      <td>object</td>\n",
       "      <td>object</td>\n",
       "      <td>object</td>\n",
       "      <td>int64</td>\n",
       "      <td>datetime64[ns]</td>\n",
       "      <td>float64</td>\n",
       "      <td>object</td>\n",
       "      <td>object</td>\n",
       "    </tr>\n",
       "    <tr>\n",
       "      <th>null values (nb)</th>\n",
       "      <td>0</td>\n",
       "      <td>0</td>\n",
       "      <td>10</td>\n",
       "      <td>0</td>\n",
       "      <td>0</td>\n",
       "      <td>0</td>\n",
       "      <td>1081</td>\n",
       "      <td>0</td>\n",
       "    </tr>\n",
       "    <tr>\n",
       "      <th>null values (%)</th>\n",
       "      <td>0.0</td>\n",
       "      <td>0.0</td>\n",
       "      <td>0.333333</td>\n",
       "      <td>0.0</td>\n",
       "      <td>0.0</td>\n",
       "      <td>0.0</td>\n",
       "      <td>36.033333</td>\n",
       "      <td>0.0</td>\n",
       "    </tr>\n",
       "  </tbody>\n",
       "</table>\n",
       "</div>"
      ],
      "text/plain": [
       "                 InvoiceNo StockCode Description Quantity     InvoiceDate  \\\n",
       "column type         object    object      object    int64  datetime64[ns]   \n",
       "null values (nb)         0         0          10        0               0   \n",
       "null values (%)        0.0       0.0    0.333333      0.0             0.0   \n",
       "\n",
       "                 UnitPrice CustomerID Country  \n",
       "column type        float64     object  object  \n",
       "null values (nb)         0       1081       0  \n",
       "null values (%)        0.0  36.033333     0.0  "
      ]
     },
     "metadata": {},
     "output_type": "display_data"
    },
    {
     "data": {
      "text/html": [
       "<div>\n",
       "<style scoped>\n",
       "    .dataframe tbody tr th:only-of-type {\n",
       "        vertical-align: middle;\n",
       "    }\n",
       "\n",
       "    .dataframe tbody tr th {\n",
       "        vertical-align: top;\n",
       "    }\n",
       "\n",
       "    .dataframe thead th {\n",
       "        text-align: right;\n",
       "    }\n",
       "</style>\n",
       "<table border=\"1\" class=\"dataframe\">\n",
       "  <thead>\n",
       "    <tr style=\"text-align: right;\">\n",
       "      <th></th>\n",
       "      <th>InvoiceNo</th>\n",
       "      <th>StockCode</th>\n",
       "      <th>Description</th>\n",
       "      <th>Quantity</th>\n",
       "      <th>InvoiceDate</th>\n",
       "      <th>UnitPrice</th>\n",
       "      <th>CustomerID</th>\n",
       "      <th>Country</th>\n",
       "    </tr>\n",
       "  </thead>\n",
       "  <tbody>\n",
       "    <tr>\n",
       "      <th>0</th>\n",
       "      <td>536365</td>\n",
       "      <td>85123A</td>\n",
       "      <td>WHITE HANGING HEART T-LIGHT HOLDER</td>\n",
       "      <td>6</td>\n",
       "      <td>2010-12-01 08:26:00</td>\n",
       "      <td>2.55</td>\n",
       "      <td>17850</td>\n",
       "      <td>United Kingdom</td>\n",
       "    </tr>\n",
       "    <tr>\n",
       "      <th>1</th>\n",
       "      <td>536365</td>\n",
       "      <td>71053</td>\n",
       "      <td>WHITE METAL LANTERN</td>\n",
       "      <td>6</td>\n",
       "      <td>2010-12-01 08:26:00</td>\n",
       "      <td>3.39</td>\n",
       "      <td>17850</td>\n",
       "      <td>United Kingdom</td>\n",
       "    </tr>\n",
       "    <tr>\n",
       "      <th>2</th>\n",
       "      <td>536365</td>\n",
       "      <td>84406B</td>\n",
       "      <td>CREAM CUPID HEARTS COAT HANGER</td>\n",
       "      <td>8</td>\n",
       "      <td>2010-12-01 08:26:00</td>\n",
       "      <td>2.75</td>\n",
       "      <td>17850</td>\n",
       "      <td>United Kingdom</td>\n",
       "    </tr>\n",
       "    <tr>\n",
       "      <th>3</th>\n",
       "      <td>536365</td>\n",
       "      <td>84029G</td>\n",
       "      <td>KNITTED UNION FLAG HOT WATER BOTTLE</td>\n",
       "      <td>6</td>\n",
       "      <td>2010-12-01 08:26:00</td>\n",
       "      <td>3.39</td>\n",
       "      <td>17850</td>\n",
       "      <td>United Kingdom</td>\n",
       "    </tr>\n",
       "    <tr>\n",
       "      <th>4</th>\n",
       "      <td>536365</td>\n",
       "      <td>84029E</td>\n",
       "      <td>RED WOOLLY HOTTIE WHITE HEART.</td>\n",
       "      <td>6</td>\n",
       "      <td>2010-12-01 08:26:00</td>\n",
       "      <td>3.39</td>\n",
       "      <td>17850</td>\n",
       "      <td>United Kingdom</td>\n",
       "    </tr>\n",
       "  </tbody>\n",
       "</table>\n",
       "</div>"
      ],
      "text/plain": [
       "  InvoiceNo StockCode                          Description  Quantity  \\\n",
       "0    536365    85123A   WHITE HANGING HEART T-LIGHT HOLDER         6   \n",
       "1    536365     71053                  WHITE METAL LANTERN         6   \n",
       "2    536365    84406B       CREAM CUPID HEARTS COAT HANGER         8   \n",
       "3    536365    84029G  KNITTED UNION FLAG HOT WATER BOTTLE         6   \n",
       "4    536365    84029E       RED WOOLLY HOTTIE WHITE HEART.         6   \n",
       "\n",
       "          InvoiceDate  UnitPrice CustomerID         Country  \n",
       "0 2010-12-01 08:26:00       2.55      17850  United Kingdom  \n",
       "1 2010-12-01 08:26:00       3.39      17850  United Kingdom  \n",
       "2 2010-12-01 08:26:00       2.75      17850  United Kingdom  \n",
       "3 2010-12-01 08:26:00       3.39      17850  United Kingdom  \n",
       "4 2010-12-01 08:26:00       3.39      17850  United Kingdom  "
      ]
     },
     "metadata": {},
     "output_type": "display_data"
    }
   ],
   "source": [
    "df_initial['InvoiceDate'] = pd.to_datetime(df_initial['InvoiceDate'])\n",
    "\n",
    "# gives some infos on columns types and numer of null values\n",
    "tab_info=pd.DataFrame(df_initial.dtypes).T.rename(index={0:'column type'})\n",
    "tab_info=tab_info.append(pd.DataFrame(df_initial.isnull().sum()).T.rename(index={0:'null values (nb)'}))\n",
    "tab_info=tab_info.append(pd.DataFrame(df_initial.isnull().sum()/df_initial.shape[0]*100).T.\n",
    "                         rename(index={0:'null values (%)'}))\n",
    "display(tab_info)\n",
    "\n",
    "# show first lines\n",
    "display(df_initial[:5])"
   ]
  },
  {
   "cell_type": "markdown",
   "metadata": {
    "id": "2lD7KaiT0SBx"
   },
   "source": [
    "The dataset contains the following features: \n",
    "\n",
    "**InvoiceNo**: Invoice number. Nominal, a 6-digit integral number uniquely assigned to each transaction. If this code starts with letter 'c', it indicates a cancellation.\n",
    "\n",
    "**StockCode**: Product (item) code. Nominal, a 5-digit integral number uniquely assigned to each distinct product.\n",
    "\n",
    "**Description**: Product (item) name. Nominal.\n",
    "\n",
    "**Quantity**: The quantities of each product (item) per transaction. Numeric.\n",
    "\n",
    "**InvoiceDate**: Invice Date and time. Numeric, the day and time when each transaction was generated.\n",
    "\n",
    "**UnitPrice**: Unit price. Numeric, Product price per unit in sterling.\n",
    "\n",
    "**CustomerID**: Customer number. Nominal, a 5-digit integral number uniquely assigned to each customer.\n",
    "\n",
    "**Country**: Country name. Nominal, the name of the country where each customer resides."
   ]
  },
  {
   "cell_type": "markdown",
   "metadata": {},
   "source": [
    "As you can see, there are all kinds of weird and wonderful products being purchased:"
   ]
  },
  {
   "cell_type": "markdown",
   "metadata": {},
   "source": [
    "![](https://raw.githubusercontent.com/ribenamaplesyrup/seldon-retail-workshop/main/assets/tacky_waterbottle.jpg \"KNITTED UNION FLAG HOT WATER BOTTLE\")\n"
   ]
  },
  {
   "cell_type": "markdown",
   "metadata": {
    "id": "k2nAnRGxkOZZ"
   },
   "source": [
    "We will be training models using a transformed version of this dataset. Rather than detailing each individual item bought, the transformed dataset details the spending behavoir of each individual customer across different categories of products. We don't have any product categories in the original dataset so we create this feature through analysing keywords used within product descriptions and applying k-means clustering to create a finite number of product clusters. We find in our analysis that 5 clusters is a suitable number to seperate products without creating clusters containing too few products (calculated using silhouette score). The following wordclouds demonstrate the splits we generate:"
   ]
  },
  {
   "cell_type": "markdown",
   "metadata": {
    "id": "EXd0w4jAkOZa"
   },
   "source": [
    "<img src=\"https://raw.githubusercontent.com/ribenamaplesyrup/seldon-retail-workshop/main/assets/download.png\">"
   ]
  },
  {
   "cell_type": "markdown",
   "metadata": {
    "id": "B7HQJpFekOZa"
   },
   "source": [
    "We see that cluster no1 contains words we might associate more with gifts ('christmas', 'card', 'wrap', 'decoration') and no3 more with luxury goods ('lace', 'necklace'), although some of the other clusters are less differentiated.\n",
    "\n",
    "Based on customer spending across each of these categories of product, we can similarly use k-means to cluster customers into different segments. Performing similar analysis to how we clustered product categories, we find 11 clusters is the most suitable for segmenting customers within this dataset."
   ]
  },
  {
   "cell_type": "markdown",
   "metadata": {},
   "source": [
    "# Split the Data"
   ]
  },
  {
   "cell_type": "code",
   "execution_count": 5,
   "metadata": {
    "id": "-pOElOiWkOZa"
   },
   "outputs": [],
   "source": [
    "columns = ['mean', 'categ_0', 'categ_1', 'categ_2', 'categ_3', 'categ_4' ] # change to feature_names?\n",
    "class_names = ['0','1','2','3','4','5','6','7','8','9','10']\n",
    "X_train = np.load('data/X_train.npy')\n",
    "Y_train = np.load('data/Y_train.npy')\n",
    "X_test = np.load('data/X_test.npy')\n",
    "Y_test = np.load('data/Y_test.npy')"
   ]
  },
  {
   "cell_type": "markdown",
   "metadata": {
    "id": "yXrmKzJq0SB2"
   },
   "source": [
    "The transformed dataset contains the following features specific to each unique customer:\n",
    "\n",
    "**mean**: mean spend across all transactions\n",
    "\n",
    "**categ_0**: percentage of total spend on products within category 0\n",
    "\n",
    "**categ_1**: percentage of total spend on products within category 1\n",
    "\n",
    "**categ_2**: percentage of total spend on products within category 2\n",
    "\n",
    "**categ_3**: percentage of total spend on products within category 3\n",
    "\n",
    "**categ_4**: percentage of total spend on products within category 4\n",
    "\n",
    "**customer_category**: integer signifying which of the 11 categories the customer aligns most with"
   ]
  },
  {
   "cell_type": "code",
   "execution_count": 6,
   "metadata": {
    "id": "RoczMYGIkOZb"
   },
   "outputs": [
    {
     "data": {
      "text/html": [
       "<div>\n",
       "<style scoped>\n",
       "    .dataframe tbody tr th:only-of-type {\n",
       "        vertical-align: middle;\n",
       "    }\n",
       "\n",
       "    .dataframe tbody tr th {\n",
       "        vertical-align: top;\n",
       "    }\n",
       "\n",
       "    .dataframe thead th {\n",
       "        text-align: right;\n",
       "    }\n",
       "</style>\n",
       "<table border=\"1\" class=\"dataframe\">\n",
       "  <thead>\n",
       "    <tr style=\"text-align: right;\">\n",
       "      <th></th>\n",
       "      <th>mean</th>\n",
       "      <th>categ_0</th>\n",
       "      <th>categ_1</th>\n",
       "      <th>categ_2</th>\n",
       "      <th>categ_3</th>\n",
       "      <th>categ_4</th>\n",
       "      <th>customer_category</th>\n",
       "    </tr>\n",
       "  </thead>\n",
       "  <tbody>\n",
       "    <tr>\n",
       "      <th>0</th>\n",
       "      <td>200.565000</td>\n",
       "      <td>43.015980</td>\n",
       "      <td>11.816618</td>\n",
       "      <td>34.352953</td>\n",
       "      <td>3.814225</td>\n",
       "      <td>7.000224</td>\n",
       "      <td>9</td>\n",
       "    </tr>\n",
       "    <tr>\n",
       "      <th>1</th>\n",
       "      <td>220.310000</td>\n",
       "      <td>5.617085</td>\n",
       "      <td>23.864101</td>\n",
       "      <td>10.576007</td>\n",
       "      <td>6.944760</td>\n",
       "      <td>52.998048</td>\n",
       "      <td>2</td>\n",
       "    </tr>\n",
       "    <tr>\n",
       "      <th>2</th>\n",
       "      <td>166.711667</td>\n",
       "      <td>24.618353</td>\n",
       "      <td>20.467474</td>\n",
       "      <td>20.624431</td>\n",
       "      <td>31.508493</td>\n",
       "      <td>2.781249</td>\n",
       "      <td>6</td>\n",
       "    </tr>\n",
       "    <tr>\n",
       "      <th>3</th>\n",
       "      <td>232.295000</td>\n",
       "      <td>13.323576</td>\n",
       "      <td>39.856648</td>\n",
       "      <td>11.989066</td>\n",
       "      <td>23.009535</td>\n",
       "      <td>11.821176</td>\n",
       "      <td>6</td>\n",
       "    </tr>\n",
       "    <tr>\n",
       "      <th>4</th>\n",
       "      <td>139.870000</td>\n",
       "      <td>32.735755</td>\n",
       "      <td>17.559162</td>\n",
       "      <td>29.033209</td>\n",
       "      <td>16.398263</td>\n",
       "      <td>4.273611</td>\n",
       "      <td>6</td>\n",
       "    </tr>\n",
       "    <tr>\n",
       "      <th>...</th>\n",
       "      <td>...</td>\n",
       "      <td>...</td>\n",
       "      <td>...</td>\n",
       "      <td>...</td>\n",
       "      <td>...</td>\n",
       "      <td>...</td>\n",
       "      <td>...</td>\n",
       "    </tr>\n",
       "    <tr>\n",
       "      <th>2881</th>\n",
       "      <td>674.263333</td>\n",
       "      <td>15.985841</td>\n",
       "      <td>28.804275</td>\n",
       "      <td>26.545020</td>\n",
       "      <td>15.703558</td>\n",
       "      <td>12.961306</td>\n",
       "      <td>6</td>\n",
       "    </tr>\n",
       "    <tr>\n",
       "      <th>2882</th>\n",
       "      <td>406.020000</td>\n",
       "      <td>11.871336</td>\n",
       "      <td>17.999113</td>\n",
       "      <td>27.880400</td>\n",
       "      <td>36.485887</td>\n",
       "      <td>5.763263</td>\n",
       "      <td>6</td>\n",
       "    </tr>\n",
       "    <tr>\n",
       "      <th>2883</th>\n",
       "      <td>194.115000</td>\n",
       "      <td>16.652500</td>\n",
       "      <td>15.403240</td>\n",
       "      <td>0.000000</td>\n",
       "      <td>37.652938</td>\n",
       "      <td>30.291322</td>\n",
       "      <td>6</td>\n",
       "    </tr>\n",
       "    <tr>\n",
       "      <th>2884</th>\n",
       "      <td>145.617500</td>\n",
       "      <td>27.349048</td>\n",
       "      <td>27.055471</td>\n",
       "      <td>17.588889</td>\n",
       "      <td>19.528903</td>\n",
       "      <td>8.477690</td>\n",
       "      <td>6</td>\n",
       "    </tr>\n",
       "    <tr>\n",
       "      <th>2885</th>\n",
       "      <td>178.700000</td>\n",
       "      <td>20.201455</td>\n",
       "      <td>26.944600</td>\n",
       "      <td>30.498041</td>\n",
       "      <td>22.355904</td>\n",
       "      <td>0.000000</td>\n",
       "      <td>6</td>\n",
       "    </tr>\n",
       "  </tbody>\n",
       "</table>\n",
       "<p>2886 rows × 7 columns</p>\n",
       "</div>"
      ],
      "text/plain": [
       "            mean    categ_0    categ_1    categ_2    categ_3    categ_4  \\\n",
       "0     200.565000  43.015980  11.816618  34.352953   3.814225   7.000224   \n",
       "1     220.310000   5.617085  23.864101  10.576007   6.944760  52.998048   \n",
       "2     166.711667  24.618353  20.467474  20.624431  31.508493   2.781249   \n",
       "3     232.295000  13.323576  39.856648  11.989066  23.009535  11.821176   \n",
       "4     139.870000  32.735755  17.559162  29.033209  16.398263   4.273611   \n",
       "...          ...        ...        ...        ...        ...        ...   \n",
       "2881  674.263333  15.985841  28.804275  26.545020  15.703558  12.961306   \n",
       "2882  406.020000  11.871336  17.999113  27.880400  36.485887   5.763263   \n",
       "2883  194.115000  16.652500  15.403240   0.000000  37.652938  30.291322   \n",
       "2884  145.617500  27.349048  27.055471  17.588889  19.528903   8.477690   \n",
       "2885  178.700000  20.201455  26.944600  30.498041  22.355904   0.000000   \n",
       "\n",
       "      customer_category  \n",
       "0                     9  \n",
       "1                     2  \n",
       "2                     6  \n",
       "3                     6  \n",
       "4                     6  \n",
       "...                 ...  \n",
       "2881                  6  \n",
       "2882                  6  \n",
       "2883                  6  \n",
       "2884                  6  \n",
       "2885                  6  \n",
       "\n",
       "[2886 rows x 7 columns]"
      ]
     },
     "execution_count": 6,
     "metadata": {},
     "output_type": "execute_result"
    }
   ],
   "source": [
    "customers = pd.DataFrame(Y_train, columns=['customer_category']).astype(dtype=int)\n",
    "spending = pd.DataFrame(X_train, columns = columns)\n",
    "transformed_dataset = pd.concat([spending, customers], axis=1)\n",
    "transformed_dataset"
   ]
  },
  {
   "cell_type": "markdown",
   "metadata": {
    "id": "iEWdnLO80SB3"
   },
   "source": [
    "We can explore the range of values across each of the features within our dataset:"
   ]
  },
  {
   "cell_type": "code",
   "execution_count": 7,
   "metadata": {
    "id": "93o62rkE0SB3"
   },
   "outputs": [
    {
     "data": {
      "text/plain": [
       "mean                 12425.45\n",
       "categ_0                100.00\n",
       "categ_1                100.00\n",
       "categ_2                100.00\n",
       "categ_3                100.00\n",
       "categ_4                100.00\n",
       "customer_category       10.00\n",
       "dtype: float64"
      ]
     },
     "execution_count": 7,
     "metadata": {},
     "output_type": "execute_result"
    }
   ],
   "source": [
    "transformed_dataset.max(axis=0)"
   ]
  },
  {
   "cell_type": "code",
   "execution_count": 8,
   "metadata": {
    "id": "tXPspr0X0SB4"
   },
   "outputs": [
    {
     "data": {
      "text/plain": [
       "mean                 2.9\n",
       "categ_0              0.0\n",
       "categ_1              0.0\n",
       "categ_2              0.0\n",
       "categ_3              0.0\n",
       "categ_4              0.0\n",
       "customer_category    0.0\n",
       "dtype: float64"
      ]
     },
     "execution_count": 8,
     "metadata": {},
     "output_type": "execute_result"
    }
   ],
   "source": [
    "transformed_dataset.min(axis=0)"
   ]
  },
  {
   "cell_type": "markdown",
   "metadata": {
    "id": "ei4WoQXTZtjq"
   },
   "source": [
    "## Model Training\n",
    "\n",
    "In this section we will adjust a classifier that will classify consumers in the different client categories. "
   ]
  },
  {
   "cell_type": "code",
   "execution_count": 9,
   "metadata": {
    "id": "KrM0vFLtJBnn"
   },
   "outputs": [],
   "source": [
    "# Standardise the dataset\n",
    "mean, stdev = X_train.mean(axis=0), X_train.std(axis=0)\n",
    "X_train = (X_train - mean) / stdev\n",
    "X_test = (X_test - mean) / stdev"
   ]
  },
  {
   "cell_type": "markdown",
   "metadata": {
    "id": "kZXr3-bfcrZr"
   },
   "source": [
    "### Logistic Regression"
   ]
  },
  {
   "cell_type": "code",
   "execution_count": 10,
   "metadata": {
    "id": "se7kBpFlcUm1"
   },
   "outputs": [
    {
     "data": {
      "text/plain": [
       "LogisticRegression(max_iter=4000)"
      ]
     },
     "execution_count": 10,
     "metadata": {},
     "output_type": "execute_result"
    }
   ],
   "source": [
    "lr = linear_model.LogisticRegression(max_iter=4000)\n",
    "lr.fit(X_train, Y_train)"
   ]
  },
  {
   "cell_type": "code",
   "execution_count": 11,
   "metadata": {
    "id": "r4mLxfzSvvAd"
   },
   "outputs": [
    {
     "data": {
      "text/plain": [
       "0.9182825484764543"
      ]
     },
     "execution_count": 11,
     "metadata": {},
     "output_type": "execute_result"
    }
   ],
   "source": [
    "accuracy_score(Y_test, lr.predict(X_test))"
   ]
  },
  {
   "cell_type": "markdown",
   "metadata": {
    "id": "kSDZtLDJ0SB5"
   },
   "source": [
    "### Gradient Boosting Classifier "
   ]
  },
  {
   "cell_type": "code",
   "execution_count": 12,
   "metadata": {
    "id": "7Ck-H1eU0SB6"
   },
   "outputs": [
    {
     "data": {
      "text/plain": [
       "GradientBoostingClassifier()"
      ]
     },
     "execution_count": 12,
     "metadata": {},
     "output_type": "execute_result"
    }
   ],
   "source": [
    "gb=ensemble.GradientBoostingClassifier()\n",
    "gb.fit(X = X_train, y = Y_train)"
   ]
  },
  {
   "cell_type": "code",
   "execution_count": 13,
   "metadata": {
    "id": "oLEZabim10iX"
   },
   "outputs": [
    {
     "data": {
      "text/plain": [
       "0.8933518005540166"
      ]
     },
     "execution_count": 13,
     "metadata": {},
     "output_type": "execute_result"
    }
   ],
   "source": [
    "accuracy_score(Y_test, gb.predict(X_test))"
   ]
  },
  {
   "cell_type": "code",
   "execution_count": 14,
   "metadata": {
    "id": "IvFuSdmp28xt"
   },
   "outputs": [],
   "source": [
    "models = ['lr', 'gb']\n",
    "\n",
    "for model in models:\n",
    "    if not os.path.exists('models/' + model):\n",
    "        os.makedirs('models/' + model)"
   ]
  },
  {
   "cell_type": "code",
   "execution_count": 15,
   "metadata": {
    "id": "yB-Y8GEP3PND"
   },
   "outputs": [
    {
     "data": {
      "text/plain": [
       "['models/lr/model.joblib']"
      ]
     },
     "execution_count": 15,
     "metadata": {},
     "output_type": "execute_result"
    }
   ],
   "source": [
    "filename = 'models/lr/model.joblib'\n",
    "joblib.dump(lr, filename)"
   ]
  },
  {
   "cell_type": "code",
   "execution_count": 16,
   "metadata": {
    "id": "W7kIM8Tz3QCU"
   },
   "outputs": [
    {
     "data": {
      "text/plain": [
       "['models/gb/model.joblib']"
      ]
     },
     "execution_count": 16,
     "metadata": {},
     "output_type": "execute_result"
    }
   ],
   "source": [
    "filename = 'models/gb/model.joblib'\n",
    "joblib.dump(gb, filename)"
   ]
  },
  {
   "cell_type": "markdown",
   "metadata": {
    "id": "0zZjwLAlAoXg"
   },
   "source": [
    "### Push model artefacts to GCP\n",
    "\n",
    "To push models to GCP you will create a unique folder with your name. Uncomment the command and replace \"YOUR NAME\" with your name."
   ]
  },
  {
   "cell_type": "code",
   "execution_count": 39,
   "metadata": {
    "id": "JlU3AfYG_BtN"
   },
   "outputs": [
    {
     "name": "stdout",
     "output_type": "stream",
     "text": [
      "zsh:1: no such file or directory: YOUR-NAME\n",
      "zsh:1: no such file or directory: YOUR-NAME\n"
     ]
    }
   ],
   "source": [
    "!gsutil cp models/lr/model.joblib gs://tom-seldon-examples/retail-workshop/models/<YOUR-NAME>/lr/model.joblib\n",
    "!gsutil cp models/gb/model.joblib gs://tom-seldon-examples/retail-workshop/models/<YOUR-NAME>/gb/model.joblib"
   ]
  },
  {
   "cell_type": "markdown",
   "metadata": {
    "id": "DlrAixGMA_Hs"
   },
   "source": [
    "### Deploy models to Seldon"
   ]
  },
  {
   "cell_type": "markdown",
   "metadata": {
    "id": "bS8XO97eBMGF"
   },
   "source": [
    "We can now deploy our model to the dedicated Seldon Deploy cluster which we have configured for this workshop. To do so we will interact with the Seldon Deploy SDK.\n",
    "\n",
    "First, setting up the configuration and authentication required to access the cluster. Make sure to fill in the SD_IP variable to be the same as the cluster you are using."
   ]
  },
  {
   "cell_type": "code",
   "execution_count": 18,
   "metadata": {
    "id": "FOCjkhaIBtVF"
   },
   "outputs": [],
   "source": [
    "from seldon_deploy_sdk import Configuration, ApiClient, SeldonDeploymentsApi, OutlierDetectorApi, DriftDetectorApi\n",
    "from seldon_deploy_sdk.auth import OIDCAuthenticator\n",
    "SD_IP = \"35.196.185.135\"\n",
    "\n",
    "config = Configuration()\n",
    "config.host = f\"http://{SD_IP}/seldon-deploy/api/v1alpha1\"\n",
    "config.oidc_client_id = \"sd-api\"\n",
    "config.oidc_server = f\"http://{SD_IP}/auth/realms/deploy-realm\"\n",
    "config.oidc_client_secret = \"sd-api-secret\"\n",
    "config.auth_method = 'client_credentials'\n",
    "config.verify_ssl = False\n",
    "\n",
    "def auth():\n",
    "    auth = OIDCAuthenticator(config)\n",
    "    config.id_token = auth.authenticate()\n",
    "    api_client = ApiClient(configuration=config, authenticator=auth)\n",
    "    return api_client"
   ]
  },
  {
   "cell_type": "markdown",
   "metadata": {
    "id": "V37sraULkOZf"
   },
   "source": [
    "Now we have configured the IP correctly as well as setup our authentication function we can desrcibe the deployment we would like to create.\n",
    "\n",
    "You will need to fill in the DEPLOYMENT_NAME, NAMESPACE, and the MODEL_LOCATION, the rest of the deployment description has been templated for you.\n",
    "\n",
    "You will need to create a unique deployment name. A good example format would be \"YOUR NAME\" + \"MODEL\" so \"sgreaves-lr\" in my case (be careful not to use any upper-case letters or other characters like \"_\". \n",
    "\n",
    "For the Model location we will be using a pre-trained model so no changes necessary to that URL."
   ]
  },
  {
   "cell_type": "code",
   "execution_count": 19,
   "metadata": {
    "id": "ktWrWseb0SB8"
   },
   "outputs": [],
   "source": [
    "YOUR_NAME = \"josh\"\n",
    "MODEL_NAME = \"lr-2\"\n",
    "\n",
    "DEPLOYMENT_NAME = f\"{YOUR_NAME}-{MODEL_NAME}\"\n",
    "MODEL_LOCATION = f\"gs://tom-seldon-examples/retail-workshop/models/josh/lr\""
   ]
  },
  {
   "cell_type": "code",
   "execution_count": 20,
   "metadata": {
    "id": "E7gHzz9JBwLZ"
   },
   "outputs": [],
   "source": [
    "NAMESPACE = \"seldon-demos\"\n",
    "\n",
    "PREPACKAGED_SERVER = \"SKLEARN_SERVER\"\n",
    "\n",
    "CPU_REQUESTS = \"0.1\"\n",
    "MEMORY_REQUESTS = \"1Gi\"\n",
    "\n",
    "CPU_LIMITS = \"0.1\"\n",
    "MEMORY_LIMITS = \"1Gi\"\n",
    "\n",
    "mldeployment = {\n",
    "    \"kind\": \"SeldonDeployment\",\n",
    "    \"metadata\": {\n",
    "        \"name\": DEPLOYMENT_NAME,\n",
    "        \"namespace\": NAMESPACE,\n",
    "        \"labels\": {\n",
    "            \"fluentd\": \"true\"\n",
    "        }\n",
    "    },\n",
    "    \"apiVersion\": \"machinelearning.seldon.io/v1alpha2\",\n",
    "    \"spec\": {\n",
    "        \"name\": DEPLOYMENT_NAME,\n",
    "        \"annotations\": {\n",
    "            \"seldon.io/engine-seldon-log-messages-externally\": \"true\"\n",
    "        },\n",
    "        \"protocol\": \"seldon\",\n",
    "        \"transport\": \"rest\",\n",
    "        \"predictors\": [\n",
    "            {\n",
    "                \"componentSpecs\": [\n",
    "                    {\n",
    "                        \"spec\": {\n",
    "                            \"containers\": [\n",
    "                                {\n",
    "                                    \"name\": f\"{DEPLOYMENT_NAME}-container\",\n",
    "                                    \"resources\": {\n",
    "                                        \"requests\": {\n",
    "                                            \"cpu\": CPU_REQUESTS,\n",
    "                                            \"memory\": MEMORY_REQUESTS\n",
    "                                        },\n",
    "                                        \"limits\": {\n",
    "                                            \"cpu\": CPU_LIMITS,\n",
    "                                            \"memory\": MEMORY_LIMITS\n",
    "                                        }\n",
    "                                    }\n",
    "                                }\n",
    "                            ]\n",
    "                        }\n",
    "                    }\n",
    "                ],\n",
    "                \"name\": \"default\",\n",
    "                \"replicas\": 1,\n",
    "                \"traffic\": 100,\n",
    "                \"graph\": {\n",
    "                    \"implementation\": PREPACKAGED_SERVER,\n",
    "                    \"modelUri\": MODEL_LOCATION,\n",
    "                    \"name\": f\"{DEPLOYMENT_NAME}-container\",\n",
    "                    \"endpoint\": {\n",
    "                        \"type\": \"REST\"\n",
    "                    },\n",
    "                    \"parameters\": [],\n",
    "                    \"children\": [],\n",
    "                    \"logger\": {\n",
    "                        \"mode\": \"all\"\n",
    "                    }\n",
    "                }\n",
    "            }\n",
    "        ]\n",
    "    },\n",
    "    \"status\": {}\n",
    "}"
   ]
  },
  {
   "cell_type": "markdown",
   "metadata": {
    "id": "4SXGONbMbSFW"
   },
   "source": [
    "We can now invoke the `SeldonDeploymentsApi` and create a new Seldon Deployment. \n",
    "\n",
    "Time for you to get your hands dirty. You will use the Seldon Deploy SDK to create a new Seldon deployment. You can find the reference documentation [here](https://github.com/SeldonIO/seldon-deploy-sdk/blob/master/python/README.md). "
   ]
  },
  {
   "cell_type": "code",
   "execution_count": 21,
   "metadata": {
    "id": "EeKpuObJCHA3"
   },
   "outputs": [
    {
     "data": {
      "text/plain": [
       "{'api_version': 'machinelearning.seldon.io/v1alpha2',\n",
       " 'kind': 'SeldonDeployment',\n",
       " 'metadata': {'annotations': None,\n",
       "              'cluster_name': None,\n",
       "              'creation_timestamp': None,\n",
       "              'deletion_grace_period_seconds': None,\n",
       "              'deletion_timestamp': None,\n",
       "              'finalizers': None,\n",
       "              'generate_name': None,\n",
       "              'generation': None,\n",
       "              'labels': {'fluentd': 'true'},\n",
       "              'managed_fields': None,\n",
       "              'name': 'josh-lr-2',\n",
       "              'namespace': 'seldon-demos',\n",
       "              'owner_references': None,\n",
       "              'resource_version': None,\n",
       "              'self_link': None,\n",
       "              'uid': None},\n",
       " 'spec': {'annotations': {'seldon.io/engine-seldon-log-messages-externally': 'true'},\n",
       "          'name': 'josh-lr-2',\n",
       "          'oauth_key': None,\n",
       "          'oauth_secret': None,\n",
       "          'predictors': [{'annotations': None,\n",
       "                          'component_specs': [{'hpa_spec': None,\n",
       "                                               'keda_spec': None,\n",
       "                                               'metadata': {'annotations': None,\n",
       "                                                            'cluster_name': None,\n",
       "                                                            'creation_timestamp': '2022-07-13T13:34:03Z',\n",
       "                                                            'deletion_grace_period_seconds': None,\n",
       "                                                            'deletion_timestamp': None,\n",
       "                                                            'finalizers': None,\n",
       "                                                            'generate_name': None,\n",
       "                                                            'generation': None,\n",
       "                                                            'labels': None,\n",
       "                                                            'managed_fields': None,\n",
       "                                                            'name': None,\n",
       "                                                            'namespace': None,\n",
       "                                                            'owner_references': None,\n",
       "                                                            'resource_version': None,\n",
       "                                                            'self_link': None,\n",
       "                                                            'uid': None},\n",
       "                                               'pdb_spec': None,\n",
       "                                               'replicas': None,\n",
       "                                               'spec': {'active_deadline_seconds': None,\n",
       "                                                        'affinity': None,\n",
       "                                                        'automount_service_account_token': None,\n",
       "                                                        'containers': [{'args': None,\n",
       "                                                                        'command': None,\n",
       "                                                                        'env': None,\n",
       "                                                                        'env_from': None,\n",
       "                                                                        'image': None,\n",
       "                                                                        'image_pull_policy': None,\n",
       "                                                                        'lifecycle': None,\n",
       "                                                                        'liveness_probe': None,\n",
       "                                                                        'name': 'josh-lr-2-container',\n",
       "                                                                        'ports': None,\n",
       "                                                                        'readiness_probe': None,\n",
       "                                                                        'resources': {'limits': {'cpu': '100m',\n",
       "                                                                                                 'memory': '1Gi'},\n",
       "                                                                                      'requests': {'cpu': '100m',\n",
       "                                                                                                   'memory': '1Gi'}},\n",
       "                                                                        'security_context': None,\n",
       "                                                                        'startup_probe': None,\n",
       "                                                                        'stdin': None,\n",
       "                                                                        'stdin_once': None,\n",
       "                                                                        'termination_message_path': None,\n",
       "                                                                        'termination_message_policy': None,\n",
       "                                                                        'tty': None,\n",
       "                                                                        'volume_devices': None,\n",
       "                                                                        'volume_mounts': None,\n",
       "                                                                        'working_dir': None}],\n",
       "                                                        'dns_config': None,\n",
       "                                                        'dns_policy': None,\n",
       "                                                        'enable_service_links': None,\n",
       "                                                        'ephemeral_containers': None,\n",
       "                                                        'host_aliases': None,\n",
       "                                                        'host_ipc': None,\n",
       "                                                        'host_network': None,\n",
       "                                                        'host_pid': None,\n",
       "                                                        'hostname': None,\n",
       "                                                        'image_pull_secrets': None,\n",
       "                                                        'init_containers': None,\n",
       "                                                        'node_name': None,\n",
       "                                                        'node_selector': None,\n",
       "                                                        'overhead': None,\n",
       "                                                        'preemption_policy': None,\n",
       "                                                        'priority': None,\n",
       "                                                        'priority_class_name': None,\n",
       "                                                        'readiness_gates': None,\n",
       "                                                        'restart_policy': None,\n",
       "                                                        'runtime_class_name': None,\n",
       "                                                        'scheduler_name': None,\n",
       "                                                        'security_context': None,\n",
       "                                                        'service_account': None,\n",
       "                                                        'service_account_name': None,\n",
       "                                                        'set_hostname_as_fqdn': None,\n",
       "                                                        'share_process_namespace': None,\n",
       "                                                        'subdomain': None,\n",
       "                                                        'termination_grace_period_seconds': None,\n",
       "                                                        'tolerations': None,\n",
       "                                                        'topology_spread_constraints': None,\n",
       "                                                        'volumes': None}}],\n",
       "                          'engine_resources': {'limits': None,\n",
       "                                               'requests': None},\n",
       "                          'explainer': None,\n",
       "                          'graph': {'children': None,\n",
       "                                    'endpoint': {'grpc_port': None,\n",
       "                                                 'http_port': None,\n",
       "                                                 'service_host': None,\n",
       "                                                 'service_port': None,\n",
       "                                                 'type': 'REST'},\n",
       "                                    'env_secret_ref_name': None,\n",
       "                                    'implementation': 'SKLEARN_SERVER',\n",
       "                                    'logger': {'mode': 'all', 'url': None},\n",
       "                                    'methods': None,\n",
       "                                    'model_uri': 'gs://tom-seldon-examples/retail-workshop/models/josh/lr',\n",
       "                                    'name': 'josh-lr-2-container',\n",
       "                                    'parameters': None,\n",
       "                                    'service_account_name': None,\n",
       "                                    'storage_initializer_image': None,\n",
       "                                    'type': None},\n",
       "                          'labels': None,\n",
       "                          'name': 'default',\n",
       "                          'replicas': 1,\n",
       "                          'shadow': None,\n",
       "                          'ssl': None,\n",
       "                          'svc_orch_spec': {'env': None,\n",
       "                                            'replicas': None,\n",
       "                                            'resources': None},\n",
       "                          'traffic': 100}],\n",
       "          'protocol': 'seldon',\n",
       "          'replicas': None,\n",
       "          'server_type': None,\n",
       "          'transport': 'rest'},\n",
       " 'status': {'address': None,\n",
       "            'annotations': None,\n",
       "            'conditions': None,\n",
       "            'deployment_status': None,\n",
       "            'description': None,\n",
       "            'observed_generation': None,\n",
       "            'replicas': None,\n",
       "            'service_status': None,\n",
       "            'state': None}}"
      ]
     },
     "execution_count": 21,
     "metadata": {},
     "output_type": "execute_result"
    }
   ],
   "source": [
    "deployment_api = SeldonDeploymentsApi(auth())\n",
    "deployment_api.create_seldon_deployment(namespace=NAMESPACE, mldeployment=mldeployment)"
   ]
  },
  {
   "cell_type": "markdown",
   "metadata": {
    "id": "JOmBKqU_0SB9"
   },
   "source": [
    "Our model should now be running as a fully fledged microservice. We can now log into Seldon Deploy and test our deployment: \n",
    "\n",
    "* URL: http://35.196.185.135/seldon-deploy/\n"
   ]
  },
  {
   "cell_type": "markdown",
   "metadata": {},
   "source": [
    "You can make a prediction using the PredictAPI of the Seldon Deploy SDK"
   ]
  },
  {
   "cell_type": "code",
   "execution_count": 29,
   "metadata": {},
   "outputs": [
    {
     "name": "stdout",
     "output_type": "stream",
     "text": [
      "{'data': {'names': ['t:0',\n",
      "                    't:1',\n",
      "                    't:2',\n",
      "                    't:3',\n",
      "                    't:4',\n",
      "                    't:5',\n",
      "                    't:6',\n",
      "                    't:7',\n",
      "                    't:8',\n",
      "                    't:9',\n",
      "                    't:10'],\n",
      "          'ndarray': [[0.002059939420558877,\n",
      "                       0.0018341464883069975,\n",
      "                       5.929830502754066e-07,\n",
      "                       0.014462211013891082,\n",
      "                       0.004063082869132578,\n",
      "                       7.485905615355247e-07,\n",
      "                       0.9402590016909633,\n",
      "                       8.643533977369213e-05,\n",
      "                       2.3670617247707977e-06,\n",
      "                       0.0013547531011716095,\n",
      "                       0.035876721440865254]]},\n",
      " 'meta': {'requestPath': {'josh-lr-2-container': 'seldonio/sklearnserver:1.13.1'}}}\n"
     ]
    }
   ],
   "source": [
    "predict_api = PredictApi(auth())\n",
    "namespace = 'seldon-demos' # str | Namespace provides a logical grouping of resources\n",
    "prediction = {\"data\": {\"ndarray\": [[-0.43831067,  0.23457404, -0.17366155,  0.26935668,  0.13463672, -0.55234561]]}}\n",
    "\n",
    "try:\n",
    "    api_response = predict_api.predict_seldon_deployment(DEPLOYMENT_NAME, namespace, prediction)\n",
    "    pprint.pprint(api_response)\n",
    "except ApiException as e:\n",
    "    print(\"Exception when calling PredictApi->predict_seldon_deployment: %s\\n\" % e)"
   ]
  },
  {
   "cell_type": "markdown",
   "metadata": {},
   "source": [
    "### Model wrapping (aside)"
   ]
  },
  {
   "cell_type": "markdown",
   "metadata": {},
   "source": [
    "To deploy our models we didn't need to build a server as there already exists containers for serving scikit-learn and xgboost models that we could use when defining `implementation` within our inference graph. This will not always be the case and we will often need to build our own server. Seldon Core can be used to server models based in Python, Java, R, Node and Go. We can use Seldon Core to build two kinds of server, reusable and non-reusable: "
   ]
  },
  {
   "cell_type": "markdown",
   "metadata": {},
   "source": [
    "![](https://raw.githubusercontent.com/ribenamaplesyrup/seldon-retail-workshop/main/assets/servers.png \"Reusable and non-reusable servers\")"
   ]
  },
  {
   "cell_type": "markdown",
   "metadata": {},
   "source": [
    "Reusable servers allow us to provide a `model uri` parameter so we can serve different models every time we deploy without needing to build a new server. Non-reusable servers wrap models within the container and so if we want to deploy a new model, we need to build a new server.\n",
    "\n",
    "The process for wrapping python models in a non-reusable server is covered within the [Seldon Core documentation](https://docs.seldon.io/projects/seldon-core/en/latest/python/index.html) and within this [simple guide](https://docs.google.com/presentation/d/1wzs_Xfw0iGXYvPkas9VWO4cvW6xvtwHeNclw0m9ej0M/edit?usp=sharing) for wrapping a scikit-learn model trained on the iris dataset. Included within the `wrapper` directory in this repo are the files required to wrap an example model: \n",
    "\n",
    "- model class (CustomSegmenter.py)\n",
    "- model artefact (models/lr/model.joblib)\n",
    "- dependencies (requirements.txt)\n",
    "- environment (.s2i/environment)\n",
    "- optional testing scripts (test.py & container_test.py)\n",
    "\n",
    "You can have a go at wrapping the model stored within the `wrapper` directory by installing the [Source-2-Image tool](https://github.com/openshift/source-to-image) and running the following command within the wrapper directory to build a container: \n",
    "\n",
    "`s2i build . seldonio/seldon-core-s2i-python3:1.12.0-dev customer-segmenter:0.1`"
   ]
  },
  {
   "cell_type": "markdown",
   "metadata": {
    "id": "rjspFW0AFlHS"
   },
   "source": [
    "## Explainer\n",
    "\n",
    "Next, we shall train an explainer to glean deeper insights into the decisions being made by our model. We will make use of the Anchors algorithm, which has a [production grade implementation available](https://docs.seldon.io/projects/alibi/en/stable/methods/Anchors.html) using the Seldon Alibi Explain library. \n",
    "\n",
    "The algorithm provides model-agnostic (black box) and human interpretable explanations suitable for classification models applied to images, text and tabular data. The idea behind anchors is to explain the behaviour of complex models with high-precision rules called anchors. These anchors are locally sufficient conditions to ensure a certain prediction with a high degree of confidence. Anchor algorithms incorporate coverage, which is the region the explanation applies within and are optimised to maximize coverage.\n",
    "\n",
    "As an example of anchors for tabular data, if we want to predict whether a person makes less or more than £50,000 per year based on the person’s characteristics including age (continuous variable) and marital status (categorical variable), then the following would be a potential anchor: Hugo makes more than £50,000 because he is married and his age is between 35 and 45 years.\n",
    "\n",
    "The first step will be to write a simple prediction function which the explainer can call in order to query our logistic regression model."
   ]
  },
  {
   "cell_type": "code",
   "execution_count": 30,
   "metadata": {
    "id": "BMowappmHKz1"
   },
   "outputs": [],
   "source": [
    "predict_fn = lambda x: lr.predict(x)"
   ]
  },
  {
   "cell_type": "markdown",
   "metadata": {
    "id": "5NcaGOy50SB-"
   },
   "source": [
    "We then initialise our Anchor explainer, using the AnchorTabular flavour provided by Alibi due to our data modality."
   ]
  },
  {
   "cell_type": "code",
   "execution_count": 31,
   "metadata": {
    "id": "zNLvR53vG7Yb"
   },
   "outputs": [],
   "source": [
    "explainer = AnchorTabular(predict_fn, columns)"
   ]
  },
  {
   "cell_type": "markdown",
   "metadata": {
    "id": "xZsZQIRlaHtc"
   },
   "source": [
    "We will now train our explainer. We need to specify percentages that our model will use to discretize continuous numerical data into intervals. Generally we observe that if we choose smaller percentages (finer discretization), this will lead to longer runtime and potentially higher precision. "
   ]
  },
  {
   "cell_type": "code",
   "execution_count": 32,
   "metadata": {
    "id": "RQc3nvlIHofS"
   },
   "outputs": [
    {
     "data": {
      "text/plain": [
       "AnchorTabular(meta={\n",
       "  'name': 'AnchorTabular',\n",
       "  'type': ['blackbox'],\n",
       "  'explanations': ['local'],\n",
       "  'params': {'seed': None, 'disc_perc': (25, 50, 75)},\n",
       "  'version': '0.6.4'}\n",
       ")"
      ]
     },
     "execution_count": 32,
     "metadata": {},
     "output_type": "execute_result"
    }
   ],
   "source": [
    "explainer.fit(X_train, disc_perc=(25, 50, 75))"
   ]
  },
  {
   "cell_type": "markdown",
   "metadata": {
    "id": "t-rTSwPD0SB_"
   },
   "source": [
    "We can now test our explainer by generating a prediction."
   ]
  },
  {
   "cell_type": "code",
   "execution_count": 33,
   "metadata": {
    "id": "8AgHZXu3Hr52"
   },
   "outputs": [
    {
     "name": "stdout",
     "output_type": "stream",
     "text": [
      "Prediction:  6\n"
     ]
    }
   ],
   "source": [
    "idx = 0\n",
    "print('Prediction: ', class_names[explainer.predictor(X_test[idx].reshape(1, -1))[0]])"
   ]
  },
  {
   "cell_type": "code",
   "execution_count": 34,
   "metadata": {
    "id": "_FD98jlOI15c"
   },
   "outputs": [
    {
     "name": "stdout",
     "output_type": "stream",
     "text": [
      "Anchor: categ_2 <= 0.45 AND -0.17 < categ_0 <= 0.44 AND mean <= 0.09 AND categ_1 <= 0.47 AND categ_3 <= 0.44\n",
      "Precision: 0.94\n",
      "Coverage: 0.06\n"
     ]
    }
   ],
   "source": [
    "explanation = explainer.explain(X_test[idx], threshold=0.9)\n",
    "print('Anchor: %s' % (' AND '.join(explanation.anchor)))\n",
    "print('Precision: %.2f' % explanation.precision)\n",
    "print('Coverage: %.2f' % explanation.coverage)"
   ]
  },
  {
   "cell_type": "markdown",
   "metadata": {
    "id": "--T6Hu96_W6A"
   },
   "source": [
    "We use dill to serialise our explainer:"
   ]
  },
  {
   "cell_type": "code",
   "execution_count": 35,
   "metadata": {
    "id": "G6LUjpMSI-BP"
   },
   "outputs": [],
   "source": [
    "explainer.save(\"explainer\")"
   ]
  },
  {
   "cell_type": "markdown",
   "metadata": {
    "id": "uFX97ejagbyO"
   },
   "source": [
    "We will not push our explainer to GCP as explainer files can be quite large (100MB+) so instead we will deploy a pretrained explainer!\n"
   ]
  },
  {
   "cell_type": "markdown",
   "metadata": {
    "id": "ZG6kWCMDOHsR"
   },
   "source": [
    "## Deployment\n",
    "\n",
    "We can now deploy an explainer alongside our model:"
   ]
  },
  {
   "cell_type": "code",
   "execution_count": 13,
   "metadata": {
    "id": "JlU3AfYG_BtN"
   },
   "outputs": [
    {
     "name": "stdout",
     "output_type": "stream",
     "text": [
      "Copying file://explainer/explainer.dill [Content-Type=application/octet-stream]...\n",
      "==> NOTE: You are uploading one or more large file(s), which would run          \n",
      "significantly faster if you enable parallel composite uploads. This\n",
      "feature can be enabled by editing the\n",
      "\"parallel_composite_upload_threshold\" value in your .boto\n",
      "configuration file. However, note that if you do this large files will\n",
      "be uploaded as `composite objects\n",
      "<https://cloud.google.com/storage/docs/composite-objects>`_,which\n",
      "means that any user who downloads such objects will need to have a\n",
      "compiled crcmod installed (see \"gsutil help crcmod\"). This is because\n",
      "without a compiled crcmod, computing checksums on composite objects is\n",
      "so slow that gsutil disables downloads of composite objects.\n",
      "\n",
      "Copying file://explainer/meta.dill [Content-Type=application/octet-stream]...   \n",
      "- [2 files][151.7 MiB/151.7 MiB]    3.8 MiB/s                                   \n",
      "Operation completed over 2 objects/151.7 MiB.                                    \n"
     ]
    }
   ],
   "source": [
    "!gsutil cp -r explainer gs://tom-seldon-examples/retail-workshop/models/<Insert Name Here>/lr/explainer2"
   ]
  },
  {
   "cell_type": "markdown",
   "metadata": {},
   "source": [
    "Once again we will use a pretrain explainer that is already in google storage to add the explainer to our deployments"
   ]
  },
  {
   "cell_type": "code",
   "execution_count": 36,
   "metadata": {
    "id": "wTq-3i5XMZDh"
   },
   "outputs": [],
   "source": [
    "EXPLAINER_TYPE = \"AnchorTabular\"\n",
    "EXPLAINER_URI = \"gs://tom-seldon-examples/retail-workshop/models/josh/lr/explainer2\"\n",
    "\n",
    "explainer_spec = {\n",
    "                    \"type\": EXPLAINER_TYPE,\n",
    "                    \"modelUri\": EXPLAINER_URI,\n",
    "                    \"containerSpec\": {\n",
    "                        \"name\": \"\",\n",
    "                        \"resources\": {}\n",
    "                    }\n",
    "                }"
   ]
  },
  {
   "cell_type": "code",
   "execution_count": 37,
   "metadata": {
    "id": "Gr7cIsDPOZ0T"
   },
   "outputs": [
    {
     "data": {
      "text/plain": [
       "{'kind': 'SeldonDeployment',\n",
       " 'metadata': {'name': 'josh-lr-2',\n",
       "  'namespace': 'seldon-demos',\n",
       "  'labels': {'fluentd': 'true'}},\n",
       " 'apiVersion': 'machinelearning.seldon.io/v1alpha2',\n",
       " 'spec': {'name': 'josh-lr-2',\n",
       "  'annotations': {'seldon.io/engine-seldon-log-messages-externally': 'true'},\n",
       "  'protocol': 'seldon',\n",
       "  'transport': 'rest',\n",
       "  'predictors': [{'componentSpecs': [{'spec': {'containers': [{'name': 'josh-lr-2-container',\n",
       "         'resources': {'requests': {'cpu': '0.1', 'memory': '1Gi'},\n",
       "          'limits': {'cpu': '0.1', 'memory': '1Gi'}}}]}}],\n",
       "    'name': 'default',\n",
       "    'replicas': 1,\n",
       "    'traffic': 100,\n",
       "    'graph': {'implementation': 'SKLEARN_SERVER',\n",
       "     'modelUri': 'gs://tom-seldon-examples/retail-workshop/models/josh/lr',\n",
       "     'name': 'josh-lr-2-container',\n",
       "     'endpoint': {'type': 'REST'},\n",
       "     'parameters': [],\n",
       "     'children': [],\n",
       "     'logger': {'mode': 'all'}},\n",
       "    'explainer': {'type': 'AnchorTabular',\n",
       "     'modelUri': 'gs://tom-seldon-examples/retail-workshop/models/josh/lr/explainer2',\n",
       "     'containerSpec': {'name': '', 'resources': {}}}}]},\n",
       " 'status': {}}"
      ]
     },
     "execution_count": 37,
     "metadata": {},
     "output_type": "execute_result"
    }
   ],
   "source": [
    "mldeployment['spec']['predictors'][0]['explainer'] = explainer_spec\n",
    "mldeployment"
   ]
  },
  {
   "cell_type": "code",
   "execution_count": null,
   "metadata": {
    "id": "ZEE1Ng-IOeR_"
   },
   "outputs": [],
   "source": [
    "deployment_api = SeldonDeploymentsApi(auth())\n",
    "deployment_api.create_seldon_deployment(namespace=NAMESPACE, mldeployment=mldeployment)"
   ]
  },
  {
   "cell_type": "markdown",
   "metadata": {
    "id": "hmI8brYLieU-"
   },
   "source": [
    "## Outlier Detection\n",
    "You will now setup your outlier detector. This will pick up anomalous data points in an automated fashion. You will use the Seldon Alibi Detect library to configure a Variational Auto Encoder (VAE) outlier detector.\n",
    "\n",
    "In this case you are going to assume that any instance which is labelled as customer segmentation cluster 1 is an outlier. Clearly, this is a trivial example, as we are using our model to predict the customer segmen. However it demonstrates the flow of outlier detector creation nicely, and provides a set of easy to identify outliers. \n",
    "\n",
    "You now generate a dataset of inliers (all other clusters) and outliers (customer cluster 1). "
   ]
  },
  {
   "cell_type": "code",
   "execution_count": 39,
   "metadata": {
    "id": "90njHc1nDaf1"
   },
   "outputs": [],
   "source": [
    "df_total = pd.concat([pd.DataFrame(X_train), pd.DataFrame(Y_train, columns=[6])], axis=1)\n",
    "\n",
    "inliers = df_total[(df_total[6] != 1)]\n",
    "inliers.drop(labels=6, axis=1, inplace=True)\n",
    "inliers_np = inliers.to_numpy()\n",
    "\n",
    "outliers = df_total[df_total[6] == 1]\n",
    "outliers.drop(labels=6, axis=1, inplace=True)\n",
    "outliers_np = outliers.to_numpy()"
   ]
  },
  {
   "cell_type": "markdown",
   "metadata": {
    "id": "VNiXwKDK0SCC"
   },
   "source": [
    "You will then define the architecture of your VAE. The VAE works by attempting to reconstruct the input data which it receives. The VAE first encodes the data in some latent space (in our case a 2 dimensional vector), and then uses a decoder to reconstruct the original input data from the encoding. This forces the VAE to learn a mapping of input data to the latent space, and vice versa. If input data maps poorly to the latent space, and/or maps poorly from latent space to output then it is likely out of the distribution which the VAE was trained upon. Therefore, we can classify it as an outlier.  \n",
    "\n",
    "![](https://raw.githubusercontent.com/ribenamaplesyrup/seldon-retail-workshop/main/assets/vae_architecture.png \"VAE Architecture\")\n",
    "\n",
    "The first step is to define our VAE architecture. You will use TensorFlow Keras to setup the architecture for your encoder and decoder. "
   ]
  },
  {
   "cell_type": "code",
   "execution_count": 40,
   "metadata": {
    "id": "UZewHIB-EBkz"
   },
   "outputs": [],
   "source": [
    "# define model, initialize, train and save outlier detector\n",
    "    \n",
    "n_features = X_train.shape[1]\n",
    "latent_dim = 2\n",
    "    \n",
    "encoder_net = tf.keras.Sequential(\n",
    "    [\n",
    "     InputLayer(input_shape=(n_features,)),\n",
    "     Dense(20, activation=tf.nn.relu),\n",
    "     Dense(15, activation=tf.nn.relu),\n",
    "     Dense(7, activation=tf.nn.relu)\n",
    "     ])\n",
    "\n",
    "decoder_net = tf.keras.Sequential(\n",
    "    [\n",
    "     InputLayer(input_shape=(latent_dim,)),\n",
    "     Dense(7, activation=tf.nn.relu),\n",
    "     Dense(15, activation=tf.nn.relu),\n",
    "     Dense(20, activation=tf.nn.relu),\n",
    "     Dense(n_features, activation=None)\n",
    "     ])"
   ]
  },
  {
   "cell_type": "markdown",
   "metadata": {
    "id": "uza6yh-x0SCC"
   },
   "source": [
    "Next you will make use of Alibi Detect's OutlierVAE class and instantiate it using the encoder and decoder architecture you defined above. \n",
    "\n",
    "You will then call the `fit` method on your outlier detector. To learn how to correctly reconstruct normal data the VAE is fit on only inlier examples initially. In this case you will use your `inliers` set as this does not contain any outlying data points. "
   ]
  },
  {
   "cell_type": "code",
   "execution_count": 41,
   "metadata": {
    "id": "LR7tSi920SCC",
    "scrolled": true
   },
   "outputs": [
    {
     "name": "stderr",
     "output_type": "stream",
     "text": [
      "No threshold level set. Need to infer threshold using `infer_threshold`.\n"
     ]
    },
    {
     "name": "stdout",
     "output_type": "stream",
     "text": [
      "42/42 [=] - 2s 47ms/step - loss_ma: 27891.6088: 1s - loss_ma: \n",
      "42/42 [=] - 1s 26ms/step - loss_ma: 27279.9203\n",
      "42/42 [=] - 1s 27ms/step - loss_ma: 24422.4528\n",
      "42/42 [=] - 1s 27ms/step - loss_ma: 20218.7226\n",
      "42/42 [=] - 1s 27ms/step - loss_ma: 18463.1872\n",
      "42/42 [=] - 1s 30ms/step - loss_ma: 13624.4912\n",
      "42/42 [=] - 2s 41ms/step - loss_ma: 12304.8887\n",
      "42/42 [=] - 1s 30ms/step - loss_ma: 9600.2693\n",
      "42/42 [=] - 1s 34ms/step - loss_ma: 8593.6384\n",
      "42/42 [=] - 1s 29ms/step - loss_ma: 7030.4906\n",
      "42/42 [=] - 1s 29ms/step - loss_ma: 6899.2115\n",
      "42/42 [=] - 1s 30ms/step - loss_ma: 6211.1644\n",
      "42/42 [=] - 1s 25ms/step - loss_ma: 5996.3139\n",
      "42/42 [=] - 1s 25ms/step - loss_ma: 5992.9563\n",
      "42/42 [=] - 1s 26ms/step - loss_ma: 5699.6647\n",
      "42/42 [=] - 1s 26ms/step - loss_ma: 5743.6943\n",
      "42/42 [=] - 1s 27ms/step - loss_ma: 5490.7531\n",
      "42/42 [=] - 2s 41ms/step - loss_ma: 5279.8407\n",
      "42/42 [=] - 1s 32ms/step - loss_ma: 5328.7204\n",
      "42/42 [=] - 2s 37ms/step - loss_ma: 5122.2235\n",
      "42/42 [=] - 2s 38ms/step - loss_ma: 5315.2761\n",
      "42/42 [=] - 1s 32ms/step - loss_ma: 5129.8518\n",
      "42/42 [=] - 1s 34ms/step - loss_ma: 5102.0034\n",
      "42/42 [=] - 1s 28ms/step - loss_ma: 4985.2405\n",
      "42/42 [=] - 1s 27ms/step - loss_ma: 4850.4783\n",
      "42/42 [=] - 1s 30ms/step - loss_ma: 4950.0577\n",
      "42/42 [=] - 1s 26ms/step - loss_ma: 4811.9896\n",
      "42/42 [=] - 1s 28ms/step - loss_ma: 4923.8989\n",
      "42/42 [=] - 1s 35ms/step - loss_ma: 4766.8339\n",
      "42/42 [=] - 2s 49ms/step - loss_ma: 4763.6635\n",
      "42/42 [=] - 2s 41ms/step - loss_ma: 4756.1870\n",
      "42/42 [=] - 1s 35ms/step - loss_ma: 4759.9456\n",
      "42/42 [=] - 2s 42ms/step - loss_ma: 4620.8116\n",
      "42/42 [=] - 1s 32ms/step - loss_ma: 4593.9381\n",
      "42/42 [=] - 1s 28ms/step - loss_ma: 4701.5933\n",
      "42/42 [=] - 1s 28ms/step - loss_ma: 4681.5878\n",
      "42/42 [=] - 1s 34ms/step - loss_ma: 4614.5802\n",
      "42/42 [=] - 1s 32ms/step - loss_ma: 4408.2089\n",
      "42/42 [=] - 1s 27ms/step - loss_ma: 4359.0196\n",
      "42/42 [=] - 1s 25ms/step - loss_ma: 4594.9573\n",
      "42/42 [=] - 1s 26ms/step - loss_ma: 4465.9295\n",
      "42/42 [=] - 1s 32ms/step - loss_ma: 4237.1948\n",
      "42/42 [=] - 1s 28ms/step - loss_ma: 4263.2899\n",
      "42/42 [=] - 1s 31ms/step - loss_ma: 4189.2054\n",
      "42/42 [=] - 1s 29ms/step - loss_ma: 4353.5013\n",
      "42/42 [=] - 1s 29ms/step - loss_ma: 4208.0468\n",
      "42/42 [=] - 1s 29ms/step - loss_ma: 4450.1561\n",
      "42/42 [=] - 1s 35ms/step - loss_ma: 4117.4949\n",
      "42/42 [=] - 1s 27ms/step - loss_ma: 4117.9368\n",
      "42/42 [=] - 1s 28ms/step - loss_ma: 4103.9359\n"
     ]
    }
   ],
   "source": [
    "# initialize outlier detector\n",
    "od = OutlierVAE(threshold=None,  # threshold for outlier score\n",
    "                score_type='mse',  # use MSE of reconstruction error for outlier detection\n",
    "                encoder_net=encoder_net,  # can also pass VAE model instead\n",
    "                decoder_net=decoder_net,  # of separate encoder and decoder\n",
    "                latent_dim=latent_dim,\n",
    "                samples=5) # number of samples drawn during detection for each instance to detect\n",
    "# train\n",
    "od.fit(inliers,\n",
    "       loss_fn=elbo, # Loss function used for training\n",
    "       cov_elbo=dict(sim=.01), # If using the elbo loss, this is the covariance matrix\n",
    "       epochs=50,\n",
    "       verbose=True)"
   ]
  },
  {
   "cell_type": "markdown",
   "metadata": {
    "id": "EGL9gc6UGMXo"
   },
   "source": [
    "You now need to set the threshold for your outlier detector. This is the score above which any instance will be considered an outlier. \n",
    "\n",
    "To do this you can make use of the `infer_threshold` function which Alibi provides. This will take a batch of data with a specified percentage of outliers, you therefore create a function to generate a dataset with a specified percentage of outliers*.\n",
    "\n",
    "\\*Alibi has a comparable function for generating batches of outlier data called `create_outlier_batch` "
   ]
  },
  {
   "cell_type": "code",
   "execution_count": 27,
   "metadata": {
    "id": "L8GbfajFGCZV"
   },
   "outputs": [],
   "source": [
    "def generate_outlier_batch(perc_outlier=5, inliers=inliers, outliers=outliers, n_samples=1000):\n",
    "    outlier_idx = int(np.round(n_samples * (perc_outlier / 100), 0))\n",
    "    inlier_idx = int(np.round(n_samples * (1 - perc_outlier / 100), 0))\n",
    "\n",
    "    outlier_batch = outliers[:outlier_idx]\n",
    "    inlier_batch = inliers[:inlier_idx]\n",
    "\n",
    "    y_combined = np.concatenate([np.ones(len(outlier_batch)), np.zeros(len(inlier_batch))]).astype('int32')\n",
    "\n",
    "    X_combined = np.concatenate((outlier_batch, inlier_batch))\n",
    "    return X_combined, y_combined\n",
    "\n",
    "X_threshold, y_threshold = generate_outlier_batch()"
   ]
  },
  {
   "cell_type": "markdown",
   "metadata": {
    "id": "pr6dIm1h0SCD"
   },
   "source": [
    "Now inferring the threshold. "
   ]
  },
  {
   "cell_type": "code",
   "execution_count": 28,
   "metadata": {
    "id": "CWKoCcojGaEI"
   },
   "outputs": [
    {
     "name": "stdout",
     "output_type": "stream",
     "text": [
      "New threshold: 0.7322891824793258\n"
     ]
    }
   ],
   "source": [
    "perc_outlier = 5\n",
    "od.infer_threshold(X_threshold, threshold_perc=100-perc_outlier)\n",
    "print('New threshold: {}'.format(od.threshold))"
   ]
  },
  {
   "cell_type": "markdown",
   "metadata": {
    "id": "rsnoR0DZ0SCD"
   },
   "source": [
    "You can now test your threshold by generating a second batch of outlying data, this time with a higher proportion of outliers. "
   ]
  },
  {
   "cell_type": "code",
   "execution_count": 29,
   "metadata": {
    "id": "-MtuBEz8Ggqp"
   },
   "outputs": [
    {
     "name": "stdout",
     "output_type": "stream",
     "text": [
      "(1000, 6) (1000,)\n",
      "10.0% outliers\n"
     ]
    }
   ],
   "source": [
    "X_outlier, y_outlier = generate_outlier_batch(perc_outlier=10)\n",
    "print(X_outlier.shape, y_outlier.shape)\n",
    "print('{}% outliers'.format(100 * y_outlier.mean()))"
   ]
  },
  {
   "cell_type": "markdown",
   "metadata": {
    "id": "B6CeSGaf0SCE"
   },
   "source": [
    "Generating outlier predictions from the new detector using the freshly created outlier batch. "
   ]
  },
  {
   "cell_type": "code",
   "execution_count": 30,
   "metadata": {
    "id": "05ss0fUU0SCE"
   },
   "outputs": [],
   "source": [
    "od_preds = od.predict(X_outlier, return_instance_score=True)"
   ]
  },
  {
   "cell_type": "markdown",
   "metadata": {
    "id": "LVACx0nm0SCE"
   },
   "source": [
    "Visualising the effectiveness of our outlier detector using a confusion matrix. "
   ]
  },
  {
   "cell_type": "code",
   "execution_count": 31,
   "metadata": {
    "id": "tOzm_Z0u0SCE"
   },
   "outputs": [
    {
     "name": "stdout",
     "output_type": "stream",
     "text": [
      "F1 score: 0.488095238095238\n"
     ]
    },
    {
     "data": {
      "image/png": "[encoded data removed]",
      "text/plain": [
       "<Figure size 432x288 with 2 Axes>"
      ]
     },
     "metadata": {
      "needs_background": "light"
     },
     "output_type": "display_data"
    }
   ],
   "source": [
    "labels = ['normal', 'outlier']\n",
    "\n",
    "y_pred = od_preds['data']['is_outlier']\n",
    "f1 = f1_score(y_outlier, y_pred)\n",
    "print('F1 score: {}'.format(f1))\n",
    "\n",
    "cm = confusion_matrix(y_outlier, y_pred)\n",
    "df_cm = pd.DataFrame(cm, index=labels, columns=labels)\n",
    "sns.heatmap(df_cm, annot=True, cbar=True, linewidths=.5)\n",
    "plt.show()"
   ]
  },
  {
   "cell_type": "markdown",
   "metadata": {
    "id": "m3JyDLsD0SCF"
   },
   "source": [
    "And then using a scatter plot and ROC curve. "
   ]
  },
  {
   "cell_type": "code",
   "execution_count": 32,
   "metadata": {
    "id": "gKHtqIwL0SCF"
   },
   "outputs": [
    {
     "data": {
      "image/png": "[encoded data removed]",
      "text/plain": [
       "<Figure size 432x288 with 1 Axes>"
      ]
     },
     "metadata": {
      "needs_background": "light"
     },
     "output_type": "display_data"
    }
   ],
   "source": [
    "plot_instance_score(od_preds, y_outlier, labels, od.threshold)"
   ]
  },
  {
   "cell_type": "code",
   "execution_count": 33,
   "metadata": {
    "id": "8ik3N2BLDaf4"
   },
   "outputs": [
    {
     "data": {
      "image/png": "[encoded data removed]",
      "text/plain": [
       "<Figure size 720x360 with 1 Axes>"
      ]
     },
     "metadata": {
      "needs_background": "light"
     },
     "output_type": "display_data"
    }
   ],
   "source": [
    "roc_data = {'VAE': {'scores': od_preds['data']['instance_score'], 'labels': y_outlier}}\n",
    "plot_roc(roc_data)"
   ]
  },
  {
   "cell_type": "markdown",
   "metadata": {
    "id": "LYRFODPA0SCF"
   },
   "source": [
    "You can now save your outlier detector locally, and subsequently push to remote storage. "
   ]
  },
  {
   "cell_type": "code",
   "execution_count": 34,
   "metadata": {
    "id": "iw60AftDGcih"
   },
   "outputs": [
    {
     "name": "stderr",
     "output_type": "stream",
     "text": [
      "Directory outlier does not exist and is now created.\n",
      "Directory outlier/model does not exist and is now created.\n"
     ]
    },
    {
     "name": "stdout",
     "output_type": "stream",
     "text": [
      "WARNING:tensorflow:Compiled the loaded model, but the compiled metrics have yet to be built. `model.compile_metrics` will be empty until you train or evaluate the model.\n",
      "WARNING:tensorflow:Compiled the loaded model, but the compiled metrics have yet to be built. `model.compile_metrics` will be empty until you train or evaluate the model.\n"
     ]
    }
   ],
   "source": [
    "save_detector(od, \"outlier\")"
   ]
  },
  {
   "cell_type": "markdown",
   "metadata": {
    "id": "VnO8tWSrDaf5"
   },
   "source": [
    "## Configure in Seldon UI"
   ]
  },
  {
   "cell_type": "markdown",
   "metadata": {
    "id": "MDC-ziyr0SCF"
   },
   "source": [
    "### URI for Drift Detector\n",
    "`gs://tom-seldon-examples/retail-workshop/models/josh/outlier`"
   ]
  },
  {
   "cell_type": "markdown",
   "metadata": {
    "id": "FJEzSqxcDaf6"
   },
   "source": [
    "Using your freshly uploaded outlier detector you can deploy this alongside your model into Seldon Deploy. Once again you will need to replace 'YOUR NAME' so we're saving our file to correct place:"
   ]
  },
  {
   "cell_type": "markdown",
   "metadata": {
    "id": "aS9Df_3MDaf6"
   },
   "source": [
    "You can now test the outlier detector with the following inlier request:"
   ]
  },
  {
   "cell_type": "code",
   "execution_count": 43,
   "metadata": {
    "id": "pLcQK3IhDaf7"
   },
   "outputs": [
    {
     "name": "stdout",
     "output_type": "stream",
     "text": [
      "{'data': {'names': ['t:0',\n",
      "                    't:1',\n",
      "                    't:2',\n",
      "                    't:3',\n",
      "                    't:4',\n",
      "                    't:5',\n",
      "                    't:6',\n",
      "                    't:7',\n",
      "                    't:8',\n",
      "                    't:9',\n",
      "                    't:10'],\n",
      "          'ndarray': [[0.002059939420558877,\n",
      "                       0.0018341464883069975,\n",
      "                       5.929830502754066e-07,\n",
      "                       0.014462211013891082,\n",
      "                       0.004063082869132578,\n",
      "                       7.485905615355247e-07,\n",
      "                       0.9402590016909633,\n",
      "                       8.643533977369213e-05,\n",
      "                       2.3670617247707977e-06,\n",
      "                       0.0013547531011716095,\n",
      "                       0.035876721440865254]]},\n",
      " 'meta': {'requestPath': {'josh-lr-2-container': 'seldonio/sklearnserver:1.13.1'}}}\n"
     ]
    }
   ],
   "source": [
    "predict_api = PredictApi(auth())\n",
    "namespace = 'seldon-demos' # str | Namespace provides a logical grouping of resources\n",
    "prediction = {\"data\": {\"ndarray\": [[-0.43831067,  0.23457404, -0.17366155,  0.26935668,  0.13463672, -0.55234561]]}}\n",
    "\n",
    "try:\n",
    "    api_response = predict_api.predict_seldon_deployment(DEPLOYMENT_NAME, namespace, prediction)\n",
    "    pprint.pprint(api_response)\n",
    "except ApiException as e:\n",
    "    print(\"Exception when calling PredictApi->predict_seldon_deployment: %s\\n\" % e)"
   ]
  },
  {
   "cell_type": "markdown",
   "metadata": {
    "id": "kbBUl4IcDaf7"
   },
   "source": [
    "And then with a massive outlier:"
   ]
  },
  {
   "cell_type": "code",
   "execution_count": 42,
   "metadata": {
    "id": "ODxMCudDDaf8"
   },
   "outputs": [
    {
     "name": "stdout",
     "output_type": "stream",
     "text": [
      "{'data': {'names': ['t:0',\n",
      "                    't:1',\n",
      "                    't:2',\n",
      "                    't:3',\n",
      "                    't:4',\n",
      "                    't:5',\n",
      "                    't:6',\n",
      "                    't:7',\n",
      "                    't:8',\n",
      "                    't:9',\n",
      "                    't:10'],\n",
      "          'ndarray': [[0.02353641808297226,\n",
      "                       2.2504188329550804e-30,\n",
      "                       1.3750864301023277e-25,\n",
      "                       2.8299462438860853e-35,\n",
      "                       5.4228272475098e-19,\n",
      "                       0.33706777228831697,\n",
      "                       5.001605657740339e-20,\n",
      "                       9.030247045075527e-30,\n",
      "                       0.6393958095039226,\n",
      "                       3.4055837605244814e-24,\n",
      "                       1.2478814507404755e-10]]},\n",
      " 'meta': {'requestPath': {'josh-lr-2-container': 'seldonio/sklearnserver:1.13.1'}}}\n"
     ]
    }
   ],
   "source": [
    "predict_api = PredictApi(auth())\n",
    "namespace = 'seldon-demos' # str | Namespace provides a logical grouping of resources\n",
    "prediction = {\"data\": {\"ndarray\": [[10,  10, 10,  10,  10, 10]]}}\n",
    "\n",
    "try:\n",
    "    api_response = predict_api.predict_seldon_deployment(DEPLOYMENT_NAME, namespace, prediction)\n",
    "    pprint.pprint(api_response)\n",
    "except ApiException as e:\n",
    "    print(\"Exception when calling PredictApi->predict_seldon_deployment: %s\\n\" % e)"
   ]
  }
 ],
 "metadata": {
  "colab": {
   "collapsed_sections": [
    "hmI8brYLieU-"
   ],
   "name": "retail_workshop_notebook.ipynb",
   "provenance": [],
   "toc_visible": true
  },
  "interpreter": {
   "hash": "a64daf48265175ab4f9e3b4f218504d1fb45289ba63ff66be172e6ba46f72957"
  },
  "kernelspec": {
   "display_name": "Python 3.9.7 ('data-science')",
   "language": "python",
   "name": "python3"
  },
  "language_info": {
   "codemirror_mode": {
    "name": "ipython",
    "version": 3
   },
   "file_extension": ".py",
   "mimetype": "text/x-python",
   "name": "python",
   "nbconvert_exporter": "python",
   "pygments_lexer": "ipython3",
   "version": "3.9.7"
  }
 },
 "nbformat": 4,
 "nbformat_minor": 1
}
