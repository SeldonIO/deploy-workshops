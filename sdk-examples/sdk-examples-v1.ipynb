{
 "cells": [
  {
   "cell_type": "markdown",
   "metadata": {},
   "source": [
    "# Seldon Deploy Advanced SDK Examples\n",
    "\n",
    "In this workshop, we will showcase the functionality available via the [Seldon Deploy SDK](https://github.com/SeldonIO/seldon-deploy-sdk/tree/master/python).  \n",
    "The SDK is auto-generated on top of the [Seldon Deploy REST API](https://deploy.seldon.io/en/latest/contents/product-tour/api/index.html).  \n",
    "\n",
    "The SDK can be very useful to automate data science and deployment workflows.  Here are the steps we will walk through:\n",
    "* Set up the SDK using the `client_credentials` flow\n",
    "* Train and deploy a simple SKLearn model\n",
    "* Play around with the metadata catalog\n",
    "\n",
    "<!-- * Train and deploy a canary model\n",
    "* View the change using GitOps\n",
    "* View all Seldon Deployments\n",
    "* Add model metadata\n",
    "* Add an outlier detector\n",
    "* Add a drift detector\n",
    "* Run a batch job\n",
    "* Get an input distribution\n",
    "* Add an explainer and get an explanation\n",
    "* List Kubernetes resources\n",
    "* Remove all deployments and catalog entries\n",
    "OTHER\n",
    "* Create a new user and add to group/project-->\n",
    "\n"
   ]
  },
  {
   "cell_type": "markdown",
   "metadata": {},
   "source": [
    "### Setup"
   ]
  },
  {
   "attachments": {},
   "cell_type": "markdown",
   "metadata": {},
   "source": [
    "Install the required libraries"
   ]
  },
  {
   "cell_type": "code",
   "execution_count": null,
   "metadata": {},
   "outputs": [],
   "source": [
    "!pip install seldon-deploy-sdk\n",
    "!pip install -U scikit-learn\n",
    "!pip install xgboost\n",
    "!pip install pyyaml"
   ]
  },
  {
   "attachments": {},
   "cell_type": "markdown",
   "metadata": {},
   "source": [
    "Set up the API config and authentication\n",
    "\n",
    "__IMPORTANT:__ Don't forget to replace \"XXXX\" with your cluster IP below."
   ]
  },
  {
   "cell_type": "code",
   "execution_count": null,
   "metadata": {},
   "outputs": [],
   "source": [
    "from seldon_deploy_sdk import Configuration, ApiClient\n",
    "from seldon_deploy_sdk.auth import OIDCAuthenticator\n",
    "\n",
    "SD_IP = \"XXXXX\"\n",
    "\n",
    "config = Configuration()\n",
    "config.auth_method = \"client_credentials\" #  could also use auth_code or password_grant\n",
    "config.host = f\"https://{SD_IP}/seldon-deploy/api/v1alpha1\"\n",
    "config.oidc_server = f\"https://{SD_IP}/auth/realms/deploy-realm\"\n",
    "config.oidc_client_id = \"sd-api\"\n",
    "config.oidc_client_secret = \"sd-api-secret\"\n",
    "# config.username = \"admin@seldon.io\"\n",
    "# config.password = \"12341234\"\n",
    "config.verify_ssl = False\n",
    "\n",
    "# Authenticate against an OIDC provider\n",
    "auth = OIDCAuthenticator(config)\n",
    "config.id_token = auth.authenticate()\n",
    "api_client = ApiClient(config)"
   ]
  },
  {
   "cell_type": "markdown",
   "metadata": {},
   "source": [
    "Show the machine user that we are logged in as"
   ]
  },
  {
   "cell_type": "code",
   "execution_count": null,
   "metadata": {},
   "outputs": [],
   "source": [
    "from seldon_deploy_sdk import EnvironmentApi\n",
    "\n",
    "environment_api = EnvironmentApi(api_client)\n",
    "environment_api.read_user()"
   ]
  },
  {
   "cell_type": "markdown",
   "metadata": {},
   "source": [
    "### Train and deploy a simple SKLearn model"
   ]
  },
  {
   "cell_type": "markdown",
   "metadata": {},
   "source": [
    "Train a simple SKLearn linear regression model"
   ]
  },
  {
   "cell_type": "code",
   "execution_count": null,
   "metadata": {},
   "outputs": [],
   "source": [
    "# Import the required modules\n",
    "from sklearn.linear_model import LinearRegression\n",
    "\n",
    "# Define the input data\n",
    "X = [[1, 1], [2, 2], [3, 3]]\n",
    "\n",
    "# Define the output data\n",
    "y = [1, 2, 3]\n",
    "\n",
    "# Create a linear regression model\n",
    "model = LinearRegression()\n",
    "\n",
    "# Train the model on the data\n",
    "model.fit(X, y)\n",
    "\n",
    "# Use the model to make predictions\n",
    "predictions = model.predict([[4, 4],[5,5]])\n",
    "print(predictions)  # This should output [4]"
   ]
  },
  {
   "cell_type": "markdown",
   "metadata": {},
   "source": [
    "Serialize and save the model locally using joblib"
   ]
  },
  {
   "cell_type": "code",
   "execution_count": null,
   "metadata": {},
   "outputs": [],
   "source": [
    "import joblib\n",
    "\n",
    "model_file_name = \"model.joblib\"\n",
    "joblib.dump(model, model_file_name)"
   ]
  },
  {
   "cell_type": "markdown",
   "metadata": {},
   "source": [
    "Save the model in a public Google Storage bucket"
   ]
  },
  {
   "cell_type": "code",
   "execution_count": null,
   "metadata": {},
   "outputs": [],
   "source": [
    "!gsutil cp model.joblib gs://andrew-seldon/sdk-examples/simple-lr/model.joblib"
   ]
  },
  {
   "cell_type": "markdown",
   "metadata": {},
   "source": [
    "##### Deploy this as a Core v1 Deployment"
   ]
  },
  {
   "cell_type": "markdown",
   "metadata": {},
   "source": [
    "Create a SeldonDeployment as a YAML string (this is to show how SeldonDeployments are typically structured)"
   ]
  },
  {
   "cell_type": "code",
   "execution_count": null,
   "metadata": {},
   "outputs": [],
   "source": [
    "DEPLOYMENT_NAME = \"simple-lr\"\n",
    "NAMESPACE = \"seldon-gitops\"\n",
    "URI = \"gs://andrew-seldon/sdk-examples/simple-lr\"\n",
    "\n",
    "simple_lr_sdep = f\"\"\"\n",
    "apiVersion: machinelearning.seldon.io/v1\n",
    "kind: SeldonDeployment\n",
    "metadata:\n",
    "  name: {DEPLOYMENT_NAME}\n",
    "  namespace: {NAMESPACE}\n",
    "spec:\n",
    "  protocol: v2\n",
    "  predictors:\n",
    "    - name: default\n",
    "      graph:\n",
    "        name: {DEPLOYMENT_NAME}-model\n",
    "        implementation: SKLEARN_SERVER\n",
    "        modelUri: {URI}\n",
    "\"\"\""
   ]
  },
  {
   "cell_type": "markdown",
   "metadata": {},
   "source": [
    "Load the YAML string in as a Python dictionary and deploy.\n",
    "\n",
    "Create an instance of the SeldonDeploymentsApi and create a new deployment. "
   ]
  },
  {
   "cell_type": "code",
   "execution_count": null,
   "metadata": {},
   "outputs": [],
   "source": [
    "from seldon_deploy_sdk import SeldonDeploymentsApi\n",
    "import yaml\n",
    "\n",
    "mldeployment = yaml.safe_load(simple_lr_sdep)\n",
    "\n",
    "deployment_api = SeldonDeploymentsApi(api_client)\n",
    "deployment_api.create_seldon_deployment(namespace=NAMESPACE, mldeployment=mldeployment)"
   ]
  },
  {
   "cell_type": "markdown",
   "metadata": {},
   "source": [
    "Check the status of the deployment"
   ]
  },
  {
   "cell_type": "code",
   "execution_count": null,
   "metadata": {},
   "outputs": [],
   "source": [
    "status = \"\"\n",
    "while status != \"Available\":\n",
    "    new_status =  deployment_api.read_seldon_deployment(name=DEPLOYMENT_NAME, namespace=NAMESPACE).status.state\n",
    "    if new_status != status: print(new_status)\n",
    "    status = new_status"
   ]
  },
  {
   "cell_type": "markdown",
   "metadata": {},
   "source": [
    "Build the endpoint for your deployed model"
   ]
  },
  {
   "cell_type": "code",
   "execution_count": null,
   "metadata": {},
   "outputs": [],
   "source": [
    "endpoint = f\"http://{SD_IP}/seldon/{NAMESPACE}/{DEPLOYMENT_NAME}/v2/models/{DEPLOYMENT_NAME}-model/infer\"\n",
    "endpoint"
   ]
  },
  {
   "cell_type": "markdown",
   "metadata": {},
   "source": [
    "Send a simple test request with two inferences"
   ]
  },
  {
   "cell_type": "code",
   "execution_count": null,
   "metadata": {},
   "outputs": [],
   "source": [
    "import requests\n",
    "import json\n",
    "\n",
    "request = {\"inputs\": [\n",
    "    {\"name\": \"input-1\",\n",
    "    \"datatype\": \n",
    "    \"INT32\",\n",
    "    \"shape\": [2, 2],\n",
    "    \"data\": [\n",
    "        [4, 4],\n",
    "        [7, 7]]\n",
    "        }]}\n",
    "\n",
    "response = requests.post(endpoint, json=request)\n",
    "print(json.dumps(response.json(), indent=2))"
   ]
  },
  {
   "cell_type": "markdown",
   "metadata": {},
   "source": [
    "##### Deploy as a Core v2 pipeline\n",
    "First, we will need to push a model-settings.json file to the same model folder in Google Cloud Storage"
   ]
  },
  {
   "cell_type": "code",
   "execution_count": null,
   "metadata": {},
   "outputs": [],
   "source": [
    "%%writefile model-settings.json\n",
    "{\n",
    "    \"name\": \"simple-lr-model\",\n",
    "    \"implementation\": \"mlserver_sklearn.SKLearnModel\"\n",
    "}"
   ]
  },
  {
   "cell_type": "code",
   "execution_count": null,
   "metadata": {},
   "outputs": [],
   "source": [
    "!gsutil cp model-settings.json gs://andrew-seldon/sdk-examples/simple-lr/model-settings.json"
   ]
  },
  {
   "cell_type": "code",
   "execution_count": null,
   "metadata": {},
   "outputs": [],
   "source": [
    "!gsutil ls gs://andrew-seldon/sdk-examples/simple-lr"
   ]
  },
  {
   "cell_type": "markdown",
   "metadata": {},
   "source": [
    "Create the model "
   ]
  },
  {
   "cell_type": "code",
   "execution_count": null,
   "metadata": {},
   "outputs": [],
   "source": [
    "MODEL_NAME = \"simple-lr-model2\"\n",
    "\n",
    "simple_lr_model = f\"\"\"\n",
    "apiVersion: mlops.seldon.io/v1alpha1\n",
    "kind: Model\n",
    "metadata:\n",
    "  name: {MODEL_NAME}\n",
    "  namespace: {NAMESPACE}\n",
    "spec:\n",
    "  storageUri: {URI}\n",
    "  requirements:\n",
    "  - sklearn\n",
    "  memory: 100Ki\n",
    "\"\"\"\n",
    "\n",
    "simple_lr_model = yaml.safe_load(simple_lr_model)"
   ]
  },
  {
   "cell_type": "code",
   "execution_count": null,
   "metadata": {},
   "outputs": [],
   "source": [
    "from  seldon_deploy_sdk import ModelsApi\n",
    "\n",
    "# create an instance of the API class\n",
    "models_api = ModelsApi(api_client)\n",
    "models_api.create_model(namespace=NAMESPACE, model=simple_lr_model)"
   ]
  },
  {
   "cell_type": "code",
   "execution_count": null,
   "metadata": {},
   "outputs": [],
   "source": [
    "# models_api.delete_model(namespace=NAMESPACE, name=MODEL_NAME)"
   ]
  },
  {
   "cell_type": "code",
   "execution_count": null,
   "metadata": {},
   "outputs": [],
   "source": [
    "PIPELINE_NAME = \"simple-lr-pipeline2\"\n",
    "\n",
    "simple_lr_pipeline = f\"\"\"\n",
    "apiVersion: mlops.seldon.io/v1alpha1\n",
    "kind: Pipeline\n",
    "metadata:\n",
    "  name: {PIPELINE_NAME}\n",
    "  namespace: {NAMESPACE}\n",
    "spec:\n",
    "  steps:\n",
    "    - name: {MODEL_NAME}\n",
    "  output:\n",
    "    steps:\n",
    "    - {MODEL_NAME}\n",
    "\"\"\"\n",
    "\n",
    "simple_lr_pipeline = yaml.safe_load(simple_lr_pipeline)"
   ]
  },
  {
   "cell_type": "code",
   "execution_count": null,
   "metadata": {},
   "outputs": [],
   "source": [
    "from seldon_deploy_sdk import PipelinesApi\n",
    "\n",
    "# create an instance of the API class\n",
    "pipelines_api = PipelinesApi(api_client)\n",
    "pipelines_api.create_pipeline(namespace=NAMESPACE, mldeployment=simple_lr_pipeline)"
   ]
  },
  {
   "cell_type": "markdown",
   "metadata": {},
   "source": [
    "Check the status of the pipeline deployment"
   ]
  },
  {
   "cell_type": "code",
   "execution_count": null,
   "metadata": {},
   "outputs": [],
   "source": [
    "pipelines_api.read_pipeline(name=PIPELINE_NAME, namespace=NAMESPACE).status.conditions"
   ]
  },
  {
   "cell_type": "markdown",
   "metadata": {},
   "source": [
    "Run an example request to the pipeline.  Note that the endpoint does not require a namespace and a model.  However, two headers must be included in the request:\n",
    "* Seldon-Model: [pipeline-name].pipeline\n",
    "* Host: seldon-gitops.inference.seldon"
   ]
  },
  {
   "cell_type": "code",
   "execution_count": null,
   "metadata": {},
   "outputs": [],
   "source": [
    "endpoint = f\"http://{SD_IP}/v2/models/{PIPELINE_NAME}/infer\"\n",
    "endpoint"
   ]
  },
  {
   "cell_type": "code",
   "execution_count": null,
   "metadata": {},
   "outputs": [],
   "source": [
    "import requests\n",
    "import json\n",
    "\n",
    "request = {\"inputs\": [\n",
    "    {\"name\": \"input-1\",\n",
    "    \"datatype\": \n",
    "    \"INT32\",\n",
    "    \"shape\": [2, 2],\n",
    "    \"data\": [\n",
    "        [4, 4],\n",
    "        [7, 7]]\n",
    "        }]}\n",
    "\n",
    "headers = {\n",
    "    \"Seldon-Model\": f\"{PIPELINE_NAME}.pipeline\", \n",
    "    \"Host\": f\"{NAMESPACE}.inference.seldon\"\n",
    "    }\n",
    "\n",
    "response = requests.post(endpoint, json=request, headers=headers)\n",
    "print(json.dumps(response.json(), indent=2))"
   ]
  },
  {
   "cell_type": "markdown",
   "metadata": {},
   "source": [
    "### Train and deploy a canary model"
   ]
  },
  {
   "cell_type": "markdown",
   "metadata": {},
   "source": [
    "Train a simple xgboost model and serialize it as json "
   ]
  },
  {
   "cell_type": "code",
   "execution_count": null,
   "metadata": {},
   "outputs": [],
   "source": [
    "import xgboost as xgb\n",
    "\n",
    "# Create the xgboost model\n",
    "model = xgb.XGBRegressor()\n",
    "\n",
    "# Train the model using the training data\n",
    "model.fit(X, y)\n",
    "\n",
    "model.predict([[1, 1], [5, 5]])\n",
    "\n",
    "model.save_model('simple-xgb.json')"
   ]
  },
  {
   "cell_type": "code",
   "execution_count": null,
   "metadata": {},
   "outputs": [],
   "source": [
    "!gsutil cp simple-xgb.json gs://andrew-seldon/sdk-examples/simple-xgb/model.json"
   ]
  },
  {
   "cell_type": "markdown",
   "metadata": {},
   "source": [
    "Add a model settings file, as required by MLServer"
   ]
  },
  {
   "cell_type": "code",
   "execution_count": null,
   "metadata": {},
   "outputs": [],
   "source": [
    "%%writefile model-settings.json\n",
    "{\n",
    "    \"name\": \"simple-xgb-model\",\n",
    "    \"implementation\": \"mlserver_xgboost.XGBoostModel\"\n",
    "}"
   ]
  },
  {
   "cell_type": "code",
   "execution_count": null,
   "metadata": {},
   "outputs": [],
   "source": [
    "!gsutil cp model-settings.json gs://andrew-seldon/sdk-examples/simple-xgb/model-settings.json"
   ]
  },
  {
   "cell_type": "markdown",
   "metadata": {},
   "source": [
    "Deploy the model"
   ]
  },
  {
   "cell_type": "code",
   "execution_count": null,
   "metadata": {},
   "outputs": [],
   "source": [
    "CANARY_MODEL_NAME = \"simple-xgb-model2\"\n",
    "CANARY_URI = \"gs://andrew-seldon/sdk-examples/simple-xgb\"\n",
    "\n",
    "# deploy xgb model\n",
    "simple_xgb_model = f\"\"\"\n",
    "apiVersion: mlops.seldon.io/v1alpha1\n",
    "kind: Model\n",
    "metadata:\n",
    "  name: {CANARY_MODEL_NAME}\n",
    "  namespace: {NAMESPACE}\n",
    "spec:\n",
    "  storageUri: {CANARY_URI}\n",
    "  requirements:\n",
    "  - xgboost\n",
    "  memory: 100Ki\n",
    "\"\"\"\n",
    "\n",
    "simple_xgb_model = yaml.safe_load(simple_xgb_model)\n",
    "\n",
    "models_api.create_model(namespace=NAMESPACE, model=simple_xgb_model)"
   ]
  },
  {
   "cell_type": "markdown",
   "metadata": {},
   "source": [
    "Deploy the pipeline\n",
    "\n",
    "__IMPORTANT:__ You must define two labels on the canary `pipeline`:\n",
    "* seldon.io/pipeline: {PIPELINE_NAME}\n",
    "* seldon.io/experiment: canary"
   ]
  },
  {
   "cell_type": "code",
   "execution_count": null,
   "metadata": {},
   "outputs": [],
   "source": [
    "CANARY_PIPELINE_NAME = \"simple-lr-pipeline2-canary\"\n",
    "\n",
    "\n",
    "simple_xgb_pipeline = f\"\"\"\n",
    "apiVersion: mlops.seldon.io/v1alpha1\n",
    "kind: Pipeline\n",
    "metadata:\n",
    "  name: {CANARY_PIPELINE_NAME}\n",
    "  namespace: {NAMESPACE}\n",
    "  labels:\n",
    "    seldon.io/pipeline: {PIPELINE_NAME}\n",
    "    seldon.io/experiment: canary\n",
    "spec:\n",
    "  steps:\n",
    "    - name: {CANARY_MODEL_NAME}\n",
    "  output:\n",
    "    steps:\n",
    "    - {CANARY_MODEL_NAME}\n",
    "\"\"\"\n",
    "\n",
    "simple_xgb_pipeline = yaml.safe_load(simple_xgb_pipeline)\n",
    "\n",
    "pipelines_api.create_pipeline(namespace=NAMESPACE, mldeployment=simple_xgb_pipeline)"
   ]
  },
  {
   "cell_type": "markdown",
   "metadata": {},
   "source": [
    "Create the experiment using the SDK\n",
    "__CAVEATS:__\n",
    "* The `create_canary_experiment` endpoint automatically creates the `experiment` without you having to explicitly define it -- it does this because of the labels defined in the canary `pipeline`\n",
    "* There is currently a bug in the UI where you won't be able to see the canary deployment, however, the `experiment` _has_ been created.  We are working on a fix for this."
   ]
  },
  {
   "cell_type": "code",
   "execution_count": null,
   "metadata": {},
   "outputs": [],
   "source": [
    "from seldon_deploy_sdk import ExperimentsApi\n",
    "\n",
    "# create an instance of the API class\n",
    "experiments_api = ExperimentsApi(api_client)\n",
    "experiments_api.create_canary_experiment(name=PIPELINE_NAME, namespace=NAMESPACE, weight=50)"
   ]
  },
  {
   "cell_type": "markdown",
   "metadata": {},
   "source": [
    "### Model Metadata Catalog Examples"
   ]
  },
  {
   "cell_type": "code",
   "execution_count": null,
   "metadata": {},
   "outputs": [],
   "source": [
    "from seldon_deploy_sdk import ModelMetadataServiceApi, V1Model\n",
    "from seldon_deploy_sdk.rest import ApiException\n",
    "\n",
    "metadata_api = ModelMetadataServiceApi(api_client)"
   ]
  },
  {
   "cell_type": "markdown",
   "metadata": {},
   "source": [
    "##### Add single model to the Model Catalogue"
   ]
  },
  {
   "cell_type": "code",
   "execution_count": null,
   "metadata": {},
   "outputs": [],
   "source": [
    "model = V1Model(\n",
    "    uri=\"gs://test-model-alpha-v1.0.0\",\n",
    "    name=\"alpha\",\n",
    "    version=\"v1.0.0\",\n",
    "    artifact_type=\"XGBOOST\",\n",
    "    task_type=\"regression\",\n",
    "    tags={\n",
    "        \"source\": \"https://github.com/some-test-model-alpha-repo\",\n",
    "        \"an arbitrary tag\": \"true\",\n",
    "    },\n",
    ")\n",
    "try:\n",
    "    # Create a Model Metadata entry.\n",
    "    api_response = metadata_api.model_metadata_service_create_model_metadata(model)\n",
    "except ApiException as e:\n",
    "    print(f\"Couldn't create model: {json.loads(e.body)['message']}\")"
   ]
  },
  {
   "cell_type": "markdown",
   "metadata": {},
   "source": [
    "##### Add multiple models to the Model Catalogue"
   ]
  },
  {
   "cell_type": "code",
   "execution_count": null,
   "metadata": {},
   "outputs": [],
   "source": [
    "models = [\n",
    "    #     Same model different versions\n",
    "    {\n",
    "        \"uri\": \"gs://test-model-beta-v1.0.0\",\n",
    "        \"name\": \"beta\",\n",
    "        \"version\": \"v1.0.0\",\n",
    "        \"artifact_type\": \"SKLEARN\",\n",
    "        \"task_type\": \"classification\",\n",
    "        \"tags\": {\"author\": \"Jon\"},\n",
    "    },\n",
    "    {\n",
    "        \"uri\": \"gs://test-model-beta-v2.0.0\",\n",
    "        \"name\": \"beta\",\n",
    "        \"version\": \"v2.0.0\",\n",
    "        \"artifact_type\": \"SKLEARN\",\n",
    "        \"task_type\": \"classification\",\n",
    "        \"tags\": {\"author\": \"Bob\"},\n",
    "    },\n",
    "    {\n",
    "        \"uri\": \"gs://test-model-beta-v3.0.0\",\n",
    "        \"name\": \"beta\",\n",
    "        \"version\": \"v3.0.0\",\n",
    "        \"artifact_type\": \"SKLEARN\",\n",
    "        \"task_type\": \"classification\",\n",
    "        \"tags\": {\"author\": \"Bob\"},\n",
    "    },\n",
    "]\n",
    "\n",
    "for model in models:\n",
    "    body = V1Model(**model)\n",
    "    try:\n",
    "        api_response = metadata_api.model_metadata_service_create_model_metadata(body)\n",
    "    except ApiException as e:\n",
    "        print(f\"Couldn't create model: {json.loads(e.body)['message']}\")\n"
   ]
  },
  {
   "cell_type": "markdown",
   "metadata": {},
   "source": [
    "##### List all models in the Model Catalogue"
   ]
  },
  {
   "cell_type": "code",
   "execution_count": null,
   "metadata": {},
   "outputs": [],
   "source": [
    "try:\n",
    "    # List Model Metadata entries.\n",
    "    api_response = metadata_api.model_metadata_service_list_model_metadata()\n",
    "    print(api_response)\n",
    "except ApiException as e:\n",
    "    print(f\"Failed to call API: {json.loads(e.body)['message']}\")"
   ]
  },
  {
   "cell_type": "markdown",
   "metadata": {},
   "source": [
    "##### Get all version of a given model (named \"beta\")"
   ]
  },
  {
   "cell_type": "code",
   "execution_count": null,
   "metadata": {},
   "outputs": [],
   "source": [
    "try:\n",
    "    # List Model Metadata entries.\n",
    "    api_response = metadata_api.model_metadata_service_list_model_metadata(name=\"beta\", tags={\"author\": \"Jon\"})\n",
    "    print(\"Filter by name=beta\")\n",
    "    print(api_response)\n",
    "except ApiException as e:\n",
    "    print(f\"Failed to call API: {json.loads(e.body)['message']}\")\n",
    "\n",
    "# uri = 'uri_example'\n",
    "# name = 'name_example'\n",
    "# version = 'version_example'\n",
    "# artifactType = 'artifactType_example'\n",
    "# task_type = 'task_type_example'\n",
    "# model_type = 'model_type_example'"
   ]
  },
  {
   "cell_type": "markdown",
   "metadata": {},
   "source": [
    "##### Get all models authored by Bob (tags.author = Bob)"
   ]
  },
  {
   "cell_type": "code",
   "execution_count": null,
   "metadata": {},
   "outputs": [],
   "source": [
    "try:\n",
    "    # List Model Metadata entries.\n",
    "    api_response = metadata_api.model_metadata_service_list_model_metadata(tags={\"author\": \"Bob\"})\n",
    "    print(\"Filter by name=beta\")\n",
    "    print(api_response)\n",
    "except ApiException as e:\n",
    "    print(f\"Failed to call API: {json.loads(e.body)['message']}\")"
   ]
  },
  {
   "cell_type": "markdown",
   "metadata": {},
   "source": [
    "##### Modify model metadata entry in the Model Catalogue"
   ]
  },
  {
   "cell_type": "code",
   "execution_count": null,
   "metadata": {},
   "outputs": [],
   "source": [
    "try:\n",
    "    # Get Model Metadata entries.\n",
    "    api_response = metadata_api.model_metadata_service_list_model_metadata(uri=\"gs://test-model-alpha-v1.0.0\")\n",
    "    print(\"Before update:\")\n",
    "    print(api_response)\n",
    "except ApiException as e:\n",
    "    print(f\"Failed to call API: {json.loads(e.body)['message']}\")\n",
    "\n",
    "\n",
    "model = V1Model(\n",
    "    uri=\"gs://test-model-alpha-v1.0.0\",\n",
    "    name=\"alpha\",\n",
    "    version=\"v1.0.0\",\n",
    "    artifact_type=\"XGBOOST\",\n",
    "    task_type=\"regression\",\n",
    "    tags={\n",
    "        \"source\": \"https://github.com/some-other-repo\",\n",
    "        \"an arbitrary tag\": \"true\",\n",
    "        \"an additional tag\": \"123\",\n",
    "    },\n",
    ")\n",
    "\n",
    "try:\n",
    "    # Update a Model Metadata entry.\n",
    "    api_response = metadata_api.model_metadata_service_update_model_metadata(model)\n",
    "    print(api_response)\n",
    "except ApiException as e:\n",
    "    print(f\"Failed to call API: {json.loads(e.body)['message']}\")\n",
    "    \n",
    "try:\n",
    "    # List Model Metadata entries.\n",
    "    api_response = metadata_api.model_metadata_service_list_model_metadata(\n",
    "        uri=\"gs://test-model-alpha-v1.0.0\"\n",
    "    )\n",
    "    print(\"After update:\")\n",
    "    print(api_response)\n",
    "except ApiException as e:\n",
    "    print(f\"Failed to call API: {json.loads(e.body)['message']}\")"
   ]
  },
  {
   "cell_type": "markdown",
   "metadata": {},
   "source": [
    "##### Get runtime information for a model"
   ]
  },
  {
   "cell_type": "code",
   "execution_count": null,
   "metadata": {},
   "outputs": [],
   "source": [
    "try:\n",
    "    # List Runtime Metadata for all deployments associated with a model.\n",
    "    api_response = metadata_api.model_metadata_service_list_runtime_metadata_for_model(\n",
    "        model_uri=URI, \n",
    "        deployment_status=\"Running\"\n",
    "    )\n",
    "    print(api_response)\n",
    "except ApiException as e:\n",
    "    print(f\"Failed to call API: {json.loads(e.body)['message']}\")\n"
   ]
  },
  {
   "cell_type": "markdown",
   "metadata": {},
   "source": [
    "##### Get model information for a deployment"
   ]
  },
  {
   "cell_type": "code",
   "execution_count": null,
   "metadata": {},
   "outputs": [],
   "source": [
    "try:\n",
    "    # List Runtime Metadata for all deployments associated with a model.\n",
    "    api_response = metadata_api.model_metadata_service_list_runtime_metadata_for_model(\n",
    "        deployment_name=DEPLOYMENT_NAME, \n",
    "        deployment_namespace=NAMESPACE\n",
    "    )\n",
    "    print(api_response)\n",
    "except ApiException as e:\n",
    "    print(f\"Failed to call API: {json.loads(e.body)['message']}\")"
   ]
  }
 ],
 "metadata": {
  "kernelspec": {
   "display_name": "Python 3.8.13 ('sdk')",
   "language": "python",
   "name": "python3"
  },
  "language_info": {
   "codemirror_mode": {
    "name": "ipython",
    "version": 3
   },
   "file_extension": ".py",
   "mimetype": "text/x-python",
   "name": "python",
   "nbconvert_exporter": "python",
   "pygments_lexer": "ipython3",
   "version": "3.8.13"
  },
  "orig_nbformat": 4,
  "vscode": {
   "interpreter": {
    "hash": "793730d59f4aa04fa8593a39ccc2db7a75dfc3b8916ec648936ce657d4a1590f"
   }
  }
 },
 "nbformat": 4,
 "nbformat_minor": 2
}
