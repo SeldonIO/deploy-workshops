{
 "cells": [
  {
   "cell_type": "code",
   "execution_count": 27,
   "id": "3c15b8f6",
   "metadata": {},
   "outputs": [
    {
     "name": "stdout",
     "output_type": "stream",
     "text": [
      "Requirement already satisfied: alibi==0.6.4 in /Users/josh/opt/anaconda3/envs/data-science/lib/python3.9/site-packages (0.6.4)\n",
      "Requirement already satisfied: attrs<22.0.0,>=19.2.0 in /Users/josh/opt/anaconda3/envs/data-science/lib/python3.9/site-packages (from alibi==0.6.4) (21.4.0)\n",
      "Requirement already satisfied: numpy<2.0.0,>=1.16.2 in /Users/josh/opt/anaconda3/envs/data-science/lib/python3.9/site-packages (from alibi==0.6.4) (1.19.5)\n",
      "Requirement already satisfied: dill<0.4.0,>=0.3.0 in /Users/josh/opt/anaconda3/envs/data-science/lib/python3.9/site-packages (from alibi==0.6.4) (0.3.4)\n",
      "Requirement already satisfied: scikit-learn<1.1.0,>=0.20.2 in /Users/josh/opt/anaconda3/envs/data-science/lib/python3.9/site-packages (from alibi==0.6.4) (0.24.2)\n",
      "Requirement already satisfied: spacy[lookups]<4.0.0,>=2.0.0 in /Users/josh/opt/anaconda3/envs/data-science/lib/python3.9/site-packages (from alibi==0.6.4) (3.2.1)\n",
      "Requirement already satisfied: Pillow<10.0,>=5.4.1 in /Users/josh/opt/anaconda3/envs/data-science/lib/python3.9/site-packages (from alibi==0.6.4) (8.4.0)\n",
      "Requirement already satisfied: requests<3.0.0,>=2.21.0 in /Users/josh/opt/anaconda3/envs/data-science/lib/python3.9/site-packages (from alibi==0.6.4) (2.27.1)\n",
      "Requirement already satisfied: matplotlib<4.0.0,>=3.0.0 in /Users/josh/opt/anaconda3/envs/data-science/lib/python3.9/site-packages (from alibi==0.6.4) (3.5.1)\n",
      "Requirement already satisfied: tqdm<5.0.0,>=4.28.1 in /Users/josh/opt/anaconda3/envs/data-science/lib/python3.9/site-packages (from alibi==0.6.4) (4.62.3)\n",
      "Requirement already satisfied: transformers<5.0.0,>=4.7.0 in /Users/josh/opt/anaconda3/envs/data-science/lib/python3.9/site-packages (from alibi==0.6.4) (4.16.2)\n",
      "Requirement already satisfied: scipy<2.0.0,>=1.1.0 in /Users/josh/opt/anaconda3/envs/data-science/lib/python3.9/site-packages (from alibi==0.6.4) (1.7.3)\n",
      "Requirement already satisfied: scikit-image!=0.17.1,<0.20,>=0.14.2 in /Users/josh/opt/anaconda3/envs/data-science/lib/python3.9/site-packages (from alibi==0.6.4) (0.18.3)\n",
      "Requirement already satisfied: tensorflow!=2.6.0,!=2.6.1,<2.8.0,>=2.0.0 in /Users/josh/opt/anaconda3/envs/data-science/lib/python3.9/site-packages (from alibi==0.6.4) (2.5.3)\n",
      "Requirement already satisfied: pandas<2.0.0,>=0.23.3 in /Users/josh/opt/anaconda3/envs/data-science/lib/python3.9/site-packages (from alibi==0.6.4) (1.4.0)\n",
      "Requirement already satisfied: python-dateutil>=2.7 in /Users/josh/opt/anaconda3/envs/data-science/lib/python3.9/site-packages (from matplotlib<4.0.0,>=3.0.0->alibi==0.6.4) (2.8.2)\n",
      "Requirement already satisfied: pyparsing>=2.2.1 in /Users/josh/opt/anaconda3/envs/data-science/lib/python3.9/site-packages (from matplotlib<4.0.0,>=3.0.0->alibi==0.6.4) (3.0.7)\n",
      "Requirement already satisfied: cycler>=0.10 in /Users/josh/opt/anaconda3/envs/data-science/lib/python3.9/site-packages (from matplotlib<4.0.0,>=3.0.0->alibi==0.6.4) (0.11.0)\n",
      "Requirement already satisfied: fonttools>=4.22.0 in /Users/josh/opt/anaconda3/envs/data-science/lib/python3.9/site-packages (from matplotlib<4.0.0,>=3.0.0->alibi==0.6.4) (4.29.1)\n",
      "Requirement already satisfied: kiwisolver>=1.0.1 in /Users/josh/opt/anaconda3/envs/data-science/lib/python3.9/site-packages (from matplotlib<4.0.0,>=3.0.0->alibi==0.6.4) (1.3.2)\n",
      "Requirement already satisfied: packaging>=20.0 in /Users/josh/opt/anaconda3/envs/data-science/lib/python3.9/site-packages (from matplotlib<4.0.0,>=3.0.0->alibi==0.6.4) (21.3)\n",
      "Requirement already satisfied: pytz>=2020.1 in /Users/josh/opt/anaconda3/envs/data-science/lib/python3.9/site-packages (from pandas<2.0.0,>=0.23.3->alibi==0.6.4) (2021.3)\n",
      "Requirement already satisfied: six>=1.5 in /Users/josh/opt/anaconda3/envs/data-science/lib/python3.9/site-packages (from python-dateutil>=2.7->matplotlib<4.0.0,>=3.0.0->alibi==0.6.4) (1.15.0)\n",
      "Requirement already satisfied: charset-normalizer~=2.0.0 in /Users/josh/opt/anaconda3/envs/data-science/lib/python3.9/site-packages (from requests<3.0.0,>=2.21.0->alibi==0.6.4) (2.0.11)\n",
      "Requirement already satisfied: urllib3<1.27,>=1.21.1 in /Users/josh/opt/anaconda3/envs/data-science/lib/python3.9/site-packages (from requests<3.0.0,>=2.21.0->alibi==0.6.4) (1.26.5)\n",
      "Requirement already satisfied: certifi>=2017.4.17 in /Users/josh/opt/anaconda3/envs/data-science/lib/python3.9/site-packages (from requests<3.0.0,>=2.21.0->alibi==0.6.4) (2021.10.8)\n",
      "Requirement already satisfied: idna<4,>=2.5 in /Users/josh/opt/anaconda3/envs/data-science/lib/python3.9/site-packages (from requests<3.0.0,>=2.21.0->alibi==0.6.4) (3.3)\n",
      "Requirement already satisfied: tifffile>=2019.7.26 in /Users/josh/opt/anaconda3/envs/data-science/lib/python3.9/site-packages (from scikit-image!=0.17.1,<0.20,>=0.14.2->alibi==0.6.4) (2021.11.2)\n",
      "Requirement already satisfied: imageio>=2.3.0 in /Users/josh/opt/anaconda3/envs/data-science/lib/python3.9/site-packages (from scikit-image!=0.17.1,<0.20,>=0.14.2->alibi==0.6.4) (2.14.1)\n",
      "Requirement already satisfied: networkx>=2.0 in /Users/josh/opt/anaconda3/envs/data-science/lib/python3.9/site-packages (from scikit-image!=0.17.1,<0.20,>=0.14.2->alibi==0.6.4) (2.6.3)\n",
      "Requirement already satisfied: PyWavelets>=1.1.1 in /Users/josh/opt/anaconda3/envs/data-science/lib/python3.9/site-packages (from scikit-image!=0.17.1,<0.20,>=0.14.2->alibi==0.6.4) (1.2.0)\n",
      "Requirement already satisfied: threadpoolctl>=2.0.0 in /Users/josh/opt/anaconda3/envs/data-science/lib/python3.9/site-packages (from scikit-learn<1.1.0,>=0.20.2->alibi==0.6.4) (3.1.0)\n",
      "Requirement already satisfied: joblib>=0.11 in /Users/josh/opt/anaconda3/envs/data-science/lib/python3.9/site-packages (from scikit-learn<1.1.0,>=0.20.2->alibi==0.6.4) (1.1.0)\n",
      "Requirement already satisfied: pydantic!=1.8,!=1.8.1,<1.9.0,>=1.7.4 in /Users/josh/opt/anaconda3/envs/data-science/lib/python3.9/site-packages (from spacy[lookups]<4.0.0,>=2.0.0->alibi==0.6.4) (1.8.2)\n",
      "Requirement already satisfied: setuptools in /Users/josh/opt/anaconda3/envs/data-science/lib/python3.9/site-packages (from spacy[lookups]<4.0.0,>=2.0.0->alibi==0.6.4) (58.0.4)\n",
      "Requirement already satisfied: preshed<3.1.0,>=3.0.2 in /Users/josh/opt/anaconda3/envs/data-science/lib/python3.9/site-packages (from spacy[lookups]<4.0.0,>=2.0.0->alibi==0.6.4) (3.0.6)\n",
      "Requirement already satisfied: catalogue<2.1.0,>=2.0.6 in /Users/josh/opt/anaconda3/envs/data-science/lib/python3.9/site-packages (from spacy[lookups]<4.0.0,>=2.0.0->alibi==0.6.4) (2.0.6)\n",
      "Requirement already satisfied: srsly<3.0.0,>=2.4.1 in /Users/josh/opt/anaconda3/envs/data-science/lib/python3.9/site-packages (from spacy[lookups]<4.0.0,>=2.0.0->alibi==0.6.4) (2.4.2)\n",
      "Requirement already satisfied: thinc<8.1.0,>=8.0.12 in /Users/josh/opt/anaconda3/envs/data-science/lib/python3.9/site-packages (from spacy[lookups]<4.0.0,>=2.0.0->alibi==0.6.4) (8.0.13)\n",
      "Requirement already satisfied: spacy-loggers<2.0.0,>=1.0.0 in /Users/josh/opt/anaconda3/envs/data-science/lib/python3.9/site-packages (from spacy[lookups]<4.0.0,>=2.0.0->alibi==0.6.4) (1.0.1)\n",
      "Requirement already satisfied: spacy-legacy<3.1.0,>=3.0.8 in /Users/josh/opt/anaconda3/envs/data-science/lib/python3.9/site-packages (from spacy[lookups]<4.0.0,>=2.0.0->alibi==0.6.4) (3.0.8)\n",
      "Requirement already satisfied: cymem<2.1.0,>=2.0.2 in /Users/josh/opt/anaconda3/envs/data-science/lib/python3.9/site-packages (from spacy[lookups]<4.0.0,>=2.0.0->alibi==0.6.4) (2.0.6)\n",
      "Requirement already satisfied: jinja2 in /Users/josh/opt/anaconda3/envs/data-science/lib/python3.9/site-packages (from spacy[lookups]<4.0.0,>=2.0.0->alibi==0.6.4) (3.0.3)\n",
      "Requirement already satisfied: blis<0.8.0,>=0.4.0 in /Users/josh/opt/anaconda3/envs/data-science/lib/python3.9/site-packages (from spacy[lookups]<4.0.0,>=2.0.0->alibi==0.6.4) (0.7.5)\n",
      "Requirement already satisfied: wasabi<1.1.0,>=0.8.1 in /Users/josh/opt/anaconda3/envs/data-science/lib/python3.9/site-packages (from spacy[lookups]<4.0.0,>=2.0.0->alibi==0.6.4) (0.9.0)\n",
      "Requirement already satisfied: langcodes<4.0.0,>=3.2.0 in /Users/josh/opt/anaconda3/envs/data-science/lib/python3.9/site-packages (from spacy[lookups]<4.0.0,>=2.0.0->alibi==0.6.4) (3.3.0)\n",
      "Requirement already satisfied: murmurhash<1.1.0,>=0.28.0 in /Users/josh/opt/anaconda3/envs/data-science/lib/python3.9/site-packages (from spacy[lookups]<4.0.0,>=2.0.0->alibi==0.6.4) (1.0.6)\n",
      "Requirement already satisfied: typer<0.5.0,>=0.3.0 in /Users/josh/opt/anaconda3/envs/data-science/lib/python3.9/site-packages (from spacy[lookups]<4.0.0,>=2.0.0->alibi==0.6.4) (0.4.0)\n",
      "Requirement already satisfied: pathy>=0.3.5 in /Users/josh/opt/anaconda3/envs/data-science/lib/python3.9/site-packages (from spacy[lookups]<4.0.0,>=2.0.0->alibi==0.6.4) (0.6.1)\n",
      "Requirement already satisfied: spacy-lookups-data<1.1.0,>=1.0.3 in /Users/josh/opt/anaconda3/envs/data-science/lib/python3.9/site-packages (from spacy[lookups]<4.0.0,>=2.0.0->alibi==0.6.4) (1.0.3)\n",
      "Requirement already satisfied: smart-open<6.0.0,>=5.0.0 in /Users/josh/opt/anaconda3/envs/data-science/lib/python3.9/site-packages (from pathy>=0.3.5->spacy[lookups]<4.0.0,>=2.0.0->alibi==0.6.4) (5.2.1)\n",
      "Requirement already satisfied: typing-extensions>=3.7.4.3 in /Users/josh/opt/anaconda3/envs/data-science/lib/python3.9/site-packages (from pydantic!=1.8,!=1.8.1,<1.9.0,>=1.7.4->spacy[lookups]<4.0.0,>=2.0.0->alibi==0.6.4) (3.7.4.3)\n",
      "Requirement already satisfied: tensorboard~=2.5 in /Users/josh/opt/anaconda3/envs/data-science/lib/python3.9/site-packages (from tensorflow!=2.6.0,!=2.6.1,<2.8.0,>=2.0.0->alibi==0.6.4) (2.8.0)\n",
      "Requirement already satisfied: google-pasta~=0.2 in /Users/josh/opt/anaconda3/envs/data-science/lib/python3.9/site-packages (from tensorflow!=2.6.0,!=2.6.1,<2.8.0,>=2.0.0->alibi==0.6.4) (0.2.0)\n",
      "Requirement already satisfied: opt-einsum~=3.3.0 in /Users/josh/opt/anaconda3/envs/data-science/lib/python3.9/site-packages (from tensorflow!=2.6.0,!=2.6.1,<2.8.0,>=2.0.0->alibi==0.6.4) (3.3.0)\n",
      "Requirement already satisfied: gast==0.4.0 in /Users/josh/opt/anaconda3/envs/data-science/lib/python3.9/site-packages (from tensorflow!=2.6.0,!=2.6.1,<2.8.0,>=2.0.0->alibi==0.6.4) (0.4.0)\n",
      "Requirement already satisfied: keras-preprocessing~=1.1.2 in /Users/josh/opt/anaconda3/envs/data-science/lib/python3.9/site-packages (from tensorflow!=2.6.0,!=2.6.1,<2.8.0,>=2.0.0->alibi==0.6.4) (1.1.2)\n",
      "Requirement already satisfied: grpcio~=1.34.0 in /Users/josh/opt/anaconda3/envs/data-science/lib/python3.9/site-packages (from tensorflow!=2.6.0,!=2.6.1,<2.8.0,>=2.0.0->alibi==0.6.4) (1.34.1)\n",
      "Requirement already satisfied: tensorflow-estimator<2.6.0,>=2.5.0 in /Users/josh/opt/anaconda3/envs/data-science/lib/python3.9/site-packages (from tensorflow!=2.6.0,!=2.6.1,<2.8.0,>=2.0.0->alibi==0.6.4) (2.5.0)\n",
      "Requirement already satisfied: absl-py~=0.10 in /Users/josh/opt/anaconda3/envs/data-science/lib/python3.9/site-packages (from tensorflow!=2.6.0,!=2.6.1,<2.8.0,>=2.0.0->alibi==0.6.4) (0.15.0)\n",
      "Requirement already satisfied: keras-nightly~=2.5.0.dev in /Users/josh/opt/anaconda3/envs/data-science/lib/python3.9/site-packages (from tensorflow!=2.6.0,!=2.6.1,<2.8.0,>=2.0.0->alibi==0.6.4) (2.5.0.dev2021032900)\n",
      "Requirement already satisfied: termcolor~=1.1.0 in /Users/josh/opt/anaconda3/envs/data-science/lib/python3.9/site-packages (from tensorflow!=2.6.0,!=2.6.1,<2.8.0,>=2.0.0->alibi==0.6.4) (1.1.0)\n",
      "Requirement already satisfied: flatbuffers~=1.12.0 in /Users/josh/opt/anaconda3/envs/data-science/lib/python3.9/site-packages (from tensorflow!=2.6.0,!=2.6.1,<2.8.0,>=2.0.0->alibi==0.6.4) (1.12)\n",
      "Requirement already satisfied: h5py~=3.1.0 in /Users/josh/opt/anaconda3/envs/data-science/lib/python3.9/site-packages (from tensorflow!=2.6.0,!=2.6.1,<2.8.0,>=2.0.0->alibi==0.6.4) (3.1.0)\n",
      "Requirement already satisfied: wheel~=0.35 in /Users/josh/opt/anaconda3/envs/data-science/lib/python3.9/site-packages (from tensorflow!=2.6.0,!=2.6.1,<2.8.0,>=2.0.0->alibi==0.6.4) (0.37.1)\n",
      "Requirement already satisfied: astunparse~=1.6.3 in /Users/josh/opt/anaconda3/envs/data-science/lib/python3.9/site-packages (from tensorflow!=2.6.0,!=2.6.1,<2.8.0,>=2.0.0->alibi==0.6.4) (1.6.3)\n",
      "Requirement already satisfied: protobuf>=3.9.2 in /Users/josh/opt/anaconda3/envs/data-science/lib/python3.9/site-packages (from tensorflow!=2.6.0,!=2.6.1,<2.8.0,>=2.0.0->alibi==0.6.4) (3.19.4)\n",
      "Requirement already satisfied: wrapt~=1.12.1 in /Users/josh/opt/anaconda3/envs/data-science/lib/python3.9/site-packages (from tensorflow!=2.6.0,!=2.6.1,<2.8.0,>=2.0.0->alibi==0.6.4) (1.12.1)\n",
      "Requirement already satisfied: google-auth<3,>=1.6.3 in /Users/josh/opt/anaconda3/envs/data-science/lib/python3.9/site-packages (from tensorboard~=2.5->tensorflow!=2.6.0,!=2.6.1,<2.8.0,>=2.0.0->alibi==0.6.4) (2.6.0)\n",
      "Requirement already satisfied: markdown>=2.6.8 in /Users/josh/opt/anaconda3/envs/data-science/lib/python3.9/site-packages (from tensorboard~=2.5->tensorflow!=2.6.0,!=2.6.1,<2.8.0,>=2.0.0->alibi==0.6.4) (3.3.6)\n",
      "Requirement already satisfied: tensorboard-data-server<0.7.0,>=0.6.0 in /Users/josh/opt/anaconda3/envs/data-science/lib/python3.9/site-packages (from tensorboard~=2.5->tensorflow!=2.6.0,!=2.6.1,<2.8.0,>=2.0.0->alibi==0.6.4) (0.6.1)\n",
      "Requirement already satisfied: werkzeug>=0.11.15 in /Users/josh/opt/anaconda3/envs/data-science/lib/python3.9/site-packages (from tensorboard~=2.5->tensorflow!=2.6.0,!=2.6.1,<2.8.0,>=2.0.0->alibi==0.6.4) (2.0.2)\n",
      "Requirement already satisfied: tensorboard-plugin-wit>=1.6.0 in /Users/josh/opt/anaconda3/envs/data-science/lib/python3.9/site-packages (from tensorboard~=2.5->tensorflow!=2.6.0,!=2.6.1,<2.8.0,>=2.0.0->alibi==0.6.4) (1.8.1)\n",
      "Requirement already satisfied: google-auth-oauthlib<0.5,>=0.4.1 in /Users/josh/opt/anaconda3/envs/data-science/lib/python3.9/site-packages (from tensorboard~=2.5->tensorflow!=2.6.0,!=2.6.1,<2.8.0,>=2.0.0->alibi==0.6.4) (0.4.6)\n",
      "Requirement already satisfied: rsa<5,>=3.1.4 in /Users/josh/opt/anaconda3/envs/data-science/lib/python3.9/site-packages (from google-auth<3,>=1.6.3->tensorboard~=2.5->tensorflow!=2.6.0,!=2.6.1,<2.8.0,>=2.0.0->alibi==0.6.4) (4.8)\n",
      "Requirement already satisfied: pyasn1-modules>=0.2.1 in /Users/josh/opt/anaconda3/envs/data-science/lib/python3.9/site-packages (from google-auth<3,>=1.6.3->tensorboard~=2.5->tensorflow!=2.6.0,!=2.6.1,<2.8.0,>=2.0.0->alibi==0.6.4) (0.2.8)\n",
      "Requirement already satisfied: cachetools<6.0,>=2.0.0 in /Users/josh/opt/anaconda3/envs/data-science/lib/python3.9/site-packages (from google-auth<3,>=1.6.3->tensorboard~=2.5->tensorflow!=2.6.0,!=2.6.1,<2.8.0,>=2.0.0->alibi==0.6.4) (5.0.0)\n",
      "Requirement already satisfied: requests-oauthlib>=0.7.0 in /Users/josh/opt/anaconda3/envs/data-science/lib/python3.9/site-packages (from google-auth-oauthlib<0.5,>=0.4.1->tensorboard~=2.5->tensorflow!=2.6.0,!=2.6.1,<2.8.0,>=2.0.0->alibi==0.6.4) (1.3.1)\n",
      "Requirement already satisfied: importlib-metadata>=4.4 in /Users/josh/opt/anaconda3/envs/data-science/lib/python3.9/site-packages (from markdown>=2.6.8->tensorboard~=2.5->tensorflow!=2.6.0,!=2.6.1,<2.8.0,>=2.0.0->alibi==0.6.4) (4.10.1)\n",
      "Requirement already satisfied: zipp>=0.5 in /Users/josh/opt/anaconda3/envs/data-science/lib/python3.9/site-packages (from importlib-metadata>=4.4->markdown>=2.6.8->tensorboard~=2.5->tensorflow!=2.6.0,!=2.6.1,<2.8.0,>=2.0.0->alibi==0.6.4) (3.7.0)\n",
      "Requirement already satisfied: pyasn1<0.5.0,>=0.4.6 in /Users/josh/opt/anaconda3/envs/data-science/lib/python3.9/site-packages (from pyasn1-modules>=0.2.1->google-auth<3,>=1.6.3->tensorboard~=2.5->tensorflow!=2.6.0,!=2.6.1,<2.8.0,>=2.0.0->alibi==0.6.4) (0.4.8)\n",
      "Requirement already satisfied: oauthlib>=3.0.0 in /Users/josh/opt/anaconda3/envs/data-science/lib/python3.9/site-packages (from requests-oauthlib>=0.7.0->google-auth-oauthlib<0.5,>=0.4.1->tensorboard~=2.5->tensorflow!=2.6.0,!=2.6.1,<2.8.0,>=2.0.0->alibi==0.6.4) (3.2.0)\n",
      "Requirement already satisfied: sacremoses in /Users/josh/opt/anaconda3/envs/data-science/lib/python3.9/site-packages (from transformers<5.0.0,>=4.7.0->alibi==0.6.4) (0.0.47)\n",
      "Requirement already satisfied: tokenizers!=0.11.3,>=0.10.1 in /Users/josh/opt/anaconda3/envs/data-science/lib/python3.9/site-packages (from transformers<5.0.0,>=4.7.0->alibi==0.6.4) (0.11.4)\n",
      "Requirement already satisfied: filelock in /Users/josh/opt/anaconda3/envs/data-science/lib/python3.9/site-packages (from transformers<5.0.0,>=4.7.0->alibi==0.6.4) (3.4.2)\n",
      "Requirement already satisfied: regex!=2019.12.17 in /Users/josh/opt/anaconda3/envs/data-science/lib/python3.9/site-packages (from transformers<5.0.0,>=4.7.0->alibi==0.6.4) (2022.1.18)\n",
      "Requirement already satisfied: huggingface-hub<1.0,>=0.1.0 in /Users/josh/opt/anaconda3/envs/data-science/lib/python3.9/site-packages (from transformers<5.0.0,>=4.7.0->alibi==0.6.4) (0.4.0)\n",
      "Requirement already satisfied: pyyaml>=5.1 in /Users/josh/opt/anaconda3/envs/data-science/lib/python3.9/site-packages (from transformers<5.0.0,>=4.7.0->alibi==0.6.4) (5.4.1)\n",
      "Requirement already satisfied: click<9.0.0,>=7.1.1 in /Users/josh/opt/anaconda3/envs/data-science/lib/python3.9/site-packages (from typer<0.5.0,>=0.3.0->spacy[lookups]<4.0.0,>=2.0.0->alibi==0.6.4) (8.0.3)\n",
      "Requirement already satisfied: MarkupSafe>=2.0 in /Users/josh/opt/anaconda3/envs/data-science/lib/python3.9/site-packages (from jinja2->spacy[lookups]<4.0.0,>=2.0.0->alibi==0.6.4) (2.0.1)\n",
      "Requirement already satisfied: alibi_detect==0.8.1 in /Users/josh/opt/anaconda3/envs/data-science/lib/python3.9/site-packages (0.8.1)\n",
      "Requirement already satisfied: dill<0.4.0,>=0.3.0 in /Users/josh/opt/anaconda3/envs/data-science/lib/python3.9/site-packages (from alibi_detect==0.8.1) (0.3.4)\n",
      "Requirement already satisfied: numba!=0.54.0,<0.56.0,>=0.50.0 in /Users/josh/opt/anaconda3/envs/data-science/lib/python3.9/site-packages (from alibi_detect==0.8.1) (0.55.1)\n",
      "Requirement already satisfied: opencv-python<5.0.0,>=3.2.0 in /Users/josh/opt/anaconda3/envs/data-science/lib/python3.9/site-packages (from alibi_detect==0.8.1) (4.5.5.62)\n",
      "Requirement already satisfied: pandas<2.0.0,>=0.23.3 in /Users/josh/opt/anaconda3/envs/data-science/lib/python3.9/site-packages (from alibi_detect==0.8.1) (1.4.0)\n",
      "Requirement already satisfied: transformers<5.0.0,>=4.0.0 in /Users/josh/opt/anaconda3/envs/data-science/lib/python3.9/site-packages (from alibi_detect==0.8.1) (4.16.2)\n",
      "Requirement already satisfied: matplotlib<4.0.0,>=3.0.0 in /Users/josh/opt/anaconda3/envs/data-science/lib/python3.9/site-packages (from alibi_detect==0.8.1) (3.5.1)\n",
      "Requirement already satisfied: tqdm<5.0.0,>=4.28.1 in /Users/josh/opt/anaconda3/envs/data-science/lib/python3.9/site-packages (from alibi_detect==0.8.1) (4.62.3)\n",
      "Requirement already satisfied: numpy<2.0.0,>=1.16.2 in /Users/josh/opt/anaconda3/envs/data-science/lib/python3.9/site-packages (from alibi_detect==0.8.1) (1.19.5)\n",
      "Requirement already satisfied: requests<3.0.0,>=2.21.0 in /Users/josh/opt/anaconda3/envs/data-science/lib/python3.9/site-packages (from alibi_detect==0.8.1) (2.27.1)\n",
      "Requirement already satisfied: scipy<2.0.0,>=1.3.0 in /Users/josh/opt/anaconda3/envs/data-science/lib/python3.9/site-packages (from alibi_detect==0.8.1) (1.7.3)\n",
      "Requirement already satisfied: scikit-image!=0.17.1,<0.19,>=0.14.2 in /Users/josh/opt/anaconda3/envs/data-science/lib/python3.9/site-packages (from alibi_detect==0.8.1) (0.18.3)\n",
      "Requirement already satisfied: scikit-learn<1.1.0,>=0.20.2 in /Users/josh/opt/anaconda3/envs/data-science/lib/python3.9/site-packages (from alibi_detect==0.8.1) (0.24.2)\n",
      "Requirement already satisfied: tensorflow-probability<0.13.0,>=0.8.0 in /Users/josh/opt/anaconda3/envs/data-science/lib/python3.9/site-packages (from alibi_detect==0.8.1) (0.12.2)\n",
      "Requirement already satisfied: tensorflow!=2.6.0,!=2.6.1,<2.8.0,>=2.2.0 in /Users/josh/opt/anaconda3/envs/data-science/lib/python3.9/site-packages (from alibi_detect==0.8.1) (2.5.3)\n",
      "Requirement already satisfied: Pillow<9.0.0,>=5.4.1 in /Users/josh/opt/anaconda3/envs/data-science/lib/python3.9/site-packages (from alibi_detect==0.8.1) (8.4.0)\n",
      "Requirement already satisfied: python-dateutil>=2.7 in /Users/josh/opt/anaconda3/envs/data-science/lib/python3.9/site-packages (from matplotlib<4.0.0,>=3.0.0->alibi_detect==0.8.1) (2.8.2)\n",
      "Requirement already satisfied: fonttools>=4.22.0 in /Users/josh/opt/anaconda3/envs/data-science/lib/python3.9/site-packages (from matplotlib<4.0.0,>=3.0.0->alibi_detect==0.8.1) (4.29.1)\n",
      "Requirement already satisfied: kiwisolver>=1.0.1 in /Users/josh/opt/anaconda3/envs/data-science/lib/python3.9/site-packages (from matplotlib<4.0.0,>=3.0.0->alibi_detect==0.8.1) (1.3.2)\n",
      "Requirement already satisfied: cycler>=0.10 in /Users/josh/opt/anaconda3/envs/data-science/lib/python3.9/site-packages (from matplotlib<4.0.0,>=3.0.0->alibi_detect==0.8.1) (0.11.0)\n",
      "Requirement already satisfied: packaging>=20.0 in /Users/josh/opt/anaconda3/envs/data-science/lib/python3.9/site-packages (from matplotlib<4.0.0,>=3.0.0->alibi_detect==0.8.1) (21.3)\n",
      "Requirement already satisfied: pyparsing>=2.2.1 in /Users/josh/opt/anaconda3/envs/data-science/lib/python3.9/site-packages (from matplotlib<4.0.0,>=3.0.0->alibi_detect==0.8.1) (3.0.7)\n",
      "Requirement already satisfied: setuptools in /Users/josh/opt/anaconda3/envs/data-science/lib/python3.9/site-packages (from numba!=0.54.0,<0.56.0,>=0.50.0->alibi_detect==0.8.1) (58.0.4)\n",
      "Requirement already satisfied: llvmlite<0.39,>=0.38.0rc1 in /Users/josh/opt/anaconda3/envs/data-science/lib/python3.9/site-packages (from numba!=0.54.0,<0.56.0,>=0.50.0->alibi_detect==0.8.1) (0.38.0)\n",
      "Requirement already satisfied: pytz>=2020.1 in /Users/josh/opt/anaconda3/envs/data-science/lib/python3.9/site-packages (from pandas<2.0.0,>=0.23.3->alibi_detect==0.8.1) (2021.3)\n",
      "Requirement already satisfied: six>=1.5 in /Users/josh/opt/anaconda3/envs/data-science/lib/python3.9/site-packages (from python-dateutil>=2.7->matplotlib<4.0.0,>=3.0.0->alibi_detect==0.8.1) (1.15.0)\n",
      "Requirement already satisfied: charset-normalizer~=2.0.0 in /Users/josh/opt/anaconda3/envs/data-science/lib/python3.9/site-packages (from requests<3.0.0,>=2.21.0->alibi_detect==0.8.1) (2.0.11)\n",
      "Requirement already satisfied: urllib3<1.27,>=1.21.1 in /Users/josh/opt/anaconda3/envs/data-science/lib/python3.9/site-packages (from requests<3.0.0,>=2.21.0->alibi_detect==0.8.1) (1.26.5)\n",
      "Requirement already satisfied: certifi>=2017.4.17 in /Users/josh/opt/anaconda3/envs/data-science/lib/python3.9/site-packages (from requests<3.0.0,>=2.21.0->alibi_detect==0.8.1) (2021.10.8)\n",
      "Requirement already satisfied: idna<4,>=2.5 in /Users/josh/opt/anaconda3/envs/data-science/lib/python3.9/site-packages (from requests<3.0.0,>=2.21.0->alibi_detect==0.8.1) (3.3)\n",
      "Requirement already satisfied: imageio>=2.3.0 in /Users/josh/opt/anaconda3/envs/data-science/lib/python3.9/site-packages (from scikit-image!=0.17.1,<0.19,>=0.14.2->alibi_detect==0.8.1) (2.14.1)\n",
      "Requirement already satisfied: tifffile>=2019.7.26 in /Users/josh/opt/anaconda3/envs/data-science/lib/python3.9/site-packages (from scikit-image!=0.17.1,<0.19,>=0.14.2->alibi_detect==0.8.1) (2021.11.2)\n",
      "Requirement already satisfied: networkx>=2.0 in /Users/josh/opt/anaconda3/envs/data-science/lib/python3.9/site-packages (from scikit-image!=0.17.1,<0.19,>=0.14.2->alibi_detect==0.8.1) (2.6.3)\n",
      "Requirement already satisfied: PyWavelets>=1.1.1 in /Users/josh/opt/anaconda3/envs/data-science/lib/python3.9/site-packages (from scikit-image!=0.17.1,<0.19,>=0.14.2->alibi_detect==0.8.1) (1.2.0)\n",
      "Requirement already satisfied: joblib>=0.11 in /Users/josh/opt/anaconda3/envs/data-science/lib/python3.9/site-packages (from scikit-learn<1.1.0,>=0.20.2->alibi_detect==0.8.1) (1.1.0)\n",
      "Requirement already satisfied: threadpoolctl>=2.0.0 in /Users/josh/opt/anaconda3/envs/data-science/lib/python3.9/site-packages (from scikit-learn<1.1.0,>=0.20.2->alibi_detect==0.8.1) (3.1.0)\n",
      "Requirement already satisfied: grpcio~=1.34.0 in /Users/josh/opt/anaconda3/envs/data-science/lib/python3.9/site-packages (from tensorflow!=2.6.0,!=2.6.1,<2.8.0,>=2.2.0->alibi_detect==0.8.1) (1.34.1)\n",
      "Requirement already satisfied: keras-preprocessing~=1.1.2 in /Users/josh/opt/anaconda3/envs/data-science/lib/python3.9/site-packages (from tensorflow!=2.6.0,!=2.6.1,<2.8.0,>=2.2.0->alibi_detect==0.8.1) (1.1.2)\n",
      "Requirement already satisfied: opt-einsum~=3.3.0 in /Users/josh/opt/anaconda3/envs/data-science/lib/python3.9/site-packages (from tensorflow!=2.6.0,!=2.6.1,<2.8.0,>=2.2.0->alibi_detect==0.8.1) (3.3.0)\n",
      "Requirement already satisfied: astunparse~=1.6.3 in /Users/josh/opt/anaconda3/envs/data-science/lib/python3.9/site-packages (from tensorflow!=2.6.0,!=2.6.1,<2.8.0,>=2.2.0->alibi_detect==0.8.1) (1.6.3)\n",
      "Requirement already satisfied: typing-extensions~=3.7.4 in /Users/josh/opt/anaconda3/envs/data-science/lib/python3.9/site-packages (from tensorflow!=2.6.0,!=2.6.1,<2.8.0,>=2.2.0->alibi_detect==0.8.1) (3.7.4.3)\n",
      "Requirement already satisfied: absl-py~=0.10 in /Users/josh/opt/anaconda3/envs/data-science/lib/python3.9/site-packages (from tensorflow!=2.6.0,!=2.6.1,<2.8.0,>=2.2.0->alibi_detect==0.8.1) (0.15.0)\n",
      "Requirement already satisfied: keras-nightly~=2.5.0.dev in /Users/josh/opt/anaconda3/envs/data-science/lib/python3.9/site-packages (from tensorflow!=2.6.0,!=2.6.1,<2.8.0,>=2.2.0->alibi_detect==0.8.1) (2.5.0.dev2021032900)\n",
      "Requirement already satisfied: tensorflow-estimator<2.6.0,>=2.5.0 in /Users/josh/opt/anaconda3/envs/data-science/lib/python3.9/site-packages (from tensorflow!=2.6.0,!=2.6.1,<2.8.0,>=2.2.0->alibi_detect==0.8.1) (2.5.0)\n",
      "Requirement already satisfied: flatbuffers~=1.12.0 in /Users/josh/opt/anaconda3/envs/data-science/lib/python3.9/site-packages (from tensorflow!=2.6.0,!=2.6.1,<2.8.0,>=2.2.0->alibi_detect==0.8.1) (1.12)\n",
      "Requirement already satisfied: wheel~=0.35 in /Users/josh/opt/anaconda3/envs/data-science/lib/python3.9/site-packages (from tensorflow!=2.6.0,!=2.6.1,<2.8.0,>=2.2.0->alibi_detect==0.8.1) (0.37.1)\n",
      "Requirement already satisfied: termcolor~=1.1.0 in /Users/josh/opt/anaconda3/envs/data-science/lib/python3.9/site-packages (from tensorflow!=2.6.0,!=2.6.1,<2.8.0,>=2.2.0->alibi_detect==0.8.1) (1.1.0)\n",
      "Requirement already satisfied: h5py~=3.1.0 in /Users/josh/opt/anaconda3/envs/data-science/lib/python3.9/site-packages (from tensorflow!=2.6.0,!=2.6.1,<2.8.0,>=2.2.0->alibi_detect==0.8.1) (3.1.0)\n",
      "Requirement already satisfied: tensorboard~=2.5 in /Users/josh/opt/anaconda3/envs/data-science/lib/python3.9/site-packages (from tensorflow!=2.6.0,!=2.6.1,<2.8.0,>=2.2.0->alibi_detect==0.8.1) (2.8.0)\n",
      "Requirement already satisfied: google-pasta~=0.2 in /Users/josh/opt/anaconda3/envs/data-science/lib/python3.9/site-packages (from tensorflow!=2.6.0,!=2.6.1,<2.8.0,>=2.2.0->alibi_detect==0.8.1) (0.2.0)\n",
      "Requirement already satisfied: protobuf>=3.9.2 in /Users/josh/opt/anaconda3/envs/data-science/lib/python3.9/site-packages (from tensorflow!=2.6.0,!=2.6.1,<2.8.0,>=2.2.0->alibi_detect==0.8.1) (3.19.4)\n",
      "Requirement already satisfied: gast==0.4.0 in /Users/josh/opt/anaconda3/envs/data-science/lib/python3.9/site-packages (from tensorflow!=2.6.0,!=2.6.1,<2.8.0,>=2.2.0->alibi_detect==0.8.1) (0.4.0)\n",
      "Requirement already satisfied: wrapt~=1.12.1 in /Users/josh/opt/anaconda3/envs/data-science/lib/python3.9/site-packages (from tensorflow!=2.6.0,!=2.6.1,<2.8.0,>=2.2.0->alibi_detect==0.8.1) (1.12.1)\n",
      "Requirement already satisfied: google-auth-oauthlib<0.5,>=0.4.1 in /Users/josh/opt/anaconda3/envs/data-science/lib/python3.9/site-packages (from tensorboard~=2.5->tensorflow!=2.6.0,!=2.6.1,<2.8.0,>=2.2.0->alibi_detect==0.8.1) (0.4.6)\n",
      "Requirement already satisfied: markdown>=2.6.8 in /Users/josh/opt/anaconda3/envs/data-science/lib/python3.9/site-packages (from tensorboard~=2.5->tensorflow!=2.6.0,!=2.6.1,<2.8.0,>=2.2.0->alibi_detect==0.8.1) (3.3.6)\n",
      "Requirement already satisfied: werkzeug>=0.11.15 in /Users/josh/opt/anaconda3/envs/data-science/lib/python3.9/site-packages (from tensorboard~=2.5->tensorflow!=2.6.0,!=2.6.1,<2.8.0,>=2.2.0->alibi_detect==0.8.1) (2.0.2)\n",
      "Requirement already satisfied: google-auth<3,>=1.6.3 in /Users/josh/opt/anaconda3/envs/data-science/lib/python3.9/site-packages (from tensorboard~=2.5->tensorflow!=2.6.0,!=2.6.1,<2.8.0,>=2.2.0->alibi_detect==0.8.1) (2.6.0)\n",
      "Requirement already satisfied: tensorboard-data-server<0.7.0,>=0.6.0 in /Users/josh/opt/anaconda3/envs/data-science/lib/python3.9/site-packages (from tensorboard~=2.5->tensorflow!=2.6.0,!=2.6.1,<2.8.0,>=2.2.0->alibi_detect==0.8.1) (0.6.1)\n",
      "Requirement already satisfied: tensorboard-plugin-wit>=1.6.0 in /Users/josh/opt/anaconda3/envs/data-science/lib/python3.9/site-packages (from tensorboard~=2.5->tensorflow!=2.6.0,!=2.6.1,<2.8.0,>=2.2.0->alibi_detect==0.8.1) (1.8.1)\n",
      "Requirement already satisfied: cachetools<6.0,>=2.0.0 in /Users/josh/opt/anaconda3/envs/data-science/lib/python3.9/site-packages (from google-auth<3,>=1.6.3->tensorboard~=2.5->tensorflow!=2.6.0,!=2.6.1,<2.8.0,>=2.2.0->alibi_detect==0.8.1) (5.0.0)\n",
      "Requirement already satisfied: rsa<5,>=3.1.4 in /Users/josh/opt/anaconda3/envs/data-science/lib/python3.9/site-packages (from google-auth<3,>=1.6.3->tensorboard~=2.5->tensorflow!=2.6.0,!=2.6.1,<2.8.0,>=2.2.0->alibi_detect==0.8.1) (4.8)\n",
      "Requirement already satisfied: pyasn1-modules>=0.2.1 in /Users/josh/opt/anaconda3/envs/data-science/lib/python3.9/site-packages (from google-auth<3,>=1.6.3->tensorboard~=2.5->tensorflow!=2.6.0,!=2.6.1,<2.8.0,>=2.2.0->alibi_detect==0.8.1) (0.2.8)\n",
      "Requirement already satisfied: requests-oauthlib>=0.7.0 in /Users/josh/opt/anaconda3/envs/data-science/lib/python3.9/site-packages (from google-auth-oauthlib<0.5,>=0.4.1->tensorboard~=2.5->tensorflow!=2.6.0,!=2.6.1,<2.8.0,>=2.2.0->alibi_detect==0.8.1) (1.3.1)\n",
      "Requirement already satisfied: importlib-metadata>=4.4 in /Users/josh/opt/anaconda3/envs/data-science/lib/python3.9/site-packages (from markdown>=2.6.8->tensorboard~=2.5->tensorflow!=2.6.0,!=2.6.1,<2.8.0,>=2.2.0->alibi_detect==0.8.1) (4.10.1)\n",
      "Requirement already satisfied: zipp>=0.5 in /Users/josh/opt/anaconda3/envs/data-science/lib/python3.9/site-packages (from importlib-metadata>=4.4->markdown>=2.6.8->tensorboard~=2.5->tensorflow!=2.6.0,!=2.6.1,<2.8.0,>=2.2.0->alibi_detect==0.8.1) (3.7.0)\n",
      "Requirement already satisfied: pyasn1<0.5.0,>=0.4.6 in /Users/josh/opt/anaconda3/envs/data-science/lib/python3.9/site-packages (from pyasn1-modules>=0.2.1->google-auth<3,>=1.6.3->tensorboard~=2.5->tensorflow!=2.6.0,!=2.6.1,<2.8.0,>=2.2.0->alibi_detect==0.8.1) (0.4.8)\n",
      "Requirement already satisfied: oauthlib>=3.0.0 in /Users/josh/opt/anaconda3/envs/data-science/lib/python3.9/site-packages (from requests-oauthlib>=0.7.0->google-auth-oauthlib<0.5,>=0.4.1->tensorboard~=2.5->tensorflow!=2.6.0,!=2.6.1,<2.8.0,>=2.2.0->alibi_detect==0.8.1) (3.2.0)\n",
      "Requirement already satisfied: cloudpickle>=1.3 in /Users/josh/opt/anaconda3/envs/data-science/lib/python3.9/site-packages (from tensorflow-probability<0.13.0,>=0.8.0->alibi_detect==0.8.1) (2.0.0)\n",
      "Requirement already satisfied: decorator in /Users/josh/opt/anaconda3/envs/data-science/lib/python3.9/site-packages (from tensorflow-probability<0.13.0,>=0.8.0->alibi_detect==0.8.1) (5.1.1)\n",
      "Requirement already satisfied: dm-tree in /Users/josh/opt/anaconda3/envs/data-science/lib/python3.9/site-packages (from tensorflow-probability<0.13.0,>=0.8.0->alibi_detect==0.8.1) (0.1.6)\n",
      "Requirement already satisfied: tokenizers!=0.11.3,>=0.10.1 in /Users/josh/opt/anaconda3/envs/data-science/lib/python3.9/site-packages (from transformers<5.0.0,>=4.0.0->alibi_detect==0.8.1) (0.11.4)\n",
      "Requirement already satisfied: regex!=2019.12.17 in /Users/josh/opt/anaconda3/envs/data-science/lib/python3.9/site-packages (from transformers<5.0.0,>=4.0.0->alibi_detect==0.8.1) (2022.1.18)\n",
      "Requirement already satisfied: filelock in /Users/josh/opt/anaconda3/envs/data-science/lib/python3.9/site-packages (from transformers<5.0.0,>=4.0.0->alibi_detect==0.8.1) (3.4.2)\n",
      "Requirement already satisfied: sacremoses in /Users/josh/opt/anaconda3/envs/data-science/lib/python3.9/site-packages (from transformers<5.0.0,>=4.0.0->alibi_detect==0.8.1) (0.0.47)\n",
      "Requirement already satisfied: pyyaml>=5.1 in /Users/josh/opt/anaconda3/envs/data-science/lib/python3.9/site-packages (from transformers<5.0.0,>=4.0.0->alibi_detect==0.8.1) (5.4.1)\n",
      "Requirement already satisfied: huggingface-hub<1.0,>=0.1.0 in /Users/josh/opt/anaconda3/envs/data-science/lib/python3.9/site-packages (from transformers<5.0.0,>=4.0.0->alibi_detect==0.8.1) (0.4.0)\n",
      "Requirement already satisfied: click in /Users/josh/opt/anaconda3/envs/data-science/lib/python3.9/site-packages (from sacremoses->transformers<5.0.0,>=4.0.0->alibi_detect==0.8.1) (8.0.3)\n",
      "Requirement already satisfied: dill in /Users/josh/opt/anaconda3/envs/data-science/lib/python3.9/site-packages (0.3.4)\n",
      "Requirement already satisfied: seaborn in /Users/josh/opt/anaconda3/envs/data-science/lib/python3.9/site-packages (0.11.2)\n",
      "Requirement already satisfied: scipy>=1.0 in /Users/josh/opt/anaconda3/envs/data-science/lib/python3.9/site-packages (from seaborn) (1.7.3)\n",
      "Requirement already satisfied: numpy>=1.15 in /Users/josh/opt/anaconda3/envs/data-science/lib/python3.9/site-packages (from seaborn) (1.19.5)\n",
      "Requirement already satisfied: pandas>=0.23 in /Users/josh/opt/anaconda3/envs/data-science/lib/python3.9/site-packages (from seaborn) (1.4.0)\n",
      "Requirement already satisfied: matplotlib>=2.2 in /Users/josh/opt/anaconda3/envs/data-science/lib/python3.9/site-packages (from seaborn) (3.5.1)\n",
      "Requirement already satisfied: fonttools>=4.22.0 in /Users/josh/opt/anaconda3/envs/data-science/lib/python3.9/site-packages (from matplotlib>=2.2->seaborn) (4.29.1)\n",
      "Requirement already satisfied: python-dateutil>=2.7 in /Users/josh/opt/anaconda3/envs/data-science/lib/python3.9/site-packages (from matplotlib>=2.2->seaborn) (2.8.2)\n",
      "Requirement already satisfied: packaging>=20.0 in /Users/josh/opt/anaconda3/envs/data-science/lib/python3.9/site-packages (from matplotlib>=2.2->seaborn) (21.3)\n",
      "Requirement already satisfied: kiwisolver>=1.0.1 in /Users/josh/opt/anaconda3/envs/data-science/lib/python3.9/site-packages (from matplotlib>=2.2->seaborn) (1.3.2)\n",
      "Requirement already satisfied: pyparsing>=2.2.1 in /Users/josh/opt/anaconda3/envs/data-science/lib/python3.9/site-packages (from matplotlib>=2.2->seaborn) (3.0.7)\n",
      "Requirement already satisfied: pillow>=6.2.0 in /Users/josh/opt/anaconda3/envs/data-science/lib/python3.9/site-packages (from matplotlib>=2.2->seaborn) (8.4.0)\n",
      "Requirement already satisfied: cycler>=0.10 in /Users/josh/opt/anaconda3/envs/data-science/lib/python3.9/site-packages (from matplotlib>=2.2->seaborn) (0.11.0)\n",
      "Requirement already satisfied: pytz>=2020.1 in /Users/josh/opt/anaconda3/envs/data-science/lib/python3.9/site-packages (from pandas>=0.23->seaborn) (2021.3)\n",
      "Requirement already satisfied: six>=1.5 in /Users/josh/opt/anaconda3/envs/data-science/lib/python3.9/site-packages (from python-dateutil>=2.7->matplotlib>=2.2->seaborn) (1.15.0)\n",
      "\u001b[31mERROR: Could not find a version that satisfies the requirement seldon_deploy_sdk==1.5.1 (from versions: 0.2.1, 1.2.0, 1.3.0.dev1, 1.3.0.dev2, 1.3.0.dev3, 1.3.0.dev4, 1.3.0, 1.4.0, 1.4.1, 1.4.1.1, 1.4.1.2, 1.5.0)\u001b[0m\n",
      "\u001b[31mERROR: No matching distribution found for seldon_deploy_sdk==1.5.1\u001b[0m\n",
      "Requirement already satisfied: xgboost==1.5.2 in /Users/josh/opt/anaconda3/envs/data-science/lib/python3.9/site-packages (1.5.2)\n",
      "Requirement already satisfied: numpy in /Users/josh/opt/anaconda3/envs/data-science/lib/python3.9/site-packages (from xgboost==1.5.2) (1.19.5)\n",
      "Requirement already satisfied: scipy in /Users/josh/opt/anaconda3/envs/data-science/lib/python3.9/site-packages (from xgboost==1.5.2) (1.7.3)\n"
     ]
    }
   ],
   "source": [
    "!pip install alibi==0.6.4\n",
    "!pip install alibi_detect==0.8.1\n",
    "!pip install dill\n",
    "!pip install seaborn\n",
    "!pip install xgboost==1.5.2"
   ]
  },
  {
   "cell_type": "code",
   "execution_count": 28,
   "id": "9666dffa",
   "metadata": {},
   "outputs": [
    {
     "name": "stdout",
     "output_type": "stream",
     "text": [
      "Requirement already satisfied: seldon_deploy_sdk==1.5.0 in /Users/josh/opt/anaconda3/envs/data-science/lib/python3.9/site-packages (1.5.0)\n",
      "Requirement already satisfied: six>=1.10 in /Users/josh/opt/anaconda3/envs/data-science/lib/python3.9/site-packages (from seldon_deploy_sdk==1.5.0) (1.15.0)\n",
      "Requirement already satisfied: python-dateutil>=2.1 in /Users/josh/opt/anaconda3/envs/data-science/lib/python3.9/site-packages (from seldon_deploy_sdk==1.5.0) (2.8.2)\n",
      "Requirement already satisfied: certifi>=2017.4.17 in /Users/josh/opt/anaconda3/envs/data-science/lib/python3.9/site-packages (from seldon_deploy_sdk==1.5.0) (2021.10.8)\n",
      "Requirement already satisfied: urllib3>=1.23 in /Users/josh/opt/anaconda3/envs/data-science/lib/python3.9/site-packages (from seldon_deploy_sdk==1.5.0) (1.26.5)\n",
      "Requirement already satisfied: Authlib<=0.16.0 in /Users/josh/opt/anaconda3/envs/data-science/lib/python3.9/site-packages (from seldon_deploy_sdk==1.5.0) (0.15.5)\n",
      "Requirement already satisfied: cryptography in /Users/josh/opt/anaconda3/envs/data-science/lib/python3.9/site-packages (from Authlib<=0.16.0->seldon_deploy_sdk==1.5.0) (3.4.8)\n",
      "Requirement already satisfied: cffi>=1.12 in /Users/josh/opt/anaconda3/envs/data-science/lib/python3.9/site-packages (from cryptography->Authlib<=0.16.0->seldon_deploy_sdk==1.5.0) (1.15.0)\n",
      "Requirement already satisfied: pycparser in /Users/josh/opt/anaconda3/envs/data-science/lib/python3.9/site-packages (from cffi>=1.12->cryptography->Authlib<=0.16.0->seldon_deploy_sdk==1.5.0) (2.21)\n"
     ]
    }
   ],
   "source": [
    "!pip install seldon_deploy_sdk==1.5.0"
   ]
  },
  {
   "cell_type": "code",
   "execution_count": 1,
   "id": "704a540d",
   "metadata": {},
   "outputs": [
    {
     "name": "stderr",
     "output_type": "stream",
     "text": [
      "/Users/josh/opt/anaconda3/envs/data-science/lib/python3.9/site-packages/xgboost/compat.py:36: FutureWarning: pandas.Int64Index is deprecated and will be removed from pandas in a future version. Use pandas.Index with the appropriate dtype instead.\n",
      "  from pandas import MultiIndex, Int64Index\n",
      "2022-06-14 12:14:36.977263: I tensorflow/core/platform/cpu_feature_guard.cc:142] This TensorFlow binary is optimized with oneAPI Deep Neural Network Library (oneDNN) to use the following CPU instructions in performance-critical operations:  AVX2 FMA\n",
      "To enable them in other operations, rebuild TensorFlow with the appropriate compiler flags.\n"
     ]
    }
   ],
   "source": [
    "import pandas as pd\n",
    "import numpy as np\n",
    "\n",
    "%matplotlib inline\n",
    "import matplotlib.pyplot as plt\n",
    "\n",
    "import seaborn as sns\n",
    "\n",
    "from sklearn.model_selection import train_test_split, learning_curve\n",
    "from sklearn.metrics import average_precision_score\n",
    "\n",
    "from xgboost.sklearn import XGBClassifier\n",
    "from xgboost import plot_importance, to_graphviz\n",
    "\n",
    "from seldon_deploy_sdk import Configuration, ApiClient, SeldonDeploymentsApi, ModelMetadataServiceApi, DriftDetectorApi, BatchJobsApi, BatchJobDefinition\n",
    "from seldon_deploy_sdk.auth import OIDCAuthenticator\n",
    "\n",
    "from alibi.explainers import AnchorTabular\n",
    "from alibi_detect.cd import MMDDrift\n",
    "from alibi_detect.utils.saving import save_detector, load_detector\n",
    "\n",
    "import dill\n",
    "\n",
    "# For repeatability\n",
    "randomState = 5\n",
    "np.random.seed(randomState)"
   ]
  },
  {
   "cell_type": "markdown",
   "id": "6bd93193",
   "metadata": {},
   "source": [
    "You then download the dataset which you will be using for the workshop, and load it into a Pandas DataFrame."
   ]
  },
  {
   "cell_type": "code",
   "execution_count": 2,
   "id": "d83369e6",
   "metadata": {},
   "outputs": [
    {
     "name": "stdout",
     "output_type": "stream",
     "text": [
      "Copying gs://tom-seldon-examples/fraud-workshop/transaction-data.csv...\n",
      "==> NOTE: You are downloading one or more large file(s), which would            \n",
      "run significantly faster if you enabled sliced object downloads. This\n",
      "feature is enabled by default but requires that compiled crcmod be\n",
      "installed (see \"gsutil help crcmod\").\n",
      "\n",
      "\\ [1 files][470.7 MiB/470.7 MiB]   12.4 MiB/s                                   \n",
      "Operation completed over 1 objects/470.7 MiB.                                    \n"
     ]
    }
   ],
   "source": [
    "!gsutil cp gs://tom-seldon-examples/fraud-workshop/transaction-data.csv data/transaction-data.csv"
   ]
  },
  {
   "cell_type": "code",
   "execution_count": 3,
   "id": "d5e182cc",
   "metadata": {
    "scrolled": false
   },
   "outputs": [
    {
     "data": {
      "text/html": [
       "<div>\n",
       "<style scoped>\n",
       "    .dataframe tbody tr th:only-of-type {\n",
       "        vertical-align: middle;\n",
       "    }\n",
       "\n",
       "    .dataframe tbody tr th {\n",
       "        vertical-align: top;\n",
       "    }\n",
       "\n",
       "    .dataframe thead th {\n",
       "        text-align: right;\n",
       "    }\n",
       "</style>\n",
       "<table border=\"1\" class=\"dataframe\">\n",
       "  <thead>\n",
       "    <tr style=\"text-align: right;\">\n",
       "      <th></th>\n",
       "      <th>step</th>\n",
       "      <th>type</th>\n",
       "      <th>amount</th>\n",
       "      <th>nameOrig</th>\n",
       "      <th>oldBalanceOrig</th>\n",
       "      <th>newBalanceOrig</th>\n",
       "      <th>nameDest</th>\n",
       "      <th>oldBalanceDest</th>\n",
       "      <th>newBalanceDest</th>\n",
       "      <th>isFraud</th>\n",
       "      <th>isFlaggedFraud</th>\n",
       "    </tr>\n",
       "  </thead>\n",
       "  <tbody>\n",
       "    <tr>\n",
       "      <th>0</th>\n",
       "      <td>1</td>\n",
       "      <td>PAYMENT</td>\n",
       "      <td>9839.64</td>\n",
       "      <td>C1231006815</td>\n",
       "      <td>170136.0</td>\n",
       "      <td>160296.36</td>\n",
       "      <td>M1979787155</td>\n",
       "      <td>0.0</td>\n",
       "      <td>0.0</td>\n",
       "      <td>0</td>\n",
       "      <td>0</td>\n",
       "    </tr>\n",
       "    <tr>\n",
       "      <th>1</th>\n",
       "      <td>1</td>\n",
       "      <td>PAYMENT</td>\n",
       "      <td>1864.28</td>\n",
       "      <td>C1666544295</td>\n",
       "      <td>21249.0</td>\n",
       "      <td>19384.72</td>\n",
       "      <td>M2044282225</td>\n",
       "      <td>0.0</td>\n",
       "      <td>0.0</td>\n",
       "      <td>0</td>\n",
       "      <td>0</td>\n",
       "    </tr>\n",
       "    <tr>\n",
       "      <th>2</th>\n",
       "      <td>1</td>\n",
       "      <td>TRANSFER</td>\n",
       "      <td>181.00</td>\n",
       "      <td>C1305486145</td>\n",
       "      <td>181.0</td>\n",
       "      <td>0.00</td>\n",
       "      <td>C553264065</td>\n",
       "      <td>0.0</td>\n",
       "      <td>0.0</td>\n",
       "      <td>1</td>\n",
       "      <td>0</td>\n",
       "    </tr>\n",
       "    <tr>\n",
       "      <th>3</th>\n",
       "      <td>1</td>\n",
       "      <td>CASH_OUT</td>\n",
       "      <td>181.00</td>\n",
       "      <td>C840083671</td>\n",
       "      <td>181.0</td>\n",
       "      <td>0.00</td>\n",
       "      <td>C38997010</td>\n",
       "      <td>21182.0</td>\n",
       "      <td>0.0</td>\n",
       "      <td>1</td>\n",
       "      <td>0</td>\n",
       "    </tr>\n",
       "    <tr>\n",
       "      <th>4</th>\n",
       "      <td>1</td>\n",
       "      <td>PAYMENT</td>\n",
       "      <td>11668.14</td>\n",
       "      <td>C2048537720</td>\n",
       "      <td>41554.0</td>\n",
       "      <td>29885.86</td>\n",
       "      <td>M1230701703</td>\n",
       "      <td>0.0</td>\n",
       "      <td>0.0</td>\n",
       "      <td>0</td>\n",
       "      <td>0</td>\n",
       "    </tr>\n",
       "  </tbody>\n",
       "</table>\n",
       "</div>"
      ],
      "text/plain": [
       "   step      type    amount     nameOrig  oldBalanceOrig  newBalanceOrig  \\\n",
       "0     1   PAYMENT   9839.64  C1231006815        170136.0       160296.36   \n",
       "1     1   PAYMENT   1864.28  C1666544295         21249.0        19384.72   \n",
       "2     1  TRANSFER    181.00  C1305486145           181.0            0.00   \n",
       "3     1  CASH_OUT    181.00   C840083671           181.0            0.00   \n",
       "4     1   PAYMENT  11668.14  C2048537720         41554.0        29885.86   \n",
       "\n",
       "      nameDest  oldBalanceDest  newBalanceDest  isFraud  isFlaggedFraud  \n",
       "0  M1979787155             0.0             0.0        0               0  \n",
       "1  M2044282225             0.0             0.0        0               0  \n",
       "2   C553264065             0.0             0.0        1               0  \n",
       "3    C38997010         21182.0             0.0        1               0  \n",
       "4  M1230701703             0.0             0.0        0               0  "
      ]
     },
     "execution_count": 3,
     "metadata": {},
     "output_type": "execute_result"
    }
   ],
   "source": [
    "df = pd.read_csv('data/transaction-data.csv')\n",
    "df = df.rename(columns={'oldbalanceOrg':'oldBalanceOrig', 'newbalanceOrig':'newBalanceOrig', \\\n",
    "                        'oldbalanceDest':'oldBalanceDest', 'newbalanceDest':'newBalanceDest'})\n",
    "df.head()"
   ]
  },
  {
   "cell_type": "markdown",
   "id": "636d69f0",
   "metadata": {},
   "source": [
    "It is worth taking a second to understand the features (columns of the table) within the dataset:\n",
    "* `step`: This is a time series data set i.e. money transfers occur over time. 1 step represents 1 hour, with a total of 744 steps equivalent to 30 days. \n",
    "* `type`: The type of transaction: CASH-IN, CASH-OUT, DEBIT, PAYMENT, TRANSFER.\n",
    "* `amount`: Amount of the transaction in local currency.\n",
    "* `nameOrig`: Customer name who started the transaction.\n",
    "* `oldBalanceOrig`: Initial balance before the transaction.\n",
    "* `newBalanceOrig`: New balance after the transaction.\n",
    "* `nameDest`: Customer name who is the recipient of the transaction.\n",
    "* `oldBalanceDest`: Initial balance of the recipient before the transaction.\n",
    "* `newBalanceDest`: New balance of the recipient after the transaction.\n",
    "* `isFraud`: This is the transactions made by the fraudulent agents inside the simulation. In this specific dataset the fraudulent behavior of the agents aims to profit by taking control or customers accounts and try to empty the funds by transferring to another account and then cashing out of the system.\n",
    "* `isFlaggedFraud`: The business model aims to control massive transfers from one account to another and flags illegal attempts. An illegal attempt in this dataset is an attempt to transfer more than 200.000 in a single transaction.\n",
    "\n",
    "It is worth noting that this is a synthetically generated dataset and so does not represent real world transactions, but is based upon the behaviour of a supplied real world dataset. You can read more about the data used [here](https://www.kaggle.com/ntnu-testimon/paysim1)."
   ]
  },
  {
   "cell_type": "markdown",
   "id": "ff22adaa",
   "metadata": {},
   "source": [
    "## Data Preparation\n",
    "\n",
    "There are a number of data preparation steps which need to be performed prior to visualisation and model training. The first of which is to remove all transaction types apart from TRANSFER and CASH_OUT. These are the only transaction types where fraud occurs, and therefore the other types of transaction can be neglected. "
   ]
  },
  {
   "cell_type": "code",
   "execution_count": 4,
   "id": "8c810e9e",
   "metadata": {},
   "outputs": [],
   "source": [
    "X = df.loc[(df.type == 'TRANSFER') | (df.type == 'CASH_OUT')]"
   ]
  },
  {
   "cell_type": "markdown",
   "id": "34f001b4",
   "metadata": {},
   "source": [
    "Next, you can remove a number of the feature columns which have no predictive power. These are the account name fields, as well as the `isFlaggedFraud` which has no clear relation to the other features. "
   ]
  },
  {
   "cell_type": "code",
   "execution_count": 5,
   "id": "ecd320c2",
   "metadata": {},
   "outputs": [],
   "source": [
    "X = X.drop(['nameOrig', 'nameDest', 'isFlaggedFraud'], axis = 1)"
   ]
  },
  {
   "cell_type": "markdown",
   "id": "7342194f",
   "metadata": {},
   "source": [
    "You can then encode the transaction type categorical feature as a binary. Transactions types of TRANSFER will be 0, meanwhile CASH_OUT transactions will be 1. "
   ]
  },
  {
   "cell_type": "code",
   "execution_count": 6,
   "id": "05709cfe",
   "metadata": {},
   "outputs": [],
   "source": [
    "X.loc[X.type == 'TRANSFER', 'type'] = 0\n",
    "X.loc[X.type == 'CASH_OUT', 'type'] = 1\n",
    "X.type = X.type.astype(int) # convert dtype('O') to dtype(int)"
   ]
  },
  {
   "cell_type": "markdown",
   "id": "577b4884",
   "metadata": {},
   "source": [
    "You now create the labels. This will simply be the `isFraud` field, and will be what your machine learning model attempts to predict based on the remaining transaction features. "
   ]
  },
  {
   "cell_type": "code",
   "execution_count": 7,
   "id": "7ea02245",
   "metadata": {},
   "outputs": [],
   "source": [
    "Y = X['isFraud']\n",
    "del X['isFraud']"
   ]
  },
  {
   "cell_type": "markdown",
   "id": "69a7c12e",
   "metadata": {},
   "source": [
    "#### Working with Zero Balances\n",
    "\n",
    "The data has several transactions with zero balances in the destination account both before and after a non-zero amount is transacted. The fraction of such transactions, where zero likely denotes a missing value, is much larger in fraudulent (50%) compared to genuine transactions (0.06%).\n",
    "\n",
    "\n",
    "Since the destination account balances being zero is a strong indicator of fraud we replace the values of oldBalanceDest and newBalanceDest with -1 where they are 0 originally, but have a non-zero transfer between them. "
   ]
  },
  {
   "cell_type": "code",
   "execution_count": 8,
   "id": "c0d17fcf",
   "metadata": {},
   "outputs": [],
   "source": [
    "X.loc[(X.oldBalanceDest == 0) & (X.newBalanceDest == 0) & (X.amount != 0), \\\n",
    "      ['oldBalanceDest', 'newBalanceDest']] = -1"
   ]
  },
  {
   "cell_type": "markdown",
   "id": "57c41f81",
   "metadata": {},
   "source": [
    "The data also has several transactions with zero balances in the originating account both before and after a non-zero amount is transacted. Once again, the fraction of such transactions is much smaller in fraudulent (47%) compared to genuine transactions (0.3%). Once again, from similar reasoning as above, instead of imputing a numerical value we replace the value of 0 with -1."
   ]
  },
  {
   "cell_type": "code",
   "execution_count": 9,
   "id": "5311dbf5",
   "metadata": {},
   "outputs": [],
   "source": [
    "X.loc[(X.oldBalanceOrig == 0) & (X.newBalanceOrig == 0) & (X.amount != 0), \\\n",
    "      ['oldBalanceOrig', 'newBalanceOrig']] = -1"
   ]
  },
  {
   "cell_type": "markdown",
   "id": "ca9d0e90",
   "metadata": {},
   "source": [
    "Motivated by the possibility of zero-balances serving to differentiate between fraudulent and genuine transactions, create 2 new features (columns) recording errors in the originating and destination accounts for each transaction. "
   ]
  },
  {
   "cell_type": "code",
   "execution_count": 10,
   "id": "bd00d0eb",
   "metadata": {},
   "outputs": [],
   "source": [
    "X['errorBalanceOrig'] = X.newBalanceOrig + X.amount - X.oldBalanceOrig\n",
    "X['errorBalanceDest'] = X.oldBalanceDest + X.amount - X.newBalanceDest"
   ]
  },
  {
   "cell_type": "markdown",
   "id": "1fc96b8a",
   "metadata": {},
   "source": [
    "## Data Visualisation\n",
    "\n",
    "Let's explore the data by generating a series of plots. \n",
    "\n",
    "First create a function which allows you to generate strip plots readily."
   ]
  },
  {
   "cell_type": "code",
   "execution_count": null,
   "id": "59995950",
   "metadata": {},
   "outputs": [],
   "source": [
    "limit = len(X)\n",
    "\n",
    "def plotStrip(x, y, hue, figsize = (14, 9)):\n",
    "    \n",
    "    fig = plt.figure(figsize = figsize)\n",
    "    colours = plt.cm.tab10(np.linspace(0, 1, 9))\n",
    "    with sns.axes_style('ticks'):\n",
    "        ax = sns.stripplot(x = x, y = y, \\\n",
    "             hue = hue, jitter = 0.4, marker = '.', \\\n",
    "             size = 4, palette = colours)\n",
    "        ax.set_xlabel('')\n",
    "        ax.set_xticklabels(['genuine', 'fraudulent'], size = 14)\n",
    "        for axis in ['top','bottom','left','right']:\n",
    "            ax.spines[axis].set_linewidth(2)\n",
    "\n",
    "        handles, labels = ax.get_legend_handles_labels()\n",
    "        plt.legend(handles, ['Transfer', 'Cash out'], bbox_to_anchor=(1, 1), \\\n",
    "               loc=2, borderaxespad=0, fontsize = 14);\n",
    "    return ax"
   ]
  },
  {
   "cell_type": "markdown",
   "id": "5b6b63ef",
   "metadata": {},
   "source": [
    "Let's compare how genuine and fraudulent transacations are distributed over time. "
   ]
  },
  {
   "cell_type": "code",
   "execution_count": null,
   "id": "09178c99",
   "metadata": {},
   "outputs": [],
   "source": [
    "ax = plotStrip(Y[:limit], X.step[:limit], X.type[:limit])\n",
    "ax.set_ylabel('time [hour]', size = 14)"
   ]
  },
  {
   "cell_type": "markdown",
   "id": "8881a383",
   "metadata": {},
   "source": [
    "You can see that genuine transactions have a more regular pattern, occuring at intervals with periods in between which do not see any genuine transactions occuring. These periods could represent weekends or holidays resulting in businesses being closed. Meanwhile, the fraudulent transactions are far more evenly distributed, with no discernible pattern. \n",
    "\n",
    "Furthermore, it's clear that the majority of genuine transcations are of type CASH OUT, whereas fraudulent transactions feature TRANSFER types far more prominently. \n",
    "\n",
    "-----\n",
    "\n",
    "Next, compare the transfer amount distributions for genuine and fraudulent transctions. "
   ]
  },
  {
   "cell_type": "code",
   "execution_count": null,
   "id": "e0fd70a7",
   "metadata": {
    "scrolled": false
   },
   "outputs": [],
   "source": [
    "limit = len(X)\n",
    "ax = plotStrip(Y[:limit], X.amount[:limit], X.type[:limit], figsize = (14, 9))\n",
    "ax.set_ylabel('amount', size = 16)"
   ]
  },
  {
   "cell_type": "markdown",
   "id": "8de4eb4c",
   "metadata": {},
   "source": [
    "There is no clear pattern between genuine and fraudulent transactions by simply considering the amount. However, it appears there is a ceiling on the limit of a fraudulent transaction (10,000,000).\n",
    "\n",
    "-----\n",
    "\n",
    "Finally, you visualise the feature you created earlier `errorBalanceDest`, which is simply calculated by taking the previous balance of the destination account, plus the amount which was transferred minus new balance in the account. \n",
    "\n",
    "Remember, that many of the fraudulent transactions we observed had 0 account balance both before and after a non-zero sum of money was transferred. Therefore, the `errorBalanceDest` of these transactions will be a positive number equivalent to the value of the transfer."
   ]
  },
  {
   "cell_type": "code",
   "execution_count": null,
   "id": "418a3306",
   "metadata": {},
   "outputs": [],
   "source": [
    "limit = len(X)\n",
    "ax = plotStrip(Y[:limit], X.errorBalanceDest[:limit], X.type[:limit], \\\n",
    "              figsize = (14, 9))\n",
    "ax.set_ylabel('errorBalanceDest', size = 16)"
   ]
  },
  {
   "cell_type": "markdown",
   "id": "8bf15ec4",
   "metadata": {},
   "source": [
    "From this figure we can see a clear distinction between genuine and fraudulent transactions with positive errorBalanceDest being recorded overwhelmingly more so for fraudulent transactions than genuine ones. "
   ]
  },
  {
   "cell_type": "markdown",
   "id": "cace675b",
   "metadata": {},
   "source": [
    "# Model Training\n",
    "\n",
    "Next you will train your predictor, to determine in an automated fashion whether a new transaction is fraudulent or not. \n",
    "\n",
    "You will be using an XGBoost classifier as it is naturally suited to handling such an imbalanced dataset, whereby only 0.3% of the transactions are fraudulent. "
   ]
  },
  {
   "cell_type": "code",
   "execution_count": 11,
   "id": "e3f75081",
   "metadata": {},
   "outputs": [
    {
     "name": "stdout",
     "output_type": "stream",
     "text": [
      "skew = 0.002964544224336551\n"
     ]
    }
   ],
   "source": [
    "Xfraud = X.loc[Y == 1]\n",
    "XnonFraud = X.loc[Y == 0]\n",
    "\n",
    "print('skew = {}'.format( len(Xfraud) / float(len(X)) ))"
   ]
  },
  {
   "cell_type": "markdown",
   "id": "b4a9fec1",
   "metadata": {},
   "source": [
    "You split your data into training and testing sets. "
   ]
  },
  {
   "cell_type": "code",
   "execution_count": 12,
   "id": "2d435d7c",
   "metadata": {},
   "outputs": [],
   "source": [
    "trainX, testX, trainY, testY = train_test_split(X, Y, test_size = 0.2, random_state = randomState)"
   ]
  },
  {
   "cell_type": "markdown",
   "id": "c8a1c67c",
   "metadata": {},
   "source": [
    "You also weight the positive class (fraudulent) more than the negative class (genuine) to help account for the overrepresentation of genuine transactions in the dataset. "
   ]
  },
  {
   "cell_type": "code",
   "execution_count": 13,
   "id": "218e6812",
   "metadata": {},
   "outputs": [],
   "source": [
    "weights = (Y == 0).sum() / (1.0 * (Y == 1).sum())"
   ]
  },
  {
   "cell_type": "markdown",
   "id": "cdd513a0",
   "metadata": {},
   "source": [
    "You then train and score an XGBoost classifier. "
   ]
  },
  {
   "cell_type": "code",
   "execution_count": 14,
   "id": "f623b156",
   "metadata": {},
   "outputs": [
    {
     "name": "stderr",
     "output_type": "stream",
     "text": [
      "/Users/josh/opt/anaconda3/envs/data-science/lib/python3.9/site-packages/xgboost/data.py:262: FutureWarning: pandas.Int64Index is deprecated and will be removed from pandas in a future version. Use pandas.Index with the appropriate dtype instead.\n",
      "  elif isinstance(data.columns, (pd.Int64Index, pd.RangeIndex)):\n"
     ]
    },
    {
     "name": "stdout",
     "output_type": "stream",
     "text": [
      "[10:41:43] WARNING: /Users/runner/work/xgboost/xgboost/src/learner.cc:1115: Starting in XGBoost 1.3.0, the default evaluation metric used with the objective 'binary:logistic' was changed from 'error' to 'logloss'. Explicitly set eval_metric if you'd like to restore the old behavior.\n",
      "AUPRC = 0.9984747968838776\n"
     ]
    }
   ],
   "source": [
    "# Long computation in this cell (~3 minutes)\n",
    "\n",
    "clf = XGBClassifier(max_depth = 3, scale_pos_weight = weights, n_jobs = 4, use_label_encoder=False)\n",
    "probabilities = clf.fit(trainX, trainY).predict_proba(testX)\n",
    "print('AUPRC = {}'.format(average_precision_score(testY, probabilities[:, 1])))"
   ]
  },
  {
   "cell_type": "markdown",
   "id": "3b06515d",
   "metadata": {},
   "source": [
    "A very impressive 0.99 AUPRC! Which means your classifier is accurately distinguishing between transactions. \n",
    "\n",
    "You can visualise the features which are most important to your new XGBoost classifier as shown below. "
   ]
  },
  {
   "cell_type": "code",
   "execution_count": 15,
   "id": "e42c7e90",
   "metadata": {
    "scrolled": false
   },
   "outputs": [
    {
     "data": {
      "image/png": "[encoded data removed]",
      "text/plain": [
       "<Figure size 1008x648 with 1 Axes>"
      ]
     },
     "metadata": {
      "needs_background": "light"
     },
     "output_type": "display_data"
    }
   ],
   "source": [
    "fig = plt.figure(figsize = (14, 9))\n",
    "ax = fig.add_subplot(111)\n",
    "\n",
    "colours = plt.cm.Set1(np.linspace(0, 1, 9))\n",
    "\n",
    "ax = plot_importance(clf, height = 1, color = colours, grid = False, \\\n",
    "                     show_values = False, importance_type = 'cover', ax = ax);\n",
    "for axis in ['top','bottom','left','right']:\n",
    "            ax.spines[axis].set_linewidth(2)\n",
    "        \n",
    "ax.set_xlabel('importance score', size = 16);\n",
    "ax.set_ylabel('features', size = 16);\n",
    "ax.set_yticklabels(ax.get_yticklabels(), size = 12);\n",
    "ax.set_title('Plotting the models most important features', size = 16);"
   ]
  },
  {
   "cell_type": "markdown",
   "id": "87a94f89",
   "metadata": {},
   "source": [
    "You can now save your model, and upload it to an artefact store (in this case a Google storage bucket) ready for deployment.\n",
    "\n",
    "You will be making use of the pre-packaged XGBoost model server, and therefore Seldon expects your classifier to be saved as `model.bst`. "
   ]
  },
  {
   "cell_type": "code",
   "execution_count": 16,
   "id": "275beb90",
   "metadata": {},
   "outputs": [],
   "source": [
    "clf.save_model('model.bst')"
   ]
  },
  {
   "cell_type": "markdown",
   "id": "36093c30",
   "metadata": {},
   "source": [
    "You will now upload our saved model file to a Google storage bucket. \n",
    "\n",
    "### ⚠️ IMPORTANT ⚠️\n",
    "Make sure you fill in the YOUR_NAME variable to ensure you're not overwriting existing artefacts."
   ]
  },
  {
   "cell_type": "code",
   "execution_count": 17,
   "id": "ccb251d5",
   "metadata": {
    "scrolled": false
   },
   "outputs": [
    {
     "name": "stdout",
     "output_type": "stream",
     "text": [
      "Copying file://model.bst [Content-Type=application/octet-stream]...\n",
      "/ [1 files][ 64.2 KiB/ 64.2 KiB]                                                \n",
      "Operation completed over 1 objects/64.2 KiB.                                     \n"
     ]
    }
   ],
   "source": [
    " !gsutil cp model.bst gs://tom-seldon-examples/fraud-workshop/models/josh-pretrained/model.bst"
   ]
  },
  {
   "cell_type": "markdown",
   "id": "e50aae61",
   "metadata": {},
   "source": [
    "# Model Deployment\n",
    "You can now deploy your model to the dedicated Seldon Deploy cluster which you have configured for this workshop. To do so you will interact with the Seldon Deploy SDK and deploy your model using that. \n",
    "\n",
    "First, setting up the configuration and authentication required to access the cluster. Make sure to fill in the `SD_IP` variable to be the same as the cluster you are using. "
   ]
  },
  {
   "cell_type": "code",
   "execution_count": 13,
   "id": "1a6308c1",
   "metadata": {},
   "outputs": [],
   "source": [
    "SD_IP = \"34.73.238.47\"\n",
    "config = Configuration()\n",
    "config.host = f\"http://{SD_IP}/seldon-deploy/api/v1alpha1\"\n",
    "config.oidc_client_id = \"sd-api\"\n",
    "config.oidc_server = f\"http://{SD_IP}/auth/realms/deploy-realm\"\n",
    "config.oidc_client_secret = \"sd-api-secret\"\n",
    "config.auth_method = \"client_credentials\"\n",
    "\n",
    "\n",
    "def auth():\n",
    "    auth = OIDCAuthenticator(config)\n",
    "    config.id_token = auth.authenticate()\n",
    "    api_client = ApiClient(configuration=config, authenticator=auth)\n",
    "    return api_client"
   ]
  },
  {
   "cell_type": "markdown",
   "id": "a8915408",
   "metadata": {},
   "source": [
    "Now you have configured the IP correctly as well as setup your authentication function you can describe the deployment you would like to create. \n",
    "\n",
    "You will need to fill in the `DEPLOYMENT_NAME`, `NAMESPACE`, and the `MODEL_LOCATION`, the rest of the deployment description has been templated for you. \n",
    "\n",
    "For the `MODEL_LOCATION` you do not need to specify the path all the way up to `model.bst` e.g. if you saved your classifier under `gs://tom-seldon-examples/my-workshop/tom/model.bst` your `MODEL_LOCATION` should be `gs://tom-seldon-examples/my-workshop/tom` and Seldon will automatically pick up the classifier artifact stored there. "
   ]
  },
  {
   "cell_type": "code",
   "execution_count": 14,
   "id": "8fc49323",
   "metadata": {},
   "outputs": [],
   "source": [
    "YOUR_NAME = \"josh\"\n",
    "DEPLOYMENT_NAME = \"fraud\"\n",
    "NAMESPACE = \"seldon-demos\"\n",
    "MODEL_LOCATION = f\"gs://tom-seldon-examples/fraud-workshop/models/josh-pretrained\"\n",
    "\n",
    "PREPACKAGED_SERVER = \"XGBOOST_SERVER\"\n",
    "\n",
    "CPU_REQUESTS = \"1\"\n",
    "MEMORY_REQUESTS = \"1Gi\"\n",
    "\n",
    "CPU_LIMITS = \"1\"\n",
    "MEMORY_LIMITS = \"1Gi\"\n",
    "\n",
    "mldeployment = {\n",
    "    \"kind\": \"SeldonDeployment\",\n",
    "    \"metadata\": {\n",
    "        \"name\": f\"{DEPLOYMENT_NAME}-{YOUR_NAME}\",\n",
    "        \"namespace\": NAMESPACE,\n",
    "        \"labels\": {\n",
    "            \"fluentd\": \"true\"\n",
    "        }\n",
    "    },\n",
    "    \"apiVersion\": \"machinelearning.seldon.io/v1alpha2\",\n",
    "    \"spec\": {\n",
    "        \"name\": DEPLOYMENT_NAME,\n",
    "        \"annotations\": {\n",
    "            \"seldon.io/engine-seldon-log-messages-externally\": \"true\"\n",
    "        },\n",
    "        \"protocol\": \"seldon\",\n",
    "        \"transport\": \"rest\",\n",
    "        \"predictors\": [\n",
    "            {\n",
    "                \"componentSpecs\": [\n",
    "                    {\n",
    "                        \"spec\": {\n",
    "                            \"containers\": [\n",
    "                                {\n",
    "                                    \"name\": f\"{DEPLOYMENT_NAME}-container\",\n",
    "                                    \"resources\": {\n",
    "                                        \"requests\": {\n",
    "                                            \"cpu\": CPU_REQUESTS,\n",
    "                                            \"memory\": MEMORY_REQUESTS\n",
    "                                        },\n",
    "                                        \"limits\": {\n",
    "                                            \"cpu\": CPU_LIMITS,\n",
    "                                            \"memory\": MEMORY_LIMITS\n",
    "                                        }\n",
    "                                    }\n",
    "                                }\n",
    "                            ]\n",
    "                        }\n",
    "                    }\n",
    "                ],\n",
    "                \"name\": \"default\",\n",
    "                \"replicas\": 1,\n",
    "                \"traffic\": 100,\n",
    "                \"graph\": {\n",
    "                    \"implementation\": PREPACKAGED_SERVER,\n",
    "                    \"modelUri\": MODEL_LOCATION,\n",
    "                    \"name\": f\"{DEPLOYMENT_NAME}-container\",\n",
    "                    \"endpoint\": {\n",
    "                        \"type\": \"REST\"\n",
    "                    },\n",
    "                    \"parameters\": [],\n",
    "                    \"children\": [],\n",
    "                    \"logger\": {\n",
    "                        \"mode\": \"all\"\n",
    "                    }\n",
    "                }\n",
    "            }\n",
    "        ]\n",
    "    },\n",
    "    \"status\": {}\n",
    "}"
   ]
  },
  {
   "cell_type": "markdown",
   "id": "3263e40c",
   "metadata": {},
   "source": [
    "You can now invoke the `SeldonDeploymentsApi` and create a new Seldon Deployment. \n",
    "\n",
    "Time for you to get your hands dirty. You will use the Seldon Deploy SDK to create a new Seldon deployment. You can find the reference documentation [here](https://github.com/SeldonIO/seldon-deploy-sdk/blob/master/python/README.md). "
   ]
  },
  {
   "cell_type": "code",
   "execution_count": 15,
   "id": "a7e347ac",
   "metadata": {
    "scrolled": true
   },
   "outputs": [
    {
     "ename": "ApiException",
     "evalue": "(401)\nReason: Unauthorized\nHTTP response headers: HTTPHeaderDict({'content-type': 'text/plain; charset=utf-8', 'x-content-type-options': 'nosniff', 'date': 'Tue, 14 Jun 2022 19:38:04 GMT', 'content-length': '13', 'x-envoy-upstream-service-time': '0', 'server': 'istio-envoy'})\nHTTP response body: Unauthorized\n\n",
     "output_type": "error",
     "traceback": [
      "\u001b[0;31m---------------------------------------------------------------------------\u001b[0m",
      "\u001b[0;31mApiException\u001b[0m                              Traceback (most recent call last)",
      "File \u001b[0;32m~/opt/anaconda3/envs/data-science/lib/python3.9/site-packages/seldon_deploy_sdk/api_client.py:111\u001b[0m, in \u001b[0;36mApiClient.__call_api_with_retry\u001b[0;34m(self, resource_path, method, path_params, query_params, header_params, body, post_params, files, response_type, auth_settings, _return_http_data_only, collection_formats, _preload_content, _request_timeout)\u001b[0m\n\u001b[1;32m    <a href='file:///Users/josh/opt/anaconda3/envs/data-science/lib/python3.9/site-packages/seldon_deploy_sdk/api_client.py?line=109'>110</a>\u001b[0m \u001b[39mtry\u001b[39;00m:\n\u001b[0;32m--> <a href='file:///Users/josh/opt/anaconda3/envs/data-science/lib/python3.9/site-packages/seldon_deploy_sdk/api_client.py?line=110'>111</a>\u001b[0m     \u001b[39mreturn\u001b[39;00m \u001b[39mself\u001b[39;49m\u001b[39m.\u001b[39;49m__call_api(resource_path\u001b[39m=\u001b[39;49mresource_path,method\u001b[39m=\u001b[39;49mmethod,path_params\u001b[39m=\u001b[39;49mpath_params,query_params\u001b[39m=\u001b[39;49mquery_params,\n\u001b[1;32m    <a href='file:///Users/josh/opt/anaconda3/envs/data-science/lib/python3.9/site-packages/seldon_deploy_sdk/api_client.py?line=111'>112</a>\u001b[0m                     header_params\u001b[39m=\u001b[39;49mheader_params,body\u001b[39m=\u001b[39;49mbody,post_params\u001b[39m=\u001b[39;49mpost_params,files\u001b[39m=\u001b[39;49mfiles,\n\u001b[1;32m    <a href='file:///Users/josh/opt/anaconda3/envs/data-science/lib/python3.9/site-packages/seldon_deploy_sdk/api_client.py?line=112'>113</a>\u001b[0m                     response_type\u001b[39m=\u001b[39;49mresponse_type, auth_settings\u001b[39m=\u001b[39;49mauth_settings,\n\u001b[1;32m    <a href='file:///Users/josh/opt/anaconda3/envs/data-science/lib/python3.9/site-packages/seldon_deploy_sdk/api_client.py?line=113'>114</a>\u001b[0m                     _return_http_data_only\u001b[39m=\u001b[39;49m_return_http_data_only, collection_formats\u001b[39m=\u001b[39;49mcollection_formats,\n\u001b[1;32m    <a href='file:///Users/josh/opt/anaconda3/envs/data-science/lib/python3.9/site-packages/seldon_deploy_sdk/api_client.py?line=114'>115</a>\u001b[0m                     _preload_content\u001b[39m=\u001b[39;49m_preload_content,_request_timeout\u001b[39m=\u001b[39;49m_request_timeout)\n\u001b[1;32m    <a href='file:///Users/josh/opt/anaconda3/envs/data-science/lib/python3.9/site-packages/seldon_deploy_sdk/api_client.py?line=115'>116</a>\u001b[0m \u001b[39mexcept\u001b[39;00m seldon_deploy_sdk\u001b[39m.\u001b[39mrest\u001b[39m.\u001b[39mApiException \u001b[39mas\u001b[39;00m e:\n\u001b[1;32m    <a href='file:///Users/josh/opt/anaconda3/envs/data-science/lib/python3.9/site-packages/seldon_deploy_sdk/api_client.py?line=116'>117</a>\u001b[0m     \u001b[39m#if unauthenticated and have authenticator try refreshing in case token expired\u001b[39;00m\n",
      "File \u001b[0;32m~/opt/anaconda3/envs/data-science/lib/python3.9/site-packages/seldon_deploy_sdk/api_client.py:184\u001b[0m, in \u001b[0;36mApiClient.__call_api\u001b[0;34m(self, resource_path, method, path_params, query_params, header_params, body, post_params, files, response_type, auth_settings, _return_http_data_only, collection_formats, _preload_content, _request_timeout)\u001b[0m\n\u001b[1;32m    <a href='file:///Users/josh/opt/anaconda3/envs/data-science/lib/python3.9/site-packages/seldon_deploy_sdk/api_client.py?line=182'>183</a>\u001b[0m \u001b[39m# perform request and return response\u001b[39;00m\n\u001b[0;32m--> <a href='file:///Users/josh/opt/anaconda3/envs/data-science/lib/python3.9/site-packages/seldon_deploy_sdk/api_client.py?line=183'>184</a>\u001b[0m response_data \u001b[39m=\u001b[39m \u001b[39mself\u001b[39;49m\u001b[39m.\u001b[39;49mrequest(\n\u001b[1;32m    <a href='file:///Users/josh/opt/anaconda3/envs/data-science/lib/python3.9/site-packages/seldon_deploy_sdk/api_client.py?line=184'>185</a>\u001b[0m     method, url, query_params\u001b[39m=\u001b[39;49mquery_params, headers\u001b[39m=\u001b[39;49mheader_params,\n\u001b[1;32m    <a href='file:///Users/josh/opt/anaconda3/envs/data-science/lib/python3.9/site-packages/seldon_deploy_sdk/api_client.py?line=185'>186</a>\u001b[0m     post_params\u001b[39m=\u001b[39;49mpost_params, body\u001b[39m=\u001b[39;49mbody,\n\u001b[1;32m    <a href='file:///Users/josh/opt/anaconda3/envs/data-science/lib/python3.9/site-packages/seldon_deploy_sdk/api_client.py?line=186'>187</a>\u001b[0m     _preload_content\u001b[39m=\u001b[39;49m_preload_content,\n\u001b[1;32m    <a href='file:///Users/josh/opt/anaconda3/envs/data-science/lib/python3.9/site-packages/seldon_deploy_sdk/api_client.py?line=187'>188</a>\u001b[0m     _request_timeout\u001b[39m=\u001b[39;49m_request_timeout)\n\u001b[1;32m    <a href='file:///Users/josh/opt/anaconda3/envs/data-science/lib/python3.9/site-packages/seldon_deploy_sdk/api_client.py?line=189'>190</a>\u001b[0m \u001b[39mself\u001b[39m\u001b[39m.\u001b[39mlast_response \u001b[39m=\u001b[39m response_data\n",
      "File \u001b[0;32m~/opt/anaconda3/envs/data-science/lib/python3.9/site-packages/seldon_deploy_sdk/api_client.py:394\u001b[0m, in \u001b[0;36mApiClient.request\u001b[0;34m(self, method, url, query_params, headers, post_params, body, _preload_content, _request_timeout)\u001b[0m\n\u001b[1;32m    <a href='file:///Users/josh/opt/anaconda3/envs/data-science/lib/python3.9/site-packages/seldon_deploy_sdk/api_client.py?line=392'>393</a>\u001b[0m \u001b[39melif\u001b[39;00m method \u001b[39m==\u001b[39m \u001b[39m\"\u001b[39m\u001b[39mPOST\u001b[39m\u001b[39m\"\u001b[39m:\n\u001b[0;32m--> <a href='file:///Users/josh/opt/anaconda3/envs/data-science/lib/python3.9/site-packages/seldon_deploy_sdk/api_client.py?line=393'>394</a>\u001b[0m     \u001b[39mreturn\u001b[39;00m \u001b[39mself\u001b[39;49m\u001b[39m.\u001b[39;49mrest_client\u001b[39m.\u001b[39;49mPOST(url,\n\u001b[1;32m    <a href='file:///Users/josh/opt/anaconda3/envs/data-science/lib/python3.9/site-packages/seldon_deploy_sdk/api_client.py?line=394'>395</a>\u001b[0m                                  query_params\u001b[39m=\u001b[39;49mquery_params,\n\u001b[1;32m    <a href='file:///Users/josh/opt/anaconda3/envs/data-science/lib/python3.9/site-packages/seldon_deploy_sdk/api_client.py?line=395'>396</a>\u001b[0m                                  headers\u001b[39m=\u001b[39;49mheaders,\n\u001b[1;32m    <a href='file:///Users/josh/opt/anaconda3/envs/data-science/lib/python3.9/site-packages/seldon_deploy_sdk/api_client.py?line=396'>397</a>\u001b[0m                                  post_params\u001b[39m=\u001b[39;49mpost_params,\n\u001b[1;32m    <a href='file:///Users/josh/opt/anaconda3/envs/data-science/lib/python3.9/site-packages/seldon_deploy_sdk/api_client.py?line=397'>398</a>\u001b[0m                                  _preload_content\u001b[39m=\u001b[39;49m_preload_content,\n\u001b[1;32m    <a href='file:///Users/josh/opt/anaconda3/envs/data-science/lib/python3.9/site-packages/seldon_deploy_sdk/api_client.py?line=398'>399</a>\u001b[0m                                  _request_timeout\u001b[39m=\u001b[39;49m_request_timeout,\n\u001b[1;32m    <a href='file:///Users/josh/opt/anaconda3/envs/data-science/lib/python3.9/site-packages/seldon_deploy_sdk/api_client.py?line=399'>400</a>\u001b[0m                                  body\u001b[39m=\u001b[39;49mbody)\n\u001b[1;32m    <a href='file:///Users/josh/opt/anaconda3/envs/data-science/lib/python3.9/site-packages/seldon_deploy_sdk/api_client.py?line=400'>401</a>\u001b[0m \u001b[39melif\u001b[39;00m method \u001b[39m==\u001b[39m \u001b[39m\"\u001b[39m\u001b[39mPUT\u001b[39m\u001b[39m\"\u001b[39m:\n",
      "File \u001b[0;32m~/opt/anaconda3/envs/data-science/lib/python3.9/site-packages/seldon_deploy_sdk/rest.py:269\u001b[0m, in \u001b[0;36mRESTClientObject.POST\u001b[0;34m(self, url, headers, query_params, post_params, body, _preload_content, _request_timeout)\u001b[0m\n\u001b[1;32m    <a href='file:///Users/josh/opt/anaconda3/envs/data-science/lib/python3.9/site-packages/seldon_deploy_sdk/rest.py?line=266'>267</a>\u001b[0m \u001b[39mdef\u001b[39;00m \u001b[39mPOST\u001b[39m(\u001b[39mself\u001b[39m, url, headers\u001b[39m=\u001b[39m\u001b[39mNone\u001b[39;00m, query_params\u001b[39m=\u001b[39m\u001b[39mNone\u001b[39;00m, post_params\u001b[39m=\u001b[39m\u001b[39mNone\u001b[39;00m,\n\u001b[1;32m    <a href='file:///Users/josh/opt/anaconda3/envs/data-science/lib/python3.9/site-packages/seldon_deploy_sdk/rest.py?line=267'>268</a>\u001b[0m          body\u001b[39m=\u001b[39m\u001b[39mNone\u001b[39;00m, _preload_content\u001b[39m=\u001b[39m\u001b[39mTrue\u001b[39;00m, _request_timeout\u001b[39m=\u001b[39m\u001b[39mNone\u001b[39;00m):\n\u001b[0;32m--> <a href='file:///Users/josh/opt/anaconda3/envs/data-science/lib/python3.9/site-packages/seldon_deploy_sdk/rest.py?line=268'>269</a>\u001b[0m     \u001b[39mreturn\u001b[39;00m \u001b[39mself\u001b[39;49m\u001b[39m.\u001b[39;49mrequest(\u001b[39m\"\u001b[39;49m\u001b[39mPOST\u001b[39;49m\u001b[39m\"\u001b[39;49m, url,\n\u001b[1;32m    <a href='file:///Users/josh/opt/anaconda3/envs/data-science/lib/python3.9/site-packages/seldon_deploy_sdk/rest.py?line=269'>270</a>\u001b[0m                         headers\u001b[39m=\u001b[39;49mheaders,\n\u001b[1;32m    <a href='file:///Users/josh/opt/anaconda3/envs/data-science/lib/python3.9/site-packages/seldon_deploy_sdk/rest.py?line=270'>271</a>\u001b[0m                         query_params\u001b[39m=\u001b[39;49mquery_params,\n\u001b[1;32m    <a href='file:///Users/josh/opt/anaconda3/envs/data-science/lib/python3.9/site-packages/seldon_deploy_sdk/rest.py?line=271'>272</a>\u001b[0m                         post_params\u001b[39m=\u001b[39;49mpost_params,\n\u001b[1;32m    <a href='file:///Users/josh/opt/anaconda3/envs/data-science/lib/python3.9/site-packages/seldon_deploy_sdk/rest.py?line=272'>273</a>\u001b[0m                         _preload_content\u001b[39m=\u001b[39;49m_preload_content,\n\u001b[1;32m    <a href='file:///Users/josh/opt/anaconda3/envs/data-science/lib/python3.9/site-packages/seldon_deploy_sdk/rest.py?line=273'>274</a>\u001b[0m                         _request_timeout\u001b[39m=\u001b[39;49m_request_timeout,\n\u001b[1;32m    <a href='file:///Users/josh/opt/anaconda3/envs/data-science/lib/python3.9/site-packages/seldon_deploy_sdk/rest.py?line=274'>275</a>\u001b[0m                         body\u001b[39m=\u001b[39;49mbody)\n",
      "File \u001b[0;32m~/opt/anaconda3/envs/data-science/lib/python3.9/site-packages/seldon_deploy_sdk/rest.py:228\u001b[0m, in \u001b[0;36mRESTClientObject.request\u001b[0;34m(self, method, url, query_params, headers, body, post_params, _preload_content, _request_timeout)\u001b[0m\n\u001b[1;32m    <a href='file:///Users/josh/opt/anaconda3/envs/data-science/lib/python3.9/site-packages/seldon_deploy_sdk/rest.py?line=226'>227</a>\u001b[0m \u001b[39mif\u001b[39;00m \u001b[39mnot\u001b[39;00m \u001b[39m200\u001b[39m \u001b[39m<\u001b[39m\u001b[39m=\u001b[39m r\u001b[39m.\u001b[39mstatus \u001b[39m<\u001b[39m\u001b[39m=\u001b[39m \u001b[39m299\u001b[39m:\n\u001b[0;32m--> <a href='file:///Users/josh/opt/anaconda3/envs/data-science/lib/python3.9/site-packages/seldon_deploy_sdk/rest.py?line=227'>228</a>\u001b[0m     \u001b[39mraise\u001b[39;00m ApiException(http_resp\u001b[39m=\u001b[39mr)\n\u001b[1;32m    <a href='file:///Users/josh/opt/anaconda3/envs/data-science/lib/python3.9/site-packages/seldon_deploy_sdk/rest.py?line=229'>230</a>\u001b[0m \u001b[39mreturn\u001b[39;00m r\n",
      "\u001b[0;31mApiException\u001b[0m: (401)\nReason: Unauthorized\nHTTP response headers: HTTPHeaderDict({'content-type': 'text/plain; charset=utf-8', 'x-content-type-options': 'nosniff', 'date': 'Tue, 14 Jun 2022 19:38:04 GMT', 'content-length': '13', 'x-envoy-upstream-service-time': '1', 'server': 'istio-envoy'})\nHTTP response body: Unauthorized\n\n",
      "\nDuring handling of the above exception, another exception occurred:\n",
      "\u001b[0;31mApiException\u001b[0m                              Traceback (most recent call last)",
      "\u001b[1;32m/Users/josh/Documents/job-2021/seldon/deploy-workshops/finance/fraud-detection-explainer.ipynb Cell 50'\u001b[0m in \u001b[0;36m<module>\u001b[0;34m\u001b[0m\n\u001b[1;32m      <a href='vscode-notebook-cell:/Users/josh/Documents/job-2021/seldon/deploy-workshops/finance/fraud-detection-explainer.ipynb#ch0000048?line=0'>1</a>\u001b[0m deployment_api \u001b[39m=\u001b[39m SeldonDeploymentsApi(auth())\n\u001b[0;32m----> <a href='vscode-notebook-cell:/Users/josh/Documents/job-2021/seldon/deploy-workshops/finance/fraud-detection-explainer.ipynb#ch0000048?line=1'>2</a>\u001b[0m deployment_api\u001b[39m.\u001b[39;49mcreate_seldon_deployment(namespace\u001b[39m=\u001b[39;49mNAMESPACE, mldeployment\u001b[39m=\u001b[39;49mmldeployment)\n",
      "File \u001b[0;32m~/opt/anaconda3/envs/data-science/lib/python3.9/site-packages/seldon_deploy_sdk/api/seldon_deployments_api.py:58\u001b[0m, in \u001b[0;36mSeldonDeploymentsApi.create_seldon_deployment\u001b[0;34m(self, namespace, mldeployment, **kwargs)\u001b[0m\n\u001b[1;32m     <a href='file:///Users/josh/opt/anaconda3/envs/data-science/lib/python3.9/site-packages/seldon_deploy_sdk/api/seldon_deployments_api.py?line=55'>56</a>\u001b[0m     \u001b[39mreturn\u001b[39;00m \u001b[39mself\u001b[39m\u001b[39m.\u001b[39mcreate_seldon_deployment_with_http_info(namespace, mldeployment, \u001b[39m*\u001b[39m\u001b[39m*\u001b[39mkwargs)  \u001b[39m# noqa: E501\u001b[39;00m\n\u001b[1;32m     <a href='file:///Users/josh/opt/anaconda3/envs/data-science/lib/python3.9/site-packages/seldon_deploy_sdk/api/seldon_deployments_api.py?line=56'>57</a>\u001b[0m \u001b[39melse\u001b[39;00m:\n\u001b[0;32m---> <a href='file:///Users/josh/opt/anaconda3/envs/data-science/lib/python3.9/site-packages/seldon_deploy_sdk/api/seldon_deployments_api.py?line=57'>58</a>\u001b[0m     (data) \u001b[39m=\u001b[39m \u001b[39mself\u001b[39;49m\u001b[39m.\u001b[39;49mcreate_seldon_deployment_with_http_info(namespace, mldeployment, \u001b[39m*\u001b[39;49m\u001b[39m*\u001b[39;49mkwargs)  \u001b[39m# noqa: E501\u001b[39;00m\n\u001b[1;32m     <a href='file:///Users/josh/opt/anaconda3/envs/data-science/lib/python3.9/site-packages/seldon_deploy_sdk/api/seldon_deployments_api.py?line=58'>59</a>\u001b[0m     \u001b[39mreturn\u001b[39;00m data\n",
      "File \u001b[0;32m~/opt/anaconda3/envs/data-science/lib/python3.9/site-packages/seldon_deploy_sdk/api/seldon_deployments_api.py:135\u001b[0m, in \u001b[0;36mSeldonDeploymentsApi.create_seldon_deployment_with_http_info\u001b[0;34m(self, namespace, mldeployment, **kwargs)\u001b[0m\n\u001b[1;32m    <a href='file:///Users/josh/opt/anaconda3/envs/data-science/lib/python3.9/site-packages/seldon_deploy_sdk/api/seldon_deployments_api.py?line=131'>132</a>\u001b[0m \u001b[39m# Authentication setting\u001b[39;00m\n\u001b[1;32m    <a href='file:///Users/josh/opt/anaconda3/envs/data-science/lib/python3.9/site-packages/seldon_deploy_sdk/api/seldon_deployments_api.py?line=132'>133</a>\u001b[0m auth_settings \u001b[39m=\u001b[39m [\u001b[39m'\u001b[39m\u001b[39mOAuth2\u001b[39m\u001b[39m'\u001b[39m]  \u001b[39m# noqa: E501\u001b[39;00m\n\u001b[0;32m--> <a href='file:///Users/josh/opt/anaconda3/envs/data-science/lib/python3.9/site-packages/seldon_deploy_sdk/api/seldon_deployments_api.py?line=134'>135</a>\u001b[0m \u001b[39mreturn\u001b[39;00m \u001b[39mself\u001b[39;49m\u001b[39m.\u001b[39;49mapi_client\u001b[39m.\u001b[39;49mcall_api(\n\u001b[1;32m    <a href='file:///Users/josh/opt/anaconda3/envs/data-science/lib/python3.9/site-packages/seldon_deploy_sdk/api/seldon_deployments_api.py?line=135'>136</a>\u001b[0m     \u001b[39m'\u001b[39;49m\u001b[39m/namespaces/\u001b[39;49m\u001b[39m{namespace}\u001b[39;49;00m\u001b[39m/seldondeployments\u001b[39;49m\u001b[39m'\u001b[39;49m, \u001b[39m'\u001b[39;49m\u001b[39mPOST\u001b[39;49m\u001b[39m'\u001b[39;49m,\n\u001b[1;32m    <a href='file:///Users/josh/opt/anaconda3/envs/data-science/lib/python3.9/site-packages/seldon_deploy_sdk/api/seldon_deployments_api.py?line=136'>137</a>\u001b[0m     path_params,\n\u001b[1;32m    <a href='file:///Users/josh/opt/anaconda3/envs/data-science/lib/python3.9/site-packages/seldon_deploy_sdk/api/seldon_deployments_api.py?line=137'>138</a>\u001b[0m     query_params,\n\u001b[1;32m    <a href='file:///Users/josh/opt/anaconda3/envs/data-science/lib/python3.9/site-packages/seldon_deploy_sdk/api/seldon_deployments_api.py?line=138'>139</a>\u001b[0m     header_params,\n\u001b[1;32m    <a href='file:///Users/josh/opt/anaconda3/envs/data-science/lib/python3.9/site-packages/seldon_deploy_sdk/api/seldon_deployments_api.py?line=139'>140</a>\u001b[0m     body\u001b[39m=\u001b[39;49mbody_params,\n\u001b[1;32m    <a href='file:///Users/josh/opt/anaconda3/envs/data-science/lib/python3.9/site-packages/seldon_deploy_sdk/api/seldon_deployments_api.py?line=140'>141</a>\u001b[0m     post_params\u001b[39m=\u001b[39;49mform_params,\n\u001b[1;32m    <a href='file:///Users/josh/opt/anaconda3/envs/data-science/lib/python3.9/site-packages/seldon_deploy_sdk/api/seldon_deployments_api.py?line=141'>142</a>\u001b[0m     files\u001b[39m=\u001b[39;49mlocal_var_files,\n\u001b[1;32m    <a href='file:///Users/josh/opt/anaconda3/envs/data-science/lib/python3.9/site-packages/seldon_deploy_sdk/api/seldon_deployments_api.py?line=142'>143</a>\u001b[0m     response_type\u001b[39m=\u001b[39;49m\u001b[39m'\u001b[39;49m\u001b[39mSeldonDeployment\u001b[39;49m\u001b[39m'\u001b[39;49m,  \u001b[39m# noqa: E501\u001b[39;49;00m\n\u001b[1;32m    <a href='file:///Users/josh/opt/anaconda3/envs/data-science/lib/python3.9/site-packages/seldon_deploy_sdk/api/seldon_deployments_api.py?line=143'>144</a>\u001b[0m     auth_settings\u001b[39m=\u001b[39;49mauth_settings,\n\u001b[1;32m    <a href='file:///Users/josh/opt/anaconda3/envs/data-science/lib/python3.9/site-packages/seldon_deploy_sdk/api/seldon_deployments_api.py?line=144'>145</a>\u001b[0m     async_req\u001b[39m=\u001b[39;49mparams\u001b[39m.\u001b[39;49mget(\u001b[39m'\u001b[39;49m\u001b[39masync_req\u001b[39;49m\u001b[39m'\u001b[39;49m),\n\u001b[1;32m    <a href='file:///Users/josh/opt/anaconda3/envs/data-science/lib/python3.9/site-packages/seldon_deploy_sdk/api/seldon_deployments_api.py?line=145'>146</a>\u001b[0m     _return_http_data_only\u001b[39m=\u001b[39;49mparams\u001b[39m.\u001b[39;49mget(\u001b[39m'\u001b[39;49m\u001b[39m_return_http_data_only\u001b[39;49m\u001b[39m'\u001b[39;49m),\n\u001b[1;32m    <a href='file:///Users/josh/opt/anaconda3/envs/data-science/lib/python3.9/site-packages/seldon_deploy_sdk/api/seldon_deployments_api.py?line=146'>147</a>\u001b[0m     _preload_content\u001b[39m=\u001b[39;49mparams\u001b[39m.\u001b[39;49mget(\u001b[39m'\u001b[39;49m\u001b[39m_preload_content\u001b[39;49m\u001b[39m'\u001b[39;49m, \u001b[39mTrue\u001b[39;49;00m),\n\u001b[1;32m    <a href='file:///Users/josh/opt/anaconda3/envs/data-science/lib/python3.9/site-packages/seldon_deploy_sdk/api/seldon_deployments_api.py?line=147'>148</a>\u001b[0m     _request_timeout\u001b[39m=\u001b[39;49mparams\u001b[39m.\u001b[39;49mget(\u001b[39m'\u001b[39;49m\u001b[39m_request_timeout\u001b[39;49m\u001b[39m'\u001b[39;49m),\n\u001b[1;32m    <a href='file:///Users/josh/opt/anaconda3/envs/data-science/lib/python3.9/site-packages/seldon_deploy_sdk/api/seldon_deployments_api.py?line=148'>149</a>\u001b[0m     collection_formats\u001b[39m=\u001b[39;49mcollection_formats)\n",
      "File \u001b[0;32m~/opt/anaconda3/envs/data-science/lib/python3.9/site-packages/seldon_deploy_sdk/api_client.py:352\u001b[0m, in \u001b[0;36mApiClient.call_api\u001b[0;34m(self, resource_path, method, path_params, query_params, header_params, body, post_params, files, response_type, auth_settings, async_req, _return_http_data_only, collection_formats, _preload_content, _request_timeout)\u001b[0m\n\u001b[1;32m    <a href='file:///Users/josh/opt/anaconda3/envs/data-science/lib/python3.9/site-packages/seldon_deploy_sdk/api_client.py?line=314'>315</a>\u001b[0m \u001b[39m\"\"\"Makes the HTTP request (synchronous) and returns deserialized data.\u001b[39;00m\n\u001b[1;32m    <a href='file:///Users/josh/opt/anaconda3/envs/data-science/lib/python3.9/site-packages/seldon_deploy_sdk/api_client.py?line=315'>316</a>\u001b[0m \n\u001b[1;32m    <a href='file:///Users/josh/opt/anaconda3/envs/data-science/lib/python3.9/site-packages/seldon_deploy_sdk/api_client.py?line=316'>317</a>\u001b[0m \u001b[39mTo make an async request, set the async_req parameter.\u001b[39;00m\n\u001b[0;32m   (...)\u001b[0m\n\u001b[1;32m    <a href='file:///Users/josh/opt/anaconda3/envs/data-science/lib/python3.9/site-packages/seldon_deploy_sdk/api_client.py?line=348'>349</a>\u001b[0m \u001b[39m    then the method will return the response directly.\u001b[39;00m\n\u001b[1;32m    <a href='file:///Users/josh/opt/anaconda3/envs/data-science/lib/python3.9/site-packages/seldon_deploy_sdk/api_client.py?line=349'>350</a>\u001b[0m \u001b[39m\"\"\"\u001b[39;00m\n\u001b[1;32m    <a href='file:///Users/josh/opt/anaconda3/envs/data-science/lib/python3.9/site-packages/seldon_deploy_sdk/api_client.py?line=350'>351</a>\u001b[0m \u001b[39mif\u001b[39;00m \u001b[39mnot\u001b[39;00m async_req:\n\u001b[0;32m--> <a href='file:///Users/josh/opt/anaconda3/envs/data-science/lib/python3.9/site-packages/seldon_deploy_sdk/api_client.py?line=351'>352</a>\u001b[0m     \u001b[39mreturn\u001b[39;00m \u001b[39mself\u001b[39;49m\u001b[39m.\u001b[39;49m__call_api_with_retry(resource_path, method,\n\u001b[1;32m    <a href='file:///Users/josh/opt/anaconda3/envs/data-science/lib/python3.9/site-packages/seldon_deploy_sdk/api_client.py?line=352'>353</a>\u001b[0m                            path_params, query_params, header_params,\n\u001b[1;32m    <a href='file:///Users/josh/opt/anaconda3/envs/data-science/lib/python3.9/site-packages/seldon_deploy_sdk/api_client.py?line=353'>354</a>\u001b[0m                            body, post_params, files,\n\u001b[1;32m    <a href='file:///Users/josh/opt/anaconda3/envs/data-science/lib/python3.9/site-packages/seldon_deploy_sdk/api_client.py?line=354'>355</a>\u001b[0m                            response_type, auth_settings,\n\u001b[1;32m    <a href='file:///Users/josh/opt/anaconda3/envs/data-science/lib/python3.9/site-packages/seldon_deploy_sdk/api_client.py?line=355'>356</a>\u001b[0m                            _return_http_data_only, collection_formats,\n\u001b[1;32m    <a href='file:///Users/josh/opt/anaconda3/envs/data-science/lib/python3.9/site-packages/seldon_deploy_sdk/api_client.py?line=356'>357</a>\u001b[0m                            _preload_content, _request_timeout)\n\u001b[1;32m    <a href='file:///Users/josh/opt/anaconda3/envs/data-science/lib/python3.9/site-packages/seldon_deploy_sdk/api_client.py?line=357'>358</a>\u001b[0m \u001b[39melse\u001b[39;00m:\n\u001b[1;32m    <a href='file:///Users/josh/opt/anaconda3/envs/data-science/lib/python3.9/site-packages/seldon_deploy_sdk/api_client.py?line=358'>359</a>\u001b[0m     thread \u001b[39m=\u001b[39m \u001b[39mself\u001b[39m\u001b[39m.\u001b[39mpool\u001b[39m.\u001b[39mapply_async(\u001b[39mself\u001b[39m\u001b[39m.\u001b[39m__call_api_with_retry, (resource_path,\n\u001b[1;32m    <a href='file:///Users/josh/opt/anaconda3/envs/data-science/lib/python3.9/site-packages/seldon_deploy_sdk/api_client.py?line=359'>360</a>\u001b[0m                                    method, path_params, query_params,\n\u001b[1;32m    <a href='file:///Users/josh/opt/anaconda3/envs/data-science/lib/python3.9/site-packages/seldon_deploy_sdk/api_client.py?line=360'>361</a>\u001b[0m                                    header_params, body,\n\u001b[0;32m   (...)\u001b[0m\n\u001b[1;32m    <a href='file:///Users/josh/opt/anaconda3/envs/data-science/lib/python3.9/site-packages/seldon_deploy_sdk/api_client.py?line=364'>365</a>\u001b[0m                                    collection_formats,\n\u001b[1;32m    <a href='file:///Users/josh/opt/anaconda3/envs/data-science/lib/python3.9/site-packages/seldon_deploy_sdk/api_client.py?line=365'>366</a>\u001b[0m                                    _preload_content, _request_timeout))\n",
      "File \u001b[0;32m~/opt/anaconda3/envs/data-science/lib/python3.9/site-packages/seldon_deploy_sdk/api_client.py:121\u001b[0m, in \u001b[0;36mApiClient.__call_api_with_retry\u001b[0;34m(self, resource_path, method, path_params, query_params, header_params, body, post_params, files, response_type, auth_settings, _return_http_data_only, collection_formats, _preload_content, _request_timeout)\u001b[0m\n\u001b[1;32m    <a href='file:///Users/josh/opt/anaconda3/envs/data-science/lib/python3.9/site-packages/seldon_deploy_sdk/api_client.py?line=118'>119</a>\u001b[0m     token \u001b[39m=\u001b[39m \u001b[39mself\u001b[39m\u001b[39m.\u001b[39mauthenticator\u001b[39m.\u001b[39mauthenticate()\n\u001b[1;32m    <a href='file:///Users/josh/opt/anaconda3/envs/data-science/lib/python3.9/site-packages/seldon_deploy_sdk/api_client.py?line=119'>120</a>\u001b[0m     \u001b[39mself\u001b[39m\u001b[39m.\u001b[39mconfiguration\u001b[39m.\u001b[39mid_token \u001b[39m=\u001b[39m token\n\u001b[0;32m--> <a href='file:///Users/josh/opt/anaconda3/envs/data-science/lib/python3.9/site-packages/seldon_deploy_sdk/api_client.py?line=120'>121</a>\u001b[0m     \u001b[39mreturn\u001b[39;00m \u001b[39mself\u001b[39;49m\u001b[39m.\u001b[39;49m__call_api(resource_path\u001b[39m=\u001b[39;49mresource_path,method\u001b[39m=\u001b[39;49mmethod,path_params\u001b[39m=\u001b[39;49mpath_params,query_params\u001b[39m=\u001b[39;49mquery_params,\n\u001b[1;32m    <a href='file:///Users/josh/opt/anaconda3/envs/data-science/lib/python3.9/site-packages/seldon_deploy_sdk/api_client.py?line=121'>122</a>\u001b[0m                 header_params\u001b[39m=\u001b[39;49mheader_params,body\u001b[39m=\u001b[39;49mbody,post_params\u001b[39m=\u001b[39;49mpost_params,files\u001b[39m=\u001b[39;49mfiles,\n\u001b[1;32m    <a href='file:///Users/josh/opt/anaconda3/envs/data-science/lib/python3.9/site-packages/seldon_deploy_sdk/api_client.py?line=122'>123</a>\u001b[0m                 response_type\u001b[39m=\u001b[39;49mresponse_type, auth_settings\u001b[39m=\u001b[39;49mauth_settings,\n\u001b[1;32m    <a href='file:///Users/josh/opt/anaconda3/envs/data-science/lib/python3.9/site-packages/seldon_deploy_sdk/api_client.py?line=123'>124</a>\u001b[0m                 _return_http_data_only\u001b[39m=\u001b[39;49m_return_http_data_only, collection_formats\u001b[39m=\u001b[39;49mcollection_formats,\n\u001b[1;32m    <a href='file:///Users/josh/opt/anaconda3/envs/data-science/lib/python3.9/site-packages/seldon_deploy_sdk/api_client.py?line=124'>125</a>\u001b[0m                 _preload_content\u001b[39m=\u001b[39;49m_preload_content,_request_timeout\u001b[39m=\u001b[39;49m_request_timeout)\n\u001b[1;32m    <a href='file:///Users/josh/opt/anaconda3/envs/data-science/lib/python3.9/site-packages/seldon_deploy_sdk/api_client.py?line=125'>126</a>\u001b[0m \u001b[39melse\u001b[39;00m:\n\u001b[1;32m    <a href='file:///Users/josh/opt/anaconda3/envs/data-science/lib/python3.9/site-packages/seldon_deploy_sdk/api_client.py?line=126'>127</a>\u001b[0m     \u001b[39mraise\u001b[39;00m e\n",
      "File \u001b[0;32m~/opt/anaconda3/envs/data-science/lib/python3.9/site-packages/seldon_deploy_sdk/api_client.py:184\u001b[0m, in \u001b[0;36mApiClient.__call_api\u001b[0;34m(self, resource_path, method, path_params, query_params, header_params, body, post_params, files, response_type, auth_settings, _return_http_data_only, collection_formats, _preload_content, _request_timeout)\u001b[0m\n\u001b[1;32m    <a href='file:///Users/josh/opt/anaconda3/envs/data-science/lib/python3.9/site-packages/seldon_deploy_sdk/api_client.py?line=180'>181</a>\u001b[0m url \u001b[39m=\u001b[39m \u001b[39mself\u001b[39m\u001b[39m.\u001b[39mconfiguration\u001b[39m.\u001b[39mhost \u001b[39m+\u001b[39m resource_path\n\u001b[1;32m    <a href='file:///Users/josh/opt/anaconda3/envs/data-science/lib/python3.9/site-packages/seldon_deploy_sdk/api_client.py?line=182'>183</a>\u001b[0m \u001b[39m# perform request and return response\u001b[39;00m\n\u001b[0;32m--> <a href='file:///Users/josh/opt/anaconda3/envs/data-science/lib/python3.9/site-packages/seldon_deploy_sdk/api_client.py?line=183'>184</a>\u001b[0m response_data \u001b[39m=\u001b[39m \u001b[39mself\u001b[39;49m\u001b[39m.\u001b[39;49mrequest(\n\u001b[1;32m    <a href='file:///Users/josh/opt/anaconda3/envs/data-science/lib/python3.9/site-packages/seldon_deploy_sdk/api_client.py?line=184'>185</a>\u001b[0m     method, url, query_params\u001b[39m=\u001b[39;49mquery_params, headers\u001b[39m=\u001b[39;49mheader_params,\n\u001b[1;32m    <a href='file:///Users/josh/opt/anaconda3/envs/data-science/lib/python3.9/site-packages/seldon_deploy_sdk/api_client.py?line=185'>186</a>\u001b[0m     post_params\u001b[39m=\u001b[39;49mpost_params, body\u001b[39m=\u001b[39;49mbody,\n\u001b[1;32m    <a href='file:///Users/josh/opt/anaconda3/envs/data-science/lib/python3.9/site-packages/seldon_deploy_sdk/api_client.py?line=186'>187</a>\u001b[0m     _preload_content\u001b[39m=\u001b[39;49m_preload_content,\n\u001b[1;32m    <a href='file:///Users/josh/opt/anaconda3/envs/data-science/lib/python3.9/site-packages/seldon_deploy_sdk/api_client.py?line=187'>188</a>\u001b[0m     _request_timeout\u001b[39m=\u001b[39;49m_request_timeout)\n\u001b[1;32m    <a href='file:///Users/josh/opt/anaconda3/envs/data-science/lib/python3.9/site-packages/seldon_deploy_sdk/api_client.py?line=189'>190</a>\u001b[0m \u001b[39mself\u001b[39m\u001b[39m.\u001b[39mlast_response \u001b[39m=\u001b[39m response_data\n\u001b[1;32m    <a href='file:///Users/josh/opt/anaconda3/envs/data-science/lib/python3.9/site-packages/seldon_deploy_sdk/api_client.py?line=191'>192</a>\u001b[0m return_data \u001b[39m=\u001b[39m response_data\n",
      "File \u001b[0;32m~/opt/anaconda3/envs/data-science/lib/python3.9/site-packages/seldon_deploy_sdk/api_client.py:394\u001b[0m, in \u001b[0;36mApiClient.request\u001b[0;34m(self, method, url, query_params, headers, post_params, body, _preload_content, _request_timeout)\u001b[0m\n\u001b[1;32m    <a href='file:///Users/josh/opt/anaconda3/envs/data-science/lib/python3.9/site-packages/seldon_deploy_sdk/api_client.py?line=385'>386</a>\u001b[0m     \u001b[39mreturn\u001b[39;00m \u001b[39mself\u001b[39m\u001b[39m.\u001b[39mrest_client\u001b[39m.\u001b[39mOPTIONS(url,\n\u001b[1;32m    <a href='file:///Users/josh/opt/anaconda3/envs/data-science/lib/python3.9/site-packages/seldon_deploy_sdk/api_client.py?line=386'>387</a>\u001b[0m                                     query_params\u001b[39m=\u001b[39mquery_params,\n\u001b[1;32m    <a href='file:///Users/josh/opt/anaconda3/envs/data-science/lib/python3.9/site-packages/seldon_deploy_sdk/api_client.py?line=387'>388</a>\u001b[0m                                     headers\u001b[39m=\u001b[39mheaders,\n\u001b[0;32m   (...)\u001b[0m\n\u001b[1;32m    <a href='file:///Users/josh/opt/anaconda3/envs/data-science/lib/python3.9/site-packages/seldon_deploy_sdk/api_client.py?line=390'>391</a>\u001b[0m                                     _request_timeout\u001b[39m=\u001b[39m_request_timeout,\n\u001b[1;32m    <a href='file:///Users/josh/opt/anaconda3/envs/data-science/lib/python3.9/site-packages/seldon_deploy_sdk/api_client.py?line=391'>392</a>\u001b[0m                                     body\u001b[39m=\u001b[39mbody)\n\u001b[1;32m    <a href='file:///Users/josh/opt/anaconda3/envs/data-science/lib/python3.9/site-packages/seldon_deploy_sdk/api_client.py?line=392'>393</a>\u001b[0m \u001b[39melif\u001b[39;00m method \u001b[39m==\u001b[39m \u001b[39m\"\u001b[39m\u001b[39mPOST\u001b[39m\u001b[39m\"\u001b[39m:\n\u001b[0;32m--> <a href='file:///Users/josh/opt/anaconda3/envs/data-science/lib/python3.9/site-packages/seldon_deploy_sdk/api_client.py?line=393'>394</a>\u001b[0m     \u001b[39mreturn\u001b[39;00m \u001b[39mself\u001b[39;49m\u001b[39m.\u001b[39;49mrest_client\u001b[39m.\u001b[39;49mPOST(url,\n\u001b[1;32m    <a href='file:///Users/josh/opt/anaconda3/envs/data-science/lib/python3.9/site-packages/seldon_deploy_sdk/api_client.py?line=394'>395</a>\u001b[0m                                  query_params\u001b[39m=\u001b[39;49mquery_params,\n\u001b[1;32m    <a href='file:///Users/josh/opt/anaconda3/envs/data-science/lib/python3.9/site-packages/seldon_deploy_sdk/api_client.py?line=395'>396</a>\u001b[0m                                  headers\u001b[39m=\u001b[39;49mheaders,\n\u001b[1;32m    <a href='file:///Users/josh/opt/anaconda3/envs/data-science/lib/python3.9/site-packages/seldon_deploy_sdk/api_client.py?line=396'>397</a>\u001b[0m                                  post_params\u001b[39m=\u001b[39;49mpost_params,\n\u001b[1;32m    <a href='file:///Users/josh/opt/anaconda3/envs/data-science/lib/python3.9/site-packages/seldon_deploy_sdk/api_client.py?line=397'>398</a>\u001b[0m                                  _preload_content\u001b[39m=\u001b[39;49m_preload_content,\n\u001b[1;32m    <a href='file:///Users/josh/opt/anaconda3/envs/data-science/lib/python3.9/site-packages/seldon_deploy_sdk/api_client.py?line=398'>399</a>\u001b[0m                                  _request_timeout\u001b[39m=\u001b[39;49m_request_timeout,\n\u001b[1;32m    <a href='file:///Users/josh/opt/anaconda3/envs/data-science/lib/python3.9/site-packages/seldon_deploy_sdk/api_client.py?line=399'>400</a>\u001b[0m                                  body\u001b[39m=\u001b[39;49mbody)\n\u001b[1;32m    <a href='file:///Users/josh/opt/anaconda3/envs/data-science/lib/python3.9/site-packages/seldon_deploy_sdk/api_client.py?line=400'>401</a>\u001b[0m \u001b[39melif\u001b[39;00m method \u001b[39m==\u001b[39m \u001b[39m\"\u001b[39m\u001b[39mPUT\u001b[39m\u001b[39m\"\u001b[39m:\n\u001b[1;32m    <a href='file:///Users/josh/opt/anaconda3/envs/data-science/lib/python3.9/site-packages/seldon_deploy_sdk/api_client.py?line=401'>402</a>\u001b[0m     \u001b[39mreturn\u001b[39;00m \u001b[39mself\u001b[39m\u001b[39m.\u001b[39mrest_client\u001b[39m.\u001b[39mPUT(url,\n\u001b[1;32m    <a href='file:///Users/josh/opt/anaconda3/envs/data-science/lib/python3.9/site-packages/seldon_deploy_sdk/api_client.py?line=402'>403</a>\u001b[0m                                 query_params\u001b[39m=\u001b[39mquery_params,\n\u001b[1;32m    <a href='file:///Users/josh/opt/anaconda3/envs/data-science/lib/python3.9/site-packages/seldon_deploy_sdk/api_client.py?line=403'>404</a>\u001b[0m                                 headers\u001b[39m=\u001b[39mheaders,\n\u001b[0;32m   (...)\u001b[0m\n\u001b[1;32m    <a href='file:///Users/josh/opt/anaconda3/envs/data-science/lib/python3.9/site-packages/seldon_deploy_sdk/api_client.py?line=406'>407</a>\u001b[0m                                 _request_timeout\u001b[39m=\u001b[39m_request_timeout,\n\u001b[1;32m    <a href='file:///Users/josh/opt/anaconda3/envs/data-science/lib/python3.9/site-packages/seldon_deploy_sdk/api_client.py?line=407'>408</a>\u001b[0m                                 body\u001b[39m=\u001b[39mbody)\n",
      "File \u001b[0;32m~/opt/anaconda3/envs/data-science/lib/python3.9/site-packages/seldon_deploy_sdk/rest.py:269\u001b[0m, in \u001b[0;36mRESTClientObject.POST\u001b[0;34m(self, url, headers, query_params, post_params, body, _preload_content, _request_timeout)\u001b[0m\n\u001b[1;32m    <a href='file:///Users/josh/opt/anaconda3/envs/data-science/lib/python3.9/site-packages/seldon_deploy_sdk/rest.py?line=266'>267</a>\u001b[0m \u001b[39mdef\u001b[39;00m \u001b[39mPOST\u001b[39m(\u001b[39mself\u001b[39m, url, headers\u001b[39m=\u001b[39m\u001b[39mNone\u001b[39;00m, query_params\u001b[39m=\u001b[39m\u001b[39mNone\u001b[39;00m, post_params\u001b[39m=\u001b[39m\u001b[39mNone\u001b[39;00m,\n\u001b[1;32m    <a href='file:///Users/josh/opt/anaconda3/envs/data-science/lib/python3.9/site-packages/seldon_deploy_sdk/rest.py?line=267'>268</a>\u001b[0m          body\u001b[39m=\u001b[39m\u001b[39mNone\u001b[39;00m, _preload_content\u001b[39m=\u001b[39m\u001b[39mTrue\u001b[39;00m, _request_timeout\u001b[39m=\u001b[39m\u001b[39mNone\u001b[39;00m):\n\u001b[0;32m--> <a href='file:///Users/josh/opt/anaconda3/envs/data-science/lib/python3.9/site-packages/seldon_deploy_sdk/rest.py?line=268'>269</a>\u001b[0m     \u001b[39mreturn\u001b[39;00m \u001b[39mself\u001b[39;49m\u001b[39m.\u001b[39;49mrequest(\u001b[39m\"\u001b[39;49m\u001b[39mPOST\u001b[39;49m\u001b[39m\"\u001b[39;49m, url,\n\u001b[1;32m    <a href='file:///Users/josh/opt/anaconda3/envs/data-science/lib/python3.9/site-packages/seldon_deploy_sdk/rest.py?line=269'>270</a>\u001b[0m                         headers\u001b[39m=\u001b[39;49mheaders,\n\u001b[1;32m    <a href='file:///Users/josh/opt/anaconda3/envs/data-science/lib/python3.9/site-packages/seldon_deploy_sdk/rest.py?line=270'>271</a>\u001b[0m                         query_params\u001b[39m=\u001b[39;49mquery_params,\n\u001b[1;32m    <a href='file:///Users/josh/opt/anaconda3/envs/data-science/lib/python3.9/site-packages/seldon_deploy_sdk/rest.py?line=271'>272</a>\u001b[0m                         post_params\u001b[39m=\u001b[39;49mpost_params,\n\u001b[1;32m    <a href='file:///Users/josh/opt/anaconda3/envs/data-science/lib/python3.9/site-packages/seldon_deploy_sdk/rest.py?line=272'>273</a>\u001b[0m                         _preload_content\u001b[39m=\u001b[39;49m_preload_content,\n\u001b[1;32m    <a href='file:///Users/josh/opt/anaconda3/envs/data-science/lib/python3.9/site-packages/seldon_deploy_sdk/rest.py?line=273'>274</a>\u001b[0m                         _request_timeout\u001b[39m=\u001b[39;49m_request_timeout,\n\u001b[1;32m    <a href='file:///Users/josh/opt/anaconda3/envs/data-science/lib/python3.9/site-packages/seldon_deploy_sdk/rest.py?line=274'>275</a>\u001b[0m                         body\u001b[39m=\u001b[39;49mbody)\n",
      "File \u001b[0;32m~/opt/anaconda3/envs/data-science/lib/python3.9/site-packages/seldon_deploy_sdk/rest.py:228\u001b[0m, in \u001b[0;36mRESTClientObject.request\u001b[0;34m(self, method, url, query_params, headers, body, post_params, _preload_content, _request_timeout)\u001b[0m\n\u001b[1;32m    <a href='file:///Users/josh/opt/anaconda3/envs/data-science/lib/python3.9/site-packages/seldon_deploy_sdk/rest.py?line=224'>225</a>\u001b[0m     logger\u001b[39m.\u001b[39mdebug(\u001b[39m\"\u001b[39m\u001b[39mresponse body: \u001b[39m\u001b[39m%s\u001b[39;00m\u001b[39m\"\u001b[39m, r\u001b[39m.\u001b[39mdata)\n\u001b[1;32m    <a href='file:///Users/josh/opt/anaconda3/envs/data-science/lib/python3.9/site-packages/seldon_deploy_sdk/rest.py?line=226'>227</a>\u001b[0m \u001b[39mif\u001b[39;00m \u001b[39mnot\u001b[39;00m \u001b[39m200\u001b[39m \u001b[39m<\u001b[39m\u001b[39m=\u001b[39m r\u001b[39m.\u001b[39mstatus \u001b[39m<\u001b[39m\u001b[39m=\u001b[39m \u001b[39m299\u001b[39m:\n\u001b[0;32m--> <a href='file:///Users/josh/opt/anaconda3/envs/data-science/lib/python3.9/site-packages/seldon_deploy_sdk/rest.py?line=227'>228</a>\u001b[0m     \u001b[39mraise\u001b[39;00m ApiException(http_resp\u001b[39m=\u001b[39mr)\n\u001b[1;32m    <a href='file:///Users/josh/opt/anaconda3/envs/data-science/lib/python3.9/site-packages/seldon_deploy_sdk/rest.py?line=229'>230</a>\u001b[0m \u001b[39mreturn\u001b[39;00m r\n",
      "\u001b[0;31mApiException\u001b[0m: (401)\nReason: Unauthorized\nHTTP response headers: HTTPHeaderDict({'content-type': 'text/plain; charset=utf-8', 'x-content-type-options': 'nosniff', 'date': 'Tue, 14 Jun 2022 19:38:04 GMT', 'content-length': '13', 'x-envoy-upstream-service-time': '0', 'server': 'istio-envoy'})\nHTTP response body: Unauthorized\n\n"
     ]
    }
   ],
   "source": [
    "deployment_api = SeldonDeploymentsApi(auth())\n",
    "deployment_api.create_seldon_deployment(namespace=NAMESPACE, mldeployment=mldeployment)"
   ]
  },
  {
   "cell_type": "markdown",
   "id": "8a4b2e79",
   "metadata": {},
   "source": [
    "You can access the Seldon Deploy cluster and view your freshly created deployment here: \n",
    "* URL: http://104.196.30.7/seldon-deploy/\n",
    "* Username: admin@seldon.io\n",
    "* Password: 12341234"
   ]
  },
  {
   "cell_type": "code",
   "execution_count": 74,
   "id": "66848230",
   "metadata": {},
   "outputs": [],
   "source": [
    "YOUR_NAME = \"josh\"\n",
    "MODEL_NAME = \"fraude-detector\"\n",
    "DEPLOYMENT_NAME = f\"{YOUR_NAME}-{MODEL_NAME}\"\n",
    "NAMESPACE = \"seldon-demos\"\n",
    "MODEL_LOCATION = f\"gs://tom-seldon-examples/fraud-workshop/models/josh-pretrained\"\n",
    "\n",
    "PREPACKAGED_SERVER = \"XGBOOST_SERVER\"\n",
    "\n",
    "CPU_REQUESTS = \"1\"\n",
    "MEMORY_REQUESTS = \"1Gi\"\n",
    "\n",
    "CPU_LIMITS = \"1\"\n",
    "MEMORY_LIMITS = \"1Gi\""
   ]
  },
  {
   "cell_type": "code",
   "execution_count": 75,
   "id": "bcd5cb63",
   "metadata": {},
   "outputs": [],
   "source": [
    "mldeployment = {\n",
    "    \"kind\": \"SeldonDeployment\",\n",
    "    \"metadata\": {\n",
    "        \"name\": DEPLOYMENT_NAME,\n",
    "        \"namespace\": NAMESPACE,\n",
    "        \"labels\": {\n",
    "            \"fluentd\": \"true\"\n",
    "        }\n",
    "    },\n",
    "    \"apiVersion\": \"machinelearning.seldon.io/v1alpha2\",\n",
    "    \"spec\": {\n",
    "        \"name\": DEPLOYMENT_NAME,\n",
    "        \"annotations\": {\n",
    "            \"seldon.io/engine-seldon-log-messages-externally\": \"true\"\n",
    "        },\n",
    "        \"protocol\": \"seldon\",\n",
    "        \"predictors\": [\n",
    "            {\n",
    "                \"componentSpecs\": [\n",
    "                    {\n",
    "                        \"spec\": {\n",
    "                            \"containers\": [\n",
    "                                {\n",
    "                                    \"name\": f\"{DEPLOYMENT_NAME}-container\",\n",
    "                                    \"resources\": {\n",
    "                                        \"requests\": {\n",
    "                                            \"cpu\": CPU_REQUESTS,\n",
    "                                            \"memory\": MEMORY_REQUESTS\n",
    "                                        },\n",
    "                                        \"limits\": {\n",
    "                                            \"cpu\": CPU_LIMITS,\n",
    "                                            \"memory\": MEMORY_LIMITS\n",
    "                                        }\n",
    "                                    }\n",
    "                                }\n",
    "                            ]\n",
    "                        }\n",
    "                    }\n",
    "                ],\n",
    "                \"name\": \"default\",\n",
    "                \"replicas\": 1,\n",
    "                \"traffic\": 100,\n",
    "                \"graph\": {\n",
    "                    \"implementation\": PREPACKAGED_SERVER,\n",
    "                    \"modelUri\": MODEL_LOCATION,\n",
    "                    \"name\": f\"{DEPLOYMENT_NAME}-container\",\n",
    "                    \"endpoint\": {\n",
    "                        \"type\": \"REST\"\n",
    "                    },\n",
    "                    \"parameters\": [],\n",
    "                    \"children\": [],\n",
    "                    \"logger\": {\n",
    "                        \"mode\": \"all\"\n",
    "                    }\n",
    "                }\n",
    "            }\n",
    "        ]\n",
    "    },\n",
    "    \"status\": {}\n",
    "}"
   ]
  },
  {
   "cell_type": "markdown",
   "id": "94449993",
   "metadata": {},
   "source": [
    "## Adding a Prediction Schema & Metadata\n",
    "Seldon Deploy has a model catalog where all deployed models are automatically registered. The model catalog can store custom metadata as well as prediction schemas for your models. \n",
    "\n",
    "Metadata promotes lineage from across different machine learning systems, aids knowledge transfer between teams, and allows for faster deployment. Meanwhile, prediction schemas allow Seldon Deploy to automatically profile tabular data into histograms, allowing for filtering on features to explore trends. \n",
    "\n",
    "In order to effectively construct a prediction schema Seldon has the [ML Prediction Schema](https://github.com/SeldonIO/ml-prediction-schema) project. The first step is to determine your datatypes. "
   ]
  },
  {
   "cell_type": "code",
   "execution_count": 54,
   "id": "28d7aac3",
   "metadata": {},
   "outputs": [
    {
     "data": {
      "text/plain": [
       "step                  int64\n",
       "type                  int64\n",
       "amount              float64\n",
       "oldBalanceOrig      float64\n",
       "newBalanceOrig      float64\n",
       "oldBalanceDest      float64\n",
       "newBalanceDest      float64\n",
       "errorBalanceOrig    float64\n",
       "errorBalanceDest    float64\n",
       "dtype: object"
      ]
     },
     "execution_count": 54,
     "metadata": {},
     "output_type": "execute_result"
    }
   ],
   "source": [
    "trainX.dtypes"
   ]
  },
  {
   "cell_type": "markdown",
   "id": "fde541bb",
   "metadata": {},
   "source": [
    "From this you can construct the prediction schema object below, which maps the data types to the requests and responses which the model returns. "
   ]
  },
  {
   "cell_type": "code",
   "execution_count": 9,
   "id": "3fc0f29f",
   "metadata": {},
   "outputs": [],
   "source": [
    "prediction_schema = {\n",
    "    \"requests\": [\n",
    "        {\n",
    "            \"name\": \"step\",\n",
    "            \"type\": \"REAL\",\n",
    "            \"data_type\": \"INT\"\n",
    "        },\n",
    "        {\n",
    "            \"name\": \"type\",\n",
    "            \"type\": \"REAL\",\n",
    "            \"data_type\": \"INT\"\n",
    "        },\n",
    "        {\n",
    "            \"name\": \"amount\",\n",
    "            \"type\": \"REAL\",\n",
    "            \"data_type\": \"FLOAT\"\n",
    "        },\n",
    "        {\n",
    "            \"name\": \"oldBalanceOrig\",\n",
    "            \"type\": \"REAL\",\n",
    "            \"data_type\": \"FLOAT\"\n",
    "        },\n",
    "        {\n",
    "            \"name\": \"newBalanceOrig\",\n",
    "            \"type\": \"REAL\",\n",
    "            \"data_type\": \"FLOAT\"\n",
    "        },\n",
    "        {\n",
    "            \"name\": \"oldBalanceDest\",\n",
    "            \"type\": \"REAL\",\n",
    "            \"data_type\": \"FLOAT\"\n",
    "        },\n",
    "        {\n",
    "            \"name\": \"newBalanceDest\",\n",
    "            \"type\": \"REAL\",\n",
    "            \"data_type\": \"FLOAT\"\n",
    "        },\n",
    "        {\n",
    "            \"name\": \"errorBalanceOrig\",\n",
    "            \"type\": \"REAL\",\n",
    "            \"data_type\": \"FLOAT\"\n",
    "        },\n",
    "        {\n",
    "            \"name\": \"errorBalanceDest\",\n",
    "            \"type\": \"REAL\",\n",
    "            \"data_type\": \"FLOAT\"\n",
    "        }\n",
    "    ],\n",
    "    \"responses\": [\n",
    "        {\n",
    "            \"name\": \"Likelihood of Fraud\",\n",
    "            \"type\": \"REAL\",\n",
    "            \"data_type\": \"FLOAT\"\n",
    "        }\n",
    "    ]\n",
    "}"
   ]
  },
  {
   "cell_type": "markdown",
   "id": "37cf9d55",
   "metadata": {},
   "source": [
    "You then add the prediction schema to the wider model catalog metadata. This includes information such as the model storage location, the name, who authored the model etc. The metadata tags and metrics which can be associated with a model are freeform and can therefore be determined based upon the use case which is being developed. "
   ]
  },
  {
   "cell_type": "code",
   "execution_count": 10,
   "id": "f3ee3004",
   "metadata": {},
   "outputs": [
    {
     "data": {
      "text/plain": [
       "{'URI': 'gs://tom-seldon-examples/fraud-workshop/models/josh-pretrained',\n",
       " 'name': 'fraud-model',\n",
       " 'version': 'v1.0',\n",
       " 'artifactType': 'XGBOOST',\n",
       " 'taskType': 'fraud classification',\n",
       " 'tags': {'auto_created': 'true', 'author': 'josh'},\n",
       " 'metrics': {},\n",
       " 'project': 'default',\n",
       " 'prediction_schema': {'requests': [{'name': 'step',\n",
       "    'type': 'REAL',\n",
       "    'data_type': 'INT'},\n",
       "   {'name': 'type', 'type': 'REAL', 'data_type': 'INT'},\n",
       "   {'name': 'amount', 'type': 'REAL', 'data_type': 'FLOAT'},\n",
       "   {'name': 'oldBalanceOrig', 'type': 'REAL', 'data_type': 'FLOAT'},\n",
       "   {'name': 'newBalanceOrig', 'type': 'REAL', 'data_type': 'FLOAT'},\n",
       "   {'name': 'oldBalanceDest', 'type': 'REAL', 'data_type': 'FLOAT'},\n",
       "   {'name': 'newBalanceDest', 'type': 'REAL', 'data_type': 'FLOAT'},\n",
       "   {'name': 'errorBalanceOrig', 'type': 'REAL', 'data_type': 'FLOAT'},\n",
       "   {'name': 'errorBalanceDest', 'type': 'REAL', 'data_type': 'FLOAT'}],\n",
       "  'responses': [{'name': 'Likelihood of Fraud',\n",
       "    'type': 'REAL',\n",
       "    'data_type': 'FLOAT'}]}}"
      ]
     },
     "execution_count": 10,
     "metadata": {},
     "output_type": "execute_result"
    }
   ],
   "source": [
    "model_catalog_metadata = {\n",
    "      \"URI\": MODEL_LOCATION,\n",
    "      \"name\": f\"{DEPLOYMENT_NAME}-model\",\n",
    "      \"version\": \"v1.0\",\n",
    "      \"artifactType\": \"XGBOOST\",\n",
    "      \"taskType\": \"fraud classification\",\n",
    "      \"tags\": {\n",
    "        \"auto_created\": \"true\",\n",
    "        \"author\": f\"{YOUR_NAME}\"\n",
    "      },\n",
    "      \"metrics\": {},\n",
    "      \"project\": \"default\",\n",
    "      \"prediction_schema\": prediction_schema\n",
    "    }\n",
    "\n",
    "model_catalog_metadata"
   ]
  },
  {
   "cell_type": "markdown",
   "id": "b17a25c1",
   "metadata": {},
   "source": [
    "Next, using the metadata API you can add this to the model which you have just created in Seldon."
   ]
  },
  {
   "cell_type": "code",
   "execution_count": 11,
   "id": "742bc19f",
   "metadata": {},
   "outputs": [
    {
     "data": {
      "text/plain": [
       "{}"
      ]
     },
     "execution_count": 11,
     "metadata": {},
     "output_type": "execute_result"
    }
   ],
   "source": [
    "metadata_api = ModelMetadataServiceApi(auth())\n",
    "metadata_api.model_metadata_service_update_model_metadata(model_catalog_metadata)"
   ]
  },
  {
   "cell_type": "markdown",
   "id": "2b9c4b87",
   "metadata": {},
   "source": [
    "You can then list the metadata via the API, or view it in the UI, to confirm that it has been successfully added to the model. "
   ]
  },
  {
   "cell_type": "code",
   "execution_count": 12,
   "id": "eb60524f",
   "metadata": {
    "scrolled": true
   },
   "outputs": [
    {
     "data": {
      "text/plain": [
       "{'models': [{'artifact_type': 'XGBOOST',\n",
       "             'creation_time': datetime.datetime(2022, 6, 14, 16, 2, 50, 154651, tzinfo=tzutc()),\n",
       "             'metrics': {},\n",
       "             'name': 'fraud-model',\n",
       "             'prediction_schema': {'requests': [{'category_map': {},\n",
       "                                                 'data_type': 'INT',\n",
       "                                                 'n_categories': '0',\n",
       "                                                 'name': 'step',\n",
       "                                                 'schema': [],\n",
       "                                                 'shape': [],\n",
       "                                                 'type': 'REAL'},\n",
       "                                                {'category_map': {},\n",
       "                                                 'data_type': 'INT',\n",
       "                                                 'n_categories': '0',\n",
       "                                                 'name': 'type',\n",
       "                                                 'schema': [],\n",
       "                                                 'shape': [],\n",
       "                                                 'type': 'REAL'},\n",
       "                                                {'category_map': {},\n",
       "                                                 'data_type': 'FLOAT',\n",
       "                                                 'n_categories': '0',\n",
       "                                                 'name': 'amount',\n",
       "                                                 'schema': [],\n",
       "                                                 'shape': [],\n",
       "                                                 'type': 'REAL'},\n",
       "                                                {'category_map': {},\n",
       "                                                 'data_type': 'FLOAT',\n",
       "                                                 'n_categories': '0',\n",
       "                                                 'name': 'oldBalanceOrig',\n",
       "                                                 'schema': [],\n",
       "                                                 'shape': [],\n",
       "                                                 'type': 'REAL'},\n",
       "                                                {'category_map': {},\n",
       "                                                 'data_type': 'FLOAT',\n",
       "                                                 'n_categories': '0',\n",
       "                                                 'name': 'newBalanceOrig',\n",
       "                                                 'schema': [],\n",
       "                                                 'shape': [],\n",
       "                                                 'type': 'REAL'},\n",
       "                                                {'category_map': {},\n",
       "                                                 'data_type': 'FLOAT',\n",
       "                                                 'n_categories': '0',\n",
       "                                                 'name': 'oldBalanceDest',\n",
       "                                                 'schema': [],\n",
       "                                                 'shape': [],\n",
       "                                                 'type': 'REAL'},\n",
       "                                                {'category_map': {},\n",
       "                                                 'data_type': 'FLOAT',\n",
       "                                                 'n_categories': '0',\n",
       "                                                 'name': 'newBalanceDest',\n",
       "                                                 'schema': [],\n",
       "                                                 'shape': [],\n",
       "                                                 'type': 'REAL'},\n",
       "                                                {'category_map': {},\n",
       "                                                 'data_type': 'FLOAT',\n",
       "                                                 'n_categories': '0',\n",
       "                                                 'name': 'errorBalanceOrig',\n",
       "                                                 'schema': [],\n",
       "                                                 'shape': [],\n",
       "                                                 'type': 'REAL'},\n",
       "                                                {'category_map': {},\n",
       "                                                 'data_type': 'FLOAT',\n",
       "                                                 'n_categories': '0',\n",
       "                                                 'name': 'errorBalanceDest',\n",
       "                                                 'schema': [],\n",
       "                                                 'shape': [],\n",
       "                                                 'type': 'REAL'}],\n",
       "                                   'responses': [{'category_map': {},\n",
       "                                                  'data_type': 'FLOAT',\n",
       "                                                  'n_categories': '0',\n",
       "                                                  'name': 'Likelihood of Fraud',\n",
       "                                                  'schema': [],\n",
       "                                                  'shape': [],\n",
       "                                                  'type': 'REAL'}]},\n",
       "             'project': 'default',\n",
       "             'tags': {'author': 'josh', 'auto_created': 'true'},\n",
       "             'task_type': 'fraud classification',\n",
       "             'uri': 'gs://tom-seldon-examples/fraud-workshop/models/josh-pretrained',\n",
       "             'version': 'v1.0'}],\n",
       " 'next_page_token': ''}"
      ]
     },
     "execution_count": 12,
     "metadata": {},
     "output_type": "execute_result"
    }
   ],
   "source": [
    "metadata_response = metadata_api.model_metadata_service_list_model_metadata(uri=MODEL_LOCATION)\n",
    "metadata_response"
   ]
  },
  {
   "cell_type": "markdown",
   "id": "124d37f0",
   "metadata": {},
   "source": [
    "You can now send requests to your model. As an example of a normal request:\n",
    "```\n",
    "{\n",
    "    \"data\": {\n",
    "        \"names\": [\"step\", \"type\", \"amount\", \"oldBalanceOrig\", \"newBalanceOrig\",\n",
    "                  \"oldBalanceDest\", \"newBalanceDest\", \"errorBalanceOrig\", \"errorBalanceDest\"],\n",
    "        \"ndarray\": [\n",
    "            [205, 1, 63243.44, -1.00, -1.00, 1853683.32, 1916926.76, 63243.44, 0]\n",
    "        ]\n",
    "    }\n",
    "}\n",
    "```\n",
    "And a fraudulent transaction too:\n",
    "\n",
    "```\n",
    "{\n",
    "    \"data\": {\n",
    "        \"names\": [\"step\", \"type\", \"amount\", \"oldBalanceOrig\", \"newBalanceOrig\",\n",
    "                  \"oldBalanceDest\", \"newBalanceDest\", \"errorBalanceOrig\", \"errorBalanceDest\"],\n",
    "        \"ndarray\": [\n",
    "            [629, 1, 2433009.28, 2433009.28, 0.00, 0.00, 2433009.28, 0.00, 0.00]\n",
    "        ]\n",
    "    }\n",
    "}\n",
    "```"
   ]
  },
  {
   "cell_type": "markdown",
   "id": "3b88995b",
   "metadata": {},
   "source": [
    "# Explainer\n",
    "Next, you will train an explainer to glean deeper insights into the decisions being made by your model. \n",
    "\n",
    "You will make use of the Anchors algorithm, which has a [production grade implementation available](https://docs.seldon.io/projects/alibi/en/stable/methods/Anchors.html) using the Seldon Alibi Explain library. \n",
    "\n",
    "The first step will be to write a simple prediction function which the explainer can call in order to query your XGBoost model. "
   ]
  },
  {
   "cell_type": "code",
   "execution_count": 36,
   "id": "9582a286",
   "metadata": {},
   "outputs": [],
   "source": [
    "def predict_fn(x):\n",
    "    return clf.predict_proba(x)"
   ]
  },
  {
   "cell_type": "markdown",
   "id": "ee1ef3c1",
   "metadata": {},
   "source": [
    "You then initialise your Anchor explainer, using the AnchorTabular flavour provided by Alibi due to your data modality. \n",
    "\n",
    "The AnchorTabular class expects the prediction function which you defined above, as well as a list of the feature names. You can find a sample notebook in the Alibi docs [here](https://docs.seldon.io/projects/alibi/en/stable/examples/anchor_tabular_adult.html). "
   ]
  },
  {
   "cell_type": "code",
   "execution_count": 37,
   "id": "2cb19ffe",
   "metadata": {},
   "outputs": [],
   "source": [
    "columns = list(trainX.columns)\n",
    "explainer = AnchorTabular(predict_fn, columns)"
   ]
  },
  {
   "cell_type": "markdown",
   "id": "a8fa4361",
   "metadata": {},
   "source": [
    "You now need to fit your explainer object around some data so that it can learn to generate explanations based upon said data. \n",
    "\n",
    "As the training set is highly imbalanced (only a tiny fraction of the datapoints are fraudulent transactions) you create a new balanced set which is 50/50 normal/fraud transactions. This helps you to generate descriptive and useful explanations for both fraudulent and normal transactions.*\n",
    "\n",
    "In the code block below you generate the new balanced set, and convert it to a numpy array as this is the type which Alibi expects. \n",
    "\n",
    "\\*It is possible to generate a working explainer based upon the original dataset, but the anchors it identifies are not specific when considering normal transactions. The empty anchor is only ever returned due to the skew in the dataset. "
   ]
  },
  {
   "cell_type": "code",
   "execution_count": 38,
   "id": "c0e70f95",
   "metadata": {},
   "outputs": [],
   "source": [
    "balanced_set = pd.concat([Xfraud, XnonFraud.iloc[:len(Xfraud)]]).to_numpy()"
   ]
  },
  {
   "cell_type": "markdown",
   "id": "12d325d3",
   "metadata": {},
   "source": [
    "You then fit our explainer to your newly balanced data set. "
   ]
  },
  {
   "cell_type": "code",
   "execution_count": 39,
   "id": "b6f9700c",
   "metadata": {},
   "outputs": [
    {
     "data": {
      "text/plain": [
       "AnchorTabular(meta={\n",
       "  'name': 'AnchorTabular',\n",
       "  'type': ['blackbox'],\n",
       "  'explanations': ['local'],\n",
       "  'params': {'seed': None, 'disc_perc': (25, 50, 75)},\n",
       "  'version': '0.6.4'}\n",
       ")"
      ]
     },
     "execution_count": 39,
     "metadata": {},
     "output_type": "execute_result"
    }
   ],
   "source": [
    "explainer.fit(balanced_set, disc_perc=(25, 50, 75)) "
   ]
  },
  {
   "cell_type": "markdown",
   "id": "b8516dbb",
   "metadata": {},
   "source": [
    "You can now test your explainer on the test set, and view the explanations it begins to generate. Feel free to change the value of `idx` to see how it impacts the explanation generated. "
   ]
  },
  {
   "cell_type": "code",
   "execution_count": 40,
   "id": "14ef5fbb",
   "metadata": {
    "scrolled": true
   },
   "outputs": [
    {
     "name": "stdout",
     "output_type": "stream",
     "text": [
      "Prediction:  Normal\n",
      "Anchor: errorBalanceOrig > 158355.32 AND newBalanceOrig <= 0.00\n",
      "Precision: 1.00\n",
      "Coverage: 0.25\n"
     ]
    }
   ],
   "source": [
    "idx = 10\n",
    "\n",
    "testX_array = testX.to_numpy()\n",
    "\n",
    "class_names = [\"Normal\", \"Fraudulent\"]\n",
    "print('Prediction: ', class_names[explainer.predictor(testX_array[idx].reshape(1, -1))[0]])\n",
    "\n",
    "explanation = explainer.explain(testX_array[idx], threshold=0.95)\n",
    "print('Anchor: %s' % (' AND '.join(explanation.anchor)))\n",
    "print('Precision: %.2f' % explanation.precision)\n",
    "print('Coverage: %.2f' % explanation.coverage)"
   ]
  },
  {
   "cell_type": "markdown",
   "id": "65d1eb89",
   "metadata": {},
   "source": [
    "Explicitly testing a fraudulent transaction. "
   ]
  },
  {
   "cell_type": "code",
   "execution_count": 41,
   "id": "6c6d8905",
   "metadata": {},
   "outputs": [
    {
     "name": "stdout",
     "output_type": "stream",
     "text": [
      "Prediction:  Fraudulent\n",
      "Anchor: errorBalanceOrig <= 0.00 AND amount > 731392.47\n",
      "Precision: 1.00\n",
      "Coverage: 0.20\n"
     ]
    }
   ],
   "source": [
    "print('Prediction: ', class_names[explainer.predictor(testX.loc[6272989].to_numpy().reshape(1, -1))[0]])\n",
    "\n",
    "explanation = explainer.explain(testX.loc[6272989].to_numpy(), threshold=0.95)\n",
    "print('Anchor: %s' % (' AND '.join(explanation.anchor)))\n",
    "print('Precision: %.2f' % explanation.precision)\n",
    "print('Coverage: %.2f' % explanation.coverage)"
   ]
  },
  {
   "cell_type": "markdown",
   "id": "5048d98d",
   "metadata": {},
   "source": [
    "You now save your explainer, and upload it to the GS bucket. You can use the explainer's built-in save method to do this easily and reproducibly. "
   ]
  },
  {
   "cell_type": "code",
   "execution_count": 42,
   "id": "0f6dde9c",
   "metadata": {},
   "outputs": [],
   "source": [
    "explainer.save(\"fraud-explainer\")"
   ]
  },
  {
   "cell_type": "code",
   "execution_count": 43,
   "id": "19f3a7a1",
   "metadata": {
    "scrolled": true
   },
   "outputs": [
    {
     "name": "stdout",
     "output_type": "stream",
     "text": [
      "Copying file://fraud-explainer/explainer.dill [Content-Type=application/octet-stream]...\n",
      "==> NOTE: You are uploading one or more large file(s), which would run          \n",
      "significantly faster if you enable parallel composite uploads. This\n",
      "feature can be enabled by editing the\n",
      "\"parallel_composite_upload_threshold\" value in your .boto\n",
      "configuration file. However, note that if you do this large files will\n",
      "be uploaded as `composite objects\n",
      "<https://cloud.google.com/storage/docs/composite-objects>`_,which\n",
      "means that any user who downloads such objects will need to have a\n",
      "compiled crcmod installed (see \"gsutil help crcmod\"). This is because\n",
      "without a compiled crcmod, computing checksums on composite objects is\n",
      "so slow that gsutil disables downloads of composite objects.\n",
      "\n",
      "Copying file://fraud-explainer/meta.dill [Content-Type=application/octet-stream]...\n",
      "| [2 files][191.6 MiB/191.6 MiB]    8.1 MiB/s                                   \n",
      "Operation completed over 2 objects/191.6 MiB.                                    \n"
     ]
    }
   ],
   "source": [
    "!gsutil cp -r fraud-explainer gs://tom-seldon-examples/fraud-workshop/models/josh-pretrained/fraud-explainer"
   ]
  },
  {
   "cell_type": "markdown",
   "id": "ca4dfc54",
   "metadata": {},
   "source": [
    "## Deploying the Explainer\n",
    "\n",
    "You can now deploy our explainer alongside our model. First you define the explainer configuration. "
   ]
  },
  {
   "cell_type": "code",
   "execution_count": 5,
   "id": "f4bcdce0",
   "metadata": {},
   "outputs": [],
   "source": [
    "EXPLAINER_TYPE = \"AnchorTabular\"\n",
    "EXPLAINER_URI = \"gs://tom-seldon-examples/fraud-workshop/models/josh-pretrained/fraud-explainer\"\n",
    "\n",
    "explainer_spec = {\n",
    "                    \"type\": EXPLAINER_TYPE,\n",
    "                    \"modelUri\": EXPLAINER_URI,\n",
    "                    \"containerSpec\": {\n",
    "                        \"name\": \"\",\n",
    "                        \"resources\": {}\n",
    "                    }\n",
    "                }"
   ]
  },
  {
   "cell_type": "markdown",
   "id": "d17064a7",
   "metadata": {},
   "source": [
    "You can then insert this additional configuration into your original `mldeployment` specification which you defined earlier. "
   ]
  },
  {
   "cell_type": "code",
   "execution_count": 6,
   "id": "8d64948a",
   "metadata": {},
   "outputs": [
    {
     "data": {
      "text/plain": [
       "{'kind': 'SeldonDeployment',\n",
       " 'metadata': {'name': 'fraud-josh',\n",
       "  'namespace': 'seldon-demos',\n",
       "  'labels': {'fluentd': 'true'}},\n",
       " 'apiVersion': 'machinelearning.seldon.io/v1alpha2',\n",
       " 'spec': {'name': 'fraud',\n",
       "  'annotations': {'seldon.io/engine-seldon-log-messages-externally': 'true'},\n",
       "  'protocol': 'seldon',\n",
       "  'transport': 'rest',\n",
       "  'predictors': [{'componentSpecs': [{'spec': {'containers': [{'name': 'fraud-container',\n",
       "         'resources': {'requests': {'cpu': '1', 'memory': '1Gi'},\n",
       "          'limits': {'cpu': '1', 'memory': '1Gi'}}}]}}],\n",
       "    'name': 'default',\n",
       "    'replicas': 1,\n",
       "    'traffic': 100,\n",
       "    'graph': {'implementation': 'XGBOOST_SERVER',\n",
       "     'modelUri': 'gs://tom-seldon-examples/fraud-workshop/models/josh-pretrained',\n",
       "     'name': 'fraud-container',\n",
       "     'endpoint': {'type': 'REST'},\n",
       "     'parameters': [],\n",
       "     'children': [],\n",
       "     'logger': {'mode': 'all'}},\n",
       "    'explainer': {'type': 'AnchorTabular',\n",
       "     'modelUri': 'gs://tom-seldon-examples/fraud-workshop/models/josh-pretrained/fraud-explainer',\n",
       "     'containerSpec': {'name': '', 'resources': {}}}}]},\n",
       " 'status': {}}"
      ]
     },
     "execution_count": 6,
     "metadata": {},
     "output_type": "execute_result"
    }
   ],
   "source": [
    "mldeployment['spec']['predictors'][0]['explainer'] = explainer_spec\n",
    "mldeployment"
   ]
  },
  {
   "cell_type": "markdown",
   "id": "7c953922",
   "metadata": {},
   "source": [
    "You then deploy the explainer to the Seldon Deploy cluster!"
   ]
  },
  {
   "cell_type": "code",
   "execution_count": 7,
   "id": "48439dce",
   "metadata": {},
   "outputs": [
    {
     "data": {
      "text/plain": [
       "{'api_version': 'machinelearning.seldon.io/v1alpha2',\n",
       " 'kind': 'SeldonDeployment',\n",
       " 'metadata': {'annotations': None,\n",
       "              'cluster_name': None,\n",
       "              'creation_timestamp': None,\n",
       "              'deletion_grace_period_seconds': None,\n",
       "              'deletion_timestamp': None,\n",
       "              'finalizers': None,\n",
       "              'generate_name': None,\n",
       "              'generation': None,\n",
       "              'labels': {'fluentd': 'true'},\n",
       "              'managed_fields': None,\n",
       "              'name': 'fraud-josh',\n",
       "              'namespace': 'seldon-demos',\n",
       "              'owner_references': None,\n",
       "              'resource_version': None,\n",
       "              'self_link': None,\n",
       "              'uid': None},\n",
       " 'spec': {'annotations': {'seldon.io/engine-seldon-log-messages-externally': 'true'},\n",
       "          'name': 'fraud',\n",
       "          'oauth_key': None,\n",
       "          'oauth_secret': None,\n",
       "          'predictors': [{'annotations': None,\n",
       "                          'component_specs': [{'hpa_spec': None,\n",
       "                                               'keda_spec': None,\n",
       "                                               'metadata': {'annotations': None,\n",
       "                                                            'cluster_name': None,\n",
       "                                                            'creation_timestamp': '2022-06-14T16:32:15Z',\n",
       "                                                            'deletion_grace_period_seconds': None,\n",
       "                                                            'deletion_timestamp': None,\n",
       "                                                            'finalizers': None,\n",
       "                                                            'generate_name': None,\n",
       "                                                            'generation': None,\n",
       "                                                            'labels': None,\n",
       "                                                            'managed_fields': None,\n",
       "                                                            'name': None,\n",
       "                                                            'namespace': None,\n",
       "                                                            'owner_references': None,\n",
       "                                                            'resource_version': None,\n",
       "                                                            'self_link': None,\n",
       "                                                            'uid': None},\n",
       "                                               'pdb_spec': None,\n",
       "                                               'replicas': None,\n",
       "                                               'spec': {'active_deadline_seconds': None,\n",
       "                                                        'affinity': None,\n",
       "                                                        'automount_service_account_token': None,\n",
       "                                                        'containers': [{'args': None,\n",
       "                                                                        'command': None,\n",
       "                                                                        'env': None,\n",
       "                                                                        'env_from': None,\n",
       "                                                                        'image': None,\n",
       "                                                                        'image_pull_policy': None,\n",
       "                                                                        'lifecycle': None,\n",
       "                                                                        'liveness_probe': None,\n",
       "                                                                        'name': 'fraud-container',\n",
       "                                                                        'ports': None,\n",
       "                                                                        'readiness_probe': None,\n",
       "                                                                        'resources': {'limits': {'cpu': '1',\n",
       "                                                                                                 'memory': '1Gi'},\n",
       "                                                                                      'requests': {'cpu': '1',\n",
       "                                                                                                   'memory': '1Gi'}},\n",
       "                                                                        'security_context': None,\n",
       "                                                                        'startup_probe': None,\n",
       "                                                                        'stdin': None,\n",
       "                                                                        'stdin_once': None,\n",
       "                                                                        'termination_message_path': None,\n",
       "                                                                        'termination_message_policy': None,\n",
       "                                                                        'tty': None,\n",
       "                                                                        'volume_devices': None,\n",
       "                                                                        'volume_mounts': None,\n",
       "                                                                        'working_dir': None}],\n",
       "                                                        'dns_config': None,\n",
       "                                                        'dns_policy': None,\n",
       "                                                        'enable_service_links': None,\n",
       "                                                        'ephemeral_containers': None,\n",
       "                                                        'host_aliases': None,\n",
       "                                                        'host_ipc': None,\n",
       "                                                        'host_network': None,\n",
       "                                                        'host_pid': None,\n",
       "                                                        'hostname': None,\n",
       "                                                        'image_pull_secrets': None,\n",
       "                                                        'init_containers': None,\n",
       "                                                        'node_name': None,\n",
       "                                                        'node_selector': None,\n",
       "                                                        'overhead': None,\n",
       "                                                        'preemption_policy': None,\n",
       "                                                        'priority': None,\n",
       "                                                        'priority_class_name': None,\n",
       "                                                        'readiness_gates': None,\n",
       "                                                        'restart_policy': None,\n",
       "                                                        'runtime_class_name': None,\n",
       "                                                        'scheduler_name': None,\n",
       "                                                        'security_context': None,\n",
       "                                                        'service_account': None,\n",
       "                                                        'service_account_name': None,\n",
       "                                                        'set_hostname_as_fqdn': None,\n",
       "                                                        'share_process_namespace': None,\n",
       "                                                        'subdomain': None,\n",
       "                                                        'termination_grace_period_seconds': None,\n",
       "                                                        'tolerations': None,\n",
       "                                                        'topology_spread_constraints': None,\n",
       "                                                        'volumes': None}}],\n",
       "                          'engine_resources': {'limits': None,\n",
       "                                               'requests': None},\n",
       "                          'explainer': {'config': None,\n",
       "                                        'container_spec': {'args': None,\n",
       "                                                           'command': None,\n",
       "                                                           'env': None,\n",
       "                                                           'env_from': None,\n",
       "                                                           'image': None,\n",
       "                                                           'image_pull_policy': None,\n",
       "                                                           'lifecycle': None,\n",
       "                                                           'liveness_probe': None,\n",
       "                                                           'name': '',\n",
       "                                                           'ports': None,\n",
       "                                                           'readiness_probe': None,\n",
       "                                                           'resources': {'limits': None,\n",
       "                                                                         'requests': None},\n",
       "                                                           'security_context': None,\n",
       "                                                           'startup_probe': None,\n",
       "                                                           'stdin': None,\n",
       "                                                           'stdin_once': None,\n",
       "                                                           'termination_message_path': None,\n",
       "                                                           'termination_message_policy': None,\n",
       "                                                           'tty': None,\n",
       "                                                           'volume_devices': None,\n",
       "                                                           'volume_mounts': None,\n",
       "                                                           'working_dir': None},\n",
       "                                        'endpoint': None,\n",
       "                                        'env_secret_ref_name': None,\n",
       "                                        'init_parameters': None,\n",
       "                                        'model_uri': 'gs://tom-seldon-examples/fraud-workshop/models/josh-pretrained/fraud-explainer',\n",
       "                                        'replicas': None,\n",
       "                                        'service_account_name': None,\n",
       "                                        'storage_initializer_image': None,\n",
       "                                        'type': 'AnchorTabular'},\n",
       "                          'graph': {'children': None,\n",
       "                                    'endpoint': {'grpc_port': None,\n",
       "                                                 'http_port': None,\n",
       "                                                 'service_host': None,\n",
       "                                                 'service_port': None,\n",
       "                                                 'type': 'REST'},\n",
       "                                    'env_secret_ref_name': None,\n",
       "                                    'implementation': 'XGBOOST_SERVER',\n",
       "                                    'logger': {'mode': 'all', 'url': None},\n",
       "                                    'methods': None,\n",
       "                                    'model_uri': 'gs://tom-seldon-examples/fraud-workshop/models/josh-pretrained',\n",
       "                                    'name': 'fraud-container',\n",
       "                                    'parameters': None,\n",
       "                                    'service_account_name': None,\n",
       "                                    'storage_initializer_image': None,\n",
       "                                    'type': None},\n",
       "                          'labels': None,\n",
       "                          'name': 'default',\n",
       "                          'replicas': 1,\n",
       "                          'shadow': None,\n",
       "                          'ssl': None,\n",
       "                          'svc_orch_spec': {'env': None,\n",
       "                                            'replicas': None,\n",
       "                                            'resources': None},\n",
       "                          'traffic': 100}],\n",
       "          'protocol': 'seldon',\n",
       "          'replicas': None,\n",
       "          'server_type': None,\n",
       "          'transport': 'rest'},\n",
       " 'status': {'address': None,\n",
       "            'annotations': None,\n",
       "            'conditions': None,\n",
       "            'deployment_status': None,\n",
       "            'description': None,\n",
       "            'observed_generation': None,\n",
       "            'replicas': None,\n",
       "            'service_status': None,\n",
       "            'state': None}}"
      ]
     },
     "execution_count": 7,
     "metadata": {},
     "output_type": "execute_result"
    }
   ],
   "source": [
    "deployment_api = SeldonDeploymentsApi(auth())\n",
    "deployment_api.create_seldon_deployment(namespace=NAMESPACE, mldeployment=mldeployment)"
   ]
  },
  {
   "cell_type": "markdown",
   "id": "9c988a0f",
   "metadata": {},
   "source": [
    "You can now use the same example requests as before to generate both a prediction and then a subsequent explanation. \n",
    "\n",
    "An example of a normal request:\n",
    "```\n",
    "{\n",
    "    \"data\": {\n",
    "        \"names\": [\"step\", \"type\", \"amount\", \"oldBalanceOrig\", \"newBalanceOrig\",\n",
    "                  \"oldBalanceDest\", \"newBalanceDest\", \"errorBalanceOrig\", \"errorBalanceDest\"],\n",
    "        \"ndarray\": [\n",
    "            [205, 1, 63243.44, -1.00, -1.00, 1853683.32, 1916926.76, 63243.44, 0]\n",
    "        ]\n",
    "    }\n",
    "}\n",
    "```\n",
    "A fraudulent transaction:\n",
    "\n",
    "```\n",
    "{\n",
    "    \"data\": {\n",
    "        \"names\": [\"step\", \"type\", \"amount\", \"oldBalanceOrig\", \"newBalanceOrig\",\n",
    "                  \"oldBalanceDest\", \"newBalanceDest\", \"errorBalanceOrig\", \"errorBalanceDest\"],\n",
    "        \"ndarray\": [\n",
    "            [629.0, 1.0, 2433009.28, 2433009.28, 0.0, 0.0, 2433009.28, 0.0, 0.0]\n",
    "        ]\n",
    "    }\n",
    "}\n",
    "```"
   ]
  },
  {
   "cell_type": "markdown",
   "id": "159200d4",
   "metadata": {},
   "source": [
    "# Drift Detection\n",
    "\n",
    "In this example you will use Alibi Detect to train a custom drift detector which can flag when the underlying input data distribution has shifted. This can inform decisions about re-training or prompt deeper investigation into data/model behaviours.\n",
    "\n",
    "Seldon Deploy also allows you to setup alerts when drift is detected.\n",
    "\n",
    "In this example you will use the Maximum Mean Discrepancy method. Covariate or input drift detection relies on creating a distance measure between two distributions; a reference distribution and a new distribution. The MMD drift detector is no different; the mean embeddings of your features are used to generate the distributions and then the distance between them is measured. The training data is used to calculate the reference distribution, while the new distribution comes from your inference data.\n",
    "\n",
    "More technically, a reproducing kernel Hilbert space is used to generate the mean embeddings, by mapping the highly complex feature space within which most machine learning models operate to a linear Euclidean space. A radial basis function kernel is then used to measure the distance between the two embeddings, and the signifiance of the drift is calculated as a p-value using permutation/resampling tests. More details can be found here.\n",
    "\n",
    "In this case you will train your drift detector on a sample of 5000 instances from the training set. This has been picked for convenience and speed of training in the workshop, and if this was a production case you would likely want to use the entirety of the training set, or a statistically significant segment."
   ]
  },
  {
   "cell_type": "code",
   "execution_count": 46,
   "id": "f5f8ef14",
   "metadata": {},
   "outputs": [],
   "source": [
    "cd = MMDDrift(trainX.iloc[:5000].to_numpy(), backend='tensorflow', p_val=.05)"
   ]
  },
  {
   "cell_type": "markdown",
   "id": "4fdea657",
   "metadata": {},
   "source": [
    "Once you have successfully trained your drift detector you can send it batches of data from the test set and test whether or not drift has occurred. "
   ]
  },
  {
   "cell_type": "code",
   "execution_count": 47,
   "id": "232dbc2a",
   "metadata": {},
   "outputs": [
    {
     "data": {
      "text/plain": [
       "{'data': {'is_drift': 0,\n",
       "  'distance': -0.0014183521,\n",
       "  'p_val': 0.63,\n",
       "  'threshold': 0.05,\n",
       "  'distance_threshold': 0.007285416},\n",
       " 'meta': {'name': 'MMDDriftTF',\n",
       "  'detector_type': 'offline',\n",
       "  'data_type': None,\n",
       "  'version': '0.8.1',\n",
       "  'backend': 'tensorflow'}}"
      ]
     },
     "execution_count": 47,
     "metadata": {},
     "output_type": "execute_result"
    }
   ],
   "source": [
    "preds = cd.predict(testX.iloc[100:200].to_numpy(), return_p_val=True, return_distance=True)\n",
    "preds"
   ]
  },
  {
   "cell_type": "markdown",
   "id": "6b2b00d0",
   "metadata": {},
   "source": [
    "You can then save the drift detector, and upload it to the GS bucket. "
   ]
  },
  {
   "cell_type": "code",
   "execution_count": 48,
   "id": "16ae99b2",
   "metadata": {},
   "outputs": [
    {
     "name": "stderr",
     "output_type": "stream",
     "text": [
      "Directory fraud-drift-detector does not exist and is now created.\n"
     ]
    }
   ],
   "source": [
    "save_detector(cd, \"fraud-drift-detector\")"
   ]
  },
  {
   "cell_type": "code",
   "execution_count": 49,
   "id": "b310e7a4",
   "metadata": {},
   "outputs": [
    {
     "name": "stdout",
     "output_type": "stream",
     "text": [
      "Copying file://fraud-drift-detector/meta.dill [Content-Type=application/octet-stream]...\n",
      "Copying file://fraud-drift-detector/MMDDriftTF.dill [Content-Type=application/octet-stream]...\n",
      "- [2 files][352.2 KiB/352.2 KiB]                                                \n",
      "Operation completed over 2 objects/352.2 KiB.                                    \n"
     ]
    }
   ],
   "source": [
    "!gsutil cp -r fraud-drift-detector gs://tom-seldon-examples/fraud-workshop/models/josh-pretrained/fraud-drift-detector"
   ]
  },
  {
   "cell_type": "markdown",
   "id": "9acc7b73",
   "metadata": {},
   "source": [
    "To deploy the drift detector you will use Seldon Deploy's user interface. Simply navigate to your deployment, and select the \"Create\" button for your drift detector. \n",
    "\n",
    "This will bring up a form. Add your detector name, the URI which will be `gs://tom-seldon-examples/fraud-workshop/models/josh-pretrained/fraud-drift-detector`, and set a batch size of **10**. \n",
    "\n",
    "The batch size configuration sets how many data points have to be sent to the endpoint before drift is calculated."
   ]
  },
  {
   "cell_type": "markdown",
   "id": "441a68a7",
   "metadata": {},
   "source": [
    "# Batch Job\n",
    "The simplest way to test that your drift detector and prediction schema are behaving correctly is to kick off a batch job. \n",
    "\n",
    "There is already a pre-prepared batch of data stored in a Minio bucket which Seldon can access, therefore all you have to do is provide the configuration which is outlined below. This shows all of the available parameters which can be changed, but not all are required and are shown for educational purposes. "
   ]
  },
  {
   "cell_type": "code",
   "execution_count": null,
   "id": "f3573231",
   "metadata": {},
   "outputs": [],
   "source": [
    "workflow = BatchJobDefinition(\n",
    "    batch_data_type='data',\n",
    "    batch_gateway_endpoint='fraud-detector-test-default.seldon-gitops.svc.cluster.local:8000',\n",
    "    batch_gateway_type='seldon',\n",
    "    batch_interval=0.0,\n",
    "    batch_method='predict',\n",
    "    batch_payload_type='ndarray',\n",
    "    batch_retries='3',\n",
    "    batch_size=0,\n",
    "    batch_transport_protocol='rest',\n",
    "    batch_workers='1',\n",
    "    input_data='minio://batch/fraud-batch.txt',\n",
    "    object_store_secret_name='minio-bucket',\n",
    "    output_data='minio://batch/api-fraud-batch-results.txt',\n",
    "    pvc_size='1Gi'\n",
    ")"
   ]
  },
  {
   "cell_type": "markdown",
   "id": "f075abfa",
   "metadata": {},
   "source": [
    "You can then pass the above configuration to the batch job API and kick it off. "
   ]
  },
  {
   "cell_type": "code",
   "execution_count": null,
   "id": "d6b6d798",
   "metadata": {},
   "outputs": [],
   "source": [
    "batch_api = BatchJobsApi(auth())\n",
    "batch_api.create_seldon_deployment_batch_job(DEPLOYMENT_NAME, NAMESPACE, workflow)"
   ]
  },
  {
   "cell_type": "markdown",
   "id": "e501f49e",
   "metadata": {},
   "source": [
    "You can then list the status of the batch job as below. "
   ]
  },
  {
   "cell_type": "code",
   "execution_count": null,
   "id": "156bddbe",
   "metadata": {
    "scrolled": true
   },
   "outputs": [],
   "source": [
    "batch_api.list_seldon_deployment_batch_jobs(DEPLOYMENT_NAME, NAMESPACE)"
   ]
  },
  {
   "cell_type": "markdown",
   "id": "8588b62c",
   "metadata": {},
   "source": [
    "Once the batch job has completed you should be able to see profiles of data in the \"Feature Distributions\" monitoring screen, as well as instances of drift on the \"Drift Detection\" monitoring screen. "
   ]
  },
  {
   "cell_type": "markdown",
   "id": "8d3076e1",
   "metadata": {},
   "source": [
    "# Congratulations!\n",
    "\n",
    "Thank you for sticking it out to the end of the workshop! \n",
    "\n",
    "As a recap you have done the following: \n",
    "1. Cleaned and explored a set of transaction data.\n",
    "2. Trained an XGBoost model to distinguish between normal and fraudulent payments. \n",
    "3. Added metadata and a prediction schema. \n",
    "4. Trained and deployed a drift detector to understand when your data changes. \n",
    "5. Added an explainer to gain deeper insights into the model's behaviour!\n",
    "\n",
    "Not a bad list. Well done, you!"
   ]
  }
 ],
 "metadata": {
  "interpreter": {
   "hash": "a64daf48265175ab4f9e3b4f218504d1fb45289ba63ff66be172e6ba46f72957"
  },
  "kernelspec": {
   "display_name": "Python 3.9.7 ('data-science')",
   "language": "python",
   "name": "python3"
  },
  "language_info": {
   "codemirror_mode": {
    "name": "ipython",
    "version": 3
   },
   "file_extension": ".py",
   "mimetype": "text/x-python",
   "name": "python",
   "nbconvert_exporter": "python",
   "pygments_lexer": "ipython3",
   "version": "3.9.7"
  }
 },
 "nbformat": 4,
 "nbformat_minor": 5
}
