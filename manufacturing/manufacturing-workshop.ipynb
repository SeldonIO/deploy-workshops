{
 "cells": [
  {
   "cell_type": "markdown",
   "metadata": {},
   "source": [
    "# Hands-On Image Workshop: *Detecting Defects in Steel Strips Using Computer Vision* \n",
    "\n",
    "Within this hands-on workshop you will use a two different convolutional neural networks (CNNs) to classify different types of defects commonly found in steel strips. \n",
    "\n",
    "(And, if you're anything like the author you'll what on Earth defects in steel strips even look like!)\n",
    "\n",
    "The steps which you will carry out are: \n",
    "1. Load the data\n",
    "2. Perform some data exploration and visualisation\n",
    "3. Build a couple of different CNNs and deploy these to Seldon\n",
    "4. Add metadata to your newly created models\n",
    "5. Create a drift detector and once again create this on Seldon\n",
    "\n",
    "The model training code has been adapted from this blog post by `franky` on Medium: [Deep Learning, Computer Vision, and Automated Optical Inspection](https://towardsdatascience.com/deep-learning-computer-vision-and-automated-optical-inspection-774e8ca529d3)"
   ]
  },
  {
   "cell_type": "markdown",
   "metadata": {},
   "source": [
    "Before you begin you will install/import the necessary dependencies to interact with Seldon Deplay and create your models and monitoring components."
   ]
  },
  {
   "cell_type": "code",
   "execution_count": null,
   "metadata": {
    "scrolled": true
   },
   "outputs": [],
   "source": [
    "# Colab has a load of packages pre-loaded into the environment. \n",
    "# Installing the additional ones we require.\n",
    "!pip install seldon_deploy_sdk\n",
    "!pip install alibi_detect==0.6.1\n",
    "!pip install dill\n",
    "!pip install tensorflow==2.4.4"
   ]
  },
  {
   "cell_type": "code",
   "execution_count": 1,
   "metadata": {},
   "outputs": [
    {
     "name": "stderr",
     "output_type": "stream",
     "text": [
      "2022-02-25 12:14:28.191185: I tensorflow/core/platform/cpu_feature_guard.cc:151] This TensorFlow binary is optimized with oneAPI Deep Neural Network Library (oneDNN) to use the following CPU instructions in performance-critical operations:  AVX2 AVX512F FMA\n",
      "To enable them in other operations, rebuild TensorFlow with the appropriate compiler flags.\n"
     ]
    }
   ],
   "source": [
    "# General Packages\n",
    "import os\n",
    "import logging\n",
    "import json\n",
    "import numpy as np\n",
    "import dill\n",
    "import matplotlib.pyplot as plt\n",
    "from functools import partial\n",
    "\n",
    "# Model Building\n",
    "import tensorflow as tf\n",
    "from tensorflow.keras.preprocessing.image import ImageDataGenerator, load_img, img_to_array\n",
    "from tensorflow.keras.models import Sequential, load_model\n",
    "from tensorflow.keras.layers import Conv2D, Conv2DTranspose, Dense, Layer, Reshape, InputLayer, GlobalAveragePooling2D, Flatten\n",
    "from tensorflow.keras import layers\n",
    "from tensorflow.keras.applications.inception_v3 import InceptionV3\n",
    "from tensorflow.keras.models import Model\n",
    "\n",
    "# Explainer\n",
    "from alibi.explainers import AnchorImage\n",
    "from skimage import color\n",
    "from skimage import morphology\n",
    "from skimage import segmentation\n",
    "\n",
    "# Outlier Detection\n",
    "from alibi_detect.models.tensorflow.losses import elbo\n",
    "from alibi_detect.od import OutlierVAE\n",
    "from alibi_detect.utils.fetching import fetch_detector\n",
    "from alibi_detect.utils.perturbation import apply_mask\n",
    "from alibi_detect.utils.saving import save_detector, load_detector\n",
    "from alibi_detect.utils.visualize import plot_instance_score, plot_feature_outlier_image\n",
    "\n",
    "# Drift Detection\n",
    "from alibi_detect.cd import MMDDrift\n",
    "from alibi_detect.cd.tensorflow import preprocess_drift\n",
    "from alibi_detect.utils.saving import save_detector, load_detector\n",
    "\n",
    "# Seldon Deploy SDK\n",
    "from seldon_deploy_sdk import Configuration, ApiClient, SeldonDeploymentsApi, OutlierDetectorApi, DriftDetectorApi, ModelMetadataServiceApi\n",
    "from seldon_deploy_sdk.auth import OIDCAuthenticator\n",
    "\n",
    "# Logging and Clearing Session\n",
    "tf.keras.backend.clear_session()\n",
    "logger = tf.get_logger()\n",
    "logger.setLevel(logging.ERROR)"
   ]
  },
  {
   "cell_type": "markdown",
   "metadata": {},
   "source": [
    "Once the Python dependencies have been installed and imported you can download the training and testing data. This will take approximately 2 minutes. "
   ]
  },
  {
   "cell_type": "code",
   "execution_count": null,
   "metadata": {},
   "outputs": [],
   "source": [
    "!wget https://storage.googleapis.com/tom-seldon-examples/workshops/manufactoring/data.zip\n",
    "!mkdir data\n",
    "!unzip -o 'data.zip' -d data"
   ]
  },
  {
   "cell_type": "markdown",
   "metadata": {},
   "source": [
    "## Data Exploration\n",
    "\n",
    "Loading the data into memory, as Keras `ImageDataGenerator` objects."
   ]
  },
  {
   "cell_type": "code",
   "execution_count": 2,
   "metadata": {},
   "outputs": [
    {
     "name": "stdout",
     "output_type": "stream",
     "text": [
      "Found 1440 images belonging to 6 classes.\n"
     ]
    }
   ],
   "source": [
    "train_datagen = ImageDataGenerator(rescale=1/255)\n",
    "data_dir='data/train/images/'\n",
    "train_ds = train_datagen.flow_from_directory(\n",
    "    directory = data_dir,\n",
    "    target_size = (224, 224),\n",
    "    batch_size = 32,\n",
    "    class_mode = 'categorical'\n",
    ")"
   ]
  },
  {
   "cell_type": "code",
   "execution_count": 3,
   "metadata": {},
   "outputs": [
    {
     "name": "stdout",
     "output_type": "stream",
     "text": [
      "Found 360 images belonging to 6 classes.\n"
     ]
    }
   ],
   "source": [
    "val_datagen = ImageDataGenerator(rescale=1/255)\n",
    "data_dir='data/validation/images/'\n",
    "val_ds = train_datagen.flow_from_directory(\n",
    "    directory = data_dir,\n",
    "    target_size = (224, 224),\n",
    "    batch_size = 32,\n",
    "    class_mode = 'categorical'\n",
    ")"
   ]
  },
  {
   "cell_type": "markdown",
   "metadata": {},
   "source": [
    "The dataset has 6 classes which you can view below by loading them into the `categories` dictionary. "
   ]
  },
  {
   "cell_type": "code",
   "execution_count": 4,
   "metadata": {
    "scrolled": true
   },
   "outputs": [
    {
     "data": {
      "text/plain": [
       "{0: 'crazing',\n",
       " 1: 'inclusion',\n",
       " 2: 'patches',\n",
       " 3: 'pitted_surface',\n",
       " 4: 'rolled-in_scale',\n",
       " 5: 'scratches'}"
      ]
     },
     "execution_count": 4,
     "metadata": {},
     "output_type": "execute_result"
    }
   ],
   "source": [
    "categories = (train_ds.class_indices)\n",
    "categories = dict((v,k) for k,v in categories.items())\n",
    "categories"
   ]
  },
  {
   "cell_type": "markdown",
   "metadata": {},
   "source": [
    "You can readily visualise a sample image to start to gain an understanding of the data you are working with."
   ]
  },
  {
   "cell_type": "code",
   "execution_count": null,
   "metadata": {},
   "outputs": [],
   "source": [
    "example_image = train_ds.next()[0][0]\n",
    "print(example_image.shape)\n",
    "plt.imshow(example_image[:,:])"
   ]
  },
  {
   "cell_type": "markdown",
   "metadata": {},
   "source": [
    "As you can see above; the images you'll be working with are 3 things: \n",
    "1. Relatively small, only 224 x 224 pixels. \n",
    "2. In colour as they have 3 channels, but appear greyscale. \n",
    "3. Pretty boring to look at!\n",
    "\n",
    "The image below shows a wider variety of the types of image which are available within the dataset. \n",
    "\n",
    "![steel photo examples](https://raw.githubusercontent.com/SeldonIO/deploy-workshops/master/manufacturing/assets/steel_images.jpeg \"Title\")"
   ]
  },
  {
   "cell_type": "markdown",
   "metadata": {},
   "source": [
    "## Building the Models\n",
    "\n",
    "Now that the data is loaded in and you have had the chance to explore and get to grips with it, you can turn your attention to model building. \n",
    "\n",
    "You will build and work on 2 separate models: \n",
    "1. Training from scratch a simple hand crafted architecture, using 3 convolutional layers. \n",
    "2. Fine tuning an InceptionV3 model which has been pre-trained on the ImageNet dataset. \n",
    "\n",
    "Once these models have been created you are going to deploy them alongside one another as a canary deployment via the Seldon Deploy SDK. \n",
    "\n",
    "Prior to beginning the building efforts create a simple callback which will stop training early if the validation accuracy breaks 90%. "
   ]
  },
  {
   "cell_type": "code",
   "execution_count": null,
   "metadata": {},
   "outputs": [],
   "source": [
    "class myCallback(tf.keras.callbacks.Callback):\n",
    "    def on_epoch_end(self, epoch, logs={}):\n",
    "        if(logs.get('val_accuracy') > 0.90 ):\n",
    "            print(\"\\nReached 90% validation accuracy so cancelling training!\")\n",
    "            self.model.stop_training = True \n",
    "            \n",
    "callbacks = myCallback()"
   ]
  },
  {
   "cell_type": "markdown",
   "metadata": {},
   "source": [
    "### Model 1: *Simple CNN*\n",
    "\n",
    "Using Keras it is straightforward to define the CNN architecture, and this should be familiar if you have worked with CNNs before. \n",
    "\n",
    "Your neural network has three convolutional layers, each with 32 channels and a 3\\*3 convolution. \n",
    "\n",
    "Looking at the model summary you can see the network has a total of approximately 11 million parameters. "
   ]
  },
  {
   "cell_type": "code",
   "execution_count": null,
   "metadata": {},
   "outputs": [],
   "source": [
    "simple_cnn = tf.keras.models.Sequential([\n",
    "    tf.keras.layers.Conv2D(32, (3, 3), activation='relu', input_shape=(224, 224, 3)), # First Convolution\n",
    "    tf.keras.layers.MaxPooling2D(2, 2),\n",
    "    tf.keras.layers.Conv2D(32, (3, 3), activation='relu'), # Second Convolution\n",
    "    tf.keras.layers.MaxPooling2D(2, 2),\n",
    "    tf.keras.layers.Conv2D(32, (3, 3), activation='relu'), # Third Convolution\n",
    "    tf.keras.layers.MaxPooling2D(2, 2),\n",
    "    tf.keras.layers.Flatten(),\n",
    "    tf.keras.layers.Dense(512, activation='relu'),\n",
    "    tf.keras.layers.Dense(512, activation='relu'),\n",
    "    tf.keras.layers.Dense(6, activation='softmax'),\n",
    "])\n",
    "\n",
    "simple_cnn.summary()"
   ]
  },
  {
   "cell_type": "markdown",
   "metadata": {},
   "source": [
    "Training the network is then straightforward using standard methods; `categorical_crossentropy` for the loss function, and `adam` as the optimisation technique. "
   ]
  },
  {
   "cell_type": "code",
   "execution_count": null,
   "metadata": {
    "scrolled": true
   },
   "outputs": [],
   "source": [
    "simple_cnn.compile(loss = 'categorical_crossentropy',\n",
    "                   optimizer = 'adam',\n",
    "                   metrics = ['accuracy'])\n",
    "\n",
    "simple_cnn_history = simple_cnn.fit(train_ds,\n",
    "                                    batch_size = 32,\n",
    "                                    epochs = 20,\n",
    "                                    validation_data = val_ds,\n",
    "                                    callbacks = [callbacks],\n",
    "                                    verbose = 1,\n",
    "                                    shuffle=True)"
   ]
  },
  {
   "cell_type": "markdown",
   "metadata": {},
   "source": [
    "Watching a neural network train is the modern equivalent of watching paint dry, therefore to speed things up feel free to interrupt training and grab the pre-trained example available below. "
   ]
  },
  {
   "cell_type": "code",
   "execution_count": null,
   "metadata": {},
   "outputs": [],
   "source": [
    "!mkdir simple-cnn/\n",
    "!gsutil cp -r gs://tom-seldon-examples/workshops/manufacturing/pretrained/simple-cnn/1 simple-cnn/"
   ]
  },
  {
   "cell_type": "code",
   "execution_count": 66,
   "metadata": {},
   "outputs": [],
   "source": [
    "simple_cnn = load_model(\"simple-cnn/1\")"
   ]
  },
  {
   "cell_type": "markdown",
   "metadata": {},
   "source": [
    "Now that you have a trained neural network you can grab a test image and have your network generate a prediction!"
   ]
  },
  {
   "cell_type": "code",
   "execution_count": null,
   "metadata": {},
   "outputs": [],
   "source": [
    "test_scratches = load_img('data/validation/images/scratches/scratches_241.jpg',\n",
    "                          target_size=(224, 224, 3))\n",
    "\n",
    "test_scratches = img_to_array(test_scratches)\n",
    "test_scratches = test_scratches / 255\n",
    "test_scratches  = test_scratches.reshape((-1,) + test_scratches.shape)\n",
    "\n",
    "simple_preds = simple_cnn.predict(test_scratches)[0]\n",
    "\n",
    "for v, i in enumerate(simple_preds):\n",
    "    print(f\"{categories[v]}: {i:.2f}\")"
   ]
  },
  {
   "cell_type": "markdown",
   "metadata": {},
   "source": [
    "As you can see the model is... **totally** wrong!\n",
    "\n",
    "Even worse than that, it's confidentally wrong- being fully convinced that the test scratch image has in fact been rolled in scale. \n",
    "\n",
    "The checkpointed model you're relying on here only acheived a validation accuracy of around 78% so this might be expected.\n",
    "\n",
    "Let's see if this can be improved upon by using the InceptionV3 architecture."
   ]
  },
  {
   "cell_type": "markdown",
   "metadata": {},
   "source": [
    "### Model 2: *InceptionV3*\n",
    "\n",
    "For your second model you will make use of the pre-trained InceptionV3 architecture. InceptionV3 is a CNN built for object classification by [researchers at Google in 2015](https://static.googleusercontent.com/media/research.google.com/en//pubs/archive/43022.pdf). Back then it held the state of the art crown for a while, however more recently has been overtaken by more modern EfficientNet or Transformer architectures. \n",
    "\n",
    "It has been selected here because it is reasonable to train on a CPU, it gets great results and Keras has a built-in version of the model making it super easy to get going with!\n",
    "\n",
    "The key information to note around how you are preparing the InceptionV3 model is that when loaded you do not include the final layers (`include_top=False`). \n",
    "\n",
    "Three extra layers are then built on top of the InceptionV3 model; a pooling layer (`GlobalAveragePooling2D`), and two fully connected layers (`Dense`).\n",
    "\n",
    "These new layers are glued onto InceptionV3 and compiled using the same evaluation methods as you used with the `simple-cnn`. "
   ]
  },
  {
   "cell_type": "code",
   "execution_count": null,
   "metadata": {},
   "outputs": [],
   "source": [
    "# parameters for architecture\n",
    "input_shape = (224, 224, 3)\n",
    "num_classes = 6\n",
    "conv_size = 32\n",
    "\n",
    "# parameters for training\n",
    "batch_size = 32\n",
    "num_epochs = 20\n",
    "\n",
    "# load InceptionV3 from Keras\n",
    "InceptionV3_model = InceptionV3(include_top=False, input_shape=input_shape)\n",
    "\n",
    "# add custom Layers\n",
    "x = InceptionV3_model.output\n",
    "x = GlobalAveragePooling2D()(x)\n",
    "x = Dense(512, activation=\"relu\")(x)\n",
    "custom_output = Dense(num_classes, activation='softmax')(x)\n",
    "\n",
    "# define the input and output of the model\n",
    "inception = Model(inputs=InceptionV3_model.input, outputs=custom_output)\n",
    "        \n",
    "# compile the model\n",
    "inception.compile(loss='categorical_crossentropy',\n",
    "                  optimizer='adam',\n",
    "                  metrics=['accuracy'])\n",
    "\n",
    "inception.summary()"
   ]
  },
  {
   "cell_type": "code",
   "execution_count": null,
   "metadata": {},
   "outputs": [],
   "source": [
    "inception_history = inception.fit(train_ds,\n",
    "                                  batch_size=32,\n",
    "                                  epochs=20,\n",
    "                                  validation_data=val_ds,\n",
    "                                  callbacks=[callbacks],\n",
    "                                  verbose=1, \n",
    "                                  shuffle=True)"
   ]
  },
  {
   "cell_type": "markdown",
   "metadata": {},
   "source": [
    "Watching an even larger neural network train is simply like watching an even larger wall dry, so once more you can take advantage of a pre-trained artefact."
   ]
  },
  {
   "cell_type": "code",
   "execution_count": 68,
   "metadata": {},
   "outputs": [
    {
     "name": "stdout",
     "output_type": "stream",
     "text": [
      "mkdir: inception/: File exists\n",
      "Copying gs://tom-seldon-examples/workshops/manufacturing/pretrained/inception/1/saved_model.pb...\n",
      "Copying gs://tom-seldon-examples/workshops/manufacturing/pretrained/inception/1/variables/variables.data-00000-of-00001...\n",
      "==> NOTE: You are downloading one or more large file(s), which would            \n",
      "run significantly faster if you enabled sliced object downloads. This\n",
      "feature is enabled by default but requires that compiled crcmod be\n",
      "installed (see \"gsutil help crcmod\").\n",
      "\n",
      "Copying gs://tom-seldon-examples/workshops/manufacturing/pretrained/inception/1/variables/variables.index...\n",
      "\\ [3 files][268.9 MiB/268.9 MiB]   19.2 MiB/s                                   \n",
      "Operation completed over 3 objects/268.9 MiB.                                    \n"
     ]
    }
   ],
   "source": [
    "!mkdir inception/\n",
    "!gsutil cp -r gs://tom-seldon-examples/workshops/manufacturing/pretrained/inception/1 inception/"
   ]
  },
  {
   "cell_type": "code",
   "execution_count": 5,
   "metadata": {},
   "outputs": [],
   "source": [
    "inception = load_model(\"inception/1\")"
   ]
  },
  {
   "cell_type": "markdown",
   "metadata": {},
   "source": [
    "Similarly to the `simple_cnn` built earlier you can test your `inception` model on the same `test_scratch` image to get an anecdotal feel for how it's going to perform. "
   ]
  },
  {
   "cell_type": "code",
   "execution_count": 23,
   "metadata": {},
   "outputs": [
    {
     "name": "stdout",
     "output_type": "stream",
     "text": [
      "crazing: 0.00\n",
      "inclusion: 0.00\n",
      "patches: 0.00\n",
      "pitted_surface: 0.00\n",
      "rolled-in_scale: 0.00\n",
      "scratches: 1.00\n"
     ]
    }
   ],
   "source": [
    "inception_preds = inception.predict(test_scratches)[0]\n",
    "\n",
    "for v, i in enumerate(inception_preds):\n",
    "    print(f\"{categories[v]}: {i:.2f}\")"
   ]
  },
  {
   "cell_type": "code",
   "execution_count": null,
   "metadata": {},
   "outputs": [],
   "source": [
    "inception_preds"
   ]
  },
  {
   "cell_type": "markdown",
   "metadata": {},
   "source": [
    "**Hurrah!** \n",
    "\n",
    "This result looks better, and you can also take some reassurance that this pre-trained `inception` model achieved a much more respectable validation accuracy of 94%. \n",
    "\n",
    "Time to start thinking about how you might want to serve your newly created models. "
   ]
  },
  {
   "cell_type": "markdown",
   "metadata": {},
   "source": [
    "## Deploying Your Models"
   ]
  },
  {
   "cell_type": "markdown",
   "metadata": {},
   "source": [
    "Now that you have trained and saved your model artefacts you can begin consider how to deploy them to Seldon. \n",
    "\n",
    "This process will involve uploading the relevant artefacts to blob storage, where they can be pulled from at deployment time. \n",
    "\n",
    "You will then configure connection to a Seldon Deploy cluster, and leverage the pre-built Tensorflow Serving runtime to create your deployment. \n",
    "\n",
    "---\n",
    "\n",
    "To begin with, you will push the `simple-cnn` and `inception` models to a Google storage bucket. It's worth noting that Seldon Deploy reads from a wide range of storage back ends and so all of the popular blob storage tools are covered as well.\n",
    "\n",
    "You will create a unique folder with your name. Uncomment the commands and replace \"YOUR NAME\" with your name.\n",
    "\n",
    "Tensorflow Serving, similarly to Nvidia's Triton, when pulling model artefacts from a directory expects that there are sub-directories representing the version of the model artefacts. TF Serving can then be configured to serve a given model version. \n",
    "\n",
    "Given that you only have the single version for both of your models currently you will simply save version 1."
   ]
  },
  {
   "cell_type": "code",
   "execution_count": null,
   "metadata": {
    "scrolled": true
   },
   "outputs": [],
   "source": [
    "# !gsutil cp -r simple-cnn/1/ gs://tom-seldon-examples/workshops/manufacturing/<YOUR NAME>/simple-cnn/\n",
    "# !gsutil cp -r inception/1/ gs://tom-seldon-examples/workshops/manufacturing/<YOUR NAME>/inception/"
   ]
  },
  {
   "cell_type": "markdown",
   "metadata": {},
   "source": [
    "You can now deploy your models to the dedicated Seldon Deploy cluster which has been configured for this workshop. To do so you will interact with the Seldon Deploy SDK and deploy your model using that.\n",
    "\n",
    "First, setting up the configuration and authentication required to access the cluster. "
   ]
  },
  {
   "cell_type": "code",
   "execution_count": null,
   "metadata": {},
   "outputs": [],
   "source": [
    "SD_IP = \"34.147.53.165\"\n",
    "config = Configuration()\n",
    "config.host = f\"http://{SD_IP}/seldon-deploy/api/v1alpha1\"\n",
    "config.oidc_client_id = \"sd-api\"\n",
    "config.oidc_server = f\"http://{SD_IP}/auth/realms/deploy-realm\"\n",
    "config.oidc_client_secret = \"sd-api-secret\"\n",
    "config.auth_method = \"client_credentials\"\n",
    "\n",
    "def auth():\n",
    "    auth = OIDCAuthenticator(config)\n",
    "    config.id_token = auth.authenticate()\n",
    "    api_client = ApiClient(configuration=config, authenticator=auth)\n",
    "    return api_client"
   ]
  },
  {
   "cell_type": "markdown",
   "metadata": {},
   "source": [
    "Now you have configured the IP correctly as well as setup the authentication function you can describe the deployment you would like to create. \n",
    "\n",
    "As you have uncovered earlier the `simple-cnn` is not great, and the `inception` model improves dramatically on that performance. This has been demonstrated on your validation data, but neither model has seen any live data. \n",
    "\n",
    "In this scenario you may wish to test both models on the live data, to achieve this Seldon Deploy provides you with two options; a shadow deployment or a canary deployment. \n",
    "\n",
    "These techniques are usually applied to the rollout or upgrade of a new model version. A shadow deployment deploys two models behind a single endpoint, both of the models receive 100% of the traffic- there is no split. However, only one of the models' responses are returned to users- usually the original model you are upgrading. The others responses (new version) are simply logged to Elasticsearch where you can see how it responded compared to the original model. This allows you to roll out new versions of a model, test them on live data, without the risk of poor performance impacting user experience. \n",
    "\n",
    "The other option is a canary deployment; this involves a traffic split between the two models behind a single endpoint. The percentage split is determined by you, and allows you to control how much of the live data goes to each of the models. New versions of models will typically be sent a smaller percentage of traffic (10% or 20%) to validate they are behaving as expected before they are rolled out more fully.\n",
    "\n",
    "In this example you will create a canary deployment with a 70/30 split between the `inception` model and `simple-cnn` respectively. \n",
    "\n",
    "---\n",
    "\n",
    "The [Seldon Deploy SDK](https://github.com/SeldonIO/seldon-deploy-sdk) offers two approaches to creating deployments: \n",
    "1. Working directly with dictionaries, which are equivalent to the underlying Kubernetes manifests. \n",
    "2. Using the higher level Python classes as abstractions. \n",
    "\n",
    "In this example you will use the more direct approach of working with the dictionaries. While this requires some more configuration it does create the opportunity to make reusable templates which are custom to your needs and can be readily shared and understood by others. \n",
    "\n",
    "You will start by defining some variables for the deployment which will be passed to the `mldeployment` manifest object in the following cell. "
   ]
  },
  {
   "cell_type": "code",
   "execution_count": null,
   "metadata": {},
   "outputs": [],
   "source": [
    "YOUR_NAME = <YOUR NAME>\n",
    "DEPLOYMENT_NAME = f\"{YOUR_NAME}-test\"\n",
    "NAMESPACE = \"default\"\n",
    "\n",
    "MODEL_NAME = \"inception\"\n",
    "MODEL_LOCATION = f\"gs://tom-seldon-examples/workshops/manufacturing/{YOUR_NAME}/{MODEL_NAME}/\"\n",
    "\n",
    "CANARY_NAME = \"simple-cnn\"\n",
    "CANARY_LOCATION = f\"gs://tom-seldon-examples/workshops/manufacturing/{YOUR_NAME}/{CANARY_NAME}/\"\n",
    "\n",
    "CPU_REQUESTS = \"1\"\n",
    "MEMORY_REQUESTS = \"1Gi\"\n",
    "\n",
    "CPU_LIMITS = \"1\"\n",
    "MEMORY_LIMITS = \"1Gi\""
   ]
  },
  {
   "cell_type": "code",
   "execution_count": null,
   "metadata": {},
   "outputs": [],
   "source": [
    "mldeployment = {\n",
    "    \"kind\": \"SeldonDeployment\",\n",
    "    \"metadata\": {\n",
    "        \"name\": DEPLOYMENT_NAME,\n",
    "        \"namespace\": NAMESPACE\n",
    "    },\n",
    "    \"apiVersion\": \"machinelearning.seldon.io/v1alpha2\",\n",
    "    \"spec\": {\n",
    "        \"name\": DEPLOYMENT_NAME,\n",
    "        \"protocol\": \"seldon\",\n",
    "        \"predictors\": [\n",
    "            {\n",
    "                \"componentSpecs\": [\n",
    "                    {\n",
    "                        \"spec\": {\n",
    "                            \"containers\": [\n",
    "                                {\n",
    "                                    \"name\": f\"{MODEL_NAME}\",\n",
    "                                    \"resources\": {\n",
    "                                        \"requests\": {\n",
    "                                            \"cpu\": CPU_REQUESTS,\n",
    "                                            \"memory\": MEMORY_REQUESTS\n",
    "                                        },\n",
    "                                        \"limits\": {\n",
    "                                            \"cpu\": CPU_LIMITS,\n",
    "                                            \"memory\": MEMORY_LIMITS\n",
    "                                        }\n",
    "                                    }\n",
    "                                }\n",
    "                            ]\n",
    "                        }\n",
    "                    }\n",
    "                ],\n",
    "                \"name\": \"default\",\n",
    "                \"replicas\": 1,\n",
    "                \"traffic\": 70,\n",
    "                \"graph\": {\n",
    "                    \"implementation\": \"TENSORFLOW_SERVER\",\n",
    "                    \"modelUri\": MODEL_LOCATION,\n",
    "                    \"name\": f\"{MODEL_NAME}\",\n",
    "                    \"logger\": {\n",
    "                        \"mode\": \"all\"\n",
    "                    }\n",
    "                }\n",
    "            },\n",
    "            {\n",
    "                \"componentSpecs\": [\n",
    "                    {\n",
    "                        \"spec\": {\n",
    "                            \"containers\": [\n",
    "                                {\n",
    "                                    \"name\": f\"{CANARY_NAME}\",\n",
    "                                    \"resources\": {\n",
    "                                        \"requests\": {\n",
    "                                            \"cpu\": CPU_REQUESTS,\n",
    "                                            \"memory\": MEMORY_REQUESTS\n",
    "                                        },\n",
    "                                        \"limits\": {\n",
    "                                            \"cpu\": CPU_LIMITS,\n",
    "                                            \"memory\": MEMORY_LIMITS\n",
    "                                        }\n",
    "                                    }\n",
    "                                }\n",
    "                            ]\n",
    "                        }\n",
    "                    }\n",
    "                ],\n",
    "                \"name\": \"canary\",\n",
    "                \"replicas\": 1,\n",
    "                \"annotations\":{\n",
    "                    \"seldon.io/canary\":\"true\"\n",
    "                },\n",
    "                \"traffic\": 30,\n",
    "                \"graph\": {\n",
    "                    \"implementation\": \"TENSORFLOW_SERVER\",\n",
    "                    \"modelUri\": CANARY_LOCATION,\n",
    "                    \"name\": f\"{CANARY_NAME}\",\n",
    "                    \"logger\": {\n",
    "                        \"mode\": \"all\"\n",
    "                    }\n",
    "                    }\n",
    "                }\n",
    "        ]\n",
    "    }\n",
    "}"
   ]
  },
  {
   "cell_type": "markdown",
   "metadata": {},
   "source": [
    "Once you have specified your `mldeployment` JSON it is a simple API call to create your deployment. "
   ]
  },
  {
   "cell_type": "code",
   "execution_count": null,
   "metadata": {},
   "outputs": [],
   "source": [
    "deployment_api = SeldonDeploymentsApi(auth())\n",
    "deployment_api.create_seldon_deployment(namespace=NAMESPACE, mldeployment=mldeployment)"
   ]
  },
  {
   "cell_type": "markdown",
   "metadata": {},
   "source": [
    "You can now test your model endpoint in the UI. To access the workshop cluster use the following details: \n",
    "* Seldon Deploy URL: http://34.147.53.165/seldon-deploy/\n",
    "* Username: admin@seldon.io\n",
    "* Password: 12341234\n",
    "\n",
    "Once you have seen your deployment creating you can save a sample image using the `test-scratches` array you worked with earlier. \n",
    "\n",
    "This `test-scratches.json` can be uploaded directly to the UI to test your model endpoint when it is available!"
   ]
  },
  {
   "cell_type": "code",
   "execution_count": null,
   "metadata": {},
   "outputs": [],
   "source": [
    "seldon_sample = {\n",
    "  \"data\": {\n",
    "    \"names\": [\n",
    "    ],\n",
    "    \"ndarray\": test_scratches.tolist()\n",
    "  }\n",
    "}\n",
    "\n",
    "with open('test-scratches.json', 'w', encoding='utf-8') as f:\n",
    "    json.dump(seldon_sample, f, ensure_ascii=False, indent=1)"
   ]
  },
  {
   "cell_type": "code",
   "execution_count": null,
   "metadata": {},
   "outputs": [],
   "source": []
  },
  {
   "cell_type": "markdown",
   "metadata": {},
   "source": [
    "# Adding Model Metadata\n",
    "\n",
    "You have now created 2 new models within a single deployment. Both of these models have been automatically added to the model catalog. The model catalog acts as a centralised repository for metadata associated with models. Models can be easily deployed directly from the catalog, while metadata acts to speed knowledge transfer between teams and to track models across tools.\n",
    "\n",
    "You will now add some metadata to your InceptionV3 model describing the validation accuracy you managed to achieve, and who authored the model- so you can brag to your colleagues!"
   ]
  },
  {
   "cell_type": "code",
   "execution_count": null,
   "metadata": {},
   "outputs": [],
   "source": [
    "model_catalog_metadata = {\n",
    "      \"URI\": MODEL_LOCATION,\n",
    "      \"name\": \"InceptionV3\",\n",
    "      \"version\": \"v1.0\",\n",
    "      \"artifactType\": \"TENSORFLOW\",\n",
    "      \"taskType\": \"defect classification\",\n",
    "      \"tags\": {\n",
    "        \"auto_created\": \"true\",\n",
    "        \"author\": f\"{YOUR_NAME}\"\n",
    "      },\n",
    "      \"metrics\": {},\n",
    "      \"creationTime\": \"2022-02-15T15:26:26.630592Z\",\n",
    "      \"project\": \"default\"\n",
    "    }"
   ]
  },
  {
   "cell_type": "code",
   "execution_count": null,
   "metadata": {},
   "outputs": [],
   "source": [
    "api_instance = ModelMetadataServiceApi(auth())\n",
    "api_response = api_instance.model_metadata_service_update_model_metadata(model_catalog_metadata)"
   ]
  },
  {
   "cell_type": "markdown",
   "metadata": {},
   "source": [
    "Listing the metadata for your newly updated model:"
   ]
  },
  {
   "cell_type": "code",
   "execution_count": null,
   "metadata": {},
   "outputs": [],
   "source": [
    "api_response = api_instance.model_metadata_service_list_model_metadata(uri=MODEL_LOCATION)\n",
    "api_response"
   ]
  },
  {
   "cell_type": "markdown",
   "metadata": {},
   "source": [
    "# Drift Detection\n",
    "\n",
    "The final stage of the deployment process is going to be adding the advanced monitoring capabilities afforded by a drift detector. \n",
    "\n",
    "In this example you will use Alibi Detect to train a custom drift detector which can flag when the underlying input data distribution has shifted. This can inform decisions about re-training or prompt deeper investigation into data/model behaviours. \n",
    "\n",
    "Seldon Deploy also allows you to setup alerts when drift is detected. \n",
    "\n",
    "---\n",
    "\n",
    "In this example you will use the Maximum Mean Discrepancy method. Covariate or input drift detection relies on creating a distance measure between two distributions; a reference distribution and a new distribution. The MMD drift detector is no different; the mean embeddings of your features are used to generate the distributions and then the distance between them is measured. The training data is used to calculate the reference distribution, while the new distribution comes from your inference data.  \n",
    "\n",
    "More technically, a reproducing kernel Hilbert space is used to generate the mean embeddings, by mapping the highly complex feature space within which most machine learning models operate to a linear Euclidean space. A radial basis function kernel is then used to measure the distance between the two embeddings, and the signifiance of the drift is calculated as a p-value using permutation/resampling tests. More details can be found [here](https://docs.seldon.io/projects/alibi-detect/en/v0.6.1/methods/mmddrift.html).\n",
    "\n",
    "Before you dive into creating your own drift detector, you need to generate a reference dataset. In this case you use 5 batches of the training data set, resulting in 160 images. This has been picked for convenience and speed of training in the workshop, and if this was a production case you would likely want to use the entirety of the training set, or a statistically significant segment.\n",
    "\n",
    "Now, creating your reference set. "
   ]
  },
  {
   "cell_type": "code",
   "execution_count": null,
   "metadata": {},
   "outputs": [],
   "source": [
    "train_ds.reset()\n",
    "\n",
    "drift_ref = train_ds.next()[0]\n",
    "\n",
    "for i in range(4):\n",
    "    drift_ref = np.concatenate((drift_ref, train_ds.next()[0]))\n",
    "\n",
    "drift_ref.shape"
   ]
  },
  {
   "cell_type": "markdown",
   "metadata": {},
   "source": [
    "Due to the high dimensionality of image data you will need perform a pre-processing step to make it computationally feasible to detect drift on incoming batches of images. \n",
    "\n",
    "A great option for this is to use an simple encoding neural network. This will squish images from their original shape of `(224, 224, 3)` to a vector of `32`. From there we can feed the vectors to the drift detector and calculate drift values. \n",
    "\n",
    "This is then used to a generate a `preprocess_fn` which will be fed to your MMD drift detector to convert your images ahead of time. "
   ]
  },
  {
   "cell_type": "code",
   "execution_count": null,
   "metadata": {},
   "outputs": [],
   "source": [
    "# define encoder\n",
    "encoding_dim = 32\n",
    "encoder_net = tf.keras.Sequential(\n",
    "  [\n",
    "      InputLayer(input_shape=(224, 224, 3)),\n",
    "      Conv2D(64, 4, strides=2, padding='same', activation=tf.nn.relu),\n",
    "      Conv2D(128, 4, strides=2, padding='same', activation=tf.nn.relu),\n",
    "      Conv2D(512, 4, strides=2, padding='same', activation=tf.nn.relu),\n",
    "      Flatten(),\n",
    "      Dense(encoding_dim,)\n",
    "  ]\n",
    ")\n",
    "\n",
    "# define preprocessing function\n",
    "preprocess_fn = partial(preprocess_drift, model=encoder_net, batch_size=160)"
   ]
  },
  {
   "cell_type": "markdown",
   "metadata": {},
   "source": [
    "Next you can initialise the drift detector; this is as simple as a single line API call specifying the:\n",
    "* Reference data\n",
    "* Computational backend\n",
    "* The p-value below which drift is considered to have occurred\n",
    "* Your preprocessing function\n",
    "* The number of permutations taken to calculate the p-value"
   ]
  },
  {
   "cell_type": "code",
   "execution_count": null,
   "metadata": {},
   "outputs": [],
   "source": [
    "# initialise drift detector\n",
    "cd = MMDDrift(drift_ref, backend='tensorflow', p_val=.05, preprocess_fn=preprocess_fn, n_permutations=100)"
   ]
  },
  {
   "cell_type": "markdown",
   "metadata": {},
   "source": [
    "Once your shiny new drift detector has trained you can test it on a new batch of data!"
   ]
  },
  {
   "cell_type": "code",
   "execution_count": null,
   "metadata": {},
   "outputs": [],
   "source": [
    "new_batch = train_ds.next()[0]\n",
    "preds = cd.predict(new_batch, return_p_val=True, return_distance=True)\n",
    "preds"
   ]
  },
  {
   "cell_type": "markdown",
   "metadata": {},
   "source": [
    "Finally, you can save the drift detector and upload it to Google storage for deployment. "
   ]
  },
  {
   "cell_type": "code",
   "execution_count": null,
   "metadata": {},
   "outputs": [],
   "source": [
    "filepath = 'defect-drift'\n",
    "save_detector(cd, filepath)"
   ]
  },
  {
   "cell_type": "code",
   "execution_count": null,
   "metadata": {},
   "outputs": [],
   "source": [
    "!gsutil cp -r defect-drift gs://tom-seldon-examples/workshops/manufacturing/drift/tom-farrand/defect-drift"
   ]
  },
  {
   "cell_type": "code",
   "execution_count": null,
   "metadata": {},
   "outputs": [],
   "source": [
    "f\"gs://tom-seldon-examples/manufacturing/workshops/drift/<YOUR NAME>/{filepath}\""
   ]
  },
  {
   "cell_type": "code",
   "execution_count": null,
   "metadata": {},
   "outputs": [],
   "source": []
  },
  {
   "cell_type": "markdown",
   "metadata": {},
   "source": [
    "# Explainer"
   ]
  },
  {
   "cell_type": "code",
   "execution_count": 25,
   "metadata": {},
   "outputs": [],
   "source": [
    "predict_fn = lambda x: inception.predict(x)"
   ]
  },
  {
   "cell_type": "code",
   "execution_count": 30,
   "metadata": {},
   "outputs": [],
   "source": [
    "def slicSegmentation(image):\n",
    "    slic = segmentation.slic(image, n_segments=15, start_label=1)\n",
    "    return slic\n"
   ]
  },
  {
   "cell_type": "code",
   "execution_count": 27,
   "metadata": {},
   "outputs": [],
   "source": [
    "example_image = train_ds.next()\n",
    "image_shape = example_image[0][0].shape\n",
    "explainer = AnchorImage(predict_fn, image_shape,segmentation_fn=slicSegmentation)"
   ]
  },
  {
   "cell_type": "code",
   "execution_count": 74,
   "metadata": {},
   "outputs": [],
   "source": [
    "seldon_sample = {\n",
    "  \"data\": {\n",
    "    \"names\": [\n",
    "    ],\n",
    "    \"ndarray\": example_image.tolist()\n",
    "  }\n",
    "}\n",
    "\n",
    "with open('test-patches-2.json', 'w', encoding='utf-8') as f:\n",
    "    json.dump(seldon_sample, f, ensure_ascii=False, indent=1)"
   ]
  },
  {
   "cell_type": "markdown",
   "metadata": {},
   "source": [
    "### Explain a Test Image"
   ]
  },
  {
   "cell_type": "code",
   "execution_count": 7,
   "metadata": {},
   "outputs": [],
   "source": [
    "example_image = train_ds.next()\n",
    "image_shape = example_image[0][0].shape\n"
   ]
  },
  {
   "cell_type": "code",
   "execution_count": 14,
   "metadata": {},
   "outputs": [],
   "source": [
    "def slicMask(image):\n",
    "    # Compute a mask\n",
    "    lum = color.rgb2gray(image)\n",
    "    mask = morphology.remove_small_holes(\n",
    "        morphology.remove_small_objects(\n",
    "            lum < 0.7, 500),\n",
    "        500)\n",
    "\n",
    "    mask = morphology.opening(mask, morphology.disk(3))\n",
    "    return mask\n"
   ]
  },
  {
   "cell_type": "code",
   "execution_count": 27,
   "metadata": {},
   "outputs": [
    {
     "name": "stdout",
     "output_type": "stream",
     "text": [
      "(224, 224, 3)\n"
     ]
    },
    {
     "name": "stderr",
     "output_type": "stream",
     "text": [
      "/Users/josh/opt/anaconda3/envs/manufactoring-workshop/lib/python3.7/site-packages/alibi/explainers/anchor_image.py:284: FutureWarning: skimage.measure.label's indexing starts from 0. In future version it will start from 1. To disable this warning, explicitely set the `start_label` parameter to 1.\n",
      "  return self.segmentation_fn(image_preproc)\n"
     ]
    },
    {
     "name": "stdout",
     "output_type": "stream",
     "text": [
      "Best: 8 (mean:0.9166666667, n: 48, lb:0.5828) Worst: 9 (mean:0.7027, n: 37, ub:0.9581) B = 0.38\n",
      "Best: 8 (mean:0.9324324324, n: 148, lb:0.7689) Worst: 5 (mean:0.7667, n: 60, ub:0.9599) B = 0.19\n",
      "Best of size  1 :\n",
      "8 0.9516129032258065 0.9167004232016129 0.9754468856319305\n",
      "(8,) mean = 0.95 lb = 0.92 ub = 0.98 coverage: 0.52 n: 248\n",
      "Found eligible result  (8,) Coverage: 0.5155 Is best? True\n"
     ]
    },
    {
     "data": {
      "image/png": "[encoded data removed]",
      "text/plain": [
       "<Figure size 432x288 with 1 Axes>"
      ]
     },
     "metadata": {
      "needs_background": "light"
     },
     "output_type": "display_data"
    }
   ],
   "source": [
    "example_image = load_img('data/validation/images/inclusion/inclusion_285.jpg',\n",
    "                          target_size=(224, 224, 3))\n",
    "example_image = img_to_array(example_image) / 255\n",
    "segmentation_fn = 'slic'\n",
    "kwargs = {'n_segments': 15, 'compactness': 20, 'sigma': .5}\n",
    "explainer = AnchorImage(predict_fn, example_image.shape, segmentation_fn=segmentation_fn,\n",
    "                        segmentation_kwargs=kwargs, images_background=None)\n",
    "explanation = explainer.explain(example_image, threshold=.90 , p_sample=.5, seed=0, verbose=True)"
   ]
  },
  {
   "cell_type": "code",
   "execution_count": 29,
   "metadata": {},
   "outputs": [
    {
     "name": "stderr",
     "output_type": "stream",
     "text": [
      "/Users/josh/opt/anaconda3/envs/manufactoring-workshop/lib/python3.7/site-packages/ipykernel_launcher.py:9: UserWarning: No contour levels were found within the data range.\n",
      "  if __name__ == '__main__':\n"
     ]
    },
    {
     "data": {
      "text/plain": [
       "(-0.5, 223.5, 223.5, -0.5)"
      ]
     },
     "execution_count": 29,
     "metadata": {},
     "output_type": "execute_result"
    },
    {
     "data": {
      "image/png": "[encoded data removed]",
      "text/plain": [
       "<Figure size 720x720 with 4 Axes>"
      ]
     },
     "metadata": {
      "needs_background": "light"
     },
     "output_type": "display_data"
    }
   ],
   "source": [
    "# Add Mask for graph using Sciimage \n",
    "example_image_mask = slicMask(example_image)\n",
    "\n",
    "fig, ax_arr = plt.subplots(2, 2, sharex=True, sharey=True, figsize=(10, 10))\n",
    "ax1, ax2, ax3, ax4 = ax_arr.ravel()\n",
    "\n",
    "\n",
    "ax1.imshow(segmentation.mark_boundaries(example_image, explanation.segments))\n",
    "ax1.contour(example_image_mask, colors='red', linewidths=1)\n",
    "ax1.set_title('SLIC Segmentation')\n",
    "ax1.axis('off')\n",
    "\n",
    "ax2.imshow(explanation.segments)\n",
    "# ax1.contour(example_image_mask, colors='red', linewidths=1)\n",
    "ax2.set_title('Explanation Segmentation')\n",
    "ax2.axis('off')\n",
    "\n",
    "ax3.set_title('Anchor')\n",
    "ax3.imshow(explanation.anchor[:,:])\n",
    "ax3.axis('off')\n"
   ]
  },
  {
   "cell_type": "markdown",
   "metadata": {},
   "source": [
    "### Scratch "
   ]
  },
  {
   "cell_type": "markdown",
   "metadata": {},
   "source": [
    "### Save and Upload Explainer Artifact"
   ]
  },
  {
   "cell_type": "code",
   "execution_count": 31,
   "metadata": {},
   "outputs": [],
   "source": [
    "dill.dump(explainer, open( \"explainer.dill\", \"wb\")) "
   ]
  },
  {
   "cell_type": "code",
   "execution_count": 33,
   "metadata": {},
   "outputs": [
    {
     "name": "stdout",
     "output_type": "stream",
     "text": [
      "Copying file://explainer.dill [Content-Type=application/octet-stream]...\n",
      "/ [1 files][  1.1 KiB/  1.1 KiB]                                                \n",
      "Operation completed over 1 objects/1.1 KiB.                                      \n"
     ]
    }
   ],
   "source": [
    "!gsutil cp explainer.dill gs://tom-seldon-examples/workshops/manufacturing/pretrained/explainer/explainer.dill "
   ]
  },
  {
   "cell_type": "markdown",
   "metadata": {},
   "source": [
    "# Outlier Detection"
   ]
  },
  {
   "cell_type": "code",
   "execution_count": null,
   "metadata": {},
   "outputs": [],
   "source": [
    "load_outlier_detector = False"
   ]
  },
  {
   "cell_type": "markdown",
   "metadata": {},
   "source": [
    "### AE"
   ]
  },
  {
   "cell_type": "code",
   "execution_count": null,
   "metadata": {},
   "outputs": [],
   "source": [
    "from alibi_detect.od import OutlierAE\n",
    "\n",
    "\n",
    "filepath = 'outlier'  # change to (absolute) directory where model is downloaded\n",
    "detector_type = 'outlier'\n",
    "dataset = 'test'\n",
    "detector_name = 'OutlierAE'\n",
    "filepath = os.path.join(filepath, detector_name)\n",
    "if load_outlier_detector:  # load pretrained outlier detector\n",
    "    od = fetch_detector(filepath, detector_type, dataset, detector_name)\n",
    "else:  # define model, initialize, train and save outlier detector\n",
    "    encoding_dim = 1024\n",
    "\n",
    "    encoder_net = tf.keras.Sequential(\n",
    "      [\n",
    "          InputLayer(input_shape=(32, 32, 3)),\n",
    "          Conv2D(64, 4, strides=2, padding='same', activation=tf.nn.relu),\n",
    "          Conv2D(128, 4, strides=2, padding='same', activation=tf.nn.relu),\n",
    "          Conv2D(512, 4, strides=2, padding='same', activation=tf.nn.relu),\n",
    "          Flatten(),\n",
    "          Dense(encoding_dim,)\n",
    "      ])\n",
    "\n",
    "    decoder_net = tf.keras.Sequential(\n",
    "      [\n",
    "          InputLayer(input_shape=(encoding_dim,)),\n",
    "          Dense(4*4*128),\n",
    "          Reshape(target_shape=(4, 4, 128)),\n",
    "          Conv2DTranspose(256, 4, strides=2, padding='same', activation=tf.nn.relu),\n",
    "          Conv2DTranspose(64, 4, strides=2, padding='same', activation=tf.nn.relu),\n",
    "          Conv2DTranspose(3, 4, strides=2, padding='same', activation='sigmoid')\n",
    "      ])\n",
    "\n",
    "    # initialize outlier detector\n",
    "    od = OutlierAE(threshold=.015,  # threshold for outlier score\n",
    "                    encoder_net=encoder_net,  # can also pass AE model instead\n",
    "                    decoder_net=decoder_net,  # of separate encoder and decoder\n",
    "                    )\n",
    "    # train\n",
    "    od.fit(train_ds,\n",
    "           epochs=50,\n",
    "           verbose=True)\n",
    "\n",
    "    # save the trained outlier detector\n",
    "    save_detector(od, filepath)"
   ]
  },
  {
   "cell_type": "markdown",
   "metadata": {},
   "source": [
    "### VAE"
   ]
  },
  {
   "cell_type": "code",
   "execution_count": null,
   "metadata": {},
   "outputs": [],
   "source": [
    "filepath = 'outlier'  # change to directory where model is downloaded\n",
    "detector_type = 'outlier'\n",
    "dataset = 'test'\n",
    "detector_name = 'OutlierVAE'\n",
    "filepath = os.path.join(filepath, detector_name)\n",
    "if load_outlier_detector:  # load pretrained outlier detector\n",
    "    od = fetch_detector(filepath, detector_type, dataset, detector_name)\n",
    "else:  # define model, initialize, train and save outlier detector\n",
    "    latent_dim = 1024\n",
    "    \n",
    "    encoder_net = tf.keras.Sequential(\n",
    "      [\n",
    "          InputLayer(input_shape=(224, 224, 3)),\n",
    "          Conv2D(64, 4, strides=2, padding='same', activation=tf.nn.relu),\n",
    "          Conv2D(128, 4, strides=2, padding='same', activation=tf.nn.relu),\n",
    "          Conv2D(512, 4, strides=2, padding='same', activation=tf.nn.relu)\n",
    "      ])\n",
    "\n",
    "    decoder_net = tf.keras.Sequential(\n",
    "      [\n",
    "          InputLayer(input_shape=(latent_dim,)),\n",
    "          Dense(4*4*128),\n",
    "          Reshape(target_shape=(4, 4, 128)),\n",
    "          Conv2DTranspose(256, 4, strides=2, padding='same', activation=tf.nn.relu),\n",
    "          Conv2DTranspose(64, 4, strides=2, padding='same', activation=tf.nn.relu),\n",
    "          Conv2DTranspose(3, 4, strides=2, padding='same', activation='sigmoid')\n",
    "      ])\n",
    "    \n",
    "    # initialize outlier detector\n",
    "    od = OutlierVAE(threshold=.015,  # threshold for outlier score\n",
    "                    score_type='mse',  # use MSE of reconstruction error for outlier detection\n",
    "                    encoder_net=encoder_net,  # can also pass VAE model instead\n",
    "                    decoder_net=decoder_net,  # of separate encoder and decoder\n",
    "                    latent_dim=latent_dim,\n",
    "                    samples=2)\n",
    "    # train\n",
    "    od.fit(train_ds, \n",
    "           loss_fn=elbo,\n",
    "           cov_elbo=dict(sim=.05),\n",
    "           epochs=2,\n",
    "           verbose=True)\n",
    "    \n",
    "    # save the trained outlier detector\n",
    "    save_detector(od, filepath)"
   ]
  },
  {
   "cell_type": "markdown",
   "metadata": {},
   "source": [
    "## Check quality VAE model"
   ]
  },
  {
   "cell_type": "code",
   "execution_count": null,
   "metadata": {},
   "outputs": [],
   "source": [
    "example_image = train_ds.next()\n",
    "example_image = example_image[0][0]\n",
    "print(example_image.shape)\n",
    "plt.imshow(example_image[:,:]);\n",
    "\n",
    "example_image = example_image / 255\n",
    "example_image  = example_image.reshape((-1,) + test_image.shape)\n",
    "\n",
    "print(type(example_image))\n",
    "print(example_image.shape)\n",
    "\n",
    "y_pred = np.argmax(model.predict(test_image), axis=-1)\n",
    "print(y_pred)\n",
    "classname = y_pred[0]\n",
    "print(\"Class: \", categories[classname])"
   ]
  },
  {
   "cell_type": "code",
   "execution_count": null,
   "metadata": {},
   "outputs": [],
   "source": []
  },
  {
   "cell_type": "code",
   "execution_count": null,
   "metadata": {},
   "outputs": [],
   "source": []
  },
  {
   "cell_type": "code",
   "execution_count": null,
   "metadata": {},
   "outputs": [],
   "source": []
  },
  {
   "cell_type": "code",
   "execution_count": null,
   "metadata": {},
   "outputs": [],
   "source": []
  },
  {
   "cell_type": "code",
   "execution_count": null,
   "metadata": {},
   "outputs": [],
   "source": [
    "example_image = val_ds.next()\n",
    "# label = --> grab the real label\n",
    "example_image_np = example_image[0][0]"
   ]
  },
  {
   "cell_type": "code",
   "execution_count": null,
   "metadata": {},
   "outputs": [],
   "source": [
    "import matplotlib.pyplot as plt\n",
    "\n",
    "from skimage import data\n",
    "from skimage import color\n",
    "from skimage import morphology\n",
    "from skimage import segmentation\n",
    "\n",
    "# Input data\n",
    "img = example_image_np\n",
    "print(type(img))\n",
    "# Compute a mask\n",
    "lum = color.rgb2gray(img)\n",
    "mask = morphology.remove_small_holes(\n",
    "    morphology.remove_small_objects(\n",
    "        lum < 0.7, 500),\n",
    "    500)\n",
    "\n",
    "mask = morphology.opening(mask, morphology.disk(3))\n",
    "\n",
    "# SLIC result\n",
    "slic = segmentation.slic(img, n_segments=15, start_label=1)\n",
    "\n",
    "# maskSLIC result\n",
    "m_slic = segmentation.slic(img, n_segments=100, mask=mask, start_label=1)\n",
    "\n",
    "# Display result\n",
    "fig, ax_arr = plt.subplots(2, 2, sharex=True, sharey=True, figsize=(10, 10))\n",
    "ax1, ax2, ax3, ax4 = ax_arr.ravel()\n",
    "\n",
    "ax1.imshow(img)\n",
    "ax1.set_title('Original image')\n",
    "\n",
    "ax2.imshow(mask, cmap='gray')\n",
    "ax2.set_title('Mask')\n",
    "\n",
    "ax3.imshow(segmentation.mark_boundaries(img, slic))\n",
    "ax3.contour(mask, colors='red', linewidths=1)\n",
    "ax3.set_title('SLIC')\n",
    "\n",
    "ax4.imshow(segmentation.mark_boundaries(img, m_slic))\n",
    "ax4.contour(mask, colors='red', linewidths=1)\n",
    "ax4.set_title('maskSLIC')\n",
    "\n",
    "for ax in ax_arr.ravel():\n",
    "    ax.set_axis_off()\n",
    " \n",
    "plt.tight_layout()\n",
    "plt.show()"
   ]
  },
  {
   "cell_type": "code",
   "execution_count": null,
   "metadata": {},
   "outputs": [],
   "source": [
    "# SLIC result\n",
    "segmentation.slic(img, n_segments=15, start_label=1).shape"
   ]
  },
  {
   "cell_type": "code",
   "execution_count": null,
   "metadata": {},
   "outputs": [],
   "source": []
  }
 ],
 "metadata": {
  "interpreter": {
   "hash": "fc73de081e7d4a38eca8cd577af2439f92394d26390d4f1b2de20a23a409ad93"
  },
  "kernelspec": {
   "display_name": "Python 3 (ipykernel)",
   "language": "python",
   "name": "python3"
  },
  "language_info": {
   "codemirror_mode": {
    "name": "ipython",
    "version": 3
   },
   "file_extension": ".py",
   "mimetype": "text/x-python",
   "name": "python",
   "nbconvert_exporter": "python",
   "pygments_lexer": "ipython3",
   "version": "3.7.10"
  }
 },
 "nbformat": 4,
 "nbformat_minor": 4
}
