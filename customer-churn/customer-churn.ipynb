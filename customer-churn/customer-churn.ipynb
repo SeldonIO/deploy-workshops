{
 "cells": [
  {
   "cell_type": "markdown",
   "metadata": {},
   "source": [
    "# Predicting Customer Churn - Telco "
   ]
  },
  {
   "cell_type": "code",
   "execution_count": null,
   "metadata": {},
   "outputs": [],
   "source": [
    "%%bash\n",
    "cp ../../seldon-core/components/alibi-explain-server/pyproject.toml .\n",
    "cp ../../seldon-core/components/alibi-explain-server/poetry.lock .\n",
    "\n",
    "conda create --yes --prefix ./venv python=3.7.10"
   ]
  },
  {
   "cell_type": "code",
   "execution_count": null,
   "metadata": {},
   "outputs": [],
   "source": [
    "%%bash \n",
    "\n",
    "source ~/anaconda3/etc/profile.d/conda.sh\n",
    "conda activate ./venv\n",
    "poetry install"
   ]
  },
  {
   "cell_type": "code",
   "execution_count": null,
   "metadata": {},
   "outputs": [],
   "source": [
    "!python --version\n",
    "!which python"
   ]
  },
  {
   "cell_type": "code",
   "execution_count": null,
   "metadata": {},
   "outputs": [],
   "source": [
    "!pip install imblearn\n",
    "!pip install seaborn\n",
    "!pip install seldon_deploy_sdk"
   ]
  },
  {
   "cell_type": "code",
   "execution_count": null,
   "metadata": {},
   "outputs": [],
   "source": [
    "import warnings\n",
    "warnings.filterwarnings('ignore')\n",
    "\n",
    "import pandas as pd\n",
    "import numpy as np\n",
    "from imblearn.over_sampling import RandomOverSampler\n",
    "\n",
    "import seaborn as sns\n",
    "from matplotlib import pyplot as plt\n",
    "\n",
    "from sklearn.model_selection import train_test_split\n",
    "from sklearn.metrics import confusion_matrix, accuracy_score, average_precision_score\n",
    "\n",
    "from xgboost.sklearn import XGBClassifier\n",
    "from xgboost import plot_importance, to_graphviz\n",
    "\n",
    "from seldon_deploy_sdk import Configuration, ApiClient, SeldonDeploymentsApi, ModelMetadataServiceApi, DriftDetectorApi, BatchJobsApi, BatchJobDefinition\n",
    "from seldon_deploy_sdk.auth import OIDCAuthenticator\n",
    "\n",
    "from alibi.explainers import AnchorTabular"
   ]
  },
  {
   "cell_type": "code",
   "execution_count": null,
   "metadata": {},
   "outputs": [],
   "source": [
    "!gsutil cp gs://kelly-seldon/customer-churn/WA_Fn-UseC_-Telco-Customer-Churn.csv WA_Fn-UseC_-Telco-Customer-Churn.csv"
   ]
  },
  {
   "cell_type": "code",
   "execution_count": null,
   "metadata": {},
   "outputs": [],
   "source": [
    "df = pd.read_csv(\"WA_Fn-UseC_-Telco-Customer-Churn.csv\")\n",
    "df.head()"
   ]
  },
  {
   "cell_type": "markdown",
   "metadata": {},
   "source": [
    "The dataset consists of the following columns:\n",
    "\n",
    "* customerID\n",
    "\n",
    "Services that a customer has signed up for:\n",
    "\n",
    "* PhoneService\n",
    "* MultipleLines\n",
    "* InternetService\n",
    "* OnlineSecurity\n",
    "* OnlineBackup\n",
    "* DeviceProtection\n",
    "* TechSupport\n",
    "* StreamingTV\n",
    "* StreamingMovies\n",
    "\n",
    "Customer account information:\n",
    "\n",
    "* tenure - how long they've been a customer\n",
    "* Contract \n",
    "* PaymentMethod\n",
    "* PaperlessBilling\n",
    "* MonthlyCharges\n",
    "* TotalCharges\n",
    "\n",
    "Demographic information about a customer:\n",
    "\n",
    "* gender\n",
    "* SeniorCitizen\n",
    "* Partner\n",
    "* Dependents\n",
    "\n",
    "Label:\n",
    "\n",
    "* Churn - customer who left within the last month"
   ]
  },
  {
   "cell_type": "code",
   "execution_count": null,
   "metadata": {},
   "outputs": [],
   "source": [
    "df.value_counts(\"Churn\")"
   ]
  },
  {
   "cell_type": "code",
   "execution_count": null,
   "metadata": {},
   "outputs": [],
   "source": [
    "is_NaN = df.isnull()\n",
    "row_has_NaN = is_NaN.any(axis=1)\n",
    "rows_with_NaN = df[row_has_NaN]\n",
    "print(rows_with_NaN.head(), \"\\n\\n\", \"Number of rows with missing values:\", len(rows_with_NaN))"
   ]
  },
  {
   "cell_type": "code",
   "execution_count": null,
   "metadata": {},
   "outputs": [],
   "source": [
    "df.dtypes"
   ]
  },
  {
   "cell_type": "code",
   "execution_count": null,
   "metadata": {},
   "outputs": [],
   "source": [
    "df.drop(\"customerID\", axis=1, inplace=True)"
   ]
  },
  {
   "cell_type": "code",
   "execution_count": null,
   "metadata": {},
   "outputs": [],
   "source": [
    "df = df[df[\"TotalCharges\"] != \" \"]\n",
    "df[\"TotalCharges\"] = df[\"TotalCharges\"].astype(float)"
   ]
  },
  {
   "cell_type": "code",
   "execution_count": null,
   "metadata": {},
   "outputs": [],
   "source": [
    "cols = [\"gender\", \"SeniorCitizen\", \"Partner\", \"Dependents\", 'PhoneService', 'MultipleLines', 'InternetService', \n",
    "        'OnlineSecurity', 'OnlineBackup', 'DeviceProtection', 'TechSupport',\n",
    "       'StreamingTV', 'StreamingMovies', 'Contract', 'PaperlessBilling',\n",
    "       'PaymentMethod'] \n",
    "\n",
    "for col in cols:\n",
    "    plt = sns.catplot(x=col,hue='Churn',data=df,kind=\"count\")\n",
    "    plt.set_xticklabels(rotation=40, ha=\"right\")"
   ]
  },
  {
   "cell_type": "code",
   "execution_count": null,
   "metadata": {},
   "outputs": [],
   "source": [
    "df[\"Churn\"].value_counts()"
   ]
  },
  {
   "cell_type": "code",
   "execution_count": null,
   "metadata": {},
   "outputs": [],
   "source": [
    "train, test = train_test_split(df, test_size=0.2, random_state=42)"
   ]
  },
  {
   "cell_type": "code",
   "execution_count": null,
   "metadata": {},
   "outputs": [],
   "source": [
    "train[\"Churn\"] = pd.Series(np.where(train[\"Churn\"].values == 'Yes', 1, 0), train[\"Churn\"].index)"
   ]
  },
  {
   "cell_type": "code",
   "execution_count": null,
   "metadata": {},
   "outputs": [],
   "source": [
    "train_X = train.loc[:, train.columns != \"Churn\"]\n",
    "train_y = train[\"Churn\"] "
   ]
  },
  {
   "cell_type": "code",
   "execution_count": null,
   "metadata": {},
   "outputs": [],
   "source": [
    "weights = (train_y == 0).sum() / (1.0 * (train_y == 1).sum())"
   ]
  },
  {
   "cell_type": "code",
   "execution_count": null,
   "metadata": {},
   "outputs": [],
   "source": [
    "train_X.columns"
   ]
  },
  {
   "cell_type": "code",
   "execution_count": null,
   "metadata": {},
   "outputs": [],
   "source": [
    "bin_cols = [\"Partner\", \"Dependents\", \"PaperlessBilling\", \"PhoneService\"]\n",
    "\n",
    "def encode_binary(df):\n",
    "    \n",
    "    for col in bin_cols:\n",
    "        df[col] = pd.Series(np.where(df[col].values == 'Yes', 1, 0), df.index)\n",
    "    \n",
    "    df[\"gender\"] = pd.Series(np.where(df[\"gender\"].values == 'Male', 1, 0), df.index)\n",
    "    \n",
    "    return df"
   ]
  },
  {
   "cell_type": "code",
   "execution_count": null,
   "metadata": {},
   "outputs": [],
   "source": [
    "train_X = encode_binary(train_X)"
   ]
  },
  {
   "cell_type": "code",
   "execution_count": null,
   "metadata": {},
   "outputs": [],
   "source": [
    "train_X = pd.get_dummies(train_X, columns=['MultipleLines', 'InternetService', 'OnlineSecurity',\n",
    "       'OnlineBackup', 'DeviceProtection', 'TechSupport', 'StreamingTV',\n",
    "       'StreamingMovies', 'Contract', 'PaymentMethod'])"
   ]
  },
  {
   "cell_type": "code",
   "execution_count": null,
   "metadata": {},
   "outputs": [],
   "source": [
    "test[\"Churn\"] = pd.Series(np.where(test[\"Churn\"].values == 'Yes', 1, 0), test[\"Churn\"].index)\n",
    "\n",
    "test_X = test.loc[:, test.columns != \"Churn\"]\n",
    "test_y = test[\"Churn\"] "
   ]
  },
  {
   "cell_type": "code",
   "execution_count": null,
   "metadata": {},
   "outputs": [],
   "source": [
    "test_X = encode_binary(test_X)"
   ]
  },
  {
   "cell_type": "code",
   "execution_count": null,
   "metadata": {},
   "outputs": [],
   "source": [
    "test_X = pd.get_dummies(test_X, columns=['MultipleLines', 'InternetService', 'OnlineSecurity',\n",
    "       'OnlineBackup', 'DeviceProtection', 'TechSupport', 'StreamingTV',\n",
    "       'StreamingMovies', 'Contract', 'PaymentMethod'])"
   ]
  },
  {
   "cell_type": "code",
   "execution_count": null,
   "metadata": {},
   "outputs": [],
   "source": [
    "model = XGBClassifier(max_depth=9, scale_pos_weight=weights)"
   ]
  },
  {
   "cell_type": "code",
   "execution_count": null,
   "metadata": {},
   "outputs": [],
   "source": [
    "probabilities = model.fit(train_X, train_y).predict_proba(test_X)"
   ]
  },
  {
   "cell_type": "code",
   "execution_count": null,
   "metadata": {},
   "outputs": [],
   "source": [
    "probabilities"
   ]
  },
  {
   "cell_type": "code",
   "execution_count": null,
   "metadata": {},
   "outputs": [],
   "source": [
    "print('AUPRC = {}'.format(average_precision_score(test_y, probabilities[:, 1])))"
   ]
  },
  {
   "cell_type": "code",
   "execution_count": null,
   "metadata": {},
   "outputs": [],
   "source": [
    "# make predictions for test data\n",
    "y_pred = model.predict_proba(test_X.iloc[:1])\n",
    "# predictions = [round(value) for value in y_pred]"
   ]
  },
  {
   "cell_type": "code",
   "execution_count": null,
   "metadata": {},
   "outputs": [],
   "source": [
    "y_pred"
   ]
  },
  {
   "cell_type": "code",
   "execution_count": null,
   "metadata": {},
   "outputs": [],
   "source": [
    "from sklearn.metrics import accuracy_score"
   ]
  },
  {
   "cell_type": "code",
   "execution_count": null,
   "metadata": {},
   "outputs": [],
   "source": [
    "predictions = [np.argmax(prob) for prob in probabilities]"
   ]
  },
  {
   "cell_type": "code",
   "execution_count": null,
   "metadata": {},
   "outputs": [],
   "source": [
    "# evaluate predictions\n",
    "accuracy = accuracy_score(test_y, predictions)\n",
    "print(\"Accuracy: %.2f%%\" % (accuracy * 100.0))"
   ]
  },
  {
   "cell_type": "code",
   "execution_count": null,
   "metadata": {
    "scrolled": true
   },
   "outputs": [],
   "source": [
    "conf_mat = confusion_matrix(y_true=test_y, y_pred=predictions)\n",
    "print('Confusion matrix:\\n', conf_mat)\n",
    "\n",
    "labels = ['Class 0', 'Class 1']\n",
    "fig = plt.figure()\n",
    "ax = fig.add_subplot(111)\n",
    "cax = ax.matshow(conf_mat, cmap=plt.cm.Blues)\n",
    "fig.colorbar(cax)\n",
    "ax.set_xticklabels([''] + labels)\n",
    "ax.set_yticklabels([''] + labels)\n",
    "plt.xlabel('Predicted')\n",
    "plt.ylabel('Expected')\n",
    "plt.show()"
   ]
  },
  {
   "cell_type": "code",
   "execution_count": null,
   "metadata": {},
   "outputs": [],
   "source": [
    "fig = plt.figure(figsize = (14, 9))\n",
    "ax = fig.add_subplot(111)\n",
    "\n",
    "colours = plt.cm.Set1(np.linspace(0, 1, 9))\n",
    "\n",
    "ax = plot_importance(model, height = 1, color = colours, grid = False, \\\n",
    "                     show_values = False, importance_type = 'cover', ax = ax);\n",
    "for axis in ['top','bottom','left','right']:\n",
    "            ax.spines[axis].set_linewidth(2)\n",
    "        \n",
    "ax.set_xlabel('importance score', size = 16);\n",
    "ax.set_ylabel('features', size = 16);\n",
    "ax.set_yticklabels(ax.get_yticklabels(), size = 12);\n",
    "ax.set_title('Plotting the models most important features', size = 16);"
   ]
  },
  {
   "cell_type": "code",
   "execution_count": null,
   "metadata": {},
   "outputs": [],
   "source": [
    "model.save_model('model.bst')"
   ]
  },
  {
   "cell_type": "code",
   "execution_count": null,
   "metadata": {},
   "outputs": [],
   "source": [
    "YOUR_NAME = \"ks-poetry-2\""
   ]
  },
  {
   "cell_type": "code",
   "execution_count": null,
   "metadata": {},
   "outputs": [],
   "source": [
    "!gsutil cp model.bst gs://kelly-seldon/customer-churn/models/{YOUR_NAME}/model.bst"
   ]
  },
  {
   "cell_type": "markdown",
   "metadata": {},
   "source": [
    "## Deploy model using Seldon Deploy SDK"
   ]
  },
  {
   "cell_type": "code",
   "execution_count": null,
   "metadata": {},
   "outputs": [],
   "source": [
    "SD_IP = \"34.141.146.222\"\n",
    "\n",
    "config = Configuration()\n",
    "config.host = f\"http://{SD_IP}/seldon-deploy/api/v1alpha1\"\n",
    "config.oidc_client_id = \"sd-api\"\n",
    "config.oidc_server = f\"http://{SD_IP}/auth/realms/deploy-realm\"\n",
    "config.oidc_client_secret = \"sd-api-secret\"\n",
    "config.auth_method = \"client_credentials\"\n",
    "\n",
    "def auth():\n",
    "    auth = OIDCAuthenticator(config)\n",
    "    config.id_token = auth.authenticate()\n",
    "    api_client = ApiClient(configuration=config, authenticator=auth)\n",
    "    return api_client"
   ]
  },
  {
   "cell_type": "code",
   "execution_count": null,
   "metadata": {},
   "outputs": [],
   "source": [
    "# MUST BE ALL LOWERCASE WITH NO UNDERSCORES\n",
    "DEPLOYMENT_NAME = f\"{YOUR_NAME}-churn\"\n",
    "MODEL_URI = f\"gs://kelly-seldon/customer-churn/models/{YOUR_NAME}\"\n",
    "\n",
    "NAMESPACE = \"seldon-gitops\"\n",
    "\n",
    "CPU_REQUESTS = \"0.1\"\n",
    "MEMORY_REQUESTS = \"1Gi\"\n",
    "\n",
    "CPU_LIMITS = \"0.1\"\n",
    "MEMORY_LIMITS = \"1Gi\""
   ]
  },
  {
   "cell_type": "code",
   "execution_count": null,
   "metadata": {},
   "outputs": [],
   "source": [
    "mldeployment = {\n",
    "    \"kind\": \"SeldonDeployment\",\n",
    "    \"metadata\": {\n",
    "        \"name\": DEPLOYMENT_NAME,\n",
    "        \"namespace\": NAMESPACE,\n",
    "        \"labels\": {\n",
    "            \"fluentd\": \"true\"\n",
    "        }\n",
    "    },\n",
    "    \"apiVersion\": \"machinelearning.seldon.io/v1alpha2\",\n",
    "    \"spec\": {\n",
    "        \"name\": DEPLOYMENT_NAME,\n",
    "        \"annotations\": {\n",
    "            \"seldon.io/engine-seldon-log-messages-externally\": \"true\"\n",
    "        },\n",
    "        \"protocol\": \"seldon\",\n",
    "        \"transport\": \"rest\",\n",
    "        \"predictors\": [\n",
    "            {\n",
    "                \"componentSpecs\": [\n",
    "                    {\n",
    "                        \"spec\": {\n",
    "                            \"containers\": [\n",
    "                                {\n",
    "                                    \"name\": f\"{DEPLOYMENT_NAME}-container\",\n",
    "                                    \"resources\": {\n",
    "                                        \"requests\": {\n",
    "                                            \"cpu\": CPU_REQUESTS,\n",
    "                                            \"memory\": MEMORY_REQUESTS\n",
    "                                        },\n",
    "                                        \"limits\": {\n",
    "                                            \"cpu\": CPU_LIMITS,\n",
    "                                            \"memory\": MEMORY_LIMITS\n",
    "                                        }\n",
    "                                    }\n",
    "                                }\n",
    "                            ]\n",
    "                        }\n",
    "                    }\n",
    "                ],\n",
    "                \"name\": \"default\",\n",
    "                \"replicas\": 1,\n",
    "                \"traffic\": 100,\n",
    "                \"graph\": {\n",
    "                    \"implementation\": \"XGBOOST_SERVER\",\n",
    "                    \"modelUri\": MODEL_URI,\n",
    "                    \"name\": f\"{DEPLOYMENT_NAME}-container\",\n",
    "                    \"endpoint\": {\n",
    "                        \"type\": \"REST\"\n",
    "                    },\n",
    "                    \"parameters\": [],\n",
    "                    \"children\": [],\n",
    "                    \"logger\": {\n",
    "                        \"mode\": \"all\"\n",
    "                    }\n",
    "                }\n",
    "            }\n",
    "        ]\n",
    "    },\n",
    "    \"status\": {}\n",
    "}"
   ]
  },
  {
   "cell_type": "code",
   "execution_count": null,
   "metadata": {},
   "outputs": [],
   "source": [
    "deployment_api = SeldonDeploymentsApi(auth())\n",
    "deployment_api.create_seldon_deployment(namespace=NAMESPACE, mldeployment=mldeployment)"
   ]
  },
  {
   "cell_type": "markdown",
   "metadata": {},
   "source": [
    "Example request:\n",
    "\n",
    "```\n",
    "{\n",
    "    \"data\": {\n",
    "        \"ndarray\": [\n",
    "            [0, 0, 0, 0, 19, 0, 24.7, 465.85,\n",
    "                1, 0, 0, 1, 0, 0, 1,\n",
    "                0, 1, 0, 0, 1, 0, 0, 1,\n",
    "                0, 0, 1, 0, 0, 1, 0, 0,\n",
    "                1, 0, 1, 0, 0, 1, 0, 0,\n",
    "                0\n",
    "            ]\n",
    "        ]\n",
    "    }\n",
    "}\n",
    "```"
   ]
  },
  {
   "cell_type": "code",
   "execution_count": null,
   "metadata": {},
   "outputs": [],
   "source": [
    "test_X[2:3]"
   ]
  },
  {
   "cell_type": "code",
   "execution_count": null,
   "metadata": {},
   "outputs": [],
   "source": [
    "train_X"
   ]
  },
  {
   "cell_type": "code",
   "execution_count": null,
   "metadata": {},
   "outputs": [],
   "source": [
    "test_X.columns"
   ]
  },
  {
   "cell_type": "code",
   "execution_count": null,
   "metadata": {
    "scrolled": true
   },
   "outputs": [],
   "source": [
    "test_X[2:3].values"
   ]
  },
  {
   "cell_type": "markdown",
   "metadata": {},
   "source": [
    "```\n",
    "{\n",
    "    \"data\": {\n",
    "        \"ndarray\": [\n",
    "            [1, 0, 1, 0, 13, 1, 1, 102.25, \n",
    "            1359.0, 0, 0, 1, 0, 1, 0,\n",
    "            1, 0, 0, 1, 0, 0, 0, 0, 1,\n",
    "            1, 0, 0, 0, 0, 1, 0, 0, 1,\n",
    "            1, 0, 0, 0, 1, 0, 0]\n",
    "        ]\n",
    "    }\n",
    "}\n",
    "```\n",
    "\n",
    "```\n",
    "{\n",
    "    \"data\": {\n",
    "        \"ndarray\": [\n",
    "            [0, 0, 0, 0, 18, 1, 1, 95.05, 1679.4,\n",
    "            0, 0, 1, 0, 1, 0, 1, 0, 0, 1, 0, 0, 0, \n",
    "            0, 1, 0, 0, 1, 1, 0, 0, 0, 0, 1, 1, 0, \n",
    "            0, 1, 0, 0, 0]\n",
    "        ]\n",
    "    }\n",
    "}\n",
    "```"
   ]
  },
  {
   "cell_type": "code",
   "execution_count": null,
   "metadata": {},
   "outputs": [],
   "source": [
    "test_y"
   ]
  },
  {
   "cell_type": "code",
   "execution_count": null,
   "metadata": {},
   "outputs": [],
   "source": [
    "prediction_schema = {\n",
    "    \"requests\": [\n",
    "        {\n",
    "            \"name\": \"gender\",\n",
    "            \"type\": \"CATEGORICAL\",\n",
    "            \"dataType\": \"INT\",\n",
    "            \"nCategories\": \"2\",\n",
    "            \"categoryMap\": {\n",
    "                \"0\": \"Female\",\n",
    "                \"1\": \"Male\"\n",
    "            }\n",
    "        },\n",
    "        {\n",
    "            \"name\": \"SeniorCitizen\",\n",
    "            \"type\": \"REAL\",\n",
    "            \"dataType\": \"INT\"\n",
    "        },\n",
    "        {\n",
    "            \"name\": \"Partner\",\n",
    "            \"type\": \"REAL\",\n",
    "            \"dataType\": \"INT\"\n",
    "        },\n",
    "        {\n",
    "            \"name\": \"Dependents\",\n",
    "            \"type\": \"REAL\",\n",
    "            \"dataType\": \"INT\"\n",
    "        },\n",
    "        {\n",
    "            \"name\": \"tenure\",\n",
    "            \"type\": \"REAL\",\n",
    "            \"dataType\": \"INT\"\n",
    "        },\n",
    "        {\n",
    "            \"name\": \"PhoneService\",\n",
    "            \"type\": \"REAL\",\n",
    "            \"dataType\": \"INT\"\n",
    "        },\n",
    "        {\n",
    "            \"name\": \"PaperlessBilling\",\n",
    "            \"type\": \"REAL\",\n",
    "            \"dataType\": \"INT\"\n",
    "        },\n",
    "        {\n",
    "            \"name\": \"MonthlyCharges\",\n",
    "            \"type\": \"REAL\",\n",
    "            \"dataType\": \"FLOAT\"\n",
    "        },\n",
    "        {\n",
    "            \"name\": \"TotalCharges\",\n",
    "            \"type\": \"REAL\",\n",
    "            \"dataType\": \"FLOAT\"\n",
    "        },\n",
    "        {\n",
    "            \"name\": \"MultipleLines_No\",\n",
    "            \"type\": \"REAL\",\n",
    "            \"dataType\": \"INT\"\n",
    "        },\n",
    "        {\n",
    "            \"name\": \"MultipleLines_No phone service\",\n",
    "            \"type\": \"REAL\",\n",
    "            \"dataType\": \"INT\"\n",
    "        },\n",
    "        {\n",
    "            \"name\": \"MultipleLines_Yes\",\n",
    "            \"type\": \"REAL\",\n",
    "            \"dataType\": \"INT\"\n",
    "        },\n",
    "        {\n",
    "            \"name\": \"InternetService_DSL\",\n",
    "            \"type\": \"REAL\",\n",
    "            \"dataType\": \"INT\"\n",
    "        },\n",
    "        {\n",
    "            \"name\": \"InternetService_Fiber optic\",\n",
    "            \"type\": \"REAL\",\n",
    "            \"dataType\": \"INT\"\n",
    "        },\n",
    "        {\n",
    "            \"name\": \"InternetService_No\",\n",
    "            \"type\": \"REAL\",\n",
    "            \"dataType\": \"INT\"\n",
    "        },\n",
    "        {\n",
    "            \"name\": \"OnlineSecurity_No\",\n",
    "            \"type\": \"REAL\",\n",
    "            \"dataType\": \"INT\"\n",
    "        },\n",
    "        {\n",
    "            \"name\": \"OnlineSecurity_No internet service\",\n",
    "            \"type\": \"REAL\",\n",
    "            \"dataType\": \"INT\"\n",
    "        },\n",
    "        {\n",
    "            \"name\": \"OnlineSecurity_Yes\",\n",
    "            \"type\": \"REAL\",\n",
    "            \"dataType\": \"INT\"\n",
    "        },\n",
    "        {\n",
    "            \"name\": \"OnlineBackup_No\",\n",
    "            \"type\": \"REAL\",\n",
    "            \"dataType\": \"INT\"\n",
    "        },\n",
    "        {\n",
    "            \"name\": \"OnlineBackup_No internet service\",\n",
    "            \"type\": \"REAL\",\n",
    "            \"dataType\": \"INT\"\n",
    "        },\n",
    "        {\n",
    "            \"name\": \"OnlineBackup_Yes\",\n",
    "            \"type\": \"REAL\",\n",
    "            \"dataType\": \"INT\"\n",
    "        },\n",
    "        {\n",
    "            \"name\": \"DeviceProtection_No\",\n",
    "            \"type\": \"REAL\",\n",
    "            \"dataType\": \"INT\"\n",
    "        },\n",
    "        {\n",
    "            \"name\": \"DeviceProtection_No internet service\",\n",
    "            \"type\": \"REAL\",\n",
    "            \"dataType\": \"INT\"\n",
    "        },\n",
    "        {\n",
    "            \"name\": \"DeviceProtection_Yes\",\n",
    "            \"type\": \"REAL\",\n",
    "            \"dataType\": \"INT\"\n",
    "        },\n",
    "        {\n",
    "            \"name\": \"TechSupport_No\",\n",
    "            \"type\": \"REAL\",\n",
    "            \"dataType\": \"INT\"\n",
    "        },\n",
    "        {\n",
    "            \"name\": \"TechSupport_No internet service\",\n",
    "            \"type\": \"REAL\",\n",
    "            \"dataType\": \"INT\"\n",
    "        },\n",
    "        {\n",
    "            \"name\": \"TechSupport_Yes\",\n",
    "            \"type\": \"REAL\",\n",
    "            \"dataType\": \"INT\"\n",
    "        },\n",
    "        {\n",
    "            \"name\": \"StreamingTV_No\",\n",
    "            \"type\": \"REAL\",\n",
    "            \"dataType\": \"INT\"\n",
    "        },\n",
    "        {\n",
    "            \"name\": \"StreamingTV_No internet service\",\n",
    "            \"type\": \"REAL\",\n",
    "            \"dataType\": \"INT\"\n",
    "        },\n",
    "        {\n",
    "            \"name\": \"StreamingTV_Yes\",\n",
    "            \"type\": \"REAL\",\n",
    "            \"dataType\": \"INT\"\n",
    "        },\n",
    "        {\n",
    "            \"name\": \"StreamingMovies_No\",\n",
    "            \"type\": \"REAL\",\n",
    "            \"dataType\": \"INT\"\n",
    "        },\n",
    "        {\n",
    "            \"name\": \"StreamingMovies_No internet service\",\n",
    "            \"type\": \"REAL\",\n",
    "            \"dataType\": \"INT\"\n",
    "        },\n",
    "        {\n",
    "            \"name\": \"StreamingMovies_Yes\",\n",
    "            \"type\": \"REAL\",\n",
    "            \"dataType\": \"INT\"\n",
    "        },\n",
    "        {\n",
    "            \"name\": \"Contract_Month-to-month\",\n",
    "            \"type\": \"REAL\",\n",
    "            \"dataType\": \"INT\"\n",
    "        },\n",
    "        {\n",
    "            \"name\": \"Contract_One year\",\n",
    "            \"type\": \"REAL\",\n",
    "            \"dataType\": \"INT\"\n",
    "        },\n",
    "        {\n",
    "            \"name\": \"Contract_Two year\",\n",
    "            \"type\": \"REAL\",\n",
    "            \"dataType\": \"INT\"\n",
    "        },\n",
    "        {\n",
    "            \"name\": \"PaymentMethod_Bank transfer (automatic)\",\n",
    "            \"type\": \"REAL\",\n",
    "            \"dataType\": \"INT\"\n",
    "        },\n",
    "        {\n",
    "            \"name\": \"PaymentMethod_Credit card (automatic)\",\n",
    "            \"type\": \"REAL\",\n",
    "            \"dataType\": \"INT\"\n",
    "        },\n",
    "        {\n",
    "            \"name\": \"PaymentMethod_Electronic check\",\n",
    "            \"type\": \"REAL\",\n",
    "            \"dataType\": \"INT\"\n",
    "        },\n",
    "        {\n",
    "            \"name\": \"PaymentMethod_Mailed check\",\n",
    "            \"type\": \"REAL\",\n",
    "            \"dataType\": \"INT\"\n",
    "        }\n",
    "    ],\n",
    "    \"responses\": [{\n",
    "        \"name\": \"Likelihood of Churn\",\n",
    "        \"type\": \"REAL\",\n",
    "        \"dataType\": \"FLOAT\",\n",
    "    }]\n",
    "}"
   ]
  },
  {
   "cell_type": "code",
   "execution_count": null,
   "metadata": {},
   "outputs": [],
   "source": [
    "model_catalog_metadata = {\n",
    "      \"URI\": MODEL_URI,\n",
    "      \"name\": f\"{DEPLOYMENT_NAME}-model\",\n",
    "      \"version\": \"v1.0\",\n",
    "      \"artifactType\": \"XGBOOST\",\n",
    "      \"taskType\": \"Customer churn classification\",\n",
    "      \"tags\": {\n",
    "        \"auto_created\": \"true\",\n",
    "        \"author\": f\"{YOUR_NAME}\"\n",
    "      },\n",
    "      \"metrics\": {},\n",
    "      \"project\": \"default\",\n",
    "      \"prediction_schema\": prediction_schema\n",
    "    }\n",
    "\n",
    "model_catalog_metadata"
   ]
  },
  {
   "cell_type": "code",
   "execution_count": null,
   "metadata": {},
   "outputs": [],
   "source": [
    "metadata_api = ModelMetadataServiceApi(auth())\n",
    "metadata_api.model_metadata_service_update_model_metadata(model_catalog_metadata)"
   ]
  },
  {
   "cell_type": "code",
   "execution_count": null,
   "metadata": {},
   "outputs": [],
   "source": [
    "metadata_response = metadata_api.model_metadata_service_list_model_metadata(uri=MODEL_URI)\n",
    "metadata_response"
   ]
  },
  {
   "cell_type": "markdown",
   "metadata": {},
   "source": [
    "### Create an Explainer"
   ]
  },
  {
   "cell_type": "code",
   "execution_count": null,
   "metadata": {},
   "outputs": [],
   "source": [
    "def predict_fn(x):\n",
    "    return model.predict_proba(x)"
   ]
  },
  {
   "cell_type": "code",
   "execution_count": null,
   "metadata": {},
   "outputs": [],
   "source": [
    "columns = list(train_X.columns)\n",
    "explainer = AnchorTabular(predict_fn, columns)"
   ]
  },
  {
   "cell_type": "code",
   "execution_count": null,
   "metadata": {},
   "outputs": [],
   "source": [
    "Xchurn = train_X.loc[train_y == 1]\n",
    "XnonChurn = train_X.loc[train_y == 0]"
   ]
  },
  {
   "cell_type": "code",
   "execution_count": null,
   "metadata": {},
   "outputs": [],
   "source": [
    "balanced_set = pd.concat([Xchurn, XnonChurn.iloc[:len(Xchurn)]]).to_numpy()"
   ]
  },
  {
   "cell_type": "code",
   "execution_count": null,
   "metadata": {},
   "outputs": [],
   "source": [
    "explainer.fit(balanced_set, disc_perc=(25, 50, 75)) "
   ]
  },
  {
   "cell_type": "code",
   "execution_count": null,
   "metadata": {},
   "outputs": [],
   "source": [
    "idx = 36\n",
    "\n",
    "testX_array = test_X.to_numpy()\n",
    "\n",
    "class_names = [\"Non-Churn\", \"Churn\"]\n",
    "print('Prediction: ', class_names[explainer.predictor(testX_array[idx].reshape(1, -1))[0]])\n",
    "\n",
    "explanation = explainer.explain(testX_array[idx], threshold=0.95)\n",
    "print('Anchor: %s' % (' AND '.join(explanation.anchor)))\n",
    "print('Precision: %.2f' % explanation.precision)\n",
    "print('Coverage: %.2f' % explanation.coverage)"
   ]
  },
  {
   "cell_type": "code",
   "execution_count": null,
   "metadata": {},
   "outputs": [],
   "source": [
    "explainer.save(\"poetry-churn-explainer\")"
   ]
  },
  {
   "cell_type": "code",
   "execution_count": null,
   "metadata": {},
   "outputs": [],
   "source": [
    "!gsutil cp -r churn-explainer gs://kelly-seldon/customer-churn/models/{YOUR_NAME}/poetry-churn-explainer"
   ]
  },
  {
   "cell_type": "markdown",
   "metadata": {},
   "source": [
    "### Deplying the Explainer"
   ]
  },
  {
   "cell_type": "code",
   "execution_count": null,
   "metadata": {},
   "outputs": [],
   "source": [
    "EXPLAINER_TYPE = \"AnchorTabular\"\n",
    "EXPLAINER_URI = f\"gs://kelly-seldon/customer-churn/models/{YOUR_NAME}/poetry-churn-explainer\"\n",
    "\n",
    "explainer_spec = {\n",
    "    \"type\": EXPLAINER_TYPE,\n",
    "    \"modelUri\": EXPLAINER_URI,\n",
    "    \"containerSpec\": {\n",
    "        \"name\": \"\",\n",
    "        \"resources\": {}\n",
    "    }\n",
    "}"
   ]
  },
  {
   "cell_type": "code",
   "execution_count": null,
   "metadata": {},
   "outputs": [],
   "source": [
    "mldeployment['spec']['predictors'][0]['explainer'] = explainer_spec"
   ]
  },
  {
   "cell_type": "code",
   "execution_count": null,
   "metadata": {},
   "outputs": [],
   "source": [
    "\n",
    "deployment_api = SeldonDeploymentsApi(auth())\n",
    "deployment_api.create_seldon_deployment(namespace=NAMESPACE, mldeployment=mldeployment)"
   ]
  },
  {
   "cell_type": "code",
   "execution_count": null,
   "metadata": {},
   "outputs": [],
   "source": []
  }
 ],
 "metadata": {
  "kernelspec": {
   "display_name": "Python 3.8.13 (conda)",
   "language": "python",
   "name": "python3"
  },
  "language_info": {
   "codemirror_mode": {
    "name": "ipython",
    "version": 3
   },
   "file_extension": ".py",
   "mimetype": "text/x-python",
   "name": "python",
   "nbconvert_exporter": "python",
   "pygments_lexer": "ipython3",
   "version": "3.7.10"
  },
  "vscode": {
   "interpreter": {
    "hash": "6cde653dc7e404d92bb0aa0a14e716094018534713c3838f8add94bcba419b30"
   }
  }
 },
 "nbformat": 4,
 "nbformat_minor": 4
}
