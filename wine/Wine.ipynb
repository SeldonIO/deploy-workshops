{
 "cells": [
  {
   "cell_type": "markdown",
   "id": "10f34745",
   "metadata": {},
   "source": [
    "## Hands-On Tabular Workshop: Wine classifier with MLFlow, MinIO, and Seldon\n",
    "\n",
    "In this workshop, we will run an ML Flow model, save the artefacts to MinIO, and create a v2 protocol SeldonDeployment via the SDK\n",
    "\n",
    "We will follow these steps:\n",
    "1. Create environment, install libraries, import methods\n",
    "2. Run experiment and train model in MLFlow\n",
    "3. Conda pack the environment\n",
    "4. Push artefacts to MinIO\n",
    "5. Deploy via the SDK\n",
    "6. [Optional] Add model metadata via the SDK\n",
    "7. [Optional] Create a new MLFlow run with different hyperparametes, and deploy a canary model\n",
    "8. [Optional] Train and deploy a drift detector\n",
    "9. [Optional] Train and deploy an explainer"
   ]
  },
  {
   "cell_type": "markdown",
   "id": "a0c6b764",
   "metadata": {},
   "source": [
    "### 1. Create environment, install libraries, import methods"
   ]
  },
  {
   "cell_type": "markdown",
   "id": "52147ab0",
   "metadata": {},
   "source": [
    "In your terminal, create a new virtual environment:\n",
    "`conda create -n mlflow-wine python=3.8`\n",
    "\n",
    "Activate the new environment:\n",
    "`conda activate mlflow-wine`\n",
    "\n",
    "Check that you are in the correct environment"
   ]
  },
  {
   "cell_type": "code",
   "execution_count": 1,
   "id": "3cd128ee",
   "metadata": {},
   "outputs": [
    {
     "name": "stdout",
     "output_type": "stream",
     "text": [
      "# conda environments:\r\n",
      "#\r\n",
      "base                     /home/andrew/.asdf/installs/python/miniconda3-4.7.12\r\n",
      "mlflow                   /home/andrew/.asdf/installs/python/miniconda3-4.7.12/envs/mlflow\r\n",
      "mlflow-wine           *  /home/andrew/.asdf/installs/python/miniconda3-4.7.12/envs/mlflow-wine\r\n",
      "python3.8-mlflow-example     /home/andrew/.asdf/installs/python/miniconda3-4.7.12/envs/python3.8-mlflow-example\r\n",
      "                         /home/andrew/seldon/core-tutorials/iris-explainer-poetry/venv\r\n",
      "\r\n"
     ]
    }
   ],
   "source": [
    "!conda env list"
   ]
  },
  {
   "cell_type": "markdown",
   "id": "39e0e720",
   "metadata": {},
   "source": [
    "Install required dependencies into your environment"
   ]
  },
  {
   "cell_type": "code",
   "execution_count": 24,
   "id": "8660ef7e",
   "metadata": {},
   "outputs": [
    {
     "name": "stdout",
     "output_type": "stream",
     "text": [
      "Requirement already satisfied: seldon_deploy_sdk in /home/andrew/.asdf/installs/python/miniconda3-4.7.12/lib/python3.7/site-packages (1.6.0)\n",
      "Requirement already satisfied: python-dateutil>=2.1 in /home/andrew/.asdf/installs/python/miniconda3-4.7.12/lib/python3.7/site-packages (from seldon_deploy_sdk) (2.8.2)\n",
      "Requirement already satisfied: certifi>=2017.4.17 in /home/andrew/.asdf/installs/python/miniconda3-4.7.12/lib/python3.7/site-packages (from seldon_deploy_sdk) (2022.6.15)\n",
      "Requirement already satisfied: six>=1.10 in /home/andrew/.asdf/installs/python/miniconda3-4.7.12/lib/python3.7/site-packages (from seldon_deploy_sdk) (1.12.0)\n",
      "Requirement already satisfied: Authlib<=0.16.0 in /home/andrew/.asdf/installs/python/miniconda3-4.7.12/lib/python3.7/site-packages (from seldon_deploy_sdk) (0.15.5)\n",
      "Requirement already satisfied: urllib3>=1.23 in /home/andrew/.asdf/installs/python/miniconda3-4.7.12/lib/python3.7/site-packages (from seldon_deploy_sdk) (1.24.2)\n",
      "Requirement already satisfied: cryptography in /home/andrew/.asdf/installs/python/miniconda3-4.7.12/lib/python3.7/site-packages (from Authlib<=0.16.0->seldon_deploy_sdk) (2.7)\n",
      "Requirement already satisfied: asn1crypto>=0.21.0 in /home/andrew/.asdf/installs/python/miniconda3-4.7.12/lib/python3.7/site-packages (from cryptography->Authlib<=0.16.0->seldon_deploy_sdk) (1.0.1)\n",
      "Requirement already satisfied: cffi!=1.11.3,>=1.8 in /home/andrew/.asdf/installs/python/miniconda3-4.7.12/lib/python3.7/site-packages (from cryptography->Authlib<=0.16.0->seldon_deploy_sdk) (1.12.3)\n",
      "Requirement already satisfied: pycparser in /home/andrew/.asdf/installs/python/miniconda3-4.7.12/lib/python3.7/site-packages (from cffi!=1.11.3,>=1.8->cryptography->Authlib<=0.16.0->seldon_deploy_sdk) (2.19)\n",
      "Requirement already satisfied: minio in /home/andrew/.asdf/installs/python/miniconda3-4.7.12/lib/python3.7/site-packages (7.1.11)\n",
      "Requirement already satisfied: urllib3 in /home/andrew/.asdf/installs/python/miniconda3-4.7.12/lib/python3.7/site-packages (from minio) (1.24.2)\n",
      "Requirement already satisfied: certifi in /home/andrew/.asdf/installs/python/miniconda3-4.7.12/lib/python3.7/site-packages (from minio) (2022.6.15)\n",
      "Requirement already satisfied: conda-pack in /home/andrew/.asdf/installs/python/miniconda3-4.7.12/lib/python3.7/site-packages (0.6.0)\n",
      "Requirement already satisfied: setuptools in /home/andrew/.asdf/installs/python/miniconda3-4.7.12/lib/python3.7/site-packages (from conda-pack) (41.4.0)\n",
      "Requirement already satisfied: mlserver in /home/andrew/.asdf/installs/python/miniconda3-4.7.12/lib/python3.7/site-packages (1.1.0)\n",
      "Requirement already satisfied: importlib-metadata in /home/andrew/.asdf/installs/python/miniconda3-4.7.12/lib/python3.7/site-packages (from mlserver) (4.11.3)\n",
      "Requirement already satisfied: aiokafka in /home/andrew/.asdf/installs/python/miniconda3-4.7.12/lib/python3.7/site-packages (from mlserver) (0.7.2)\n",
      "Requirement already satisfied: click in /home/andrew/.asdf/installs/python/miniconda3-4.7.12/lib/python3.7/site-packages (from mlserver) (8.1.3)\n",
      "Requirement already satisfied: starlette-exporter in /home/andrew/.asdf/installs/python/miniconda3-4.7.12/lib/python3.7/site-packages (from mlserver) (0.14.0)\n",
      "Requirement already satisfied: numpy in /home/andrew/.asdf/installs/python/miniconda3-4.7.12/lib/python3.7/site-packages (from mlserver) (1.21.6)\n",
      "Requirement already satisfied: protobuf in /home/andrew/.asdf/installs/python/miniconda3-4.7.12/lib/python3.7/site-packages (from mlserver) (3.19.4)\n",
      "Requirement already satisfied: uvloop in /home/andrew/.asdf/installs/python/miniconda3-4.7.12/lib/python3.7/site-packages (from mlserver) (0.16.0)\n",
      "Requirement already satisfied: py-grpc-prometheus in /home/andrew/.asdf/installs/python/miniconda3-4.7.12/lib/python3.7/site-packages (from mlserver) (0.7.0)\n",
      "Requirement already satisfied: pandas in /home/andrew/.asdf/installs/python/miniconda3-4.7.12/lib/python3.7/site-packages (from mlserver) (1.3.5)\n",
      "Requirement already satisfied: uvicorn in /home/andrew/.asdf/installs/python/miniconda3-4.7.12/lib/python3.7/site-packages (from mlserver) (0.18.3)\n",
      "Requirement already satisfied: fastapi in /home/andrew/.asdf/installs/python/miniconda3-4.7.12/lib/python3.7/site-packages (from mlserver) (0.82.0)\n",
      "Requirement already satisfied: grpcio in /home/andrew/.asdf/installs/python/miniconda3-4.7.12/lib/python3.7/site-packages (from mlserver) (1.47.0)\n",
      "Requirement already satisfied: python-dotenv in /home/andrew/.asdf/installs/python/miniconda3-4.7.12/lib/python3.7/site-packages (from mlserver) (0.21.0)\n",
      "Requirement already satisfied: kafka-python>=2.0.0 in /home/andrew/.asdf/installs/python/miniconda3-4.7.12/lib/python3.7/site-packages (from aiokafka->mlserver) (2.0.2)\n",
      "Requirement already satisfied: starlette==0.19.1 in /home/andrew/.asdf/installs/python/miniconda3-4.7.12/lib/python3.7/site-packages (from fastapi->mlserver) (0.19.1)\n",
      "Requirement already satisfied: pydantic!=1.7,!=1.7.1,!=1.7.2,!=1.7.3,!=1.8,!=1.8.1,<2.0.0,>=1.6.2 in /home/andrew/.asdf/installs/python/miniconda3-4.7.12/lib/python3.7/site-packages (from fastapi->mlserver) (1.9.2)\n",
      "Requirement already satisfied: typing-extensions>=3.10.0 in /home/andrew/.asdf/installs/python/miniconda3-4.7.12/lib/python3.7/site-packages (from starlette==0.19.1->fastapi->mlserver) (4.1.1)\n",
      "Requirement already satisfied: anyio<5,>=3.4.0 in /home/andrew/.asdf/installs/python/miniconda3-4.7.12/lib/python3.7/site-packages (from starlette==0.19.1->fastapi->mlserver) (3.6.1)\n",
      "Requirement already satisfied: six>=1.5.2 in /home/andrew/.asdf/installs/python/miniconda3-4.7.12/lib/python3.7/site-packages (from grpcio->mlserver) (1.12.0)\n",
      "Requirement already satisfied: zipp>=0.5 in /home/andrew/.asdf/installs/python/miniconda3-4.7.12/lib/python3.7/site-packages (from importlib-metadata->mlserver) (3.8.0)\n",
      "Requirement already satisfied: pytz>=2017.3 in /home/andrew/.asdf/installs/python/miniconda3-4.7.12/lib/python3.7/site-packages (from pandas->mlserver) (2022.2.1)\n",
      "Requirement already satisfied: python-dateutil>=2.7.3 in /home/andrew/.asdf/installs/python/miniconda3-4.7.12/lib/python3.7/site-packages (from pandas->mlserver) (2.8.2)\n",
      "Requirement already satisfied: prometheus-client>=0.3.0 in /home/andrew/.asdf/installs/python/miniconda3-4.7.12/lib/python3.7/site-packages (from py-grpc-prometheus->mlserver) (0.13.1)\n",
      "Requirement already satisfied: setuptools>=39.0.1 in /home/andrew/.asdf/installs/python/miniconda3-4.7.12/lib/python3.7/site-packages (from py-grpc-prometheus->mlserver) (41.4.0)\n",
      "Requirement already satisfied: h11>=0.8 in /home/andrew/.asdf/installs/python/miniconda3-4.7.12/lib/python3.7/site-packages (from uvicorn->mlserver) (0.13.0)\n",
      "Requirement already satisfied: sniffio>=1.1 in /home/andrew/.asdf/installs/python/miniconda3-4.7.12/lib/python3.7/site-packages (from anyio<5,>=3.4.0->starlette==0.19.1->fastapi->mlserver) (1.3.0)\n",
      "Requirement already satisfied: idna>=2.8 in /home/andrew/.asdf/installs/python/miniconda3-4.7.12/lib/python3.7/site-packages (from anyio<5,>=3.4.0->starlette==0.19.1->fastapi->mlserver) (2.8)\n",
      "Requirement already satisfied: mlserver-mlflow in /home/andrew/.asdf/installs/python/miniconda3-4.7.12/lib/python3.7/site-packages (1.1.0)\n",
      "Requirement already satisfied: mlserver in /home/andrew/.asdf/installs/python/miniconda3-4.7.12/lib/python3.7/site-packages (from mlserver-mlflow) (1.1.0)\n",
      "Requirement already satisfied: mlflow in /home/andrew/.asdf/installs/python/miniconda3-4.7.12/lib/python3.7/site-packages (from mlserver-mlflow) (1.28.0)\n",
      "Requirement already satisfied: pyyaml<7,>=5.1 in /home/andrew/.asdf/installs/python/miniconda3-4.7.12/lib/python3.7/site-packages (from mlflow->mlserver-mlflow) (6.0)\n",
      "Requirement already satisfied: cloudpickle<3 in /home/andrew/.asdf/installs/python/miniconda3-4.7.12/lib/python3.7/site-packages (from mlflow->mlserver-mlflow) (2.1.0)\n",
      "Requirement already satisfied: pytz<2023 in /home/andrew/.asdf/installs/python/miniconda3-4.7.12/lib/python3.7/site-packages (from mlflow->mlserver-mlflow) (2022.2.1)\n",
      "Requirement already satisfied: gunicorn<21 in /home/andrew/.asdf/installs/python/miniconda3-4.7.12/lib/python3.7/site-packages (from mlflow->mlserver-mlflow) (20.1.0)\n",
      "Requirement already satisfied: prometheus-flask-exporter<1 in /home/andrew/.asdf/installs/python/miniconda3-4.7.12/lib/python3.7/site-packages (from mlflow->mlserver-mlflow) (0.20.3)\n",
      "Requirement already satisfied: importlib-metadata!=4.7.0,<5,>=3.7.0 in /home/andrew/.asdf/installs/python/miniconda3-4.7.12/lib/python3.7/site-packages (from mlflow->mlserver-mlflow) (4.11.3)\n",
      "Requirement already satisfied: sqlparse<1,>=0.4.0 in /home/andrew/.asdf/installs/python/miniconda3-4.7.12/lib/python3.7/site-packages (from mlflow->mlserver-mlflow) (0.4.2)\n",
      "Requirement already satisfied: entrypoints<1 in /home/andrew/.asdf/installs/python/miniconda3-4.7.12/lib/python3.7/site-packages (from mlflow->mlserver-mlflow) (0.4)\n",
      "Requirement already satisfied: Flask<3 in /home/andrew/.asdf/installs/python/miniconda3-4.7.12/lib/python3.7/site-packages (from mlflow->mlserver-mlflow) (2.2.2)\n",
      "Requirement already satisfied: click<9,>=7.0 in /home/andrew/.asdf/installs/python/miniconda3-4.7.12/lib/python3.7/site-packages (from mlflow->mlserver-mlflow) (8.1.3)\n",
      "Requirement already satisfied: alembic<2 in /home/andrew/.asdf/installs/python/miniconda3-4.7.12/lib/python3.7/site-packages (from mlflow->mlserver-mlflow) (1.8.1)\n",
      "Requirement already satisfied: scipy<2 in /home/andrew/.asdf/installs/python/miniconda3-4.7.12/lib/python3.7/site-packages (from mlflow->mlserver-mlflow) (1.7.3)\n",
      "Requirement already satisfied: pandas<2 in /home/andrew/.asdf/installs/python/miniconda3-4.7.12/lib/python3.7/site-packages (from mlflow->mlserver-mlflow) (1.3.5)\n",
      "Requirement already satisfied: databricks-cli<1,>=0.8.7 in /home/andrew/.asdf/installs/python/miniconda3-4.7.12/lib/python3.7/site-packages (from mlflow->mlserver-mlflow) (0.17.3)\n",
      "Requirement already satisfied: protobuf<5,>=3.12.0 in /home/andrew/.asdf/installs/python/miniconda3-4.7.12/lib/python3.7/site-packages (from mlflow->mlserver-mlflow) (3.19.4)\n",
      "Requirement already satisfied: querystring-parser<2 in /home/andrew/.asdf/installs/python/miniconda3-4.7.12/lib/python3.7/site-packages (from mlflow->mlserver-mlflow) (1.2.4)\n",
      "Requirement already satisfied: requests<3,>=2.17.3 in /home/andrew/.asdf/installs/python/miniconda3-4.7.12/lib/python3.7/site-packages (from mlflow->mlserver-mlflow) (2.28.1)\n",
      "Requirement already satisfied: packaging<22 in /home/andrew/.asdf/installs/python/miniconda3-4.7.12/lib/python3.7/site-packages (from mlflow->mlserver-mlflow) (21.3)\n",
      "Requirement already satisfied: sqlalchemy<2,>=1.4.0 in /home/andrew/.asdf/installs/python/miniconda3-4.7.12/lib/python3.7/site-packages (from mlflow->mlserver-mlflow) (1.4.40)\n",
      "Requirement already satisfied: numpy<2 in /home/andrew/.asdf/installs/python/miniconda3-4.7.12/lib/python3.7/site-packages (from mlflow->mlserver-mlflow) (1.21.6)\n",
      "Requirement already satisfied: docker<6,>=4.0.0 in /home/andrew/.asdf/installs/python/miniconda3-4.7.12/lib/python3.7/site-packages (from mlflow->mlserver-mlflow) (5.0.3)\n",
      "Requirement already satisfied: gitpython<4,>=2.1.0 in /home/andrew/.asdf/installs/python/miniconda3-4.7.12/lib/python3.7/site-packages (from mlflow->mlserver-mlflow) (3.1.27)\n"
     ]
    },
    {
     "name": "stdout",
     "output_type": "stream",
     "text": [
      "Requirement already satisfied: grpcio in /home/andrew/.asdf/installs/python/miniconda3-4.7.12/lib/python3.7/site-packages (from mlserver->mlserver-mlflow) (1.47.0)\n",
      "Requirement already satisfied: py-grpc-prometheus in /home/andrew/.asdf/installs/python/miniconda3-4.7.12/lib/python3.7/site-packages (from mlserver->mlserver-mlflow) (0.7.0)\n",
      "Requirement already satisfied: uvicorn in /home/andrew/.asdf/installs/python/miniconda3-4.7.12/lib/python3.7/site-packages (from mlserver->mlserver-mlflow) (0.18.3)\n",
      "Requirement already satisfied: starlette-exporter in /home/andrew/.asdf/installs/python/miniconda3-4.7.12/lib/python3.7/site-packages (from mlserver->mlserver-mlflow) (0.14.0)\n",
      "Requirement already satisfied: aiokafka in /home/andrew/.asdf/installs/python/miniconda3-4.7.12/lib/python3.7/site-packages (from mlserver->mlserver-mlflow) (0.7.2)\n",
      "Requirement already satisfied: uvloop in /home/andrew/.asdf/installs/python/miniconda3-4.7.12/lib/python3.7/site-packages (from mlserver->mlserver-mlflow) (0.16.0)\n",
      "Requirement already satisfied: python-dotenv in /home/andrew/.asdf/installs/python/miniconda3-4.7.12/lib/python3.7/site-packages (from mlserver->mlserver-mlflow) (0.21.0)\n",
      "Requirement already satisfied: fastapi in /home/andrew/.asdf/installs/python/miniconda3-4.7.12/lib/python3.7/site-packages (from mlserver->mlserver-mlflow) (0.82.0)\n",
      "Requirement already satisfied: importlib-resources in /home/andrew/.asdf/installs/python/miniconda3-4.7.12/lib/python3.7/site-packages (from alembic<2->mlflow->mlserver-mlflow) (5.2.0)\n",
      "Requirement already satisfied: Mako in /home/andrew/.asdf/installs/python/miniconda3-4.7.12/lib/python3.7/site-packages (from alembic<2->mlflow->mlserver-mlflow) (1.2.2)\n",
      "Requirement already satisfied: six>=1.10.0 in /home/andrew/.asdf/installs/python/miniconda3-4.7.12/lib/python3.7/site-packages (from databricks-cli<1,>=0.8.7->mlflow->mlserver-mlflow) (1.12.0)\n",
      "Requirement already satisfied: oauthlib>=3.1.0 in /home/andrew/.asdf/installs/python/miniconda3-4.7.12/lib/python3.7/site-packages (from databricks-cli<1,>=0.8.7->mlflow->mlserver-mlflow) (3.2.0)\n",
      "Requirement already satisfied: tabulate>=0.7.7 in /home/andrew/.asdf/installs/python/miniconda3-4.7.12/lib/python3.7/site-packages (from databricks-cli<1,>=0.8.7->mlflow->mlserver-mlflow) (0.8.10)\n",
      "Requirement already satisfied: pyjwt>=1.7.0 in /home/andrew/.asdf/installs/python/miniconda3-4.7.12/lib/python3.7/site-packages (from databricks-cli<1,>=0.8.7->mlflow->mlserver-mlflow) (2.4.0)\n",
      "Requirement already satisfied: websocket-client>=0.32.0 in /home/andrew/.asdf/installs/python/miniconda3-4.7.12/lib/python3.7/site-packages (from docker<6,>=4.0.0->mlflow->mlserver-mlflow) (1.3.3)\n",
      "Requirement already satisfied: itsdangerous>=2.0 in /home/andrew/.asdf/installs/python/miniconda3-4.7.12/lib/python3.7/site-packages (from Flask<3->mlflow->mlserver-mlflow) (2.1.2)\n",
      "Requirement already satisfied: Werkzeug>=2.2.2 in /home/andrew/.asdf/installs/python/miniconda3-4.7.12/lib/python3.7/site-packages (from Flask<3->mlflow->mlserver-mlflow) (2.2.2)\n",
      "Requirement already satisfied: Jinja2>=3.0 in /home/andrew/.asdf/installs/python/miniconda3-4.7.12/lib/python3.7/site-packages (from Flask<3->mlflow->mlserver-mlflow) (3.0.3)\n",
      "Requirement already satisfied: typing-extensions>=3.7.4.3 in /home/andrew/.asdf/installs/python/miniconda3-4.7.12/lib/python3.7/site-packages (from gitpython<4,>=2.1.0->mlflow->mlserver-mlflow) (4.1.1)\n",
      "Requirement already satisfied: gitdb<5,>=4.0.1 in /home/andrew/.asdf/installs/python/miniconda3-4.7.12/lib/python3.7/site-packages (from gitpython<4,>=2.1.0->mlflow->mlserver-mlflow) (4.0.9)\n",
      "Requirement already satisfied: setuptools>=3.0 in /home/andrew/.asdf/installs/python/miniconda3-4.7.12/lib/python3.7/site-packages (from gunicorn<21->mlflow->mlserver-mlflow) (41.4.0)\n",
      "Requirement already satisfied: zipp>=0.5 in /home/andrew/.asdf/installs/python/miniconda3-4.7.12/lib/python3.7/site-packages (from importlib-metadata!=4.7.0,<5,>=3.7.0->mlflow->mlserver-mlflow) (3.8.0)\n",
      "Requirement already satisfied: pyparsing!=3.0.5,>=2.0.2 in /home/andrew/.asdf/installs/python/miniconda3-4.7.12/lib/python3.7/site-packages (from packaging<22->mlflow->mlserver-mlflow) (3.0.4)\n",
      "Requirement already satisfied: python-dateutil>=2.7.3 in /home/andrew/.asdf/installs/python/miniconda3-4.7.12/lib/python3.7/site-packages (from pandas<2->mlflow->mlserver-mlflow) (2.8.2)\n",
      "Requirement already satisfied: prometheus-client in /home/andrew/.asdf/installs/python/miniconda3-4.7.12/lib/python3.7/site-packages (from prometheus-flask-exporter<1->mlflow->mlserver-mlflow) (0.13.1)\n",
      "Requirement already satisfied: charset-normalizer<3,>=2 in /home/andrew/.asdf/installs/python/miniconda3-4.7.12/lib/python3.7/site-packages (from requests<3,>=2.17.3->mlflow->mlserver-mlflow) (2.1.1)\n",
      "Requirement already satisfied: idna<4,>=2.5 in /home/andrew/.asdf/installs/python/miniconda3-4.7.12/lib/python3.7/site-packages (from requests<3,>=2.17.3->mlflow->mlserver-mlflow) (2.8)\n",
      "Requirement already satisfied: urllib3<1.27,>=1.21.1 in /home/andrew/.asdf/installs/python/miniconda3-4.7.12/lib/python3.7/site-packages (from requests<3,>=2.17.3->mlflow->mlserver-mlflow) (1.24.2)\n",
      "Requirement already satisfied: certifi>=2017.4.17 in /home/andrew/.asdf/installs/python/miniconda3-4.7.12/lib/python3.7/site-packages (from requests<3,>=2.17.3->mlflow->mlserver-mlflow) (2022.6.15)\n",
      "Requirement already satisfied: greenlet!=0.4.17 in /home/andrew/.asdf/installs/python/miniconda3-4.7.12/lib/python3.7/site-packages (from sqlalchemy<2,>=1.4.0->mlflow->mlserver-mlflow) (1.1.3)\n",
      "Requirement already satisfied: kafka-python>=2.0.0 in /home/andrew/.asdf/installs/python/miniconda3-4.7.12/lib/python3.7/site-packages (from aiokafka->mlserver->mlserver-mlflow) (2.0.2)\n",
      "Requirement already satisfied: starlette==0.19.1 in /home/andrew/.asdf/installs/python/miniconda3-4.7.12/lib/python3.7/site-packages (from fastapi->mlserver->mlserver-mlflow) (0.19.1)\n",
      "Requirement already satisfied: pydantic!=1.7,!=1.7.1,!=1.7.2,!=1.7.3,!=1.8,!=1.8.1,<2.0.0,>=1.6.2 in /home/andrew/.asdf/installs/python/miniconda3-4.7.12/lib/python3.7/site-packages (from fastapi->mlserver->mlserver-mlflow) (1.9.2)\n",
      "Requirement already satisfied: anyio<5,>=3.4.0 in /home/andrew/.asdf/installs/python/miniconda3-4.7.12/lib/python3.7/site-packages (from starlette==0.19.1->fastapi->mlserver->mlserver-mlflow) (3.6.1)\n",
      "Requirement already satisfied: h11>=0.8 in /home/andrew/.asdf/installs/python/miniconda3-4.7.12/lib/python3.7/site-packages (from uvicorn->mlserver->mlserver-mlflow) (0.13.0)\n",
      "Requirement already satisfied: smmap<6,>=3.0.1 in /home/andrew/.asdf/installs/python/miniconda3-4.7.12/lib/python3.7/site-packages (from gitdb<5,>=4.0.1->gitpython<4,>=2.1.0->mlflow->mlserver-mlflow) (5.0.0)\n",
      "Requirement already satisfied: MarkupSafe>=2.0 in /home/andrew/.asdf/installs/python/miniconda3-4.7.12/lib/python3.7/site-packages (from Jinja2>=3.0->Flask<3->mlflow->mlserver-mlflow) (2.1.1)\n",
      "Requirement already satisfied: sniffio>=1.1 in /home/andrew/.asdf/installs/python/miniconda3-4.7.12/lib/python3.7/site-packages (from anyio<5,>=3.4.0->starlette==0.19.1->fastapi->mlserver->mlserver-mlflow) (1.3.0)\n",
      "Collecting sklearn\n",
      "  Using cached sklearn-0.0.tar.gz (1.1 kB)\n",
      "  Preparing metadata (setup.py) ... \u001b[?25ldone\n",
      "\u001b[?25hRequirement already satisfied: scikit-learn in /home/andrew/.asdf/installs/python/miniconda3-4.7.12/lib/python3.7/site-packages (from sklearn) (0.20.3)\n",
      "Requirement already satisfied: scipy>=0.13.3 in /home/andrew/.asdf/installs/python/miniconda3-4.7.12/lib/python3.7/site-packages (from scikit-learn->sklearn) (1.7.3)\n",
      "Requirement already satisfied: numpy>=1.8.2 in /home/andrew/.asdf/installs/python/miniconda3-4.7.12/lib/python3.7/site-packages (from scikit-learn->sklearn) (1.21.6)\n",
      "Building wheels for collected packages: sklearn\n",
      "  Building wheel for sklearn (setup.py) ... \u001b[?25ldone\n",
      "\u001b[?25h  Created wheel for sklearn: filename=sklearn-0.0-py2.py3-none-any.whl size=1316 sha256=b90e19987174207651eeb3a14ca250f3761023c927b969a7f1e132d061059834\n",
      "  Stored in directory: /home/andrew/.cache/pip/wheels/46/ef/c3/157e41f5ee1372d1be90b09f74f82b10e391eaacca8f22d33e\n",
      "Successfully built sklearn\n",
      "Installing collected packages: sklearn\n",
      "Successfully installed sklearn-0.0\n"
     ]
    }
   ],
   "source": [
    "!pip install seldon_deploy_sdk\n",
    "!pip install minio\n",
    "!pip install conda-pack\n",
    "!pip install mlserver\n",
    "!pip install mlserver-mlflow\n",
    "!pip install sklearn"
   ]
  },
  {
   "cell_type": "code",
   "execution_count": 3,
   "id": "6d2c3173",
   "metadata": {},
   "outputs": [],
   "source": [
    "from seldon_deploy_sdk import Configuration, PredictApi, ApiClient, SeldonDeploymentsApi, ModelMetadataServiceApi, DriftDetectorApi, BatchJobsApi, BatchJobDefinition\n",
    "from seldon_deploy_sdk.auth import OIDCAuthenticator\n",
    "from seldon_deploy_sdk.rest import ApiException\n",
    "from minio import Minio\n",
    "import pandas as pd\n",
    "import json\n",
    "import requests\n",
    "import os\n",
    "import glob"
   ]
  },
  {
   "cell_type": "markdown",
   "id": "410e6c32",
   "metadata": {},
   "source": [
    "### 2. Run experiment and train model in MLFlow\n",
    "For our example, we will use the elastic net wine example from [MLflow's tutorial](https://github.com/mlflow/mlflow/tree/master/examples/sklearn_elasticnet_wine).\n",
    "\n",
    "Let's load the data to see what's inside:"
   ]
  },
  {
   "cell_type": "code",
   "execution_count": 4,
   "id": "56218ae9",
   "metadata": {},
   "outputs": [
    {
     "data": {
      "text/html": [
       "<div>\n",
       "<style scoped>\n",
       "    .dataframe tbody tr th:only-of-type {\n",
       "        vertical-align: middle;\n",
       "    }\n",
       "\n",
       "    .dataframe tbody tr th {\n",
       "        vertical-align: top;\n",
       "    }\n",
       "\n",
       "    .dataframe thead th {\n",
       "        text-align: right;\n",
       "    }\n",
       "</style>\n",
       "<table border=\"1\" class=\"dataframe\">\n",
       "  <thead>\n",
       "    <tr style=\"text-align: right;\">\n",
       "      <th></th>\n",
       "      <th>fixed acidity</th>\n",
       "      <th>volatile acidity</th>\n",
       "      <th>citric acid</th>\n",
       "      <th>residual sugar</th>\n",
       "      <th>chlorides</th>\n",
       "      <th>free sulfur dioxide</th>\n",
       "      <th>total sulfur dioxide</th>\n",
       "      <th>density</th>\n",
       "      <th>pH</th>\n",
       "      <th>sulphates</th>\n",
       "      <th>alcohol</th>\n",
       "      <th>quality</th>\n",
       "    </tr>\n",
       "  </thead>\n",
       "  <tbody>\n",
       "    <tr>\n",
       "      <th>0</th>\n",
       "      <td>7.4</td>\n",
       "      <td>0.70</td>\n",
       "      <td>0.00</td>\n",
       "      <td>1.9</td>\n",
       "      <td>0.076</td>\n",
       "      <td>11.0</td>\n",
       "      <td>34.0</td>\n",
       "      <td>0.9978</td>\n",
       "      <td>3.51</td>\n",
       "      <td>0.56</td>\n",
       "      <td>9.4</td>\n",
       "      <td>5</td>\n",
       "    </tr>\n",
       "    <tr>\n",
       "      <th>1</th>\n",
       "      <td>7.8</td>\n",
       "      <td>0.88</td>\n",
       "      <td>0.00</td>\n",
       "      <td>2.6</td>\n",
       "      <td>0.098</td>\n",
       "      <td>25.0</td>\n",
       "      <td>67.0</td>\n",
       "      <td>0.9968</td>\n",
       "      <td>3.20</td>\n",
       "      <td>0.68</td>\n",
       "      <td>9.8</td>\n",
       "      <td>5</td>\n",
       "    </tr>\n",
       "    <tr>\n",
       "      <th>2</th>\n",
       "      <td>7.8</td>\n",
       "      <td>0.76</td>\n",
       "      <td>0.04</td>\n",
       "      <td>2.3</td>\n",
       "      <td>0.092</td>\n",
       "      <td>15.0</td>\n",
       "      <td>54.0</td>\n",
       "      <td>0.9970</td>\n",
       "      <td>3.26</td>\n",
       "      <td>0.65</td>\n",
       "      <td>9.8</td>\n",
       "      <td>5</td>\n",
       "    </tr>\n",
       "    <tr>\n",
       "      <th>3</th>\n",
       "      <td>11.2</td>\n",
       "      <td>0.28</td>\n",
       "      <td>0.56</td>\n",
       "      <td>1.9</td>\n",
       "      <td>0.075</td>\n",
       "      <td>17.0</td>\n",
       "      <td>60.0</td>\n",
       "      <td>0.9980</td>\n",
       "      <td>3.16</td>\n",
       "      <td>0.58</td>\n",
       "      <td>9.8</td>\n",
       "      <td>6</td>\n",
       "    </tr>\n",
       "    <tr>\n",
       "      <th>4</th>\n",
       "      <td>7.4</td>\n",
       "      <td>0.70</td>\n",
       "      <td>0.00</td>\n",
       "      <td>1.9</td>\n",
       "      <td>0.076</td>\n",
       "      <td>11.0</td>\n",
       "      <td>34.0</td>\n",
       "      <td>0.9978</td>\n",
       "      <td>3.51</td>\n",
       "      <td>0.56</td>\n",
       "      <td>9.4</td>\n",
       "      <td>5</td>\n",
       "    </tr>\n",
       "  </tbody>\n",
       "</table>\n",
       "</div>"
      ],
      "text/plain": [
       "   fixed acidity  volatile acidity  citric acid  residual sugar  chlorides  \\\n",
       "0            7.4              0.70         0.00             1.9      0.076   \n",
       "1            7.8              0.88         0.00             2.6      0.098   \n",
       "2            7.8              0.76         0.04             2.3      0.092   \n",
       "3           11.2              0.28         0.56             1.9      0.075   \n",
       "4            7.4              0.70         0.00             1.9      0.076   \n",
       "\n",
       "   free sulfur dioxide  total sulfur dioxide  density    pH  sulphates  \\\n",
       "0                 11.0                  34.0   0.9978  3.51       0.56   \n",
       "1                 25.0                  67.0   0.9968  3.20       0.68   \n",
       "2                 15.0                  54.0   0.9970  3.26       0.65   \n",
       "3                 17.0                  60.0   0.9980  3.16       0.58   \n",
       "4                 11.0                  34.0   0.9978  3.51       0.56   \n",
       "\n",
       "   alcohol  quality  \n",
       "0      9.4        5  \n",
       "1      9.8        5  \n",
       "2      9.8        5  \n",
       "3      9.8        6  \n",
       "4      9.4        5  "
      ]
     },
     "execution_count": 4,
     "metadata": {},
     "output_type": "execute_result"
    }
   ],
   "source": [
    "data = pd.read_csv(\"http://archive.ics.uci.edu/ml/machine-learning-databases/wine-quality/winequality-red.csv\", sep=';')\n",
    "data.head()"
   ]
  },
  {
   "cell_type": "code",
   "execution_count": 5,
   "id": "409afec6",
   "metadata": {},
   "outputs": [],
   "source": [
    "# Wine Quality Sample\n",
    "def train(in_alpha, in_l1_ratio):\n",
    "    import os\n",
    "    import warnings\n",
    "    import sys\n",
    "\n",
    "    import pandas as pd\n",
    "    import numpy as np\n",
    "    from sklearn.metrics import mean_squared_error, mean_absolute_error, r2_score\n",
    "    from sklearn.model_selection import train_test_split\n",
    "    from sklearn.linear_model import ElasticNet\n",
    "\n",
    "    import mlflow\n",
    "    import mlflow.sklearn\n",
    "    \n",
    "    import logging\n",
    "    logging.basicConfig(level=logging.WARN)\n",
    "    logger = logging.getLogger(__name__)\n",
    "\n",
    "    def eval_metrics(actual, pred):\n",
    "        rmse = np.sqrt(mean_squared_error(actual, pred))\n",
    "        mae = mean_absolute_error(actual, pred)\n",
    "        r2 = r2_score(actual, pred)\n",
    "        return rmse, mae, r2\n",
    "\n",
    "\n",
    "    warnings.filterwarnings(\"ignore\")\n",
    "    np.random.seed(40)\n",
    "\n",
    "    # Read the wine-quality csv file from the URL\n",
    "    csv_url =\\\n",
    "        'http://archive.ics.uci.edu/ml/machine-learning-databases/wine-quality/winequality-red.csv'\n",
    "    try:\n",
    "        data = pd.read_csv(csv_url, sep=';')\n",
    "    except Exception as e:\n",
    "        logger.exception(\n",
    "            \"Unable to download training & test CSV, check your internet connection. Error: %s\", e)\n",
    "\n",
    "    # Split the data into training and test sets. (0.75, 0.25) split.\n",
    "    train, test = train_test_split(data)\n",
    "\n",
    "    # The predicted column is \"quality\" which is a scalar from [3, 9]\n",
    "    train_x = train.drop([\"quality\"], axis=1)\n",
    "    test_x = test.drop([\"quality\"], axis=1)\n",
    "    train_y = train[[\"quality\"]]\n",
    "    test_y = test[[\"quality\"]]\n",
    "\n",
    "    # Set default values if no alpha is provided\n",
    "    if float(in_alpha) is None:\n",
    "        alpha = 0.5\n",
    "    else:\n",
    "        alpha = float(in_alpha)\n",
    "\n",
    "    # Set default values if no l1_ratio is provided\n",
    "    if float(in_l1_ratio) is None:\n",
    "        l1_ratio = 0.5\n",
    "    else:\n",
    "        l1_ratio = float(in_l1_ratio)\n",
    "\n",
    "    # Useful for multiple runs (only doing one run in this sample notebook)    \n",
    "    with mlflow.start_run():\n",
    "        # Execute ElasticNet\n",
    "        lr = ElasticNet(alpha=alpha, l1_ratio=l1_ratio, random_state=42)\n",
    "        lr.fit(train_x, train_y)\n",
    "\n",
    "        # Evaluate Metrics\n",
    "        predicted_qualities = lr.predict(test_x)\n",
    "        (rmse, mae, r2) = eval_metrics(test_y, predicted_qualities)\n",
    "\n",
    "        # Print out metrics\n",
    "        print(\"Elasticnet model (alpha=%f, l1_ratio=%f):\" % (alpha, l1_ratio))\n",
    "        print(\"  RMSE: %s\" % rmse)\n",
    "        print(\"  MAE: %s\" % mae)\n",
    "        print(\"  R2: %s\" % r2)\n",
    "\n",
    "        # Log parameter, metrics, and model to MLflow\n",
    "        mlflow.log_param(\"alpha\", alpha)\n",
    "        mlflow.log_param(\"l1_ratio\", l1_ratio)\n",
    "        mlflow.log_metric(\"rmse\", rmse)\n",
    "        mlflow.log_metric(\"r2\", r2)\n",
    "        mlflow.log_metric(\"mae\", mae)\n",
    "\n",
    "        mlflow.sklearn.log_model(lr, \"model\")"
   ]
  },
  {
   "cell_type": "code",
   "execution_count": 7,
   "id": "f2926f07",
   "metadata": {},
   "outputs": [
    {
     "name": "stdout",
     "output_type": "stream",
     "text": [
      "Elasticnet model (alpha=0.500000, l1_ratio=0.500000):\n",
      "  RMSE: 0.793164022927685\n",
      "  MAE: 0.6271946374319586\n",
      "  R2: 0.10862644997792625\n"
     ]
    }
   ],
   "source": [
    "train(0.5, 0.5)"
   ]
  },
  {
   "cell_type": "code",
   "execution_count": 8,
   "id": "6011bcb3",
   "metadata": {},
   "outputs": [
    {
     "name": "stdout",
     "output_type": "stream",
     "text": [
      "Elasticnet model (alpha=0.200000, l1_ratio=0.200000):\n",
      "  RMSE: 0.7336400911821402\n",
      "  MAE: 0.5643841279275428\n",
      "  R2: 0.23739466063584158\n"
     ]
    }
   ],
   "source": [
    "train(0.2, 0.2)"
   ]
  },
  {
   "cell_type": "code",
   "execution_count": 15,
   "id": "0bc3e40a",
   "metadata": {},
   "outputs": [
    {
     "name": "stdout",
     "output_type": "stream",
     "text": [
      "Elasticnet model (alpha=0.100000, l1_ratio=0.100000):\n",
      "  RMSE: 0.7128829045893679\n",
      "  MAE: 0.5462202174984665\n",
      "  R2: 0.2799376066653344\n"
     ]
    }
   ],
   "source": [
    "train(0.1, 0.1)"
   ]
  },
  {
   "cell_type": "markdown",
   "id": "37ff4a2e",
   "metadata": {},
   "source": [
    "Each of these models can actually be found on the `mlruns` folder:"
   ]
  },
  {
   "cell_type": "code",
   "execution_count": 9,
   "id": "013791b0",
   "metadata": {},
   "outputs": [
    {
     "name": "stdout",
     "output_type": "stream",
     "text": [
      "Reading package lists... Done\n",
      "Building dependency tree       \n",
      "Reading state information... Done\n",
      "tree is already the newest version (1.8.0-1).\n",
      "The following package was automatically installed and is no longer required:\n",
      "  libfwupdplugin1\n",
      "Use 'sudo apt autoremove' to remove it.\n",
      "0 upgraded, 0 newly installed, 0 to remove and 0 not upgraded.\n"
     ]
    }
   ],
   "source": [
    "!sudo apt install tree"
   ]
  },
  {
   "cell_type": "code",
   "execution_count": 10,
   "id": "ee3dd495",
   "metadata": {},
   "outputs": [
    {
     "name": "stdout",
     "output_type": "stream",
     "text": [
      "\u001b[01;34mmlruns/0\u001b[00m\r\n",
      "├── \u001b[01;34m280a5311590b4c5cb10b052cc6617819\u001b[00m\r\n",
      "├── \u001b[01;34m3061e588ff084adc8dc94d2193ea9b5b\u001b[00m\r\n",
      "├── \u001b[01;34m3638146d4e1449d3b133ad4d1484e357\u001b[00m\r\n",
      "├── \u001b[01;34m3fed2065421e403287d622d769e246ef\u001b[00m\r\n",
      "├── \u001b[01;34m4b3cb1e9f7c44223b2e64e67ba615958\u001b[00m\r\n",
      "├── \u001b[01;34m798e35d47d80437b9decf83583a41b21\u001b[00m\r\n",
      "├── \u001b[01;34m7b1acdcccf1c4fc28934865008a6319c\u001b[00m\r\n",
      "├── \u001b[01;34m8d944bf6f329461dba5e8fce94b3a02f\u001b[00m\r\n",
      "├── \u001b[01;34mab7b583a5ead4aec806d8c3c0d75fd55\u001b[00m\r\n",
      "├── \u001b[01;34mafbc782902874e8c9edb137666a5f6a5\u001b[00m\r\n",
      "├── \u001b[01;34mce031de6fb36488b89c05063c5746827\u001b[00m\r\n",
      "├── \u001b[01;34md3136a7c576544c2bc136450ac0a51ac\u001b[00m\r\n",
      "└── meta.yaml\r\n",
      "\r\n",
      "12 directories, 1 file\r\n"
     ]
    }
   ],
   "source": [
    "!tree -L 1 mlruns/0"
   ]
  },
  {
   "cell_type": "markdown",
   "id": "adbc8847",
   "metadata": {},
   "source": [
    "Inside each of these folders, MLflow stores the parameters we used to train our model, any metric we logged during training, and a snapshot of our model. If we look into one of them, we can see the following structure:"
   ]
  },
  {
   "cell_type": "code",
   "execution_count": 11,
   "id": "eca6ba17",
   "metadata": {},
   "outputs": [
    {
     "name": "stdout",
     "output_type": "stream",
     "text": [
      "\u001b[01;34mmlruns/0/280a5311590b4c5cb10b052cc6617819\u001b[00m\r\n",
      "├── \u001b[01;34martifacts\u001b[00m\r\n",
      "│   └── \u001b[01;34mmodel\u001b[00m\r\n",
      "│       ├── MLmodel\r\n",
      "│       ├── conda.yaml\r\n",
      "│       ├── \u001b[01;31menvironment.tar.gz\u001b[00m\r\n",
      "│       ├── model.pkl\r\n",
      "│       ├── python_env.yaml\r\n",
      "│       └── requirements.txt\r\n",
      "├── meta.yaml\r\n",
      "├── \u001b[01;34mmetrics\u001b[00m\r\n",
      "│   ├── mae\r\n",
      "│   ├── r2\r\n",
      "│   └── rmse\r\n",
      "├── \u001b[01;34mparams\u001b[00m\r\n",
      "│   ├── alpha\r\n",
      "│   └── l1_ratio\r\n",
      "└── \u001b[01;34mtags\u001b[00m\r\n",
      "    ├── mlflow.log-model.history\r\n",
      "    ├── mlflow.source.git.commit\r\n",
      "    ├── mlflow.source.name\r\n",
      "    ├── mlflow.source.type\r\n",
      "    └── mlflow.user\r\n",
      "\r\n",
      "5 directories, 17 files\r\n"
     ]
    }
   ],
   "source": [
    "!tree mlruns/0/$(ls mlruns/0 | head -1)"
   ]
  },
  {
   "cell_type": "markdown",
   "id": "e50cf3e1",
   "metadata": {},
   "source": [
    "In particular, we are interested in the MLmodel file stored under artifacts/model:"
   ]
  },
  {
   "cell_type": "code",
   "execution_count": 12,
   "id": "bc35c3f3",
   "metadata": {},
   "outputs": [
    {
     "name": "stdout",
     "output_type": "stream",
     "text": [
      "artifact_path: model\r\n",
      "flavors:\r\n",
      "  python_function:\r\n",
      "    env: conda.yaml\r\n",
      "    loader_module: mlflow.sklearn\r\n",
      "    model_path: model.pkl\r\n",
      "    python_version: 3.7.4\r\n",
      "  sklearn:\r\n",
      "    code: null\r\n",
      "    pickled_model: model.pkl\r\n",
      "    serialization_format: cloudpickle\r\n",
      "    sklearn_version: 0.20.3\r\n",
      "mlflow_version: 1.28.0\r\n",
      "model_uuid: 342c5d1852ff401eab8f492691f9c559\r\n",
      "run_id: 280a5311590b4c5cb10b052cc6617819\r\n",
      "utc_time_created: '2022-09-06 18:44:21.511028'\r\n"
     ]
    }
   ],
   "source": [
    "!cat mlruns/0/$(ls mlruns/0 | head -1)/artifacts/model/MLmodel"
   ]
  },
  {
   "cell_type": "markdown",
   "id": "32794277",
   "metadata": {},
   "source": [
    "We can also view the dependencies that will be required to serve the model"
   ]
  },
  {
   "cell_type": "code",
   "execution_count": 13,
   "id": "4e2800bb",
   "metadata": {
    "scrolled": true
   },
   "outputs": [
    {
     "name": "stdout",
     "output_type": "stream",
     "text": [
      "channels:\r\n",
      "- conda-forge\r\n",
      "dependencies:\r\n",
      "- python=3.7.4\r\n",
      "- pip<=22.1.2\r\n",
      "- pip:\r\n",
      "  - mlflow\r\n",
      "  - cloudpickle==2.1.0\r\n",
      "  - scikit-learn==0.20.3\r\n",
      "name: mlflow-env\r\n"
     ]
    }
   ],
   "source": [
    "!cat mlruns/0/$(ls mlruns/0 | head -1)/artifacts/model/conda.yaml"
   ]
  },
  {
   "cell_type": "markdown",
   "id": "570fa9f1",
   "metadata": {},
   "source": [
    "This file stores the details of how the model was stored. With this information (plus the other files in the folder), we are able to load the model back. Seldon’s MLflow server will use this information to serve this model."
   ]
  },
  {
   "cell_type": "markdown",
   "id": "3801ff27",
   "metadata": {},
   "source": [
    "### 4. Push artefacts to MinIO"
   ]
  },
  {
   "cell_type": "code",
   "execution_count": 14,
   "id": "40c2de1c",
   "metadata": {},
   "outputs": [],
   "source": [
    "RUN = \"280a5311590b4c5cb10b052cc6617819\""
   ]
  },
  {
   "cell_type": "code",
   "execution_count": 15,
   "id": "9781cb05",
   "metadata": {},
   "outputs": [],
   "source": [
    "minioClient = Minio(\"35.204.34.216:9000\", \"admin\", \"F]L?yy!]&J%_-27t\", secure=False)"
   ]
  },
  {
   "cell_type": "code",
   "execution_count": 16,
   "id": "8e1249b3",
   "metadata": {},
   "outputs": [
    {
     "data": {
      "text/plain": [
       "[Bucket('aaai'),\n",
       " Bucket('aav-ilse'),\n",
       " Bucket('deploy-audit'),\n",
       " Bucket('jorik'),\n",
       " Bucket('jorik2'),\n",
       " Bucket('jorikmlflowexample'),\n",
       " Bucket('models'),\n",
       " Bucket('nnlp-mlflow-test'),\n",
       " Bucket('nnlptestn'),\n",
       " Bucket('pkl'),\n",
       " Bucket('tayfun')]"
      ]
     },
     "execution_count": 16,
     "metadata": {},
     "output_type": "execute_result"
    }
   ],
   "source": [
    "minioClient.list_buckets()"
   ]
  },
  {
   "cell_type": "code",
   "execution_count": 54,
   "id": "c3843836",
   "metadata": {},
   "outputs": [],
   "source": [
    "def upload_local_directory_to_minio(local_path: str, bucket_name: str, folder_name: str):\n",
    "    assert os.path.isdir(local_path)\n",
    "\n",
    "    for local_file in glob.glob(local_path + '/**'):\n",
    "        local_file = local_file.replace(os.sep, \"/\")\n",
    "        if not os.path.isfile(local_file):\n",
    "            upload_local_directory_to_minio(\n",
    "                local_file, bucket_name)\n",
    "        else:\n",
    "            remote_path = os.path.join(\n",
    "                local_file[1 + len(local_path):])\n",
    "            remote_path = remote_path.replace(\n",
    "                os.sep, \"/\")\n",
    "            remote_path = folder_name + \"/\" + remote_path\n",
    "            minioClient.fput_object(bucket_name, remote_path, local_file)"
   ]
  },
  {
   "cell_type": "code",
   "execution_count": 44,
   "id": "9424ada5",
   "metadata": {},
   "outputs": [],
   "source": [
    "upload_local_directory_to_minio(f\"mlruns/0/{RUN}/artifacts/model\", \"models\", \"default\")"
   ]
  },
  {
   "cell_type": "markdown",
   "id": "2c919778",
   "metadata": {},
   "source": [
    "### 5. Deploy via the SDK"
   ]
  },
  {
   "cell_type": "markdown",
   "id": "c2695a82",
   "metadata": {},
   "source": [
    "Create a function to authenticate against the cluster"
   ]
  },
  {
   "cell_type": "code",
   "execution_count": 17,
   "id": "9f2bc7e2",
   "metadata": {},
   "outputs": [],
   "source": [
    "SD_IP = \"nn-group.cloud.seldon.io\"\n",
    "\n",
    "config = Configuration()\n",
    "config.host = f\"https://{SD_IP}/seldon-deploy/api/v1alpha1\"\n",
    "config.oidc_client_id = \"sd-api\"\n",
    "config.oidc_server = f\"https://{SD_IP}/auth/realms/deploy-realm\"\n",
    "config.oidc_client_secret = \">+HCA#AStf*NY$bD\"\n",
    "config.auth_method = \"client_credentials\" #change this value to \"auth_code\" to leverage user credentials\n",
    "\n",
    "def auth():\n",
    "    auth = OIDCAuthenticator(config)\n",
    "    config.id_token = auth.authenticate()\n",
    "    api_client = ApiClient(configuration=config, authenticator=auth)\n",
    "    return api_client"
   ]
  },
  {
   "cell_type": "markdown",
   "id": "b8f590f2",
   "metadata": {},
   "source": [
    "#### Method 1: Deploy with the Seldon protocol"
   ]
  },
  {
   "cell_type": "markdown",
   "id": "62bb337b",
   "metadata": {},
   "source": [
    "During initialisation, the built-in reusable server will create the Conda environment specified on your conda.yaml file.  However, because this build can take some time, we must extend the initialDelaySeconds and failureThreshold for the probes on our deployment.\n",
    "\n",
    "To use the built-in MLflow server the following pre-requisites need to be met:\n",
    "\n",
    "* Your MLmodel artifact folder needs to be accessible remotely (e.g. in minio).\n",
    "\n",
    "* Your model needs to be compatible with the python_function flavour.\n",
    "\n",
    "* Your MLproject environment needs to be specified using Conda."
   ]
  },
  {
   "cell_type": "code",
   "execution_count": 18,
   "id": "2ab94e71",
   "metadata": {},
   "outputs": [],
   "source": [
    "DEPLOYMENT_NAME = \"wine-andrew-seldon\"\n",
    "NAMESPACE = \"seldon-gitops\"\n",
    "MODEL_LOCATION = \"minio:models/default\"\n",
    "SECRET_NAME = \"minio-bucket\"\n",
    "\n",
    "mldeployment = {\n",
    "  \"apiVersion\": \"machinelearning.seldon.io/v1alpha2\",\n",
    "  \"kind\": \"SeldonDeployment\",\n",
    "  \"metadata\": {\n",
    "    \"name\": f\"{DEPLOYMENT_NAME}\",\n",
    "    \"namespace\": NAMESPACE\n",
    "  },\n",
    "  \"spec\": {\n",
    "    \"name\": f\"{DEPLOYMENT_NAME}\",\n",
    "    \"protocol\":\"seldon\",\n",
    "    \"predictors\": [\n",
    "      {\n",
    "        \"componentSpecs\": [\n",
    "          {\n",
    "            \"spec\": {\n",
    "              \"containers\": [\n",
    "                {\n",
    "                  \"name\": f\"{DEPLOYMENT_NAME}-container\",\n",
    "                  # We are setting high failureThreshold as installing conda dependencies\n",
    "                  # can take a long time and we want to avoid k8s killing the container prematurely\n",
    "                  \"livenessProbe\": {\n",
    "                    \"initialDelaySeconds\": 100,\n",
    "                    \"failureThreshold\": 300,\n",
    "                    \"periodSeconds\": 5,\n",
    "                    \"successThreshold\": 1,\n",
    "                    \"httpGet\": {\n",
    "                      \"path\": \"/health/ping\",\n",
    "                      \"port\": \"http\",\n",
    "                      \"scheme\": \"HTTP\"\n",
    "                    }\n",
    "                  },\n",
    "                  \"readinessProbe\": {\n",
    "                    \"initialDelaySeconds\": 100,\n",
    "                    \"failureThreshold\": 300,\n",
    "                    \"periodSeconds\": 5,\n",
    "                    \"successThreshold\": 1,\n",
    "                    \"httpGet\": {\n",
    "                      \"path\": \"/health/ping\",\n",
    "                      \"port\": \"http\",\n",
    "                      \"scheme\": \"HTTP\"\n",
    "                    }\n",
    "                  }\n",
    "                }\n",
    "              ]\n",
    "            }\n",
    "          }\n",
    "        ],\n",
    "        \"graph\": {\n",
    "          \"children\": [],\n",
    "          \"implementation\": \"MLFLOW_SERVER\",\n",
    "          \"modelUri\": f\"{MODEL_LOCATION}\",\n",
    "          \"envSecretRefName\": f\"{SECRET_NAME}\",\n",
    "          \"name\": f\"{DEPLOYMENT_NAME}-container\"\n",
    "        },\n",
    "        \"name\": \"default\",\n",
    "        \"replicas\": 1\n",
    "      }\n",
    "    ]\n",
    "  }\n",
    "}"
   ]
  },
  {
   "cell_type": "code",
   "execution_count": 44,
   "id": "c4642b11",
   "metadata": {},
   "outputs": [
    {
     "data": {
      "text/plain": [
       "{'api_version': 'machinelearning.seldon.io/v1alpha2',\n",
       " 'kind': 'SeldonDeployment',\n",
       " 'metadata': {'annotations': None,\n",
       "              'cluster_name': None,\n",
       "              'creation_timestamp': None,\n",
       "              'deletion_grace_period_seconds': None,\n",
       "              'deletion_timestamp': None,\n",
       "              'finalizers': None,\n",
       "              'generate_name': None,\n",
       "              'generation': None,\n",
       "              'labels': None,\n",
       "              'managed_fields': None,\n",
       "              'name': 'wine-andrew-seldon',\n",
       "              'namespace': 'seldon-gitops',\n",
       "              'owner_references': None,\n",
       "              'resource_version': None,\n",
       "              'self_link': None,\n",
       "              'uid': None},\n",
       " 'spec': {'annotations': None,\n",
       "          'name': 'wine-andrew-seldon',\n",
       "          'oauth_key': None,\n",
       "          'oauth_secret': None,\n",
       "          'predictors': [{'annotations': None,\n",
       "                          'component_specs': [{'hpa_spec': None,\n",
       "                                               'keda_spec': None,\n",
       "                                               'metadata': {'annotations': None,\n",
       "                                                            'cluster_name': None,\n",
       "                                                            'creation_timestamp': '2022-09-07T05:05:06Z',\n",
       "                                                            'deletion_grace_period_seconds': None,\n",
       "                                                            'deletion_timestamp': None,\n",
       "                                                            'finalizers': None,\n",
       "                                                            'generate_name': None,\n",
       "                                                            'generation': None,\n",
       "                                                            'labels': None,\n",
       "                                                            'managed_fields': None,\n",
       "                                                            'name': None,\n",
       "                                                            'namespace': None,\n",
       "                                                            'owner_references': None,\n",
       "                                                            'resource_version': None,\n",
       "                                                            'self_link': None,\n",
       "                                                            'uid': None},\n",
       "                                               'pdb_spec': None,\n",
       "                                               'replicas': None,\n",
       "                                               'spec': {'active_deadline_seconds': None,\n",
       "                                                        'affinity': None,\n",
       "                                                        'automount_service_account_token': None,\n",
       "                                                        'containers': [{'args': None,\n",
       "                                                                        'command': None,\n",
       "                                                                        'env': None,\n",
       "                                                                        'env_from': None,\n",
       "                                                                        'image': None,\n",
       "                                                                        'image_pull_policy': None,\n",
       "                                                                        'lifecycle': None,\n",
       "                                                                        'liveness_probe': {'_exec': None,\n",
       "                                                                                           'failure_threshold': 300,\n",
       "                                                                                           'http_get': {'host': None,\n",
       "                                                                                                        'http_headers': None,\n",
       "                                                                                                        'path': '/health/ping',\n",
       "                                                                                                        'port': {'int_val': None,\n",
       "                                                                                                                 'str_val': None,\n",
       "                                                                                                                 'type': None},\n",
       "                                                                                                        'scheme': 'HTTP'},\n",
       "                                                                                           'initial_delay_seconds': 100,\n",
       "                                                                                           'period_seconds': 5,\n",
       "                                                                                           'success_threshold': 1,\n",
       "                                                                                           'tcp_socket': None,\n",
       "                                                                                           'timeout_seconds': None},\n",
       "                                                                        'name': 'wine-andrew-seldon-container',\n",
       "                                                                        'ports': None,\n",
       "                                                                        'readiness_probe': {'_exec': None,\n",
       "                                                                                            'failure_threshold': 300,\n",
       "                                                                                            'http_get': {'host': None,\n",
       "                                                                                                         'http_headers': None,\n",
       "                                                                                                         'path': '/health/ping',\n",
       "                                                                                                         'port': {'int_val': None,\n",
       "                                                                                                                  'str_val': None,\n",
       "                                                                                                                  'type': None},\n",
       "                                                                                                         'scheme': 'HTTP'},\n",
       "                                                                                            'initial_delay_seconds': 100,\n",
       "                                                                                            'period_seconds': 5,\n",
       "                                                                                            'success_threshold': 1,\n",
       "                                                                                            'tcp_socket': None,\n",
       "                                                                                            'timeout_seconds': None},\n",
       "                                                                        'resources': {'limits': None,\n",
       "                                                                                      'requests': None},\n",
       "                                                                        'security_context': None,\n",
       "                                                                        'startup_probe': None,\n",
       "                                                                        'stdin': None,\n",
       "                                                                        'stdin_once': None,\n",
       "                                                                        'termination_message_path': None,\n",
       "                                                                        'termination_message_policy': None,\n",
       "                                                                        'tty': None,\n",
       "                                                                        'volume_devices': None,\n",
       "                                                                        'volume_mounts': None,\n",
       "                                                                        'working_dir': None}],\n",
       "                                                        'dns_config': None,\n",
       "                                                        'dns_policy': None,\n",
       "                                                        'enable_service_links': None,\n",
       "                                                        'ephemeral_containers': None,\n",
       "                                                        'host_aliases': None,\n",
       "                                                        'host_ipc': None,\n",
       "                                                        'host_network': None,\n",
       "                                                        'host_pid': None,\n",
       "                                                        'hostname': None,\n",
       "                                                        'image_pull_secrets': None,\n",
       "                                                        'init_containers': None,\n",
       "                                                        'node_name': None,\n",
       "                                                        'node_selector': None,\n",
       "                                                        'overhead': None,\n",
       "                                                        'preemption_policy': None,\n",
       "                                                        'priority': None,\n",
       "                                                        'priority_class_name': None,\n",
       "                                                        'readiness_gates': None,\n",
       "                                                        'restart_policy': None,\n",
       "                                                        'runtime_class_name': None,\n",
       "                                                        'scheduler_name': None,\n",
       "                                                        'security_context': None,\n",
       "                                                        'service_account': None,\n",
       "                                                        'service_account_name': None,\n",
       "                                                        'set_hostname_as_fqdn': None,\n",
       "                                                        'share_process_namespace': None,\n",
       "                                                        'subdomain': None,\n",
       "                                                        'termination_grace_period_seconds': None,\n",
       "                                                        'tolerations': None,\n",
       "                                                        'topology_spread_constraints': None,\n",
       "                                                        'volumes': None}}],\n",
       "                          'engine_resources': {'limits': None,\n",
       "                                               'requests': None},\n",
       "                          'explainer': None,\n",
       "                          'graph': {'children': None,\n",
       "                                    'endpoint': None,\n",
       "                                    'env_secret_ref_name': 'minio-bucket',\n",
       "                                    'implementation': 'MLFLOW_SERVER',\n",
       "                                    'logger': None,\n",
       "                                    'methods': None,\n",
       "                                    'model_uri': 'minio:models/default',\n",
       "                                    'name': 'wine-andrew-seldon-container',\n",
       "                                    'parameters': None,\n",
       "                                    'service_account_name': None,\n",
       "                                    'storage_initializer_image': None,\n",
       "                                    'type': None},\n",
       "                          'labels': None,\n",
       "                          'name': 'default',\n",
       "                          'replicas': 1,\n",
       "                          'shadow': None,\n",
       "                          'ssl': None,\n",
       "                          'svc_orch_spec': {'env': None,\n",
       "                                            'replicas': None,\n",
       "                                            'resources': None},\n",
       "                          'traffic': None}],\n",
       "          'protocol': 'seldon',\n",
       "          'replicas': None,\n",
       "          'server_type': None,\n",
       "          'transport': None},\n",
       " 'status': {'address': None,\n",
       "            'annotations': None,\n",
       "            'conditions': None,\n",
       "            'deployment_status': None,\n",
       "            'description': None,\n",
       "            'observed_generation': None,\n",
       "            'replicas': None,\n",
       "            'service_status': None,\n",
       "            'state': None}}"
      ]
     },
     "execution_count": 44,
     "metadata": {},
     "output_type": "execute_result"
    }
   ],
   "source": [
    "deployment_api = SeldonDeploymentsApi(auth())\n",
    "deployment_api.create_seldon_deployment(namespace=NAMESPACE, mldeployment=mldeployment)"
   ]
  },
  {
   "cell_type": "markdown",
   "id": "c5bd5d44",
   "metadata": {},
   "source": [
    "You can now test a prediction in the Seldon Deploy UI by using the following payload:\n",
    "\n",
    "```\n",
    "{\"data\": {\"names\": [], \"ndarray\": [[7.0, 0.27, 0.36, 20.7, 0.045, 45.0, 170.0, 1.001, 3.0, 0.45, 8.8]]}}\n",
    "```\n",
    "\n",
    "You should see a 200 response"
   ]
  },
  {
   "cell_type": "markdown",
   "id": "15dff0a1",
   "metadata": {},
   "source": [
    "#### Method 2: Deploy with the v2 protocol\n",
    "In order to use the v2 protocol, it is best to use conda pack to locally save the conda environment to a tar file.  The initialiser can then use this to install required dependencies into the container."
   ]
  },
  {
   "cell_type": "code",
   "execution_count": 25,
   "id": "bb02a767",
   "metadata": {},
   "outputs": [
    {
     "name": "stdout",
     "output_type": "stream",
     "text": [
      "Collecting packages...\n",
      "Packing environment at '/home/andrew/.asdf/installs/python/miniconda3-4.7.12/envs/mlflow-wine' to 'mlruns/0/280a5311590b4c5cb10b052cc6617819/artifacts/model/environment.tar.gz'\n",
      "[########################################] | 100% Completed |  2.9s\n"
     ]
    }
   ],
   "source": [
    "!conda pack -o mlruns/0/$(ls mlruns/0 | head -1)/artifacts/model/environment.tar.gz -f"
   ]
  },
  {
   "cell_type": "markdown",
   "id": "fd1f92a9",
   "metadata": {},
   "source": [
    "Push the environment.tar.gz file to MinIO"
   ]
  },
  {
   "cell_type": "code",
   "execution_count": 26,
   "id": "4660159e",
   "metadata": {},
   "outputs": [
    {
     "data": {
      "text/plain": [
       "<minio.helpers.ObjectWriteResult at 0x7fbd67eeed10>"
      ]
     },
     "execution_count": 26,
     "metadata": {},
     "output_type": "execute_result"
    }
   ],
   "source": [
    "minioClient.fput_object(\"models\", \"default/environment.tar.gz\", f\"mlruns/0/{RUN}/artifacts/model/environment.tar.gz\")"
   ]
  },
  {
   "cell_type": "markdown",
   "id": "a3e5117a",
   "metadata": {},
   "source": [
    "It should be enough to simply specify the v2 protocol.  You no longer need to adjust the liveness and readiness probes.  Note that this deployment can also be done via the UI in Seldon Deploy."
   ]
  },
  {
   "cell_type": "code",
   "execution_count": 27,
   "id": "ae1a5c46",
   "metadata": {},
   "outputs": [],
   "source": [
    "DEPLOYMENT_NAME = \"wine-andrew-v2\"\n",
    "NAMESPACE = \"seldon-gitops\"\n",
    "MODEL_LOCATION = \"minio:models/default\"\n",
    "SECRET_NAME = \"minio-bucket\"\n",
    "\n",
    "\n",
    "mldeployment = {\n",
    "  \"apiVersion\": \"machinelearning.seldon.io/v1alpha2\",\n",
    "  \"kind\": \"SeldonDeployment\",\n",
    "  \"metadata\": {\n",
    "    \"name\": f\"{DEPLOYMENT_NAME}\",\n",
    "    \"namespace\": NAMESPACE\n",
    "  },\n",
    "  \"spec\": {\n",
    "    \"protocol\": \"v2\",\n",
    "    \"name\": f\"{DEPLOYMENT_NAME}\",\n",
    "    \"predictors\": [\n",
    "      {\n",
    "        \"graph\": {\n",
    "          \"children\": [],\n",
    "          \"implementation\": \"MLFLOW_SERVER\",\n",
    "          \"modelUri\": f\"{MODEL_LOCATION}\",\n",
    "          \"envSecretRefName\": f\"{SECRET_NAME}\",\n",
    "          \"name\": f\"{DEPLOYMENT_NAME}-container\"\n",
    "        },\n",
    "        \"name\": \"default\",\n",
    "        \"replicas\": 1\n",
    "      }\n",
    "    ]\n",
    "  }\n",
    "}"
   ]
  },
  {
   "cell_type": "code",
   "execution_count": null,
   "id": "995cc81d",
   "metadata": {},
   "outputs": [],
   "source": [
    "deployment_api = SeldonDeploymentsApi(auth())\n",
    "deployment_api.create_seldon_deployment(namespace=NAMESPACE, mldeployment=mldeployment)"
   ]
  },
  {
   "cell_type": "markdown",
   "id": "9d8982b8",
   "metadata": {},
   "source": [
    "### 6. Run an inference request"
   ]
  },
  {
   "cell_type": "code",
   "execution_count": null,
   "id": "f12a8f3a",
   "metadata": {},
   "outputs": [],
   "source": [
    "inference_request = {\n",
    "    \"parameters\": {\n",
    "        \"content_type\": \"pd\"\n",
    "    },\n",
    "    \"inputs\": [\n",
    "        {\n",
    "          \"name\": \"fixed acidity\",\n",
    "          \"shape\": [1],\n",
    "          \"datatype\": \"FP32\",\n",
    "          \"data\": [7.4],\n",
    "          \"parameters\": {\n",
    "              \"content_type\": \"np\"\n",
    "          }\n",
    "        },\n",
    "        {\n",
    "          \"name\": \"volatile acidity\",\n",
    "          \"shape\": [1],\n",
    "          \"datatype\": \"FP32\",\n",
    "          \"data\": [0.7000],\n",
    "          \"parameters\": {\n",
    "              \"content_type\": \"np\"\n",
    "          }\n",
    "        },\n",
    "        {\n",
    "          \"name\": \"citric acidity\",\n",
    "          \"shape\": [1],\n",
    "          \"datatype\": \"FP32\",\n",
    "          \"data\": [0],\n",
    "          \"parameters\": {\n",
    "              \"content_type\": \"np\"\n",
    "          }\n",
    "        },\n",
    "        {\n",
    "          \"name\": \"residual sugar\",\n",
    "          \"shape\": [1],\n",
    "          \"datatype\": \"FP32\",\n",
    "          \"data\": [1.9],\n",
    "          \"parameters\": {\n",
    "              \"content_type\": \"np\"\n",
    "          }\n",
    "        },\n",
    "        {\n",
    "          \"name\": \"chlorides\",\n",
    "          \"shape\": [1],\n",
    "          \"datatype\": \"FP32\",\n",
    "          \"data\": [0.076],\n",
    "          \"parameters\": {\n",
    "              \"content_type\": \"np\"\n",
    "          }\n",
    "        },\n",
    "        {\n",
    "          \"name\": \"free sulfur dioxide\",\n",
    "          \"shape\": [1],\n",
    "          \"datatype\": \"FP32\",\n",
    "          \"data\": [11],\n",
    "          \"parameters\": {\n",
    "              \"content_type\": \"np\"\n",
    "          }\n",
    "        },\n",
    "        {\n",
    "          \"name\": \"total sulfur dioxide\",\n",
    "          \"shape\": [1],\n",
    "          \"datatype\": \"FP32\",\n",
    "          \"data\": [34],\n",
    "          \"parameters\": {\n",
    "              \"content_type\": \"np\"\n",
    "          }\n",
    "        },\n",
    "        {\n",
    "          \"name\": \"density\",\n",
    "          \"shape\": [1],\n",
    "          \"datatype\": \"FP32\",\n",
    "          \"data\": [0.9978],\n",
    "          \"parameters\": {\n",
    "              \"content_type\": \"np\"\n",
    "          }\n",
    "        },\n",
    "        {\n",
    "          \"name\": \"pH\",\n",
    "          \"shape\": [1],\n",
    "          \"datatype\": \"FP32\",\n",
    "          \"data\": [3.51],\n",
    "          \"parameters\": {\n",
    "              \"content_type\": \"np\"\n",
    "          }\n",
    "        },\n",
    "        {\n",
    "          \"name\": \"sulphates\",\n",
    "          \"shape\": [1],\n",
    "          \"datatype\": \"FP32\",\n",
    "          \"data\": [0.56],\n",
    "          \"parameters\": {\n",
    "              \"content_type\": \"np\"\n",
    "          }\n",
    "        },\n",
    "        {\n",
    "          \"name\": \"alcohol\",\n",
    "          \"shape\": [1],\n",
    "          \"datatype\": \"FP32\",\n",
    "          \"data\": [9.4],\n",
    "          \"parameters\": {\n",
    "              \"content_type\": \"np\"\n",
    "          }\n",
    "        },\n",
    "    ]\n",
    "}"
   ]
  },
  {
   "cell_type": "code",
   "execution_count": null,
   "id": "7977e3b0",
   "metadata": {},
   "outputs": [],
   "source": [
    "endpoint = \"\"\n",
    "response = requests.post(endpoint, json=inference_request)\n",
    "\n",
    "print(json.dumps(response.json(), indent=2))"
   ]
  }
 ],
 "metadata": {
  "kernelspec": {
   "display_name": "Python 3 (ipykernel)",
   "language": "python",
   "name": "python3"
  },
  "language_info": {
   "codemirror_mode": {
    "name": "ipython",
    "version": 3
   },
   "file_extension": ".py",
   "mimetype": "text/x-python",
   "name": "python",
   "nbconvert_exporter": "python",
   "pygments_lexer": "ipython3",
   "version": "3.7.4"
  }
 },
 "nbformat": 4,
 "nbformat_minor": 5
}
