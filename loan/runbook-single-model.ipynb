{
 "cells": [
  {
   "cell_type": "markdown",
   "metadata": {},
   "source": [
    "For the given use case, we can consider the following features for a loan application dataset:\n",
    "\n",
    "existing_loans: Number of existing loans of the applicant.\n",
    "existing_loan_amounts: Total amount of existing loans.\n",
    "checking_account_status: Status of the applicant's checking account.\n",
    "savings_account_status: Status of the applicant's savings account.\n",
    "credit_history: The applicant's credit history.\n",
    "employment: Employment status of the applicant.\n",
    "annual_income: The applicant's annual income.\n",
    "loan_purpose: Purpose of the new loan.\n",
    "loan_duration: Duration of the new loan (in months).\n",
    "installment_rate: Installment rate as a percentage of the applicant's income.\n",
    "personal_status: Personal status and sex of the applicant.\n",
    "other_debtors: Other debtors/guarantors associated with the loan.\n",
    "residence_since: Number of years the applicant has been living at their current residence.\n",
    "property: Property owned by the applicant.\n",
    "age: Age of the applicant.\n",
    "other_installment_plans: Other installment plans the applicant has.\n",
    "housing: Housing status of the applicant.\n",
    "job: Job status of the applicant.\n",
    "dependents: Number of dependents the applicant has.\n",
    "telephone: Whether the applicant has a telephone registered under their name.\n",
    "foreign_worker: Whether the applicant is a foreign worker.\n",
    "\n",
    "## Step 1: Calculate risk\n",
    "\n",
    "Train a machine learning model using the above features to predict the risk category (low, medium, high) for each loan application.\n",
    "\n",
    "## Step 2: Calculate new loan amount\n",
    "\n",
    "Based on the predicted risk category and the applicant's financial status (e.g., annual income, existing loans, credit history), you can define rules or train another machine learning model to estimate the loan amount that should be approved."
   ]
  },
  {
   "cell_type": "markdown",
   "metadata": {},
   "source": [
    "## Generate the Data for the two models"
   ]
  },
  {
   "cell_type": "code",
   "execution_count": 93,
   "metadata": {},
   "outputs": [],
   "source": [
    "import pandas as pd\n",
    "from faker import Faker\n",
    "import numpy as np\n",
    "\n",
    "# define the categorical mapping\n",
    "cat_map = {\n",
    "    'checking_account_status': {0: 'negative', 1: 'no_account', 2: 'good_standing', 3: 'overdrawn'},\n",
    "    'savings_account_status': {0: 'negative', 1: 'no_account', 2: 'good_standing', 3: 'overdrawn'},\n",
    "    'employment': {0: 'unemployed', 1: 'full time', 2: 'part time', 3: 'contractor', 4: 'unemployed'},\n",
    "    'credit_history': {0: 'no_credit', 1: 'all_paid', 2: 'existing_credits_paid_back', 3: 'delay_in_paying_off', 4: 'critical_account'},\n",
    "    'loan_purpose': {0: 'car', 1: 'education', 2: 'home', 3: 'business', 4: 'debt_consolidation'},\n",
    "    'personal_status': {0: 'single_male', 1: 'single_female', 2: 'married', 3: 'divorced'},\n",
    "    'other_debtors': {0: 'none', 1: 'co-applicant', 2: 'guarantor'},\n",
    "    'other_installment_plans': {0: 'none', 1: 'bank', 2: 'stores'},\n",
    "    'housing': {0: 'own', 1: 'rent', 2: 'free'},\n",
    "    'job': {0: 'unskilled_resident', 1: 'skilled_employee', 2: 'management_self-employed', 3: 'unemployed'},\n",
    "    'risk': {0: 'low', 1: 'medium', 2: 'high'}\n",
    "}\n",
    "\n",
    "# create Faker object\n",
    "fake = Faker()\n",
    "\n",
    "# generate credit data\n",
    "def generate_credit_data(n):\n",
    "    data = {\n",
    "        'checking_account_status': [],\n",
    "        'savings_account_status': [],\n",
    "        'credit_history': [],\n",
    "        'employment': [],\n",
    "        'loan_purpose': [],\n",
    "        'loan_duration': [],\n",
    "        'installment_rate': [],\n",
    "        'personal_status': [],\n",
    "        'other_debtors': [],\n",
    "        'age': [],\n",
    "        'other_installment_plans': [],\n",
    "        'housing': [],\n",
    "        'job': [],\n",
    "        'dependents': [],\n",
    "        'annual_income': [],\n",
    "        'existing_loan_amounts': [],\n",
    "        'risk': [],\n",
    "        'loan_amount': [],\n",
    "        'credit_amount': []\n",
    "    }\n",
    "\n",
    "    for i in range(n):\n",
    "        checking_account_status = fake.random_int(min=0, max=3)\n",
    "        savings_account_status = fake.random_int(min=0, max=3)\n",
    "\n",
    "        duration = int(np.random.normal(loc=24, scale=12))  # Change distribution\n",
    "        credit_history = fake.random_int(min=0, max=4)\n",
    "        loan_purpose = fake.random_int(min=0, max=4)\n",
    "        loan_duration = int(np.random.normal(loc=24, scale=12))\n",
    "        \n",
    "        credit_amount = int(np.random.normal(loc=5000, scale=2500))  # Change distribution\n",
    "        annual_income = int(np.random.normal(loc=75000, scale=50000))\n",
    "        \n",
    "        existing_loan_amounts = int(np.random.normal(loc=60000, scale=20000))\n",
    "        \n",
    "        employment = fake.random_int(min=0, max=4)\n",
    "        installment_rate = fake.random_int(min=1, max=35)\n",
    "        personal_status = fake.random_int(min=0, max=4)\n",
    "        other_debtors = fake.random_int(min=0, max=2)\n",
    "\n",
    "        age = int(np.random.normal(loc=40, scale=10))  # Change distribution\n",
    "        other_installment_plans = fake.random_int(min=0, max=2)\n",
    "        housing = fake.random_int(min=0, max=2)\n",
    "        job = fake.random_int(min=0, max=3)\n",
    "        dependents = fake.random_int(min=1, max=2)\n",
    "\n",
    "        risk = fake.random_int(min=0, max=2)\n",
    "        \n",
    "\n",
    "        if risk == 0:  # Low risk\n",
    "            loan_amount = np.random.uniform(50000, 100000) * 0.6\n",
    "        elif risk == 1:  # Medium risk\n",
    "            loan_amount = np.random.uniform(50000, 100000) * 1.2\n",
    "        else:  # High risk\n",
    "            loan_amount = np.random.uniform(50000, 100000) * 3\n",
    "\n",
    "        # add the data to the dictionary\n",
    "        for key, value in data.items():\n",
    "            if key in data:\n",
    "                data[key].append(eval(key))\n",
    "\n",
    "    return pd.DataFrame(data)\n",
    "\n",
    "# create a function to introduce drift into the credit data\n",
    "def introduce_drift(data):\n",
    "    # modify features to gradually increase over time\n",
    "    for i in range(len(data)):\n",
    "        # gradually increase credit amount\n",
    "        data.at[i, 'credit_amount'] = int(data.at[i, 'credit_amount'] * (1 + 0.05 * (i/len(data))))\n",
    "        # gradually increase duration\n",
    "        data.at[i, 'loan_duration'] = int(data.at[i, 'loan_duration'] * (1 + 0.01 * (i/len(data))))\n",
    "        # gradually increase age\n",
    "        data.at[i, 'age'] = int(data.at[i, 'age'] * (1 + 0.02 * (i/len(data))))\n",
    "        # gradually increase existing loan amounts\n",
    "        data.at[i, 'existing_loan_amounts'] = int(data.at[i, 'existing_loan_amounts'] * (1 + 0.05 * (i/len(data))))\n",
    "\n",
    "    return data\n",
    "\n",
    "\n",
    "# create a function to introduce outliers into the credit data\n",
    "def introduce_outliers(data):\n",
    "    # randomly select 10 indices to add outliers to\n",
    "    indices = np.random.choice(len(data), size=10, replace=False)\n",
    "    for i in indices:\n",
    "        # change credit amount and duration to high values\n",
    "        data.at[i, 'credit_amount'] = 50000\n",
    "        data.at[i, 'duration'] = 84\n",
    "        \n",
    "    return data\n",
    "\n",
    "# generate baseline credit data\n",
    "baseline_data = generate_credit_data(2000)\n",
    "# print(baseline_data.info())\n",
    "# save baseline data to CSV\n",
    "baseline_data.to_csv('baseline_credit_data.csv', index=False)\n",
    "\n",
    "# generate drifted credit data\n",
    "drifted_data = introduce_drift(generate_credit_data(1000))\n",
    "\n",
    "# save drifted data to CSV\n",
    "drifted_data.to_csv('drifted_credit_data.csv', index=False)\n",
    "\n",
    "# generate credit data with outliers\n",
    "outlier_data = introduce_outliers(generate_credit_data(1000))\n",
    "\n",
    "# save outlier data to CSV\n",
    "outlier_data.to_csv('outlier_credit_data.csv', index=False)\n",
    "\n"
   ]
  },
  {
   "cell_type": "code",
   "execution_count": 94,
   "metadata": {},
   "outputs": [
    {
     "data": {
      "text/plain": [
       "{'checking_account_status': {0: 'negative',\n",
       "  1: 'no_account',\n",
       "  2: 'good_standing',\n",
       "  3: 'overdrawn'},\n",
       " 'savings_account_status': {0: 'negative',\n",
       "  1: 'no_account',\n",
       "  2: 'good_standing',\n",
       "  3: 'overdrawn'},\n",
       " 'employment': {0: 'unemployed',\n",
       "  1: 'full time',\n",
       "  2: 'part time',\n",
       "  3: 'contractor',\n",
       "  4: 'unemployed'},\n",
       " 'credit_history': {0: 'no_credit',\n",
       "  1: 'all_paid',\n",
       "  2: 'existing_credits_paid_back',\n",
       "  3: 'delay_in_paying_off',\n",
       "  4: 'critical_account'},\n",
       " 'loan_purpose': {0: 'car',\n",
       "  1: 'education',\n",
       "  2: 'home',\n",
       "  3: 'business',\n",
       "  4: 'debt_consolidation'},\n",
       " 'personal_status': {0: 'single_male',\n",
       "  1: 'single_female',\n",
       "  2: 'married',\n",
       "  3: 'divorced'},\n",
       " 'other_debtors': {0: 'none', 1: 'co-applicant', 2: 'guarantor'},\n",
       " 'other_installment_plans': {0: 'none', 1: 'bank', 2: 'stores'},\n",
       " 'housing': {0: 'own', 1: 'rent', 2: 'free'},\n",
       " 'job': {0: 'unskilled_resident',\n",
       "  1: 'skilled_employee',\n",
       "  2: 'management_self-employed',\n",
       "  3: 'unemployed'},\n",
       " 'risk': {0: 'low', 1: 'medium', 2: 'high'}}"
      ]
     },
     "execution_count": 94,
     "metadata": {},
     "output_type": "execute_result"
    }
   ],
   "source": [
    "# generate baseline credit data\n",
    "# baseline_data = generate_credit_data(1)\n",
    "cat_map"
   ]
  },
  {
   "cell_type": "code",
   "execution_count": 95,
   "metadata": {
    "tags": []
   },
   "outputs": [
    {
     "name": "stdout",
     "output_type": "stream",
     "text": [
      "Balanced Loan Risk Dataset Shape: (2097, 12)\n",
      "(1677, 12)\n",
      "[10:48:00] WARNING: /Users/runner/work/xgboost/xgboost/src/learner.cc:1115: Starting in XGBoost 1.3.0, the default evaluation metric used with the objective 'multi:softprob' was changed from 'merror' to 'mlogloss'. Explicitly set eval_metric if you'd like to restore the old behavior.\n"
     ]
    },
    {
     "name": "stderr",
     "output_type": "stream",
     "text": [
      "The use of label encoder in XGBClassifier is deprecated and will be removed in a future release. To remove this warning, do the following: 1) Pass option use_label_encoder=False when constructing XGBClassifier object; and 2) Encode your labels (y) as integers starting with 0, i.e. 0, 1, 2, ..., [num_class - 1].\n",
      "pandas.Int64Index is deprecated and will be removed from pandas in a future version. Use pandas.Index with the appropriate dtype instead.\n"
     ]
    },
    {
     "name": "stdout",
     "output_type": "stream",
     "text": [
      "Loan Risk Model Accuracy: 31.43%\n"
     ]
    }
   ],
   "source": [
    "import pandas as pd\n",
    "import numpy as np\n",
    "from sklearn.model_selection import train_test_split\n",
    "from sklearn.metrics import accuracy_score, mean_squared_error\n",
    "import xgboost as xgb\n",
    "from imblearn.over_sampling import SMOTE\n",
    "\n",
    "\n",
    "# Load your dataset\n",
    "data = pd.read_csv('baseline_credit_data.csv')\n",
    "\n",
    "# Preparing the data for the loan risk model\n",
    "risk_data = data[['checking_account_status', 'savings_account_status', 'credit_history', 'employment', 'loan_purpose', 'installment_rate', 'personal_status', 'other_debtors', 'age', 'job', 'dependents', 'risk','existing_loan_amounts']]\n",
    "X_risk = risk_data.drop('risk', axis=1)\n",
    "y_risk = risk_data['risk']\n",
    "\n",
    "# Balancing the dataset\n",
    "oversample = SMOTE(random_state=42)\n",
    "X_risk_balanced, y_risk_balanced = oversample.fit_resample(X_risk, y_risk)\n",
    "print(\"Balanced Loan Risk Dataset Shape:\", X_risk_balanced.shape)\n",
    "\n",
    "# Splitting the data into train and test sets\n",
    "X_risk_train, X_risk_test, y_risk_train, y_risk_test = train_test_split(X_risk_balanced, y_risk_balanced, test_size=0.2, random_state=42)\n",
    "print(X_risk_train.shape)\n",
    "# Train the XGBoost classifier for risk\n",
    "risk_model = xgb.XGBClassifier(\n",
    "    n_estimators=100,\n",
    "    max_depth=3,\n",
    "    learning_rate=0.1,\n",
    "    objective='multi:softprob',\n",
    "    random_state=42\n",
    ")\n",
    "# xgb.XGBClassifier(use_label_encoder=False, objective='multi:softprob', num_class=3, random_state=42)\n",
    "risk_model.fit(X_risk_train, y_risk_train)\n",
    "\n",
    "# Testing the loan risk model\n",
    "y_risk_pred = risk_model.predict(X_risk_test)\n",
    "risk_accuracy = accuracy_score(y_risk_test, y_risk_pred)\n",
    "print(\"Loan Risk Model Accuracy: {:.2f}%\".format(risk_accuracy * 100))\n",
    "\n",
    "\n"
   ]
  },
  {
   "cell_type": "code",
   "execution_count": 96,
   "metadata": {},
   "outputs": [
    {
     "data": {
      "text/plain": [
       "2000"
      ]
     },
     "execution_count": 96,
     "metadata": {},
     "output_type": "execute_result"
    }
   ],
   "source": [
    "len(risk_data)"
   ]
  },
  {
   "cell_type": "code",
   "execution_count": 97,
   "metadata": {},
   "outputs": [
    {
     "name": "stdout",
     "output_type": "stream",
     "text": [
      "12\n"
     ]
    }
   ],
   "source": [
    "print(len(risk_model.feature_importances_))"
   ]
  },
  {
   "cell_type": "code",
   "execution_count": 98,
   "metadata": {},
   "outputs": [
    {
     "data": {
      "text/html": [
       "<div>\n",
       "<style scoped>\n",
       "    .dataframe tbody tr th:only-of-type {\n",
       "        vertical-align: middle;\n",
       "    }\n",
       "\n",
       "    .dataframe tbody tr th {\n",
       "        vertical-align: top;\n",
       "    }\n",
       "\n",
       "    .dataframe thead th {\n",
       "        text-align: right;\n",
       "    }\n",
       "</style>\n",
       "<table border=\"1\" class=\"dataframe\">\n",
       "  <thead>\n",
       "    <tr style=\"text-align: right;\">\n",
       "      <th></th>\n",
       "      <th>checking_account_status</th>\n",
       "      <th>savings_account_status</th>\n",
       "      <th>credit_history</th>\n",
       "      <th>employment</th>\n",
       "      <th>loan_purpose</th>\n",
       "      <th>installment_rate</th>\n",
       "      <th>personal_status</th>\n",
       "      <th>other_debtors</th>\n",
       "      <th>age</th>\n",
       "      <th>job</th>\n",
       "      <th>dependents</th>\n",
       "      <th>existing_loan_amounts</th>\n",
       "    </tr>\n",
       "  </thead>\n",
       "  <tbody>\n",
       "    <tr>\n",
       "      <th>29</th>\n",
       "      <td>0</td>\n",
       "      <td>1</td>\n",
       "      <td>4</td>\n",
       "      <td>0</td>\n",
       "      <td>3</td>\n",
       "      <td>2</td>\n",
       "      <td>3</td>\n",
       "      <td>0</td>\n",
       "      <td>52</td>\n",
       "      <td>3</td>\n",
       "      <td>1</td>\n",
       "      <td>55477</td>\n",
       "    </tr>\n",
       "    <tr>\n",
       "      <th>845</th>\n",
       "      <td>3</td>\n",
       "      <td>3</td>\n",
       "      <td>0</td>\n",
       "      <td>2</td>\n",
       "      <td>0</td>\n",
       "      <td>11</td>\n",
       "      <td>4</td>\n",
       "      <td>2</td>\n",
       "      <td>41</td>\n",
       "      <td>1</td>\n",
       "      <td>1</td>\n",
       "      <td>93620</td>\n",
       "    </tr>\n",
       "    <tr>\n",
       "      <th>812</th>\n",
       "      <td>0</td>\n",
       "      <td>2</td>\n",
       "      <td>4</td>\n",
       "      <td>0</td>\n",
       "      <td>1</td>\n",
       "      <td>23</td>\n",
       "      <td>4</td>\n",
       "      <td>1</td>\n",
       "      <td>40</td>\n",
       "      <td>0</td>\n",
       "      <td>2</td>\n",
       "      <td>66560</td>\n",
       "    </tr>\n",
       "    <tr>\n",
       "      <th>432</th>\n",
       "      <td>3</td>\n",
       "      <td>0</td>\n",
       "      <td>4</td>\n",
       "      <td>3</td>\n",
       "      <td>4</td>\n",
       "      <td>17</td>\n",
       "      <td>3</td>\n",
       "      <td>2</td>\n",
       "      <td>42</td>\n",
       "      <td>0</td>\n",
       "      <td>2</td>\n",
       "      <td>76541</td>\n",
       "    </tr>\n",
       "    <tr>\n",
       "      <th>1384</th>\n",
       "      <td>3</td>\n",
       "      <td>0</td>\n",
       "      <td>4</td>\n",
       "      <td>4</td>\n",
       "      <td>2</td>\n",
       "      <td>22</td>\n",
       "      <td>4</td>\n",
       "      <td>1</td>\n",
       "      <td>26</td>\n",
       "      <td>1</td>\n",
       "      <td>2</td>\n",
       "      <td>56057</td>\n",
       "    </tr>\n",
       "    <tr>\n",
       "      <th>...</th>\n",
       "      <td>...</td>\n",
       "      <td>...</td>\n",
       "      <td>...</td>\n",
       "      <td>...</td>\n",
       "      <td>...</td>\n",
       "      <td>...</td>\n",
       "      <td>...</td>\n",
       "      <td>...</td>\n",
       "      <td>...</td>\n",
       "      <td>...</td>\n",
       "      <td>...</td>\n",
       "      <td>...</td>\n",
       "    </tr>\n",
       "    <tr>\n",
       "      <th>76</th>\n",
       "      <td>0</td>\n",
       "      <td>1</td>\n",
       "      <td>1</td>\n",
       "      <td>0</td>\n",
       "      <td>1</td>\n",
       "      <td>32</td>\n",
       "      <td>2</td>\n",
       "      <td>1</td>\n",
       "      <td>31</td>\n",
       "      <td>3</td>\n",
       "      <td>2</td>\n",
       "      <td>64155</td>\n",
       "    </tr>\n",
       "    <tr>\n",
       "      <th>205</th>\n",
       "      <td>0</td>\n",
       "      <td>0</td>\n",
       "      <td>2</td>\n",
       "      <td>1</td>\n",
       "      <td>3</td>\n",
       "      <td>22</td>\n",
       "      <td>3</td>\n",
       "      <td>0</td>\n",
       "      <td>32</td>\n",
       "      <td>1</td>\n",
       "      <td>2</td>\n",
       "      <td>99770</td>\n",
       "    </tr>\n",
       "    <tr>\n",
       "      <th>2068</th>\n",
       "      <td>1</td>\n",
       "      <td>0</td>\n",
       "      <td>0</td>\n",
       "      <td>3</td>\n",
       "      <td>2</td>\n",
       "      <td>4</td>\n",
       "      <td>2</td>\n",
       "      <td>0</td>\n",
       "      <td>48</td>\n",
       "      <td>3</td>\n",
       "      <td>1</td>\n",
       "      <td>60337</td>\n",
       "    </tr>\n",
       "    <tr>\n",
       "      <th>1286</th>\n",
       "      <td>1</td>\n",
       "      <td>2</td>\n",
       "      <td>1</td>\n",
       "      <td>4</td>\n",
       "      <td>2</td>\n",
       "      <td>5</td>\n",
       "      <td>0</td>\n",
       "      <td>0</td>\n",
       "      <td>28</td>\n",
       "      <td>0</td>\n",
       "      <td>1</td>\n",
       "      <td>84807</td>\n",
       "    </tr>\n",
       "    <tr>\n",
       "      <th>1687</th>\n",
       "      <td>2</td>\n",
       "      <td>0</td>\n",
       "      <td>1</td>\n",
       "      <td>4</td>\n",
       "      <td>4</td>\n",
       "      <td>13</td>\n",
       "      <td>0</td>\n",
       "      <td>0</td>\n",
       "      <td>39</td>\n",
       "      <td>2</td>\n",
       "      <td>1</td>\n",
       "      <td>86422</td>\n",
       "    </tr>\n",
       "  </tbody>\n",
       "</table>\n",
       "<p>420 rows × 12 columns</p>\n",
       "</div>"
      ],
      "text/plain": [
       "      checking_account_status  savings_account_status  credit_history  \\\n",
       "29                          0                       1               4   \n",
       "845                         3                       3               0   \n",
       "812                         0                       2               4   \n",
       "432                         3                       0               4   \n",
       "1384                        3                       0               4   \n",
       "...                       ...                     ...             ...   \n",
       "76                          0                       1               1   \n",
       "205                         0                       0               2   \n",
       "2068                        1                       0               0   \n",
       "1286                        1                       2               1   \n",
       "1687                        2                       0               1   \n",
       "\n",
       "      employment  loan_purpose  installment_rate  personal_status  \\\n",
       "29             0             3                 2                3   \n",
       "845            2             0                11                4   \n",
       "812            0             1                23                4   \n",
       "432            3             4                17                3   \n",
       "1384           4             2                22                4   \n",
       "...          ...           ...               ...              ...   \n",
       "76             0             1                32                2   \n",
       "205            1             3                22                3   \n",
       "2068           3             2                 4                2   \n",
       "1286           4             2                 5                0   \n",
       "1687           4             4                13                0   \n",
       "\n",
       "      other_debtors  age  job  dependents  existing_loan_amounts  \n",
       "29                0   52    3           1                  55477  \n",
       "845               2   41    1           1                  93620  \n",
       "812               1   40    0           2                  66560  \n",
       "432               2   42    0           2                  76541  \n",
       "1384              1   26    1           2                  56057  \n",
       "...             ...  ...  ...         ...                    ...  \n",
       "76                1   31    3           2                  64155  \n",
       "205               0   32    1           2                  99770  \n",
       "2068              0   48    3           1                  60337  \n",
       "1286              0   28    0           1                  84807  \n",
       "1687              0   39    2           1                  86422  \n",
       "\n",
       "[420 rows x 12 columns]"
      ]
     },
     "execution_count": 98,
     "metadata": {},
     "output_type": "execute_result"
    }
   ],
   "source": [
    "X_risk_test"
   ]
  },
  {
   "cell_type": "code",
   "execution_count": 99,
   "metadata": {},
   "outputs": [
    {
     "name": "stdout",
     "output_type": "stream",
     "text": [
      "<class 'pandas.core.frame.DataFrame'>\n",
      "Int64Index: 420 entries, 29 to 1687\n",
      "Data columns (total 12 columns):\n",
      " #   Column                   Non-Null Count  Dtype\n",
      "---  ------                   --------------  -----\n",
      " 0   checking_account_status  420 non-null    int64\n",
      " 1   savings_account_status   420 non-null    int64\n",
      " 2   credit_history           420 non-null    int64\n",
      " 3   employment               420 non-null    int64\n",
      " 4   loan_purpose             420 non-null    int64\n",
      " 5   installment_rate         420 non-null    int64\n",
      " 6   personal_status          420 non-null    int64\n",
      " 7   other_debtors            420 non-null    int64\n",
      " 8   age                      420 non-null    int64\n",
      " 9   job                      420 non-null    int64\n",
      " 10  dependents               420 non-null    int64\n",
      " 11  existing_loan_amounts    420 non-null    int64\n",
      "dtypes: int64(12)\n",
      "memory usage: 42.7 KB\n"
     ]
    }
   ],
   "source": [
    "# Get feature names\n",
    "risk_feature_names = risk_model.get_booster().feature_names\n",
    "X_risk_test.info()"
   ]
  },
  {
   "cell_type": "markdown",
   "metadata": {},
   "source": [
    "### Save the Model in the .bst format"
   ]
  },
  {
   "cell_type": "code",
   "execution_count": 100,
   "metadata": {},
   "outputs": [],
   "source": [
    "risk_model.save_model('./model/risk/model.bst')"
   ]
  },
  {
   "cell_type": "code",
   "execution_count": 101,
   "metadata": {},
   "outputs": [
    {
     "name": "stdout",
     "output_type": "stream",
     "text": [
      "Copying file://./model/risk/model.bst [Content-Type=application/octet-stream]...\n",
      "/ [1 files][185.7 KiB/185.7 KiB]                                                \n",
      "Operation completed over 1 objects/185.7 KiB.                                    \n"
     ]
    }
   ],
   "source": [
    "!gsutil cp ./model/risk/model.bst gs://josh-seldon/loan-default-calculator/models/risk/model.bst"
   ]
  },
  {
   "cell_type": "markdown",
   "metadata": {},
   "source": [
    "## Create model-setting.json file"
   ]
  },
  {
   "cell_type": "code",
   "execution_count": null,
   "metadata": {},
   "outputs": [],
   "source": [
    "%%writefile ./model/risk/model-settings.json\n",
    "{\n",
    "    \"implementation\": \"mlserver_xgboost.XGBoostModel\",\n",
    "    \"parameters\": {\n",
    "        \"uri\": \"model.bst\",\n",
    "        \"version\": \"v0.1.0\"\n",
    "    }\n",
    "}"
   ]
  },
  {
   "cell_type": "code",
   "execution_count": null,
   "metadata": {},
   "outputs": [],
   "source": [
    "!gsutil cp ./model/risk/model-settings.json gs://josh-seldon/loan-default-calculator/models/risk/model-settings.json"
   ]
  },
  {
   "cell_type": "markdown",
   "metadata": {},
   "source": [
    "# Deploy the Model to Seldon Deploy"
   ]
  },
  {
   "cell_type": "code",
   "execution_count": 102,
   "metadata": {
    "tags": []
   },
   "outputs": [],
   "source": [
    "from seldon_deploy_sdk import Configuration, EnvironmentApi, ApiClient, PipelinesApi, PredictApi, SeldonDeploymentsApi, ModelMetadataServiceApi, DriftDetectorApi, BatchJobsApi, BatchJobDefinition, OutlierDetectorApi, ModelsApi, Model, Pipeline\n",
    "from seldon_deploy_sdk.auth import OIDCAuthenticator\n",
    "from seldon_deploy_sdk.rest import ApiException\n",
    "import pprint\n",
    "import json\n",
    "import requests\n",
    "from requests.structures import CaseInsensitiveDict"
   ]
  },
  {
   "cell_type": "code",
   "execution_count": 103,
   "metadata": {
    "tags": []
   },
   "outputs": [
    {
     "name": "stdout",
     "output_type": "stream",
     "text": [
      "{'email': '', 'groups': None, 'id': 'service-account-sd-api', 'name': ''}\n"
     ]
    }
   ],
   "source": [
    "SD_IP = \"34.139.2.61\"\n",
    "config = Configuration()\n",
    "config.host = f\"https://{SD_IP}/seldon-deploy/api/v1alpha1\"\n",
    "config.oidc_server = f\"https://{SD_IP}/auth/realms/deploy-realm\"\n",
    "config.oidc_client_id = \"sd-api\"\n",
    "config.oidc_client_secret = \"sd-api-secret\"\n",
    "# config.username = \"admin\"\n",
    "# config.password = \"12341234\"\n",
    "config.auth_method = \"client_credentials\"\n",
    "config.verify_ssl=False\n",
    "\n",
    "auth = OIDCAuthenticator(config)\n",
    "config.id_token = auth.authenticate()\n",
    "\n",
    "api_client = ApiClient(configuration=config, authenticator=auth)\n",
    "\n",
    "env_api = EnvironmentApi(api_client)\n",
    "user = env_api.read_user()\n",
    "\n",
    "print(user)"
   ]
  },
  {
   "cell_type": "markdown",
   "metadata": {},
   "source": [
    "# Pushing the Model to Production in Seldon Deploy Advanced"
   ]
  },
  {
   "cell_type": "code",
   "execution_count": 104,
   "metadata": {
    "tags": []
   },
   "outputs": [],
   "source": [
    "NAMESPACE = \"seldon\"\n",
    "RISK_MODEL_NAME = \"loan-risk\"\n",
    "# AMOUNT_MODEL_NAME = \"loanamttest\"\n",
    "# TRANSFORMER_NAME = \"riskcombiner\"\n",
    "PIPELINE_NAME = \"loan-risk-pipeline\"\n",
    "RISK_MODEL_URI = \"gs://josh-seldon/loan-default-calculator/models/risk\"\n",
    "# AMOUNT_MODEL_URI = \"gs://josh-seldon/loan-default-calculator/models/amount\"\n",
    "# TRANSFORMER_URL = \"gs://josh-seldon/loan-default-calculator/transformer\""
   ]
  },
  {
   "cell_type": "markdown",
   "metadata": {},
   "source": [
    "## Step 1: deploy XGBoost Loan Risk Classifier model into Seldon Deploy"
   ]
  },
  {
   "cell_type": "code",
   "execution_count": 105,
   "metadata": {
    "tags": []
   },
   "outputs": [
    {
     "data": {
      "text/plain": [
       "{'kind': 'Model',\n",
       " 'metadata': {'name': 'loan-risk',\n",
       "  'namespace': 'seldon',\n",
       "  'annotations': {'seldon.io/project': 'default'}},\n",
       " 'spec': {'storageUri': 'gs://josh-seldon/loan-default-calculator/models/risk',\n",
       "  'requirements': ['xgboost'],\n",
       "  'replicas': 1,\n",
       "  'memory': '100Ki'}}"
      ]
     },
     "execution_count": 105,
     "metadata": {},
     "output_type": "execute_result"
    }
   ],
   "source": [
    "risk_model = {\n",
    "   \"kind\":\"Model\",\n",
    "   \"metadata\":{\n",
    "      \"name\":f\"{RISK_MODEL_NAME}\",\n",
    "      \"namespace\":NAMESPACE,\n",
    "      \"annotations\":{\n",
    "         \"seldon.io/project\":\"default\"\n",
    "      }\n",
    "   },\n",
    "   \"spec\":{\n",
    "      \"storageUri\":RISK_MODEL_URI,\n",
    "      \"requirements\":[\n",
    "         \"xgboost\"\n",
    "      ],\n",
    "      \"replicas\":1,\n",
    "      \"memory\":\"100Ki\"\n",
    "   }\n",
    "}\n",
    "\n",
    "risk_model"
   ]
  },
  {
   "cell_type": "code",
   "execution_count": 106,
   "metadata": {},
   "outputs": [
    {
     "name": "stdout",
     "output_type": "stream",
     "text": [
      "kind: Model\n",
      "metadata:\n",
      "  annotations:\n",
      "    seldon.io/project: default\n",
      "  name: loan-risk\n",
      "  namespace: seldon\n",
      "spec:\n",
      "  memory: 100Ki\n",
      "  replicas: 1\n",
      "  requirements:\n",
      "  - xgboost\n",
      "  storageUri: gs://josh-seldon/loan-default-calculator/models/risk\n",
      "\n"
     ]
    }
   ],
   "source": [
    "# Convert JSON to YAML\n",
    "import yaml\n",
    "\n",
    "risk_model_yaml = yaml.dump(json.loads(json.dumps(risk_model)))\n",
    "\n",
    "print(risk_model_yaml)\n",
    "\n",
    "# Save YAML to file\n",
    "with open('load-default-calculator.yaml', 'w') as f:\n",
    "    f.write(risk_model_yaml)"
   ]
  },
  {
   "cell_type": "code",
   "execution_count": 107,
   "metadata": {
    "tags": []
   },
   "outputs": [
    {
     "name": "stdout",
     "output_type": "stream",
     "text": [
      "{'api_version': None,\n",
      " 'kind': None,\n",
      " 'metadata': {'annotations': {'seldon.io/project': 'default'},\n",
      "              'cluster_name': None,\n",
      "              'creation_timestamp': '2023-04-07T14:48:30Z',\n",
      "              'deletion_grace_period_seconds': None,\n",
      "              'deletion_timestamp': None,\n",
      "              'finalizers': None,\n",
      "              'generate_name': None,\n",
      "              'generation': 1,\n",
      "              'labels': None,\n",
      "              'managed_fields': [{'api_version': 'mlops.seldon.io/v1alpha1',\n",
      "                                  'fields_type': 'FieldsV1',\n",
      "                                  'fields_v1': {'f:metadata': {'f:annotations': {'.': {},\n",
      "                                                                                 'f:seldon.io/project': {}}},\n",
      "                                                'f:spec': {'.': {},\n",
      "                                                           'f:memory': {},\n",
      "                                                           'f:replicas': {},\n",
      "                                                           'f:requirements': {},\n",
      "                                                           'f:storageUri': {}}},\n",
      "                                  'manager': 'deployserver',\n",
      "                                  'operation': 'Update',\n",
      "                                  'time': '2023-04-07T14:48:30Z'}],\n",
      "              'name': 'loan-risk',\n",
      "              'namespace': 'seldon',\n",
      "              'owner_references': None,\n",
      "              'resource_version': '111154',\n",
      "              'self_link': None,\n",
      "              'uid': '1bae484f-dca2-4acf-87c9-177e950839c6'},\n",
      " 'spec': {'artifact_version': None,\n",
      "          'dedicated': None,\n",
      "          'explainer': None,\n",
      "          'logger': None,\n",
      "          'max_replicas': None,\n",
      "          'memory': '100Ki',\n",
      "          'min_replicas': None,\n",
      "          'model_type': None,\n",
      "          'parameters': None,\n",
      "          'preloaded': None,\n",
      "          'replicas': 1,\n",
      "          'requirements': ['xgboost'],\n",
      "          'schema_uri': None,\n",
      "          'secret_name': None,\n",
      "          'server': None,\n",
      "          'storage_uri': 'gs://josh-seldon/loan-default-calculator/models/risk'},\n",
      " 'status': {'annotations': None,\n",
      "            'conditions': None,\n",
      "            'observed_generation': None,\n",
      "            'replicas': None}}\n"
     ]
    }
   ],
   "source": [
    "model_client = ModelsApi(api_client)\n",
    "try:\n",
    "    api_response = model_client.create_model(NAMESPACE, risk_model, async_req=False)\n",
    "    print(api_response)\n",
    "except ApiException as e:\n",
    "    print(\"Exception when calling ModelsApi->create_model: %s\\n\" % e)"
   ]
  },
  {
   "cell_type": "code",
   "execution_count": 108,
   "metadata": {},
   "outputs": [
    {
     "name": "stdout",
     "output_type": "stream",
     "text": [
      "model\t\t\tstate\t\treason\n",
      "-----\t\t\t-----\t\t------\n",
      "income-classifier-model\tModelAvailable\t\n",
      "loan-risk-drift\t\tModelFailed\trpc error: code = InvalidArgument desc = mlserver.errors.MLServerError: Invalid configuration for model loan-risk-drift_1: 1 validation error for TabularDriftConfig\n",
      "meta -> config_spec\n",
      "  field required (type=value_error.missing)\n",
      "incdrift\tModelAvailable\t\n"
     ]
    }
   ],
   "source": [
    "!seldon model list"
   ]
  },
  {
   "cell_type": "code",
   "execution_count": null,
   "metadata": {},
   "outputs": [],
   "source": [
    "try:\n",
    "    api_response = model_client.delete_model(RISK_MODEL_NAME, NAMESPACE)\n",
    "    print(api_response)\n",
    "except ApiException as e:\n",
    "    print(\"Exception when calling ModelsApi->delete_model: %s\\n\" % e)"
   ]
  },
  {
   "cell_type": "markdown",
   "metadata": {},
   "source": [
    "## Step 2: Creating the Pipeline"
   ]
  },
  {
   "cell_type": "code",
   "execution_count": null,
   "metadata": {
    "tags": []
   },
   "outputs": [],
   "source": [
    "# PIPELINE_NAME = \"incomepipeline2\"\n",
    "pipeline_deployment = {\n",
    "   \"kind\":\"Pipeline\",\n",
    "   \"metadata\":{\n",
    "      \"name\":PIPELINE_NAME,\n",
    "      \"namespace\":NAMESPACE,\n",
    "   },\n",
    "   \"spec\":{\n",
    "      \"steps\":[\n",
    "         {\n",
    "            \"name\":RISK_MODEL_NAME,\n",
    "            \"inputs\" : [\n",
    "               f\"{PIPELINE_NAME}.inputs.{RISK_MODEL_NAME}\"\n",
    "            ]\n",
    "         }\n",
    "         # {\n",
    "         #    \"name\":TRANSFORMER_NAME,\n",
    "         #    \"inputs\" : [\n",
    "         #       f\"{RISK_MODEL_NAME}.outputs.predict\",\n",
    "         #       f\"{PIPELINE_NAME}.inputs.{TRANSFORMER_NAME}\"\n",
    "         #    ]\n",
    "         # }\n",
    "         # },\n",
    "         # {\n",
    "         #    \"name\":AMOUNT_MODEL_NAME,\n",
    "         #    \"inputs\" : [\n",
    "         #       f\"{TRANSFORMER_NAME}\"\n",
    "         #    ]\n",
    "         # }\n",
    "      ],\n",
    "      \"output\":{\n",
    "         \"steps\":[\n",
    "            RISK_MODEL_NAME\n",
    "         ]\n",
    "      }\n",
    "   }\n",
    "}\n",
    "pipeline_deployment"
   ]
  },
  {
   "cell_type": "code",
   "execution_count": null,
   "metadata": {},
   "outputs": [],
   "source": [
    "# Convert JSON to YAML\n",
    "pipeline_yaml = yaml.dump(json.loads(json.dumps(pipeline_deployment)))\n",
    "\n",
    "print(pipeline_yaml)\n",
    "\n",
    "# Save YAML to file\n",
    "with open('load-default-calculator-pipeline.yaml', 'w') as f:\n",
    "    f.write(pipeline_yaml)"
   ]
  },
  {
   "cell_type": "code",
   "execution_count": null,
   "metadata": {
    "tags": []
   },
   "outputs": [],
   "source": [
    "pipeline_api = PipelinesApi(api_client)\n",
    "try:\n",
    "    api_response = pipeline_api.create_pipeline(NAMESPACE, pipeline_deployment)\n",
    "    print(api_response)\n",
    "    print(f\"Resource Version Number: \")\n",
    "except ApiException as e:\n",
    "    print(\"Exception when calling PipelinesApi->create_pipeline: %s\\n\" % e)"
   ]
  },
  {
   "cell_type": "code",
   "execution_count": null,
   "metadata": {},
   "outputs": [],
   "source": [
    "!seldon pipeline list"
   ]
  },
  {
   "cell_type": "code",
   "execution_count": null,
   "metadata": {},
   "outputs": [],
   "source": [
    "try:\n",
    "    api_response = pipeline_api.delete_pipeline(PIPELINE_NAME, NAMESPACE)\n",
    "    print(api_response)\n",
    "except ApiException as e:\n",
    "    print(\"Exception when calling ModelsApi->delete_model: %s\\n\" % e)"
   ]
  },
  {
   "cell_type": "markdown",
   "metadata": {},
   "source": [
    "### Send Test Request To Seldon Deploy Advanced Pipeline"
   ]
  },
  {
   "cell_type": "code",
   "execution_count": 92,
   "metadata": {
    "tags": []
   },
   "outputs": [
    {
     "name": "stdout",
     "output_type": "stream",
     "text": [
      "{\n",
      "  \"inputs\": [\n",
      "    {\n",
      "      \"name\": \"loan-risk\",\n",
      "      \"shape\": [\n",
      "        1,\n",
      "        12\n",
      "      ],\n",
      "      \"datatype\": \"INT64\",\n",
      "      \"parameters\": {\n",
      "        \"content_type\": \"np\"\n",
      "      },\n",
      "      \"data\": [\n",
      "        0,\n",
      "        0,\n",
      "        4,\n",
      "        0,\n",
      "        2,\n",
      "        20,\n",
      "        2,\n",
      "        2,\n",
      "        44,\n",
      "        1,\n",
      "        1,\n",
      "        64907\n",
      "      ]\n",
      "    }\n",
      "  ]\n",
      "}\n",
      "<Response [200]>\n",
      "{\n",
      "  \"model_name\": \"\",\n",
      "  \"outputs\": [\n",
      "    {\n",
      "      \"data\": [\n",
      "        1\n",
      "      ],\n",
      "      \"name\": \"predict\",\n",
      "      \"shape\": [\n",
      "        1,\n",
      "        1\n",
      "      ],\n",
      "      \"datatype\": \"INT64\"\n",
      "    }\n",
      "  ]\n",
      "}\n"
     ]
    }
   ],
   "source": [
    "import requests\n",
    "import json\n",
    "from mlserver.codecs import PandasCodec, NumpyCodec\n",
    "\n",
    "# MODEL_NAME = \"loancalulator\"\n",
    "SD_IP = \"35.243.251.120\"\n",
    "single_prediction = X_risk_test.sample(n=1)\n",
    "single_prediction_np = single_prediction.values\n",
    "risk_prediction = NumpyCodec.encode_input(RISK_MODEL_NAME, payload=single_prediction_np)\n",
    "risk_prediction_dict = risk_prediction.dict()\n",
    "\n",
    "\n",
    "# single_amount_prediction = X_loan_amount_test.sample(n=1)\n",
    "# single_amount_prediction_np = single_amount_prediction.values\n",
    "# amount_prediction = NumpyCodec.encode_input(AMOUNT_MODEL_NAME, payload=single_amount_prediction_np)\n",
    "# amount_prediction_dict = amount_prediction.dict()\n",
    "\n",
    "# test_output_risk = {\n",
    "#           \"data\": [\n",
    "#             0\n",
    "#           ],\n",
    "#           \"name\": \"predict\",\n",
    "#           \"shape\": [\n",
    "#             1,\n",
    "#             1\n",
    "#           ],\n",
    "#           \"datatype\": \"INT64\"\n",
    "#         }\n",
    "\n",
    "prediction = {\n",
    "    \"inputs\": [\n",
    "        risk_prediction_dict\n",
    "        \n",
    "    ]\n",
    "}\n",
    "\n",
    "print(json.dumps(prediction, indent=2))\n",
    "\n",
    "headers = {\n",
    "    \"Seldon-Model\" : f\"{PIPELINE_NAME}.pipeline\",\n",
    "    \"Host\" : \"seldon.inference.seldon\",\n",
    "    \"Content-Type\" : \"application/json\"\n",
    "}\n",
    "\n",
    "URL = f\"https://{SD_IP}/v2/models/{PIPELINE_NAME}/infer\"\n",
    "\n",
    "r = requests.post(URL, headers=headers, json=prediction, verify=False)\n",
    "print(r)\n",
    "print(json.dumps(r.json(),indent=2))\n"
   ]
  },
  {
   "cell_type": "markdown",
   "metadata": {},
   "source": [
    "### Send some requests through kafka"
   ]
  },
  {
   "cell_type": "code",
   "execution_count": null,
   "metadata": {},
   "outputs": [],
   "source": [
    "KAFKA_URI = '35.243.202.138:9094'"
   ]
  },
  {
   "cell_type": "code",
   "execution_count": null,
   "metadata": {},
   "outputs": [],
   "source": [
    "import mlserver.grpc.converters as converters\n",
    "from mlserver.types import InferenceRequest\n",
    "import mlserver.grpc.dataplane_pb2 as dataplane\n",
    "from mlserver.types import InferenceRequest\n",
    "\n",
    "from typing import Any\n",
    "\n",
    "\n",
    "def serialize_inference_request(msg: Any) -> bytes:\n",
    "    inference_request = InferenceRequest.parse_obj(msg)\n",
    "\n",
    "    inference_request_g = converters.ModelInferRequestConverter.from_types(\n",
    "        inference_request, model_name=None, model_version=None\n",
    "    )\n",
    "\n",
    "    return inference_request_g.SerializeToString()\n",
    "\n",
    "\n",
    "def deserialize_inference_request(msg: bytes) -> Any:\n",
    "    inference_request_g = dataplane.ModelInferRequest.FromString(msg)\n",
    "    inference_request = converters.ModelInferRequestConverter.to_types(inference_request_g)\n",
    "    return inference_request.dict()   "
   ]
  },
  {
   "cell_type": "markdown",
   "metadata": {},
   "source": [
    "### Producer"
   ]
  },
  {
   "cell_type": "code",
   "execution_count": null,
   "metadata": {},
   "outputs": [],
   "source": [
    "from confluent_kafka import Producer\n",
    "from confluent_kafka.admin import AdminClient\n",
    "import mlserver.grpc.converters as converters\n",
    "from mlserver.types import InferenceRequest\n",
    "import json\n",
    "import socket\n",
    "import uuid\n",
    "import mlserver.grpc.converters as converters\n",
    "import mlserver.grpc.dataplane_pb2 as dataplane\n",
    "import random\n",
    "\n",
    "conf = {\n",
    "    'bootstrap.servers': KAFKA_URI,\n",
    "    'client.id': socket.gethostname(),\n",
    "    'group.id': \"foo7\"\n",
    "}\n",
    "\n",
    "output_topic = f\"seldon.seldon.pipeline.{PIPELINE_NAME}.outputs\"\n",
    "input_topic = f\"seldon.seldon.pipeline.{PIPELINE_NAME}.inputs\"\n",
    "headers = {\"pipeline\": PIPELINE_NAME}\n",
    "\n",
    "\n",
    "producer = Producer(conf)\n",
    "for x in range(100):\n",
    "    try:\n",
    "        single_prediction = X_risk_test.sample(n=1, replace=False, random_state=42)\n",
    "        single_prediction_np = single_prediction.values\n",
    "        prediction = NumpyCodec.encode_input(RISK_MODEL_NAME, payload=single_prediction_np)\n",
    "        prediction_dict = prediction.dict()\n",
    "\n",
    "\n",
    "        prediction = {\n",
    "            \"inputs\": [\n",
    "            prediction_dict\n",
    "            ]\n",
    "        }\n",
    "\n",
    "        # print(prediction)\n",
    "\n",
    "        msg = converters.ModelInferRequestConverter.from_types(\n",
    "            InferenceRequest.parse_obj(prediction), model_name=None, model_version=None\n",
    "        ).SerializeToString()\n",
    "        print(msg)\n",
    "        producer.produce(input_topic, msg, key=str(\n",
    "            uuid.uuid4()), headers=headers)\n",
    "        producer.flush()\n",
    "        print('Successfully connected to Kafka server')\n",
    "    except Exception as e:\n",
    "        print('ERROR: Failed to connect to Kafka server: {}'.format(e))\n",
    "\n",
    "# View that the input topic has reached kafka\n"
   ]
  },
  {
   "cell_type": "code",
   "execution_count": null,
   "metadata": {},
   "outputs": [],
   "source": [
    "from confluent_kafka import Producer\n",
    "from confluent_kafka.admin import AdminClient\n",
    "from confluent_kafka import Consumer, KafkaError, TopicPartition\n",
    "\n",
    "import json\n",
    "import socket\n",
    "\n",
    "conf = {'bootstrap.servers': '35.243.202.138:9094',\n",
    "        'client.id': socket.gethostname(),\n",
    "        'group.id': \"fook9\",\n",
    "        'auto.offset.reset': 'smallest'\n",
    "        }\n",
    "\n",
    "\n",
    "output_topic = \"seldon.seldon.pipeline.loancalculatorpipeline.outputs\"\n",
    "input_topic = \"seldon.seldon.pipeline.loancalculatorpipeline.inputs\"\n",
    "headers = {\"pipeline\": \"loancalculatorpipeline\"}\n",
    "\n",
    "consumer = Consumer(conf)\n",
    "\n",
    "# Assign the topic, partition, and offset to consume from\n",
    "consumer.assign([TopicPartition(output_topic, 0, 10)])\n",
    "\n",
    "num_messages = 10\n",
    "messages_consumed = 0\n",
    "\n",
    "while messages_consumed < num_messages:\n",
    "    msg = consumer.poll(1.0)\n",
    "    if msg is None:\n",
    "        continue\n",
    "    if msg.error():\n",
    "        if msg.error().code() == KafkaError._PARTITION_EOF:\n",
    "            print('End of partition event')\n",
    "        else:\n",
    "            print('Error while consuming message: {}'.format(msg.error()))\n",
    "    else: \n",
    "        value = msg.value()\n",
    "        # create a new instance of your protobuf message\n",
    "        # my_message = message()\n",
    "        # deserialize the message from a binary string\n",
    "        # json_format.ParseFromString(value)\n",
    "        prediction_output = deserialize_inference_request(value)\n",
    "        print(prediction_output)\n",
    "        # print(f'Received message with format type: {type(value)}')\n",
    "        messages_consumed += 1\n",
    "consumer.close()\n"
   ]
  },
  {
   "cell_type": "markdown",
   "metadata": {},
   "source": [
    "# Anchors Explainer for the Loan Risk Classifier"
   ]
  },
  {
   "cell_type": "code",
   "execution_count": 44,
   "metadata": {},
   "outputs": [],
   "source": [
    "from alibi.explainers import AnchorTabular\n",
    "\n",
    "predict_fn = lambda x: risk_model.predict(x)\n",
    "feature_names = risk_feature_names\n",
    "explainer = AnchorTabular(predict_fn, feature_names, seed=1)"
   ]
  },
  {
   "cell_type": "code",
   "execution_count": 43,
   "metadata": {},
   "outputs": [
    {
     "data": {
      "text/plain": [
       "12"
      ]
     },
     "execution_count": 43,
     "metadata": {},
     "output_type": "execute_result"
    }
   ],
   "source": [
    "len(feature_names)"
   ]
  },
  {
   "cell_type": "code",
   "execution_count": 45,
   "metadata": {},
   "outputs": [
    {
     "name": "stdout",
     "output_type": "stream",
     "text": [
      "DataFrame has no missing values\n"
     ]
    },
    {
     "data": {
      "text/plain": [
       "(1636, 12)"
      ]
     },
     "execution_count": 45,
     "metadata": {},
     "output_type": "execute_result"
    }
   ],
   "source": [
    "if X_risk_train.isnull().any().any():\n",
    "    print('DataFrame has missing values')\n",
    "else:\n",
    "    print('DataFrame has no missing values')\n",
    "\n",
    "X_risk_train.shape"
   ]
  },
  {
   "cell_type": "code",
   "execution_count": 46,
   "metadata": {},
   "outputs": [],
   "source": [
    "X_train_np = X_risk_train.values\n",
    "X_test_np = X_risk_test.values"
   ]
  },
  {
   "cell_type": "code",
   "execution_count": 47,
   "metadata": {},
   "outputs": [
    {
     "data": {
      "text/plain": [
       "AnchorTabular(meta={\n",
       "  'name': 'AnchorTabular',\n",
       "  'type': ['blackbox'],\n",
       "  'explanations': ['local'],\n",
       "  'params': {'seed': 1, 'disc_perc': (25, 50, 75)},\n",
       "  'version': '0.9.1'}\n",
       ")"
      ]
     },
     "execution_count": 47,
     "metadata": {},
     "output_type": "execute_result"
    }
   ],
   "source": [
    "explainer.fit(X_train_np, disc_perc=(25, 50, 75))"
   ]
  },
  {
   "cell_type": "code",
   "execution_count": 48,
   "metadata": {},
   "outputs": [],
   "source": [
    "class_names = ['Low', 'Medium', 'High']"
   ]
  },
  {
   "cell_type": "code",
   "execution_count": 50,
   "metadata": {},
   "outputs": [
    {
     "name": "stdout",
     "output_type": "stream",
     "text": [
      "Prediction:  High\n"
     ]
    }
   ],
   "source": [
    "idx = 400\n",
    "print('Prediction: ', class_names[explainer.predictor(X_test_np[idx].reshape(1, -1))[0]])"
   ]
  },
  {
   "cell_type": "code",
   "execution_count": 51,
   "metadata": {},
   "outputs": [
    {
     "name": "stderr",
     "output_type": "stream",
     "text": [
      "Could not find an anchor satisfying the 0.95 precision constraint. Now returning the best non-eligible result. The desired precision threshold might not be achieved due to the quantile-based discretisation of the numerical features. The resolution of the bins may be too large to find an anchor of required precision. Consider increasing the number of bins in `disc_perc`, but note that for some numerical distribution (e.g. skewed distribution) it may not help.\n"
     ]
    },
    {
     "name": "stdout",
     "output_type": "stream",
     "text": [
      "Anchor: age <= 33.00 AND 2.00 < personal_status <= 3.00 AND job > 2.25 AND credit_history <= 1.00 AND 46555.25 < existing_loan_amounts <= 59743.00 AND installment_rate <= 18.00 AND employment > 3.00 AND savings_account_status > 2.00 AND other_debtors <= 1.00 AND loan_purpose > 1.00\n",
      "Precision: 0.88\n",
      "Coverage: 0.00\n"
     ]
    }
   ],
   "source": [
    "explanation = explainer.explain(X_test_np[idx], threshold=0.95)\n",
    "print('Anchor: %s' % (' AND '.join(explanation.anchor)))\n",
    "print('Precision: %.2f' % explanation.precision)\n",
    "print('Coverage: %.2f' % explanation.coverage)\n"
   ]
  },
  {
   "cell_type": "code",
   "execution_count": 52,
   "metadata": {},
   "outputs": [],
   "source": [
    "explainer.save(\"./explainer/loan-risk-explainer\")"
   ]
  },
  {
   "cell_type": "code",
   "execution_count": 53,
   "metadata": {},
   "outputs": [
    {
     "name": "stdout",
     "output_type": "stream",
     "text": [
      "Overwriting ./explainer/loan-risk-explainer/model-settings.json\n"
     ]
    }
   ],
   "source": [
    "%%writefile ./explainer/loan-risk-explainer/model-settings.json\n",
    "{\n",
    "  \"implementation\": \"mlserver_alibi_explain.AlibiExplainRuntime\"\n",
    "}"
   ]
  },
  {
   "cell_type": "code",
   "execution_count": 54,
   "metadata": {},
   "outputs": [
    {
     "name": "stdout",
     "output_type": "stream",
     "text": [
      "Copying file://./explainer/loan-risk-explainer/model-settings.json [Content-Type=application/json]...\n",
      "Copying file://./explainer/loan-risk-explainer/explainer.dill [Content-Type=application/octet-stream]...\n",
      "==> NOTE: You are uploading one or more large file(s), which would run          \n",
      "significantly faster if you enable parallel composite uploads. This\n",
      "feature can be enabled by editing the\n",
      "\"parallel_composite_upload_threshold\" value in your .boto\n",
      "configuration file. However, note that if you do this large files will\n",
      "be uploaded as `composite objects\n",
      "<https://cloud.google.com/storage/docs/composite-objects>`_,which\n",
      "means that any user who downloads such objects will need to have a\n",
      "compiled crcmod installed (see \"gsutil help crcmod\"). This is because\n",
      "without a compiled crcmod, computing checksums on composite objects is\n",
      "so slow that gsutil disables downloads of composite objects.\n",
      "\n",
      "Copying file://./explainer/loan-risk-explainer/meta.dill [Content-Type=application/octet-stream]...\n",
      "\\ [3 files][292.5 MiB/292.5 MiB]   13.4 MiB/s                                   \n",
      "Operation completed over 3 objects/292.5 MiB.                                    \n"
     ]
    }
   ],
   "source": [
    "!gsutil cp -r ./explainer gs://josh-seldon/loan-default-calculator/loan-risk-explainer"
   ]
  },
  {
   "cell_type": "code",
   "execution_count": 55,
   "metadata": {},
   "outputs": [],
   "source": [
    "NAMESPACE = \"seldon\"\n",
    "# MODEL_NAME = \"loancalulator\"\n",
    "# PIPELINE_NAME = \"loancalculatorpipeline\"\n",
    "\n",
    "EXPLAIENR_URL = \"gs://josh-seldon/loan-default-calculator/loan-risk-explainer/explainer/loan-risk-explainer\"\n",
    "EXPLAINER_NAME = f\"{RISK_MODEL_NAME}-explainer\""
   ]
  },
  {
   "cell_type": "code",
   "execution_count": 56,
   "metadata": {},
   "outputs": [
    {
     "name": "stdout",
     "output_type": "stream",
     "text": [
      "model\t\t\tstate\t\treason\n",
      "-----\t\t\t-----\t\t------\n",
      "incdrift\t\tModelAvailable\t\n",
      "loan-risk\t\tModelAvailable\t\n",
      "income-classifier-model\tModelAvailable\t\n"
     ]
    }
   ],
   "source": [
    "!seldon model list"
   ]
  },
  {
   "cell_type": "markdown",
   "metadata": {},
   "source": [
    "## Deploy Explainer Loan default calculator model into Seldon Deploy"
   ]
  },
  {
   "cell_type": "code",
   "execution_count": 57,
   "metadata": {},
   "outputs": [
    {
     "data": {
      "text/plain": [
       "{'kind': 'Model',\n",
       " 'metadata': {'name': 'loan-risk-explainer',\n",
       "  'namespace': 'seldon',\n",
       "  'annotations': {'seldon.io/project': 'default'},\n",
       "  'labels': {'seldon.io/explainer': 'true',\n",
       "   'seldon.io/pipeline': 'loan-risk-pipeline'}},\n",
       " 'spec': {'storageUri': 'gs://josh-seldon/loan-default-calculator/loan-risk-explainer/explainer/loan-risk-explainer',\n",
       "  'explainer': {'type': 'anchor_tabular', 'modelRef': 'loan-risk'},\n",
       "  'requirements': ['alibi-explain'],\n",
       "  'replicas': 1,\n",
       "  'memory': '100Ki'}}"
      ]
     },
     "execution_count": 57,
     "metadata": {},
     "output_type": "execute_result"
    }
   ],
   "source": [
    "explainer_config = {\n",
    "   \"kind\":\"Model\",\n",
    "   \"metadata\":{\n",
    "      \"name\":EXPLAINER_NAME,\n",
    "      \"namespace\":NAMESPACE,\n",
    "      \"annotations\":{\n",
    "         \"seldon.io/project\":\"default\"\n",
    "      },\n",
    "      \"labels\":{\n",
    "         \"seldon.io/explainer\": \"true\",\n",
    "         \"seldon.io/pipeline\": PIPELINE_NAME\n",
    "      }\n",
    "   },\n",
    "   \"spec\":{\n",
    "      \"storageUri\":EXPLAIENR_URL,\n",
    "      \"explainer\" : {\n",
    "         \"type\": \"anchor_tabular\",\n",
    "         \"modelRef\": RISK_MODEL_NAME\n",
    "      },\n",
    "      \"requirements\":[\n",
    "         \"alibi-explain\"\n",
    "      ],\n",
    "      \"replicas\":1,\n",
    "      \"memory\":\"100Ki\"\n",
    "   }\n",
    "}\n",
    "\n",
    "explainer_config"
   ]
  },
  {
   "cell_type": "code",
   "execution_count": 58,
   "metadata": {},
   "outputs": [
    {
     "name": "stdout",
     "output_type": "stream",
     "text": [
      "{'api_version': None,\n",
      " 'kind': None,\n",
      " 'metadata': {'annotations': {'seldon.io/project': 'default'},\n",
      "              'cluster_name': None,\n",
      "              'creation_timestamp': '2023-04-07T13:44:22Z',\n",
      "              'deletion_grace_period_seconds': None,\n",
      "              'deletion_timestamp': None,\n",
      "              'finalizers': None,\n",
      "              'generate_name': None,\n",
      "              'generation': 1,\n",
      "              'labels': {'seldon.io/explainer': 'true',\n",
      "                         'seldon.io/pipeline': 'loan-risk-pipeline'},\n",
      "              'managed_fields': [{'api_version': 'mlops.seldon.io/v1alpha1',\n",
      "                                  'fields_type': 'FieldsV1',\n",
      "                                  'fields_v1': {'f:metadata': {'f:annotations': {'.': {},\n",
      "                                                                                 'f:seldon.io/project': {}},\n",
      "                                                               'f:labels': {'.': {},\n",
      "                                                                            'f:seldon.io/explainer': {},\n",
      "                                                                            'f:seldon.io/pipeline': {}}},\n",
      "                                                'f:spec': {'.': {},\n",
      "                                                           'f:explainer': {'.': {},\n",
      "                                                                           'f:modelRef': {},\n",
      "                                                                           'f:type': {}},\n",
      "                                                           'f:memory': {},\n",
      "                                                           'f:replicas': {},\n",
      "                                                           'f:requirements': {},\n",
      "                                                           'f:storageUri': {}}},\n",
      "                                  'manager': 'deployserver',\n",
      "                                  'operation': 'Update',\n",
      "                                  'time': '2023-04-07T13:44:22Z'}],\n",
      "              'name': 'loan-risk-explainer',\n",
      "              'namespace': 'seldon',\n",
      "              'owner_references': None,\n",
      "              'resource_version': '17648278',\n",
      "              'self_link': None,\n",
      "              'uid': 'be234e77-61c3-4a99-9877-8a39eb506992'},\n",
      " 'spec': {'artifact_version': None,\n",
      "          'dedicated': None,\n",
      "          'explainer': {'model_ref': 'loan-risk',\n",
      "                        'pipeline_ref': None,\n",
      "                        'type': 'anchor_tabular'},\n",
      "          'logger': None,\n",
      "          'max_replicas': None,\n",
      "          'memory': '100Ki',\n",
      "          'min_replicas': None,\n",
      "          'model_type': None,\n",
      "          'parameters': None,\n",
      "          'preloaded': None,\n",
      "          'replicas': 1,\n",
      "          'requirements': ['alibi-explain'],\n",
      "          'schema_uri': None,\n",
      "          'secret_name': None,\n",
      "          'server': None,\n",
      "          'storage_uri': 'gs://josh-seldon/loan-default-calculator/loan-risk-explainer/explainer/loan-risk-explainer'},\n",
      " 'status': {'annotations': None,\n",
      "            'conditions': None,\n",
      "            'observed_generation': None,\n",
      "            'replicas': None}}\n"
     ]
    }
   ],
   "source": [
    "model_client = ModelsApi(api_client)\n",
    "try:\n",
    "    api_response = model_client.create_model(NAMESPACE, explainer_config, async_req=False)\n",
    "    print(api_response)\n",
    "except ApiException as e:\n",
    "    print(\"Exception when calling ModelsApi->create_model: %s\\n\" % e)"
   ]
  },
  {
   "cell_type": "code",
   "execution_count": 64,
   "metadata": {},
   "outputs": [
    {
     "name": "stdout",
     "output_type": "stream",
     "text": [
      "model\t\t\tstate\t\treason\n",
      "-----\t\t\t-----\t\t------\n",
      "loan-risk\t\tModelAvailable\t\n",
      "income-classifier-model\tModelAvailable\t\n",
      "incdrift\t\tModelAvailable\t\n"
     ]
    }
   ],
   "source": [
    "!seldon model list"
   ]
  },
  {
   "cell_type": "code",
   "execution_count": 63,
   "metadata": {},
   "outputs": [
    {
     "name": "stdout",
     "output_type": "stream",
     "text": [
      "None\n"
     ]
    }
   ],
   "source": [
    "try:\n",
    "    api_response = model_client.delete_model(EXPLAINER_NAME, NAMESPACE)\n",
    "    print(api_response)\n",
    "except ApiException as e:\n",
    "    print(\"Exception when calling ModelsApi->delete_model: %s\\n\" % e)"
   ]
  },
  {
   "cell_type": "markdown",
   "metadata": {},
   "source": [
    "#  Create and Deploy a Drift Detector"
   ]
  },
  {
   "cell_type": "markdown",
   "metadata": {},
   "source": [
    "## Create a Tabular Drift Detector on the Loan Risk Classifier"
   ]
  },
  {
   "cell_type": "code",
   "execution_count": 70,
   "metadata": {},
   "outputs": [],
   "source": [
    "drift_cat_map = {\n",
    "0: None,\n",
    " 1: None,\n",
    " 2: None,\n",
    " 3: None,\n",
    " 4: None,\n",
    " 6: None,\n",
    " 7: None,\n",
    " 9: None,\n",
    " 10: None,\n",
    " 11: None\n",
    "}"
   ]
  },
  {
   "cell_type": "code",
   "execution_count": 71,
   "metadata": {},
   "outputs": [],
   "source": [
    "from alibi_detect.cd import TabularDrift\n",
    "\n",
    "X_train_np = X_risk_train.values\n",
    "X_test_np = X_risk_test.values\n",
    "\n",
    "cd = TabularDrift(X_train_np, p_val=0.05, categories_per_feature=drift_cat_map)"
   ]
  },
  {
   "cell_type": "markdown",
   "metadata": {},
   "source": [
    "## Load the Drift Dataset CSV file"
   ]
  },
  {
   "cell_type": "code",
   "execution_count": 75,
   "metadata": {},
   "outputs": [
    {
     "data": {
      "text/html": [
       "<div>\n",
       "<style scoped>\n",
       "    .dataframe tbody tr th:only-of-type {\n",
       "        vertical-align: middle;\n",
       "    }\n",
       "\n",
       "    .dataframe tbody tr th {\n",
       "        vertical-align: top;\n",
       "    }\n",
       "\n",
       "    .dataframe thead th {\n",
       "        text-align: right;\n",
       "    }\n",
       "</style>\n",
       "<table border=\"1\" class=\"dataframe\">\n",
       "  <thead>\n",
       "    <tr style=\"text-align: right;\">\n",
       "      <th></th>\n",
       "      <th>checking_account_status</th>\n",
       "      <th>savings_account_status</th>\n",
       "      <th>credit_history</th>\n",
       "      <th>employment</th>\n",
       "      <th>loan_purpose</th>\n",
       "      <th>installment_rate</th>\n",
       "      <th>personal_status</th>\n",
       "      <th>other_debtors</th>\n",
       "      <th>age</th>\n",
       "      <th>job</th>\n",
       "      <th>dependents</th>\n",
       "      <th>risk</th>\n",
       "      <th>existing_loan_amounts</th>\n",
       "    </tr>\n",
       "  </thead>\n",
       "  <tbody>\n",
       "    <tr>\n",
       "      <th>797</th>\n",
       "      <td>1</td>\n",
       "      <td>3</td>\n",
       "      <td>4</td>\n",
       "      <td>0</td>\n",
       "      <td>2</td>\n",
       "      <td>13</td>\n",
       "      <td>0</td>\n",
       "      <td>1</td>\n",
       "      <td>48</td>\n",
       "      <td>2</td>\n",
       "      <td>2</td>\n",
       "      <td>0</td>\n",
       "      <td>60034</td>\n",
       "    </tr>\n",
       "    <tr>\n",
       "      <th>972</th>\n",
       "      <td>1</td>\n",
       "      <td>2</td>\n",
       "      <td>2</td>\n",
       "      <td>1</td>\n",
       "      <td>1</td>\n",
       "      <td>32</td>\n",
       "      <td>2</td>\n",
       "      <td>2</td>\n",
       "      <td>44</td>\n",
       "      <td>1</td>\n",
       "      <td>1</td>\n",
       "      <td>2</td>\n",
       "      <td>35607</td>\n",
       "    </tr>\n",
       "    <tr>\n",
       "      <th>753</th>\n",
       "      <td>3</td>\n",
       "      <td>0</td>\n",
       "      <td>1</td>\n",
       "      <td>1</td>\n",
       "      <td>3</td>\n",
       "      <td>19</td>\n",
       "      <td>2</td>\n",
       "      <td>1</td>\n",
       "      <td>4</td>\n",
       "      <td>1</td>\n",
       "      <td>1</td>\n",
       "      <td>1</td>\n",
       "      <td>55901</td>\n",
       "    </tr>\n",
       "    <tr>\n",
       "      <th>891</th>\n",
       "      <td>1</td>\n",
       "      <td>0</td>\n",
       "      <td>4</td>\n",
       "      <td>2</td>\n",
       "      <td>0</td>\n",
       "      <td>35</td>\n",
       "      <td>1</td>\n",
       "      <td>1</td>\n",
       "      <td>31</td>\n",
       "      <td>0</td>\n",
       "      <td>2</td>\n",
       "      <td>2</td>\n",
       "      <td>64451</td>\n",
       "    </tr>\n",
       "    <tr>\n",
       "      <th>168</th>\n",
       "      <td>2</td>\n",
       "      <td>1</td>\n",
       "      <td>1</td>\n",
       "      <td>1</td>\n",
       "      <td>3</td>\n",
       "      <td>32</td>\n",
       "      <td>4</td>\n",
       "      <td>0</td>\n",
       "      <td>20</td>\n",
       "      <td>3</td>\n",
       "      <td>2</td>\n",
       "      <td>2</td>\n",
       "      <td>61379</td>\n",
       "    </tr>\n",
       "  </tbody>\n",
       "</table>\n",
       "</div>"
      ],
      "text/plain": [
       "     checking_account_status  savings_account_status  credit_history  \\\n",
       "797                        1                       3               4   \n",
       "972                        1                       2               2   \n",
       "753                        3                       0               1   \n",
       "891                        1                       0               4   \n",
       "168                        2                       1               1   \n",
       "\n",
       "     employment  loan_purpose  installment_rate  personal_status  \\\n",
       "797           0             2                13                0   \n",
       "972           1             1                32                2   \n",
       "753           1             3                19                2   \n",
       "891           2             0                35                1   \n",
       "168           1             3                32                4   \n",
       "\n",
       "     other_debtors  age  job  dependents  risk  existing_loan_amounts  \n",
       "797              1   48    2           2     0                  60034  \n",
       "972              2   44    1           1     2                  35607  \n",
       "753              1    4    1           1     1                  55901  \n",
       "891              1   31    0           2     2                  64451  \n",
       "168              0   20    3           2     2                  61379  "
      ]
     },
     "execution_count": 75,
     "metadata": {},
     "output_type": "execute_result"
    }
   ],
   "source": [
    "df_drift = pd.read_csv('drifted_credit_data.csv')\n",
    "\n",
    "# Take a random subset of the data\n",
    "subset = df_drift.sample(n=25)\n",
    "\n",
    "risk_data = subset[['checking_account_status', 'savings_account_status', 'credit_history', 'employment', 'loan_purpose', 'installment_rate', 'personal_status', 'other_debtors', 'age', 'job', 'dependents', 'risk','existing_loan_amounts']]\n",
    "\n",
    "# Convert the subset to a numpy array\n",
    "X = risk_data.values\n",
    "\n",
    "risk_data.head()"
   ]
  },
  {
   "cell_type": "code",
   "execution_count": 76,
   "metadata": {},
   "outputs": [
    {
     "data": {
      "text/plain": [
       "{'data': {'is_drift': 0,\n",
       "  'distance': array([1.87660158e+00, 3.11167598e+00, 5.42213058e+00, 3.47014713e+00,\n",
       "         4.42329168e-01, 1.10611245e-01, 5.19603825e+00, 1.86070538e+00,\n",
       "         9.80440080e-02, 4.50963116e+00, 2.89135695e+00, 1.66100000e+03],\n",
       "        dtype=float32),\n",
       "  'p_val': array([0.59840906, 0.37472537, 0.24665953, 0.482432  , 0.9788669 ,\n",
       "         0.8869241 , 0.26776767, 0.3944146 , 0.9507276 , 0.21143283,\n",
       "         0.08905589, 0.23931743], dtype=float32),\n",
       "  'threshold': 0.004166666666666667},\n",
       " 'meta': {'name': 'TabularDrift',\n",
       "  'online': False,\n",
       "  'data_type': None,\n",
       "  'version': '0.11.0',\n",
       "  'detector_type': 'drift'}}"
      ]
     },
     "execution_count": 76,
     "metadata": {},
     "output_type": "execute_result"
    }
   ],
   "source": [
    "preds = cd.predict(X, drift_type='batch', return_p_val=True, return_distance=True)\n",
    "preds"
   ]
  },
  {
   "cell_type": "code",
   "execution_count": 77,
   "metadata": {},
   "outputs": [],
   "source": [
    "from alibi_detect.saving import save_detector, load_detector\n",
    "\n",
    "# we can also save/load an initialised detector\n",
    "filepath = './drift'  # change to directory where detector is saved\n",
    "save_detector(cd, filepath)\n",
    "# cd = load_detector(filepath)"
   ]
  },
  {
   "cell_type": "code",
   "execution_count": 78,
   "metadata": {},
   "outputs": [
    {
     "name": "stdout",
     "output_type": "stream",
     "text": [
      "Overwriting ./drift/model-settings.json\n"
     ]
    }
   ],
   "source": [
    "%%writefile ./drift/model-settings.json\n",
    "{\n",
    "  \"implementation\": \"mlserver_alibi_detect.AlibiDetectRuntime\"\n",
    "}"
   ]
  },
  {
   "cell_type": "code",
   "execution_count": 79,
   "metadata": {},
   "outputs": [
    {
     "name": "stdout",
     "output_type": "stream",
     "text": [
      "Copying file://./drift/model-settings.json [Content-Type=application/json]...\n",
      "Copying file://./drift/x_ref.npy [Content-Type=application/octet-stream]...     \n",
      "Copying file://./drift/config.toml [Content-Type=application/octet-stream]...   \n",
      "\\ [3 files][154.0 KiB/154.0 KiB]                                                \n",
      "Operation completed over 3 objects/154.0 KiB.                                    \n"
     ]
    }
   ],
   "source": [
    "!gsutil cp -r ./drift gs://josh-seldon/loan-default-calculator/risk/drift/"
   ]
  },
  {
   "cell_type": "code",
   "execution_count": 80,
   "metadata": {},
   "outputs": [],
   "source": [
    "DRIFT_NAME = f\"{RISK_MODEL_NAME}-drift\"\n",
    "DRIFT_URL = \"gs://josh-seldon/loan-default-calculator/risk/drift/drift\""
   ]
  },
  {
   "cell_type": "code",
   "execution_count": 81,
   "metadata": {},
   "outputs": [
    {
     "data": {
      "text/plain": [
       "{'kind': 'Model',\n",
       " 'metadata': {'name': 'loan-risk-drift',\n",
       "  'namespace': 'seldon',\n",
       "  'annotations': {'seldon.io/project': 'default'},\n",
       "  'labels': {'seldon.io/detector-type': 'drift',\n",
       "   'seldon.io/pipeline': 'loan-risk-pipeline'}},\n",
       " 'spec': {'storageUri': 'gs://josh-seldon/loan-default-calculator/risk/drift/drift',\n",
       "  'requirements': ['alibi-detect', 'mlserver'],\n",
       "  'replicas': 1,\n",
       "  'memory': '100Ki'}}"
      ]
     },
     "execution_count": 81,
     "metadata": {},
     "output_type": "execute_result"
    }
   ],
   "source": [
    "drift_config = {\n",
    "   \"kind\":\"Model\",\n",
    "   \"metadata\":{\n",
    "      \"name\":DRIFT_NAME,\n",
    "      \"namespace\":NAMESPACE,\n",
    "      \"annotations\":{\n",
    "         \"seldon.io/project\":\"default\"\n",
    "      },\n",
    "      \"labels\":{\n",
    "         \"seldon.io/detector-type\": \"drift\",\n",
    "         \"seldon.io/pipeline\": PIPELINE_NAME\n",
    "      }\n",
    "   },\n",
    "   \"spec\":{\n",
    "      \"storageUri\":DRIFT_URL,\n",
    "      \"requirements\":[\n",
    "         \"alibi-detect\",\n",
    "         \"mlserver\"\n",
    "      ],\n",
    "      \"replicas\":1,\n",
    "      \"memory\":\"100Ki\"\n",
    "   }\n",
    "}\n",
    "\n",
    "drift_config"
   ]
  },
  {
   "cell_type": "code",
   "execution_count": 82,
   "metadata": {},
   "outputs": [
    {
     "name": "stdout",
     "output_type": "stream",
     "text": [
      "kind: Model\n",
      "metadata:\n",
      "  annotations:\n",
      "    seldon.io/project: default\n",
      "  labels:\n",
      "    seldon.io/detector-type: drift\n",
      "    seldon.io/pipeline: loan-risk-pipeline\n",
      "  name: loan-risk-drift\n",
      "  namespace: seldon\n",
      "spec:\n",
      "  memory: 100Ki\n",
      "  replicas: 1\n",
      "  requirements:\n",
      "  - alibi-detect\n",
      "  - mlserver\n",
      "  storageUri: gs://josh-seldon/loan-default-calculator/risk/drift/drift\n",
      "\n"
     ]
    }
   ],
   "source": [
    "# Convert JSON to YAML\n",
    "import yaml\n",
    "\n",
    "drift_config_yaml = yaml.dump(json.loads(json.dumps(drift_config)))\n",
    "\n",
    "print(drift_config_yaml)\n",
    "\n",
    "# Save YAML to file\n",
    "with open('load-default-calculator-drift.yaml', 'w') as f:\n",
    "    f.write(drift_config_yaml)"
   ]
  },
  {
   "cell_type": "code",
   "execution_count": 83,
   "metadata": {},
   "outputs": [
    {
     "name": "stdout",
     "output_type": "stream",
     "text": [
      "{'api_version': None,\n",
      " 'kind': None,\n",
      " 'metadata': {'annotations': {'seldon.io/project': 'default'},\n",
      "              'cluster_name': None,\n",
      "              'creation_timestamp': '2023-04-07T13:52:46Z',\n",
      "              'deletion_grace_period_seconds': None,\n",
      "              'deletion_timestamp': None,\n",
      "              'finalizers': None,\n",
      "              'generate_name': None,\n",
      "              'generation': 1,\n",
      "              'labels': {'seldon.io/detector-type': 'drift',\n",
      "                         'seldon.io/pipeline': 'loan-risk-pipeline'},\n",
      "              'managed_fields': [{'api_version': 'mlops.seldon.io/v1alpha1',\n",
      "                                  'fields_type': 'FieldsV1',\n",
      "                                  'fields_v1': {'f:metadata': {'f:annotations': {'.': {},\n",
      "                                                                                 'f:seldon.io/project': {}},\n",
      "                                                               'f:labels': {'.': {},\n",
      "                                                                            'f:seldon.io/detector-type': {},\n",
      "                                                                            'f:seldon.io/pipeline': {}}},\n",
      "                                                'f:spec': {'.': {},\n",
      "                                                           'f:memory': {},\n",
      "                                                           'f:replicas': {},\n",
      "                                                           'f:requirements': {},\n",
      "                                                           'f:storageUri': {}}},\n",
      "                                  'manager': 'deployserver',\n",
      "                                  'operation': 'Update',\n",
      "                                  'time': '2023-04-07T13:52:46Z'}],\n",
      "              'name': 'loan-risk-drift',\n",
      "              'namespace': 'seldon',\n",
      "              'owner_references': None,\n",
      "              'resource_version': '17657042',\n",
      "              'self_link': None,\n",
      "              'uid': '40709dd0-760f-4f31-aa76-5e68f8b51f9f'},\n",
      " 'spec': {'artifact_version': None,\n",
      "          'dedicated': None,\n",
      "          'explainer': None,\n",
      "          'logger': None,\n",
      "          'max_replicas': None,\n",
      "          'memory': '100Ki',\n",
      "          'min_replicas': None,\n",
      "          'model_type': None,\n",
      "          'parameters': None,\n",
      "          'preloaded': None,\n",
      "          'replicas': 1,\n",
      "          'requirements': ['alibi-detect', 'mlserver'],\n",
      "          'schema_uri': None,\n",
      "          'secret_name': None,\n",
      "          'server': None,\n",
      "          'storage_uri': 'gs://josh-seldon/loan-default-calculator/risk/drift/drift'},\n",
      " 'status': {'annotations': None,\n",
      "            'conditions': None,\n",
      "            'observed_generation': None,\n",
      "            'replicas': None}}\n"
     ]
    }
   ],
   "source": [
    "model_client = ModelsApi(api_client)\n",
    "try:\n",
    "    api_response = model_client.create_model(NAMESPACE, drift_config, async_req=False)\n",
    "    print(api_response)\n",
    "except ApiException as e:\n",
    "    print(\"Exception when calling ModelsApi->create_model: %s\\n\" % e)"
   ]
  },
  {
   "cell_type": "code",
   "execution_count": 84,
   "metadata": {},
   "outputs": [
    {
     "name": "stdout",
     "output_type": "stream",
     "text": [
      "model\t\t\tstate\t\treason\n",
      "-----\t\t\t-----\t\t------\n",
      "loan-risk\t\tModelAvailable\t\n",
      "income-classifier-model\tModelAvailable\t\n",
      "incdrift\t\tModelAvailable\t\n",
      "loan-risk-drift\t\tModelFailed\trpc error: code = InvalidArgument desc = mlserver.errors.MLServerError: Invalid configuration for model loan-risk-drift_1: 1 validation error for TabularDriftConfig\n",
      "meta -> config_spec\n",
      "  field required (type=value_error.missing)\n"
     ]
    }
   ],
   "source": [
    "!seldon model list"
   ]
  },
  {
   "cell_type": "code",
   "execution_count": null,
   "metadata": {},
   "outputs": [],
   "source": [
    "try:\n",
    "    api_response = model_client.delete_model(DRIFT_NAME, NAMESPACE)\n",
    "    print(api_response)\n",
    "except ApiException as e:\n",
    "    print(\"Exception when calling ModelsApi->delete_model: %s\\n\" % e)"
   ]
  },
  {
   "cell_type": "code",
   "execution_count": null,
   "metadata": {},
   "outputs": [],
   "source": [
    "# PIPELINE_NAME = \"incomepipeline2\"\n",
    "pipeline_w_drift = {\n",
    "   \"kind\":\"Pipeline\",\n",
    "   \"metadata\":{\n",
    "      \"name\":PIPELINE_NAME,\n",
    "      \"namespace\":NAMESPACE,\n",
    "      \"resourceVersion\":\"16409761\"\n",
    "   },\n",
    "   \"spec\":{\n",
    "      \"steps\":[\n",
    "         {\n",
    "            \"name\":RISK_MODEL_NAME\n",
    "         },\n",
    "         {\n",
    "            \"name\": f\"{RISK_MODEL_NAME}-drift\",\n",
    "            \"batch\" : {\n",
    "                \"size\" : 150\n",
    "            }\n",
    "         }\n",
    "      ],\n",
    "      \"output\":{\n",
    "         \"steps\":[\n",
    "            RISK_MODEL_NAME\n",
    "         ]\n",
    "      }\n",
    "   }\n",
    "}\n",
    "pipeline_w_drift"
   ]
  },
  {
   "cell_type": "code",
   "execution_count": null,
   "metadata": {},
   "outputs": [],
   "source": [
    "# Convert JSON to YAML\n",
    "import yaml\n",
    "\n",
    "pipeline_w_drift_yaml = yaml.dump(json.loads(json.dumps(pipeline_w_drift)))\n",
    "\n",
    "print(pipeline_w_drift_yaml)\n",
    "\n",
    "# Save YAML to file\n",
    "with open('loan-default-calculator-drift-pipeline.yaml', 'w') as f:\n",
    "    f.write(pipeline_w_drift_yaml)"
   ]
  },
  {
   "cell_type": "code",
   "execution_count": null,
   "metadata": {},
   "outputs": [],
   "source": [
    "pipeline_api = PipelinesApi(api_client)\n",
    "try:\n",
    "    api_response = pipeline_api.update_pipeline(PIPELINE_NAME, NAMESPACE, pipeline_w_drift)\n",
    "    print(api_response)\n",
    "except ApiException as e:\n",
    "    print(\"Exception when calling PipelinesApi->update_pipeline: %s\\n\" % e)\n"
   ]
  },
  {
   "cell_type": "markdown",
   "metadata": {},
   "source": [
    "## KernalShap Explainer"
   ]
  },
  {
   "cell_type": "code",
   "execution_count": null,
   "metadata": {},
   "outputs": [],
   "source": [
    "import shap\n",
    "shap.initjs()\n",
    "\n",
    "import matplotlib.pyplot as plt\n",
    "import numpy as np\n",
    "import pandas as pd\n",
    "\n",
    "from alibi.explainers import KernelShap\n",
    "from alibi.datasets import fetch_adult\n",
    "from scipy.special import logit\n",
    "from sklearn.compose import ColumnTransformer\n",
    "from sklearn.impute import SimpleImputer\n",
    "from sklearn.linear_model import LogisticRegression\n",
    "from sklearn.metrics import accuracy_score, confusion_matrix, ConfusionMatrixDisplay\n",
    "from sklearn.model_selection import cross_val_score, train_test_split\n",
    "from sklearn.pipeline import Pipeline\n",
    "from sklearn.preprocessing import StandardScaler, OneHotEncoder"
   ]
  },
  {
   "cell_type": "markdown",
   "metadata": {},
   "source": [
    "# KS Drift"
   ]
  },
  {
   "cell_type": "code",
   "execution_count": null,
   "metadata": {},
   "outputs": [],
   "source": [
    "from alibi_detect.cd import KSDrift\n",
    "\n",
    "cd = KSDrift(X_train_np, p_val=0.05)"
   ]
  },
  {
   "cell_type": "code",
   "execution_count": null,
   "metadata": {},
   "outputs": [],
   "source": [
    "preds = cd.predict(X, drift_type='batch', return_p_val=True, return_distance=True)\n"
   ]
  },
  {
   "cell_type": "code",
   "execution_count": null,
   "metadata": {},
   "outputs": [],
   "source": [
    "preds"
   ]
  },
  {
   "cell_type": "markdown",
   "metadata": {},
   "source": [
    "## MM Drift Detector"
   ]
  },
  {
   "cell_type": "code",
   "execution_count": null,
   "metadata": {},
   "outputs": [],
   "source": [
    "from alibi_detect.cd import MMDDrift\n",
    "# import tensorflow as tf\n",
    "# tf.keras.backend.clear_session()\n",
    "# from tensorflow.keras.layers import Dense, InputLayer\n",
    "\n",
    "\n",
    "\n",
    "cd_torch = MMDDrift(X_train_np, backend='pytorch', p_val=.05)\n"
   ]
  },
  {
   "cell_type": "code",
   "execution_count": null,
   "metadata": {},
   "outputs": [],
   "source": []
  },
  {
   "cell_type": "markdown",
   "metadata": {},
   "source": [
    "# Outlier"
   ]
  },
  {
   "cell_type": "markdown",
   "metadata": {},
   "source": [
    "## VAE Outlier"
   ]
  },
  {
   "cell_type": "markdown",
   "metadata": {},
   "source": [
    "### Apply One Hot Encoding"
   ]
  },
  {
   "cell_type": "code",
   "execution_count": null,
   "metadata": {},
   "outputs": [],
   "source": [
    "X_train"
   ]
  },
  {
   "cell_type": "code",
   "execution_count": null,
   "metadata": {},
   "outputs": [],
   "source": [
    "from sklearn.preprocessing import OneHotEncoder\n",
    "\n",
    "# Create dataframe of only categorical features\n",
    "cat_data = df[['checking_account_status', 'credit_history', 'employment']]\n",
    "\n",
    "\n",
    "# Create instance of OneHotEncoder class\n",
    "encoder = OneHotEncoder(categories='auto')\n",
    "\n",
    "# Fit the encoder to the categorical data\n",
    "encoder.fit(cat_data)\n",
    "\n",
    "# Transform the categorical features into one-hot encoded features\n",
    "onehot_cat_data = encoder.transform(cat_data).toarray()\n",
    "\n",
    "# Combine the one-hot encoded categorical features with the numerical features\n",
    "num_data = df[['duration', 'credit_amount', 'risk']]\n",
    "encoded_data = pd.DataFrame(np.concatenate([onehot_cat_data, num_data], axis=1))\n",
    "\n",
    "# Print the first few rows of the encoded data\n",
    "print(encoded_data.head())"
   ]
  },
  {
   "cell_type": "code",
   "execution_count": null,
   "metadata": {},
   "outputs": [],
   "source": []
  },
  {
   "cell_type": "code",
   "execution_count": null,
   "metadata": {},
   "outputs": [],
   "source": [
    "import pandas as pd\n",
    "import numpy as np\n",
    "from alibi_detect.od import OutlierVAE\n",
    "from sklearn.preprocessing import StandardScaler\n",
    "from tensorflow.keras.optimizers import Adam\n",
    "\n",
    "# Load the data\n",
    "data = pd.read_csv('credit_data.csv')\n",
    "\n",
    "# Separate the features from the target variable\n",
    "X = data.drop('risk', axis=1).values\n",
    "\n",
    "# Standardize the feature matrix\n",
    "scaler = StandardScaler().fit(X)\n",
    "X = scaler.transform(X)\n",
    "\n",
    "# Define the VAE parameters\n",
    "latent_dim = 8\n",
    "encoder_layers = [128, 64]\n",
    "decoder_layers = [64, 128]\n",
    "batch_size = 64\n",
    "epochs = 30\n",
    "\n",
    "# Initialize the VAE model\n",
    "vae = OutlierVAE(\n",
    "    threshold=0.05,\n",
    "    latent_dim=latent_dim,\n",
    "    encoder_net=encoder_layers,\n",
    "    decoder_net=decoder_layers,\n",
    "    score_type='mse'\n",
    ")\n"
   ]
  },
  {
   "cell_type": "code",
   "execution_count": null,
   "metadata": {},
   "outputs": [],
   "source": []
  },
  {
   "cell_type": "code",
   "execution_count": null,
   "metadata": {},
   "outputs": [],
   "source": []
  },
  {
   "cell_type": "code",
   "execution_count": null,
   "metadata": {},
   "outputs": [],
   "source": []
  },
  {
   "cell_type": "code",
   "execution_count": null,
   "metadata": {},
   "outputs": [],
   "source": [
    "seldon.seldon-gitops.model.wed.outputs"
   ]
  },
  {
   "cell_type": "markdown",
   "metadata": {},
   "source": [
    "## Consume Drift "
   ]
  },
  {
   "cell_type": "code",
   "execution_count": null,
   "metadata": {},
   "outputs": [],
   "source": [
    "from confluent_kafka import Producer\n",
    "from confluent_kafka.admin import AdminClient\n",
    "from confluent_kafka import Consumer, KafkaError, TopicPartition\n",
    "\n",
    "import json\n",
    "import socket\n",
    "\n",
    "conf = {'bootstrap.servers': '35.243.202.138:9094',\n",
    "        'client.id': socket.gethostname(),\n",
    "        'group.id': \"fook9\",\n",
    "        'auto.offset.reset': 'smallest'\n",
    "        }\n",
    "\n",
    "\n",
    "output_topic = \"seldon.seldon.model.loan-drift.outputs\"\n",
    "headers = {\"pipeline\": \"loancalculatorpipeline\"}\n",
    "\n",
    "consumer = Consumer(conf)\n",
    "\n",
    "# Assign the topic, partition, and offset to consume from\n",
    "consumer.assign([TopicPartition(output_topic, 0, 10)])\n",
    "\n",
    "num_messages = 10\n",
    "messages_consumed = 0\n",
    "\n",
    "while messages_consumed < num_messages:\n",
    "    msg = consumer.poll(1.0)\n",
    "    if msg is None:\n",
    "        continue\n",
    "    if msg.error():\n",
    "        if msg.error().code() == KafkaError._PARTITION_EOF:\n",
    "            print('End of partition event')\n",
    "        else:\n",
    "            print('Error while consuming message: {}'.format(msg.error()))\n",
    "    else: \n",
    "        value = msg.value()\n",
    "        # create a new instance of your protobuf message\n",
    "        # my_message = message()\n",
    "        # deserialize the message from a binary string\n",
    "        # json_format.ParseFromString(value)\n",
    "        prediction_output = deserialize_inference_request(value)\n",
    "        print(json.dumps(prediction_output,indent=2))\n",
    "        # print(f'Received message with format type: {type(value)}')\n",
    "        messages_consumed += 1\n",
    "consumer.close()\n"
   ]
  },
  {
   "cell_type": "code",
   "execution_count": null,
   "metadata": {},
   "outputs": [],
   "source": []
  },
  {
   "cell_type": "code",
   "execution_count": null,
   "metadata": {},
   "outputs": [],
   "source": []
  },
  {
   "cell_type": "markdown",
   "metadata": {},
   "source": [
    "## Add a lot of Features"
   ]
  },
  {
   "cell_type": "code",
   "execution_count": null,
   "metadata": {},
   "outputs": [],
   "source": [
    "from confluent_kafka import Producer\n",
    "from confluent_kafka.admin import AdminClient\n",
    "import mlserver.grpc.converters as converters\n",
    "from mlserver.types import InferenceRequest\n",
    "from mlserver.codecs import NumpyCodec\n",
    "import json\n",
    "import socket\n",
    "import uuid\n",
    "import mlserver.grpc.converters as converters\n",
    "import mlserver.grpc.dataplane_pb2 as dataplane\n",
    "import random\n",
    "\n",
    "\n",
    "\n",
    "\n",
    "\n",
    "producer = Producer(conf)\n",
    "for x in range(10):\n",
    "    try:\n",
    "        single_prediction = X_test.sample(n=1, replace=False, random_state=42)\n",
    "        single_prediction_np = single_prediction.values\n",
    "        prediction = NumpyCodec.encode_input(\"unecessary\", payload=single_prediction_np)\n",
    "        prediction_dict = prediction.dict()\n",
    "\n",
    "\n",
    "        prediction = {\n",
    "            \"inputs\": [\n",
    "                prediction_dict\n",
    "            ]\n",
    "        }\n",
    "\n",
    "        print(prediction)\n",
    "        msg = converters.ModelInferRequestConverter.from_types(\n",
    "            InferenceRequest.parse_obj(prediction), model_name=None, model_version=None\n",
    "        ).SerializeToString()\n",
    "        producer.produce(input_topic, msg, key=str(\n",
    "            uuid.uuid4()), headers=headers)\n",
    "        producer.flush()\n",
    "        print('Successfully connected to Kafka server')\n",
    "    except Exception as e:\n",
    "        print('ERROR: Failed to connect to Kafka server: {}'.format(e))\n",
    "\n",
    "# View that the input topic has reached kafka\n"
   ]
  },
  {
   "cell_type": "markdown",
   "metadata": {},
   "source": []
  },
  {
   "cell_type": "markdown",
   "metadata": {},
   "source": [
    "# Expose the Kafka for funsies"
   ]
  },
  {
   "cell_type": "code",
   "execution_count": null,
   "metadata": {},
   "outputs": [],
   "source": [
    "%%writefile kafka.yaml\n",
    "apiVersion: kafka.strimzi.io/v1beta2\n",
    "kind: Kafka\n",
    "metadata:\n",
    "  name: seldon\n",
    "  namespace: kafka\n",
    "spec:\n",
    "  entityOperator:\n",
    "    userOperator: {}\n",
    "  kafka:\n",
    "    replicas: 3\n",
    "    version: 3.3.1\n",
    "    config:\n",
    "      auto.create.topics.enable: true\n",
    "      default.replication.factor: 1\n",
    "      inter.broker.protocol.version: 3.3\n",
    "      min.insync.replicas: 1\n",
    "      offsets.topic.replication.factor: 1\n",
    "      transaction.state.log.min.isr: 1\n",
    "      transaction.state.log.replication.factor: 1\n",
    "    listeners:\n",
    "    - name: plain\n",
    "      port: 9092\n",
    "      tls: false\n",
    "      type: internal\n",
    "    - name: external\n",
    "      port: 9094\n",
    "      type: loadbalancer\n",
    "      tls: false\n",
    "    storage:\n",
    "      type: ephemeral\n",
    "  zookeeper:\n",
    "    replicas: 1\n",
    "    storage:\n",
    "      type: ephemeral"
   ]
  },
  {
   "cell_type": "code",
   "execution_count": null,
   "metadata": {},
   "outputs": [],
   "source": [
    "!kubectl apply -f kafka.yaml"
   ]
  }
 ],
 "metadata": {
  "kernelspec": {
   "display_name": "deploy-advance",
   "language": "python",
   "name": "python3"
  },
  "language_info": {
   "codemirror_mode": {
    "name": "ipython",
    "version": 3
   },
   "file_extension": ".py",
   "mimetype": "text/x-python",
   "name": "python",
   "nbconvert_exporter": "python",
   "pygments_lexer": "ipython3",
   "version": "3.9.13"
  }
 },
 "nbformat": 4,
 "nbformat_minor": 4
}
