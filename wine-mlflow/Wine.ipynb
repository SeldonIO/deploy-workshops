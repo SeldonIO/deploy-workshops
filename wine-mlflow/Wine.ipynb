{
 "cells": [
  {
   "cell_type": "markdown",
   "id": "10f34745",
   "metadata": {},
   "source": [
    "## Hands-On Tabular Workshop: Wine classifier with MLFlow, MinIO, and Seldon\n",
    "\n",
    "In this workshop, we will run an ML Flow model, save the artefacts to MinIO, and create a v2 protocol SeldonDeployment via the SDK\n",
    "\n",
    "We will follow these steps:\n",
    "1. Setup environment\n",
    "2. Run training experiments using MLFlow\n",
    "3. Conda pack the environment\n",
    "4. Push artefacts to Google Storage\n",
    "5. Deploy via the SDK\n",
    "6. Using MLServer codecs\n",
    "7. [Optional] Create a new MLFlow run with different hyperparametes, and deploy a canary model\n",
    "8. [Optional] Train and deploy a drift detector\n",
    "9. [Optional] Train and deploy an explainer"
   ]
  },
  {
   "cell_type": "markdown",
   "id": "a0c6b764",
   "metadata": {},
   "source": [
    "### 1. Setup environment"
   ]
  },
  {
   "cell_type": "markdown",
   "id": "52147ab0",
   "metadata": {},
   "source": [
    "In your terminal, create a new virtual environment:\n",
    "`conda create -n mlflow-wine python=3.8`\n",
    "\n",
    "Activate the new environment:\n",
    "`conda activate mlflow-wine`\n",
    "\n",
    "Check that you are in the correct environment"
   ]
  },
  {
   "cell_type": "markdown",
   "id": "39e0e720",
   "metadata": {},
   "source": [
    "Install required dependencies into your environment"
   ]
  },
  {
   "cell_type": "code",
   "execution_count": 2,
   "id": "8660ef7e",
   "metadata": {},
   "outputs": [
    {
     "name": "stdout",
     "output_type": "stream",
     "text": [
      "Requirement already satisfied: seldon_deploy_sdk in /home/andrew/.asdf/installs/python/miniconda3-4.7.12/envs/mlflow-test/lib/python3.8/site-packages (1.6.0)\n",
      "Requirement already satisfied: urllib3>=1.23 in /home/andrew/.asdf/installs/python/miniconda3-4.7.12/envs/mlflow-test/lib/python3.8/site-packages (from seldon_deploy_sdk) (1.26.11)\n",
      "Requirement already satisfied: python-dateutil>=2.1 in /home/andrew/.asdf/installs/python/miniconda3-4.7.12/envs/mlflow-test/lib/python3.8/site-packages (from seldon_deploy_sdk) (2.8.2)\n",
      "Requirement already satisfied: Authlib<=0.16.0 in /home/andrew/.asdf/installs/python/miniconda3-4.7.12/envs/mlflow-test/lib/python3.8/site-packages (from seldon_deploy_sdk) (0.15.5)\n",
      "Requirement already satisfied: six>=1.10 in /home/andrew/.asdf/installs/python/miniconda3-4.7.12/envs/mlflow-test/lib/python3.8/site-packages (from seldon_deploy_sdk) (1.16.0)\n",
      "Requirement already satisfied: certifi>=2017.4.17 in /home/andrew/.asdf/installs/python/miniconda3-4.7.12/envs/mlflow-test/lib/python3.8/site-packages (from seldon_deploy_sdk) (2022.9.24)\n",
      "Requirement already satisfied: cryptography in /home/andrew/.asdf/installs/python/miniconda3-4.7.12/envs/mlflow-test/lib/python3.8/site-packages (from Authlib<=0.16.0->seldon_deploy_sdk) (38.0.2)\n",
      "Requirement already satisfied: cffi>=1.12 in /home/andrew/.asdf/installs/python/miniconda3-4.7.12/envs/mlflow-test/lib/python3.8/site-packages (from cryptography->Authlib<=0.16.0->seldon_deploy_sdk) (1.15.1)\n",
      "Requirement already satisfied: pycparser in /home/andrew/.asdf/installs/python/miniconda3-4.7.12/envs/mlflow-test/lib/python3.8/site-packages (from cffi>=1.12->cryptography->Authlib<=0.16.0->seldon_deploy_sdk) (2.21)\n",
      "Requirement already satisfied: conda-pack in /home/andrew/.asdf/installs/python/miniconda3-4.7.12/envs/mlflow-test/lib/python3.8/site-packages (0.6.0)\n",
      "Requirement already satisfied: setuptools in /home/andrew/.asdf/installs/python/miniconda3-4.7.12/envs/mlflow-test/lib/python3.8/site-packages (from conda-pack) (65.4.1)\n",
      "Requirement already satisfied: mlserver in /home/andrew/.asdf/installs/python/miniconda3-4.7.12/envs/mlflow-test/lib/python3.8/site-packages (1.1.0)\n",
      "Requirement already satisfied: pandas in /home/andrew/.asdf/installs/python/miniconda3-4.7.12/envs/mlflow-test/lib/python3.8/site-packages (from mlserver) (1.5.0)\n",
      "Requirement already satisfied: py-grpc-prometheus in /home/andrew/.asdf/installs/python/miniconda3-4.7.12/envs/mlflow-test/lib/python3.8/site-packages (from mlserver) (0.7.0)\n",
      "Requirement already satisfied: grpcio in /home/andrew/.asdf/installs/python/miniconda3-4.7.12/envs/mlflow-test/lib/python3.8/site-packages (from mlserver) (1.49.1)\n",
      "Requirement already satisfied: python-dotenv in /home/andrew/.asdf/installs/python/miniconda3-4.7.12/envs/mlflow-test/lib/python3.8/site-packages (from mlserver) (0.21.0)\n",
      "Requirement already satisfied: protobuf in /home/andrew/.asdf/installs/python/miniconda3-4.7.12/envs/mlflow-test/lib/python3.8/site-packages (from mlserver) (4.21.7)\n",
      "Requirement already satisfied: uvloop in /home/andrew/.asdf/installs/python/miniconda3-4.7.12/envs/mlflow-test/lib/python3.8/site-packages (from mlserver) (0.17.0)\n",
      "Requirement already satisfied: fastapi in /home/andrew/.asdf/installs/python/miniconda3-4.7.12/envs/mlflow-test/lib/python3.8/site-packages (from mlserver) (0.85.0)\n",
      "Requirement already satisfied: starlette-exporter in /home/andrew/.asdf/installs/python/miniconda3-4.7.12/envs/mlflow-test/lib/python3.8/site-packages (from mlserver) (0.14.0)\n",
      "Requirement already satisfied: uvicorn in /home/andrew/.asdf/installs/python/miniconda3-4.7.12/envs/mlflow-test/lib/python3.8/site-packages (from mlserver) (0.18.3)\n",
      "Requirement already satisfied: aiokafka in /home/andrew/.asdf/installs/python/miniconda3-4.7.12/envs/mlflow-test/lib/python3.8/site-packages (from mlserver) (0.7.2)\n",
      "Requirement already satisfied: numpy in /home/andrew/.asdf/installs/python/miniconda3-4.7.12/envs/mlflow-test/lib/python3.8/site-packages (from mlserver) (1.23.3)\n",
      "Requirement already satisfied: click in /home/andrew/.asdf/installs/python/miniconda3-4.7.12/envs/mlflow-test/lib/python3.8/site-packages (from mlserver) (8.1.3)\n",
      "Requirement already satisfied: kafka-python>=2.0.0 in /home/andrew/.asdf/installs/python/miniconda3-4.7.12/envs/mlflow-test/lib/python3.8/site-packages (from aiokafka->mlserver) (2.0.2)\n",
      "Requirement already satisfied: pydantic!=1.7,!=1.7.1,!=1.7.2,!=1.7.3,!=1.8,!=1.8.1,<2.0.0,>=1.6.2 in /home/andrew/.asdf/installs/python/miniconda3-4.7.12/envs/mlflow-test/lib/python3.8/site-packages (from fastapi->mlserver) (1.10.2)\n",
      "Requirement already satisfied: starlette==0.20.4 in /home/andrew/.asdf/installs/python/miniconda3-4.7.12/envs/mlflow-test/lib/python3.8/site-packages (from fastapi->mlserver) (0.20.4)\n",
      "Requirement already satisfied: anyio<5,>=3.4.0 in /home/andrew/.asdf/installs/python/miniconda3-4.7.12/envs/mlflow-test/lib/python3.8/site-packages (from starlette==0.20.4->fastapi->mlserver) (3.6.1)\n",
      "Requirement already satisfied: typing-extensions>=3.10.0 in /home/andrew/.asdf/installs/python/miniconda3-4.7.12/envs/mlflow-test/lib/python3.8/site-packages (from starlette==0.20.4->fastapi->mlserver) (4.4.0)\n",
      "Requirement already satisfied: six>=1.5.2 in /home/andrew/.asdf/installs/python/miniconda3-4.7.12/envs/mlflow-test/lib/python3.8/site-packages (from grpcio->mlserver) (1.16.0)\n",
      "Requirement already satisfied: python-dateutil>=2.8.1 in /home/andrew/.asdf/installs/python/miniconda3-4.7.12/envs/mlflow-test/lib/python3.8/site-packages (from pandas->mlserver) (2.8.2)\n",
      "Requirement already satisfied: pytz>=2020.1 in /home/andrew/.asdf/installs/python/miniconda3-4.7.12/envs/mlflow-test/lib/python3.8/site-packages (from pandas->mlserver) (2022.4)\n",
      "Requirement already satisfied: setuptools>=39.0.1 in /home/andrew/.asdf/installs/python/miniconda3-4.7.12/envs/mlflow-test/lib/python3.8/site-packages (from py-grpc-prometheus->mlserver) (65.4.1)\n",
      "Requirement already satisfied: prometheus-client>=0.3.0 in /home/andrew/.asdf/installs/python/miniconda3-4.7.12/envs/mlflow-test/lib/python3.8/site-packages (from py-grpc-prometheus->mlserver) (0.15.0)\n",
      "Requirement already satisfied: h11>=0.8 in /home/andrew/.asdf/installs/python/miniconda3-4.7.12/envs/mlflow-test/lib/python3.8/site-packages (from uvicorn->mlserver) (0.14.0)\n",
      "Requirement already satisfied: sniffio>=1.1 in /home/andrew/.asdf/installs/python/miniconda3-4.7.12/envs/mlflow-test/lib/python3.8/site-packages (from anyio<5,>=3.4.0->starlette==0.20.4->fastapi->mlserver) (1.3.0)\n",
      "Requirement already satisfied: idna>=2.8 in /home/andrew/.asdf/installs/python/miniconda3-4.7.12/envs/mlflow-test/lib/python3.8/site-packages (from anyio<5,>=3.4.0->starlette==0.20.4->fastapi->mlserver) (3.4)\n",
      "Requirement already satisfied: mlserver-mlflow in /home/andrew/.asdf/installs/python/miniconda3-4.7.12/envs/mlflow-test/lib/python3.8/site-packages (1.1.0)\n",
      "Requirement already satisfied: mlflow in /home/andrew/.asdf/installs/python/miniconda3-4.7.12/envs/mlflow-test/lib/python3.8/site-packages (from mlserver-mlflow) (1.29.0)\n",
      "Requirement already satisfied: mlserver in /home/andrew/.asdf/installs/python/miniconda3-4.7.12/envs/mlflow-test/lib/python3.8/site-packages (from mlserver-mlflow) (1.1.0)\n",
      "Requirement already satisfied: sqlparse<1,>=0.4.0 in /home/andrew/.asdf/installs/python/miniconda3-4.7.12/envs/mlflow-test/lib/python3.8/site-packages (from mlflow->mlserver-mlflow) (0.4.3)\n",
      "Requirement already satisfied: alembic<2 in /home/andrew/.asdf/installs/python/miniconda3-4.7.12/envs/mlflow-test/lib/python3.8/site-packages (from mlflow->mlserver-mlflow) (1.8.1)\n",
      "Requirement already satisfied: pandas<2 in /home/andrew/.asdf/installs/python/miniconda3-4.7.12/envs/mlflow-test/lib/python3.8/site-packages (from mlflow->mlserver-mlflow) (1.5.0)\n",
      "Requirement already satisfied: entrypoints<1 in /home/andrew/.asdf/installs/python/miniconda3-4.7.12/envs/mlflow-test/lib/python3.8/site-packages (from mlflow->mlserver-mlflow) (0.4)\n",
      "Requirement already satisfied: requests<3,>=2.17.3 in /home/andrew/.asdf/installs/python/miniconda3-4.7.12/envs/mlflow-test/lib/python3.8/site-packages (from mlflow->mlserver-mlflow) (2.28.1)\n",
      "Requirement already satisfied: prometheus-flask-exporter<1 in /home/andrew/.asdf/installs/python/miniconda3-4.7.12/envs/mlflow-test/lib/python3.8/site-packages (from mlflow->mlserver-mlflow) (0.20.3)\n",
      "Requirement already satisfied: gunicorn<21 in /home/andrew/.asdf/installs/python/miniconda3-4.7.12/envs/mlflow-test/lib/python3.8/site-packages (from mlflow->mlserver-mlflow) (20.1.0)\n",
      "Requirement already satisfied: docker<7,>=4.0.0 in /home/andrew/.asdf/installs/python/miniconda3-4.7.12/envs/mlflow-test/lib/python3.8/site-packages (from mlflow->mlserver-mlflow) (5.0.3)\n",
      "Requirement already satisfied: packaging<22 in /home/andrew/.asdf/installs/python/miniconda3-4.7.12/envs/mlflow-test/lib/python3.8/site-packages (from mlflow->mlserver-mlflow) (21.3)\n",
      "Requirement already satisfied: gitpython<4,>=2.1.0 in /home/andrew/.asdf/installs/python/miniconda3-4.7.12/envs/mlflow-test/lib/python3.8/site-packages (from mlflow->mlserver-mlflow) (3.1.29)\n",
      "Requirement already satisfied: protobuf<5,>=3.12.0 in /home/andrew/.asdf/installs/python/miniconda3-4.7.12/envs/mlflow-test/lib/python3.8/site-packages (from mlflow->mlserver-mlflow) (4.21.7)\n",
      "Requirement already satisfied: numpy<2 in /home/andrew/.asdf/installs/python/miniconda3-4.7.12/envs/mlflow-test/lib/python3.8/site-packages (from mlflow->mlserver-mlflow) (1.23.3)\n",
      "Requirement already satisfied: cloudpickle<3 in /home/andrew/.asdf/installs/python/miniconda3-4.7.12/envs/mlflow-test/lib/python3.8/site-packages (from mlflow->mlserver-mlflow) (2.2.0)\n",
      "Requirement already satisfied: click<9,>=7.0 in /home/andrew/.asdf/installs/python/miniconda3-4.7.12/envs/mlflow-test/lib/python3.8/site-packages (from mlflow->mlserver-mlflow) (8.1.3)\n",
      "Requirement already satisfied: querystring-parser<2 in /home/andrew/.asdf/installs/python/miniconda3-4.7.12/envs/mlflow-test/lib/python3.8/site-packages (from mlflow->mlserver-mlflow) (1.2.4)\n",
      "Requirement already satisfied: Flask<3 in /home/andrew/.asdf/installs/python/miniconda3-4.7.12/envs/mlflow-test/lib/python3.8/site-packages (from mlflow->mlserver-mlflow) (2.2.2)\n",
      "Requirement already satisfied: pytz<2023 in /home/andrew/.asdf/installs/python/miniconda3-4.7.12/envs/mlflow-test/lib/python3.8/site-packages (from mlflow->mlserver-mlflow) (2022.4)\n",
      "Requirement already satisfied: sqlalchemy<2,>=1.4.0 in /home/andrew/.asdf/installs/python/miniconda3-4.7.12/envs/mlflow-test/lib/python3.8/site-packages (from mlflow->mlserver-mlflow) (1.4.41)\n",
      "Requirement already satisfied: scipy<2 in /home/andrew/.asdf/installs/python/miniconda3-4.7.12/envs/mlflow-test/lib/python3.8/site-packages (from mlflow->mlserver-mlflow) (1.9.1)\n",
      "Requirement already satisfied: pyyaml<7,>=5.1 in /home/andrew/.asdf/installs/python/miniconda3-4.7.12/envs/mlflow-test/lib/python3.8/site-packages (from mlflow->mlserver-mlflow) (6.0)\n",
      "Requirement already satisfied: databricks-cli<1,>=0.8.7 in /home/andrew/.asdf/installs/python/miniconda3-4.7.12/envs/mlflow-test/lib/python3.8/site-packages (from mlflow->mlserver-mlflow) (0.17.3)\n",
      "Requirement already satisfied: importlib-metadata!=4.7.0,<5,>=3.7.0 in /home/andrew/.asdf/installs/python/miniconda3-4.7.12/envs/mlflow-test/lib/python3.8/site-packages (from mlflow->mlserver-mlflow) (4.11.4)\n",
      "Requirement already satisfied: fastapi in /home/andrew/.asdf/installs/python/miniconda3-4.7.12/envs/mlflow-test/lib/python3.8/site-packages (from mlserver->mlserver-mlflow) (0.85.0)\n",
      "Requirement already satisfied: uvloop in /home/andrew/.asdf/installs/python/miniconda3-4.7.12/envs/mlflow-test/lib/python3.8/site-packages (from mlserver->mlserver-mlflow) (0.17.0)\n",
      "Requirement already satisfied: uvicorn in /home/andrew/.asdf/installs/python/miniconda3-4.7.12/envs/mlflow-test/lib/python3.8/site-packages (from mlserver->mlserver-mlflow) (0.18.3)\n",
      "Requirement already satisfied: py-grpc-prometheus in /home/andrew/.asdf/installs/python/miniconda3-4.7.12/envs/mlflow-test/lib/python3.8/site-packages (from mlserver->mlserver-mlflow) (0.7.0)\n",
      "Requirement already satisfied: python-dotenv in /home/andrew/.asdf/installs/python/miniconda3-4.7.12/envs/mlflow-test/lib/python3.8/site-packages (from mlserver->mlserver-mlflow) (0.21.0)\n",
      "Requirement already satisfied: aiokafka in /home/andrew/.asdf/installs/python/miniconda3-4.7.12/envs/mlflow-test/lib/python3.8/site-packages (from mlserver->mlserver-mlflow) (0.7.2)\n",
      "Requirement already satisfied: grpcio in /home/andrew/.asdf/installs/python/miniconda3-4.7.12/envs/mlflow-test/lib/python3.8/site-packages (from mlserver->mlserver-mlflow) (1.49.1)\n",
      "Requirement already satisfied: starlette-exporter in /home/andrew/.asdf/installs/python/miniconda3-4.7.12/envs/mlflow-test/lib/python3.8/site-packages (from mlserver->mlserver-mlflow) (0.14.0)\n",
      "Requirement already satisfied: importlib-resources in /home/andrew/.asdf/installs/python/miniconda3-4.7.12/envs/mlflow-test/lib/python3.8/site-packages (from alembic<2->mlflow->mlserver-mlflow) (5.10.0)\n",
      "Requirement already satisfied: Mako in /home/andrew/.asdf/installs/python/miniconda3-4.7.12/envs/mlflow-test/lib/python3.8/site-packages (from alembic<2->mlflow->mlserver-mlflow) (1.2.3)\n",
      "Requirement already satisfied: oauthlib>=3.1.0 in /home/andrew/.asdf/installs/python/miniconda3-4.7.12/envs/mlflow-test/lib/python3.8/site-packages (from databricks-cli<1,>=0.8.7->mlflow->mlserver-mlflow) (3.2.1)\n",
      "Requirement already satisfied: six>=1.10.0 in /home/andrew/.asdf/installs/python/miniconda3-4.7.12/envs/mlflow-test/lib/python3.8/site-packages (from databricks-cli<1,>=0.8.7->mlflow->mlserver-mlflow) (1.16.0)\n",
      "Requirement already satisfied: pyjwt>=1.7.0 in /home/andrew/.asdf/installs/python/miniconda3-4.7.12/envs/mlflow-test/lib/python3.8/site-packages (from databricks-cli<1,>=0.8.7->mlflow->mlserver-mlflow) (2.5.0)\n",
      "Requirement already satisfied: tabulate>=0.7.7 in /home/andrew/.asdf/installs/python/miniconda3-4.7.12/envs/mlflow-test/lib/python3.8/site-packages (from databricks-cli<1,>=0.8.7->mlflow->mlserver-mlflow) (0.9.0)\n",
      "Requirement already satisfied: websocket-client>=0.32.0 in /home/andrew/.asdf/installs/python/miniconda3-4.7.12/envs/mlflow-test/lib/python3.8/site-packages (from docker<7,>=4.0.0->mlflow->mlserver-mlflow) (1.4.1)\n",
      "Requirement already satisfied: itsdangerous>=2.0 in /home/andrew/.asdf/installs/python/miniconda3-4.7.12/envs/mlflow-test/lib/python3.8/site-packages (from Flask<3->mlflow->mlserver-mlflow) (2.1.2)\n",
      "Requirement already satisfied: Jinja2>=3.0 in /home/andrew/.asdf/installs/python/miniconda3-4.7.12/envs/mlflow-test/lib/python3.8/site-packages (from Flask<3->mlflow->mlserver-mlflow) (3.1.2)\n",
      "Requirement already satisfied: Werkzeug>=2.2.2 in /home/andrew/.asdf/installs/python/miniconda3-4.7.12/envs/mlflow-test/lib/python3.8/site-packages (from Flask<3->mlflow->mlserver-mlflow) (2.2.2)\n",
      "Requirement already satisfied: gitdb<5,>=4.0.1 in /home/andrew/.asdf/installs/python/miniconda3-4.7.12/envs/mlflow-test/lib/python3.8/site-packages (from gitpython<4,>=2.1.0->mlflow->mlserver-mlflow) (4.0.9)\n",
      "Requirement already satisfied: setuptools>=3.0 in /home/andrew/.asdf/installs/python/miniconda3-4.7.12/envs/mlflow-test/lib/python3.8/site-packages (from gunicorn<21->mlflow->mlserver-mlflow) (65.4.1)\n",
      "Requirement already satisfied: zipp>=0.5 in /home/andrew/.asdf/installs/python/miniconda3-4.7.12/envs/mlflow-test/lib/python3.8/site-packages (from importlib-metadata!=4.7.0,<5,>=3.7.0->mlflow->mlserver-mlflow) (3.9.0)\n",
      "Requirement already satisfied: pyparsing!=3.0.5,>=2.0.2 in /home/andrew/.asdf/installs/python/miniconda3-4.7.12/envs/mlflow-test/lib/python3.8/site-packages (from packaging<22->mlflow->mlserver-mlflow) (3.0.9)\n",
      "Requirement already satisfied: python-dateutil>=2.8.1 in /home/andrew/.asdf/installs/python/miniconda3-4.7.12/envs/mlflow-test/lib/python3.8/site-packages (from pandas<2->mlflow->mlserver-mlflow) (2.8.2)\n",
      "Requirement already satisfied: prometheus-client in /home/andrew/.asdf/installs/python/miniconda3-4.7.12/envs/mlflow-test/lib/python3.8/site-packages (from prometheus-flask-exporter<1->mlflow->mlserver-mlflow) (0.15.0)\n",
      "Requirement already satisfied: urllib3<1.27,>=1.21.1 in /home/andrew/.asdf/installs/python/miniconda3-4.7.12/envs/mlflow-test/lib/python3.8/site-packages (from requests<3,>=2.17.3->mlflow->mlserver-mlflow) (1.26.11)\n",
      "Requirement already satisfied: charset-normalizer<3,>=2 in /home/andrew/.asdf/installs/python/miniconda3-4.7.12/envs/mlflow-test/lib/python3.8/site-packages (from requests<3,>=2.17.3->mlflow->mlserver-mlflow) (2.1.1)\n",
      "Requirement already satisfied: certifi>=2017.4.17 in /home/andrew/.asdf/installs/python/miniconda3-4.7.12/envs/mlflow-test/lib/python3.8/site-packages (from requests<3,>=2.17.3->mlflow->mlserver-mlflow) (2022.9.24)\n",
      "Requirement already satisfied: idna<4,>=2.5 in /home/andrew/.asdf/installs/python/miniconda3-4.7.12/envs/mlflow-test/lib/python3.8/site-packages (from requests<3,>=2.17.3->mlflow->mlserver-mlflow) (3.4)\n",
      "Requirement already satisfied: greenlet!=0.4.17 in /home/andrew/.asdf/installs/python/miniconda3-4.7.12/envs/mlflow-test/lib/python3.8/site-packages (from sqlalchemy<2,>=1.4.0->mlflow->mlserver-mlflow) (1.1.3)\n",
      "Requirement already satisfied: kafka-python>=2.0.0 in /home/andrew/.asdf/installs/python/miniconda3-4.7.12/envs/mlflow-test/lib/python3.8/site-packages (from aiokafka->mlserver->mlserver-mlflow) (2.0.2)\n",
      "Requirement already satisfied: pydantic!=1.7,!=1.7.1,!=1.7.2,!=1.7.3,!=1.8,!=1.8.1,<2.0.0,>=1.6.2 in /home/andrew/.asdf/installs/python/miniconda3-4.7.12/envs/mlflow-test/lib/python3.8/site-packages (from fastapi->mlserver->mlserver-mlflow) (1.10.2)\n",
      "Requirement already satisfied: starlette==0.20.4 in /home/andrew/.asdf/installs/python/miniconda3-4.7.12/envs/mlflow-test/lib/python3.8/site-packages (from fastapi->mlserver->mlserver-mlflow) (0.20.4)\n",
      "Requirement already satisfied: typing-extensions>=3.10.0 in /home/andrew/.asdf/installs/python/miniconda3-4.7.12/envs/mlflow-test/lib/python3.8/site-packages (from starlette==0.20.4->fastapi->mlserver->mlserver-mlflow) (4.4.0)\n",
      "Requirement already satisfied: anyio<5,>=3.4.0 in /home/andrew/.asdf/installs/python/miniconda3-4.7.12/envs/mlflow-test/lib/python3.8/site-packages (from starlette==0.20.4->fastapi->mlserver->mlserver-mlflow) (3.6.1)\n",
      "Requirement already satisfied: h11>=0.8 in /home/andrew/.asdf/installs/python/miniconda3-4.7.12/envs/mlflow-test/lib/python3.8/site-packages (from uvicorn->mlserver->mlserver-mlflow) (0.14.0)\n",
      "Requirement already satisfied: smmap<6,>=3.0.1 in /home/andrew/.asdf/installs/python/miniconda3-4.7.12/envs/mlflow-test/lib/python3.8/site-packages (from gitdb<5,>=4.0.1->gitpython<4,>=2.1.0->mlflow->mlserver-mlflow) (3.0.5)\n",
      "Requirement already satisfied: MarkupSafe>=2.0 in /home/andrew/.asdf/installs/python/miniconda3-4.7.12/envs/mlflow-test/lib/python3.8/site-packages (from Jinja2>=3.0->Flask<3->mlflow->mlserver-mlflow) (2.1.1)\n",
      "Requirement already satisfied: sniffio>=1.1 in /home/andrew/.asdf/installs/python/miniconda3-4.7.12/envs/mlflow-test/lib/python3.8/site-packages (from anyio<5,>=3.4.0->starlette==0.20.4->fastapi->mlserver->mlserver-mlflow) (1.3.0)\n",
      "Requirement already satisfied: sklearn in /home/andrew/.asdf/installs/python/miniconda3-4.7.12/envs/mlflow-test/lib/python3.8/site-packages (0.0)\n",
      "Requirement already satisfied: scikit-learn in /home/andrew/.asdf/installs/python/miniconda3-4.7.12/envs/mlflow-test/lib/python3.8/site-packages (from sklearn) (1.1.2)\n",
      "Requirement already satisfied: numpy>=1.17.3 in /home/andrew/.asdf/installs/python/miniconda3-4.7.12/envs/mlflow-test/lib/python3.8/site-packages (from scikit-learn->sklearn) (1.23.3)\n",
      "Requirement already satisfied: joblib>=1.0.0 in /home/andrew/.asdf/installs/python/miniconda3-4.7.12/envs/mlflow-test/lib/python3.8/site-packages (from scikit-learn->sklearn) (1.2.0)\n",
      "Requirement already satisfied: scipy>=1.3.2 in /home/andrew/.asdf/installs/python/miniconda3-4.7.12/envs/mlflow-test/lib/python3.8/site-packages (from scikit-learn->sklearn) (1.9.1)\n",
      "Requirement already satisfied: threadpoolctl>=2.0.0 in /home/andrew/.asdf/installs/python/miniconda3-4.7.12/envs/mlflow-test/lib/python3.8/site-packages (from scikit-learn->sklearn) (3.1.0)\n",
      "Requirement already satisfied: mlflow in /home/andrew/.asdf/installs/python/miniconda3-4.7.12/envs/mlflow-test/lib/python3.8/site-packages (1.29.0)\n",
      "Requirement already satisfied: Flask<3 in /home/andrew/.asdf/installs/python/miniconda3-4.7.12/envs/mlflow-test/lib/python3.8/site-packages (from mlflow) (2.2.2)\n",
      "Requirement already satisfied: scipy<2 in /home/andrew/.asdf/installs/python/miniconda3-4.7.12/envs/mlflow-test/lib/python3.8/site-packages (from mlflow) (1.9.1)\n",
      "Requirement already satisfied: pyyaml<7,>=5.1 in /home/andrew/.asdf/installs/python/miniconda3-4.7.12/envs/mlflow-test/lib/python3.8/site-packages (from mlflow) (6.0)\n",
      "Requirement already satisfied: sqlparse<1,>=0.4.0 in /home/andrew/.asdf/installs/python/miniconda3-4.7.12/envs/mlflow-test/lib/python3.8/site-packages (from mlflow) (0.4.3)\n",
      "Requirement already satisfied: docker<7,>=4.0.0 in /home/andrew/.asdf/installs/python/miniconda3-4.7.12/envs/mlflow-test/lib/python3.8/site-packages (from mlflow) (5.0.3)\n",
      "Requirement already satisfied: click<9,>=7.0 in /home/andrew/.asdf/installs/python/miniconda3-4.7.12/envs/mlflow-test/lib/python3.8/site-packages (from mlflow) (8.1.3)\n",
      "Requirement already satisfied: protobuf<5,>=3.12.0 in /home/andrew/.asdf/installs/python/miniconda3-4.7.12/envs/mlflow-test/lib/python3.8/site-packages (from mlflow) (4.21.7)\n",
      "Requirement already satisfied: gunicorn<21 in /home/andrew/.asdf/installs/python/miniconda3-4.7.12/envs/mlflow-test/lib/python3.8/site-packages (from mlflow) (20.1.0)\n",
      "Requirement already satisfied: pytz<2023 in /home/andrew/.asdf/installs/python/miniconda3-4.7.12/envs/mlflow-test/lib/python3.8/site-packages (from mlflow) (2022.4)\n",
      "Requirement already satisfied: requests<3,>=2.17.3 in /home/andrew/.asdf/installs/python/miniconda3-4.7.12/envs/mlflow-test/lib/python3.8/site-packages (from mlflow) (2.28.1)\n",
      "Requirement already satisfied: numpy<2 in /home/andrew/.asdf/installs/python/miniconda3-4.7.12/envs/mlflow-test/lib/python3.8/site-packages (from mlflow) (1.23.3)\n",
      "Requirement already satisfied: gitpython<4,>=2.1.0 in /home/andrew/.asdf/installs/python/miniconda3-4.7.12/envs/mlflow-test/lib/python3.8/site-packages (from mlflow) (3.1.29)\n",
      "Requirement already satisfied: sqlalchemy<2,>=1.4.0 in /home/andrew/.asdf/installs/python/miniconda3-4.7.12/envs/mlflow-test/lib/python3.8/site-packages (from mlflow) (1.4.41)\n",
      "Requirement already satisfied: querystring-parser<2 in /home/andrew/.asdf/installs/python/miniconda3-4.7.12/envs/mlflow-test/lib/python3.8/site-packages (from mlflow) (1.2.4)\n",
      "Requirement already satisfied: prometheus-flask-exporter<1 in /home/andrew/.asdf/installs/python/miniconda3-4.7.12/envs/mlflow-test/lib/python3.8/site-packages (from mlflow) (0.20.3)\n",
      "Requirement already satisfied: cloudpickle<3 in /home/andrew/.asdf/installs/python/miniconda3-4.7.12/envs/mlflow-test/lib/python3.8/site-packages (from mlflow) (2.2.0)\n",
      "Requirement already satisfied: entrypoints<1 in /home/andrew/.asdf/installs/python/miniconda3-4.7.12/envs/mlflow-test/lib/python3.8/site-packages (from mlflow) (0.4)\n",
      "Requirement already satisfied: packaging<22 in /home/andrew/.asdf/installs/python/miniconda3-4.7.12/envs/mlflow-test/lib/python3.8/site-packages (from mlflow) (21.3)\n",
      "Requirement already satisfied: alembic<2 in /home/andrew/.asdf/installs/python/miniconda3-4.7.12/envs/mlflow-test/lib/python3.8/site-packages (from mlflow) (1.8.1)\n",
      "Requirement already satisfied: pandas<2 in /home/andrew/.asdf/installs/python/miniconda3-4.7.12/envs/mlflow-test/lib/python3.8/site-packages (from mlflow) (1.5.0)\n",
      "Requirement already satisfied: databricks-cli<1,>=0.8.7 in /home/andrew/.asdf/installs/python/miniconda3-4.7.12/envs/mlflow-test/lib/python3.8/site-packages (from mlflow) (0.17.3)\n",
      "Requirement already satisfied: importlib-metadata!=4.7.0,<5,>=3.7.0 in /home/andrew/.asdf/installs/python/miniconda3-4.7.12/envs/mlflow-test/lib/python3.8/site-packages (from mlflow) (4.11.4)\n",
      "Requirement already satisfied: importlib-resources in /home/andrew/.asdf/installs/python/miniconda3-4.7.12/envs/mlflow-test/lib/python3.8/site-packages (from alembic<2->mlflow) (5.10.0)\n",
      "Requirement already satisfied: Mako in /home/andrew/.asdf/installs/python/miniconda3-4.7.12/envs/mlflow-test/lib/python3.8/site-packages (from alembic<2->mlflow) (1.2.3)\n",
      "Requirement already satisfied: tabulate>=0.7.7 in /home/andrew/.asdf/installs/python/miniconda3-4.7.12/envs/mlflow-test/lib/python3.8/site-packages (from databricks-cli<1,>=0.8.7->mlflow) (0.9.0)\n",
      "Requirement already satisfied: six>=1.10.0 in /home/andrew/.asdf/installs/python/miniconda3-4.7.12/envs/mlflow-test/lib/python3.8/site-packages (from databricks-cli<1,>=0.8.7->mlflow) (1.16.0)\n",
      "Requirement already satisfied: pyjwt>=1.7.0 in /home/andrew/.asdf/installs/python/miniconda3-4.7.12/envs/mlflow-test/lib/python3.8/site-packages (from databricks-cli<1,>=0.8.7->mlflow) (2.5.0)\n",
      "Requirement already satisfied: oauthlib>=3.1.0 in /home/andrew/.asdf/installs/python/miniconda3-4.7.12/envs/mlflow-test/lib/python3.8/site-packages (from databricks-cli<1,>=0.8.7->mlflow) (3.2.1)\n",
      "Requirement already satisfied: websocket-client>=0.32.0 in /home/andrew/.asdf/installs/python/miniconda3-4.7.12/envs/mlflow-test/lib/python3.8/site-packages (from docker<7,>=4.0.0->mlflow) (1.4.1)\n",
      "Requirement already satisfied: itsdangerous>=2.0 in /home/andrew/.asdf/installs/python/miniconda3-4.7.12/envs/mlflow-test/lib/python3.8/site-packages (from Flask<3->mlflow) (2.1.2)\n",
      "Requirement already satisfied: Jinja2>=3.0 in /home/andrew/.asdf/installs/python/miniconda3-4.7.12/envs/mlflow-test/lib/python3.8/site-packages (from Flask<3->mlflow) (3.1.2)\n",
      "Requirement already satisfied: Werkzeug>=2.2.2 in /home/andrew/.asdf/installs/python/miniconda3-4.7.12/envs/mlflow-test/lib/python3.8/site-packages (from Flask<3->mlflow) (2.2.2)\n",
      "Requirement already satisfied: gitdb<5,>=4.0.1 in /home/andrew/.asdf/installs/python/miniconda3-4.7.12/envs/mlflow-test/lib/python3.8/site-packages (from gitpython<4,>=2.1.0->mlflow) (4.0.9)\n",
      "Requirement already satisfied: setuptools>=3.0 in /home/andrew/.asdf/installs/python/miniconda3-4.7.12/envs/mlflow-test/lib/python3.8/site-packages (from gunicorn<21->mlflow) (65.4.1)\n",
      "Requirement already satisfied: zipp>=0.5 in /home/andrew/.asdf/installs/python/miniconda3-4.7.12/envs/mlflow-test/lib/python3.8/site-packages (from importlib-metadata!=4.7.0,<5,>=3.7.0->mlflow) (3.9.0)\n",
      "Requirement already satisfied: pyparsing!=3.0.5,>=2.0.2 in /home/andrew/.asdf/installs/python/miniconda3-4.7.12/envs/mlflow-test/lib/python3.8/site-packages (from packaging<22->mlflow) (3.0.9)\n",
      "Requirement already satisfied: python-dateutil>=2.8.1 in /home/andrew/.asdf/installs/python/miniconda3-4.7.12/envs/mlflow-test/lib/python3.8/site-packages (from pandas<2->mlflow) (2.8.2)\n",
      "Requirement already satisfied: prometheus-client in /home/andrew/.asdf/installs/python/miniconda3-4.7.12/envs/mlflow-test/lib/python3.8/site-packages (from prometheus-flask-exporter<1->mlflow) (0.15.0)\n",
      "Requirement already satisfied: certifi>=2017.4.17 in /home/andrew/.asdf/installs/python/miniconda3-4.7.12/envs/mlflow-test/lib/python3.8/site-packages (from requests<3,>=2.17.3->mlflow) (2022.9.24)\n",
      "Requirement already satisfied: charset-normalizer<3,>=2 in /home/andrew/.asdf/installs/python/miniconda3-4.7.12/envs/mlflow-test/lib/python3.8/site-packages (from requests<3,>=2.17.3->mlflow) (2.1.1)\n",
      "Requirement already satisfied: idna<4,>=2.5 in /home/andrew/.asdf/installs/python/miniconda3-4.7.12/envs/mlflow-test/lib/python3.8/site-packages (from requests<3,>=2.17.3->mlflow) (3.4)\n",
      "Requirement already satisfied: urllib3<1.27,>=1.21.1 in /home/andrew/.asdf/installs/python/miniconda3-4.7.12/envs/mlflow-test/lib/python3.8/site-packages (from requests<3,>=2.17.3->mlflow) (1.26.11)\n",
      "Requirement already satisfied: greenlet!=0.4.17 in /home/andrew/.asdf/installs/python/miniconda3-4.7.12/envs/mlflow-test/lib/python3.8/site-packages (from sqlalchemy<2,>=1.4.0->mlflow) (1.1.3)\n",
      "Requirement already satisfied: smmap<6,>=3.0.1 in /home/andrew/.asdf/installs/python/miniconda3-4.7.12/envs/mlflow-test/lib/python3.8/site-packages (from gitdb<5,>=4.0.1->gitpython<4,>=2.1.0->mlflow) (3.0.5)\n",
      "Requirement already satisfied: MarkupSafe>=2.0 in /home/andrew/.asdf/installs/python/miniconda3-4.7.12/envs/mlflow-test/lib/python3.8/site-packages (from Jinja2>=3.0->Flask<3->mlflow) (2.1.1)\n",
      "Reading package lists... Done\n",
      "Building dependency tree       \n",
      "Reading state information... Done\n",
      "tree is already the newest version (1.8.0-1).\n",
      "The following package was automatically installed and is no longer required:\n",
      "  libfwupdplugin1\n",
      "Use 'sudo apt autoremove' to remove it.\n",
      "0 upgraded, 0 newly installed, 0 to remove and 0 not upgraded.\n"
     ]
    }
   ],
   "source": [
    "!pip install seldon_deploy_sdk\n",
    "!pip install conda-pack\n",
    "!pip install mlserver\n",
    "!pip install mlserver-mlflow\n",
    "!pip install sklearn\n",
    "!pip install mlflow\n",
    "!sudo apt install tree"
   ]
  },
  {
   "cell_type": "code",
   "execution_count": 10,
   "id": "6d2c3173",
   "metadata": {},
   "outputs": [],
   "source": [
    "from seldon_deploy_sdk import Configuration, PredictApi, ApiClient, SeldonDeploymentsApi, ModelMetadataServiceApi, DriftDetectorApi, BatchJobsApi, BatchJobDefinition\n",
    "from seldon_deploy_sdk.auth import OIDCAuthenticator\n",
    "from seldon_deploy_sdk.rest import ApiException\n",
    "import mlflow\n",
    "import pandas as pd\n",
    "import json\n",
    "import requests\n",
    "import os\n",
    "import glob"
   ]
  },
  {
   "cell_type": "markdown",
   "id": "410e6c32",
   "metadata": {},
   "source": [
    "### 2. Run training experiments using MLFlow\n",
    "For our example, we will use the elastic net wine example from [MLflow's tutorial](https://github.com/mlflow/mlflow/tree/master/examples/sklearn_elasticnet_wine).  We'll use Scikit-learn to predict the `quality` of the wine given certain attributes as features.\n",
    "\n",
    "Let's load the data to see what's inside:"
   ]
  },
  {
   "cell_type": "code",
   "execution_count": 54,
   "id": "56218ae9",
   "metadata": {},
   "outputs": [
    {
     "data": {
      "text/html": [
       "<div>\n",
       "<style scoped>\n",
       "    .dataframe tbody tr th:only-of-type {\n",
       "        vertical-align: middle;\n",
       "    }\n",
       "\n",
       "    .dataframe tbody tr th {\n",
       "        vertical-align: top;\n",
       "    }\n",
       "\n",
       "    .dataframe thead th {\n",
       "        text-align: right;\n",
       "    }\n",
       "</style>\n",
       "<table border=\"1\" class=\"dataframe\">\n",
       "  <thead>\n",
       "    <tr style=\"text-align: right;\">\n",
       "      <th></th>\n",
       "      <th>fixed acidity</th>\n",
       "      <th>volatile acidity</th>\n",
       "      <th>citric acid</th>\n",
       "      <th>residual sugar</th>\n",
       "      <th>chlorides</th>\n",
       "      <th>free sulfur dioxide</th>\n",
       "      <th>total sulfur dioxide</th>\n",
       "      <th>density</th>\n",
       "      <th>pH</th>\n",
       "      <th>sulphates</th>\n",
       "      <th>alcohol</th>\n",
       "      <th>quality</th>\n",
       "    </tr>\n",
       "  </thead>\n",
       "  <tbody>\n",
       "    <tr>\n",
       "      <th>0</th>\n",
       "      <td>7.4</td>\n",
       "      <td>0.70</td>\n",
       "      <td>0.00</td>\n",
       "      <td>1.9</td>\n",
       "      <td>0.076</td>\n",
       "      <td>11.0</td>\n",
       "      <td>34.0</td>\n",
       "      <td>0.9978</td>\n",
       "      <td>3.51</td>\n",
       "      <td>0.56</td>\n",
       "      <td>9.4</td>\n",
       "      <td>5</td>\n",
       "    </tr>\n",
       "    <tr>\n",
       "      <th>1</th>\n",
       "      <td>7.8</td>\n",
       "      <td>0.88</td>\n",
       "      <td>0.00</td>\n",
       "      <td>2.6</td>\n",
       "      <td>0.098</td>\n",
       "      <td>25.0</td>\n",
       "      <td>67.0</td>\n",
       "      <td>0.9968</td>\n",
       "      <td>3.20</td>\n",
       "      <td>0.68</td>\n",
       "      <td>9.8</td>\n",
       "      <td>5</td>\n",
       "    </tr>\n",
       "    <tr>\n",
       "      <th>2</th>\n",
       "      <td>7.8</td>\n",
       "      <td>0.76</td>\n",
       "      <td>0.04</td>\n",
       "      <td>2.3</td>\n",
       "      <td>0.092</td>\n",
       "      <td>15.0</td>\n",
       "      <td>54.0</td>\n",
       "      <td>0.9970</td>\n",
       "      <td>3.26</td>\n",
       "      <td>0.65</td>\n",
       "      <td>9.8</td>\n",
       "      <td>5</td>\n",
       "    </tr>\n",
       "    <tr>\n",
       "      <th>3</th>\n",
       "      <td>11.2</td>\n",
       "      <td>0.28</td>\n",
       "      <td>0.56</td>\n",
       "      <td>1.9</td>\n",
       "      <td>0.075</td>\n",
       "      <td>17.0</td>\n",
       "      <td>60.0</td>\n",
       "      <td>0.9980</td>\n",
       "      <td>3.16</td>\n",
       "      <td>0.58</td>\n",
       "      <td>9.8</td>\n",
       "      <td>6</td>\n",
       "    </tr>\n",
       "    <tr>\n",
       "      <th>4</th>\n",
       "      <td>7.4</td>\n",
       "      <td>0.70</td>\n",
       "      <td>0.00</td>\n",
       "      <td>1.9</td>\n",
       "      <td>0.076</td>\n",
       "      <td>11.0</td>\n",
       "      <td>34.0</td>\n",
       "      <td>0.9978</td>\n",
       "      <td>3.51</td>\n",
       "      <td>0.56</td>\n",
       "      <td>9.4</td>\n",
       "      <td>5</td>\n",
       "    </tr>\n",
       "  </tbody>\n",
       "</table>\n",
       "</div>"
      ],
      "text/plain": [
       "   fixed acidity  volatile acidity  citric acid  residual sugar  chlorides  \\\n",
       "0            7.4              0.70         0.00             1.9      0.076   \n",
       "1            7.8              0.88         0.00             2.6      0.098   \n",
       "2            7.8              0.76         0.04             2.3      0.092   \n",
       "3           11.2              0.28         0.56             1.9      0.075   \n",
       "4            7.4              0.70         0.00             1.9      0.076   \n",
       "\n",
       "   free sulfur dioxide  total sulfur dioxide  density    pH  sulphates  \\\n",
       "0                 11.0                  34.0   0.9978  3.51       0.56   \n",
       "1                 25.0                  67.0   0.9968  3.20       0.68   \n",
       "2                 15.0                  54.0   0.9970  3.26       0.65   \n",
       "3                 17.0                  60.0   0.9980  3.16       0.58   \n",
       "4                 11.0                  34.0   0.9978  3.51       0.56   \n",
       "\n",
       "   alcohol  quality  \n",
       "0      9.4        5  \n",
       "1      9.8        5  \n",
       "2      9.8        5  \n",
       "3      9.8        6  \n",
       "4      9.4        5  "
      ]
     },
     "execution_count": 54,
     "metadata": {},
     "output_type": "execute_result"
    }
   ],
   "source": [
    "data = pd.read_csv(\"http://archive.ics.uci.edu/ml/machine-learning-databases/wine-quality/winequality-red.csv\", sep=';')\n",
    "data.head()"
   ]
  },
  {
   "cell_type": "markdown",
   "id": "702014d9",
   "metadata": {},
   "source": [
    "Below we'll define a `train` function that can be run with two hyperparameters as inputs (`alpha` and `l1_ratio`) to train an ElasticNet linear model from Scikit-Learn.  It will download the dataset, define the train/test split, start an MLFLow run, log params and metrics, and save the model. "
   ]
  },
  {
   "cell_type": "code",
   "execution_count": 5,
   "id": "409afec6",
   "metadata": {},
   "outputs": [],
   "source": [
    "# Wine Quality Sample\n",
    "def train(in_alpha, in_l1_ratio):\n",
    "    import os\n",
    "    import warnings\n",
    "    import sys\n",
    "\n",
    "    import pandas as pd\n",
    "    import numpy as np\n",
    "    from sklearn.metrics import mean_squared_error, mean_absolute_error, r2_score\n",
    "    from sklearn.model_selection import train_test_split\n",
    "    from sklearn.linear_model import ElasticNet\n",
    "\n",
    "    import mlflow\n",
    "    import mlflow.sklearn\n",
    "    \n",
    "    import logging\n",
    "    logging.basicConfig(level=logging.WARN)\n",
    "    logger = logging.getLogger(__name__)\n",
    "\n",
    "    def eval_metrics(actual, pred):\n",
    "        rmse = np.sqrt(mean_squared_error(actual, pred))\n",
    "        mae = mean_absolute_error(actual, pred)\n",
    "        r2 = r2_score(actual, pred)\n",
    "        return rmse, mae, r2\n",
    "\n",
    "\n",
    "    warnings.filterwarnings(\"ignore\")\n",
    "    np.random.seed(40)\n",
    "\n",
    "    # Read the wine-quality csv file from the URL\n",
    "    csv_url =\\\n",
    "        'http://archive.ics.uci.edu/ml/machine-learning-databases/wine-quality/winequality-red.csv'\n",
    "    try:\n",
    "        data = pd.read_csv(csv_url, sep=';')\n",
    "    except Exception as e:\n",
    "        logger.exception(\n",
    "            \"Unable to download training & test CSV, check your internet connection. Error: %s\", e)\n",
    "\n",
    "    # Split the data into training and test sets. (0.75, 0.25) split.\n",
    "    train, test = train_test_split(data)\n",
    "\n",
    "    # The predicted column is \"quality\" which is a scalar from [3, 9]\n",
    "    train_x = train.drop([\"quality\"], axis=1)\n",
    "    test_x = test.drop([\"quality\"], axis=1)\n",
    "    train_y = train[[\"quality\"]]\n",
    "    test_y = test[[\"quality\"]]\n",
    "\n",
    "    # Set default values if no alpha is provided\n",
    "    if float(in_alpha) is None:\n",
    "        alpha = 0.5\n",
    "    else:\n",
    "        alpha = float(in_alpha)\n",
    "\n",
    "    # Set default values if no l1_ratio is provided\n",
    "    if float(in_l1_ratio) is None:\n",
    "        l1_ratio = 0.5\n",
    "    else:\n",
    "        l1_ratio = float(in_l1_ratio)\n",
    "\n",
    "    # Useful for multiple runs (only doing one run in this sample notebook)    \n",
    "    with mlflow.start_run():\n",
    "        # Execute ElasticNet\n",
    "        lr = ElasticNet(alpha=alpha, l1_ratio=l1_ratio, random_state=42)\n",
    "        lr.fit(train_x, train_y)\n",
    "\n",
    "        # Evaluate Metrics\n",
    "        predicted_qualities = lr.predict(test_x)\n",
    "        (rmse, mae, r2) = eval_metrics(test_y, predicted_qualities)\n",
    "\n",
    "        # Print out metrics\n",
    "        print(\"Elasticnet model (alpha=%f, l1_ratio=%f):\" % (alpha, l1_ratio))\n",
    "        print(\"  RMSE: %s\" % rmse)\n",
    "        print(\"  MAE: %s\" % mae)\n",
    "        print(\"  R2: %s\" % r2)\n",
    "\n",
    "        # Log parameter, metrics, and model to MLflow\n",
    "        mlflow.log_param(\"alpha\", alpha)\n",
    "        mlflow.log_param(\"l1_ratio\", l1_ratio)\n",
    "        mlflow.log_metric(\"rmse\", rmse)\n",
    "        mlflow.log_metric(\"r2\", r2)\n",
    "        mlflow.log_metric(\"mae\", mae)\n",
    "\n",
    "        mlflow.sklearn.log_model(lr, \"model\")"
   ]
  },
  {
   "cell_type": "markdown",
   "id": "c1efc9b2",
   "metadata": {},
   "source": [
    "Now we'll train a few models with various combinations of hyperparameters"
   ]
  },
  {
   "cell_type": "code",
   "execution_count": 6,
   "id": "f2926f07",
   "metadata": {},
   "outputs": [
    {
     "name": "stdout",
     "output_type": "stream",
     "text": [
      "Elasticnet model (alpha=0.500000, l1_ratio=0.500000):\n",
      "  RMSE: 0.793164022927685\n",
      "  MAE: 0.6271946374319586\n",
      "  R2: 0.10862644997792636\n"
     ]
    }
   ],
   "source": [
    "train(0.5, 0.5)"
   ]
  },
  {
   "cell_type": "code",
   "execution_count": 13,
   "id": "6011bcb3",
   "metadata": {},
   "outputs": [
    {
     "name": "stdout",
     "output_type": "stream",
     "text": [
      "Elasticnet model (alpha=0.200000, l1_ratio=0.200000):\n",
      "  RMSE: 0.7336400911821402\n",
      "  MAE: 0.5643841279275427\n",
      "  R2: 0.2373946606358417\n"
     ]
    }
   ],
   "source": [
    "train(0.2, 0.2)"
   ]
  },
  {
   "cell_type": "code",
   "execution_count": 14,
   "id": "0bc3e40a",
   "metadata": {},
   "outputs": [
    {
     "name": "stdout",
     "output_type": "stream",
     "text": [
      "Elasticnet model (alpha=0.100000, l1_ratio=0.100000):\n",
      "  RMSE: 0.7128829045893679\n",
      "  MAE: 0.5462202174984665\n",
      "  R2: 0.2799376066653344\n"
     ]
    }
   ],
   "source": [
    "train(0.1, 0.1)"
   ]
  },
  {
   "cell_type": "markdown",
   "id": "37ff4a2e",
   "metadata": {},
   "source": [
    "The model training runs have been saved in the `mlruns` folder, under the experiment `0`:"
   ]
  },
  {
   "cell_type": "code",
   "execution_count": 3,
   "id": "d772cbd9",
   "metadata": {},
   "outputs": [
    {
     "name": "stdout",
     "output_type": "stream",
     "text": [
      "\u001b[01;34mmlruns/0\u001b[00m\n",
      "├── \u001b[01;34m234a355b97144ff78e05d6871ff8812c\u001b[00m\n",
      "├── \u001b[01;34m3239a7e5a42141138b1afcf65a0390f5\u001b[00m\n",
      "├── \u001b[01;34m5492ed0a8953405b82003a5eccf6550a\u001b[00m\n",
      "├── \u001b[01;34mdffb498913d8423a93998d93b6f85817\u001b[00m\n",
      "└── meta.yaml\n",
      "\n",
      "4 directories, 1 file\n"
     ]
    }
   ],
   "source": [
    "!tree -L 1 mlruns/0"
   ]
  },
  {
   "cell_type": "markdown",
   "id": "adbc8847",
   "metadata": {},
   "source": [
    "Inside each of these folders, MLflow stores the parameters we used to train our model, any metric we logged during training, and a snapshot of our model. If we look into one of them, we can see the following structure:"
   ]
  },
  {
   "cell_type": "code",
   "execution_count": 4,
   "id": "eca6ba17",
   "metadata": {},
   "outputs": [
    {
     "name": "stdout",
     "output_type": "stream",
     "text": [
      "\u001b[01;34mmlruns/0/234a355b97144ff78e05d6871ff8812c\u001b[00m\n",
      "├── \u001b[01;34martifacts\u001b[00m\n",
      "│   └── \u001b[01;34mmodel\u001b[00m\n",
      "│       ├── MLmodel\n",
      "│       ├── conda.yaml\n",
      "│       ├── model.pkl\n",
      "│       ├── python_env.yaml\n",
      "│       └── requirements.txt\n",
      "├── meta.yaml\n",
      "├── \u001b[01;34mmetrics\u001b[00m\n",
      "│   ├── mae\n",
      "│   ├── r2\n",
      "│   └── rmse\n",
      "├── \u001b[01;34mparams\u001b[00m\n",
      "│   ├── alpha\n",
      "│   └── l1_ratio\n",
      "└── \u001b[01;34mtags\u001b[00m\n",
      "    ├── mlflow.log-model.history\n",
      "    ├── mlflow.runName\n",
      "    ├── mlflow.source.git.commit\n",
      "    ├── mlflow.source.name\n",
      "    ├── mlflow.source.type\n",
      "    └── mlflow.user\n",
      "\n",
      "5 directories, 17 files\n"
     ]
    }
   ],
   "source": [
    "!tree mlruns/0/$(ls mlruns/0 | head -1)"
   ]
  },
  {
   "cell_type": "markdown",
   "id": "e50cf3e1",
   "metadata": {},
   "source": [
    "In particular, we are interested in `artifacts/model` directory in order to deploy your model.  The `MLmodel` file describes the \"flavor\" for that model, including details on how to serve the model.  This helps deployment tools like Seldon deploy MLFlow models in a consistent way, while retaining the ability to train using various frameworks in MLFlow."
   ]
  },
  {
   "cell_type": "code",
   "execution_count": 6,
   "id": "bc35c3f3",
   "metadata": {},
   "outputs": [
    {
     "name": "stdout",
     "output_type": "stream",
     "text": [
      "artifact_path: model\n",
      "flavors:\n",
      "  python_function:\n",
      "    env: conda.yaml\n",
      "    loader_module: mlflow.sklearn\n",
      "    model_path: model.pkl\n",
      "    predict_fn: predict\n",
      "    python_version: 3.8.13\n",
      "  sklearn:\n",
      "    code: null\n",
      "    pickled_model: model.pkl\n",
      "    serialization_format: cloudpickle\n",
      "    sklearn_version: 1.1.2\n",
      "mlflow_version: 1.29.0\n",
      "model_uuid: ff02293d1cad453b982d8576bf4e2ca1\n",
      "run_id: 234a355b97144ff78e05d6871ff8812c\n",
      "utc_time_created: '2022-10-17 10:20:02.111134'\n"
     ]
    }
   ],
   "source": [
    "!cat mlruns/0/$(ls mlruns/0 | head -1)/artifacts/model/MLmodel"
   ]
  },
  {
   "cell_type": "markdown",
   "id": "32794277",
   "metadata": {},
   "source": [
    "We can also view the dependencies that will be required to serve the model"
   ]
  },
  {
   "cell_type": "code",
   "execution_count": 7,
   "id": "4e2800bb",
   "metadata": {
    "scrolled": true
   },
   "outputs": [
    {
     "name": "stdout",
     "output_type": "stream",
     "text": [
      "channels:\n",
      "- conda-forge\n",
      "dependencies:\n",
      "- python=3.8.13\n",
      "- pip<=22.2.2\n",
      "- pip:\n",
      "  - mlflow\n",
      "  - cloudpickle==2.2.0\n",
      "  - psutil==5.9.2\n",
      "  - scikit-learn==1.1.2\n",
      "  - typing-extensions==4.4.0\n",
      "name: mlflow-env\n"
     ]
    }
   ],
   "source": [
    "!cat mlruns/0/$(ls mlruns/0 | head -1)/artifacts/model/conda.yaml"
   ]
  },
  {
   "cell_type": "markdown",
   "id": "570fa9f1",
   "metadata": {},
   "source": [
    "This file stores the details of how the model was stored. With this information (plus the other files in the folder), we are able to load the model back. Seldon’s MLflow server will use this information to serve this model."
   ]
  },
  {
   "cell_type": "markdown",
   "id": "3801ff27",
   "metadata": {},
   "source": [
    "### 4. Push artefacts to Google Storage"
   ]
  },
  {
   "cell_type": "markdown",
   "id": "697f4327",
   "metadata": {},
   "source": [
    "We'll first select the model that scored the best in terms of `rmse`, and get the run ID"
   ]
  },
  {
   "cell_type": "code",
   "execution_count": 17,
   "id": "658fa507",
   "metadata": {},
   "outputs": [
    {
     "data": {
      "text/html": [
       "<div>\n",
       "<style scoped>\n",
       "    .dataframe tbody tr th:only-of-type {\n",
       "        vertical-align: middle;\n",
       "    }\n",
       "\n",
       "    .dataframe tbody tr th {\n",
       "        vertical-align: top;\n",
       "    }\n",
       "\n",
       "    .dataframe thead th {\n",
       "        text-align: right;\n",
       "    }\n",
       "</style>\n",
       "<table border=\"1\" class=\"dataframe\">\n",
       "  <thead>\n",
       "    <tr style=\"text-align: right;\">\n",
       "      <th></th>\n",
       "      <th>run_id</th>\n",
       "      <th>experiment_id</th>\n",
       "      <th>status</th>\n",
       "      <th>artifact_uri</th>\n",
       "      <th>start_time</th>\n",
       "      <th>end_time</th>\n",
       "      <th>metrics.r2</th>\n",
       "      <th>metrics.rmse</th>\n",
       "      <th>metrics.mae</th>\n",
       "      <th>params.alpha</th>\n",
       "      <th>params.l1_ratio</th>\n",
       "      <th>tags.mlflow.source.type</th>\n",
       "      <th>tags.mlflow.source.name</th>\n",
       "      <th>tags.mlflow.user</th>\n",
       "      <th>tags.mlflow.log-model.history</th>\n",
       "      <th>tags.mlflow.source.git.commit</th>\n",
       "      <th>tags.mlflow.runName</th>\n",
       "    </tr>\n",
       "  </thead>\n",
       "  <tbody>\n",
       "    <tr>\n",
       "      <th>0</th>\n",
       "      <td>dffb498913d8423a93998d93b6f85817</td>\n",
       "      <td>0</td>\n",
       "      <td>FINISHED</td>\n",
       "      <td>file:///home/andrew/seldon/repos/deploy-worksh...</td>\n",
       "      <td>2022-10-17 10:23:14.444000+00:00</td>\n",
       "      <td>2022-10-17 10:23:15.448000+00:00</td>\n",
       "      <td>0.279938</td>\n",
       "      <td>0.712883</td>\n",
       "      <td>0.546220</td>\n",
       "      <td>0.1</td>\n",
       "      <td>0.1</td>\n",
       "      <td>LOCAL</td>\n",
       "      <td>/home/andrew/.asdf/installs/python/miniconda3-...</td>\n",
       "      <td>andrew</td>\n",
       "      <td>[{\"run_id\": \"dffb498913d8423a93998d93b6f85817\"...</td>\n",
       "      <td>7e7a1faa70e1aa58c5321be0f6044d19eaf4dfc6</td>\n",
       "      <td>adventurous-ray-888</td>\n",
       "    </tr>\n",
       "    <tr>\n",
       "      <th>1</th>\n",
       "      <td>3239a7e5a42141138b1afcf65a0390f5</td>\n",
       "      <td>0</td>\n",
       "      <td>FINISHED</td>\n",
       "      <td>file:///home/andrew/seldon/repos/deploy-worksh...</td>\n",
       "      <td>2022-10-17 10:23:02.334000+00:00</td>\n",
       "      <td>2022-10-17 10:23:03.423000+00:00</td>\n",
       "      <td>0.237395</td>\n",
       "      <td>0.733640</td>\n",
       "      <td>0.564384</td>\n",
       "      <td>0.2</td>\n",
       "      <td>0.2</td>\n",
       "      <td>LOCAL</td>\n",
       "      <td>/home/andrew/.asdf/installs/python/miniconda3-...</td>\n",
       "      <td>andrew</td>\n",
       "      <td>[{\"run_id\": \"3239a7e5a42141138b1afcf65a0390f5\"...</td>\n",
       "      <td>7e7a1faa70e1aa58c5321be0f6044d19eaf4dfc6</td>\n",
       "      <td>efficient-eel-612</td>\n",
       "    </tr>\n",
       "    <tr>\n",
       "      <th>2</th>\n",
       "      <td>234a355b97144ff78e05d6871ff8812c</td>\n",
       "      <td>0</td>\n",
       "      <td>FINISHED</td>\n",
       "      <td>file:///home/andrew/seldon/repos/deploy-worksh...</td>\n",
       "      <td>2022-10-17 10:20:02.083000+00:00</td>\n",
       "      <td>2022-10-17 10:20:03.512000+00:00</td>\n",
       "      <td>0.108626</td>\n",
       "      <td>0.793164</td>\n",
       "      <td>0.627195</td>\n",
       "      <td>0.5</td>\n",
       "      <td>0.5</td>\n",
       "      <td>LOCAL</td>\n",
       "      <td>/home/andrew/.asdf/installs/python/miniconda3-...</td>\n",
       "      <td>andrew</td>\n",
       "      <td>[{\"run_id\": \"234a355b97144ff78e05d6871ff8812c\"...</td>\n",
       "      <td>7e7a1faa70e1aa58c5321be0f6044d19eaf4dfc6</td>\n",
       "      <td>fortunate-owl-638</td>\n",
       "    </tr>\n",
       "  </tbody>\n",
       "</table>\n",
       "</div>"
      ],
      "text/plain": [
       "                             run_id experiment_id    status  \\\n",
       "0  dffb498913d8423a93998d93b6f85817             0  FINISHED   \n",
       "1  3239a7e5a42141138b1afcf65a0390f5             0  FINISHED   \n",
       "2  234a355b97144ff78e05d6871ff8812c             0  FINISHED   \n",
       "\n",
       "                                        artifact_uri  \\\n",
       "0  file:///home/andrew/seldon/repos/deploy-worksh...   \n",
       "1  file:///home/andrew/seldon/repos/deploy-worksh...   \n",
       "2  file:///home/andrew/seldon/repos/deploy-worksh...   \n",
       "\n",
       "                        start_time                         end_time  \\\n",
       "0 2022-10-17 10:23:14.444000+00:00 2022-10-17 10:23:15.448000+00:00   \n",
       "1 2022-10-17 10:23:02.334000+00:00 2022-10-17 10:23:03.423000+00:00   \n",
       "2 2022-10-17 10:20:02.083000+00:00 2022-10-17 10:20:03.512000+00:00   \n",
       "\n",
       "   metrics.r2  metrics.rmse  metrics.mae params.alpha params.l1_ratio  \\\n",
       "0    0.279938      0.712883     0.546220          0.1             0.1   \n",
       "1    0.237395      0.733640     0.564384          0.2             0.2   \n",
       "2    0.108626      0.793164     0.627195          0.5             0.5   \n",
       "\n",
       "  tags.mlflow.source.type                            tags.mlflow.source.name  \\\n",
       "0                   LOCAL  /home/andrew/.asdf/installs/python/miniconda3-...   \n",
       "1                   LOCAL  /home/andrew/.asdf/installs/python/miniconda3-...   \n",
       "2                   LOCAL  /home/andrew/.asdf/installs/python/miniconda3-...   \n",
       "\n",
       "  tags.mlflow.user                      tags.mlflow.log-model.history  \\\n",
       "0           andrew  [{\"run_id\": \"dffb498913d8423a93998d93b6f85817\"...   \n",
       "1           andrew  [{\"run_id\": \"3239a7e5a42141138b1afcf65a0390f5\"...   \n",
       "2           andrew  [{\"run_id\": \"234a355b97144ff78e05d6871ff8812c\"...   \n",
       "\n",
       "              tags.mlflow.source.git.commit  tags.mlflow.runName  \n",
       "0  7e7a1faa70e1aa58c5321be0f6044d19eaf4dfc6  adventurous-ray-888  \n",
       "1  7e7a1faa70e1aa58c5321be0f6044d19eaf4dfc6    efficient-eel-612  \n",
       "2  7e7a1faa70e1aa58c5321be0f6044d19eaf4dfc6    fortunate-owl-638  "
      ]
     },
     "execution_count": 17,
     "metadata": {},
     "output_type": "execute_result"
    }
   ],
   "source": [
    "runs_df = mlflow.search_runs(filter_string=\"metrics.rmse < 1\")\n",
    "runs_df"
   ]
  },
  {
   "cell_type": "code",
   "execution_count": 19,
   "id": "a217d2cf",
   "metadata": {},
   "outputs": [
    {
     "data": {
      "text/plain": [
       "'dffb498913d8423a93998d93b6f85817'"
      ]
     },
     "execution_count": 19,
     "metadata": {},
     "output_type": "execute_result"
    }
   ],
   "source": [
    "run_id = runs_df.loc[runs_df['metrics.rmse'].idxmin()]['run_id']\n",
    "run_id"
   ]
  },
  {
   "cell_type": "code",
   "execution_count": 23,
   "id": "9424ada5",
   "metadata": {},
   "outputs": [
    {
     "name": "stdout",
     "output_type": "stream",
     "text": [
      "Copying file://./mlruns/0/dffb498913d8423a93998d93b6f85817/artifacts/model/model.pkl [Content-Type=application/octet-stream]...\n",
      "Copying file://./mlruns/0/dffb498913d8423a93998d93b6f85817/artifacts/model/conda.yaml [Content-Type=application/octet-stream]...\n",
      "Copying file://./mlruns/0/dffb498913d8423a93998d93b6f85817/artifacts/model/MLmodel [Content-Type=application/octet-stream]...\n",
      "Copying file://./mlruns/0/dffb498913d8423a93998d93b6f85817/artifacts/model/requirements.txt [Content-Type=text/plain]...\n",
      "- [4 files][  1.6 KiB/  1.6 KiB]                                                \n",
      "==> NOTE: You are performing a sequence of gsutil operations that may\n",
      "run significantly faster if you instead use gsutil -m cp ... Please\n",
      "see the -m section under \"gsutil help options\" for further information\n",
      "about when gsutil -m can be advantageous.\n",
      "\n",
      "Copying file://./mlruns/0/dffb498913d8423a93998d93b6f85817/artifacts/model/python_env.yaml [Content-Type=application/octet-stream]...\n",
      "- [5 files][  1.7 KiB/  1.7 KiB]                                                \n",
      "Operation completed over 5 objects/1.7 KiB.                                      \n"
     ]
    }
   ],
   "source": [
    "!gsutil cp -r mlruns/0/$run_id/artifacts/model/ gs://andrew-seldon/mlflow/elastic_wine_$run_id"
   ]
  },
  {
   "cell_type": "code",
   "execution_count": 25,
   "id": "475bea68",
   "metadata": {},
   "outputs": [
    {
     "name": "stdout",
     "output_type": "stream",
     "text": [
      "gs://andrew-seldon/mlflow/elastic_wine_dffb498913d8423a93998d93b6f85817/MLmodel\n",
      "gs://andrew-seldon/mlflow/elastic_wine_dffb498913d8423a93998d93b6f85817/conda.yaml\n",
      "gs://andrew-seldon/mlflow/elastic_wine_dffb498913d8423a93998d93b6f85817/model.pkl\n",
      "gs://andrew-seldon/mlflow/elastic_wine_dffb498913d8423a93998d93b6f85817/python_env.yaml\n",
      "gs://andrew-seldon/mlflow/elastic_wine_dffb498913d8423a93998d93b6f85817/requirements.txt\n"
     ]
    }
   ],
   "source": [
    "!gsutil ls gs://andrew-seldon/mlflow/elastic_wine_$run_id"
   ]
  },
  {
   "cell_type": "markdown",
   "id": "2c919778",
   "metadata": {},
   "source": [
    "### 5. Deploy via the SDK"
   ]
  },
  {
   "cell_type": "markdown",
   "id": "3fa9fb6b",
   "metadata": {},
   "source": [
    "We will now deploy the model to Seldon Deploy using the SDK. Because the MLFlow server will need to create the conda environment, we propose two alternative methods for deployment:\n",
    "1. Manually set the liveness and readiness probes; deploy using the `seldon` protocol\n",
    "2. Conda-pack the environment; deploy using the `v2 protocol`"
   ]
  },
  {
   "cell_type": "markdown",
   "id": "c2695a82",
   "metadata": {},
   "source": [
    "Create a function to authenticate against the cluster.  Remember to replace `XXXXX` with your cluster IP."
   ]
  },
  {
   "cell_type": "code",
   "execution_count": 26,
   "id": "a19e1a58",
   "metadata": {},
   "outputs": [],
   "source": [
    "SD_IP = \"34.74.124.230\"\n",
    "\n",
    "config = Configuration()\n",
    "config.host = f\"http://{SD_IP}/seldon-deploy/api/v1alpha1\"\n",
    "config.oidc_client_id = \"sd-api\"\n",
    "config.oidc_server = f\"http://{SD_IP}/auth/realms/deploy-realm\"\n",
    "config.oidc_client_secret = \"sd-api-secret\"\n",
    "config.auth_method = \"client_credentials\"\n",
    "\n",
    "def auth():\n",
    "    auth = OIDCAuthenticator(config)\n",
    "    config.id_token = auth.authenticate()\n",
    "    api_client = ApiClient(configuration=config, authenticator=auth)\n",
    "    return api_client"
   ]
  },
  {
   "cell_type": "markdown",
   "id": "b8f590f2",
   "metadata": {},
   "source": [
    "#### Method 1: Deploy with the Seldon protocol"
   ]
  },
  {
   "cell_type": "markdown",
   "id": "62bb337b",
   "metadata": {},
   "source": [
    "During initialisation, the built-in reusable server will create the Conda environment specified on your conda.yaml file.  However, because this build can take some time, we must extend the initialDelaySeconds and failureThreshold for the probes on our deployment.\n",
    "\n",
    "To use the built-in MLflow server the following pre-requisites need to be met:\n",
    "\n",
    "* Your MLmodel artifact folder needs to be accessible remotely (e.g. in Google Storage).\n",
    "\n",
    "* Your model needs to be compatible with the python_function flavour.\n",
    "\n",
    "* Your MLproject environment needs to be specified using Conda.\n",
    "\n",
    "Note that your cluster will also need to be able to access the internet to download all the requirements in the conda environment."
   ]
  },
  {
   "cell_type": "markdown",
   "id": "6251e49e",
   "metadata": {},
   "source": [
    "Please set your name below to avoid namespace clashes in deployment:"
   ]
  },
  {
   "cell_type": "code",
   "execution_count": 27,
   "id": "7b77eb18",
   "metadata": {},
   "outputs": [],
   "source": [
    "your_name = \"andrew\""
   ]
  },
  {
   "cell_type": "code",
   "execution_count": 28,
   "id": "2ab94e71",
   "metadata": {},
   "outputs": [],
   "source": [
    "DEPLOYMENT_NAME = f\"wine-{your_name}-seldon\"\n",
    "NAMESPACE = \"seldon-demos\"\n",
    "MODEL_LOCATION = f\"gs://andrew-seldon/mlflow/elastic_wine_{run_id}\"\n",
    "\n",
    "mldeployment = {\n",
    "  \"apiVersion\": \"machinelearning.seldon.io/v1alpha2\",\n",
    "  \"kind\": \"SeldonDeployment\",\n",
    "  \"metadata\": {\n",
    "    \"name\": f\"{DEPLOYMENT_NAME}\",\n",
    "    \"namespace\": f\"{NAMESPACE}\"\n",
    "  },\n",
    "  \"spec\": {\n",
    "    \"name\": f\"{DEPLOYMENT_NAME}\",\n",
    "    \"protocol\":\"seldon\",\n",
    "    \"predictors\": [\n",
    "      {\n",
    "        \"componentSpecs\": [\n",
    "          {\n",
    "            \"spec\": {\n",
    "              \"containers\": [\n",
    "                {\n",
    "                  \"name\": f\"{DEPLOYMENT_NAME}-container\",\n",
    "                  # We are setting high failureThreshold as installing conda dependencies\n",
    "                  # can take a long time and we want to avoid k8s killing the container prematurely\n",
    "                  \"livenessProbe\": {\n",
    "                    \"initialDelaySeconds\": 100,\n",
    "                    \"failureThreshold\": 300,\n",
    "                    \"periodSeconds\": 5,\n",
    "                    \"successThreshold\": 1,\n",
    "                    \"httpGet\": {\n",
    "                      \"path\": \"/health/ping\",\n",
    "                      \"port\": \"http\",\n",
    "                      \"scheme\": \"HTTP\"\n",
    "                    }\n",
    "                  },\n",
    "                  \"readinessProbe\": {\n",
    "                    \"initialDelaySeconds\": 100,\n",
    "                    \"failureThreshold\": 300,\n",
    "                    \"periodSeconds\": 5,\n",
    "                    \"successThreshold\": 1,\n",
    "                    \"httpGet\": {\n",
    "                      \"path\": \"/health/ping\",\n",
    "                      \"port\": \"http\",\n",
    "                      \"scheme\": \"HTTP\"\n",
    "                    }\n",
    "                  }\n",
    "                }\n",
    "              ]\n",
    "            }\n",
    "          }\n",
    "        ],\n",
    "        \"graph\": {\n",
    "          \"children\": [],\n",
    "          \"implementation\": \"MLFLOW_SERVER\",\n",
    "          \"modelUri\": f\"{MODEL_LOCATION}\",\n",
    "          \"name\": f\"{DEPLOYMENT_NAME}-container\"\n",
    "        },\n",
    "        \"name\": \"default\",\n",
    "        \"replicas\": 1\n",
    "      }\n",
    "    ]\n",
    "  }\n",
    "}"
   ]
  },
  {
   "cell_type": "code",
   "execution_count": 29,
   "id": "c4642b11",
   "metadata": {},
   "outputs": [
    {
     "data": {
      "text/plain": [
       "{'api_version': 'machinelearning.seldon.io/v1alpha2',\n",
       " 'kind': 'SeldonDeployment',\n",
       " 'metadata': {'annotations': None,\n",
       "              'cluster_name': None,\n",
       "              'creation_timestamp': None,\n",
       "              'deletion_grace_period_seconds': None,\n",
       "              'deletion_timestamp': None,\n",
       "              'finalizers': None,\n",
       "              'generate_name': None,\n",
       "              'generation': None,\n",
       "              'labels': None,\n",
       "              'managed_fields': None,\n",
       "              'name': 'wine-andrew-seldon',\n",
       "              'namespace': 'seldon-demos',\n",
       "              'owner_references': None,\n",
       "              'resource_version': None,\n",
       "              'self_link': None,\n",
       "              'uid': None},\n",
       " 'spec': {'annotations': None,\n",
       "          'name': 'wine-andrew-seldon',\n",
       "          'oauth_key': None,\n",
       "          'oauth_secret': None,\n",
       "          'predictors': [{'annotations': None,\n",
       "                          'component_specs': [{'hpa_spec': None,\n",
       "                                               'keda_spec': None,\n",
       "                                               'metadata': {'annotations': None,\n",
       "                                                            'cluster_name': None,\n",
       "                                                            'creation_timestamp': '2022-10-17T12:22:48Z',\n",
       "                                                            'deletion_grace_period_seconds': None,\n",
       "                                                            'deletion_timestamp': None,\n",
       "                                                            'finalizers': None,\n",
       "                                                            'generate_name': None,\n",
       "                                                            'generation': None,\n",
       "                                                            'labels': None,\n",
       "                                                            'managed_fields': None,\n",
       "                                                            'name': None,\n",
       "                                                            'namespace': None,\n",
       "                                                            'owner_references': None,\n",
       "                                                            'resource_version': None,\n",
       "                                                            'self_link': None,\n",
       "                                                            'uid': None},\n",
       "                                               'pdb_spec': None,\n",
       "                                               'replicas': None,\n",
       "                                               'spec': {'active_deadline_seconds': None,\n",
       "                                                        'affinity': None,\n",
       "                                                        'automount_service_account_token': None,\n",
       "                                                        'containers': [{'args': None,\n",
       "                                                                        'command': None,\n",
       "                                                                        'env': None,\n",
       "                                                                        'env_from': None,\n",
       "                                                                        'image': None,\n",
       "                                                                        'image_pull_policy': None,\n",
       "                                                                        'lifecycle': None,\n",
       "                                                                        'liveness_probe': {'_exec': None,\n",
       "                                                                                           'failure_threshold': 300,\n",
       "                                                                                           'http_get': {'host': None,\n",
       "                                                                                                        'http_headers': None,\n",
       "                                                                                                        'path': '/health/ping',\n",
       "                                                                                                        'port': {'int_val': None,\n",
       "                                                                                                                 'str_val': None,\n",
       "                                                                                                                 'type': None},\n",
       "                                                                                                        'scheme': 'HTTP'},\n",
       "                                                                                           'initial_delay_seconds': 100,\n",
       "                                                                                           'period_seconds': 5,\n",
       "                                                                                           'success_threshold': 1,\n",
       "                                                                                           'tcp_socket': None,\n",
       "                                                                                           'timeout_seconds': None},\n",
       "                                                                        'name': 'wine-andrew-seldon-container',\n",
       "                                                                        'ports': None,\n",
       "                                                                        'readiness_probe': {'_exec': None,\n",
       "                                                                                            'failure_threshold': 300,\n",
       "                                                                                            'http_get': {'host': None,\n",
       "                                                                                                         'http_headers': None,\n",
       "                                                                                                         'path': '/health/ping',\n",
       "                                                                                                         'port': {'int_val': None,\n",
       "                                                                                                                  'str_val': None,\n",
       "                                                                                                                  'type': None},\n",
       "                                                                                                         'scheme': 'HTTP'},\n",
       "                                                                                            'initial_delay_seconds': 100,\n",
       "                                                                                            'period_seconds': 5,\n",
       "                                                                                            'success_threshold': 1,\n",
       "                                                                                            'tcp_socket': None,\n",
       "                                                                                            'timeout_seconds': None},\n",
       "                                                                        'resources': {'limits': None,\n",
       "                                                                                      'requests': None},\n",
       "                                                                        'security_context': None,\n",
       "                                                                        'startup_probe': None,\n",
       "                                                                        'stdin': None,\n",
       "                                                                        'stdin_once': None,\n",
       "                                                                        'termination_message_path': None,\n",
       "                                                                        'termination_message_policy': None,\n",
       "                                                                        'tty': None,\n",
       "                                                                        'volume_devices': None,\n",
       "                                                                        'volume_mounts': None,\n",
       "                                                                        'working_dir': None}],\n",
       "                                                        'dns_config': None,\n",
       "                                                        'dns_policy': None,\n",
       "                                                        'enable_service_links': None,\n",
       "                                                        'ephemeral_containers': None,\n",
       "                                                        'host_aliases': None,\n",
       "                                                        'host_ipc': None,\n",
       "                                                        'host_network': None,\n",
       "                                                        'host_pid': None,\n",
       "                                                        'hostname': None,\n",
       "                                                        'image_pull_secrets': None,\n",
       "                                                        'init_containers': None,\n",
       "                                                        'node_name': None,\n",
       "                                                        'node_selector': None,\n",
       "                                                        'overhead': None,\n",
       "                                                        'preemption_policy': None,\n",
       "                                                        'priority': None,\n",
       "                                                        'priority_class_name': None,\n",
       "                                                        'readiness_gates': None,\n",
       "                                                        'restart_policy': None,\n",
       "                                                        'runtime_class_name': None,\n",
       "                                                        'scheduler_name': None,\n",
       "                                                        'security_context': None,\n",
       "                                                        'service_account': None,\n",
       "                                                        'service_account_name': None,\n",
       "                                                        'set_hostname_as_fqdn': None,\n",
       "                                                        'share_process_namespace': None,\n",
       "                                                        'subdomain': None,\n",
       "                                                        'termination_grace_period_seconds': None,\n",
       "                                                        'tolerations': None,\n",
       "                                                        'topology_spread_constraints': None,\n",
       "                                                        'volumes': None}}],\n",
       "                          'engine_resources': {'limits': None,\n",
       "                                               'requests': None},\n",
       "                          'explainer': None,\n",
       "                          'graph': {'children': None,\n",
       "                                    'endpoint': None,\n",
       "                                    'env_secret_ref_name': None,\n",
       "                                    'implementation': 'MLFLOW_SERVER',\n",
       "                                    'logger': None,\n",
       "                                    'methods': None,\n",
       "                                    'model_uri': 'gs://andrew-seldon/mlflow/elastic_wine_dffb498913d8423a93998d93b6f85817',\n",
       "                                    'name': 'wine-andrew-seldon-container',\n",
       "                                    'parameters': None,\n",
       "                                    'service_account_name': None,\n",
       "                                    'storage_initializer_image': None,\n",
       "                                    'type': None},\n",
       "                          'labels': None,\n",
       "                          'name': 'default',\n",
       "                          'replicas': 1,\n",
       "                          'shadow': None,\n",
       "                          'ssl': None,\n",
       "                          'svc_orch_spec': {'env': None,\n",
       "                                            'replicas': None,\n",
       "                                            'resources': None},\n",
       "                          'traffic': None}],\n",
       "          'protocol': 'seldon',\n",
       "          'replicas': None,\n",
       "          'server_type': None,\n",
       "          'transport': None},\n",
       " 'status': {'address': None,\n",
       "            'annotations': None,\n",
       "            'conditions': None,\n",
       "            'deployment_status': None,\n",
       "            'description': None,\n",
       "            'observed_generation': None,\n",
       "            'replicas': None,\n",
       "            'service_status': None,\n",
       "            'state': None}}"
      ]
     },
     "execution_count": 29,
     "metadata": {},
     "output_type": "execute_result"
    }
   ],
   "source": [
    "deployment_api = SeldonDeploymentsApi(auth())\n",
    "deployment_api.create_seldon_deployment(namespace=NAMESPACE, mldeployment=mldeployment)"
   ]
  },
  {
   "cell_type": "markdown",
   "id": "7d4e9b87",
   "metadata": {},
   "source": [
    "Wait for the deployment to become available:"
   ]
  },
  {
   "cell_type": "code",
   "execution_count": null,
   "id": "77dc4d6f",
   "metadata": {},
   "outputs": [],
   "source": [
    "print(\"Waiting for Seldon Deployment to become available\")\n",
    "deployment_status = 'Not Ready'\n",
    "while deployment_status != \"Available\":\n",
    "    try:\n",
    "        api_response = deployment_api.read_seldon_deployment(DEPLOYMENT_NAME, NAMESPACE)\n",
    "        print(f\"Deployment Status: {api_response.status.state}\")\n",
    "        deployment_status = api_response.status.state\n",
    "    except ApiException as e:\n",
    "        print(\"Exception when calling SeldonDeploymentsApi->read_seldon_deployment: %s\\n\" % e)"
   ]
  },
  {
   "cell_type": "markdown",
   "id": "392a1e59",
   "metadata": {},
   "source": [
    "You can now test a prediction in the Seldon Deploy UI by using the following payload:\n",
    "\n",
    "```\n",
    "{\"data\": {\"names\": [], \"ndarray\": [[7.0, 0.27, 0.36, 20.7, 0.045, 45.0, 170.0, 1.001, 3.0, 0.45, 8.8]]}}\n",
    "```\n",
    "\n",
    "You should see a 200 response"
   ]
  },
  {
   "cell_type": "markdown",
   "id": "15dff0a1",
   "metadata": {},
   "source": [
    "#### Method 2: Deploy with the v2 protocol\n",
    "In order to use the v2 protocol, it is best to use [`conda-pack`](https://conda.github.io/conda-pack/) to locally save the conda environment (including mlserver) to a tar file.  The initialiser can then use this to install required dependencies into the container.  We are planning to simplify this workflow in future releases.\n",
    "\n",
    "Note that if you want to pack a specific conda environment, you can specify that environment like so: \n",
    "\n",
    "`conda pack -n my_env -o mlruns/0/$run_id/artifacts/model/environment.tar.gz -f`"
   ]
  },
  {
   "cell_type": "code",
   "execution_count": 30,
   "id": "bb02a767",
   "metadata": {},
   "outputs": [
    {
     "name": "stdout",
     "output_type": "stream",
     "text": [
      "Collecting packages...\n",
      "Packing environment at '/home/andrew/.asdf/installs/python/miniconda3-4.7.12/envs/mlflow-test' to 'mlruns/0/dffb498913d8423a93998d93b6f85817/artifacts/model/environment.tar.gz'\n",
      "[########################################] | 100% Completed | 18.7s\n"
     ]
    }
   ],
   "source": [
    "!conda pack -o mlruns/0/$run_id/artifacts/model/environment.tar.gz -f"
   ]
  },
  {
   "cell_type": "markdown",
   "id": "fd1f92a9",
   "metadata": {},
   "source": [
    "Push the environment.tar.gz file to Google Storage"
   ]
  },
  {
   "cell_type": "code",
   "execution_count": 31,
   "id": "4660159e",
   "metadata": {},
   "outputs": [
    {
     "name": "stdout",
     "output_type": "stream",
     "text": [
      "Copying file://mlruns/0/dffb498913d8423a93998d93b6f85817/artifacts/model/environment.tar.gz [Content-Type=application/x-tar]...\n",
      "==> NOTE: You are uploading one or more large file(s), which would run          \n",
      "significantly faster if you enable parallel composite uploads. This\n",
      "feature can be enabled by editing the\n",
      "\"parallel_composite_upload_threshold\" value in your .boto\n",
      "configuration file. However, note that if you do this large files will\n",
      "be uploaded as `composite objects\n",
      "<https://cloud.google.com/storage/docs/composite-objects>`_,which\n",
      "means that any user who downloads such objects will need to have a\n",
      "compiled crcmod installed (see \"gsutil help crcmod\"). This is because\n",
      "without a compiled crcmod, computing checksums on composite objects is\n",
      "so slow that gsutil disables downloads of composite objects.\n",
      "\n",
      "/ [1 files][217.6 MiB/217.6 MiB]                                                \n",
      "Operation completed over 1 objects/217.6 MiB.                                    \n"
     ]
    }
   ],
   "source": [
    "!gsutil cp -r mlruns/0/$run_id/artifacts/model/environment.tar.gz gs://andrew-seldon/mlflow/elastic_wine_$run_id/"
   ]
  },
  {
   "cell_type": "markdown",
   "id": "3f347116",
   "metadata": {},
   "source": [
    "It should be enough to simply specify the v2 protocol.  You no longer need to adjust the liveness and readiness probes.  Note that this deployment can also be done via the UI in Seldon Deploy."
   ]
  },
  {
   "cell_type": "code",
   "execution_count": 32,
   "id": "ae1a5c46",
   "metadata": {},
   "outputs": [],
   "source": [
    "DEPLOYMENT_NAME = f\"wine-{your_name}-v2\"\n",
    "NAMESPACE = \"seldon-demos\"\n",
    "MODEL_LOCATION = f\"gs://andrew-seldon/mlflow/elastic_wine_{run_id}\"\n",
    "\n",
    "\n",
    "mldeployment = {\n",
    "  \"apiVersion\": \"machinelearning.seldon.io/v1alpha2\",\n",
    "  \"kind\": \"SeldonDeployment\",\n",
    "  \"metadata\": {\n",
    "    \"name\": f\"{DEPLOYMENT_NAME}\",\n",
    "    \"namespace\": f\"{NAMESPACE}\"\n",
    "  },\n",
    "  \"spec\": {\n",
    "    \"protocol\": \"v2\",\n",
    "    \"name\": f\"{DEPLOYMENT_NAME}\",\n",
    "    \"predictors\": [\n",
    "      {\n",
    "        \"graph\": {\n",
    "          \"children\": [],\n",
    "          \"implementation\": \"MLFLOW_SERVER\",\n",
    "          \"modelUri\": f\"{MODEL_LOCATION}\",\n",
    "          \"name\": f\"{DEPLOYMENT_NAME}-container\"\n",
    "        },\n",
    "        \"name\": \"default\",\n",
    "        \"replicas\": 1\n",
    "      }\n",
    "    ]\n",
    "  }\n",
    "}"
   ]
  },
  {
   "cell_type": "code",
   "execution_count": 33,
   "id": "995cc81d",
   "metadata": {},
   "outputs": [
    {
     "data": {
      "text/plain": [
       "{'api_version': 'machinelearning.seldon.io/v1alpha2',\n",
       " 'kind': 'SeldonDeployment',\n",
       " 'metadata': {'annotations': None,\n",
       "              'cluster_name': None,\n",
       "              'creation_timestamp': None,\n",
       "              'deletion_grace_period_seconds': None,\n",
       "              'deletion_timestamp': None,\n",
       "              'finalizers': None,\n",
       "              'generate_name': None,\n",
       "              'generation': None,\n",
       "              'labels': None,\n",
       "              'managed_fields': None,\n",
       "              'name': 'wine-andrew-v2',\n",
       "              'namespace': 'seldon-demos',\n",
       "              'owner_references': None,\n",
       "              'resource_version': None,\n",
       "              'self_link': None,\n",
       "              'uid': None},\n",
       " 'spec': {'annotations': None,\n",
       "          'name': 'wine-andrew-v2',\n",
       "          'oauth_key': None,\n",
       "          'oauth_secret': None,\n",
       "          'predictors': [{'annotations': None,\n",
       "                          'component_specs': None,\n",
       "                          'engine_resources': {'limits': None,\n",
       "                                               'requests': None},\n",
       "                          'explainer': None,\n",
       "                          'graph': {'children': None,\n",
       "                                    'endpoint': None,\n",
       "                                    'env_secret_ref_name': None,\n",
       "                                    'implementation': 'MLFLOW_SERVER',\n",
       "                                    'logger': None,\n",
       "                                    'methods': None,\n",
       "                                    'model_uri': 'gs://andrew-seldon/mlflow/elastic_wine_dffb498913d8423a93998d93b6f85817',\n",
       "                                    'name': 'wine-andrew-v2-container',\n",
       "                                    'parameters': None,\n",
       "                                    'service_account_name': None,\n",
       "                                    'storage_initializer_image': None,\n",
       "                                    'type': None},\n",
       "                          'labels': None,\n",
       "                          'name': 'default',\n",
       "                          'replicas': 1,\n",
       "                          'shadow': None,\n",
       "                          'ssl': None,\n",
       "                          'svc_orch_spec': {'env': None,\n",
       "                                            'replicas': None,\n",
       "                                            'resources': None},\n",
       "                          'traffic': None}],\n",
       "          'protocol': 'v2',\n",
       "          'replicas': None,\n",
       "          'server_type': None,\n",
       "          'transport': None},\n",
       " 'status': {'address': None,\n",
       "            'annotations': None,\n",
       "            'conditions': None,\n",
       "            'deployment_status': None,\n",
       "            'description': None,\n",
       "            'observed_generation': None,\n",
       "            'replicas': None,\n",
       "            'service_status': None,\n",
       "            'state': None}}"
      ]
     },
     "execution_count": 33,
     "metadata": {},
     "output_type": "execute_result"
    }
   ],
   "source": [
    "deployment_api = SeldonDeploymentsApi(auth())\n",
    "deployment_api.create_seldon_deployment(namespace=NAMESPACE, mldeployment=mldeployment)"
   ]
  },
  {
   "cell_type": "markdown",
   "id": "cbfd1815",
   "metadata": {},
   "source": [
    "Wait until the deployment becomes available:"
   ]
  },
  {
   "cell_type": "code",
   "execution_count": 36,
   "id": "78842c53",
   "metadata": {},
   "outputs": [
    {
     "name": "stdout",
     "output_type": "stream",
     "text": [
      "Waiting for Seldon Deployment to become available\n",
      "Deployment Status: Available\n"
     ]
    }
   ],
   "source": [
    "print(\"Waiting for Seldon Deployment to become available\")\n",
    "deployment_status = 'Not Ready'\n",
    "while deployment_status != \"Available\":\n",
    "    try:\n",
    "        api_response = deployment_api.read_seldon_deployment(DEPLOYMENT_NAME, NAMESPACE)\n",
    "        print(f\"Deployment Status: {api_response.status.state}\")\n",
    "        deployment_status = api_response.status.state\n",
    "    except ApiException as e:\n",
    "        print(\"Exception when calling SeldonDeploymentsApi->read_seldon_deployment: %s\\n\" % e)"
   ]
  },
  {
   "cell_type": "markdown",
   "id": "83ef81c4",
   "metadata": {},
   "source": [
    "Once the model is deployed, you can now make an inference request.\n",
    "\n",
    "For the v2 protocol, the endpoint is constructed as follows: \n",
    "\n",
    "> http://`host`/seldon/`namespace`/`deployment-name`/v2/models/`model-name`/infer"
   ]
  },
  {
   "cell_type": "code",
   "execution_count": 44,
   "id": "90caa61c",
   "metadata": {},
   "outputs": [
    {
     "data": {
      "text/plain": [
       "'http://34.74.124.230/seldon/seldon-demos/wine-andrew-v2/v2/models/wine-andrew-v2-container/infer'"
      ]
     },
     "execution_count": 44,
     "metadata": {},
     "output_type": "execute_result"
    }
   ],
   "source": [
    "endpoint = f\"http://{SD_IP}/seldon/{NAMESPACE}/{DEPLOYMENT_NAME}/v2/models/{DEPLOYMENT_NAME}-container/infer\"\n",
    "endpoint"
   ]
  },
  {
   "cell_type": "markdown",
   "id": "90ae41f3",
   "metadata": {},
   "source": [
    "The v2 protocol is slightly more verbose than the seldon protocol.  The full API spec can be found [here](https://docs.seldon.io/projects/seldon-core/en/latest/reference/apis/v2-protocol.html).\n",
    "\n",
    "An array of `inputs` in required, with each input requiring a `name`, `shape`, `datatype`, and `data` (optionally parameters to specify the `content_type`)"
   ]
  },
  {
   "cell_type": "code",
   "execution_count": 135,
   "id": "787a8ddf",
   "metadata": {},
   "outputs": [],
   "source": [
    "inference_request = {\n",
    "    \"parameters\": {\n",
    "        \"content_type\": \"pd\"\n",
    "    },\n",
    "    \"inputs\": [\n",
    "        {\n",
    "          \"name\": \"fixed acidity\",\n",
    "          \"shape\": [1],\n",
    "          \"datatype\": \"FP32\",\n",
    "          \"data\": [7.4]\n",
    "        },\n",
    "        {\n",
    "          \"name\": \"volatile acidity\",\n",
    "          \"shape\": [1],\n",
    "          \"datatype\": \"FP32\",\n",
    "          \"data\": [0.7000]\n",
    "        },\n",
    "        {\n",
    "          \"name\": \"citric acidity\",\n",
    "          \"shape\": [1],\n",
    "          \"datatype\": \"FP32\",\n",
    "          \"data\": [0]\n",
    "        },\n",
    "        {\n",
    "          \"name\": \"residual sugar\",\n",
    "          \"shape\": [1],\n",
    "          \"datatype\": \"FP32\",\n",
    "          \"data\": [1.9]\n",
    "        },\n",
    "        {\n",
    "          \"name\": \"chlorides\",\n",
    "          \"shape\": [1],\n",
    "          \"datatype\": \"FP32\",\n",
    "          \"data\": [0.076]\n",
    "        },\n",
    "        {\n",
    "          \"name\": \"free sulfur dioxide\",\n",
    "          \"shape\": [1],\n",
    "          \"datatype\": \"FP32\",\n",
    "          \"data\": [11]\n",
    "        },\n",
    "        {\n",
    "          \"name\": \"total sulfur dioxide\",\n",
    "          \"shape\": [1],\n",
    "          \"datatype\": \"FP32\",\n",
    "          \"data\": [34]\n",
    "        },\n",
    "        {\n",
    "          \"name\": \"density\",\n",
    "          \"shape\": [1],\n",
    "          \"datatype\": \"FP32\",\n",
    "          \"data\": [0.9978]\n",
    "        },\n",
    "        {\n",
    "          \"name\": \"pH\",\n",
    "          \"shape\": [1],\n",
    "          \"datatype\": \"FP32\",\n",
    "          \"data\": [3.51]\n",
    "        },\n",
    "        {\n",
    "          \"name\": \"sulphates\",\n",
    "          \"shape\": [1],\n",
    "          \"datatype\": \"FP32\",\n",
    "          \"data\": [0.56]\n",
    "        },\n",
    "        {\n",
    "          \"name\": \"alcohol\",\n",
    "          \"shape\": [1],\n",
    "          \"datatype\": \"FP32\",\n",
    "          \"data\": [9.4]\n",
    "        }\n",
    "    ]\n",
    "}"
   ]
  },
  {
   "cell_type": "code",
   "execution_count": 136,
   "id": "dfefe931",
   "metadata": {},
   "outputs": [
    {
     "name": "stdout",
     "output_type": "stream",
     "text": [
      "{\n",
      "  \"model_name\": \"wine-andrew-v2-container\",\n",
      "  \"model_version\": \"v1\",\n",
      "  \"id\": \"c734ed0c-4bb4-4346-babe-74a2fba1b139\",\n",
      "  \"parameters\": {\n",
      "    \"content_type\": null,\n",
      "    \"headers\": null\n",
      "  },\n",
      "  \"outputs\": [\n",
      "    {\n",
      "      \"name\": \"output-1\",\n",
      "      \"shape\": [\n",
      "        1\n",
      "      ],\n",
      "      \"datatype\": \"FP64\",\n",
      "      \"parameters\": null,\n",
      "      \"data\": [\n",
      "        5.224716827480625\n",
      "      ]\n",
      "    }\n",
      "  ]\n",
      "}\n"
     ]
    }
   ],
   "source": [
    "response = requests.post(endpoint, json=inference_request)\n",
    "print(json.dumps(response.json(), indent=2))"
   ]
  },
  {
   "cell_type": "markdown",
   "id": "bbd654e7",
   "metadata": {},
   "source": [
    "### 7. Using MLServer Codecs"
   ]
  },
  {
   "cell_type": "markdown",
   "id": "d39483f2",
   "metadata": {},
   "source": [
    "Crafting the payload is quite a lot of effort to do manually.  MLServer builds upon the v2 inference protocol and adds the concept of **codecs**.  This enables you to easily encode your data (e.g. pandas dataframes, numpy arrays, strings, etc.) into the v2 protocol, and decode from the v2 protocol back into your preferred data type.  More details on this can be found in the MLServer docs [here](https://mlserver.readthedocs.io/en/latest/user-guide/content-type.html)."
   ]
  },
  {
   "cell_type": "code",
   "execution_count": 150,
   "id": "6241e6bd",
   "metadata": {},
   "outputs": [],
   "source": [
    "from mlserver.types import InferenceRequest, InferenceResponse\n",
    "from mlserver.codecs import PandasCodec, NumpyCodec"
   ]
  },
  {
   "cell_type": "markdown",
   "id": "5f50f0ff",
   "metadata": {},
   "source": [
    "Let's grab the first 5 lines in our original wine data, removing the target `quality`:"
   ]
  },
  {
   "cell_type": "code",
   "execution_count": 145,
   "id": "189475d1",
   "metadata": {},
   "outputs": [
    {
     "data": {
      "text/html": [
       "<div>\n",
       "<style scoped>\n",
       "    .dataframe tbody tr th:only-of-type {\n",
       "        vertical-align: middle;\n",
       "    }\n",
       "\n",
       "    .dataframe tbody tr th {\n",
       "        vertical-align: top;\n",
       "    }\n",
       "\n",
       "    .dataframe thead th {\n",
       "        text-align: right;\n",
       "    }\n",
       "</style>\n",
       "<table border=\"1\" class=\"dataframe\">\n",
       "  <thead>\n",
       "    <tr style=\"text-align: right;\">\n",
       "      <th></th>\n",
       "      <th>fixed acidity</th>\n",
       "      <th>volatile acidity</th>\n",
       "      <th>citric acid</th>\n",
       "      <th>residual sugar</th>\n",
       "      <th>chlorides</th>\n",
       "      <th>free sulfur dioxide</th>\n",
       "      <th>total sulfur dioxide</th>\n",
       "      <th>density</th>\n",
       "      <th>pH</th>\n",
       "      <th>sulphates</th>\n",
       "      <th>alcohol</th>\n",
       "    </tr>\n",
       "  </thead>\n",
       "  <tbody>\n",
       "    <tr>\n",
       "      <th>0</th>\n",
       "      <td>7.4</td>\n",
       "      <td>0.70</td>\n",
       "      <td>0.00</td>\n",
       "      <td>1.9</td>\n",
       "      <td>0.076</td>\n",
       "      <td>11.0</td>\n",
       "      <td>34.0</td>\n",
       "      <td>0.9978</td>\n",
       "      <td>3.51</td>\n",
       "      <td>0.56</td>\n",
       "      <td>9.4</td>\n",
       "    </tr>\n",
       "    <tr>\n",
       "      <th>1</th>\n",
       "      <td>7.8</td>\n",
       "      <td>0.88</td>\n",
       "      <td>0.00</td>\n",
       "      <td>2.6</td>\n",
       "      <td>0.098</td>\n",
       "      <td>25.0</td>\n",
       "      <td>67.0</td>\n",
       "      <td>0.9968</td>\n",
       "      <td>3.20</td>\n",
       "      <td>0.68</td>\n",
       "      <td>9.8</td>\n",
       "    </tr>\n",
       "    <tr>\n",
       "      <th>2</th>\n",
       "      <td>7.8</td>\n",
       "      <td>0.76</td>\n",
       "      <td>0.04</td>\n",
       "      <td>2.3</td>\n",
       "      <td>0.092</td>\n",
       "      <td>15.0</td>\n",
       "      <td>54.0</td>\n",
       "      <td>0.9970</td>\n",
       "      <td>3.26</td>\n",
       "      <td>0.65</td>\n",
       "      <td>9.8</td>\n",
       "    </tr>\n",
       "    <tr>\n",
       "      <th>3</th>\n",
       "      <td>11.2</td>\n",
       "      <td>0.28</td>\n",
       "      <td>0.56</td>\n",
       "      <td>1.9</td>\n",
       "      <td>0.075</td>\n",
       "      <td>17.0</td>\n",
       "      <td>60.0</td>\n",
       "      <td>0.9980</td>\n",
       "      <td>3.16</td>\n",
       "      <td>0.58</td>\n",
       "      <td>9.8</td>\n",
       "    </tr>\n",
       "    <tr>\n",
       "      <th>4</th>\n",
       "      <td>7.4</td>\n",
       "      <td>0.70</td>\n",
       "      <td>0.00</td>\n",
       "      <td>1.9</td>\n",
       "      <td>0.076</td>\n",
       "      <td>11.0</td>\n",
       "      <td>34.0</td>\n",
       "      <td>0.9978</td>\n",
       "      <td>3.51</td>\n",
       "      <td>0.56</td>\n",
       "      <td>9.4</td>\n",
       "    </tr>\n",
       "  </tbody>\n",
       "</table>\n",
       "</div>"
      ],
      "text/plain": [
       "   fixed acidity  volatile acidity  citric acid  residual sugar  chlorides  \\\n",
       "0            7.4              0.70         0.00             1.9      0.076   \n",
       "1            7.8              0.88         0.00             2.6      0.098   \n",
       "2            7.8              0.76         0.04             2.3      0.092   \n",
       "3           11.2              0.28         0.56             1.9      0.075   \n",
       "4            7.4              0.70         0.00             1.9      0.076   \n",
       "\n",
       "   free sulfur dioxide  total sulfur dioxide  density    pH  sulphates  \\\n",
       "0                 11.0                  34.0   0.9978  3.51       0.56   \n",
       "1                 25.0                  67.0   0.9968  3.20       0.68   \n",
       "2                 15.0                  54.0   0.9970  3.26       0.65   \n",
       "3                 17.0                  60.0   0.9980  3.16       0.58   \n",
       "4                 11.0                  34.0   0.9978  3.51       0.56   \n",
       "\n",
       "   alcohol  \n",
       "0      9.4  \n",
       "1      9.8  \n",
       "2      9.8  \n",
       "3      9.8  \n",
       "4      9.4  "
      ]
     },
     "execution_count": 145,
     "metadata": {},
     "output_type": "execute_result"
    }
   ],
   "source": [
    "pd_input = data.drop([\"quality\"], axis=1).head(5)\n",
    "pd_input"
   ]
  },
  {
   "cell_type": "markdown",
   "id": "537b5513",
   "metadata": {},
   "source": [
    "Next we will encode the request from a pandas dataframe to the v2 protocol using the `PandasCodec`:"
   ]
  },
  {
   "cell_type": "code",
   "execution_count": 152,
   "id": "b0e26eda",
   "metadata": {},
   "outputs": [
    {
     "data": {
      "text/plain": [
       "{'id': None,\n",
       " 'parameters': {'content_type': 'pd'},\n",
       " 'inputs': [{'name': 'fixed acidity',\n",
       "   'shape': [5],\n",
       "   'datatype': 'FP64',\n",
       "   'parameters': None,\n",
       "   'data': [7.4, 7.8, 7.8, 11.2, 7.4]},\n",
       "  {'name': 'volatile acidity',\n",
       "   'shape': [5],\n",
       "   'datatype': 'FP64',\n",
       "   'parameters': None,\n",
       "   'data': [0.7, 0.88, 0.76, 0.28, 0.7]},\n",
       "  {'name': 'citric acid',\n",
       "   'shape': [5],\n",
       "   'datatype': 'FP64',\n",
       "   'parameters': None,\n",
       "   'data': [0.0, 0.0, 0.04, 0.56, 0.0]},\n",
       "  {'name': 'residual sugar',\n",
       "   'shape': [5],\n",
       "   'datatype': 'FP64',\n",
       "   'parameters': None,\n",
       "   'data': [1.9, 2.6, 2.3, 1.9, 1.9]},\n",
       "  {'name': 'chlorides',\n",
       "   'shape': [5],\n",
       "   'datatype': 'FP64',\n",
       "   'parameters': None,\n",
       "   'data': [0.076, 0.098, 0.092, 0.075, 0.076]},\n",
       "  {'name': 'free sulfur dioxide',\n",
       "   'shape': [5],\n",
       "   'datatype': 'FP64',\n",
       "   'parameters': None,\n",
       "   'data': [11.0, 25.0, 15.0, 17.0, 11.0]},\n",
       "  {'name': 'total sulfur dioxide',\n",
       "   'shape': [5],\n",
       "   'datatype': 'FP64',\n",
       "   'parameters': None,\n",
       "   'data': [34.0, 67.0, 54.0, 60.0, 34.0]},\n",
       "  {'name': 'density',\n",
       "   'shape': [5],\n",
       "   'datatype': 'FP64',\n",
       "   'parameters': None,\n",
       "   'data': [0.9978, 0.9968, 0.997, 0.998, 0.9978]},\n",
       "  {'name': 'pH',\n",
       "   'shape': [5],\n",
       "   'datatype': 'FP64',\n",
       "   'parameters': None,\n",
       "   'data': [3.51, 3.2, 3.26, 3.16, 3.51]},\n",
       "  {'name': 'sulphates',\n",
       "   'shape': [5],\n",
       "   'datatype': 'FP64',\n",
       "   'parameters': None,\n",
       "   'data': [0.56, 0.68, 0.65, 0.58, 0.56]},\n",
       "  {'name': 'alcohol',\n",
       "   'shape': [5],\n",
       "   'datatype': 'FP64',\n",
       "   'parameters': None,\n",
       "   'data': [9.4, 9.8, 9.8, 9.8, 9.4]}],\n",
       " 'outputs': None}"
      ]
     },
     "execution_count": 152,
     "metadata": {},
     "output_type": "execute_result"
    }
   ],
   "source": [
    "request = PandasCodec.encode_request(pd_input)\n",
    "request.parameters = {\"content_type\": \"pd\"}\n",
    "request.dict()"
   ]
  },
  {
   "cell_type": "markdown",
   "id": "bcdf9753",
   "metadata": {},
   "source": [
    "We can now make our request, as we did before:"
   ]
  },
  {
   "cell_type": "code",
   "execution_count": 147,
   "id": "d6bf8388",
   "metadata": {},
   "outputs": [
    {
     "name": "stdout",
     "output_type": "stream",
     "text": [
      "{\n",
      "  \"model_name\": \"wine-andrew-v2-container\",\n",
      "  \"model_version\": \"v1\",\n",
      "  \"id\": \"be95825b-462f-4794-b250-24167b184490\",\n",
      "  \"parameters\": {\n",
      "    \"content_type\": null,\n",
      "    \"headers\": null\n",
      "  },\n",
      "  \"outputs\": [\n",
      "    {\n",
      "      \"name\": \"output-1\",\n",
      "      \"shape\": [\n",
      "        5\n",
      "      ],\n",
      "      \"datatype\": \"FP64\",\n",
      "      \"parameters\": null,\n",
      "      \"data\": [\n",
      "        5.224716933810146,\n",
      "        5.319611374845643,\n",
      "        5.317555257829017,\n",
      "        5.612144611164206,\n",
      "        5.224716933810146\n",
      "      ]\n",
      "    }\n",
      "  ]\n",
      "}\n"
     ]
    }
   ],
   "source": [
    "response = requests.post(endpoint, json=request.dict())\n",
    "print(json.dumps(response.json(), indent=2))"
   ]
  },
  {
   "cell_type": "markdown",
   "id": "a9785dc9",
   "metadata": {},
   "source": [
    "Finally, we parse the output response by turning it into an `InferenceResponse` object, and decoding it using the `NumpyCodec` "
   ]
  },
  {
   "cell_type": "code",
   "execution_count": 151,
   "id": "e5e293d3",
   "metadata": {},
   "outputs": [
    {
     "name": "stdout",
     "output_type": "stream",
     "text": [
      "[5.22471693 5.31961137 5.31755526 5.61214461 5.22471693]\n"
     ]
    }
   ],
   "source": [
    "response_payload = InferenceResponse.parse_raw(response.text)\n",
    "print(NumpyCodec.decode_output(response_payload.outputs[0]))"
   ]
  }
 ],
 "metadata": {
  "kernelspec": {
   "display_name": "Python 3.8.13 ('mlflow-test')",
   "language": "python",
   "name": "python3"
  },
  "language_info": {
   "codemirror_mode": {
    "name": "ipython",
    "version": 3
   },
   "file_extension": ".py",
   "mimetype": "text/x-python",
   "name": "python",
   "nbconvert_exporter": "python",
   "pygments_lexer": "ipython3",
   "version": "3.8.13"
  },
  "vscode": {
   "interpreter": {
    "hash": "190e25a5604f4b3c4c83c0168701dd06414d37793c45f4f3498875d6f0be9d1b"
   }
  }
 },
 "nbformat": 4,
 "nbformat_minor": 5
}
